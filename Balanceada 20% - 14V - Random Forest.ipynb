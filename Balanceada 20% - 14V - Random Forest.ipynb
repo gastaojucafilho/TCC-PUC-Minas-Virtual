{
 "cells": [
  {
   "cell_type": "markdown",
   "metadata": {},
   "source": [
    "#  Atividades previstas para este Notebook:\n",
    "> 1. Carregar a tabela **olist_ibge_under_sampled_20**  \n",
    "\n",
    "> 2. Ajustá-lo para ter um modelo aplicado a si.  \n",
    "\n",
    "\n",
    "> 3. Aplicar o modelo Random Forest.  \n",
    "\n",
    "> 4. Com as variáveis selecionadas conforme o título do notebook"
   ]
  },
  {
   "cell_type": "markdown",
   "metadata": {},
   "source": [
    "##  1 - Importação de bibliotecas necessárias"
   ]
  },
  {
   "cell_type": "code",
   "execution_count": 1,
   "metadata": {},
   "outputs": [],
   "source": [
    "import pandas as pd\n",
    "import numpy as np\n",
    "pd.options.display.float_format = '{:,.2f}'.format\n",
    "pd.set_option('display.max_columns', None)\n",
    "pd.set_option('display.max_rows', None)\n",
    "# pd.options.display.max_columns = 100\n"
   ]
  },
  {
   "cell_type": "markdown",
   "metadata": {},
   "source": [
    "## 2 - Importação da tabela <font color=red>'olist_ibge_under_sampled_20'</font> "
   ]
  },
  {
   "cell_type": "code",
   "execution_count": 2,
   "metadata": {},
   "outputs": [],
   "source": [
    "olist_ibge_under_sampled_ruido = pd.read_excel('olist_ibge_under_sampled_20.xlsx', sheet_name = \"Sheet1\", header = 0, index_col=None) # sem dtype = 'object'"
   ]
  },
  {
   "cell_type": "code",
   "execution_count": 3,
   "metadata": {},
   "outputs": [
    {
     "name": "stdout",
     "output_type": "stream",
     "text": [
      "<class 'pandas.core.frame.DataFrame'>\n",
      "RangeIndex: 34481 entries, 0 to 34480\n",
      "Data columns (total 16 columns):\n",
      " #   Column                    Non-Null Count  Dtype  \n",
      "---  ------                    --------------  -----  \n",
      " 0   Unnamed: 0                34481 non-null  int64  \n",
      " 1   qtde_credit_card          34481 non-null  int64  \n",
      " 2   qtde_debit_card           34481 non-null  int64  \n",
      " 3   qtde_voucher              34481 non-null  int64  \n",
      " 4   soma_payment              34481 non-null  float64\n",
      " 5   qtde_installments         34481 non-null  int64  \n",
      " 6   AR_MUN_2018               34481 non-null  float64\n",
      " 7   PIB                       34481 non-null  float64\n",
      " 8   gini                      34481 non-null  float64\n",
      " 9   dias                      34481 non-null  float64\n",
      " 10  humor                     34481 non-null  int64  \n",
      " 11  le_product_id             34481 non-null  int64  \n",
      " 12  le_seller_id              34481 non-null  int64  \n",
      " 13  le_product_category_name  34481 non-null  int64  \n",
      " 14  le_sigla_state            34481 non-null  int64  \n",
      " 15  le_seller_sigla_state     34481 non-null  int64  \n",
      "dtypes: float64(5), int64(11)\n",
      "memory usage: 4.2 MB\n"
     ]
    }
   ],
   "source": [
    "olist_ibge_under_sampled_ruido.info()"
   ]
  },
  {
   "cell_type": "markdown",
   "metadata": {},
   "source": [
    "### 2.1 - Deletar a coluna  <font color=red>'Unnamed: 0'</font>  \n",
    "> Ela é um ruído que sempre surge ao importarmos um arquivo para um DataFrame"
   ]
  },
  {
   "cell_type": "code",
   "execution_count": 4,
   "metadata": {},
   "outputs": [],
   "source": [
    "olist_ibge_under_sampled = olist_ibge_under_sampled_ruido.drop(['Unnamed: 0'], axis=1)"
   ]
  },
  {
   "cell_type": "code",
   "execution_count": 5,
   "metadata": {},
   "outputs": [
    {
     "data": {
      "text/plain": [
       "((34481, 15), (34481, 16))"
      ]
     },
     "execution_count": 5,
     "metadata": {},
     "output_type": "execute_result"
    }
   ],
   "source": [
    "olist_ibge_under_sampled.shape, olist_ibge_under_sampled_ruido.shape"
   ]
  },
  {
   "cell_type": "code",
   "execution_count": 6,
   "metadata": {},
   "outputs": [
    {
     "data": {
      "text/html": [
       "<div>\n",
       "<style scoped>\n",
       "    .dataframe tbody tr th:only-of-type {\n",
       "        vertical-align: middle;\n",
       "    }\n",
       "\n",
       "    .dataframe tbody tr th {\n",
       "        vertical-align: top;\n",
       "    }\n",
       "\n",
       "    .dataframe thead th {\n",
       "        text-align: right;\n",
       "    }\n",
       "</style>\n",
       "<table border=\"1\" class=\"dataframe\">\n",
       "  <thead>\n",
       "    <tr style=\"text-align: right;\">\n",
       "      <th></th>\n",
       "      <th>qtde_credit_card</th>\n",
       "      <th>qtde_debit_card</th>\n",
       "      <th>qtde_voucher</th>\n",
       "      <th>soma_payment</th>\n",
       "      <th>qtde_installments</th>\n",
       "      <th>AR_MUN_2018</th>\n",
       "      <th>PIB</th>\n",
       "      <th>gini</th>\n",
       "      <th>dias</th>\n",
       "      <th>humor</th>\n",
       "      <th>le_product_id</th>\n",
       "      <th>le_seller_id</th>\n",
       "      <th>le_product_category_name</th>\n",
       "      <th>le_sigla_state</th>\n",
       "      <th>le_seller_sigla_state</th>\n",
       "    </tr>\n",
       "  </thead>\n",
       "  <tbody>\n",
       "    <tr>\n",
       "      <th>0</th>\n",
       "      <td>1</td>\n",
       "      <td>0</td>\n",
       "      <td>0</td>\n",
       "      <td>26.85</td>\n",
       "      <td>1</td>\n",
       "      <td>290.60</td>\n",
       "      <td>3,856,232.73</td>\n",
       "      <td>0.86</td>\n",
       "      <td>5.17</td>\n",
       "      <td>1</td>\n",
       "      <td>20461</td>\n",
       "      <td>2340</td>\n",
       "      <td>44</td>\n",
       "      <td>25</td>\n",
       "      <td>21</td>\n",
       "    </tr>\n",
       "    <tr>\n",
       "      <th>1</th>\n",
       "      <td>1</td>\n",
       "      <td>0</td>\n",
       "      <td>0</td>\n",
       "      <td>33.10</td>\n",
       "      <td>3</td>\n",
       "      <td>331.40</td>\n",
       "      <td>88,277,462.53</td>\n",
       "      <td>0.86</td>\n",
       "      <td>9.12</td>\n",
       "      <td>1</td>\n",
       "      <td>7773</td>\n",
       "      <td>371</td>\n",
       "      <td>70</td>\n",
       "      <td>10</td>\n",
       "      <td>21</td>\n",
       "    </tr>\n",
       "    <tr>\n",
       "      <th>2</th>\n",
       "      <td>1</td>\n",
       "      <td>0</td>\n",
       "      <td>0</td>\n",
       "      <td>83.23</td>\n",
       "      <td>8</td>\n",
       "      <td>869.44</td>\n",
       "      <td>450,930.71</td>\n",
       "      <td>0.75</td>\n",
       "      <td>14.29</td>\n",
       "      <td>1</td>\n",
       "      <td>27842</td>\n",
       "      <td>2850</td>\n",
       "      <td>59</td>\n",
       "      <td>7</td>\n",
       "      <td>21</td>\n",
       "    </tr>\n",
       "    <tr>\n",
       "      <th>3</th>\n",
       "      <td>1</td>\n",
       "      <td>0</td>\n",
       "      <td>0</td>\n",
       "      <td>33.34</td>\n",
       "      <td>1</td>\n",
       "      <td>1,521.11</td>\n",
       "      <td>687,035,889.61</td>\n",
       "      <td>0.90</td>\n",
       "      <td>3.89</td>\n",
       "      <td>1</td>\n",
       "      <td>25451</td>\n",
       "      <td>459</td>\n",
       "      <td>49</td>\n",
       "      <td>25</td>\n",
       "      <td>21</td>\n",
       "    </tr>\n",
       "    <tr>\n",
       "      <th>4</th>\n",
       "      <td>1</td>\n",
       "      <td>0</td>\n",
       "      <td>0</td>\n",
       "      <td>233.69</td>\n",
       "      <td>10</td>\n",
       "      <td>1,200.26</td>\n",
       "      <td>329,431,359.90</td>\n",
       "      <td>0.78</td>\n",
       "      <td>11.45</td>\n",
       "      <td>1</td>\n",
       "      <td>9247</td>\n",
       "      <td>2161</td>\n",
       "      <td>30</td>\n",
       "      <td>18</td>\n",
       "      <td>21</td>\n",
       "    </tr>\n",
       "  </tbody>\n",
       "</table>\n",
       "</div>"
      ],
      "text/plain": [
       "   qtde_credit_card  qtde_debit_card  qtde_voucher  soma_payment  \\\n",
       "0                 1                0             0         26.85   \n",
       "1                 1                0             0         33.10   \n",
       "2                 1                0             0         83.23   \n",
       "3                 1                0             0         33.34   \n",
       "4                 1                0             0        233.69   \n",
       "\n",
       "   qtde_installments  AR_MUN_2018            PIB  gini  dias  humor  \\\n",
       "0                  1       290.60   3,856,232.73  0.86  5.17      1   \n",
       "1                  3       331.40  88,277,462.53  0.86  9.12      1   \n",
       "2                  8       869.44     450,930.71  0.75 14.29      1   \n",
       "3                  1     1,521.11 687,035,889.61  0.90  3.89      1   \n",
       "4                 10     1,200.26 329,431,359.90  0.78 11.45      1   \n",
       "\n",
       "   le_product_id  le_seller_id  le_product_category_name  le_sigla_state  \\\n",
       "0          20461          2340                        44              25   \n",
       "1           7773           371                        70              10   \n",
       "2          27842          2850                        59               7   \n",
       "3          25451           459                        49              25   \n",
       "4           9247          2161                        30              18   \n",
       "\n",
       "   le_seller_sigla_state  \n",
       "0                     21  \n",
       "1                     21  \n",
       "2                     21  \n",
       "3                     21  \n",
       "4                     21  "
      ]
     },
     "execution_count": 6,
     "metadata": {},
     "output_type": "execute_result"
    }
   ],
   "source": [
    "olist_ibge_under_sampled.head()"
   ]
  },
  {
   "cell_type": "code",
   "execution_count": 7,
   "metadata": {},
   "outputs": [
    {
     "data": {
      "text/plain": [
       "qtde_credit_card            0\n",
       "qtde_debit_card             0\n",
       "qtde_voucher                0\n",
       "soma_payment                0\n",
       "qtde_installments           0\n",
       "AR_MUN_2018                 0\n",
       "PIB                         0\n",
       "gini                        0\n",
       "dias                        0\n",
       "humor                       0\n",
       "le_product_id               0\n",
       "le_seller_id                0\n",
       "le_product_category_name    0\n",
       "le_sigla_state              0\n",
       "le_seller_sigla_state       0\n",
       "dtype: int64"
      ]
     },
     "execution_count": 7,
     "metadata": {},
     "output_type": "execute_result"
    }
   ],
   "source": [
    "olist_ibge_under_sampled.isna().sum()"
   ]
  },
  {
   "cell_type": "markdown",
   "metadata": {},
   "source": [
    "### Separar as explicativas da variável 'target' (variável alvo, a ser prevista)."
   ]
  },
  {
   "cell_type": "code",
   "execution_count": 8,
   "metadata": {},
   "outputs": [],
   "source": [
    "explicativas = olist_ibge_under_sampled.drop(columns=['humor'])\n",
    "target = olist_ibge_under_sampled['humor']"
   ]
  },
  {
   "cell_type": "code",
   "execution_count": 9,
   "metadata": {},
   "outputs": [
    {
     "data": {
      "text/html": [
       "<div>\n",
       "<style scoped>\n",
       "    .dataframe tbody tr th:only-of-type {\n",
       "        vertical-align: middle;\n",
       "    }\n",
       "\n",
       "    .dataframe tbody tr th {\n",
       "        vertical-align: top;\n",
       "    }\n",
       "\n",
       "    .dataframe thead th {\n",
       "        text-align: right;\n",
       "    }\n",
       "</style>\n",
       "<table border=\"1\" class=\"dataframe\">\n",
       "  <thead>\n",
       "    <tr style=\"text-align: right;\">\n",
       "      <th></th>\n",
       "      <th>qtde_credit_card</th>\n",
       "      <th>qtde_debit_card</th>\n",
       "      <th>qtde_voucher</th>\n",
       "      <th>soma_payment</th>\n",
       "      <th>qtde_installments</th>\n",
       "      <th>AR_MUN_2018</th>\n",
       "      <th>PIB</th>\n",
       "      <th>gini</th>\n",
       "      <th>dias</th>\n",
       "      <th>le_product_id</th>\n",
       "      <th>le_seller_id</th>\n",
       "      <th>le_product_category_name</th>\n",
       "      <th>le_sigla_state</th>\n",
       "      <th>le_seller_sigla_state</th>\n",
       "    </tr>\n",
       "  </thead>\n",
       "  <tbody>\n",
       "    <tr>\n",
       "      <th>0</th>\n",
       "      <td>1</td>\n",
       "      <td>0</td>\n",
       "      <td>0</td>\n",
       "      <td>26.85</td>\n",
       "      <td>1</td>\n",
       "      <td>290.60</td>\n",
       "      <td>3,856,232.73</td>\n",
       "      <td>0.86</td>\n",
       "      <td>5.17</td>\n",
       "      <td>20461</td>\n",
       "      <td>2340</td>\n",
       "      <td>44</td>\n",
       "      <td>25</td>\n",
       "      <td>21</td>\n",
       "    </tr>\n",
       "    <tr>\n",
       "      <th>1</th>\n",
       "      <td>1</td>\n",
       "      <td>0</td>\n",
       "      <td>0</td>\n",
       "      <td>33.10</td>\n",
       "      <td>3</td>\n",
       "      <td>331.40</td>\n",
       "      <td>88,277,462.53</td>\n",
       "      <td>0.86</td>\n",
       "      <td>9.12</td>\n",
       "      <td>7773</td>\n",
       "      <td>371</td>\n",
       "      <td>70</td>\n",
       "      <td>10</td>\n",
       "      <td>21</td>\n",
       "    </tr>\n",
       "    <tr>\n",
       "      <th>2</th>\n",
       "      <td>1</td>\n",
       "      <td>0</td>\n",
       "      <td>0</td>\n",
       "      <td>83.23</td>\n",
       "      <td>8</td>\n",
       "      <td>869.44</td>\n",
       "      <td>450,930.71</td>\n",
       "      <td>0.75</td>\n",
       "      <td>14.29</td>\n",
       "      <td>27842</td>\n",
       "      <td>2850</td>\n",
       "      <td>59</td>\n",
       "      <td>7</td>\n",
       "      <td>21</td>\n",
       "    </tr>\n",
       "    <tr>\n",
       "      <th>3</th>\n",
       "      <td>1</td>\n",
       "      <td>0</td>\n",
       "      <td>0</td>\n",
       "      <td>33.34</td>\n",
       "      <td>1</td>\n",
       "      <td>1,521.11</td>\n",
       "      <td>687,035,889.61</td>\n",
       "      <td>0.90</td>\n",
       "      <td>3.89</td>\n",
       "      <td>25451</td>\n",
       "      <td>459</td>\n",
       "      <td>49</td>\n",
       "      <td>25</td>\n",
       "      <td>21</td>\n",
       "    </tr>\n",
       "    <tr>\n",
       "      <th>4</th>\n",
       "      <td>1</td>\n",
       "      <td>0</td>\n",
       "      <td>0</td>\n",
       "      <td>233.69</td>\n",
       "      <td>10</td>\n",
       "      <td>1,200.26</td>\n",
       "      <td>329,431,359.90</td>\n",
       "      <td>0.78</td>\n",
       "      <td>11.45</td>\n",
       "      <td>9247</td>\n",
       "      <td>2161</td>\n",
       "      <td>30</td>\n",
       "      <td>18</td>\n",
       "      <td>21</td>\n",
       "    </tr>\n",
       "  </tbody>\n",
       "</table>\n",
       "</div>"
      ],
      "text/plain": [
       "   qtde_credit_card  qtde_debit_card  qtde_voucher  soma_payment  \\\n",
       "0                 1                0             0         26.85   \n",
       "1                 1                0             0         33.10   \n",
       "2                 1                0             0         83.23   \n",
       "3                 1                0             0         33.34   \n",
       "4                 1                0             0        233.69   \n",
       "\n",
       "   qtde_installments  AR_MUN_2018            PIB  gini  dias  le_product_id  \\\n",
       "0                  1       290.60   3,856,232.73  0.86  5.17          20461   \n",
       "1                  3       331.40  88,277,462.53  0.86  9.12           7773   \n",
       "2                  8       869.44     450,930.71  0.75 14.29          27842   \n",
       "3                  1     1,521.11 687,035,889.61  0.90  3.89          25451   \n",
       "4                 10     1,200.26 329,431,359.90  0.78 11.45           9247   \n",
       "\n",
       "   le_seller_id  le_product_category_name  le_sigla_state  \\\n",
       "0          2340                        44              25   \n",
       "1           371                        70              10   \n",
       "2          2850                        59               7   \n",
       "3           459                        49              25   \n",
       "4          2161                        30              18   \n",
       "\n",
       "   le_seller_sigla_state  \n",
       "0                     21  \n",
       "1                     21  \n",
       "2                     21  \n",
       "3                     21  \n",
       "4                     21  "
      ]
     },
     "execution_count": 9,
     "metadata": {},
     "output_type": "execute_result"
    }
   ],
   "source": [
    "explicativas.head()"
   ]
  },
  {
   "cell_type": "code",
   "execution_count": 10,
   "metadata": {},
   "outputs": [
    {
     "data": {
      "text/plain": [
       "qtde_credit_card              int64\n",
       "qtde_debit_card               int64\n",
       "qtde_voucher                  int64\n",
       "soma_payment                float64\n",
       "qtde_installments             int64\n",
       "AR_MUN_2018                 float64\n",
       "PIB                         float64\n",
       "gini                        float64\n",
       "dias                        float64\n",
       "le_product_id                 int64\n",
       "le_seller_id                  int64\n",
       "le_product_category_name      int64\n",
       "le_sigla_state                int64\n",
       "le_seller_sigla_state         int64\n",
       "dtype: object"
      ]
     },
     "execution_count": 10,
     "metadata": {},
     "output_type": "execute_result"
    }
   ],
   "source": [
    "explicativas.dtypes"
   ]
  },
  {
   "cell_type": "code",
   "execution_count": 11,
   "metadata": {},
   "outputs": [
    {
     "data": {
      "text/plain": [
       "0    1\n",
       "1    1\n",
       "2    1\n",
       "3    1\n",
       "4    1\n",
       "Name: humor, dtype: int64"
      ]
     },
     "execution_count": 11,
     "metadata": {},
     "output_type": "execute_result"
    }
   ],
   "source": [
    "target.head()"
   ]
  },
  {
   "cell_type": "markdown",
   "metadata": {},
   "source": [
    "## Criação de dataframe com variaveis selecionadas  \n",
    "> Todas as variáveis selecionadas, exceto as de alta cardinalidade."
   ]
  },
  {
   "cell_type": "code",
   "execution_count": 12,
   "metadata": {},
   "outputs": [
    {
     "data": {
      "text/html": [
       "<div>\n",
       "<style scoped>\n",
       "    .dataframe tbody tr th:only-of-type {\n",
       "        vertical-align: middle;\n",
       "    }\n",
       "\n",
       "    .dataframe tbody tr th {\n",
       "        vertical-align: top;\n",
       "    }\n",
       "\n",
       "    .dataframe thead th {\n",
       "        text-align: right;\n",
       "    }\n",
       "</style>\n",
       "<table border=\"1\" class=\"dataframe\">\n",
       "  <thead>\n",
       "    <tr style=\"text-align: right;\">\n",
       "      <th></th>\n",
       "      <th>qtde_credit_card</th>\n",
       "      <th>qtde_debit_card</th>\n",
       "      <th>qtde_voucher</th>\n",
       "      <th>soma_payment</th>\n",
       "      <th>qtde_installments</th>\n",
       "      <th>AR_MUN_2018</th>\n",
       "      <th>PIB</th>\n",
       "      <th>gini</th>\n",
       "      <th>dias</th>\n",
       "      <th>le_product_id</th>\n",
       "      <th>le_seller_id</th>\n",
       "      <th>le_product_category_name</th>\n",
       "      <th>le_sigla_state</th>\n",
       "      <th>le_seller_sigla_state</th>\n",
       "    </tr>\n",
       "  </thead>\n",
       "  <tbody>\n",
       "    <tr>\n",
       "      <th>0</th>\n",
       "      <td>1</td>\n",
       "      <td>0</td>\n",
       "      <td>0</td>\n",
       "      <td>26.85</td>\n",
       "      <td>1</td>\n",
       "      <td>290.60</td>\n",
       "      <td>3,856,232.73</td>\n",
       "      <td>0.86</td>\n",
       "      <td>5.17</td>\n",
       "      <td>20461</td>\n",
       "      <td>2340</td>\n",
       "      <td>44</td>\n",
       "      <td>25</td>\n",
       "      <td>21</td>\n",
       "    </tr>\n",
       "    <tr>\n",
       "      <th>1</th>\n",
       "      <td>1</td>\n",
       "      <td>0</td>\n",
       "      <td>0</td>\n",
       "      <td>33.10</td>\n",
       "      <td>3</td>\n",
       "      <td>331.40</td>\n",
       "      <td>88,277,462.53</td>\n",
       "      <td>0.86</td>\n",
       "      <td>9.12</td>\n",
       "      <td>7773</td>\n",
       "      <td>371</td>\n",
       "      <td>70</td>\n",
       "      <td>10</td>\n",
       "      <td>21</td>\n",
       "    </tr>\n",
       "    <tr>\n",
       "      <th>2</th>\n",
       "      <td>1</td>\n",
       "      <td>0</td>\n",
       "      <td>0</td>\n",
       "      <td>83.23</td>\n",
       "      <td>8</td>\n",
       "      <td>869.44</td>\n",
       "      <td>450,930.71</td>\n",
       "      <td>0.75</td>\n",
       "      <td>14.29</td>\n",
       "      <td>27842</td>\n",
       "      <td>2850</td>\n",
       "      <td>59</td>\n",
       "      <td>7</td>\n",
       "      <td>21</td>\n",
       "    </tr>\n",
       "    <tr>\n",
       "      <th>3</th>\n",
       "      <td>1</td>\n",
       "      <td>0</td>\n",
       "      <td>0</td>\n",
       "      <td>33.34</td>\n",
       "      <td>1</td>\n",
       "      <td>1,521.11</td>\n",
       "      <td>687,035,889.61</td>\n",
       "      <td>0.90</td>\n",
       "      <td>3.89</td>\n",
       "      <td>25451</td>\n",
       "      <td>459</td>\n",
       "      <td>49</td>\n",
       "      <td>25</td>\n",
       "      <td>21</td>\n",
       "    </tr>\n",
       "    <tr>\n",
       "      <th>4</th>\n",
       "      <td>1</td>\n",
       "      <td>0</td>\n",
       "      <td>0</td>\n",
       "      <td>233.69</td>\n",
       "      <td>10</td>\n",
       "      <td>1,200.26</td>\n",
       "      <td>329,431,359.90</td>\n",
       "      <td>0.78</td>\n",
       "      <td>11.45</td>\n",
       "      <td>9247</td>\n",
       "      <td>2161</td>\n",
       "      <td>30</td>\n",
       "      <td>18</td>\n",
       "      <td>21</td>\n",
       "    </tr>\n",
       "  </tbody>\n",
       "</table>\n",
       "</div>"
      ],
      "text/plain": [
       "   qtde_credit_card  qtde_debit_card  qtde_voucher  soma_payment  \\\n",
       "0                 1                0             0         26.85   \n",
       "1                 1                0             0         33.10   \n",
       "2                 1                0             0         83.23   \n",
       "3                 1                0             0         33.34   \n",
       "4                 1                0             0        233.69   \n",
       "\n",
       "   qtde_installments  AR_MUN_2018            PIB  gini  dias  le_product_id  \\\n",
       "0                  1       290.60   3,856,232.73  0.86  5.17          20461   \n",
       "1                  3       331.40  88,277,462.53  0.86  9.12           7773   \n",
       "2                  8       869.44     450,930.71  0.75 14.29          27842   \n",
       "3                  1     1,521.11 687,035,889.61  0.90  3.89          25451   \n",
       "4                 10     1,200.26 329,431,359.90  0.78 11.45           9247   \n",
       "\n",
       "   le_seller_id  le_product_category_name  le_sigla_state  \\\n",
       "0          2340                        44              25   \n",
       "1           371                        70              10   \n",
       "2          2850                        59               7   \n",
       "3           459                        49              25   \n",
       "4          2161                        30              18   \n",
       "\n",
       "   le_seller_sigla_state  \n",
       "0                     21  \n",
       "1                     21  \n",
       "2                     21  \n",
       "3                     21  \n",
       "4                     21  "
      ]
     },
     "execution_count": 12,
     "metadata": {},
     "output_type": "execute_result"
    }
   ],
   "source": [
    "# Rodaremos os modelos com 05 (cinco) variáveis explicativas\n",
    "# Aquelas que foram mais votadas.\n",
    "expl = explicativas[['qtde_credit_card', 'qtde_debit_card', 'qtde_voucher', 'soma_payment', 'qtde_installments', 'AR_MUN_2018', 'PIB', 'gini', 'dias', 'le_product_id', 'le_seller_id', 'le_product_category_name', 'le_sigla_state', 'le_seller_sigla_state']]\n",
    "\n",
    "expl.head()\n"
   ]
  },
  {
   "cell_type": "code",
   "execution_count": 13,
   "metadata": {},
   "outputs": [
    {
     "name": "stdout",
     "output_type": "stream",
     "text": [
      "<class 'pandas.core.frame.DataFrame'>\n",
      "RangeIndex: 34481 entries, 0 to 34480\n",
      "Data columns (total 14 columns):\n",
      " #   Column                    Non-Null Count  Dtype  \n",
      "---  ------                    --------------  -----  \n",
      " 0   qtde_credit_card          34481 non-null  int64  \n",
      " 1   qtde_debit_card           34481 non-null  int64  \n",
      " 2   qtde_voucher              34481 non-null  int64  \n",
      " 3   soma_payment              34481 non-null  float64\n",
      " 4   qtde_installments         34481 non-null  int64  \n",
      " 5   AR_MUN_2018               34481 non-null  float64\n",
      " 6   PIB                       34481 non-null  float64\n",
      " 7   gini                      34481 non-null  float64\n",
      " 8   dias                      34481 non-null  float64\n",
      " 9   le_product_id             34481 non-null  int64  \n",
      " 10  le_seller_id              34481 non-null  int64  \n",
      " 11  le_product_category_name  34481 non-null  int64  \n",
      " 12  le_sigla_state            34481 non-null  int64  \n",
      " 13  le_seller_sigla_state     34481 non-null  int64  \n",
      "dtypes: float64(5), int64(9)\n",
      "memory usage: 3.7 MB\n"
     ]
    }
   ],
   "source": [
    "expl.info()"
   ]
  },
  {
   "cell_type": "markdown",
   "metadata": {},
   "source": [
    "# Separação em treino e teste"
   ]
  },
  {
   "cell_type": "code",
   "execution_count": 14,
   "metadata": {},
   "outputs": [],
   "source": [
    "from sklearn.model_selection import train_test_split \n",
    "x_treino, x_teste, y_treino, y_teste = train_test_split(expl,\n",
    "                                                       target,\n",
    "                                                       test_size=0.3,\n",
    "                                                       random_state=196)"
   ]
  },
  {
   "cell_type": "markdown",
   "metadata": {},
   "source": [
    "# Tuninng de hiperparâmetros\n",
    "Inicialmente, chamar o módulo de tuning.<br>\n",
    "Passo a passo <br>\n",
    "1 - definir um dict(dicionario com os valores dos hiperparams)<br>\n",
    "2 - chamar o modulo de tunning<br>\n",
    "3 - chamar obj do tunning<br>\n",
    "4 - treinamento<br>\n",
    "5 - avaliar os resultados"
   ]
  },
  {
   "cell_type": "markdown",
   "metadata": {},
   "source": [
    "## Random Forest"
   ]
  },
  {
   "cell_type": "code",
   "execution_count": 15,
   "metadata": {},
   "outputs": [],
   "source": [
    "#1 - definir um dict(dicionario com os valores dos hiperparams)\n",
    "\n",
    "rf_dict = {                            # nome do dicionário que está sendo criado.\n",
    "    'n_estimators':[50,100,200,300,800,1000],   # numero de estimadores que será testado. Quanto maior, mais exige poder computacional.\n",
    "    'criterion':['gini', 'entropy'],   #  critérios\n",
    "    'bootstrap':[False, True],  # Faz amostragem com e sem reposição.\n",
    "    'random_state': [196]\n",
    "}"
   ]
  },
  {
   "cell_type": "code",
   "execution_count": 16,
   "metadata": {},
   "outputs": [
    {
     "data": {
      "text/plain": [
       "{'n_estimators': [50, 100, 200, 300, 800, 1000],\n",
       " 'criterion': ['gini', 'entropy'],\n",
       " 'bootstrap': [False, True],\n",
       " 'random_state': [196]}"
      ]
     },
     "execution_count": 16,
     "metadata": {},
     "output_type": "execute_result"
    }
   ],
   "source": [
    "rf_dict"
   ]
  },
  {
   "cell_type": "code",
   "execution_count": 17,
   "metadata": {},
   "outputs": [],
   "source": [
    "#2 - chamar o modulo de tunning\n",
    "from sklearn.ensemble import RandomForestClassifier\n",
    "rf = RandomForestClassifier(random_state=42)"
   ]
  },
  {
   "cell_type": "code",
   "execution_count": 18,
   "metadata": {},
   "outputs": [],
   "source": [
    "#3 - chamar obj do tunning\n",
    "from sklearn.model_selection import GridSearchCV\n",
    "rf_grid = GridSearchCV(estimator=rf,       # parametro a ser utilizado. No caso, random forest\n",
    "                      param_grid=rf_dict,  # nome do dicionario com parametros\n",
    "                      scoring='accuracy',  # parametro de validação: acurácia\n",
    "                      cv=10)               # numero de partições do conjunto de treino a ser feita na validação cruzada (k-fold)"
   ]
  },
  {
   "cell_type": "code",
   "execution_count": 19,
   "metadata": {},
   "outputs": [
    {
     "data": {
      "text/plain": [
       "GridSearchCV(cv=10, estimator=RandomForestClassifier(random_state=42),\n",
       "             param_grid={'bootstrap': [False, True],\n",
       "                         'criterion': ['gini', 'entropy'],\n",
       "                         'n_estimators': [50, 100, 200, 300, 800, 1000],\n",
       "                         'random_state': [196]},\n",
       "             scoring='accuracy')"
      ]
     },
     "execution_count": 19,
     "metadata": {},
     "output_type": "execute_result"
    }
   ],
   "source": [
    "rf_grid"
   ]
  },
  {
   "cell_type": "code",
   "execution_count": 20,
   "metadata": {},
   "outputs": [
    {
     "data": {
      "text/plain": [
       "GridSearchCV(cv=10, estimator=RandomForestClassifier(random_state=42),\n",
       "             param_grid={'bootstrap': [False, True],\n",
       "                         'criterion': ['gini', 'entropy'],\n",
       "                         'n_estimators': [50, 100, 200, 300, 800, 1000],\n",
       "                         'random_state': [196]},\n",
       "             scoring='accuracy')"
      ]
     },
     "execution_count": 20,
     "metadata": {},
     "output_type": "execute_result"
    }
   ],
   "source": [
    "#4  - treinamento\n",
    "rf_grid.fit(x_treino, y_treino)"
   ]
  },
  {
   "cell_type": "code",
   "execution_count": 21,
   "metadata": {},
   "outputs": [
    {
     "data": {
      "text/plain": [
       "{'bootstrap': True,\n",
       " 'criterion': 'entropy',\n",
       " 'n_estimators': 1000,\n",
       " 'random_state': 196}"
      ]
     },
     "execution_count": 21,
     "metadata": {},
     "output_type": "execute_result"
    }
   ],
   "source": [
    "#5  - avaliar os resultados\n",
    "rf_grid.best_params_"
   ]
  },
  {
   "cell_type": "code",
   "execution_count": 22,
   "metadata": {},
   "outputs": [
    {
     "data": {
      "text/plain": [
       "0.6162573377909151"
      ]
     },
     "execution_count": 22,
     "metadata": {},
     "output_type": "execute_result"
    }
   ],
   "source": [
    "rf_grid.best_score_"
   ]
  },
  {
   "cell_type": "markdown",
   "metadata": {},
   "source": [
    "##  Importação da biblioteca - cálculo da acurácia"
   ]
  },
  {
   "cell_type": "code",
   "execution_count": 23,
   "metadata": {},
   "outputs": [],
   "source": [
    "from sklearn.metrics import accuracy_score"
   ]
  },
  {
   "cell_type": "markdown",
   "metadata": {},
   "source": [
    "## Acurácia de treino - para modelo Random Forest"
   ]
  },
  {
   "cell_type": "code",
   "execution_count": 24,
   "metadata": {},
   "outputs": [
    {
     "data": {
      "text/plain": [
       "0.6162573377909151"
      ]
     },
     "execution_count": 24,
     "metadata": {},
     "output_type": "execute_result"
    }
   ],
   "source": [
    "rf_grid.best_score_"
   ]
  },
  {
   "cell_type": "code",
   "execution_count": 25,
   "metadata": {},
   "outputs": [
    {
     "data": {
      "text/plain": [
       "1.0"
      ]
     },
     "execution_count": 25,
     "metadata": {},
     "output_type": "execute_result"
    }
   ],
   "source": [
    "acc_rf_treino = accuracy_score(y_treino, \n",
    "                              rf_grid.predict( # este é o objeto do grid, já com os melhores parametros\n",
    "                                  x_treino))\n",
    "acc_rf_treino"
   ]
  },
  {
   "cell_type": "markdown",
   "metadata": {},
   "source": [
    "##  Acurácia de teste - para modelo Random Forest"
   ]
  },
  {
   "cell_type": "code",
   "execution_count": 26,
   "metadata": {},
   "outputs": [
    {
     "data": {
      "text/plain": [
       "0.6150797486708555"
      ]
     },
     "execution_count": 26,
     "metadata": {},
     "output_type": "execute_result"
    }
   ],
   "source": [
    "acc_rf_teste = accuracy_score(y_teste, \n",
    "                              rf_grid.predict( # este é o objeto do grid, já com os melhores parametros\n",
    "                                  x_teste))\n",
    "acc_rf_teste"
   ]
  },
  {
   "cell_type": "markdown",
   "metadata": {},
   "source": [
    "##  Classification report - para modelo Random Forest"
   ]
  },
  {
   "cell_type": "code",
   "execution_count": 27,
   "metadata": {},
   "outputs": [],
   "source": [
    "from sklearn.metrics import classification_report"
   ]
  },
  {
   "cell_type": "code",
   "execution_count": 28,
   "metadata": {},
   "outputs": [
    {
     "name": "stdout",
     "output_type": "stream",
     "text": [
      "              precision    recall  f1-score   support\n",
      "\n",
      "           0       1.00      1.00      1.00     13977\n",
      "           1       1.00      1.00      1.00     10159\n",
      "\n",
      "    accuracy                           1.00     24136\n",
      "   macro avg       1.00      1.00      1.00     24136\n",
      "weighted avg       1.00      1.00      1.00     24136\n",
      "\n"
     ]
    }
   ],
   "source": [
    "print(classification_report(y_treino,rf_grid.predict(x_treino)))"
   ]
  },
  {
   "cell_type": "code",
   "execution_count": 29,
   "metadata": {},
   "outputs": [
    {
     "name": "stdout",
     "output_type": "stream",
     "text": [
      "              precision    recall  f1-score   support\n",
      "\n",
      "           0       0.65      0.71      0.68      5891\n",
      "           1       0.56      0.50      0.53      4454\n",
      "\n",
      "    accuracy                           0.62     10345\n",
      "   macro avg       0.60      0.60      0.60     10345\n",
      "weighted avg       0.61      0.62      0.61     10345\n",
      "\n",
      "A acurácia da previsão é  0.6150797486708555\n"
     ]
    }
   ],
   "source": [
    "print(classification_report(y_teste,rf_grid.predict(x_teste)))\n",
    "print (\"A acurácia da previsão é \", accuracy_score(y_teste,rf_grid.predict(x_teste)))"
   ]
  },
  {
   "cell_type": "code",
   "execution_count": 30,
   "metadata": {},
   "outputs": [],
   "source": [
    "#matriz de confusão\n",
    "from sklearn import metrics\n",
    "cnf_matrix =  metrics.confusion_matrix(y_teste, rf_grid.predict(x_teste))"
   ]
  },
  {
   "cell_type": "code",
   "execution_count": 31,
   "metadata": {},
   "outputs": [],
   "source": [
    "#matriz de confusão\n",
    "import itertools\n",
    "from matplotlib import pyplot as plt\n",
    "def plot_confusion_matrix(cm, classes,\n",
    "                          normalize=False,\n",
    "                          title='Confusion matrix',\n",
    "                          cmap=plt.cm.Blues):\n",
    "    \"\"\"\n",
    "    This function prints and plots the confusion matrix.\n",
    "    Normalization can be applied by setting `normalize=True`.\n",
    "    \"\"\"\n",
    "    if normalize:\n",
    "        cm = cm.astype('float') / cm.sum(axis=1)[:, np.newaxis]\n",
    "\n",
    "    plt.imshow(cm, interpolation='nearest', cmap=cmap)\n",
    "    plt.title(title)\n",
    "    plt.colorbar()\n",
    "    tick_marks = np.arange(len(classes))\n",
    "    plt.xticks(tick_marks, classes, rotation=45)\n",
    "    plt.yticks(tick_marks, classes)\n",
    "\n",
    "    fmt = '.2f' if normalize else 'd'\n",
    "    thresh = cm.max() / 2.\n",
    "    for i, j in itertools.product(range(cm.shape[0]), range(cm.shape[1])):\n",
    "        plt.text(j, i, format(cm[i, j], fmt),\n",
    "                 horizontalalignment=\"center\",\n",
    "                 color=\"red\" if cm[i, j] > thresh else \"black\")\n",
    "\n",
    "    plt.ylabel('True label')\n",
    "    plt.xlabel('Predicted label')\n",
    "    plt.tight_layout()\n"
   ]
  },
  {
   "cell_type": "code",
   "execution_count": 32,
   "metadata": {},
   "outputs": [
    {
     "data": {
      "image/png": "[encoded data removed]",
      "text/plain": [
       "<Figure size 432x288 with 2 Axes>"
      ]
     },
     "metadata": {
      "needs_background": "light"
     },
     "output_type": "display_data"
    }
   ],
   "source": [
    "#visualizando a matriz de confusão\n",
    "plot_confusion_matrix(cnf_matrix,classes =['0', '1'],\n",
    "                      title='Matriz de confusão não normalizada classe 1', normalize=False)"
   ]
  },
  {
   "cell_type": "code",
   "execution_count": 33,
   "metadata": {},
   "outputs": [],
   "source": [
    "tn = cnf_matrix[0,0]\n",
    "tp = cnf_matrix[1,1]\n",
    "fn = cnf_matrix[1,0] \n",
    "fp = cnf_matrix[0,1]\n",
    "recall = tp/(tp+fn)\n",
    "precisão = tp/(tp+fp)\n",
    "accuracy = (tp+tn)/(tp+tn+fp+fn)"
   ]
  },
  {
   "cell_type": "code",
   "execution_count": 34,
   "metadata": {},
   "outputs": [
    {
     "name": "stdout",
     "output_type": "stream",
     "text": [
      "0.49595868881903904\n",
      "0.5598073998986315\n",
      "0.6150797486708555\n"
     ]
    }
   ],
   "source": [
    "print (recall)\n",
    "print (precisão)\n",
    "print (accuracy)"
   ]
  },
  {
   "cell_type": "code",
   "execution_count": 35,
   "metadata": {},
   "outputs": [
    {
     "data": {
      "image/png": "[encoded data removed]",
      "text/plain": [
       "<Figure size 432x288 with 2 Axes>"
      ]
     },
     "metadata": {
      "needs_background": "light"
     },
     "output_type": "display_data"
    }
   ],
   "source": [
    "#visualizando a matriz de confusão\n",
    "plot_confusion_matrix(cnf_matrix,classes =['1', '0'],\n",
    "                      title='Matriz confusão ñ normalizada classe 0', normalize=False)"
   ]
  },
  {
   "cell_type": "code",
   "execution_count": 36,
   "metadata": {},
   "outputs": [],
   "source": [
    "tn = cnf_matrix[1,1]\n",
    "tp = cnf_matrix[0,0]\n",
    "fn = cnf_matrix[0,1] \n",
    "fp = cnf_matrix[1,0]\n",
    "recall = tp/(tp+fn)\n",
    "precisão = tp/(tp+fp)\n",
    "accuracy = (tp+tn)/(tp+tn+fp+fn)"
   ]
  },
  {
   "cell_type": "markdown",
   "metadata": {},
   "source": [
    "### Complementação Mário - Matriz de Confusão, Sensibilidade, Especificidade e Feature_importances"
   ]
  },
  {
   "cell_type": "code",
   "execution_count": 37,
   "metadata": {},
   "outputs": [],
   "source": [
    "from sklearn.metrics import accuracy_score\n",
    "from sklearn.metrics import confusion_matrix"
   ]
  },
  {
   "cell_type": "code",
   "execution_count": 38,
   "metadata": {},
   "outputs": [
    {
     "data": {
      "text/plain": [
       "array([[4154, 1737],\n",
       "       [2245, 2209]], dtype=int64)"
      ]
     },
     "execution_count": 38,
     "metadata": {},
     "output_type": "execute_result"
    }
   ],
   "source": [
    "cm1 = confusion_matrix(y_true= y_teste,\n",
    "                       y_pred= rf_grid.predict(x_teste))\n",
    "cm1"
   ]
  },
  {
   "cell_type": "code",
   "execution_count": 39,
   "metadata": {},
   "outputs": [],
   "source": [
    "sensitivity1 = cm1[0,0]/(cm1[0,0]+cm1[0,1])\n",
    "\n",
    "specificity1 = cm1[1,1]/(cm1[1,0]+cm1[1,1])"
   ]
  },
  {
   "cell_type": "code",
   "execution_count": 40,
   "metadata": {},
   "outputs": [
    {
     "name": "stdout",
     "output_type": "stream",
     "text": [
      "Random Forest\n",
      "===================================================\n",
      "O  recall  da  classe  0  é   : 0.71 \n",
      "A  precisão  da classe 0  é   : 0.65 \n",
      "A  ACURÁCIA DA  PREVISÃO   é  : 0.62 \n",
      "A sensitibilidade da classe 0 : 0.71\n",
      "A especificidade da classe 0  : 0.50\n"
     ]
    }
   ],
   "source": [
    "print('Random Forest')\n",
    "print('===================================================')\n",
    "print('O  recall  da  classe  0  é   : %.2f ' % recall)\n",
    "print ('A  precisão  da classe 0  é   : %.2f '% precisão)\n",
    "print ('A  ACURÁCIA DA  PREVISÃO   é  : %.2f '% accuracy)\n",
    "print('A sensitibilidade da classe 0 : %.2f'% sensitivity1 )\n",
    "print('A especificidade da classe 0  : %.2f'% specificity1)"
   ]
  },
  {
   "cell_type": "code",
   "execution_count": 43,
   "metadata": {},
   "outputs": [
    {
     "data": {
      "text/plain": [
       "array([0.01414136, 0.00299545, 0.0068142 , 0.1273407 , 0.04606099,\n",
       "       0.07333111, 0.07471451, 0.07277404, 0.21243484, 0.12188256,\n",
       "       0.10889203, 0.07728353, 0.03744506, 0.02388962])"
      ]
     },
     "execution_count": 43,
     "metadata": {},
     "output_type": "execute_result"
    }
   ],
   "source": [
    "rf_grid.best_estimator_.feature_importances_"
   ]
  },
  {
   "cell_type": "code",
   "execution_count": 44,
   "metadata": {},
   "outputs": [],
   "source": [
    "a=pd.concat([pd.Series(x_teste.columns), pd.Series(rf_grid.best_estimator_.feature_importances_)], axis=1)"
   ]
  },
  {
   "cell_type": "code",
   "execution_count": 45,
   "metadata": {},
   "outputs": [
    {
     "name": "stdout",
     "output_type": "stream",
     "text": [
      "Feature Importance\n"
     ]
    },
    {
     "data": {
      "text/html": [
       "<div>\n",
       "<style scoped>\n",
       "    .dataframe tbody tr th:only-of-type {\n",
       "        vertical-align: middle;\n",
       "    }\n",
       "\n",
       "    .dataframe tbody tr th {\n",
       "        vertical-align: top;\n",
       "    }\n",
       "\n",
       "    .dataframe thead th {\n",
       "        text-align: right;\n",
       "    }\n",
       "</style>\n",
       "<table border=\"1\" class=\"dataframe\">\n",
       "  <thead>\n",
       "    <tr style=\"text-align: right;\">\n",
       "      <th></th>\n",
       "      <th>0</th>\n",
       "      <th>1</th>\n",
       "    </tr>\n",
       "  </thead>\n",
       "  <tbody>\n",
       "    <tr>\n",
       "      <th>0</th>\n",
       "      <td>qtde_credit_card</td>\n",
       "      <td>0.01</td>\n",
       "    </tr>\n",
       "    <tr>\n",
       "      <th>1</th>\n",
       "      <td>qtde_debit_card</td>\n",
       "      <td>0.00</td>\n",
       "    </tr>\n",
       "    <tr>\n",
       "      <th>2</th>\n",
       "      <td>qtde_voucher</td>\n",
       "      <td>0.01</td>\n",
       "    </tr>\n",
       "    <tr>\n",
       "      <th>3</th>\n",
       "      <td>soma_payment</td>\n",
       "      <td>0.13</td>\n",
       "    </tr>\n",
       "    <tr>\n",
       "      <th>4</th>\n",
       "      <td>qtde_installments</td>\n",
       "      <td>0.05</td>\n",
       "    </tr>\n",
       "    <tr>\n",
       "      <th>5</th>\n",
       "      <td>AR_MUN_2018</td>\n",
       "      <td>0.07</td>\n",
       "    </tr>\n",
       "    <tr>\n",
       "      <th>6</th>\n",
       "      <td>PIB</td>\n",
       "      <td>0.07</td>\n",
       "    </tr>\n",
       "    <tr>\n",
       "      <th>7</th>\n",
       "      <td>gini</td>\n",
       "      <td>0.07</td>\n",
       "    </tr>\n",
       "    <tr>\n",
       "      <th>8</th>\n",
       "      <td>dias</td>\n",
       "      <td>0.21</td>\n",
       "    </tr>\n",
       "    <tr>\n",
       "      <th>9</th>\n",
       "      <td>le_product_id</td>\n",
       "      <td>0.12</td>\n",
       "    </tr>\n",
       "    <tr>\n",
       "      <th>10</th>\n",
       "      <td>le_seller_id</td>\n",
       "      <td>0.11</td>\n",
       "    </tr>\n",
       "    <tr>\n",
       "      <th>11</th>\n",
       "      <td>le_product_category_name</td>\n",
       "      <td>0.08</td>\n",
       "    </tr>\n",
       "    <tr>\n",
       "      <th>12</th>\n",
       "      <td>le_sigla_state</td>\n",
       "      <td>0.04</td>\n",
       "    </tr>\n",
       "    <tr>\n",
       "      <th>13</th>\n",
       "      <td>le_seller_sigla_state</td>\n",
       "      <td>0.02</td>\n",
       "    </tr>\n",
       "  </tbody>\n",
       "</table>\n",
       "</div>"
      ],
      "text/plain": [
       "                           0    1\n",
       "0           qtde_credit_card 0.01\n",
       "1            qtde_debit_card 0.00\n",
       "2               qtde_voucher 0.01\n",
       "3               soma_payment 0.13\n",
       "4          qtde_installments 0.05\n",
       "5                AR_MUN_2018 0.07\n",
       "6                        PIB 0.07\n",
       "7                       gini 0.07\n",
       "8                       dias 0.21\n",
       "9              le_product_id 0.12\n",
       "10              le_seller_id 0.11\n",
       "11  le_product_category_name 0.08\n",
       "12            le_sigla_state 0.04\n",
       "13     le_seller_sigla_state 0.02"
      ]
     },
     "execution_count": 45,
     "metadata": {},
     "output_type": "execute_result"
    }
   ],
   "source": [
    "print('Feature Importance')\n",
    "a"
   ]
  },
  {
   "cell_type": "code",
   "execution_count": 46,
   "metadata": {},
   "outputs": [
    {
     "data": {
      "text/html": [
       "<div>\n",
       "<style scoped>\n",
       "    .dataframe tbody tr th:only-of-type {\n",
       "        vertical-align: middle;\n",
       "    }\n",
       "\n",
       "    .dataframe tbody tr th {\n",
       "        vertical-align: top;\n",
       "    }\n",
       "\n",
       "    .dataframe thead th {\n",
       "        text-align: right;\n",
       "    }\n",
       "</style>\n",
       "<table border=\"1\" class=\"dataframe\">\n",
       "  <thead>\n",
       "    <tr style=\"text-align: right;\">\n",
       "      <th></th>\n",
       "      <th>0</th>\n",
       "      <th>1</th>\n",
       "    </tr>\n",
       "  </thead>\n",
       "  <tbody>\n",
       "    <tr>\n",
       "      <th>8</th>\n",
       "      <td>dias</td>\n",
       "      <td>0.21</td>\n",
       "    </tr>\n",
       "    <tr>\n",
       "      <th>3</th>\n",
       "      <td>soma_payment</td>\n",
       "      <td>0.13</td>\n",
       "    </tr>\n",
       "    <tr>\n",
       "      <th>9</th>\n",
       "      <td>le_product_id</td>\n",
       "      <td>0.12</td>\n",
       "    </tr>\n",
       "    <tr>\n",
       "      <th>10</th>\n",
       "      <td>le_seller_id</td>\n",
       "      <td>0.11</td>\n",
       "    </tr>\n",
       "    <tr>\n",
       "      <th>11</th>\n",
       "      <td>le_product_category_name</td>\n",
       "      <td>0.08</td>\n",
       "    </tr>\n",
       "    <tr>\n",
       "      <th>6</th>\n",
       "      <td>PIB</td>\n",
       "      <td>0.07</td>\n",
       "    </tr>\n",
       "    <tr>\n",
       "      <th>5</th>\n",
       "      <td>AR_MUN_2018</td>\n",
       "      <td>0.07</td>\n",
       "    </tr>\n",
       "    <tr>\n",
       "      <th>7</th>\n",
       "      <td>gini</td>\n",
       "      <td>0.07</td>\n",
       "    </tr>\n",
       "    <tr>\n",
       "      <th>4</th>\n",
       "      <td>qtde_installments</td>\n",
       "      <td>0.05</td>\n",
       "    </tr>\n",
       "    <tr>\n",
       "      <th>12</th>\n",
       "      <td>le_sigla_state</td>\n",
       "      <td>0.04</td>\n",
       "    </tr>\n",
       "    <tr>\n",
       "      <th>13</th>\n",
       "      <td>le_seller_sigla_state</td>\n",
       "      <td>0.02</td>\n",
       "    </tr>\n",
       "    <tr>\n",
       "      <th>0</th>\n",
       "      <td>qtde_credit_card</td>\n",
       "      <td>0.01</td>\n",
       "    </tr>\n",
       "    <tr>\n",
       "      <th>2</th>\n",
       "      <td>qtde_voucher</td>\n",
       "      <td>0.01</td>\n",
       "    </tr>\n",
       "    <tr>\n",
       "      <th>1</th>\n",
       "      <td>qtde_debit_card</td>\n",
       "      <td>0.00</td>\n",
       "    </tr>\n",
       "  </tbody>\n",
       "</table>\n",
       "</div>"
      ],
      "text/plain": [
       "                           0    1\n",
       "8                       dias 0.21\n",
       "3               soma_payment 0.13\n",
       "9              le_product_id 0.12\n",
       "10              le_seller_id 0.11\n",
       "11  le_product_category_name 0.08\n",
       "6                        PIB 0.07\n",
       "5                AR_MUN_2018 0.07\n",
       "7                       gini 0.07\n",
       "4          qtde_installments 0.05\n",
       "12            le_sigla_state 0.04\n",
       "13     le_seller_sigla_state 0.02\n",
       "0           qtde_credit_card 0.01\n",
       "2               qtde_voucher 0.01\n",
       "1            qtde_debit_card 0.00"
      ]
     },
     "execution_count": 46,
     "metadata": {},
     "output_type": "execute_result"
    }
   ],
   "source": [
    "a.sort_values(by=1, ascending=False)"
   ]
  },
  {
   "cell_type": "code",
   "execution_count": null,
   "metadata": {},
   "outputs": [],
   "source": []
  },
  {
   "cell_type": "code",
   "execution_count": 42,
   "metadata": {},
   "outputs": [],
   "source": [
    "# logistic regression for feature importance\n",
    "# from sklearn.datasets import make_classification\n",
    "# from sklearn.linear_model import LogisticRegression\n",
    "# from matplotlib import pyplot\n",
    "# define dataset\n",
    "# # X, y = make_classification(n_samples=1000, n_features=10, n_informative=5, n_redundant=5, random_state=1)\n",
    "# define the model\n",
    "# # model = LogisticRegression()\n",
    "# fit the model\n",
    "# # model.fit(X, y)\n",
    "# get importance\n",
    "# lr_grid.fit(x_treino, y_treino)\n",
    "# importance = lr_grid.coef_[0]\n",
    "# summarize feature importance\n",
    "# for i,v in enumerate(importance):\n",
    "# \tprint('Feature: %0d, Score: %.5f' % (i,v))\n",
    "# plot feature importance\n",
    "# pyplot.bar([x for x in range(len(importance))], importance)\n",
    "# pyplot.show()"
   ]
  },
  {
   "cell_type": "code",
   "execution_count": null,
   "metadata": {},
   "outputs": [],
   "source": []
  }
 ],
 "metadata": {
  "kernelspec": {
   "display_name": "Python 3",
   "language": "python",
   "name": "python3"
  },
  "language_info": {
   "codemirror_mode": {
    "name": "ipython",
    "version": 3
   },
   "file_extension": ".py",
   "mimetype": "text/x-python",
   "name": "python",
   "nbconvert_exporter": "python",
   "pygments_lexer": "ipython3",
   "version": "3.7.3"
  }
 },
 "nbformat": 4,
 "nbformat_minor": 2
}
