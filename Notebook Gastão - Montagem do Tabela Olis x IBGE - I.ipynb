{
 "cells": [
  {
   "cell_type": "markdown",
   "metadata": {},
   "source": [
    "# TCC PUC-Minas Gastão Jucá Filho <br>\n",
    "Turma Puc-Minas Virtual - nov2019 <br>\n"
   ]
  },
  {
   "cell_type": "markdown",
   "metadata": {},
   "source": [
    "#  Atividades:\n",
    "> 1. Resumir os passos dos últimos 03 (três) notebooks. \n",
    "> 2. Montar um tabelão Olist com os campos que serão trabalhados na classificação:\n",
    ">> Partir das 08 (oito) tabelas da Olist Dataset, previamente preparadas. \n",
    "> 3. Abusar dos merges.\n",
    "> 4. Documentar tudo com linguagem Markdown."
   ]
  },
  {
   "cell_type": "code",
   "execution_count": 1,
   "metadata": {},
   "outputs": [
    {
     "data": {
      "text/html": [
       "<img src=\"As oito tabelas iniciais.PNG\"/>"
      ],
      "text/plain": [
       "<IPython.core.display.Image object>"
      ]
     },
     "execution_count": 1,
     "metadata": {},
     "output_type": "execute_result"
    }
   ],
   "source": [
    "# Eis o DataSet da Olist original com que iniciamos o trabalho\n",
    "\n",
    "from IPython.display import Image\n",
    "from IPython.core.display import HTML \n",
    "Image(url= \"As oito tabelas iniciais.PNG\")"
   ]
  },
  {
   "cell_type": "markdown",
   "metadata": {},
   "source": [
    "####  Trabalhamos todas as 08 (oito) tabelas de modo a deixá-las normalizadas de jeito que um banco de dados relacional requer.\n",
    "> Abaixo resumimos as operações efetuadas em cada tabela, para após, criarmos nosso tabelão.\n",
    ">> A operação é necessária para chegarmos ao DataFrame que conterá o \"tabelão\" de trabalho."
   ]
  },
  {
   "cell_type": "markdown",
   "metadata": {},
   "source": [
    "##  1 - Importação de bibliotecas necessárias"
   ]
  },
  {
   "cell_type": "code",
   "execution_count": 2,
   "metadata": {},
   "outputs": [],
   "source": [
    "import pandas as pd\n",
    "import numpy as np\n",
    "pd.options.display.float_format = '{:,.2f}'.format\n",
    "pd.set_option('display.max_columns', None)\n",
    "pd.set_option('display.max_rows', None)\n",
    "#pd.options.display.max_columns = 100\n"
   ]
  },
  {
   "cell_type": "markdown",
   "metadata": {},
   "source": [
    "## 2 - Importação das 08 (oito) tabelas "
   ]
  },
  {
   "cell_type": "code",
   "execution_count": 3,
   "metadata": {},
   "outputs": [],
   "source": [
    "reviews = pd.read_csv(\"olist_order_reviews_dataset.csv\", sep = ',')"
   ]
  },
  {
   "cell_type": "code",
   "execution_count": 4,
   "metadata": {},
   "outputs": [],
   "source": [
    "orders = pd.read_csv('olist_orders_dataset.csv', sep=',')"
   ]
  },
  {
   "cell_type": "code",
   "execution_count": 5,
   "metadata": {},
   "outputs": [],
   "source": [
    "itens = pd.read_csv(\"olist_order_items_dataset.csv\", sep = ',')"
   ]
  },
  {
   "cell_type": "code",
   "execution_count": 6,
   "metadata": {},
   "outputs": [],
   "source": [
    "products = pd.read_csv(\"olist_products_dataset.csv\", sep = ',')"
   ]
  },
  {
   "cell_type": "code",
   "execution_count": 7,
   "metadata": {},
   "outputs": [],
   "source": [
    "customers = pd.read_csv(\"olist_customers_dataset.csv\", sep = ',')"
   ]
  },
  {
   "cell_type": "code",
   "execution_count": 8,
   "metadata": {},
   "outputs": [],
   "source": [
    "geolocation = pd.read_csv(\"olist_geolocation_dataset.csv\", sep = ',')"
   ]
  },
  {
   "cell_type": "code",
   "execution_count": 9,
   "metadata": {},
   "outputs": [],
   "source": [
    "payments = pd.read_csv(\"olist_order_payments_dataset.csv\", sep = ',')"
   ]
  },
  {
   "cell_type": "code",
   "execution_count": 10,
   "metadata": {},
   "outputs": [],
   "source": [
    "sellers = pd.read_csv(\"olist_sellers_dataset.csv\", sep = ',')"
   ]
  },
  {
   "cell_type": "code",
   "execution_count": 11,
   "metadata": {},
   "outputs": [
    {
     "data": {
      "text/html": [
       "<div>\n",
       "<style scoped>\n",
       "    .dataframe tbody tr th:only-of-type {\n",
       "        vertical-align: middle;\n",
       "    }\n",
       "\n",
       "    .dataframe tbody tr th {\n",
       "        vertical-align: top;\n",
       "    }\n",
       "\n",
       "    .dataframe thead th {\n",
       "        text-align: right;\n",
       "    }\n",
       "</style>\n",
       "<table border=\"1\" class=\"dataframe\">\n",
       "  <thead>\n",
       "    <tr style=\"text-align: right;\">\n",
       "      <th></th>\n",
       "      <th>order_id</th>\n",
       "      <th>customer_id</th>\n",
       "      <th>order_status</th>\n",
       "      <th>order_purchase_timestamp</th>\n",
       "      <th>order_approved_at</th>\n",
       "      <th>order_delivered_carrier_date</th>\n",
       "      <th>order_delivered_customer_date</th>\n",
       "      <th>order_estimated_delivery_date</th>\n",
       "    </tr>\n",
       "  </thead>\n",
       "  <tbody>\n",
       "    <tr>\n",
       "      <th>0</th>\n",
       "      <td>e481f51cbdc54678b7cc49136f2d6af7</td>\n",
       "      <td>9ef432eb6251297304e76186b10a928d</td>\n",
       "      <td>delivered</td>\n",
       "      <td>2017-10-02 10:56:33</td>\n",
       "      <td>2017-10-02 11:07:15</td>\n",
       "      <td>2017-10-04 19:55:00</td>\n",
       "      <td>2017-10-10 21:25:13</td>\n",
       "      <td>2017-10-18 00:00:00</td>\n",
       "    </tr>\n",
       "    <tr>\n",
       "      <th>1</th>\n",
       "      <td>53cdb2fc8bc7dce0b6741e2150273451</td>\n",
       "      <td>b0830fb4747a6c6d20dea0b8c802d7ef</td>\n",
       "      <td>delivered</td>\n",
       "      <td>2018-07-24 20:41:37</td>\n",
       "      <td>2018-07-26 03:24:27</td>\n",
       "      <td>2018-07-26 14:31:00</td>\n",
       "      <td>2018-08-07 15:27:45</td>\n",
       "      <td>2018-08-13 00:00:00</td>\n",
       "    </tr>\n",
       "    <tr>\n",
       "      <th>2</th>\n",
       "      <td>47770eb9100c2d0c44946d9cf07ec65d</td>\n",
       "      <td>41ce2a54c0b03bf3443c3d931a367089</td>\n",
       "      <td>delivered</td>\n",
       "      <td>2018-08-08 08:38:49</td>\n",
       "      <td>2018-08-08 08:55:23</td>\n",
       "      <td>2018-08-08 13:50:00</td>\n",
       "      <td>2018-08-17 18:06:29</td>\n",
       "      <td>2018-09-04 00:00:00</td>\n",
       "    </tr>\n",
       "    <tr>\n",
       "      <th>3</th>\n",
       "      <td>949d5b44dbf5de918fe9c16f97b45f8a</td>\n",
       "      <td>f88197465ea7920adcdbec7375364d82</td>\n",
       "      <td>delivered</td>\n",
       "      <td>2017-11-18 19:28:06</td>\n",
       "      <td>2017-11-18 19:45:59</td>\n",
       "      <td>2017-11-22 13:39:59</td>\n",
       "      <td>2017-12-02 00:28:42</td>\n",
       "      <td>2017-12-15 00:00:00</td>\n",
       "    </tr>\n",
       "    <tr>\n",
       "      <th>4</th>\n",
       "      <td>ad21c59c0840e6cb83a9ceb5573f8159</td>\n",
       "      <td>8ab97904e6daea8866dbdbc4fb7aad2c</td>\n",
       "      <td>delivered</td>\n",
       "      <td>2018-02-13 21:18:39</td>\n",
       "      <td>2018-02-13 22:20:29</td>\n",
       "      <td>2018-02-14 19:46:34</td>\n",
       "      <td>2018-02-16 18:17:02</td>\n",
       "      <td>2018-02-26 00:00:00</td>\n",
       "    </tr>\n",
       "  </tbody>\n",
       "</table>\n",
       "</div>"
      ],
      "text/plain": [
       "                           order_id                       customer_id  \\\n",
       "0  e481f51cbdc54678b7cc49136f2d6af7  9ef432eb6251297304e76186b10a928d   \n",
       "1  53cdb2fc8bc7dce0b6741e2150273451  b0830fb4747a6c6d20dea0b8c802d7ef   \n",
       "2  47770eb9100c2d0c44946d9cf07ec65d  41ce2a54c0b03bf3443c3d931a367089   \n",
       "3  949d5b44dbf5de918fe9c16f97b45f8a  f88197465ea7920adcdbec7375364d82   \n",
       "4  ad21c59c0840e6cb83a9ceb5573f8159  8ab97904e6daea8866dbdbc4fb7aad2c   \n",
       "\n",
       "  order_status order_purchase_timestamp    order_approved_at  \\\n",
       "0    delivered      2017-10-02 10:56:33  2017-10-02 11:07:15   \n",
       "1    delivered      2018-07-24 20:41:37  2018-07-26 03:24:27   \n",
       "2    delivered      2018-08-08 08:38:49  2018-08-08 08:55:23   \n",
       "3    delivered      2017-11-18 19:28:06  2017-11-18 19:45:59   \n",
       "4    delivered      2018-02-13 21:18:39  2018-02-13 22:20:29   \n",
       "\n",
       "  order_delivered_carrier_date order_delivered_customer_date  \\\n",
       "0          2017-10-04 19:55:00           2017-10-10 21:25:13   \n",
       "1          2018-07-26 14:31:00           2018-08-07 15:27:45   \n",
       "2          2018-08-08 13:50:00           2018-08-17 18:06:29   \n",
       "3          2017-11-22 13:39:59           2017-12-02 00:28:42   \n",
       "4          2018-02-14 19:46:34           2018-02-16 18:17:02   \n",
       "\n",
       "  order_estimated_delivery_date  \n",
       "0           2017-10-18 00:00:00  \n",
       "1           2018-08-13 00:00:00  \n",
       "2           2018-09-04 00:00:00  \n",
       "3           2017-12-15 00:00:00  \n",
       "4           2018-02-26 00:00:00  "
      ]
     },
     "execution_count": 11,
     "metadata": {},
     "output_type": "execute_result"
    }
   ],
   "source": [
    "orders.head()"
   ]
  },
  {
   "cell_type": "code",
   "execution_count": 12,
   "metadata": {},
   "outputs": [
    {
     "data": {
      "text/html": [
       "<div>\n",
       "<style scoped>\n",
       "    .dataframe tbody tr th:only-of-type {\n",
       "        vertical-align: middle;\n",
       "    }\n",
       "\n",
       "    .dataframe tbody tr th {\n",
       "        vertical-align: top;\n",
       "    }\n",
       "\n",
       "    .dataframe thead th {\n",
       "        text-align: right;\n",
       "    }\n",
       "</style>\n",
       "<table border=\"1\" class=\"dataframe\">\n",
       "  <thead>\n",
       "    <tr style=\"text-align: right;\">\n",
       "      <th></th>\n",
       "      <th>geolocation_zip_code_prefix</th>\n",
       "      <th>geolocation_lat</th>\n",
       "      <th>geolocation_lng</th>\n",
       "      <th>geolocation_city</th>\n",
       "      <th>geolocation_state</th>\n",
       "    </tr>\n",
       "  </thead>\n",
       "  <tbody>\n",
       "    <tr>\n",
       "      <th>0</th>\n",
       "      <td>1037</td>\n",
       "      <td>-23.55</td>\n",
       "      <td>-46.64</td>\n",
       "      <td>sao paulo</td>\n",
       "      <td>SP</td>\n",
       "    </tr>\n",
       "    <tr>\n",
       "      <th>1</th>\n",
       "      <td>1046</td>\n",
       "      <td>-23.55</td>\n",
       "      <td>-46.64</td>\n",
       "      <td>sao paulo</td>\n",
       "      <td>SP</td>\n",
       "    </tr>\n",
       "    <tr>\n",
       "      <th>2</th>\n",
       "      <td>1046</td>\n",
       "      <td>-23.55</td>\n",
       "      <td>-46.64</td>\n",
       "      <td>sao paulo</td>\n",
       "      <td>SP</td>\n",
       "    </tr>\n",
       "    <tr>\n",
       "      <th>3</th>\n",
       "      <td>1041</td>\n",
       "      <td>-23.54</td>\n",
       "      <td>-46.64</td>\n",
       "      <td>sao paulo</td>\n",
       "      <td>SP</td>\n",
       "    </tr>\n",
       "    <tr>\n",
       "      <th>4</th>\n",
       "      <td>1035</td>\n",
       "      <td>-23.54</td>\n",
       "      <td>-46.64</td>\n",
       "      <td>sao paulo</td>\n",
       "      <td>SP</td>\n",
       "    </tr>\n",
       "  </tbody>\n",
       "</table>\n",
       "</div>"
      ],
      "text/plain": [
       "   geolocation_zip_code_prefix  geolocation_lat  geolocation_lng  \\\n",
       "0                         1037           -23.55           -46.64   \n",
       "1                         1046           -23.55           -46.64   \n",
       "2                         1046           -23.55           -46.64   \n",
       "3                         1041           -23.54           -46.64   \n",
       "4                         1035           -23.54           -46.64   \n",
       "\n",
       "  geolocation_city geolocation_state  \n",
       "0        sao paulo                SP  \n",
       "1        sao paulo                SP  \n",
       "2        sao paulo                SP  \n",
       "3        sao paulo                SP  \n",
       "4        sao paulo                SP  "
      ]
     },
     "execution_count": 12,
     "metadata": {},
     "output_type": "execute_result"
    }
   ],
   "source": [
    "geolocation.head()"
   ]
  },
  {
   "cell_type": "markdown",
   "metadata": {},
   "source": [
    "## 3 - Execução resumida das operações realizadas nos prévios 03 (três) notebooks\n",
    "> Transformação dos dados desde os CSV originais até o ponto de se iniciar a montagem do tabelão, objeto deste notebook."
   ]
  },
  {
   "cell_type": "markdown",
   "metadata": {},
   "source": [
    "### 3.1 - Tabela <font color=red>\"orders\""
   ]
  },
  {
   "cell_type": "markdown",
   "metadata": {},
   "source": [
    "#### A tabela <font color=red>\"orders\" não precisou de limpeza alguma."
   ]
  },
  {
   "cell_type": "markdown",
   "metadata": {},
   "source": [
    "### 3.2 - Tabela <font color=red>\"reviews\""
   ]
  },
  {
   "cell_type": "code",
   "execution_count": 13,
   "metadata": {},
   "outputs": [],
   "source": [
    "# Deletamos os duplicados do campo 'review_id'\n",
    "review_id_sem_repetir = reviews.drop_duplicates (subset=['review_id'])"
   ]
  },
  {
   "cell_type": "code",
   "execution_count": 14,
   "metadata": {},
   "outputs": [],
   "source": [
    "# Depois, deletamos os duplicados do campo 'order_id'\n",
    "reviews_normalizada = review_id_sem_repetir.drop_duplicates (subset=['order_id']) "
   ]
  },
  {
   "cell_type": "code",
   "execution_count": 15,
   "metadata": {},
   "outputs": [
    {
     "name": "stdout",
     "output_type": "stream",
     "text": [
      "<class 'pandas.core.frame.DataFrame'>\n",
      "Int64Index: 98926 entries, 0 to 99999\n",
      "Data columns (total 7 columns):\n",
      "review_id                  98926 non-null object\n",
      "order_id                   98926 non-null object\n",
      "review_score               98926 non-null int64\n",
      "review_comment_title       11659 non-null object\n",
      "review_comment_message     41343 non-null object\n",
      "review_creation_date       98926 non-null object\n",
      "review_answer_timestamp    98926 non-null object\n",
      "dtypes: int64(1), object(6)\n",
      "memory usage: 6.0+ MB\n"
     ]
    }
   ],
   "source": [
    "reviews_normalizada.info()"
   ]
  },
  {
   "cell_type": "markdown",
   "metadata": {},
   "source": [
    "### 3.3 - Tabela <font color=red>\"itens\""
   ]
  },
  {
   "cell_type": "code",
   "execution_count": 16,
   "metadata": {},
   "outputs": [],
   "source": [
    "# Deletamos duplicatas do campo \"order_item_id\"\n",
    "itens_sem_repetir = itens.drop_duplicates (subset=['order_id']) # Será mantida a 1ª ocorrência."
   ]
  },
  {
   "cell_type": "code",
   "execution_count": 17,
   "metadata": {},
   "outputs": [
    {
     "data": {
      "text/html": [
       "<img src=\"tres tabelas pos delecao.bmp\"/>"
      ],
      "text/plain": [
       "<IPython.core.display.Image object>"
      ]
     },
     "execution_count": 17,
     "metadata": {},
     "output_type": "execute_result"
    }
   ],
   "source": [
    "# situação APÓS da deleção\n",
    "Image (url = \"tres tabelas pos delecao.bmp\")"
   ]
  },
  {
   "cell_type": "markdown",
   "metadata": {},
   "source": [
    "#### Apesar de a nova tabela <font color=red>\"itens_sem_repetir\"</font> falhar em informar sobre itens, ainda é útil para informar qual o produto e qual o fornecedor estão atrelados a cada pedido.\n",
    "> No entanto, vamos desprezar em uma futura operação de 'Join' as colunas restantes, pois:  \n",
    ">> Os preços do produto e do frete influenciariam somente em uma análise de 'Churn' que não é o nosso caso.  \n",
    ">> A data de envio também é desnecessária, uma vez que temos datas diversas na tabela <font color=red>\"orders\"</font>."
   ]
  },
  {
   "cell_type": "markdown",
   "metadata": {},
   "source": [
    "### 3.4 - Tabela <font color=red>\"products\""
   ]
  },
  {
   "cell_type": "markdown",
   "metadata": {},
   "source": [
    "#### A tabela <font color=red>\"products\" não precisou de limpeza alguma."
   ]
  },
  {
   "cell_type": "markdown",
   "metadata": {},
   "source": [
    "#### <font color=magenta>RESUMO</font>. Não há a descrição do nome do produto, somente o seu código. Não podemos ver qual produto é, apenas a sua categoria. Há 74 categorias para os mais de 32 mil produtos.\n",
    "> 'product_id' é a chave primária da tabela <font color=red>\"products\"</font>\n",
    "\n",
    "> Não há o que limpar, a tabela <font color=red>\"products\"</font> está pronta para uso."
   ]
  },
  {
   "cell_type": "markdown",
   "metadata": {},
   "source": [
    "### 3.5 - Tabela <font color=red>\"payments\""
   ]
  },
  {
   "cell_type": "markdown",
   "metadata": {},
   "source": [
    "##### <font color=magenta>RESOLUÇÃO</font> \n",
    "> Criaremos os seguintes campos (para serem associados a cada 'order_id'):\n",
    ">> 1. Qtde de boleto  \n",
    "2. Qtde de credit_card  \n",
    "3. Qtde de debit_card  \n",
    "4. Qtde de not_defined  \n",
    "5. Qtde de voucher  \n",
    "6. Qtde de Installments  \n",
    "7. Soma de Payment_value\n",
    "\n",
    "> E desprezaremos os campos 'payment_sequential', 'payment_type', 'payment_installments' e 'payment_value'"
   ]
  },
  {
   "cell_type": "markdown",
   "metadata": {},
   "source": [
    "#### 3.5.1 - PREPARAÇÃO da implementação da criação de colunas novas na tabela <font color=red>\"payments\" </font>"
   ]
  },
  {
   "cell_type": "markdown",
   "metadata": {},
   "source": [
    "                                          1. Qtde de 'boleto'"
   ]
  },
  {
   "cell_type": "code",
   "execution_count": 18,
   "metadata": {},
   "outputs": [],
   "source": [
    "# seleciona 'order_id' cujo 'payment_type' = 'boleto'\n",
    "payments_somente_boleto = payments.loc[payments['payment_type']=='boleto']"
   ]
  },
  {
   "cell_type": "code",
   "execution_count": 19,
   "metadata": {},
   "outputs": [],
   "source": [
    "# Mudar o nome da coluna para 'qtde_boleto'\n",
    "payments_somente_boleto.columns = ['order_id', 'payment_sequential', 'qtde_boleto', 'payment_installments', 'payment_value']"
   ]
  },
  {
   "cell_type": "code",
   "execution_count": 20,
   "metadata": {},
   "outputs": [],
   "source": [
    "# substituir 'boleto' pelo algarismo '1'.\n",
    "payments_somente_boleto = payments_somente_boleto.apply(lambda x: x.replace('boleto', 1))"
   ]
  },
  {
   "cell_type": "markdown",
   "metadata": {},
   "source": [
    "###### DataFrame <font color=red>\"payments_somente_boleto\"</font> pronto para join"
   ]
  },
  {
   "cell_type": "markdown",
   "metadata": {},
   "source": [
    "                                          2. Qtde de 'credit_card'"
   ]
  },
  {
   "cell_type": "code",
   "execution_count": 21,
   "metadata": {},
   "outputs": [],
   "source": [
    "# seleciona 'order_id' cujo 'payment_type' = 'credit_card'\n",
    "payments_somente_credit_card = payments.loc[payments['payment_type']=='credit_card']"
   ]
  },
  {
   "cell_type": "code",
   "execution_count": 22,
   "metadata": {},
   "outputs": [],
   "source": [
    "# Contagem de 'credit_card' de cada 'order_id'\n",
    "qtde_credit_card = payments_somente_credit_card.groupby('order_id')['payment_type'].count()\n",
    "\n",
    "df_qtde_credit_card = pd.DataFrame(qtde_credit_card)"
   ]
  },
  {
   "cell_type": "code",
   "execution_count": 23,
   "metadata": {},
   "outputs": [],
   "source": [
    "# Tira 'order_id' da condição de índice.\n",
    "df_qtde_credit_card_index_resetado = df_qtde_credit_card.reset_index()"
   ]
  },
  {
   "cell_type": "code",
   "execution_count": 24,
   "metadata": {},
   "outputs": [],
   "source": [
    "# Mudar o nome da coluna para 'qtde_credit_card'\n",
    "df_qtde_credit_card_index_resetado.columns = ['order_id', 'qtde_credit_card']"
   ]
  },
  {
   "cell_type": "markdown",
   "metadata": {},
   "source": [
    "###### DataFrame <font color=red>\"df_qtde_credit_card_index_resetado\"</font> pronto para join"
   ]
  },
  {
   "cell_type": "markdown",
   "metadata": {},
   "source": [
    "                                          3. Qtde de 'debit_card'"
   ]
  },
  {
   "cell_type": "code",
   "execution_count": 25,
   "metadata": {},
   "outputs": [],
   "source": [
    "# seleciona 'order_id' cujo 'payment_type' = 'boleto'\n",
    "payments_somente_debit_card = payments.loc[payments['payment_type']=='debit_card']"
   ]
  },
  {
   "cell_type": "code",
   "execution_count": 26,
   "metadata": {},
   "outputs": [],
   "source": [
    "# Contagem de 'debit_card' de cada 'order_id'\n",
    "qtde_debit_card = payments_somente_debit_card.groupby('order_id')['payment_type'].count()\n",
    "\n",
    "df_qtde_debit_card = pd.DataFrame(qtde_debit_card)"
   ]
  },
  {
   "cell_type": "code",
   "execution_count": 27,
   "metadata": {},
   "outputs": [],
   "source": [
    "# Tira 'order_id' da condição de índice.\n",
    "df_qtde_debit_card_index_resetado = df_qtde_debit_card.reset_index()"
   ]
  },
  {
   "cell_type": "code",
   "execution_count": 28,
   "metadata": {},
   "outputs": [],
   "source": [
    "# Mudar o nome da coluna para 'qtde_credit_card'\n",
    "df_qtde_debit_card_index_resetado.columns = ['order_id', 'qtde_debit_card']"
   ]
  },
  {
   "cell_type": "markdown",
   "metadata": {},
   "source": [
    "###### DataFrame <font color=red>\"df_qtde_debit_card_index_resetado\"</font> pronto para join"
   ]
  },
  {
   "cell_type": "markdown",
   "metadata": {},
   "source": [
    "                                          4. Qtde de 'not_defined'"
   ]
  },
  {
   "cell_type": "code",
   "execution_count": 29,
   "metadata": {},
   "outputs": [],
   "source": [
    "# seleciona 'order_id' cujo 'payment_type' = 'not_defined'\n",
    "payments_somente_not_defined = payments.loc[payments['payment_type']=='not_defined']"
   ]
  },
  {
   "cell_type": "code",
   "execution_count": 30,
   "metadata": {},
   "outputs": [],
   "source": [
    "# Mudar o nome da coluna para 'qtde_not_defined'\n",
    "payments_somente_not_defined.columns = ['order_id', 'payment_sequential', 'qtde_not_defined', 'payment_installments', 'payment_value']"
   ]
  },
  {
   "cell_type": "code",
   "execution_count": 31,
   "metadata": {},
   "outputs": [],
   "source": [
    "# substituir 'not_defined' pelo algarismo '1'.\n",
    "payments_somente_not_defined = payments_somente_not_defined.apply(lambda x: x.replace('not_defined', 1))"
   ]
  },
  {
   "cell_type": "markdown",
   "metadata": {},
   "source": [
    "###### DataFrame <font color=red>\"payments_somente_not_defined\"</font> pronto para join"
   ]
  },
  {
   "cell_type": "markdown",
   "metadata": {},
   "source": [
    "                                          5. Qtde de 'voucher'"
   ]
  },
  {
   "cell_type": "code",
   "execution_count": 32,
   "metadata": {},
   "outputs": [],
   "source": [
    "# seleciona 'order_id' cujo 'payment_type' = 'voucher'\n",
    "payments_somente_voucher = payments.loc[payments['payment_type']=='voucher']"
   ]
  },
  {
   "cell_type": "code",
   "execution_count": 33,
   "metadata": {},
   "outputs": [],
   "source": [
    "# Contagem de 'voucher' de cada 'order_id'\n",
    "qtde_voucher = payments_somente_voucher.groupby('order_id')['payment_type'].count()\n",
    "\n",
    "df_qtde_voucher = pd.DataFrame(qtde_voucher)"
   ]
  },
  {
   "cell_type": "code",
   "execution_count": 34,
   "metadata": {},
   "outputs": [],
   "source": [
    "# Tira 'order_id' da condição de índice.\n",
    "df_qtde_voucher_index_resetado = df_qtde_voucher.reset_index()"
   ]
  },
  {
   "cell_type": "code",
   "execution_count": 35,
   "metadata": {},
   "outputs": [],
   "source": [
    "# Mudar o nome da coluna para 'qtde_credit_card'\n",
    "df_qtde_voucher_index_resetado.columns = ['order_id', 'qtde_voucher']"
   ]
  },
  {
   "cell_type": "markdown",
   "metadata": {},
   "source": [
    "###### DataFrame <font color=red>\"df_qtde_voucher_index_resetado\"</font> pronto para join"
   ]
  },
  {
   "cell_type": "markdown",
   "metadata": {},
   "source": [
    "                                          6. Soma de 'payment_value'"
   ]
  },
  {
   "cell_type": "code",
   "execution_count": 36,
   "metadata": {},
   "outputs": [],
   "source": [
    "# Contagem de 'payment_installments' de cada 'order_id'\n",
    "soma_payment_value = payments.groupby('order_id')['payment_value'].sum()\n",
    "\n",
    "df_soma_payment_value = pd.DataFrame(soma_payment_value)"
   ]
  },
  {
   "cell_type": "code",
   "execution_count": 37,
   "metadata": {},
   "outputs": [],
   "source": [
    "# Tira 'order_id' da condição de índice.\n",
    "df_soma_payment_value_index_resetado = df_soma_payment_value.reset_index()"
   ]
  },
  {
   "cell_type": "markdown",
   "metadata": {},
   "source": [
    "###### DataFrame <font color=red>\"df_soma_payment_value_index_resetado\"</font> pronto para join"
   ]
  },
  {
   "cell_type": "markdown",
   "metadata": {},
   "source": [
    "                                          7. Qtde de 'installments'"
   ]
  },
  {
   "cell_type": "code",
   "execution_count": 38,
   "metadata": {},
   "outputs": [],
   "source": [
    "# Contagem de 'payment_installments' de cada 'order_id'\n",
    "# Usaremos a função 'max()'\n",
    "qtde_installments = payments.groupby('order_id')['payment_installments'].max()\n",
    "\n",
    "df_qtde_installments = pd.DataFrame(qtde_installments)"
   ]
  },
  {
   "cell_type": "code",
   "execution_count": 39,
   "metadata": {},
   "outputs": [],
   "source": [
    "# Tira 'order_id' da condição de índice.\n",
    "df_qtde_installments_index_resetado = df_qtde_installments.reset_index()"
   ]
  },
  {
   "cell_type": "markdown",
   "metadata": {},
   "source": [
    "###### DataFrame <font color=red>\"df_qtde_installments_index_resetado\"</font> pronto para join"
   ]
  },
  {
   "cell_type": "markdown",
   "metadata": {},
   "source": [
    "                                 ------------------ x -------------------"
   ]
  },
  {
   "cell_type": "markdown",
   "metadata": {},
   "source": [
    "#### 3.5.2 - IMPLEMENTAÇÃO da criação de colunas novas na tabela <font color=red>\"payments\" </font>"
   ]
  },
  {
   "cell_type": "code",
   "execution_count": 40,
   "metadata": {},
   "outputs": [],
   "source": [
    "# deleção de todos os campos que não sejam 'order_id'\n",
    "payments_somente_order = payments.drop(['payment_sequential', 'payment_type', 'payment_installments', 'payment_value'], axis=1)"
   ]
  },
  {
   "cell_type": "markdown",
   "metadata": {},
   "source": [
    "###### Os DataFrames usados no join são:\n",
    "> 1. payments_somente_boleto   \n",
    "2. df_qtde_credit_card_index_resetado  \n",
    "3. df_qtde_debit_card_index_resetado  \n",
    "4. payments_somente_not_defined  \n",
    "5. df_qtde_voucher_index_resetado  \n",
    "6. df_soma_payment_value_index_resetado  \n",
    "7. df_qtde_installments_index_resetado"
   ]
  },
  {
   "cell_type": "markdown",
   "metadata": {},
   "source": [
    "                                     1.Merge para obter 'qtde_boleto'"
   ]
  },
  {
   "cell_type": "code",
   "execution_count": 41,
   "metadata": {},
   "outputs": [],
   "source": [
    "# exemplo de merge  --->    m = pd.merge(tabela_1, tabela_2, how = 'left', on = 'Nome')\n",
    "payments_boleto = pd.merge(payments_somente_order, payments_somente_boleto, how = 'left', on = 'order_id')"
   ]
  },
  {
   "cell_type": "code",
   "execution_count": 42,
   "metadata": {},
   "outputs": [],
   "source": [
    "# Deleção dos campos não mais necessários\n",
    "payments_boleto_limpo = payments_boleto.drop(['payment_sequential', 'payment_installments','payment_value'], axis=1)"
   ]
  },
  {
   "cell_type": "markdown",
   "metadata": {},
   "source": [
    "                                     2.Merge para obter 'qtde_credit_card'"
   ]
  },
  {
   "cell_type": "code",
   "execution_count": 43,
   "metadata": {},
   "outputs": [],
   "source": [
    "boleto_credit_card = pd.merge(payments_boleto_limpo, df_qtde_credit_card_index_resetado, how = 'left', on = 'order_id')"
   ]
  },
  {
   "cell_type": "markdown",
   "metadata": {},
   "source": [
    "                                     3.Merge para obter 'qtde_debit_card'"
   ]
  },
  {
   "cell_type": "code",
   "execution_count": 44,
   "metadata": {},
   "outputs": [],
   "source": [
    "boleto_credit_e_debit_card = pd.merge(boleto_credit_card, df_qtde_debit_card_index_resetado, how = 'left', on = 'order_id')"
   ]
  },
  {
   "cell_type": "markdown",
   "metadata": {},
   "source": [
    "                                     4.Merge para obter 'qtde_not_defined'"
   ]
  },
  {
   "cell_type": "code",
   "execution_count": 45,
   "metadata": {},
   "outputs": [],
   "source": [
    "boleto_credit_debit_NotDefined = pd.merge(boleto_credit_e_debit_card, payments_somente_not_defined, how = 'left', on = 'order_id')"
   ]
  },
  {
   "cell_type": "code",
   "execution_count": 46,
   "metadata": {},
   "outputs": [],
   "source": [
    "# Deleção dos campos não mais necessários\n",
    "boleto_credit_debit_NotDefined_limpo = boleto_credit_debit_NotDefined.drop(['payment_sequential', 'payment_installments','payment_value'], axis=1)"
   ]
  },
  {
   "cell_type": "markdown",
   "metadata": {},
   "source": [
    "                                     5.Merge para obter 'qtde_voucher'"
   ]
  },
  {
   "cell_type": "code",
   "execution_count": 47,
   "metadata": {},
   "outputs": [],
   "source": [
    "bol_cred_deb_Ndef_voucher = pd.merge(boleto_credit_debit_NotDefined_limpo, df_qtde_voucher_index_resetado, how = 'left', on = 'order_id')"
   ]
  },
  {
   "cell_type": "markdown",
   "metadata": {},
   "source": [
    "                                     6.Merge para obter 'soma_payment'"
   ]
  },
  {
   "cell_type": "code",
   "execution_count": 48,
   "metadata": {},
   "outputs": [],
   "source": [
    "bol_cred_deb_Ndef_vou_pay = pd.merge(bol_cred_deb_Ndef_voucher, df_soma_payment_value_index_resetado, how = 'left', on = 'order_id')"
   ]
  },
  {
   "cell_type": "code",
   "execution_count": 49,
   "metadata": {},
   "outputs": [],
   "source": [
    "# renomeando a última coluna:\n",
    "bol_cred_deb_Ndef_vou_pay.columns = ['order_id', 'qtde_boleto', 'qtde_credit_card', 'qtde_debit_card', 'qtde_not_defined', 'qtde_voucher', 'soma_payment']"
   ]
  },
  {
   "cell_type": "markdown",
   "metadata": {},
   "source": [
    "                                     7.Merge para obter 'qtde_installments'"
   ]
  },
  {
   "cell_type": "code",
   "execution_count": 50,
   "metadata": {},
   "outputs": [],
   "source": [
    "bol_cred_deb_Ndef_vou_pay_install = pd.merge(bol_cred_deb_Ndef_vou_pay, df_qtde_installments_index_resetado, how = 'left', on = 'order_id')"
   ]
  },
  {
   "cell_type": "code",
   "execution_count": 51,
   "metadata": {},
   "outputs": [],
   "source": [
    "# renomeando a última coluna:\n",
    "bol_cred_deb_Ndef_vou_pay_install.columns = ['order_id', 'qtde_boleto', 'qtde_credit_card', 'qtde_debit_card', 'qtde_not_defined', 'qtde_voucher', 'soma_payment', 'qtde_installments']"
   ]
  },
  {
   "cell_type": "markdown",
   "metadata": {},
   "source": [
    "####  A nova tabela <font color=red>\"payments\"</font>:\n",
    "\n",
    "> Se chamará <font color=red>\"payments_normalizada\"</font>\n",
    "\n",
    "> Consistirá da tabela <font color=red>\"bol_cred_deb_Ndef_vou_pay_install\"</font> (recém obtida), sem duplicidade de\n",
    "'order_id'"
   ]
  },
  {
   "cell_type": "code",
   "execution_count": 52,
   "metadata": {},
   "outputs": [],
   "source": [
    "# Deleção dos duplicados de 'order_id' para torná-lo a chave primária da nova tabela\n",
    "payments_normalizada = bol_cred_deb_Ndef_vou_pay_install.drop_duplicates (subset=['order_id'])"
   ]
  },
  {
   "cell_type": "code",
   "execution_count": 53,
   "metadata": {},
   "outputs": [
    {
     "data": {
      "text/html": [
       "<img src=\"cinco tabelas - payments_normalizada.bmp\"/>"
      ],
      "text/plain": [
       "<IPython.core.display.Image object>"
      ]
     },
     "execution_count": 53,
     "metadata": {},
     "output_type": "execute_result"
    }
   ],
   "source": [
    "# Configuração atual APÓS a implementação da resolução.\n",
    "Image (url = \"cinco tabelas - payments_normalizada.bmp\")"
   ]
  },
  {
   "cell_type": "markdown",
   "metadata": {},
   "source": [
    "                                 ------------------ x -------------------"
   ]
  },
  {
   "cell_type": "markdown",
   "metadata": {},
   "source": [
    "### 3.6 - Tabela <font color=red>\"customers\""
   ]
  },
  {
   "cell_type": "code",
   "execution_count": 54,
   "metadata": {},
   "outputs": [
    {
     "data": {
      "text/html": [
       "<div>\n",
       "<style scoped>\n",
       "    .dataframe tbody tr th:only-of-type {\n",
       "        vertical-align: middle;\n",
       "    }\n",
       "\n",
       "    .dataframe tbody tr th {\n",
       "        vertical-align: top;\n",
       "    }\n",
       "\n",
       "    .dataframe thead th {\n",
       "        text-align: right;\n",
       "    }\n",
       "</style>\n",
       "<table border=\"1\" class=\"dataframe\">\n",
       "  <thead>\n",
       "    <tr style=\"text-align: right;\">\n",
       "      <th></th>\n",
       "      <th>customer_id</th>\n",
       "      <th>customer_unique_id</th>\n",
       "      <th>customer_zip_code_prefix</th>\n",
       "      <th>customer_city</th>\n",
       "      <th>customer_state</th>\n",
       "    </tr>\n",
       "  </thead>\n",
       "  <tbody>\n",
       "    <tr>\n",
       "      <th>0</th>\n",
       "      <td>06b8999e2fba1a1fbc88172c00ba8bc7</td>\n",
       "      <td>861eff4711a542e4b93843c6dd7febb0</td>\n",
       "      <td>14409</td>\n",
       "      <td>franca</td>\n",
       "      <td>SP</td>\n",
       "    </tr>\n",
       "  </tbody>\n",
       "</table>\n",
       "</div>"
      ],
      "text/plain": [
       "                        customer_id                customer_unique_id  \\\n",
       "0  06b8999e2fba1a1fbc88172c00ba8bc7  861eff4711a542e4b93843c6dd7febb0   \n",
       "\n",
       "   customer_zip_code_prefix customer_city customer_state  \n",
       "0                     14409        franca             SP  "
      ]
     },
     "execution_count": 54,
     "metadata": {},
     "output_type": "execute_result"
    }
   ],
   "source": [
    "customers.head(1)"
   ]
  },
  {
   "cell_type": "markdown",
   "metadata": {},
   "source": [
    "#### <font color=magenta>RESUMO</font>. Esses dois primeiros campos podem suscitar dúvidas, vamos esclarecer:\n",
    "> <font color=green>'customer_id'</font> é a chave primária da tabela <font color=red>\"customers\"</font>\n",
    ">> Também é único na tabela <font color=red>\"orders\"</font>, ou seja, cada compra tem seu 'customer_id'. Acho essa modelagem boboca, mas é assim que está.\n",
    "\n",
    "> <font color=green>'Customer_unique_id'</font> é único para a cada pessoa. \n",
    ">> Se uma pessoa fizer duas compras na Olist, em cada uma, receberá um <font color=green>'customer_id'</font> diferente. Gostaram?\n",
    "\n",
    "> Não há o que limpar, a tabela <font color=red>\"customers\"</font> está pronta para uso."
   ]
  },
  {
   "cell_type": "markdown",
   "metadata": {},
   "source": [
    "### 3.7 - Tabela <font color=red>\"sellers\"</font>"
   ]
  },
  {
   "cell_type": "markdown",
   "metadata": {},
   "source": [
    "#### 3.7.1 - Adição do campo <font color=green>'business_segment'</font> à tabela <font color=red>\"sellers\"</font>\n",
    "> A partir da tabela <font color=green>'closed_deals'</font>, do database OLIST MARKETING FUNNEL"
   ]
  },
  {
   "cell_type": "code",
   "execution_count": 55,
   "metadata": {},
   "outputs": [],
   "source": [
    "# Leitura da tabela \"closed deals\"\n",
    "closed_deals = pd.read_csv(\"olist_closed_deals_dataset.csv\", sep = ',')"
   ]
  },
  {
   "cell_type": "code",
   "execution_count": 56,
   "metadata": {},
   "outputs": [
    {
     "data": {
      "text/html": [
       "<div>\n",
       "<style scoped>\n",
       "    .dataframe tbody tr th:only-of-type {\n",
       "        vertical-align: middle;\n",
       "    }\n",
       "\n",
       "    .dataframe tbody tr th {\n",
       "        vertical-align: top;\n",
       "    }\n",
       "\n",
       "    .dataframe thead th {\n",
       "        text-align: right;\n",
       "    }\n",
       "</style>\n",
       "<table border=\"1\" class=\"dataframe\">\n",
       "  <thead>\n",
       "    <tr style=\"text-align: right;\">\n",
       "      <th></th>\n",
       "      <th>mql_id</th>\n",
       "      <th>seller_id</th>\n",
       "      <th>sdr_id</th>\n",
       "      <th>sr_id</th>\n",
       "      <th>won_date</th>\n",
       "      <th>business_segment</th>\n",
       "      <th>lead_type</th>\n",
       "      <th>lead_behaviour_profile</th>\n",
       "      <th>has_company</th>\n",
       "      <th>has_gtin</th>\n",
       "      <th>average_stock</th>\n",
       "      <th>business_type</th>\n",
       "      <th>declared_product_catalog_size</th>\n",
       "      <th>declared_monthly_revenue</th>\n",
       "    </tr>\n",
       "  </thead>\n",
       "  <tbody>\n",
       "    <tr>\n",
       "      <th>0</th>\n",
       "      <td>5420aad7fec3549a85876ba1c529bd84</td>\n",
       "      <td>2c43fb513632d29b3b58df74816f1b06</td>\n",
       "      <td>a8387c01a09e99ce014107505b92388c</td>\n",
       "      <td>4ef15afb4b2723d8f3d81e51ec7afefe</td>\n",
       "      <td>2018-02-26 19:58:54</td>\n",
       "      <td>pet</td>\n",
       "      <td>online_medium</td>\n",
       "      <td>cat</td>\n",
       "      <td>NaN</td>\n",
       "      <td>NaN</td>\n",
       "      <td>NaN</td>\n",
       "      <td>reseller</td>\n",
       "      <td>nan</td>\n",
       "      <td>0.00</td>\n",
       "    </tr>\n",
       "  </tbody>\n",
       "</table>\n",
       "</div>"
      ],
      "text/plain": [
       "                             mql_id                         seller_id  \\\n",
       "0  5420aad7fec3549a85876ba1c529bd84  2c43fb513632d29b3b58df74816f1b06   \n",
       "\n",
       "                             sdr_id                             sr_id  \\\n",
       "0  a8387c01a09e99ce014107505b92388c  4ef15afb4b2723d8f3d81e51ec7afefe   \n",
       "\n",
       "              won_date business_segment      lead_type lead_behaviour_profile  \\\n",
       "0  2018-02-26 19:58:54              pet  online_medium                    cat   \n",
       "\n",
       "  has_company has_gtin average_stock business_type  \\\n",
       "0         NaN      NaN           NaN      reseller   \n",
       "\n",
       "   declared_product_catalog_size  declared_monthly_revenue  \n",
       "0                            nan                      0.00  "
      ]
     },
     "execution_count": 56,
     "metadata": {},
     "output_type": "execute_result"
    }
   ],
   "source": [
    "closed_deals.head(1)"
   ]
  },
  {
   "cell_type": "code",
   "execution_count": 57,
   "metadata": {},
   "outputs": [
    {
     "name": "stdout",
     "output_type": "stream",
     "text": [
      "<class 'pandas.core.frame.DataFrame'>\n",
      "RangeIndex: 842 entries, 0 to 841\n",
      "Data columns (total 14 columns):\n",
      "mql_id                           842 non-null object\n",
      "seller_id                        842 non-null object\n",
      "sdr_id                           842 non-null object\n",
      "sr_id                            842 non-null object\n",
      "won_date                         842 non-null object\n",
      "business_segment                 841 non-null object\n",
      "lead_type                        836 non-null object\n",
      "lead_behaviour_profile           665 non-null object\n",
      "has_company                      63 non-null object\n",
      "has_gtin                         64 non-null object\n",
      "average_stock                    66 non-null object\n",
      "business_type                    832 non-null object\n",
      "declared_product_catalog_size    69 non-null float64\n",
      "declared_monthly_revenue         842 non-null float64\n",
      "dtypes: float64(2), object(12)\n",
      "memory usage: 92.2+ KB\n"
     ]
    }
   ],
   "source": [
    "closed_deals.info()"
   ]
  },
  {
   "cell_type": "code",
   "execution_count": 58,
   "metadata": {},
   "outputs": [
    {
     "data": {
      "text/html": [
       "<img src=\"sellers e closed_deals.bmp\"/>"
      ],
      "text/plain": [
       "<IPython.core.display.Image object>"
      ]
     },
     "execution_count": 58,
     "metadata": {},
     "output_type": "execute_result"
    }
   ],
   "source": [
    "# Por que só há 842 'seller_id' na tabela \"closed_deals\" (tabela da direita) ????? Deveria haver 3.095, como na da esquerda.\n",
    "Image (url = \"sellers e closed_deals.bmp\")"
   ]
  },
  {
   "cell_type": "code",
   "execution_count": 59,
   "metadata": {},
   "outputs": [],
   "source": [
    "# Fazendo merge de \"sellers\" com \"closed_deal\" para obter o campo 'business_segment'\n",
    "sellers_com_bSegment = pd.merge(sellers, closed_deals, how = 'left', on = 'seller_id')"
   ]
  },
  {
   "cell_type": "code",
   "execution_count": 60,
   "metadata": {},
   "outputs": [],
   "source": [
    "# Deleção dos campos não mais necessários\n",
    "sellers_normalizado = sellers_com_bSegment.drop(['mql_id', 'sdr_id','sr_id', 'won_date', 'lead_type', 'lead_behaviour_profile', 'has_company', 'has_gtin', 'average_stock', 'business_type', 'declared_product_catalog_size', 'declared_monthly_revenue'], axis=1)"
   ]
  },
  {
   "cell_type": "code",
   "execution_count": 61,
   "metadata": {},
   "outputs": [
    {
     "name": "stdout",
     "output_type": "stream",
     "text": [
      "<class 'pandas.core.frame.DataFrame'>\n",
      "Int64Index: 3095 entries, 0 to 3094\n",
      "Data columns (total 5 columns):\n",
      "seller_id                 3095 non-null object\n",
      "seller_zip_code_prefix    3095 non-null int64\n",
      "seller_city               3095 non-null object\n",
      "seller_state              3095 non-null object\n",
      "business_segment          380 non-null object\n",
      "dtypes: int64(1), object(4)\n",
      "memory usage: 145.1+ KB\n"
     ]
    }
   ],
   "source": [
    "sellers_normalizado.info()"
   ]
  },
  {
   "cell_type": "markdown",
   "metadata": {},
   "source": [
    "###### Somente 380 'business_segment' em 3.090 'seller_id'.\n",
    "> É outra incongruência desse DataSet.\n",
    ">> Provavelmente falha no carregamento de dados."
   ]
  },
  {
   "cell_type": "code",
   "execution_count": 62,
   "metadata": {},
   "outputs": [
    {
     "data": {
      "text/html": [
       "<img src=\"sete tabelas com sellers_normalizada.bmp\"/>"
      ],
      "text/plain": [
       "<IPython.core.display.Image object>"
      ]
     },
     "execution_count": 62,
     "metadata": {},
     "output_type": "execute_result"
    }
   ],
   "source": [
    "# Poderíamos relacionar 'product_category_name' (da tabela \"products\") à 'business_segment' (da tabela \"sellers_normalizada\")\n",
    "Image (url = \"sete tabelas com sellers_normalizada.bmp\")"
   ]
  },
  {
   "cell_type": "markdown",
   "metadata": {},
   "source": [
    "### 3.8 - Tabela <font color=red>\"geolocation\"</font>"
   ]
  },
  {
   "cell_type": "code",
   "execution_count": 63,
   "metadata": {},
   "outputs": [],
   "source": [
    "# Eliminando repetidos na concatenação de todos os campos.\n",
    "geolocation_sem_repetir = geolocation.drop_duplicates (subset=['geolocation_zip_code_prefix', 'geolocation_lat', 'geolocation_lng', 'geolocation_city', 'geolocation_state'])"
   ]
  },
  {
   "cell_type": "markdown",
   "metadata": {},
   "source": [
    "##### A chave primária é a concatenação de TODOS os campos da tabela."
   ]
  },
  {
   "cell_type": "markdown",
   "metadata": {},
   "source": [
    "##### A nova configuração a partir da qual montaremos o tabelão está abaixo."
   ]
  },
  {
   "cell_type": "code",
   "execution_count": 64,
   "metadata": {},
   "outputs": [
    {
     "data": {
      "text/html": [
       "<img src=\"Tabelas quase completas.PNG\"/>"
      ],
      "text/plain": [
       "<IPython.core.display.Image object>"
      ]
     },
     "execution_count": 64,
     "metadata": {},
     "output_type": "execute_result"
    }
   ],
   "source": [
    "Image (url = \"Tabelas quase completas.PNG\")"
   ]
  },
  {
   "cell_type": "markdown",
   "metadata": {},
   "source": [
    "## 4 - Montagem do Tabelão"
   ]
  },
  {
   "cell_type": "markdown",
   "metadata": {},
   "source": [
    "##### Partiremos da tabela <font color=red>\"orders\"</font>, indicada pelas setas, e pegaremos campos marcados pelos retângulos em <font color=green>\"verde\"</font>."
   ]
  },
  {
   "cell_type": "code",
   "execution_count": 65,
   "metadata": {},
   "outputs": [
    {
     "data": {
      "text/html": [
       "<img src=\"Campos iniciais para tabelao.PNG\"/>"
      ],
      "text/plain": [
       "<IPython.core.display.Image object>"
      ]
     },
     "execution_count": 65,
     "metadata": {},
     "output_type": "execute_result"
    }
   ],
   "source": [
    "Image (url = \"Campos iniciais para tabelao.PNG\")"
   ]
  },
  {
   "cell_type": "markdown",
   "metadata": {},
   "source": [
    "### 4.1 - Merge <font color=red>\"orders\"</font> com <font color=red>\"reviews_normalizada\"</font>\n",
    "> Manter toda a tabela <font color=red>\"orders\"</font> e trazer somente a correspondência de <font color=red>\"reviews_normalizada\"</font>"
   ]
  },
  {
   "cell_type": "code",
   "execution_count": 66,
   "metadata": {},
   "outputs": [],
   "source": [
    "orders_reviews_apos_merge = pd.merge(orders, reviews_normalizada, how = 'left', on = 'order_id')"
   ]
  },
  {
   "cell_type": "code",
   "execution_count": 67,
   "metadata": {},
   "outputs": [
    {
     "name": "stdout",
     "output_type": "stream",
     "text": [
      "<class 'pandas.core.frame.DataFrame'>\n",
      "Int64Index: 99441 entries, 0 to 99440\n",
      "Data columns (total 14 columns):\n",
      "order_id                         99441 non-null object\n",
      "customer_id                      99441 non-null object\n",
      "order_status                     99441 non-null object\n",
      "order_purchase_timestamp         99441 non-null object\n",
      "order_approved_at                99281 non-null object\n",
      "order_delivered_carrier_date     97658 non-null object\n",
      "order_delivered_customer_date    96476 non-null object\n",
      "order_estimated_delivery_date    99441 non-null object\n",
      "review_id                        98926 non-null object\n",
      "review_score                     98926 non-null float64\n",
      "review_comment_title             11659 non-null object\n",
      "review_comment_message           41343 non-null object\n",
      "review_creation_date             98926 non-null object\n",
      "review_answer_timestamp          98926 non-null object\n",
      "dtypes: float64(1), object(13)\n",
      "memory usage: 11.4+ MB\n"
     ]
    }
   ],
   "source": [
    "orders_reviews_apos_merge.info()"
   ]
  },
  {
   "cell_type": "code",
   "execution_count": 68,
   "metadata": {},
   "outputs": [],
   "source": [
    "# Deleção dos campos não necessários (manter somente os marcados pelo retângulo verde na figura acima)\n",
    "orders_reviews = orders_reviews_apos_merge.drop(['review_comment_title', 'review_comment_message','review_creation_date', 'review_answer_timestamp'], axis=1)"
   ]
  },
  {
   "cell_type": "code",
   "execution_count": 69,
   "metadata": {},
   "outputs": [
    {
     "data": {
      "text/plain": [
       "((99441, 8), (98926, 7), (99441, 14), (99441, 10))"
      ]
     },
     "execution_count": 69,
     "metadata": {},
     "output_type": "execute_result"
    }
   ],
   "source": [
    "orders.shape, reviews_normalizada.shape, orders_reviews_apos_merge.shape, orders_reviews.shape"
   ]
  },
  {
   "cell_type": "code",
   "execution_count": 70,
   "metadata": {},
   "outputs": [
    {
     "name": "stdout",
     "output_type": "stream",
     "text": [
      "<class 'pandas.core.frame.DataFrame'>\n",
      "Int64Index: 99441 entries, 0 to 99440\n",
      "Data columns (total 14 columns):\n",
      "order_id                         99441 non-null object\n",
      "customer_id                      99441 non-null object\n",
      "order_status                     99441 non-null object\n",
      "order_purchase_timestamp         99441 non-null object\n",
      "order_approved_at                99281 non-null object\n",
      "order_delivered_carrier_date     97658 non-null object\n",
      "order_delivered_customer_date    96476 non-null object\n",
      "order_estimated_delivery_date    99441 non-null object\n",
      "review_id                        98926 non-null object\n",
      "review_score                     98926 non-null float64\n",
      "review_comment_title             11659 non-null object\n",
      "review_comment_message           41343 non-null object\n",
      "review_creation_date             98926 non-null object\n",
      "review_answer_timestamp          98926 non-null object\n",
      "dtypes: float64(1), object(13)\n",
      "memory usage: 11.4+ MB\n"
     ]
    }
   ],
   "source": [
    "orders_reviews_apos_merge.info()"
   ]
  },
  {
   "cell_type": "markdown",
   "metadata": {},
   "source": [
    "### 4.2 - Merge do resultado com <font color=red>\"payments_normalizada\"</font> "
   ]
  },
  {
   "cell_type": "code",
   "execution_count": 71,
   "metadata": {},
   "outputs": [],
   "source": [
    "orders_reviews_payments = pd.merge(orders_reviews, payments_normalizada, how = 'left', left_on = 'order_id', right_on = 'order_id')"
   ]
  },
  {
   "cell_type": "code",
   "execution_count": 72,
   "metadata": {},
   "outputs": [
    {
     "data": {
      "text/plain": [
       "((99441, 10), (99440, 8), (99441, 17))"
      ]
     },
     "execution_count": 72,
     "metadata": {},
     "output_type": "execute_result"
    }
   ],
   "source": [
    "orders_reviews.shape, payments_normalizada.shape, orders_reviews_payments.shape"
   ]
  },
  {
   "cell_type": "markdown",
   "metadata": {},
   "source": [
    "##### Há um 'order_id' a menos na tabela <font color=red>\"payments_normalizada\"</font>.\n",
    "> Os 07 (sete) campos juntados devem apresentar 'NaN'.\n",
    "\n",
    "> Tenho curiosidade de descobrir qual registro é esse."
   ]
  },
  {
   "cell_type": "markdown",
   "metadata": {},
   "source": [
    "#### 4.2.1 -Investigação sobre o 'order_id' sem correspondência\n",
    "> vou selecionar campo a campo, os registros que são 'nan'."
   ]
  },
  {
   "cell_type": "code",
   "execution_count": 73,
   "metadata": {},
   "outputs": [
    {
     "name": "stdout",
     "output_type": "stream",
     "text": [
      "<class 'pandas.core.frame.DataFrame'>\n",
      "Int64Index: 99441 entries, 0 to 99440\n",
      "Data columns (total 17 columns):\n",
      "order_id                         99441 non-null object\n",
      "customer_id                      99441 non-null object\n",
      "order_status                     99441 non-null object\n",
      "order_purchase_timestamp         99441 non-null object\n",
      "order_approved_at                99281 non-null object\n",
      "order_delivered_carrier_date     97658 non-null object\n",
      "order_delivered_customer_date    96476 non-null object\n",
      "order_estimated_delivery_date    99441 non-null object\n",
      "review_id                        98926 non-null object\n",
      "review_score                     98926 non-null float64\n",
      "qtde_boleto                      19784 non-null float64\n",
      "qtde_credit_card                 76505 non-null float64\n",
      "qtde_debit_card                  1528 non-null float64\n",
      "qtde_not_defined                 3 non-null float64\n",
      "qtde_voucher                     3866 non-null float64\n",
      "soma_payment                     99440 non-null float64\n",
      "qtde_installments                99440 non-null float64\n",
      "dtypes: float64(8), object(9)\n",
      "memory usage: 13.7+ MB\n"
     ]
    }
   ],
   "source": [
    "orders_reviews_payments.info()"
   ]
  },
  {
   "cell_type": "code",
   "execution_count": 74,
   "metadata": {},
   "outputs": [],
   "source": [
    "# Cria um dataframe somente com 'order_id' e os campos juntados\n",
    "ateh_agora = orders_reviews_payments[['order_id', 'qtde_boleto', 'qtde_credit_card', 'qtde_debit_card', 'qtde_not_defined', 'qtde_voucher', 'soma_payment', 'qtde_installments']]"
   ]
  },
  {
   "cell_type": "code",
   "execution_count": 75,
   "metadata": {},
   "outputs": [
    {
     "name": "stdout",
     "output_type": "stream",
     "text": [
      "<class 'pandas.core.frame.DataFrame'>\n",
      "Int64Index: 99441 entries, 0 to 99440\n",
      "Data columns (total 8 columns):\n",
      "order_id             99441 non-null object\n",
      "qtde_boleto          19784 non-null float64\n",
      "qtde_credit_card     76505 non-null float64\n",
      "qtde_debit_card      1528 non-null float64\n",
      "qtde_not_defined     3 non-null float64\n",
      "qtde_voucher         3866 non-null float64\n",
      "soma_payment         99440 non-null float64\n",
      "qtde_installments    99440 non-null float64\n",
      "dtypes: float64(7), object(1)\n",
      "memory usage: 6.8+ MB\n"
     ]
    }
   ],
   "source": [
    "ateh_agora.info()"
   ]
  },
  {
   "cell_type": "code",
   "execution_count": 76,
   "metadata": {},
   "outputs": [
    {
     "data": {
      "text/html": [
       "<div>\n",
       "<style scoped>\n",
       "    .dataframe tbody tr th:only-of-type {\n",
       "        vertical-align: middle;\n",
       "    }\n",
       "\n",
       "    .dataframe tbody tr th {\n",
       "        vertical-align: top;\n",
       "    }\n",
       "\n",
       "    .dataframe thead th {\n",
       "        text-align: right;\n",
       "    }\n",
       "</style>\n",
       "<table border=\"1\" class=\"dataframe\">\n",
       "  <thead>\n",
       "    <tr style=\"text-align: right;\">\n",
       "      <th></th>\n",
       "      <th>order_id</th>\n",
       "      <th>qtde_boleto</th>\n",
       "      <th>qtde_credit_card</th>\n",
       "      <th>qtde_debit_card</th>\n",
       "      <th>qtde_not_defined</th>\n",
       "      <th>qtde_voucher</th>\n",
       "      <th>soma_payment</th>\n",
       "      <th>qtde_installments</th>\n",
       "    </tr>\n",
       "  </thead>\n",
       "  <tbody>\n",
       "    <tr>\n",
       "      <th>0</th>\n",
       "      <td>e481f51cbdc54678b7cc49136f2d6af7</td>\n",
       "      <td>nan</td>\n",
       "      <td>1.00</td>\n",
       "      <td>nan</td>\n",
       "      <td>nan</td>\n",
       "      <td>2.00</td>\n",
       "      <td>38.71</td>\n",
       "      <td>1.00</td>\n",
       "    </tr>\n",
       "    <tr>\n",
       "      <th>1</th>\n",
       "      <td>53cdb2fc8bc7dce0b6741e2150273451</td>\n",
       "      <td>1.00</td>\n",
       "      <td>nan</td>\n",
       "      <td>nan</td>\n",
       "      <td>nan</td>\n",
       "      <td>nan</td>\n",
       "      <td>141.46</td>\n",
       "      <td>1.00</td>\n",
       "    </tr>\n",
       "    <tr>\n",
       "      <th>2</th>\n",
       "      <td>47770eb9100c2d0c44946d9cf07ec65d</td>\n",
       "      <td>nan</td>\n",
       "      <td>1.00</td>\n",
       "      <td>nan</td>\n",
       "      <td>nan</td>\n",
       "      <td>nan</td>\n",
       "      <td>179.12</td>\n",
       "      <td>3.00</td>\n",
       "    </tr>\n",
       "    <tr>\n",
       "      <th>3</th>\n",
       "      <td>949d5b44dbf5de918fe9c16f97b45f8a</td>\n",
       "      <td>nan</td>\n",
       "      <td>1.00</td>\n",
       "      <td>nan</td>\n",
       "      <td>nan</td>\n",
       "      <td>nan</td>\n",
       "      <td>72.20</td>\n",
       "      <td>1.00</td>\n",
       "    </tr>\n",
       "    <tr>\n",
       "      <th>4</th>\n",
       "      <td>ad21c59c0840e6cb83a9ceb5573f8159</td>\n",
       "      <td>nan</td>\n",
       "      <td>1.00</td>\n",
       "      <td>nan</td>\n",
       "      <td>nan</td>\n",
       "      <td>nan</td>\n",
       "      <td>28.62</td>\n",
       "      <td>1.00</td>\n",
       "    </tr>\n",
       "  </tbody>\n",
       "</table>\n",
       "</div>"
      ],
      "text/plain": [
       "                           order_id  qtde_boleto  qtde_credit_card  \\\n",
       "0  e481f51cbdc54678b7cc49136f2d6af7          nan              1.00   \n",
       "1  53cdb2fc8bc7dce0b6741e2150273451         1.00               nan   \n",
       "2  47770eb9100c2d0c44946d9cf07ec65d          nan              1.00   \n",
       "3  949d5b44dbf5de918fe9c16f97b45f8a          nan              1.00   \n",
       "4  ad21c59c0840e6cb83a9ceb5573f8159          nan              1.00   \n",
       "\n",
       "   qtde_debit_card  qtde_not_defined  qtde_voucher  soma_payment  \\\n",
       "0              nan               nan          2.00         38.71   \n",
       "1              nan               nan           nan        141.46   \n",
       "2              nan               nan           nan        179.12   \n",
       "3              nan               nan           nan         72.20   \n",
       "4              nan               nan           nan         28.62   \n",
       "\n",
       "   qtde_installments  \n",
       "0               1.00  \n",
       "1               1.00  \n",
       "2               3.00  \n",
       "3               1.00  \n",
       "4               1.00  "
      ]
     },
     "execution_count": 76,
     "metadata": {},
     "output_type": "execute_result"
    }
   ],
   "source": [
    "ateh_agora.head()"
   ]
  },
  {
   "cell_type": "code",
   "execution_count": 77,
   "metadata": {},
   "outputs": [
    {
     "data": {
      "text/plain": [
       "(99441, 8)"
      ]
     },
     "execution_count": 77,
     "metadata": {},
     "output_type": "execute_result"
    }
   ],
   "source": [
    "ateh_agora.shape"
   ]
  },
  {
   "cell_type": "code",
   "execution_count": 78,
   "metadata": {},
   "outputs": [],
   "source": [
    "# cria novo dataframe com os registros que têm 'qtde_boleto' como 'nan'\n",
    "ateh_agora2 = ateh_agora.loc[ateh_agora['qtde_boleto'].isna()].sort_values(by='order_id')"
   ]
  },
  {
   "cell_type": "code",
   "execution_count": 79,
   "metadata": {},
   "outputs": [
    {
     "data": {
      "text/html": [
       "<div>\n",
       "<style scoped>\n",
       "    .dataframe tbody tr th:only-of-type {\n",
       "        vertical-align: middle;\n",
       "    }\n",
       "\n",
       "    .dataframe tbody tr th {\n",
       "        vertical-align: top;\n",
       "    }\n",
       "\n",
       "    .dataframe thead th {\n",
       "        text-align: right;\n",
       "    }\n",
       "</style>\n",
       "<table border=\"1\" class=\"dataframe\">\n",
       "  <thead>\n",
       "    <tr style=\"text-align: right;\">\n",
       "      <th></th>\n",
       "      <th>order_id</th>\n",
       "      <th>qtde_boleto</th>\n",
       "      <th>qtde_credit_card</th>\n",
       "      <th>qtde_debit_card</th>\n",
       "      <th>qtde_not_defined</th>\n",
       "      <th>qtde_voucher</th>\n",
       "      <th>soma_payment</th>\n",
       "      <th>qtde_installments</th>\n",
       "    </tr>\n",
       "  </thead>\n",
       "  <tbody>\n",
       "    <tr>\n",
       "      <th>85267</th>\n",
       "      <td>00010242fe8c5a6d1ba2dd792cb16214</td>\n",
       "      <td>nan</td>\n",
       "      <td>1.00</td>\n",
       "      <td>nan</td>\n",
       "      <td>nan</td>\n",
       "      <td>nan</td>\n",
       "      <td>72.19</td>\n",
       "      <td>2.00</td>\n",
       "    </tr>\n",
       "    <tr>\n",
       "      <th>71853</th>\n",
       "      <td>00018f77f2f0320c557190d7a144bdd3</td>\n",
       "      <td>nan</td>\n",
       "      <td>1.00</td>\n",
       "      <td>nan</td>\n",
       "      <td>nan</td>\n",
       "      <td>nan</td>\n",
       "      <td>259.83</td>\n",
       "      <td>3.00</td>\n",
       "    </tr>\n",
       "    <tr>\n",
       "      <th>6298</th>\n",
       "      <td>000229ec398224ef6ca0657da4fc703e</td>\n",
       "      <td>nan</td>\n",
       "      <td>1.00</td>\n",
       "      <td>nan</td>\n",
       "      <td>nan</td>\n",
       "      <td>nan</td>\n",
       "      <td>216.87</td>\n",
       "      <td>5.00</td>\n",
       "    </tr>\n",
       "    <tr>\n",
       "      <th>22550</th>\n",
       "      <td>00024acbcdf0a6daa1e931b038114c75</td>\n",
       "      <td>nan</td>\n",
       "      <td>1.00</td>\n",
       "      <td>nan</td>\n",
       "      <td>nan</td>\n",
       "      <td>nan</td>\n",
       "      <td>25.78</td>\n",
       "      <td>2.00</td>\n",
       "    </tr>\n",
       "    <tr>\n",
       "      <th>5247</th>\n",
       "      <td>00042b26cf59d7ce69dfabb4e55b4fd9</td>\n",
       "      <td>nan</td>\n",
       "      <td>1.00</td>\n",
       "      <td>nan</td>\n",
       "      <td>nan</td>\n",
       "      <td>nan</td>\n",
       "      <td>218.04</td>\n",
       "      <td>3.00</td>\n",
       "    </tr>\n",
       "  </tbody>\n",
       "</table>\n",
       "</div>"
      ],
      "text/plain": [
       "                               order_id  qtde_boleto  qtde_credit_card  \\\n",
       "85267  00010242fe8c5a6d1ba2dd792cb16214          nan              1.00   \n",
       "71853  00018f77f2f0320c557190d7a144bdd3          nan              1.00   \n",
       "6298   000229ec398224ef6ca0657da4fc703e          nan              1.00   \n",
       "22550  00024acbcdf0a6daa1e931b038114c75          nan              1.00   \n",
       "5247   00042b26cf59d7ce69dfabb4e55b4fd9          nan              1.00   \n",
       "\n",
       "       qtde_debit_card  qtde_not_defined  qtde_voucher  soma_payment  \\\n",
       "85267              nan               nan           nan         72.19   \n",
       "71853              nan               nan           nan        259.83   \n",
       "6298               nan               nan           nan        216.87   \n",
       "22550              nan               nan           nan         25.78   \n",
       "5247               nan               nan           nan        218.04   \n",
       "\n",
       "       qtde_installments  \n",
       "85267               2.00  \n",
       "71853               3.00  \n",
       "6298                5.00  \n",
       "22550               2.00  \n",
       "5247                3.00  "
      ]
     },
     "execution_count": 79,
     "metadata": {},
     "output_type": "execute_result"
    }
   ],
   "source": [
    "ateh_agora2.head()"
   ]
  },
  {
   "cell_type": "code",
   "execution_count": 80,
   "metadata": {},
   "outputs": [
    {
     "data": {
      "text/plain": [
       "(79657, 8)"
      ]
     },
     "execution_count": 80,
     "metadata": {},
     "output_type": "execute_result"
    }
   ],
   "source": [
    "ateh_agora2.shape"
   ]
  },
  {
   "cell_type": "code",
   "execution_count": 81,
   "metadata": {},
   "outputs": [],
   "source": [
    "# Cria novo dataframe com os registros de \"ateh_agora2\" que têm 'qtde_credit_card' como 'nan'\n",
    "ateh_agora3 = ateh_agora2.loc[ateh_agora2['qtde_credit_card'].isna()].sort_values(by='order_id')"
   ]
  },
  {
   "cell_type": "code",
   "execution_count": 82,
   "metadata": {},
   "outputs": [
    {
     "data": {
      "text/html": [
       "<div>\n",
       "<style scoped>\n",
       "    .dataframe tbody tr th:only-of-type {\n",
       "        vertical-align: middle;\n",
       "    }\n",
       "\n",
       "    .dataframe tbody tr th {\n",
       "        vertical-align: top;\n",
       "    }\n",
       "\n",
       "    .dataframe thead th {\n",
       "        text-align: right;\n",
       "    }\n",
       "</style>\n",
       "<table border=\"1\" class=\"dataframe\">\n",
       "  <thead>\n",
       "    <tr style=\"text-align: right;\">\n",
       "      <th></th>\n",
       "      <th>order_id</th>\n",
       "      <th>qtde_boleto</th>\n",
       "      <th>qtde_credit_card</th>\n",
       "      <th>qtde_debit_card</th>\n",
       "      <th>qtde_not_defined</th>\n",
       "      <th>qtde_voucher</th>\n",
       "      <th>soma_payment</th>\n",
       "      <th>qtde_installments</th>\n",
       "    </tr>\n",
       "  </thead>\n",
       "  <tbody>\n",
       "    <tr>\n",
       "      <th>2889</th>\n",
       "      <td>002f16b7bc4530031b7d90f791b12d8a</td>\n",
       "      <td>nan</td>\n",
       "      <td>nan</td>\n",
       "      <td>1.00</td>\n",
       "      <td>nan</td>\n",
       "      <td>nan</td>\n",
       "      <td>284.13</td>\n",
       "      <td>1.00</td>\n",
       "    </tr>\n",
       "    <tr>\n",
       "      <th>44054</th>\n",
       "      <td>002f19a65a2ddd70a090297872e6d64e</td>\n",
       "      <td>nan</td>\n",
       "      <td>nan</td>\n",
       "      <td>nan</td>\n",
       "      <td>nan</td>\n",
       "      <td>2.00</td>\n",
       "      <td>77.29</td>\n",
       "      <td>1.00</td>\n",
       "    </tr>\n",
       "    <tr>\n",
       "      <th>9473</th>\n",
       "      <td>0036757472ece3dde52fd4bfd929c90e</td>\n",
       "      <td>nan</td>\n",
       "      <td>nan</td>\n",
       "      <td>1.00</td>\n",
       "      <td>nan</td>\n",
       "      <td>nan</td>\n",
       "      <td>203.03</td>\n",
       "      <td>1.00</td>\n",
       "    </tr>\n",
       "    <tr>\n",
       "      <th>85919</th>\n",
       "      <td>004345d16a1ab2c21962992c721c8643</td>\n",
       "      <td>nan</td>\n",
       "      <td>nan</td>\n",
       "      <td>nan</td>\n",
       "      <td>nan</td>\n",
       "      <td>1.00</td>\n",
       "      <td>53.27</td>\n",
       "      <td>1.00</td>\n",
       "    </tr>\n",
       "    <tr>\n",
       "      <th>22168</th>\n",
       "      <td>0071ee2429bc1efdc43aa3e073a5290e</td>\n",
       "      <td>nan</td>\n",
       "      <td>nan</td>\n",
       "      <td>nan</td>\n",
       "      <td>nan</td>\n",
       "      <td>2.00</td>\n",
       "      <td>192.44</td>\n",
       "      <td>1.00</td>\n",
       "    </tr>\n",
       "  </tbody>\n",
       "</table>\n",
       "</div>"
      ],
      "text/plain": [
       "                               order_id  qtde_boleto  qtde_credit_card  \\\n",
       "2889   002f16b7bc4530031b7d90f791b12d8a          nan               nan   \n",
       "44054  002f19a65a2ddd70a090297872e6d64e          nan               nan   \n",
       "9473   0036757472ece3dde52fd4bfd929c90e          nan               nan   \n",
       "85919  004345d16a1ab2c21962992c721c8643          nan               nan   \n",
       "22168  0071ee2429bc1efdc43aa3e073a5290e          nan               nan   \n",
       "\n",
       "       qtde_debit_card  qtde_not_defined  qtde_voucher  soma_payment  \\\n",
       "2889              1.00               nan           nan        284.13   \n",
       "44054              nan               nan          2.00         77.29   \n",
       "9473              1.00               nan           nan        203.03   \n",
       "85919              nan               nan          1.00         53.27   \n",
       "22168              nan               nan          2.00        192.44   \n",
       "\n",
       "       qtde_installments  \n",
       "2889                1.00  \n",
       "44054               1.00  \n",
       "9473                1.00  \n",
       "85919               1.00  \n",
       "22168               1.00  "
      ]
     },
     "execution_count": 82,
     "metadata": {},
     "output_type": "execute_result"
    }
   ],
   "source": [
    "ateh_agora3.head()"
   ]
  },
  {
   "cell_type": "code",
   "execution_count": 83,
   "metadata": {},
   "outputs": [
    {
     "data": {
      "text/plain": [
       "(3152, 8)"
      ]
     },
     "execution_count": 83,
     "metadata": {},
     "output_type": "execute_result"
    }
   ],
   "source": [
    "ateh_agora3.shape"
   ]
  },
  {
   "cell_type": "code",
   "execution_count": 84,
   "metadata": {},
   "outputs": [],
   "source": [
    "# Cria novo dataframe com os registros de \"ateh_agora3\" que têm 'qtde_debit_card' como 'nan'\n",
    "ateh_agora4 = ateh_agora3.loc[ateh_agora3['qtde_debit_card'].isna()].sort_values(by='order_id')"
   ]
  },
  {
   "cell_type": "code",
   "execution_count": 85,
   "metadata": {},
   "outputs": [
    {
     "data": {
      "text/html": [
       "<div>\n",
       "<style scoped>\n",
       "    .dataframe tbody tr th:only-of-type {\n",
       "        vertical-align: middle;\n",
       "    }\n",
       "\n",
       "    .dataframe tbody tr th {\n",
       "        vertical-align: top;\n",
       "    }\n",
       "\n",
       "    .dataframe thead th {\n",
       "        text-align: right;\n",
       "    }\n",
       "</style>\n",
       "<table border=\"1\" class=\"dataframe\">\n",
       "  <thead>\n",
       "    <tr style=\"text-align: right;\">\n",
       "      <th></th>\n",
       "      <th>order_id</th>\n",
       "      <th>qtde_boleto</th>\n",
       "      <th>qtde_credit_card</th>\n",
       "      <th>qtde_debit_card</th>\n",
       "      <th>qtde_not_defined</th>\n",
       "      <th>qtde_voucher</th>\n",
       "      <th>soma_payment</th>\n",
       "      <th>qtde_installments</th>\n",
       "    </tr>\n",
       "  </thead>\n",
       "  <tbody>\n",
       "    <tr>\n",
       "      <th>44054</th>\n",
       "      <td>002f19a65a2ddd70a090297872e6d64e</td>\n",
       "      <td>nan</td>\n",
       "      <td>nan</td>\n",
       "      <td>nan</td>\n",
       "      <td>nan</td>\n",
       "      <td>2.00</td>\n",
       "      <td>77.29</td>\n",
       "      <td>1.00</td>\n",
       "    </tr>\n",
       "    <tr>\n",
       "      <th>85919</th>\n",
       "      <td>004345d16a1ab2c21962992c721c8643</td>\n",
       "      <td>nan</td>\n",
       "      <td>nan</td>\n",
       "      <td>nan</td>\n",
       "      <td>nan</td>\n",
       "      <td>1.00</td>\n",
       "      <td>53.27</td>\n",
       "      <td>1.00</td>\n",
       "    </tr>\n",
       "    <tr>\n",
       "      <th>22168</th>\n",
       "      <td>0071ee2429bc1efdc43aa3e073a5290e</td>\n",
       "      <td>nan</td>\n",
       "      <td>nan</td>\n",
       "      <td>nan</td>\n",
       "      <td>nan</td>\n",
       "      <td>2.00</td>\n",
       "      <td>192.44</td>\n",
       "      <td>1.00</td>\n",
       "    </tr>\n",
       "    <tr>\n",
       "      <th>89147</th>\n",
       "      <td>0080eebb288dba1857ccf048dfe6bdfe</td>\n",
       "      <td>nan</td>\n",
       "      <td>nan</td>\n",
       "      <td>nan</td>\n",
       "      <td>nan</td>\n",
       "      <td>1.00</td>\n",
       "      <td>21.10</td>\n",
       "      <td>1.00</td>\n",
       "    </tr>\n",
       "    <tr>\n",
       "      <th>6995</th>\n",
       "      <td>00995d799817ecc3bd2abd8fbe59c430</td>\n",
       "      <td>nan</td>\n",
       "      <td>nan</td>\n",
       "      <td>nan</td>\n",
       "      <td>nan</td>\n",
       "      <td>1.00</td>\n",
       "      <td>62.82</td>\n",
       "      <td>1.00</td>\n",
       "    </tr>\n",
       "  </tbody>\n",
       "</table>\n",
       "</div>"
      ],
      "text/plain": [
       "                               order_id  qtde_boleto  qtde_credit_card  \\\n",
       "44054  002f19a65a2ddd70a090297872e6d64e          nan               nan   \n",
       "85919  004345d16a1ab2c21962992c721c8643          nan               nan   \n",
       "22168  0071ee2429bc1efdc43aa3e073a5290e          nan               nan   \n",
       "89147  0080eebb288dba1857ccf048dfe6bdfe          nan               nan   \n",
       "6995   00995d799817ecc3bd2abd8fbe59c430          nan               nan   \n",
       "\n",
       "       qtde_debit_card  qtde_not_defined  qtde_voucher  soma_payment  \\\n",
       "44054              nan               nan          2.00         77.29   \n",
       "85919              nan               nan          1.00         53.27   \n",
       "22168              nan               nan          2.00        192.44   \n",
       "89147              nan               nan          1.00         21.10   \n",
       "6995               nan               nan          1.00         62.82   \n",
       "\n",
       "       qtde_installments  \n",
       "44054               1.00  \n",
       "85919               1.00  \n",
       "22168               1.00  \n",
       "89147               1.00  \n",
       "6995                1.00  "
      ]
     },
     "execution_count": 85,
     "metadata": {},
     "output_type": "execute_result"
    }
   ],
   "source": [
    "ateh_agora4.head()"
   ]
  },
  {
   "cell_type": "code",
   "execution_count": 86,
   "metadata": {},
   "outputs": [
    {
     "data": {
      "text/plain": [
       "(1625, 8)"
      ]
     },
     "execution_count": 86,
     "metadata": {},
     "output_type": "execute_result"
    }
   ],
   "source": [
    "ateh_agora4.shape"
   ]
  },
  {
   "cell_type": "code",
   "execution_count": 87,
   "metadata": {},
   "outputs": [],
   "source": [
    "# Mesmo processo com o próximo campo que é 'qtde_not_defined'\n",
    "ateh_agora5 = ateh_agora4.loc[ateh_agora4['qtde_not_defined'].isna()].sort_values(by='order_id')"
   ]
  },
  {
   "cell_type": "code",
   "execution_count": 88,
   "metadata": {},
   "outputs": [
    {
     "data": {
      "text/html": [
       "<div>\n",
       "<style scoped>\n",
       "    .dataframe tbody tr th:only-of-type {\n",
       "        vertical-align: middle;\n",
       "    }\n",
       "\n",
       "    .dataframe tbody tr th {\n",
       "        vertical-align: top;\n",
       "    }\n",
       "\n",
       "    .dataframe thead th {\n",
       "        text-align: right;\n",
       "    }\n",
       "</style>\n",
       "<table border=\"1\" class=\"dataframe\">\n",
       "  <thead>\n",
       "    <tr style=\"text-align: right;\">\n",
       "      <th></th>\n",
       "      <th>order_id</th>\n",
       "      <th>qtde_boleto</th>\n",
       "      <th>qtde_credit_card</th>\n",
       "      <th>qtde_debit_card</th>\n",
       "      <th>qtde_not_defined</th>\n",
       "      <th>qtde_voucher</th>\n",
       "      <th>soma_payment</th>\n",
       "      <th>qtde_installments</th>\n",
       "    </tr>\n",
       "  </thead>\n",
       "  <tbody>\n",
       "    <tr>\n",
       "      <th>44054</th>\n",
       "      <td>002f19a65a2ddd70a090297872e6d64e</td>\n",
       "      <td>nan</td>\n",
       "      <td>nan</td>\n",
       "      <td>nan</td>\n",
       "      <td>nan</td>\n",
       "      <td>2.00</td>\n",
       "      <td>77.29</td>\n",
       "      <td>1.00</td>\n",
       "    </tr>\n",
       "    <tr>\n",
       "      <th>85919</th>\n",
       "      <td>004345d16a1ab2c21962992c721c8643</td>\n",
       "      <td>nan</td>\n",
       "      <td>nan</td>\n",
       "      <td>nan</td>\n",
       "      <td>nan</td>\n",
       "      <td>1.00</td>\n",
       "      <td>53.27</td>\n",
       "      <td>1.00</td>\n",
       "    </tr>\n",
       "    <tr>\n",
       "      <th>22168</th>\n",
       "      <td>0071ee2429bc1efdc43aa3e073a5290e</td>\n",
       "      <td>nan</td>\n",
       "      <td>nan</td>\n",
       "      <td>nan</td>\n",
       "      <td>nan</td>\n",
       "      <td>2.00</td>\n",
       "      <td>192.44</td>\n",
       "      <td>1.00</td>\n",
       "    </tr>\n",
       "    <tr>\n",
       "      <th>89147</th>\n",
       "      <td>0080eebb288dba1857ccf048dfe6bdfe</td>\n",
       "      <td>nan</td>\n",
       "      <td>nan</td>\n",
       "      <td>nan</td>\n",
       "      <td>nan</td>\n",
       "      <td>1.00</td>\n",
       "      <td>21.10</td>\n",
       "      <td>1.00</td>\n",
       "    </tr>\n",
       "    <tr>\n",
       "      <th>6995</th>\n",
       "      <td>00995d799817ecc3bd2abd8fbe59c430</td>\n",
       "      <td>nan</td>\n",
       "      <td>nan</td>\n",
       "      <td>nan</td>\n",
       "      <td>nan</td>\n",
       "      <td>1.00</td>\n",
       "      <td>62.82</td>\n",
       "      <td>1.00</td>\n",
       "    </tr>\n",
       "  </tbody>\n",
       "</table>\n",
       "</div>"
      ],
      "text/plain": [
       "                               order_id  qtde_boleto  qtde_credit_card  \\\n",
       "44054  002f19a65a2ddd70a090297872e6d64e          nan               nan   \n",
       "85919  004345d16a1ab2c21962992c721c8643          nan               nan   \n",
       "22168  0071ee2429bc1efdc43aa3e073a5290e          nan               nan   \n",
       "89147  0080eebb288dba1857ccf048dfe6bdfe          nan               nan   \n",
       "6995   00995d799817ecc3bd2abd8fbe59c430          nan               nan   \n",
       "\n",
       "       qtde_debit_card  qtde_not_defined  qtde_voucher  soma_payment  \\\n",
       "44054              nan               nan          2.00         77.29   \n",
       "85919              nan               nan          1.00         53.27   \n",
       "22168              nan               nan          2.00        192.44   \n",
       "89147              nan               nan          1.00         21.10   \n",
       "6995               nan               nan          1.00         62.82   \n",
       "\n",
       "       qtde_installments  \n",
       "44054               1.00  \n",
       "85919               1.00  \n",
       "22168               1.00  \n",
       "89147               1.00  \n",
       "6995                1.00  "
      ]
     },
     "execution_count": 88,
     "metadata": {},
     "output_type": "execute_result"
    }
   ],
   "source": [
    "ateh_agora5.head()"
   ]
  },
  {
   "cell_type": "code",
   "execution_count": 89,
   "metadata": {},
   "outputs": [
    {
     "data": {
      "text/plain": [
       "(1622, 8)"
      ]
     },
     "execution_count": 89,
     "metadata": {},
     "output_type": "execute_result"
    }
   ],
   "source": [
    "ateh_agora5.shape # o número de registros vai diminuindo"
   ]
  },
  {
   "cell_type": "code",
   "execution_count": 90,
   "metadata": {},
   "outputs": [],
   "source": [
    "# Mais um campo: 'qtde_voucher'\n",
    "ateh_agora6 = ateh_agora5.loc[ateh_agora5['qtde_voucher'].isna()].sort_values(by='order_id')"
   ]
  },
  {
   "cell_type": "code",
   "execution_count": 91,
   "metadata": {},
   "outputs": [
    {
     "data": {
      "text/html": [
       "<div>\n",
       "<style scoped>\n",
       "    .dataframe tbody tr th:only-of-type {\n",
       "        vertical-align: middle;\n",
       "    }\n",
       "\n",
       "    .dataframe tbody tr th {\n",
       "        vertical-align: top;\n",
       "    }\n",
       "\n",
       "    .dataframe thead th {\n",
       "        text-align: right;\n",
       "    }\n",
       "</style>\n",
       "<table border=\"1\" class=\"dataframe\">\n",
       "  <thead>\n",
       "    <tr style=\"text-align: right;\">\n",
       "      <th></th>\n",
       "      <th>order_id</th>\n",
       "      <th>qtde_boleto</th>\n",
       "      <th>qtde_credit_card</th>\n",
       "      <th>qtde_debit_card</th>\n",
       "      <th>qtde_not_defined</th>\n",
       "      <th>qtde_voucher</th>\n",
       "      <th>soma_payment</th>\n",
       "      <th>qtde_installments</th>\n",
       "    </tr>\n",
       "  </thead>\n",
       "  <tbody>\n",
       "    <tr>\n",
       "      <th>30710</th>\n",
       "      <td>bfbd0f9bdef84302105ad712db648a6c</td>\n",
       "      <td>nan</td>\n",
       "      <td>nan</td>\n",
       "      <td>nan</td>\n",
       "      <td>nan</td>\n",
       "      <td>nan</td>\n",
       "      <td>nan</td>\n",
       "      <td>nan</td>\n",
       "    </tr>\n",
       "  </tbody>\n",
       "</table>\n",
       "</div>"
      ],
      "text/plain": [
       "                               order_id  qtde_boleto  qtde_credit_card  \\\n",
       "30710  bfbd0f9bdef84302105ad712db648a6c          nan               nan   \n",
       "\n",
       "       qtde_debit_card  qtde_not_defined  qtde_voucher  soma_payment  \\\n",
       "30710              nan               nan           nan           nan   \n",
       "\n",
       "       qtde_installments  \n",
       "30710                nan  "
      ]
     },
     "execution_count": 91,
     "metadata": {},
     "output_type": "execute_result"
    }
   ],
   "source": [
    "ateh_agora6.head()"
   ]
  },
  {
   "cell_type": "code",
   "execution_count": 92,
   "metadata": {},
   "outputs": [
    {
     "data": {
      "text/plain": [
       "(1, 8)"
      ]
     },
     "execution_count": 92,
     "metadata": {},
     "output_type": "execute_result"
    }
   ],
   "source": [
    "ateh_agora6.shape"
   ]
  },
  {
   "cell_type": "markdown",
   "metadata": {},
   "source": [
    "###### Pronto: o registro acima já é o que procuramos, todos os campos importados são 'nan'\n",
    "> Mas vou continuar o processo até varrer todos os campos.\n",
    "\n",
    "> São só mais dois campos."
   ]
  },
  {
   "cell_type": "code",
   "execution_count": 93,
   "metadata": {},
   "outputs": [],
   "source": [
    "ateh_agora7 = ateh_agora6.loc[ateh_agora6['soma_payment'].isna()].sort_values(by='order_id')"
   ]
  },
  {
   "cell_type": "code",
   "execution_count": 94,
   "metadata": {},
   "outputs": [
    {
     "data": {
      "text/html": [
       "<div>\n",
       "<style scoped>\n",
       "    .dataframe tbody tr th:only-of-type {\n",
       "        vertical-align: middle;\n",
       "    }\n",
       "\n",
       "    .dataframe tbody tr th {\n",
       "        vertical-align: top;\n",
       "    }\n",
       "\n",
       "    .dataframe thead th {\n",
       "        text-align: right;\n",
       "    }\n",
       "</style>\n",
       "<table border=\"1\" class=\"dataframe\">\n",
       "  <thead>\n",
       "    <tr style=\"text-align: right;\">\n",
       "      <th></th>\n",
       "      <th>order_id</th>\n",
       "      <th>qtde_boleto</th>\n",
       "      <th>qtde_credit_card</th>\n",
       "      <th>qtde_debit_card</th>\n",
       "      <th>qtde_not_defined</th>\n",
       "      <th>qtde_voucher</th>\n",
       "      <th>soma_payment</th>\n",
       "      <th>qtde_installments</th>\n",
       "    </tr>\n",
       "  </thead>\n",
       "  <tbody>\n",
       "    <tr>\n",
       "      <th>30710</th>\n",
       "      <td>bfbd0f9bdef84302105ad712db648a6c</td>\n",
       "      <td>nan</td>\n",
       "      <td>nan</td>\n",
       "      <td>nan</td>\n",
       "      <td>nan</td>\n",
       "      <td>nan</td>\n",
       "      <td>nan</td>\n",
       "      <td>nan</td>\n",
       "    </tr>\n",
       "  </tbody>\n",
       "</table>\n",
       "</div>"
      ],
      "text/plain": [
       "                               order_id  qtde_boleto  qtde_credit_card  \\\n",
       "30710  bfbd0f9bdef84302105ad712db648a6c          nan               nan   \n",
       "\n",
       "       qtde_debit_card  qtde_not_defined  qtde_voucher  soma_payment  \\\n",
       "30710              nan               nan           nan           nan   \n",
       "\n",
       "       qtde_installments  \n",
       "30710                nan  "
      ]
     },
     "execution_count": 94,
     "metadata": {},
     "output_type": "execute_result"
    }
   ],
   "source": [
    "ateh_agora7.head()"
   ]
  },
  {
   "cell_type": "code",
   "execution_count": 95,
   "metadata": {},
   "outputs": [
    {
     "data": {
      "text/plain": [
       "(1, 8)"
      ]
     },
     "execution_count": 95,
     "metadata": {},
     "output_type": "execute_result"
    }
   ],
   "source": [
    "ateh_agora7.shape"
   ]
  },
  {
   "cell_type": "code",
   "execution_count": 96,
   "metadata": {},
   "outputs": [],
   "source": [
    "ateh_agora8 = ateh_agora7.loc[ateh_agora7['qtde_installments'].isna()].sort_values(by='order_id')"
   ]
  },
  {
   "cell_type": "code",
   "execution_count": 97,
   "metadata": {},
   "outputs": [
    {
     "data": {
      "text/html": [
       "<div>\n",
       "<style scoped>\n",
       "    .dataframe tbody tr th:only-of-type {\n",
       "        vertical-align: middle;\n",
       "    }\n",
       "\n",
       "    .dataframe tbody tr th {\n",
       "        vertical-align: top;\n",
       "    }\n",
       "\n",
       "    .dataframe thead th {\n",
       "        text-align: right;\n",
       "    }\n",
       "</style>\n",
       "<table border=\"1\" class=\"dataframe\">\n",
       "  <thead>\n",
       "    <tr style=\"text-align: right;\">\n",
       "      <th></th>\n",
       "      <th>order_id</th>\n",
       "      <th>qtde_boleto</th>\n",
       "      <th>qtde_credit_card</th>\n",
       "      <th>qtde_debit_card</th>\n",
       "      <th>qtde_not_defined</th>\n",
       "      <th>qtde_voucher</th>\n",
       "      <th>soma_payment</th>\n",
       "      <th>qtde_installments</th>\n",
       "    </tr>\n",
       "  </thead>\n",
       "  <tbody>\n",
       "    <tr>\n",
       "      <th>30710</th>\n",
       "      <td>bfbd0f9bdef84302105ad712db648a6c</td>\n",
       "      <td>nan</td>\n",
       "      <td>nan</td>\n",
       "      <td>nan</td>\n",
       "      <td>nan</td>\n",
       "      <td>nan</td>\n",
       "      <td>nan</td>\n",
       "      <td>nan</td>\n",
       "    </tr>\n",
       "  </tbody>\n",
       "</table>\n",
       "</div>"
      ],
      "text/plain": [
       "                               order_id  qtde_boleto  qtde_credit_card  \\\n",
       "30710  bfbd0f9bdef84302105ad712db648a6c          nan               nan   \n",
       "\n",
       "       qtde_debit_card  qtde_not_defined  qtde_voucher  soma_payment  \\\n",
       "30710              nan               nan           nan           nan   \n",
       "\n",
       "       qtde_installments  \n",
       "30710                nan  "
      ]
     },
     "execution_count": 97,
     "metadata": {},
     "output_type": "execute_result"
    }
   ],
   "source": [
    "ateh_agora8.head()"
   ]
  },
  {
   "cell_type": "code",
   "execution_count": 98,
   "metadata": {},
   "outputs": [
    {
     "data": {
      "text/plain": [
       "(1, 8)"
      ]
     },
     "execution_count": 98,
     "metadata": {},
     "output_type": "execute_result"
    }
   ],
   "source": [
    "ateh_agora8.shape"
   ]
  },
  {
   "cell_type": "code",
   "execution_count": 99,
   "metadata": {},
   "outputs": [
    {
     "data": {
      "text/html": [
       "<div>\n",
       "<style scoped>\n",
       "    .dataframe tbody tr th:only-of-type {\n",
       "        vertical-align: middle;\n",
       "    }\n",
       "\n",
       "    .dataframe tbody tr th {\n",
       "        vertical-align: top;\n",
       "    }\n",
       "\n",
       "    .dataframe thead th {\n",
       "        text-align: right;\n",
       "    }\n",
       "</style>\n",
       "<table border=\"1\" class=\"dataframe\">\n",
       "  <thead>\n",
       "    <tr style=\"text-align: right;\">\n",
       "      <th></th>\n",
       "      <th>order_id</th>\n",
       "      <th>qtde_boleto</th>\n",
       "      <th>qtde_credit_card</th>\n",
       "      <th>qtde_debit_card</th>\n",
       "      <th>qtde_not_defined</th>\n",
       "      <th>qtde_voucher</th>\n",
       "      <th>soma_payment</th>\n",
       "      <th>qtde_installments</th>\n",
       "    </tr>\n",
       "  </thead>\n",
       "  <tbody>\n",
       "    <tr>\n",
       "      <th>30710</th>\n",
       "      <td>bfbd0f9bdef84302105ad712db648a6c</td>\n",
       "      <td>nan</td>\n",
       "      <td>nan</td>\n",
       "      <td>nan</td>\n",
       "      <td>nan</td>\n",
       "      <td>nan</td>\n",
       "      <td>nan</td>\n",
       "      <td>nan</td>\n",
       "    </tr>\n",
       "  </tbody>\n",
       "</table>\n",
       "</div>"
      ],
      "text/plain": [
       "                               order_id  qtde_boleto  qtde_credit_card  \\\n",
       "30710  bfbd0f9bdef84302105ad712db648a6c          nan               nan   \n",
       "\n",
       "       qtde_debit_card  qtde_not_defined  qtde_voucher  soma_payment  \\\n",
       "30710              nan               nan           nan           nan   \n",
       "\n",
       "       qtde_installments  \n",
       "30710                nan  "
      ]
     },
     "execution_count": 99,
     "metadata": {},
     "output_type": "execute_result"
    }
   ],
   "source": [
    "ateh_agora8"
   ]
  },
  {
   "cell_type": "markdown",
   "metadata": {},
   "source": [
    "###### Vamos ver qual order é essa."
   ]
  },
  {
   "cell_type": "code",
   "execution_count": 100,
   "metadata": {},
   "outputs": [
    {
     "data": {
      "text/html": [
       "<div>\n",
       "<style scoped>\n",
       "    .dataframe tbody tr th:only-of-type {\n",
       "        vertical-align: middle;\n",
       "    }\n",
       "\n",
       "    .dataframe tbody tr th {\n",
       "        vertical-align: top;\n",
       "    }\n",
       "\n",
       "    .dataframe thead th {\n",
       "        text-align: right;\n",
       "    }\n",
       "</style>\n",
       "<table border=\"1\" class=\"dataframe\">\n",
       "  <thead>\n",
       "    <tr style=\"text-align: right;\">\n",
       "      <th></th>\n",
       "      <th>order_id</th>\n",
       "      <th>customer_id</th>\n",
       "      <th>order_status</th>\n",
       "      <th>order_purchase_timestamp</th>\n",
       "      <th>order_approved_at</th>\n",
       "      <th>order_delivered_carrier_date</th>\n",
       "      <th>order_delivered_customer_date</th>\n",
       "      <th>order_estimated_delivery_date</th>\n",
       "      <th>review_id</th>\n",
       "      <th>review_score</th>\n",
       "      <th>qtde_boleto</th>\n",
       "      <th>qtde_credit_card</th>\n",
       "      <th>qtde_debit_card</th>\n",
       "      <th>qtde_not_defined</th>\n",
       "      <th>qtde_voucher</th>\n",
       "      <th>soma_payment</th>\n",
       "      <th>qtde_installments</th>\n",
       "    </tr>\n",
       "  </thead>\n",
       "  <tbody>\n",
       "    <tr>\n",
       "      <th>30710</th>\n",
       "      <td>bfbd0f9bdef84302105ad712db648a6c</td>\n",
       "      <td>86dc2ffce2dfff336de2f386a786e574</td>\n",
       "      <td>delivered</td>\n",
       "      <td>2016-09-15 12:16:38</td>\n",
       "      <td>2016-09-15 12:16:38</td>\n",
       "      <td>2016-11-07 17:11:53</td>\n",
       "      <td>2016-11-09 07:47:38</td>\n",
       "      <td>2016-10-04 00:00:00</td>\n",
       "      <td>6916ca4502d6d3bfd39818759d55d536</td>\n",
       "      <td>1.00</td>\n",
       "      <td>nan</td>\n",
       "      <td>nan</td>\n",
       "      <td>nan</td>\n",
       "      <td>nan</td>\n",
       "      <td>nan</td>\n",
       "      <td>nan</td>\n",
       "      <td>nan</td>\n",
       "    </tr>\n",
       "  </tbody>\n",
       "</table>\n",
       "</div>"
      ],
      "text/plain": [
       "                               order_id                       customer_id  \\\n",
       "30710  bfbd0f9bdef84302105ad712db648a6c  86dc2ffce2dfff336de2f386a786e574   \n",
       "\n",
       "      order_status order_purchase_timestamp    order_approved_at  \\\n",
       "30710    delivered      2016-09-15 12:16:38  2016-09-15 12:16:38   \n",
       "\n",
       "      order_delivered_carrier_date order_delivered_customer_date  \\\n",
       "30710          2016-11-07 17:11:53           2016-11-09 07:47:38   \n",
       "\n",
       "      order_estimated_delivery_date                         review_id  \\\n",
       "30710           2016-10-04 00:00:00  6916ca4502d6d3bfd39818759d55d536   \n",
       "\n",
       "       review_score  qtde_boleto  qtde_credit_card  qtde_debit_card  \\\n",
       "30710          1.00          nan               nan              nan   \n",
       "\n",
       "       qtde_not_defined  qtde_voucher  soma_payment  qtde_installments  \n",
       "30710               nan           nan           nan                nan  "
      ]
     },
     "execution_count": 100,
     "metadata": {},
     "output_type": "execute_result"
    }
   ],
   "source": [
    "# Listagem do 'order_id' que não tem payment correspondente.\n",
    "orders_reviews_payments.loc[orders_reviews_payments['order_id'] == \"bfbd0f9bdef84302105ad712db648a6c\"].sort_values(by='order_id')"
   ]
  },
  {
   "cell_type": "markdown",
   "metadata": {},
   "source": [
    "###### Não identifiquei nenhuma característica que pudesse explicar a ausência de correspondência desse valor na tabela <font color=red>\"payments_normalizada\"</font> \n",
    "> Alguém aí poderia passar um Twit pra mim, explicando?\n",
    "\n",
    "> Se não receber nada, vou acabar deletando este registro.\n",
    ">> Vocês 72 horas, a partir de 26/04/2021!!!"
   ]
  },
  {
   "cell_type": "markdown",
   "metadata": {},
   "source": [
    "### 4.3 - Merge do resultado com <font color=red>\"customers\"</font> "
   ]
  },
  {
   "cell_type": "code",
   "execution_count": 101,
   "metadata": {},
   "outputs": [],
   "source": [
    "orders_reviews_payments_customers = pd.merge(orders_reviews_payments, customers, how = 'left', on = 'customer_id')"
   ]
  },
  {
   "cell_type": "code",
   "execution_count": 102,
   "metadata": {},
   "outputs": [
    {
     "data": {
      "text/plain": [
       "((99441, 17), (99441, 5), (99441, 21))"
      ]
     },
     "execution_count": 102,
     "metadata": {},
     "output_type": "execute_result"
    }
   ],
   "source": [
    "orders_reviews_payments.shape, customers.shape, orders_reviews_payments_customers.shape"
   ]
  },
  {
   "cell_type": "markdown",
   "metadata": {},
   "source": [
    "### 4.4 - Merge do resultado até agora com <font color=red>\"itens_sem_repetir\"</font> "
   ]
  },
  {
   "cell_type": "markdown",
   "metadata": {},
   "source": [
    "###### A tabela <font color=red>\"itens_sem_repetir\"</font> tem 98,6 mil registros, enquanto a tabela <font color=red>\"orders_reviews_payments_customers\"</font> tem 99,4 mil."
   ]
  },
  {
   "cell_type": "code",
   "execution_count": 103,
   "metadata": {},
   "outputs": [
    {
     "data": {
      "text/plain": [
       "((98666, 7), (99441, 21))"
      ]
     },
     "execution_count": 103,
     "metadata": {},
     "output_type": "execute_result"
    }
   ],
   "source": [
    "itens_sem_repetir.shape, orders_reviews_payments_customers.shape"
   ]
  },
  {
   "cell_type": "markdown",
   "metadata": {},
   "source": [
    "#### <font color=magenta>CONSIDERAÇÕES</font>.\n",
    "> <font color=red>'itens_sem_repetir'</font> fornece o produto e o vendedor de cada compra. \n",
    ">> Deveria haver correspondência exata entre cada 'order_id' dela com os da tabela <font color=red>\"orders\"</font>\n",
    "\n",
    "> Do jeito que as duas tabelas estão, parece que há compras sem item algum. \n",
    ">> É uma incongruência."
   ]
  },
  {
   "cell_type": "code",
   "execution_count": 104,
   "metadata": {},
   "outputs": [
    {
     "data": {
      "text/html": [
       "<img src=\"Detalhe orders e itens_sem_repetir.PNG\"/>"
      ],
      "text/plain": [
       "<IPython.core.display.Image object>"
      ]
     },
     "execution_count": 104,
     "metadata": {},
     "output_type": "execute_result"
    }
   ],
   "source": [
    "Image (url = \"Detalhe orders e itens_sem_repetir.PNG\")"
   ]
  },
  {
   "cell_type": "markdown",
   "metadata": {},
   "source": [
    "###### Efetuaremos o merge da tabela <font color=red>\"itens_sem_repetir\"</font> , mas, no tabelão, teremos de tratar esses 'valores nulos' que surgirão."
   ]
  },
  {
   "cell_type": "code",
   "execution_count": 105,
   "metadata": {},
   "outputs": [],
   "source": [
    "ord_rev_pay_cus_itens_apos_merge = pd.merge(orders_reviews_payments_customers, itens_sem_repetir, how = 'left', on = 'order_id')"
   ]
  },
  {
   "cell_type": "code",
   "execution_count": 106,
   "metadata": {},
   "outputs": [],
   "source": [
    "# Deleção dos campos não necessários: 'order_item_id', 'shipping_limit_date', 'price' e 'freight_value'\n",
    "ord_rev_pay_cus_itens = ord_rev_pay_cus_itens_apos_merge.drop(['order_item_id', 'shipping_limit_date','price', 'freight_value'], axis=1)"
   ]
  },
  {
   "cell_type": "code",
   "execution_count": 107,
   "metadata": {},
   "outputs": [
    {
     "data": {
      "text/plain": [
       "((99441, 21), (98666, 7), (99441, 27), (99441, 23))"
      ]
     },
     "execution_count": 107,
     "metadata": {},
     "output_type": "execute_result"
    }
   ],
   "source": [
    "orders_reviews_payments_customers.shape, itens_sem_repetir.shape, ord_rev_pay_cus_itens_apos_merge.shape, ord_rev_pay_cus_itens.shape"
   ]
  },
  {
   "cell_type": "markdown",
   "metadata": {},
   "source": [
    "### 4.5 - Merge do resultado até agora com <font color=red>\"products\"</font> "
   ]
  },
  {
   "cell_type": "code",
   "execution_count": 108,
   "metadata": {},
   "outputs": [
    {
     "name": "stdout",
     "output_type": "stream",
     "text": [
      "<class 'pandas.core.frame.DataFrame'>\n",
      "RangeIndex: 32951 entries, 0 to 32950\n",
      "Data columns (total 9 columns):\n",
      "product_id                    32951 non-null object\n",
      "product_category_name         32341 non-null object\n",
      "product_name_lenght           32341 non-null float64\n",
      "product_description_lenght    32341 non-null float64\n",
      "product_photos_qty            32341 non-null float64\n",
      "product_weight_g              32949 non-null float64\n",
      "product_length_cm             32949 non-null float64\n",
      "product_height_cm             32949 non-null float64\n",
      "product_width_cm              32949 non-null float64\n",
      "dtypes: float64(7), object(2)\n",
      "memory usage: 2.3+ MB\n"
     ]
    }
   ],
   "source": [
    "products.info()"
   ]
  },
  {
   "cell_type": "code",
   "execution_count": 109,
   "metadata": {},
   "outputs": [],
   "source": [
    "# Há menos 'product_category_name' do que 'product_Id', ai ai...\n",
    "products_sem_category = products.loc[products['product_category_name'].isnull()].sort_values(by='product_id')"
   ]
  },
  {
   "cell_type": "code",
   "execution_count": 110,
   "metadata": {},
   "outputs": [
    {
     "data": {
      "text/plain": [
       "(610, 9)"
      ]
     },
     "execution_count": 110,
     "metadata": {},
     "output_type": "execute_result"
    }
   ],
   "source": [
    "products_sem_category.shape"
   ]
  },
  {
   "cell_type": "code",
   "execution_count": 111,
   "metadata": {},
   "outputs": [
    {
     "data": {
      "text/html": [
       "<div>\n",
       "<style scoped>\n",
       "    .dataframe tbody tr th:only-of-type {\n",
       "        vertical-align: middle;\n",
       "    }\n",
       "\n",
       "    .dataframe tbody tr th {\n",
       "        vertical-align: top;\n",
       "    }\n",
       "\n",
       "    .dataframe thead th {\n",
       "        text-align: right;\n",
       "    }\n",
       "</style>\n",
       "<table border=\"1\" class=\"dataframe\">\n",
       "  <thead>\n",
       "    <tr style=\"text-align: right;\">\n",
       "      <th></th>\n",
       "      <th>product_id</th>\n",
       "      <th>product_category_name</th>\n",
       "      <th>product_name_lenght</th>\n",
       "      <th>product_description_lenght</th>\n",
       "      <th>product_photos_qty</th>\n",
       "      <th>product_weight_g</th>\n",
       "      <th>product_length_cm</th>\n",
       "      <th>product_height_cm</th>\n",
       "      <th>product_width_cm</th>\n",
       "    </tr>\n",
       "  </thead>\n",
       "  <tbody>\n",
       "    <tr>\n",
       "      <th>6039</th>\n",
       "      <td>0082684bb4a60a862baaf7a60a5845ed</td>\n",
       "      <td>NaN</td>\n",
       "      <td>nan</td>\n",
       "      <td>nan</td>\n",
       "      <td>nan</td>\n",
       "      <td>500.00</td>\n",
       "      <td>24.00</td>\n",
       "      <td>4.00</td>\n",
       "      <td>15.00</td>\n",
       "    </tr>\n",
       "    <tr>\n",
       "      <th>13328</th>\n",
       "      <td>00ab8a8b9fe219511dc3f178c6d79698</td>\n",
       "      <td>NaN</td>\n",
       "      <td>nan</td>\n",
       "      <td>nan</td>\n",
       "      <td>nan</td>\n",
       "      <td>2,100.00</td>\n",
       "      <td>50.00</td>\n",
       "      <td>30.00</td>\n",
       "      <td>30.00</td>\n",
       "    </tr>\n",
       "    <tr>\n",
       "      <th>6495</th>\n",
       "      <td>00d62b338366db4c4aec8547ea8f928e</td>\n",
       "      <td>NaN</td>\n",
       "      <td>nan</td>\n",
       "      <td>nan</td>\n",
       "      <td>nan</td>\n",
       "      <td>400.00</td>\n",
       "      <td>24.00</td>\n",
       "      <td>4.00</td>\n",
       "      <td>15.00</td>\n",
       "    </tr>\n",
       "    <tr>\n",
       "      <th>5832</th>\n",
       "      <td>0103863bf3441460142ec23c74388e4c</td>\n",
       "      <td>NaN</td>\n",
       "      <td>nan</td>\n",
       "      <td>nan</td>\n",
       "      <td>nan</td>\n",
       "      <td>200.00</td>\n",
       "      <td>16.00</td>\n",
       "      <td>2.00</td>\n",
       "      <td>11.00</td>\n",
       "    </tr>\n",
       "    <tr>\n",
       "      <th>1531</th>\n",
       "      <td>014fcf6bd5cd4c7ee29fb3bb618c445e</td>\n",
       "      <td>NaN</td>\n",
       "      <td>nan</td>\n",
       "      <td>nan</td>\n",
       "      <td>nan</td>\n",
       "      <td>7,000.00</td>\n",
       "      <td>55.00</td>\n",
       "      <td>30.00</td>\n",
       "      <td>45.00</td>\n",
       "    </tr>\n",
       "  </tbody>\n",
       "</table>\n",
       "</div>"
      ],
      "text/plain": [
       "                             product_id product_category_name  \\\n",
       "6039   0082684bb4a60a862baaf7a60a5845ed                   NaN   \n",
       "13328  00ab8a8b9fe219511dc3f178c6d79698                   NaN   \n",
       "6495   00d62b338366db4c4aec8547ea8f928e                   NaN   \n",
       "5832   0103863bf3441460142ec23c74388e4c                   NaN   \n",
       "1531   014fcf6bd5cd4c7ee29fb3bb618c445e                   NaN   \n",
       "\n",
       "       product_name_lenght  product_description_lenght  product_photos_qty  \\\n",
       "6039                   nan                         nan                 nan   \n",
       "13328                  nan                         nan                 nan   \n",
       "6495                   nan                         nan                 nan   \n",
       "5832                   nan                         nan                 nan   \n",
       "1531                   nan                         nan                 nan   \n",
       "\n",
       "       product_weight_g  product_length_cm  product_height_cm  \\\n",
       "6039             500.00              24.00               4.00   \n",
       "13328          2,100.00              50.00              30.00   \n",
       "6495             400.00              24.00               4.00   \n",
       "5832             200.00              16.00               2.00   \n",
       "1531           7,000.00              55.00              30.00   \n",
       "\n",
       "       product_width_cm  \n",
       "6039              15.00  \n",
       "13328             30.00  \n",
       "6495              15.00  \n",
       "5832              11.00  \n",
       "1531              45.00  "
      ]
     },
     "execution_count": 111,
     "metadata": {},
     "output_type": "execute_result"
    }
   ],
   "source": [
    "products_sem_category.head() # Temos 610 'product_id' sem suas categorias"
   ]
  },
  {
   "cell_type": "code",
   "execution_count": 112,
   "metadata": {},
   "outputs": [],
   "source": [
    "# Merge com \"products\"\n",
    "ord_rev_pay_cus_itens_pro_apos_merge = pd.merge(ord_rev_pay_cus_itens, products, how = 'left', on = 'product_id')"
   ]
  },
  {
   "cell_type": "code",
   "execution_count": 113,
   "metadata": {},
   "outputs": [],
   "source": [
    "# Deleção dos campos não necessários: todos de \"products\", exceto 'product_id' e 'product_category_name'\n",
    "ord_rev_pay_cus_itens_pro = ord_rev_pay_cus_itens_pro_apos_merge.drop(['product_name_lenght', 'product_description_lenght','product_photos_qty', 'product_weight_g', 'product_length_cm', 'product_height_cm', 'product_width_cm'], axis=1)"
   ]
  },
  {
   "cell_type": "code",
   "execution_count": 114,
   "metadata": {},
   "outputs": [
    {
     "data": {
      "text/plain": [
       "((99441, 23), (32951, 9), (99441, 31), (99441, 24))"
      ]
     },
     "execution_count": 114,
     "metadata": {},
     "output_type": "execute_result"
    }
   ],
   "source": [
    "ord_rev_pay_cus_itens.shape, products.shape, ord_rev_pay_cus_itens_pro_apos_merge.shape, ord_rev_pay_cus_itens_pro.shape"
   ]
  },
  {
   "cell_type": "markdown",
   "metadata": {},
   "source": [
    "### 4.6 - Merge do resultado até agora com <font color=red>\"sellers_normalizado\"</font> "
   ]
  },
  {
   "cell_type": "code",
   "execution_count": 115,
   "metadata": {},
   "outputs": [],
   "source": [
    "ord_rev_pay_cus_itens_pro_se_pos_merge = pd.merge(ord_rev_pay_cus_itens_pro, sellers_normalizado, how = 'left', on = 'seller_id')"
   ]
  },
  {
   "cell_type": "code",
   "execution_count": 116,
   "metadata": {},
   "outputs": [],
   "source": [
    "# Deleção do campo não necessário: 'business_segment'\n",
    "ord_rev_pay_cus_itens_pro_se = ord_rev_pay_cus_itens_pro_se_pos_merge.drop(['business_segment'], axis=1)"
   ]
  },
  {
   "cell_type": "code",
   "execution_count": 117,
   "metadata": {},
   "outputs": [
    {
     "data": {
      "text/plain": [
       "((99441, 28), (99441, 27))"
      ]
     },
     "execution_count": 117,
     "metadata": {},
     "output_type": "execute_result"
    }
   ],
   "source": [
    "ord_rev_pay_cus_itens_pro_se_pos_merge.shape, ord_rev_pay_cus_itens_pro_se.shape"
   ]
  },
  {
   "cell_type": "code",
   "execution_count": 118,
   "metadata": {
    "scrolled": true
   },
   "outputs": [
    {
     "name": "stdout",
     "output_type": "stream",
     "text": [
      "<class 'pandas.core.frame.DataFrame'>\n",
      "Int64Index: 99441 entries, 0 to 99440\n",
      "Data columns (total 27 columns):\n",
      "order_id                         99441 non-null object\n",
      "customer_id                      99441 non-null object\n",
      "order_status                     99441 non-null object\n",
      "order_purchase_timestamp         99441 non-null object\n",
      "order_approved_at                99281 non-null object\n",
      "order_delivered_carrier_date     97658 non-null object\n",
      "order_delivered_customer_date    96476 non-null object\n",
      "order_estimated_delivery_date    99441 non-null object\n",
      "review_id                        98926 non-null object\n",
      "review_score                     98926 non-null float64\n",
      "qtde_boleto                      19784 non-null float64\n",
      "qtde_credit_card                 76505 non-null float64\n",
      "qtde_debit_card                  1528 non-null float64\n",
      "qtde_not_defined                 3 non-null float64\n",
      "qtde_voucher                     3866 non-null float64\n",
      "soma_payment                     99440 non-null float64\n",
      "qtde_installments                99440 non-null float64\n",
      "customer_unique_id               99441 non-null object\n",
      "customer_zip_code_prefix         99441 non-null int64\n",
      "customer_city                    99441 non-null object\n",
      "customer_state                   99441 non-null object\n",
      "product_id                       98666 non-null object\n",
      "seller_id                        98666 non-null object\n",
      "product_category_name            97250 non-null object\n",
      "seller_zip_code_prefix           98666 non-null float64\n",
      "seller_city                      98666 non-null object\n",
      "seller_state                     98666 non-null object\n",
      "dtypes: float64(9), int64(1), object(17)\n",
      "memory usage: 21.2+ MB\n"
     ]
    }
   ],
   "source": [
    "ord_rev_pay_cus_itens_pro_se.info()"
   ]
  },
  {
   "cell_type": "markdown",
   "metadata": {},
   "source": [
    "##### Optaremos por deixar as coordenadas para um momento posterior.\n",
    "> Nesse momento, temos uma tabela única com 99.441 registros e 27 campos.\n",
    ">> Trabalho nesse tabela deverá ser executado sobre valores nulos, NaN, etc."
   ]
  },
  {
   "cell_type": "code",
   "execution_count": 119,
   "metadata": {},
   "outputs": [
    {
     "data": {
      "text/html": [
       "<div>\n",
       "<style scoped>\n",
       "    .dataframe tbody tr th:only-of-type {\n",
       "        vertical-align: middle;\n",
       "    }\n",
       "\n",
       "    .dataframe tbody tr th {\n",
       "        vertical-align: top;\n",
       "    }\n",
       "\n",
       "    .dataframe thead th {\n",
       "        text-align: right;\n",
       "    }\n",
       "</style>\n",
       "<table border=\"1\" class=\"dataframe\">\n",
       "  <thead>\n",
       "    <tr style=\"text-align: right;\">\n",
       "      <th></th>\n",
       "      <th>order_id</th>\n",
       "      <th>customer_id</th>\n",
       "      <th>order_status</th>\n",
       "      <th>order_purchase_timestamp</th>\n",
       "      <th>order_approved_at</th>\n",
       "      <th>order_delivered_carrier_date</th>\n",
       "      <th>order_delivered_customer_date</th>\n",
       "      <th>order_estimated_delivery_date</th>\n",
       "      <th>review_id</th>\n",
       "      <th>review_score</th>\n",
       "      <th>qtde_boleto</th>\n",
       "      <th>qtde_credit_card</th>\n",
       "      <th>qtde_debit_card</th>\n",
       "      <th>qtde_not_defined</th>\n",
       "      <th>qtde_voucher</th>\n",
       "      <th>soma_payment</th>\n",
       "      <th>qtde_installments</th>\n",
       "      <th>customer_unique_id</th>\n",
       "      <th>customer_zip_code_prefix</th>\n",
       "      <th>customer_city</th>\n",
       "      <th>customer_state</th>\n",
       "      <th>product_id</th>\n",
       "      <th>seller_id</th>\n",
       "      <th>product_category_name</th>\n",
       "      <th>seller_zip_code_prefix</th>\n",
       "      <th>seller_city</th>\n",
       "      <th>seller_state</th>\n",
       "    </tr>\n",
       "  </thead>\n",
       "  <tbody>\n",
       "    <tr>\n",
       "      <th>0</th>\n",
       "      <td>e481f51cbdc54678b7cc49136f2d6af7</td>\n",
       "      <td>9ef432eb6251297304e76186b10a928d</td>\n",
       "      <td>delivered</td>\n",
       "      <td>2017-10-02 10:56:33</td>\n",
       "      <td>2017-10-02 11:07:15</td>\n",
       "      <td>2017-10-04 19:55:00</td>\n",
       "      <td>2017-10-10 21:25:13</td>\n",
       "      <td>2017-10-18 00:00:00</td>\n",
       "      <td>a54f0611adc9ed256b57ede6b6eb5114</td>\n",
       "      <td>4.00</td>\n",
       "      <td>nan</td>\n",
       "      <td>1.00</td>\n",
       "      <td>nan</td>\n",
       "      <td>nan</td>\n",
       "      <td>2.00</td>\n",
       "      <td>38.71</td>\n",
       "      <td>1.00</td>\n",
       "      <td>7c396fd4830fd04220f754e42b4e5bff</td>\n",
       "      <td>3149</td>\n",
       "      <td>sao paulo</td>\n",
       "      <td>SP</td>\n",
       "      <td>87285b34884572647811a353c7ac498a</td>\n",
       "      <td>3504c0cb71d7fa48d967e0e4c94d59d9</td>\n",
       "      <td>utilidades_domesticas</td>\n",
       "      <td>9,350.00</td>\n",
       "      <td>maua</td>\n",
       "      <td>SP</td>\n",
       "    </tr>\n",
       "    <tr>\n",
       "      <th>1</th>\n",
       "      <td>53cdb2fc8bc7dce0b6741e2150273451</td>\n",
       "      <td>b0830fb4747a6c6d20dea0b8c802d7ef</td>\n",
       "      <td>delivered</td>\n",
       "      <td>2018-07-24 20:41:37</td>\n",
       "      <td>2018-07-26 03:24:27</td>\n",
       "      <td>2018-07-26 14:31:00</td>\n",
       "      <td>2018-08-07 15:27:45</td>\n",
       "      <td>2018-08-13 00:00:00</td>\n",
       "      <td>8d5266042046a06655c8db133d120ba5</td>\n",
       "      <td>4.00</td>\n",
       "      <td>1.00</td>\n",
       "      <td>nan</td>\n",
       "      <td>nan</td>\n",
       "      <td>nan</td>\n",
       "      <td>nan</td>\n",
       "      <td>141.46</td>\n",
       "      <td>1.00</td>\n",
       "      <td>af07308b275d755c9edb36a90c618231</td>\n",
       "      <td>47813</td>\n",
       "      <td>barreiras</td>\n",
       "      <td>BA</td>\n",
       "      <td>595fac2a385ac33a80bd5114aec74eb8</td>\n",
       "      <td>289cdb325fb7e7f891c38608bf9e0962</td>\n",
       "      <td>perfumaria</td>\n",
       "      <td>31,570.00</td>\n",
       "      <td>belo horizonte</td>\n",
       "      <td>SP</td>\n",
       "    </tr>\n",
       "    <tr>\n",
       "      <th>2</th>\n",
       "      <td>47770eb9100c2d0c44946d9cf07ec65d</td>\n",
       "      <td>41ce2a54c0b03bf3443c3d931a367089</td>\n",
       "      <td>delivered</td>\n",
       "      <td>2018-08-08 08:38:49</td>\n",
       "      <td>2018-08-08 08:55:23</td>\n",
       "      <td>2018-08-08 13:50:00</td>\n",
       "      <td>2018-08-17 18:06:29</td>\n",
       "      <td>2018-09-04 00:00:00</td>\n",
       "      <td>e73b67b67587f7644d5bd1a52deb1b01</td>\n",
       "      <td>5.00</td>\n",
       "      <td>nan</td>\n",
       "      <td>1.00</td>\n",
       "      <td>nan</td>\n",
       "      <td>nan</td>\n",
       "      <td>nan</td>\n",
       "      <td>179.12</td>\n",
       "      <td>3.00</td>\n",
       "      <td>3a653a41f6f9fc3d2a113cf8398680e8</td>\n",
       "      <td>75265</td>\n",
       "      <td>vianopolis</td>\n",
       "      <td>GO</td>\n",
       "      <td>aa4383b373c6aca5d8797843e5594415</td>\n",
       "      <td>4869f7a5dfa277a7dca6462dcf3b52b2</td>\n",
       "      <td>automotivo</td>\n",
       "      <td>14,840.00</td>\n",
       "      <td>guariba</td>\n",
       "      <td>SP</td>\n",
       "    </tr>\n",
       "    <tr>\n",
       "      <th>3</th>\n",
       "      <td>949d5b44dbf5de918fe9c16f97b45f8a</td>\n",
       "      <td>f88197465ea7920adcdbec7375364d82</td>\n",
       "      <td>delivered</td>\n",
       "      <td>2017-11-18 19:28:06</td>\n",
       "      <td>2017-11-18 19:45:59</td>\n",
       "      <td>2017-11-22 13:39:59</td>\n",
       "      <td>2017-12-02 00:28:42</td>\n",
       "      <td>2017-12-15 00:00:00</td>\n",
       "      <td>359d03e676b3c069f62cadba8dd3f6e8</td>\n",
       "      <td>5.00</td>\n",
       "      <td>nan</td>\n",
       "      <td>1.00</td>\n",
       "      <td>nan</td>\n",
       "      <td>nan</td>\n",
       "      <td>nan</td>\n",
       "      <td>72.20</td>\n",
       "      <td>1.00</td>\n",
       "      <td>7c142cf63193a1473d2e66489a9ae977</td>\n",
       "      <td>59296</td>\n",
       "      <td>sao goncalo do amarante</td>\n",
       "      <td>RN</td>\n",
       "      <td>d0b61bfb1de832b15ba9d266ca96e5b0</td>\n",
       "      <td>66922902710d126a0e7d26b0e3805106</td>\n",
       "      <td>pet_shop</td>\n",
       "      <td>31,842.00</td>\n",
       "      <td>belo horizonte</td>\n",
       "      <td>MG</td>\n",
       "    </tr>\n",
       "    <tr>\n",
       "      <th>4</th>\n",
       "      <td>ad21c59c0840e6cb83a9ceb5573f8159</td>\n",
       "      <td>8ab97904e6daea8866dbdbc4fb7aad2c</td>\n",
       "      <td>delivered</td>\n",
       "      <td>2018-02-13 21:18:39</td>\n",
       "      <td>2018-02-13 22:20:29</td>\n",
       "      <td>2018-02-14 19:46:34</td>\n",
       "      <td>2018-02-16 18:17:02</td>\n",
       "      <td>2018-02-26 00:00:00</td>\n",
       "      <td>e50934924e227544ba8246aeb3770dd4</td>\n",
       "      <td>5.00</td>\n",
       "      <td>nan</td>\n",
       "      <td>1.00</td>\n",
       "      <td>nan</td>\n",
       "      <td>nan</td>\n",
       "      <td>nan</td>\n",
       "      <td>28.62</td>\n",
       "      <td>1.00</td>\n",
       "      <td>72632f0f9dd73dfee390c9b22eb56dd6</td>\n",
       "      <td>9195</td>\n",
       "      <td>santo andre</td>\n",
       "      <td>SP</td>\n",
       "      <td>65266b2da20d04dbe00c5c2d3bb7859e</td>\n",
       "      <td>2c9e548be18521d1c43cde1c582c6de8</td>\n",
       "      <td>papelaria</td>\n",
       "      <td>8,752.00</td>\n",
       "      <td>mogi das cruzes</td>\n",
       "      <td>SP</td>\n",
       "    </tr>\n",
       "  </tbody>\n",
       "</table>\n",
       "</div>"
      ],
      "text/plain": [
       "                           order_id                       customer_id  \\\n",
       "0  e481f51cbdc54678b7cc49136f2d6af7  9ef432eb6251297304e76186b10a928d   \n",
       "1  53cdb2fc8bc7dce0b6741e2150273451  b0830fb4747a6c6d20dea0b8c802d7ef   \n",
       "2  47770eb9100c2d0c44946d9cf07ec65d  41ce2a54c0b03bf3443c3d931a367089   \n",
       "3  949d5b44dbf5de918fe9c16f97b45f8a  f88197465ea7920adcdbec7375364d82   \n",
       "4  ad21c59c0840e6cb83a9ceb5573f8159  8ab97904e6daea8866dbdbc4fb7aad2c   \n",
       "\n",
       "  order_status order_purchase_timestamp    order_approved_at  \\\n",
       "0    delivered      2017-10-02 10:56:33  2017-10-02 11:07:15   \n",
       "1    delivered      2018-07-24 20:41:37  2018-07-26 03:24:27   \n",
       "2    delivered      2018-08-08 08:38:49  2018-08-08 08:55:23   \n",
       "3    delivered      2017-11-18 19:28:06  2017-11-18 19:45:59   \n",
       "4    delivered      2018-02-13 21:18:39  2018-02-13 22:20:29   \n",
       "\n",
       "  order_delivered_carrier_date order_delivered_customer_date  \\\n",
       "0          2017-10-04 19:55:00           2017-10-10 21:25:13   \n",
       "1          2018-07-26 14:31:00           2018-08-07 15:27:45   \n",
       "2          2018-08-08 13:50:00           2018-08-17 18:06:29   \n",
       "3          2017-11-22 13:39:59           2017-12-02 00:28:42   \n",
       "4          2018-02-14 19:46:34           2018-02-16 18:17:02   \n",
       "\n",
       "  order_estimated_delivery_date                         review_id  \\\n",
       "0           2017-10-18 00:00:00  a54f0611adc9ed256b57ede6b6eb5114   \n",
       "1           2018-08-13 00:00:00  8d5266042046a06655c8db133d120ba5   \n",
       "2           2018-09-04 00:00:00  e73b67b67587f7644d5bd1a52deb1b01   \n",
       "3           2017-12-15 00:00:00  359d03e676b3c069f62cadba8dd3f6e8   \n",
       "4           2018-02-26 00:00:00  e50934924e227544ba8246aeb3770dd4   \n",
       "\n",
       "   review_score  qtde_boleto  qtde_credit_card  qtde_debit_card  \\\n",
       "0          4.00          nan              1.00              nan   \n",
       "1          4.00         1.00               nan              nan   \n",
       "2          5.00          nan              1.00              nan   \n",
       "3          5.00          nan              1.00              nan   \n",
       "4          5.00          nan              1.00              nan   \n",
       "\n",
       "   qtde_not_defined  qtde_voucher  soma_payment  qtde_installments  \\\n",
       "0               nan          2.00         38.71               1.00   \n",
       "1               nan           nan        141.46               1.00   \n",
       "2               nan           nan        179.12               3.00   \n",
       "3               nan           nan         72.20               1.00   \n",
       "4               nan           nan         28.62               1.00   \n",
       "\n",
       "                 customer_unique_id  customer_zip_code_prefix  \\\n",
       "0  7c396fd4830fd04220f754e42b4e5bff                      3149   \n",
       "1  af07308b275d755c9edb36a90c618231                     47813   \n",
       "2  3a653a41f6f9fc3d2a113cf8398680e8                     75265   \n",
       "3  7c142cf63193a1473d2e66489a9ae977                     59296   \n",
       "4  72632f0f9dd73dfee390c9b22eb56dd6                      9195   \n",
       "\n",
       "             customer_city customer_state                        product_id  \\\n",
       "0                sao paulo             SP  87285b34884572647811a353c7ac498a   \n",
       "1                barreiras             BA  595fac2a385ac33a80bd5114aec74eb8   \n",
       "2               vianopolis             GO  aa4383b373c6aca5d8797843e5594415   \n",
       "3  sao goncalo do amarante             RN  d0b61bfb1de832b15ba9d266ca96e5b0   \n",
       "4              santo andre             SP  65266b2da20d04dbe00c5c2d3bb7859e   \n",
       "\n",
       "                          seller_id  product_category_name  \\\n",
       "0  3504c0cb71d7fa48d967e0e4c94d59d9  utilidades_domesticas   \n",
       "1  289cdb325fb7e7f891c38608bf9e0962             perfumaria   \n",
       "2  4869f7a5dfa277a7dca6462dcf3b52b2             automotivo   \n",
       "3  66922902710d126a0e7d26b0e3805106               pet_shop   \n",
       "4  2c9e548be18521d1c43cde1c582c6de8              papelaria   \n",
       "\n",
       "   seller_zip_code_prefix      seller_city seller_state  \n",
       "0                9,350.00             maua           SP  \n",
       "1               31,570.00   belo horizonte           SP  \n",
       "2               14,840.00          guariba           SP  \n",
       "3               31,842.00   belo horizonte           MG  \n",
       "4                8,752.00  mogi das cruzes           SP  "
      ]
     },
     "execution_count": 119,
     "metadata": {},
     "output_type": "execute_result"
    }
   ],
   "source": [
    "ord_rev_pay_cus_itens_pro_se.head()"
   ]
  },
  {
   "cell_type": "code",
   "execution_count": 120,
   "metadata": {},
   "outputs": [],
   "source": [
    "ord_rev_pay_cus_itens_pro_se_ordenado = ord_rev_pay_cus_itens_pro_se.sort_values(by='customer_city')"
   ]
  },
  {
   "cell_type": "code",
   "execution_count": 121,
   "metadata": {},
   "outputs": [
    {
     "name": "stdout",
     "output_type": "stream",
     "text": [
      "<class 'pandas.core.frame.DataFrame'>\n",
      "Int64Index: 99441 entries, 49914 to 83980\n",
      "Data columns (total 27 columns):\n",
      "order_id                         99441 non-null object\n",
      "customer_id                      99441 non-null object\n",
      "order_status                     99441 non-null object\n",
      "order_purchase_timestamp         99441 non-null object\n",
      "order_approved_at                99281 non-null object\n",
      "order_delivered_carrier_date     97658 non-null object\n",
      "order_delivered_customer_date    96476 non-null object\n",
      "order_estimated_delivery_date    99441 non-null object\n",
      "review_id                        98926 non-null object\n",
      "review_score                     98926 non-null float64\n",
      "qtde_boleto                      19784 non-null float64\n",
      "qtde_credit_card                 76505 non-null float64\n",
      "qtde_debit_card                  1528 non-null float64\n",
      "qtde_not_defined                 3 non-null float64\n",
      "qtde_voucher                     3866 non-null float64\n",
      "soma_payment                     99440 non-null float64\n",
      "qtde_installments                99440 non-null float64\n",
      "customer_unique_id               99441 non-null object\n",
      "customer_zip_code_prefix         99441 non-null int64\n",
      "customer_city                    99441 non-null object\n",
      "customer_state                   99441 non-null object\n",
      "product_id                       98666 non-null object\n",
      "seller_id                        98666 non-null object\n",
      "product_category_name            97250 non-null object\n",
      "seller_zip_code_prefix           98666 non-null float64\n",
      "seller_city                      98666 non-null object\n",
      "seller_state                     98666 non-null object\n",
      "dtypes: float64(9), int64(1), object(17)\n",
      "memory usage: 21.2+ MB\n"
     ]
    }
   ],
   "source": [
    "ord_rev_pay_cus_itens_pro_se_ordenado.info()"
   ]
  },
  {
   "cell_type": "code",
   "execution_count": 122,
   "metadata": {},
   "outputs": [],
   "source": [
    "# ord_rev_pay_cus_itens_pro_se_ordenado.to_excel(\"ord_rev_pay_cus_itens_pro_se_ordenado.xlsx\")"
   ]
  }
 ],
 "metadata": {
  "kernelspec": {
   "display_name": "Python 3",
   "language": "python",
   "name": "python3"
  },
  "language_info": {
   "codemirror_mode": {
    "name": "ipython",
    "version": 3
   },
   "file_extension": ".py",
   "mimetype": "text/x-python",
   "name": "python",
   "nbconvert_exporter": "python",
   "pygments_lexer": "ipython3",
   "version": "3.7.3"
  }
 },
 "nbformat": 4,
 "nbformat_minor": 2
}
