{
 "cells": [
  {
   "cell_type": "markdown",
   "metadata": {},
   "source": [
    "#  Atividades previstas para este Notebook:\n",
    "> 1. Carregar a tabela olist_ibge_v13  \n",
    "\n",
    "> 2. Ajustá-lo para ter um modelo aplicado a si.  \n",
    ">> Criar variável target.  \n",
    ">> Aplicar Label Encoder nas variáveis categóricas.  \n",
    "\n",
    "> 3. Aplicar os modelos de Decision Tree e Logistic Regression.  \n",
    "> 4. Antes disso, executar UNDER-SAMPLING de 40% na classe 1 (clientes satisfeitos)"
   ]
  },
  {
   "cell_type": "markdown",
   "metadata": {},
   "source": [
    "##  1 - Importação de bibliotecas necessárias"
   ]
  },
  {
   "cell_type": "code",
   "execution_count": 1,
   "metadata": {},
   "outputs": [],
   "source": [
    "import pandas as pd\n",
    "import numpy as np\n",
    "pd.options.display.float_format = '{:,.2f}'.format\n",
    "pd.set_option('display.max_columns', None)\n",
    "pd.set_option('display.max_rows', None)\n",
    "# pd.options.display.max_columns = 100\n"
   ]
  },
  {
   "cell_type": "markdown",
   "metadata": {},
   "source": [
    "## 2 - Importação da tabela <font color=red>'olist_ibge_v13'</font> "
   ]
  },
  {
   "cell_type": "code",
   "execution_count": 2,
   "metadata": {},
   "outputs": [],
   "source": [
    "olist_ibge_v13 = pd.read_excel('olist_ibge_v13.xlsx', sheet_name = \"Sheet1\", header = 0, index_col=None) # sem dtype = 'object'"
   ]
  },
  {
   "cell_type": "code",
   "execution_count": 3,
   "metadata": {},
   "outputs": [
    {
     "name": "stdout",
     "output_type": "stream",
     "text": [
      "<class 'pandas.core.frame.DataFrame'>\n",
      "RangeIndex: 92935 entries, 0 to 92934\n",
      "Data columns (total 19 columns):\n",
      "Unnamed: 0               92935 non-null int64\n",
      "order_id                 92935 non-null object\n",
      "product_id               92935 non-null object\n",
      "seller_id                92935 non-null object\n",
      "product_category_name    92935 non-null object\n",
      "sigla_state              92935 non-null object\n",
      "seller_sigla_state       92935 non-null object\n",
      "review_score             92935 non-null int64\n",
      "qtde_boleto              92935 non-null int64\n",
      "qtde_credit_card         92935 non-null int64\n",
      "qtde_debit_card          92935 non-null int64\n",
      "qtde_voucher             92935 non-null int64\n",
      "soma_payment             92935 non-null float64\n",
      "qtde_installments        92935 non-null int64\n",
      "AR_MUN_2018              92935 non-null float64\n",
      "POPULAÇÃO ESTIMADA       92935 non-null int64\n",
      "PIB                      92935 non-null float64\n",
      "gini                     92935 non-null float64\n",
      "dias                     92935 non-null float64\n",
      "dtypes: float64(5), int64(8), object(6)\n",
      "memory usage: 13.5+ MB\n"
     ]
    }
   ],
   "source": [
    "olist_ibge_v13.info()"
   ]
  },
  {
   "cell_type": "markdown",
   "metadata": {},
   "source": [
    "### 2.1 - Deletar a coluna  <font color=red>'Unnamed: 0'</font>  \n",
    "> Ela é um ruído que sempre surge ao importarmos um arquivo para um DataFrame"
   ]
  },
  {
   "cell_type": "code",
   "execution_count": 4,
   "metadata": {},
   "outputs": [],
   "source": [
    "olist_ibge_v14 = olist_ibge_v13.drop(['Unnamed: 0'], axis=1)"
   ]
  },
  {
   "cell_type": "code",
   "execution_count": 5,
   "metadata": {},
   "outputs": [
    {
     "data": {
      "text/plain": [
       "((92935, 18), (92935, 19))"
      ]
     },
     "execution_count": 5,
     "metadata": {},
     "output_type": "execute_result"
    }
   ],
   "source": [
    "olist_ibge_v14.shape, olist_ibge_v13.shape"
   ]
  },
  {
   "cell_type": "code",
   "execution_count": 6,
   "metadata": {},
   "outputs": [
    {
     "data": {
      "text/html": [
       "<div>\n",
       "<style scoped>\n",
       "    .dataframe tbody tr th:only-of-type {\n",
       "        vertical-align: middle;\n",
       "    }\n",
       "\n",
       "    .dataframe tbody tr th {\n",
       "        vertical-align: top;\n",
       "    }\n",
       "\n",
       "    .dataframe thead th {\n",
       "        text-align: right;\n",
       "    }\n",
       "</style>\n",
       "<table border=\"1\" class=\"dataframe\">\n",
       "  <thead>\n",
       "    <tr style=\"text-align: right;\">\n",
       "      <th></th>\n",
       "      <th>order_id</th>\n",
       "      <th>product_id</th>\n",
       "      <th>seller_id</th>\n",
       "      <th>product_category_name</th>\n",
       "      <th>sigla_state</th>\n",
       "      <th>seller_sigla_state</th>\n",
       "      <th>review_score</th>\n",
       "      <th>qtde_boleto</th>\n",
       "      <th>qtde_credit_card</th>\n",
       "      <th>qtde_debit_card</th>\n",
       "      <th>qtde_voucher</th>\n",
       "      <th>soma_payment</th>\n",
       "      <th>qtde_installments</th>\n",
       "      <th>AR_MUN_2018</th>\n",
       "      <th>POPULAÇÃO ESTIMADA</th>\n",
       "      <th>PIB</th>\n",
       "      <th>gini</th>\n",
       "      <th>dias</th>\n",
       "    </tr>\n",
       "  </thead>\n",
       "  <tbody>\n",
       "    <tr>\n",
       "      <th>0</th>\n",
       "      <td>50ba38c4dc467baab1ea2c8c7747934d</td>\n",
       "      <td>418d480693f2f01e9cf4568db0346d28</td>\n",
       "      <td>12b9676b00f60f3b700e83af21824c0e</td>\n",
       "      <td>cool_stuff</td>\n",
       "      <td>mg</td>\n",
       "      <td>rs</td>\n",
       "      <td>5</td>\n",
       "      <td>0</td>\n",
       "      <td>1</td>\n",
       "      <td>0</td>\n",
       "      <td>0</td>\n",
       "      <td>219.63</td>\n",
       "      <td>10</td>\n",
       "      <td>881.06</td>\n",
       "      <td>7037</td>\n",
       "      <td>180,088.78</td>\n",
       "      <td>0.65</td>\n",
       "      <td>21.11</td>\n",
       "    </tr>\n",
       "    <tr>\n",
       "      <th>1</th>\n",
       "      <td>d99e6849f7676dade195f20c26f0eb4f</td>\n",
       "      <td>1081ae52311daac87fb54ba8ce4670ac</td>\n",
       "      <td>4371b634e0efc0e22b09b52907d9d469</td>\n",
       "      <td>esporte_lazer</td>\n",
       "      <td>mg</td>\n",
       "      <td>sp</td>\n",
       "      <td>5</td>\n",
       "      <td>0</td>\n",
       "      <td>1</td>\n",
       "      <td>0</td>\n",
       "      <td>0</td>\n",
       "      <td>135.59</td>\n",
       "      <td>1</td>\n",
       "      <td>881.06</td>\n",
       "      <td>7037</td>\n",
       "      <td>180,088.78</td>\n",
       "      <td>0.65</td>\n",
       "      <td>5.84</td>\n",
       "    </tr>\n",
       "    <tr>\n",
       "      <th>2</th>\n",
       "      <td>0a9a43ac5fe59c6c4bee2a8f9b9fcce8</td>\n",
       "      <td>c1aabbb6f4caec9f5bf7cd80519d6cc0</td>\n",
       "      <td>579891617139df7d8671d373f0669622</td>\n",
       "      <td>livros_interesse_geral</td>\n",
       "      <td>mg</td>\n",
       "      <td>rj</td>\n",
       "      <td>5</td>\n",
       "      <td>1</td>\n",
       "      <td>0</td>\n",
       "      <td>0</td>\n",
       "      <td>0</td>\n",
       "      <td>58.28</td>\n",
       "      <td>1</td>\n",
       "      <td>881.06</td>\n",
       "      <td>7037</td>\n",
       "      <td>180,088.78</td>\n",
       "      <td>0.65</td>\n",
       "      <td>8.63</td>\n",
       "    </tr>\n",
       "    <tr>\n",
       "      <th>3</th>\n",
       "      <td>3f1294f87d79b57f5d55ba7b80c3d94f</td>\n",
       "      <td>0a9b9a871ffaec6c0198334558a6c6a1</td>\n",
       "      <td>f9244d45189d3a3605499abddeade7d5</td>\n",
       "      <td>eletroportateis</td>\n",
       "      <td>go</td>\n",
       "      <td>sp</td>\n",
       "      <td>4</td>\n",
       "      <td>0</td>\n",
       "      <td>1</td>\n",
       "      <td>0</td>\n",
       "      <td>0</td>\n",
       "      <td>1,025.52</td>\n",
       "      <td>8</td>\n",
       "      <td>1,045.13</td>\n",
       "      <td>18427</td>\n",
       "      <td>287,984.49</td>\n",
       "      <td>0.73</td>\n",
       "      <td>29.10</td>\n",
       "    </tr>\n",
       "    <tr>\n",
       "      <th>4</th>\n",
       "      <td>6c12feac9a308e1382d9b19cca7f20b2</td>\n",
       "      <td>d47821b10559fffaefcf3e57d2b5ff76</td>\n",
       "      <td>0df3984f9dfb3d49ac6366acbd3bbb85</td>\n",
       "      <td>beleza_saude</td>\n",
       "      <td>mg</td>\n",
       "      <td>mg</td>\n",
       "      <td>4</td>\n",
       "      <td>0</td>\n",
       "      <td>1</td>\n",
       "      <td>0</td>\n",
       "      <td>0</td>\n",
       "      <td>220.97</td>\n",
       "      <td>4</td>\n",
       "      <td>1,817.07</td>\n",
       "      <td>23574</td>\n",
       "      <td>430,235.36</td>\n",
       "      <td>0.66</td>\n",
       "      <td>4.80</td>\n",
       "    </tr>\n",
       "  </tbody>\n",
       "</table>\n",
       "</div>"
      ],
      "text/plain": [
       "                           order_id                        product_id  \\\n",
       "0  50ba38c4dc467baab1ea2c8c7747934d  418d480693f2f01e9cf4568db0346d28   \n",
       "1  d99e6849f7676dade195f20c26f0eb4f  1081ae52311daac87fb54ba8ce4670ac   \n",
       "2  0a9a43ac5fe59c6c4bee2a8f9b9fcce8  c1aabbb6f4caec9f5bf7cd80519d6cc0   \n",
       "3  3f1294f87d79b57f5d55ba7b80c3d94f  0a9b9a871ffaec6c0198334558a6c6a1   \n",
       "4  6c12feac9a308e1382d9b19cca7f20b2  d47821b10559fffaefcf3e57d2b5ff76   \n",
       "\n",
       "                          seller_id   product_category_name sigla_state  \\\n",
       "0  12b9676b00f60f3b700e83af21824c0e              cool_stuff          mg   \n",
       "1  4371b634e0efc0e22b09b52907d9d469           esporte_lazer          mg   \n",
       "2  579891617139df7d8671d373f0669622  livros_interesse_geral          mg   \n",
       "3  f9244d45189d3a3605499abddeade7d5         eletroportateis          go   \n",
       "4  0df3984f9dfb3d49ac6366acbd3bbb85            beleza_saude          mg   \n",
       "\n",
       "  seller_sigla_state  review_score  qtde_boleto  qtde_credit_card  \\\n",
       "0                 rs             5            0                 1   \n",
       "1                 sp             5            0                 1   \n",
       "2                 rj             5            1                 0   \n",
       "3                 sp             4            0                 1   \n",
       "4                 mg             4            0                 1   \n",
       "\n",
       "   qtde_debit_card  qtde_voucher  soma_payment  qtde_installments  \\\n",
       "0                0             0        219.63                 10   \n",
       "1                0             0        135.59                  1   \n",
       "2                0             0         58.28                  1   \n",
       "3                0             0      1,025.52                  8   \n",
       "4                0             0        220.97                  4   \n",
       "\n",
       "   AR_MUN_2018  POPULAÇÃO ESTIMADA        PIB  gini  dias  \n",
       "0       881.06                7037 180,088.78  0.65 21.11  \n",
       "1       881.06                7037 180,088.78  0.65  5.84  \n",
       "2       881.06                7037 180,088.78  0.65  8.63  \n",
       "3     1,045.13               18427 287,984.49  0.73 29.10  \n",
       "4     1,817.07               23574 430,235.36  0.66  4.80  "
      ]
     },
     "execution_count": 6,
     "metadata": {},
     "output_type": "execute_result"
    }
   ],
   "source": [
    "olist_ibge_v14.head()"
   ]
  },
  {
   "cell_type": "markdown",
   "metadata": {},
   "source": [
    "### 2.2 - Criar coluna target para  <font color=red>'olist_ibge_v14'</font>  \n",
    "> A partir de 'review_score'.  \n",
    ">> Chamada 'humor'"
   ]
  },
  {
   "cell_type": "code",
   "execution_count": 7,
   "metadata": {},
   "outputs": [
    {
     "data": {
      "text/plain": [
       "Index(['order_id', 'product_id', 'seller_id', 'product_category_name',\n",
       "       'sigla_state', 'seller_sigla_state', 'review_score', 'qtde_boleto',\n",
       "       'qtde_credit_card', 'qtde_debit_card', 'qtde_voucher', 'soma_payment',\n",
       "       'qtde_installments', 'AR_MUN_2018', 'POPULAÇÃO ESTIMADA', 'PIB', 'gini',\n",
       "       'dias'],\n",
       "      dtype='object')"
      ]
     },
     "execution_count": 7,
     "metadata": {},
     "output_type": "execute_result"
    }
   ],
   "source": [
    "olist_ibge_v14.columns"
   ]
  },
  {
   "cell_type": "code",
   "execution_count": 8,
   "metadata": {},
   "outputs": [],
   "source": [
    "# Nova coluna chamada 'humor' será 0 (zero), quando review_score for de 1 a 3, ou 1 (um), quando review_score for 4 ou 5.\n",
    "a = {1:0, 2:0, 3:0 , 4:1, 5:1}\n",
    "olist_ibge_v14['humor'] = olist_ibge_v14['review_score'].map(a)"
   ]
  },
  {
   "cell_type": "code",
   "execution_count": 9,
   "metadata": {},
   "outputs": [
    {
     "name": "stdout",
     "output_type": "stream",
     "text": [
      "<class 'pandas.core.frame.DataFrame'>\n",
      "RangeIndex: 92935 entries, 0 to 92934\n",
      "Data columns (total 19 columns):\n",
      "order_id                 92935 non-null object\n",
      "product_id               92935 non-null object\n",
      "seller_id                92935 non-null object\n",
      "product_category_name    92935 non-null object\n",
      "sigla_state              92935 non-null object\n",
      "seller_sigla_state       92935 non-null object\n",
      "review_score             92935 non-null int64\n",
      "qtde_boleto              92935 non-null int64\n",
      "qtde_credit_card         92935 non-null int64\n",
      "qtde_debit_card          92935 non-null int64\n",
      "qtde_voucher             92935 non-null int64\n",
      "soma_payment             92935 non-null float64\n",
      "qtde_installments        92935 non-null int64\n",
      "AR_MUN_2018              92935 non-null float64\n",
      "POPULAÇÃO ESTIMADA       92935 non-null int64\n",
      "PIB                      92935 non-null float64\n",
      "gini                     92935 non-null float64\n",
      "dias                     92935 non-null float64\n",
      "humor                    92935 non-null int64\n",
      "dtypes: float64(5), int64(8), object(6)\n",
      "memory usage: 13.5+ MB\n"
     ]
    }
   ],
   "source": [
    "olist_ibge_v14.info()"
   ]
  },
  {
   "cell_type": "code",
   "execution_count": 10,
   "metadata": {},
   "outputs": [
    {
     "data": {
      "text/plain": [
       "array([1, 0], dtype=int64)"
      ]
     },
     "execution_count": 10,
     "metadata": {},
     "output_type": "execute_result"
    }
   ],
   "source": [
    "olist_ibge_v14['humor'].unique()"
   ]
  },
  {
   "cell_type": "code",
   "execution_count": 11,
   "metadata": {},
   "outputs": [],
   "source": [
    "qtde_humores = olist_ibge_v14.groupby('humor')['order_id'].count()"
   ]
  },
  {
   "cell_type": "code",
   "execution_count": 12,
   "metadata": {},
   "outputs": [],
   "source": [
    "df_qtde_humores = pd.DataFrame(qtde_humores)"
   ]
  },
  {
   "cell_type": "code",
   "execution_count": 13,
   "metadata": {},
   "outputs": [
    {
     "data": {
      "text/html": [
       "<div>\n",
       "<style scoped>\n",
       "    .dataframe tbody tr th:only-of-type {\n",
       "        vertical-align: middle;\n",
       "    }\n",
       "\n",
       "    .dataframe tbody tr th {\n",
       "        vertical-align: top;\n",
       "    }\n",
       "\n",
       "    .dataframe thead th {\n",
       "        text-align: right;\n",
       "    }\n",
       "</style>\n",
       "<table border=\"1\" class=\"dataframe\">\n",
       "  <thead>\n",
       "    <tr style=\"text-align: right;\">\n",
       "      <th></th>\n",
       "      <th>order_id</th>\n",
       "    </tr>\n",
       "    <tr>\n",
       "      <th>humor</th>\n",
       "      <th></th>\n",
       "    </tr>\n",
       "  </thead>\n",
       "  <tbody>\n",
       "    <tr>\n",
       "      <th>0</th>\n",
       "      <td>19868</td>\n",
       "    </tr>\n",
       "    <tr>\n",
       "      <th>1</th>\n",
       "      <td>73067</td>\n",
       "    </tr>\n",
       "  </tbody>\n",
       "</table>\n",
       "</div>"
      ],
      "text/plain": [
       "       order_id\n",
       "humor          \n",
       "0         19868\n",
       "1         73067"
      ]
     },
     "execution_count": 13,
     "metadata": {},
     "output_type": "execute_result"
    }
   ],
   "source": [
    "df_qtde_humores"
   ]
  },
  {
   "cell_type": "code",
   "execution_count": 14,
   "metadata": {},
   "outputs": [
    {
     "name": "stdout",
     "output_type": "stream",
     "text": [
      "92935\n"
     ]
    }
   ],
   "source": [
    "print(73067+19868)"
   ]
  },
  {
   "cell_type": "code",
   "execution_count": 15,
   "metadata": {},
   "outputs": [
    {
     "name": "stdout",
     "output_type": "stream",
     "text": [
      "21.378382740625167\n"
     ]
    }
   ],
   "source": [
    "print(19868*100/92935)"
   ]
  },
  {
   "cell_type": "code",
   "execution_count": 16,
   "metadata": {},
   "outputs": [
    {
     "name": "stdout",
     "output_type": "stream",
     "text": [
      "78.62161725937483\n"
     ]
    }
   ],
   "source": [
    "print(73067*100/92935)"
   ]
  },
  {
   "cell_type": "code",
   "execution_count": 17,
   "metadata": {},
   "outputs": [],
   "source": [
    "# Seleção de clientes com humor = 1\n",
    "# satisfeitos = olist_ibge_v14.loc[olist_ibge_v14[\"humor\"] == 1]"
   ]
  },
  {
   "cell_type": "code",
   "execution_count": 18,
   "metadata": {},
   "outputs": [],
   "source": [
    "# Seleção de clientes com humor = 0\n",
    "# insatisfeitos = olist_ibge_v14.loc[olist_ibge_v14[\"humor\"] == 0]"
   ]
  },
  {
   "cell_type": "code",
   "execution_count": 19,
   "metadata": {},
   "outputs": [],
   "source": [
    "# insatisfeitos.info()"
   ]
  },
  {
   "cell_type": "code",
   "execution_count": 20,
   "metadata": {},
   "outputs": [],
   "source": [
    "# satisfeitos.info()"
   ]
  },
  {
   "cell_type": "code",
   "execution_count": 21,
   "metadata": {},
   "outputs": [],
   "source": [
    "# seleção aleatória de 40% de satisfeitos.\n",
    "# satisfeitos_40 = satisfeitos.sample(29227)"
   ]
  },
  {
   "cell_type": "code",
   "execution_count": 22,
   "metadata": {},
   "outputs": [],
   "source": [
    "# satisfeitos_40.info()"
   ]
  },
  {
   "cell_type": "code",
   "execution_count": 23,
   "metadata": {},
   "outputs": [],
   "source": [
    "# Põe os dois grupos juntos: os 40% satisfeitos e os insatisfeitos\n",
    "# dados_emp=pd.concat([dados1,dados2])\n",
    "# olist_ibge_under_sampled = pd.concat([satisfeitos_40,insatisfeitos])"
   ]
  },
  {
   "cell_type": "code",
   "execution_count": 24,
   "metadata": {},
   "outputs": [
    {
     "data": {
      "text/html": [
       "<div>\n",
       "<style scoped>\n",
       "    .dataframe tbody tr th:only-of-type {\n",
       "        vertical-align: middle;\n",
       "    }\n",
       "\n",
       "    .dataframe tbody tr th {\n",
       "        vertical-align: top;\n",
       "    }\n",
       "\n",
       "    .dataframe thead th {\n",
       "        text-align: right;\n",
       "    }\n",
       "</style>\n",
       "<table border=\"1\" class=\"dataframe\">\n",
       "  <thead>\n",
       "    <tr style=\"text-align: right;\">\n",
       "      <th></th>\n",
       "      <th>order_id</th>\n",
       "      <th>product_id</th>\n",
       "      <th>seller_id</th>\n",
       "      <th>product_category_name</th>\n",
       "      <th>sigla_state</th>\n",
       "      <th>seller_sigla_state</th>\n",
       "      <th>review_score</th>\n",
       "      <th>qtde_boleto</th>\n",
       "      <th>qtde_credit_card</th>\n",
       "      <th>qtde_debit_card</th>\n",
       "      <th>qtde_voucher</th>\n",
       "      <th>soma_payment</th>\n",
       "      <th>qtde_installments</th>\n",
       "      <th>AR_MUN_2018</th>\n",
       "      <th>POPULAÇÃO ESTIMADA</th>\n",
       "      <th>PIB</th>\n",
       "      <th>gini</th>\n",
       "      <th>dias</th>\n",
       "      <th>humor</th>\n",
       "    </tr>\n",
       "  </thead>\n",
       "  <tbody>\n",
       "    <tr>\n",
       "      <th>0</th>\n",
       "      <td>50ba38c4dc467baab1ea2c8c7747934d</td>\n",
       "      <td>418d480693f2f01e9cf4568db0346d28</td>\n",
       "      <td>12b9676b00f60f3b700e83af21824c0e</td>\n",
       "      <td>cool_stuff</td>\n",
       "      <td>mg</td>\n",
       "      <td>rs</td>\n",
       "      <td>5</td>\n",
       "      <td>0</td>\n",
       "      <td>1</td>\n",
       "      <td>0</td>\n",
       "      <td>0</td>\n",
       "      <td>219.63</td>\n",
       "      <td>10</td>\n",
       "      <td>881.06</td>\n",
       "      <td>7037</td>\n",
       "      <td>180,088.78</td>\n",
       "      <td>0.65</td>\n",
       "      <td>21.11</td>\n",
       "      <td>1</td>\n",
       "    </tr>\n",
       "    <tr>\n",
       "      <th>1</th>\n",
       "      <td>d99e6849f7676dade195f20c26f0eb4f</td>\n",
       "      <td>1081ae52311daac87fb54ba8ce4670ac</td>\n",
       "      <td>4371b634e0efc0e22b09b52907d9d469</td>\n",
       "      <td>esporte_lazer</td>\n",
       "      <td>mg</td>\n",
       "      <td>sp</td>\n",
       "      <td>5</td>\n",
       "      <td>0</td>\n",
       "      <td>1</td>\n",
       "      <td>0</td>\n",
       "      <td>0</td>\n",
       "      <td>135.59</td>\n",
       "      <td>1</td>\n",
       "      <td>881.06</td>\n",
       "      <td>7037</td>\n",
       "      <td>180,088.78</td>\n",
       "      <td>0.65</td>\n",
       "      <td>5.84</td>\n",
       "      <td>1</td>\n",
       "    </tr>\n",
       "    <tr>\n",
       "      <th>2</th>\n",
       "      <td>0a9a43ac5fe59c6c4bee2a8f9b9fcce8</td>\n",
       "      <td>c1aabbb6f4caec9f5bf7cd80519d6cc0</td>\n",
       "      <td>579891617139df7d8671d373f0669622</td>\n",
       "      <td>livros_interesse_geral</td>\n",
       "      <td>mg</td>\n",
       "      <td>rj</td>\n",
       "      <td>5</td>\n",
       "      <td>1</td>\n",
       "      <td>0</td>\n",
       "      <td>0</td>\n",
       "      <td>0</td>\n",
       "      <td>58.28</td>\n",
       "      <td>1</td>\n",
       "      <td>881.06</td>\n",
       "      <td>7037</td>\n",
       "      <td>180,088.78</td>\n",
       "      <td>0.65</td>\n",
       "      <td>8.63</td>\n",
       "      <td>1</td>\n",
       "    </tr>\n",
       "    <tr>\n",
       "      <th>3</th>\n",
       "      <td>3f1294f87d79b57f5d55ba7b80c3d94f</td>\n",
       "      <td>0a9b9a871ffaec6c0198334558a6c6a1</td>\n",
       "      <td>f9244d45189d3a3605499abddeade7d5</td>\n",
       "      <td>eletroportateis</td>\n",
       "      <td>go</td>\n",
       "      <td>sp</td>\n",
       "      <td>4</td>\n",
       "      <td>0</td>\n",
       "      <td>1</td>\n",
       "      <td>0</td>\n",
       "      <td>0</td>\n",
       "      <td>1,025.52</td>\n",
       "      <td>8</td>\n",
       "      <td>1,045.13</td>\n",
       "      <td>18427</td>\n",
       "      <td>287,984.49</td>\n",
       "      <td>0.73</td>\n",
       "      <td>29.10</td>\n",
       "      <td>1</td>\n",
       "    </tr>\n",
       "    <tr>\n",
       "      <th>4</th>\n",
       "      <td>6c12feac9a308e1382d9b19cca7f20b2</td>\n",
       "      <td>d47821b10559fffaefcf3e57d2b5ff76</td>\n",
       "      <td>0df3984f9dfb3d49ac6366acbd3bbb85</td>\n",
       "      <td>beleza_saude</td>\n",
       "      <td>mg</td>\n",
       "      <td>mg</td>\n",
       "      <td>4</td>\n",
       "      <td>0</td>\n",
       "      <td>1</td>\n",
       "      <td>0</td>\n",
       "      <td>0</td>\n",
       "      <td>220.97</td>\n",
       "      <td>4</td>\n",
       "      <td>1,817.07</td>\n",
       "      <td>23574</td>\n",
       "      <td>430,235.36</td>\n",
       "      <td>0.66</td>\n",
       "      <td>4.80</td>\n",
       "      <td>1</td>\n",
       "    </tr>\n",
       "  </tbody>\n",
       "</table>\n",
       "</div>"
      ],
      "text/plain": [
       "                           order_id                        product_id  \\\n",
       "0  50ba38c4dc467baab1ea2c8c7747934d  418d480693f2f01e9cf4568db0346d28   \n",
       "1  d99e6849f7676dade195f20c26f0eb4f  1081ae52311daac87fb54ba8ce4670ac   \n",
       "2  0a9a43ac5fe59c6c4bee2a8f9b9fcce8  c1aabbb6f4caec9f5bf7cd80519d6cc0   \n",
       "3  3f1294f87d79b57f5d55ba7b80c3d94f  0a9b9a871ffaec6c0198334558a6c6a1   \n",
       "4  6c12feac9a308e1382d9b19cca7f20b2  d47821b10559fffaefcf3e57d2b5ff76   \n",
       "\n",
       "                          seller_id   product_category_name sigla_state  \\\n",
       "0  12b9676b00f60f3b700e83af21824c0e              cool_stuff          mg   \n",
       "1  4371b634e0efc0e22b09b52907d9d469           esporte_lazer          mg   \n",
       "2  579891617139df7d8671d373f0669622  livros_interesse_geral          mg   \n",
       "3  f9244d45189d3a3605499abddeade7d5         eletroportateis          go   \n",
       "4  0df3984f9dfb3d49ac6366acbd3bbb85            beleza_saude          mg   \n",
       "\n",
       "  seller_sigla_state  review_score  qtde_boleto  qtde_credit_card  \\\n",
       "0                 rs             5            0                 1   \n",
       "1                 sp             5            0                 1   \n",
       "2                 rj             5            1                 0   \n",
       "3                 sp             4            0                 1   \n",
       "4                 mg             4            0                 1   \n",
       "\n",
       "   qtde_debit_card  qtde_voucher  soma_payment  qtde_installments  \\\n",
       "0                0             0        219.63                 10   \n",
       "1                0             0        135.59                  1   \n",
       "2                0             0         58.28                  1   \n",
       "3                0             0      1,025.52                  8   \n",
       "4                0             0        220.97                  4   \n",
       "\n",
       "   AR_MUN_2018  POPULAÇÃO ESTIMADA        PIB  gini  dias  humor  \n",
       "0       881.06                7037 180,088.78  0.65 21.11      1  \n",
       "1       881.06                7037 180,088.78  0.65  5.84      1  \n",
       "2       881.06                7037 180,088.78  0.65  8.63      1  \n",
       "3     1,045.13               18427 287,984.49  0.73 29.10      1  \n",
       "4     1,817.07               23574 430,235.36  0.66  4.80      1  "
      ]
     },
     "execution_count": 24,
     "metadata": {},
     "output_type": "execute_result"
    }
   ],
   "source": [
    "olist_ibge_v14.head()"
   ]
  },
  {
   "cell_type": "code",
   "execution_count": 25,
   "metadata": {},
   "outputs": [],
   "source": [
    "crosstab = pd.crosstab(olist_ibge_v14['dias'], olist_ibge_v14['humor'], margins = True)"
   ]
  },
  {
   "cell_type": "code",
   "execution_count": 26,
   "metadata": {},
   "outputs": [
    {
     "data": {
      "text/html": [
       "<div>\n",
       "<style scoped>\n",
       "    .dataframe tbody tr th:only-of-type {\n",
       "        vertical-align: middle;\n",
       "    }\n",
       "\n",
       "    .dataframe tbody tr th {\n",
       "        vertical-align: top;\n",
       "    }\n",
       "\n",
       "    .dataframe thead th {\n",
       "        text-align: right;\n",
       "    }\n",
       "</style>\n",
       "<table border=\"1\" class=\"dataframe\">\n",
       "  <thead>\n",
       "    <tr style=\"text-align: right;\">\n",
       "      <th>humor</th>\n",
       "      <th>0</th>\n",
       "      <th>1</th>\n",
       "      <th>All</th>\n",
       "    </tr>\n",
       "    <tr>\n",
       "      <th>dias</th>\n",
       "      <th></th>\n",
       "      <th></th>\n",
       "      <th></th>\n",
       "    </tr>\n",
       "  </thead>\n",
       "  <tbody>\n",
       "    <tr>\n",
       "      <th>0.53</th>\n",
       "      <td>0</td>\n",
       "      <td>1</td>\n",
       "      <td>1</td>\n",
       "    </tr>\n",
       "    <tr>\n",
       "      <th>0.78</th>\n",
       "      <td>1</td>\n",
       "      <td>0</td>\n",
       "      <td>1</td>\n",
       "    </tr>\n",
       "    <tr>\n",
       "      <th>0.86</th>\n",
       "      <td>1</td>\n",
       "      <td>0</td>\n",
       "      <td>1</td>\n",
       "    </tr>\n",
       "    <tr>\n",
       "      <th>0.86</th>\n",
       "      <td>1</td>\n",
       "      <td>0</td>\n",
       "      <td>1</td>\n",
       "    </tr>\n",
       "    <tr>\n",
       "      <th>0.89</th>\n",
       "      <td>0</td>\n",
       "      <td>1</td>\n",
       "      <td>1</td>\n",
       "    </tr>\n",
       "  </tbody>\n",
       "</table>\n",
       "</div>"
      ],
      "text/plain": [
       "humor  0  1  All\n",
       "dias            \n",
       "0.53   0  1    1\n",
       "0.78   1  0    1\n",
       "0.86   1  0    1\n",
       "0.86   1  0    1\n",
       "0.89   0  1    1"
      ]
     },
     "execution_count": 26,
     "metadata": {},
     "output_type": "execute_result"
    }
   ],
   "source": [
    "crosstab.head()"
   ]
  },
  {
   "cell_type": "code",
   "execution_count": 27,
   "metadata": {},
   "outputs": [
    {
     "data": {
      "text/html": [
       "<div>\n",
       "<style scoped>\n",
       "    .dataframe tbody tr th:only-of-type {\n",
       "        vertical-align: middle;\n",
       "    }\n",
       "\n",
       "    .dataframe tbody tr th {\n",
       "        vertical-align: top;\n",
       "    }\n",
       "\n",
       "    .dataframe thead th {\n",
       "        text-align: right;\n",
       "    }\n",
       "</style>\n",
       "<table border=\"1\" class=\"dataframe\">\n",
       "  <thead>\n",
       "    <tr style=\"text-align: right;\">\n",
       "      <th></th>\n",
       "      <th>review_score</th>\n",
       "      <th>qtde_boleto</th>\n",
       "      <th>qtde_credit_card</th>\n",
       "      <th>qtde_debit_card</th>\n",
       "      <th>qtde_voucher</th>\n",
       "      <th>soma_payment</th>\n",
       "      <th>qtde_installments</th>\n",
       "      <th>AR_MUN_2018</th>\n",
       "      <th>POPULAÇÃO ESTIMADA</th>\n",
       "      <th>PIB</th>\n",
       "      <th>gini</th>\n",
       "      <th>dias</th>\n",
       "      <th>humor</th>\n",
       "    </tr>\n",
       "  </thead>\n",
       "  <tbody>\n",
       "    <tr>\n",
       "      <th>count</th>\n",
       "      <td>92,935.00</td>\n",
       "      <td>92,935.00</td>\n",
       "      <td>92,935.00</td>\n",
       "      <td>92,935.00</td>\n",
       "      <td>92,935.00</td>\n",
       "      <td>92,935.00</td>\n",
       "      <td>92,935.00</td>\n",
       "      <td>92,935.00</td>\n",
       "      <td>92,935.00</td>\n",
       "      <td>92,935.00</td>\n",
       "      <td>92,935.00</td>\n",
       "      <td>92,935.00</td>\n",
       "      <td>92,935.00</td>\n",
       "    </tr>\n",
       "    <tr>\n",
       "      <th>mean</th>\n",
       "      <td>4.15</td>\n",
       "      <td>0.20</td>\n",
       "      <td>0.77</td>\n",
       "      <td>0.02</td>\n",
       "      <td>0.06</td>\n",
       "      <td>160.50</td>\n",
       "      <td>2.93</td>\n",
       "      <td>1,279.54</td>\n",
       "      <td>2,826,551.15</td>\n",
       "      <td>151,772,033.94</td>\n",
       "      <td>0.79</td>\n",
       "      <td>12.56</td>\n",
       "      <td>0.79</td>\n",
       "    </tr>\n",
       "    <tr>\n",
       "      <th>std</th>\n",
       "      <td>1.29</td>\n",
       "      <td>0.40</td>\n",
       "      <td>0.43</td>\n",
       "      <td>0.12</td>\n",
       "      <td>0.41</td>\n",
       "      <td>219.69</td>\n",
       "      <td>2.72</td>\n",
       "      <td>3,553.72</td>\n",
       "      <td>4,325,960.32</td>\n",
       "      <td>247,687,238.20</td>\n",
       "      <td>0.11</td>\n",
       "      <td>9.51</td>\n",
       "      <td>0.41</td>\n",
       "    </tr>\n",
       "    <tr>\n",
       "      <th>min</th>\n",
       "      <td>1.00</td>\n",
       "      <td>0.00</td>\n",
       "      <td>0.00</td>\n",
       "      <td>0.00</td>\n",
       "      <td>0.00</td>\n",
       "      <td>0.00</td>\n",
       "      <td>0.00</td>\n",
       "      <td>3.56</td>\n",
       "      <td>838.00</td>\n",
       "      <td>14,959.96</td>\n",
       "      <td>0.35</td>\n",
       "      <td>0.53</td>\n",
       "      <td>0.00</td>\n",
       "    </tr>\n",
       "    <tr>\n",
       "      <th>25%</th>\n",
       "      <td>4.00</td>\n",
       "      <td>0.00</td>\n",
       "      <td>1.00</td>\n",
       "      <td>0.00</td>\n",
       "      <td>0.00</td>\n",
       "      <td>62.01</td>\n",
       "      <td>1.00</td>\n",
       "      <td>318.68</td>\n",
       "      <td>102,268.00</td>\n",
       "      <td>2,921,663.24</td>\n",
       "      <td>0.74</td>\n",
       "      <td>6.79</td>\n",
       "      <td>1.00</td>\n",
       "    </tr>\n",
       "    <tr>\n",
       "      <th>50%</th>\n",
       "      <td>5.00</td>\n",
       "      <td>0.00</td>\n",
       "      <td>1.00</td>\n",
       "      <td>0.00</td>\n",
       "      <td>0.00</td>\n",
       "      <td>105.28</td>\n",
       "      <td>2.00</td>\n",
       "      <td>693.83</td>\n",
       "      <td>477,798.00</td>\n",
       "      <td>18,469,475.89</td>\n",
       "      <td>0.80</td>\n",
       "      <td>10.22</td>\n",
       "      <td>1.00</td>\n",
       "    </tr>\n",
       "    <tr>\n",
       "      <th>75%</th>\n",
       "      <td>5.00</td>\n",
       "      <td>0.00</td>\n",
       "      <td>1.00</td>\n",
       "      <td>0.00</td>\n",
       "      <td>0.00</td>\n",
       "      <td>177.28</td>\n",
       "      <td>4.00</td>\n",
       "      <td>1,521.11</td>\n",
       "      <td>2,938,092.00</td>\n",
       "      <td>88,277,462.53</td>\n",
       "      <td>0.87</td>\n",
       "      <td>15.71</td>\n",
       "      <td>1.00</td>\n",
       "    </tr>\n",
       "    <tr>\n",
       "      <th>max</th>\n",
       "      <td>5.00</td>\n",
       "      <td>1.00</td>\n",
       "      <td>2.00</td>\n",
       "      <td>2.00</td>\n",
       "      <td>25.00</td>\n",
       "      <td>13,664.08</td>\n",
       "      <td>24.00</td>\n",
       "      <td>159,533.33</td>\n",
       "      <td>12,038,175.00</td>\n",
       "      <td>687,035,889.61</td>\n",
       "      <td>0.99</td>\n",
       "      <td>209.63</td>\n",
       "      <td>1.00</td>\n",
       "    </tr>\n",
       "  </tbody>\n",
       "</table>\n",
       "</div>"
      ],
      "text/plain": [
       "       review_score  qtde_boleto  qtde_credit_card  qtde_debit_card  \\\n",
       "count     92,935.00    92,935.00         92,935.00        92,935.00   \n",
       "mean           4.15         0.20              0.77             0.02   \n",
       "std            1.29         0.40              0.43             0.12   \n",
       "min            1.00         0.00              0.00             0.00   \n",
       "25%            4.00         0.00              1.00             0.00   \n",
       "50%            5.00         0.00              1.00             0.00   \n",
       "75%            5.00         0.00              1.00             0.00   \n",
       "max            5.00         1.00              2.00             2.00   \n",
       "\n",
       "       qtde_voucher  soma_payment  qtde_installments  AR_MUN_2018  \\\n",
       "count     92,935.00     92,935.00          92,935.00    92,935.00   \n",
       "mean           0.06        160.50               2.93     1,279.54   \n",
       "std            0.41        219.69               2.72     3,553.72   \n",
       "min            0.00          0.00               0.00         3.56   \n",
       "25%            0.00         62.01               1.00       318.68   \n",
       "50%            0.00        105.28               2.00       693.83   \n",
       "75%            0.00        177.28               4.00     1,521.11   \n",
       "max           25.00     13,664.08              24.00   159,533.33   \n",
       "\n",
       "       POPULAÇÃO ESTIMADA            PIB      gini      dias     humor  \n",
       "count           92,935.00      92,935.00 92,935.00 92,935.00 92,935.00  \n",
       "mean         2,826,551.15 151,772,033.94      0.79     12.56      0.79  \n",
       "std          4,325,960.32 247,687,238.20      0.11      9.51      0.41  \n",
       "min                838.00      14,959.96      0.35      0.53      0.00  \n",
       "25%            102,268.00   2,921,663.24      0.74      6.79      1.00  \n",
       "50%            477,798.00  18,469,475.89      0.80     10.22      1.00  \n",
       "75%          2,938,092.00  88,277,462.53      0.87     15.71      1.00  \n",
       "max         12,038,175.00 687,035,889.61      0.99    209.63      1.00  "
      ]
     },
     "execution_count": 27,
     "metadata": {},
     "output_type": "execute_result"
    }
   ],
   "source": [
    "olist_ibge_v14.describe()"
   ]
  },
  {
   "cell_type": "code",
   "execution_count": 28,
   "metadata": {},
   "outputs": [],
   "source": [
    "# Deletar 'qtde_boleto', por correlação de -0.9 com 'qtde_credit_card', e 'POPULAÇAO ESTIMADA', por ter correlação de 1 com 'PIB'\n",
    "# Deletar 'order_id' por ser somente chave primária e 'review_score', pois já temos oriunda dela a coluna 'humor', nosso alvo.\n",
    "olist_ibge_v15 = olist_ibge_v14.drop(['qtde_boleto', 'POPULAÇÃO ESTIMADA', 'order_id', 'review_score'], axis=1)"
   ]
  },
  {
   "cell_type": "code",
   "execution_count": 29,
   "metadata": {},
   "outputs": [
    {
     "data": {
      "text/plain": [
       "((92935, 15), (92935, 19))"
      ]
     },
     "execution_count": 29,
     "metadata": {},
     "output_type": "execute_result"
    }
   ],
   "source": [
    "olist_ibge_v15.shape, olist_ibge_v14.shape"
   ]
  },
  {
   "cell_type": "code",
   "execution_count": 30,
   "metadata": {},
   "outputs": [
    {
     "name": "stdout",
     "output_type": "stream",
     "text": [
      "<class 'pandas.core.frame.DataFrame'>\n",
      "RangeIndex: 92935 entries, 0 to 92934\n",
      "Data columns (total 15 columns):\n",
      "product_id               92935 non-null object\n",
      "seller_id                92935 non-null object\n",
      "product_category_name    92935 non-null object\n",
      "sigla_state              92935 non-null object\n",
      "seller_sigla_state       92935 non-null object\n",
      "qtde_credit_card         92935 non-null int64\n",
      "qtde_debit_card          92935 non-null int64\n",
      "qtde_voucher             92935 non-null int64\n",
      "soma_payment             92935 non-null float64\n",
      "qtde_installments        92935 non-null int64\n",
      "AR_MUN_2018              92935 non-null float64\n",
      "PIB                      92935 non-null float64\n",
      "gini                     92935 non-null float64\n",
      "dias                     92935 non-null float64\n",
      "humor                    92935 non-null int64\n",
      "dtypes: float64(5), int64(5), object(5)\n",
      "memory usage: 10.6+ MB\n"
     ]
    }
   ],
   "source": [
    "olist_ibge_v15.info()"
   ]
  },
  {
   "cell_type": "code",
   "execution_count": 31,
   "metadata": {},
   "outputs": [
    {
     "data": {
      "text/html": [
       "<div>\n",
       "<style scoped>\n",
       "    .dataframe tbody tr th:only-of-type {\n",
       "        vertical-align: middle;\n",
       "    }\n",
       "\n",
       "    .dataframe tbody tr th {\n",
       "        vertical-align: top;\n",
       "    }\n",
       "\n",
       "    .dataframe thead th {\n",
       "        text-align: right;\n",
       "    }\n",
       "</style>\n",
       "<table border=\"1\" class=\"dataframe\">\n",
       "  <thead>\n",
       "    <tr style=\"text-align: right;\">\n",
       "      <th></th>\n",
       "      <th>product_id</th>\n",
       "      <th>seller_id</th>\n",
       "      <th>product_category_name</th>\n",
       "      <th>sigla_state</th>\n",
       "      <th>seller_sigla_state</th>\n",
       "      <th>qtde_credit_card</th>\n",
       "      <th>qtde_debit_card</th>\n",
       "      <th>qtde_voucher</th>\n",
       "      <th>soma_payment</th>\n",
       "      <th>qtde_installments</th>\n",
       "      <th>AR_MUN_2018</th>\n",
       "      <th>PIB</th>\n",
       "      <th>gini</th>\n",
       "      <th>dias</th>\n",
       "      <th>humor</th>\n",
       "    </tr>\n",
       "  </thead>\n",
       "  <tbody>\n",
       "    <tr>\n",
       "      <th>0</th>\n",
       "      <td>418d480693f2f01e9cf4568db0346d28</td>\n",
       "      <td>12b9676b00f60f3b700e83af21824c0e</td>\n",
       "      <td>cool_stuff</td>\n",
       "      <td>mg</td>\n",
       "      <td>rs</td>\n",
       "      <td>1</td>\n",
       "      <td>0</td>\n",
       "      <td>0</td>\n",
       "      <td>219.63</td>\n",
       "      <td>10</td>\n",
       "      <td>881.06</td>\n",
       "      <td>180,088.78</td>\n",
       "      <td>0.65</td>\n",
       "      <td>21.11</td>\n",
       "      <td>1</td>\n",
       "    </tr>\n",
       "    <tr>\n",
       "      <th>1</th>\n",
       "      <td>1081ae52311daac87fb54ba8ce4670ac</td>\n",
       "      <td>4371b634e0efc0e22b09b52907d9d469</td>\n",
       "      <td>esporte_lazer</td>\n",
       "      <td>mg</td>\n",
       "      <td>sp</td>\n",
       "      <td>1</td>\n",
       "      <td>0</td>\n",
       "      <td>0</td>\n",
       "      <td>135.59</td>\n",
       "      <td>1</td>\n",
       "      <td>881.06</td>\n",
       "      <td>180,088.78</td>\n",
       "      <td>0.65</td>\n",
       "      <td>5.84</td>\n",
       "      <td>1</td>\n",
       "    </tr>\n",
       "    <tr>\n",
       "      <th>2</th>\n",
       "      <td>c1aabbb6f4caec9f5bf7cd80519d6cc0</td>\n",
       "      <td>579891617139df7d8671d373f0669622</td>\n",
       "      <td>livros_interesse_geral</td>\n",
       "      <td>mg</td>\n",
       "      <td>rj</td>\n",
       "      <td>0</td>\n",
       "      <td>0</td>\n",
       "      <td>0</td>\n",
       "      <td>58.28</td>\n",
       "      <td>1</td>\n",
       "      <td>881.06</td>\n",
       "      <td>180,088.78</td>\n",
       "      <td>0.65</td>\n",
       "      <td>8.63</td>\n",
       "      <td>1</td>\n",
       "    </tr>\n",
       "    <tr>\n",
       "      <th>3</th>\n",
       "      <td>0a9b9a871ffaec6c0198334558a6c6a1</td>\n",
       "      <td>f9244d45189d3a3605499abddeade7d5</td>\n",
       "      <td>eletroportateis</td>\n",
       "      <td>go</td>\n",
       "      <td>sp</td>\n",
       "      <td>1</td>\n",
       "      <td>0</td>\n",
       "      <td>0</td>\n",
       "      <td>1,025.52</td>\n",
       "      <td>8</td>\n",
       "      <td>1,045.13</td>\n",
       "      <td>287,984.49</td>\n",
       "      <td>0.73</td>\n",
       "      <td>29.10</td>\n",
       "      <td>1</td>\n",
       "    </tr>\n",
       "    <tr>\n",
       "      <th>4</th>\n",
       "      <td>d47821b10559fffaefcf3e57d2b5ff76</td>\n",
       "      <td>0df3984f9dfb3d49ac6366acbd3bbb85</td>\n",
       "      <td>beleza_saude</td>\n",
       "      <td>mg</td>\n",
       "      <td>mg</td>\n",
       "      <td>1</td>\n",
       "      <td>0</td>\n",
       "      <td>0</td>\n",
       "      <td>220.97</td>\n",
       "      <td>4</td>\n",
       "      <td>1,817.07</td>\n",
       "      <td>430,235.36</td>\n",
       "      <td>0.66</td>\n",
       "      <td>4.80</td>\n",
       "      <td>1</td>\n",
       "    </tr>\n",
       "  </tbody>\n",
       "</table>\n",
       "</div>"
      ],
      "text/plain": [
       "                         product_id                         seller_id  \\\n",
       "0  418d480693f2f01e9cf4568db0346d28  12b9676b00f60f3b700e83af21824c0e   \n",
       "1  1081ae52311daac87fb54ba8ce4670ac  4371b634e0efc0e22b09b52907d9d469   \n",
       "2  c1aabbb6f4caec9f5bf7cd80519d6cc0  579891617139df7d8671d373f0669622   \n",
       "3  0a9b9a871ffaec6c0198334558a6c6a1  f9244d45189d3a3605499abddeade7d5   \n",
       "4  d47821b10559fffaefcf3e57d2b5ff76  0df3984f9dfb3d49ac6366acbd3bbb85   \n",
       "\n",
       "    product_category_name sigla_state seller_sigla_state  qtde_credit_card  \\\n",
       "0              cool_stuff          mg                 rs                 1   \n",
       "1           esporte_lazer          mg                 sp                 1   \n",
       "2  livros_interesse_geral          mg                 rj                 0   \n",
       "3         eletroportateis          go                 sp                 1   \n",
       "4            beleza_saude          mg                 mg                 1   \n",
       "\n",
       "   qtde_debit_card  qtde_voucher  soma_payment  qtde_installments  \\\n",
       "0                0             0        219.63                 10   \n",
       "1                0             0        135.59                  1   \n",
       "2                0             0         58.28                  1   \n",
       "3                0             0      1,025.52                  8   \n",
       "4                0             0        220.97                  4   \n",
       "\n",
       "   AR_MUN_2018        PIB  gini  dias  humor  \n",
       "0       881.06 180,088.78  0.65 21.11      1  \n",
       "1       881.06 180,088.78  0.65  5.84      1  \n",
       "2       881.06 180,088.78  0.65  8.63      1  \n",
       "3     1,045.13 287,984.49  0.73 29.10      1  \n",
       "4     1,817.07 430,235.36  0.66  4.80      1  "
      ]
     },
     "execution_count": 31,
     "metadata": {},
     "output_type": "execute_result"
    }
   ],
   "source": [
    "olist_ibge_v15.head()"
   ]
  },
  {
   "cell_type": "markdown",
   "metadata": {},
   "source": [
    "### Importação da biblioteca LabelEncoder"
   ]
  },
  {
   "cell_type": "code",
   "execution_count": 32,
   "metadata": {},
   "outputs": [],
   "source": [
    "from sklearn.preprocessing import LabelEncoder"
   ]
  },
  {
   "cell_type": "markdown",
   "metadata": {},
   "source": [
    "### Chamando o objeto"
   ]
  },
  {
   "cell_type": "code",
   "execution_count": 33,
   "metadata": {},
   "outputs": [],
   "source": [
    "le = LabelEncoder()"
   ]
  },
  {
   "cell_type": "markdown",
   "metadata": {},
   "source": [
    "### Verificando o objeto le"
   ]
  },
  {
   "cell_type": "code",
   "execution_count": 34,
   "metadata": {
    "scrolled": true
   },
   "outputs": [
    {
     "data": {
      "text/plain": [
       "LabelEncoder()"
      ]
     },
     "execution_count": 34,
     "metadata": {},
     "output_type": "execute_result"
    }
   ],
   "source": [
    "le"
   ]
  },
  {
   "cell_type": "markdown",
   "metadata": {},
   "source": [
    "### Aplicação do objeto aos dados categóricos de '<font color=red>olist_ibge_v14</font>'"
   ]
  },
  {
   "cell_type": "code",
   "execution_count": 35,
   "metadata": {},
   "outputs": [],
   "source": [
    "le_product_id = le.fit_transform(olist_ibge_v14['product_id'])"
   ]
  },
  {
   "cell_type": "code",
   "execution_count": 36,
   "metadata": {},
   "outputs": [],
   "source": [
    "le_seller_id = le.fit_transform(olist_ibge_v14['seller_id'])"
   ]
  },
  {
   "cell_type": "code",
   "execution_count": 37,
   "metadata": {},
   "outputs": [],
   "source": [
    "le_product_category_name = le.fit_transform(olist_ibge_v14['product_category_name'])"
   ]
  },
  {
   "cell_type": "code",
   "execution_count": 38,
   "metadata": {},
   "outputs": [],
   "source": [
    "le_sigla_state = le.fit_transform(olist_ibge_v14['sigla_state'])"
   ]
  },
  {
   "cell_type": "code",
   "execution_count": 39,
   "metadata": {},
   "outputs": [],
   "source": [
    "le_seller_sigla_state = le.fit_transform(olist_ibge_v14['seller_sigla_state'])"
   ]
  },
  {
   "cell_type": "markdown",
   "metadata": {},
   "source": [
    "### Exibição do array le_sigla_state\n",
    "> le_sigla_state é um array.<br>\n",
    ">Portanto, será necessário transformá-lo em dataframe.  \n",
    ">> Aliás, vamos transformar em array os 05 (cinco) conjuntos gerados acima cujos nomes são 'le_qualquer_coisa'"
   ]
  },
  {
   "cell_type": "code",
   "execution_count": 40,
   "metadata": {},
   "outputs": [
    {
     "data": {
      "text/plain": [
       "array([10, 10, 10, ...,  9,  9, 23])"
      ]
     },
     "execution_count": 40,
     "metadata": {},
     "output_type": "execute_result"
    }
   ],
   "source": [
    "le_sigla_state"
   ]
  },
  {
   "cell_type": "code",
   "execution_count": 41,
   "metadata": {},
   "outputs": [],
   "source": [
    "df_le_product_id = pd.DataFrame(le_product_id,columns = ['le_product_id'])"
   ]
  },
  {
   "cell_type": "code",
   "execution_count": 42,
   "metadata": {},
   "outputs": [],
   "source": [
    "df_le_seller_id = pd.DataFrame(le_seller_id,columns = ['le_seller_id'])"
   ]
  },
  {
   "cell_type": "code",
   "execution_count": 43,
   "metadata": {},
   "outputs": [],
   "source": [
    "df_le_product_category_name = pd.DataFrame(le_product_category_name,columns = ['le_product_category_name'])"
   ]
  },
  {
   "cell_type": "code",
   "execution_count": 44,
   "metadata": {},
   "outputs": [],
   "source": [
    "df_le_sigla_state = pd.DataFrame(le_sigla_state,columns = ['le_sigla_state'])"
   ]
  },
  {
   "cell_type": "code",
   "execution_count": 45,
   "metadata": {},
   "outputs": [],
   "source": [
    "df_le_seller_sigla_state = pd.DataFrame(le_seller_sigla_state,columns = ['le_seller_sigla_state'])"
   ]
  },
  {
   "cell_type": "markdown",
   "metadata": {},
   "source": [
    "###  Exibição das linhas iniciais dos DataFrame do LabelEncoder."
   ]
  },
  {
   "cell_type": "code",
   "execution_count": 46,
   "metadata": {},
   "outputs": [
    {
     "data": {
      "text/html": [
       "<div>\n",
       "<style scoped>\n",
       "    .dataframe tbody tr th:only-of-type {\n",
       "        vertical-align: middle;\n",
       "    }\n",
       "\n",
       "    .dataframe tbody tr th {\n",
       "        vertical-align: top;\n",
       "    }\n",
       "\n",
       "    .dataframe thead th {\n",
       "        text-align: right;\n",
       "    }\n",
       "</style>\n",
       "<table border=\"1\" class=\"dataframe\">\n",
       "  <thead>\n",
       "    <tr style=\"text-align: right;\">\n",
       "      <th></th>\n",
       "      <th>le_product_id</th>\n",
       "    </tr>\n",
       "  </thead>\n",
       "  <tbody>\n",
       "    <tr>\n",
       "      <th>0</th>\n",
       "      <td>7841</td>\n",
       "    </tr>\n",
       "    <tr>\n",
       "      <th>1</th>\n",
       "      <td>1976</td>\n",
       "    </tr>\n",
       "    <tr>\n",
       "      <th>2</th>\n",
       "      <td>22780</td>\n",
       "    </tr>\n",
       "    <tr>\n",
       "      <th>3</th>\n",
       "      <td>1247</td>\n",
       "    </tr>\n",
       "    <tr>\n",
       "      <th>4</th>\n",
       "      <td>25080</td>\n",
       "    </tr>\n",
       "  </tbody>\n",
       "</table>\n",
       "</div>"
      ],
      "text/plain": [
       "   le_product_id\n",
       "0           7841\n",
       "1           1976\n",
       "2          22780\n",
       "3           1247\n",
       "4          25080"
      ]
     },
     "execution_count": 46,
     "metadata": {},
     "output_type": "execute_result"
    }
   ],
   "source": [
    "df_le_product_id.head()"
   ]
  },
  {
   "cell_type": "code",
   "execution_count": 47,
   "metadata": {},
   "outputs": [
    {
     "data": {
      "text/html": [
       "<div>\n",
       "<style scoped>\n",
       "    .dataframe tbody tr th:only-of-type {\n",
       "        vertical-align: middle;\n",
       "    }\n",
       "\n",
       "    .dataframe tbody tr th {\n",
       "        vertical-align: top;\n",
       "    }\n",
       "\n",
       "    .dataframe thead th {\n",
       "        text-align: right;\n",
       "    }\n",
       "</style>\n",
       "<table border=\"1\" class=\"dataframe\">\n",
       "  <thead>\n",
       "    <tr style=\"text-align: right;\">\n",
       "      <th></th>\n",
       "      <th>le_seller_id</th>\n",
       "    </tr>\n",
       "  </thead>\n",
       "  <tbody>\n",
       "    <tr>\n",
       "      <th>0</th>\n",
       "      <td>207</td>\n",
       "    </tr>\n",
       "    <tr>\n",
       "      <th>1</th>\n",
       "      <td>769</td>\n",
       "    </tr>\n",
       "    <tr>\n",
       "      <th>2</th>\n",
       "      <td>1011</td>\n",
       "    </tr>\n",
       "    <tr>\n",
       "      <th>3</th>\n",
       "      <td>2810</td>\n",
       "    </tr>\n",
       "    <tr>\n",
       "      <th>4</th>\n",
       "      <td>160</td>\n",
       "    </tr>\n",
       "  </tbody>\n",
       "</table>\n",
       "</div>"
      ],
      "text/plain": [
       "   le_seller_id\n",
       "0           207\n",
       "1           769\n",
       "2          1011\n",
       "3          2810\n",
       "4           160"
      ]
     },
     "execution_count": 47,
     "metadata": {},
     "output_type": "execute_result"
    }
   ],
   "source": [
    "df_le_seller_id.head()"
   ]
  },
  {
   "cell_type": "code",
   "execution_count": 48,
   "metadata": {},
   "outputs": [
    {
     "data": {
      "text/html": [
       "<div>\n",
       "<style scoped>\n",
       "    .dataframe tbody tr th:only-of-type {\n",
       "        vertical-align: middle;\n",
       "    }\n",
       "\n",
       "    .dataframe tbody tr th {\n",
       "        vertical-align: top;\n",
       "    }\n",
       "\n",
       "    .dataframe thead th {\n",
       "        text-align: right;\n",
       "    }\n",
       "</style>\n",
       "<table border=\"1\" class=\"dataframe\">\n",
       "  <thead>\n",
       "    <tr style=\"text-align: right;\">\n",
       "      <th></th>\n",
       "      <th>le_product_category_name</th>\n",
       "    </tr>\n",
       "  </thead>\n",
       "  <tbody>\n",
       "    <tr>\n",
       "      <th>0</th>\n",
       "      <td>26</td>\n",
       "    </tr>\n",
       "    <tr>\n",
       "      <th>1</th>\n",
       "      <td>32</td>\n",
       "    </tr>\n",
       "    <tr>\n",
       "      <th>2</th>\n",
       "      <td>48</td>\n",
       "    </tr>\n",
       "    <tr>\n",
       "      <th>3</th>\n",
       "      <td>31</td>\n",
       "    </tr>\n",
       "    <tr>\n",
       "      <th>4</th>\n",
       "      <td>11</td>\n",
       "    </tr>\n",
       "  </tbody>\n",
       "</table>\n",
       "</div>"
      ],
      "text/plain": [
       "   le_product_category_name\n",
       "0                        26\n",
       "1                        32\n",
       "2                        48\n",
       "3                        31\n",
       "4                        11"
      ]
     },
     "execution_count": 48,
     "metadata": {},
     "output_type": "execute_result"
    }
   ],
   "source": [
    "df_le_product_category_name.head()"
   ]
  },
  {
   "cell_type": "code",
   "execution_count": 49,
   "metadata": {},
   "outputs": [
    {
     "data": {
      "text/html": [
       "<div>\n",
       "<style scoped>\n",
       "    .dataframe tbody tr th:only-of-type {\n",
       "        vertical-align: middle;\n",
       "    }\n",
       "\n",
       "    .dataframe tbody tr th {\n",
       "        vertical-align: top;\n",
       "    }\n",
       "\n",
       "    .dataframe thead th {\n",
       "        text-align: right;\n",
       "    }\n",
       "</style>\n",
       "<table border=\"1\" class=\"dataframe\">\n",
       "  <thead>\n",
       "    <tr style=\"text-align: right;\">\n",
       "      <th></th>\n",
       "      <th>le_sigla_state</th>\n",
       "    </tr>\n",
       "  </thead>\n",
       "  <tbody>\n",
       "    <tr>\n",
       "      <th>0</th>\n",
       "      <td>10</td>\n",
       "    </tr>\n",
       "    <tr>\n",
       "      <th>1</th>\n",
       "      <td>10</td>\n",
       "    </tr>\n",
       "    <tr>\n",
       "      <th>2</th>\n",
       "      <td>10</td>\n",
       "    </tr>\n",
       "    <tr>\n",
       "      <th>3</th>\n",
       "      <td>8</td>\n",
       "    </tr>\n",
       "    <tr>\n",
       "      <th>4</th>\n",
       "      <td>10</td>\n",
       "    </tr>\n",
       "  </tbody>\n",
       "</table>\n",
       "</div>"
      ],
      "text/plain": [
       "   le_sigla_state\n",
       "0              10\n",
       "1              10\n",
       "2              10\n",
       "3               8\n",
       "4              10"
      ]
     },
     "execution_count": 49,
     "metadata": {},
     "output_type": "execute_result"
    }
   ],
   "source": [
    "df_le_sigla_state.head()"
   ]
  },
  {
   "cell_type": "code",
   "execution_count": 50,
   "metadata": {},
   "outputs": [
    {
     "data": {
      "text/html": [
       "<div>\n",
       "<style scoped>\n",
       "    .dataframe tbody tr th:only-of-type {\n",
       "        vertical-align: middle;\n",
       "    }\n",
       "\n",
       "    .dataframe tbody tr th {\n",
       "        vertical-align: top;\n",
       "    }\n",
       "\n",
       "    .dataframe thead th {\n",
       "        text-align: right;\n",
       "    }\n",
       "</style>\n",
       "<table border=\"1\" class=\"dataframe\">\n",
       "  <thead>\n",
       "    <tr style=\"text-align: right;\">\n",
       "      <th></th>\n",
       "      <th>le_seller_sigla_state</th>\n",
       "    </tr>\n",
       "  </thead>\n",
       "  <tbody>\n",
       "    <tr>\n",
       "      <th>0</th>\n",
       "      <td>18</td>\n",
       "    </tr>\n",
       "    <tr>\n",
       "      <th>1</th>\n",
       "      <td>21</td>\n",
       "    </tr>\n",
       "    <tr>\n",
       "      <th>2</th>\n",
       "      <td>15</td>\n",
       "    </tr>\n",
       "    <tr>\n",
       "      <th>3</th>\n",
       "      <td>21</td>\n",
       "    </tr>\n",
       "    <tr>\n",
       "      <th>4</th>\n",
       "      <td>7</td>\n",
       "    </tr>\n",
       "  </tbody>\n",
       "</table>\n",
       "</div>"
      ],
      "text/plain": [
       "   le_seller_sigla_state\n",
       "0                     18\n",
       "1                     21\n",
       "2                     15\n",
       "3                     21\n",
       "4                      7"
      ]
     },
     "execution_count": 50,
     "metadata": {},
     "output_type": "execute_result"
    }
   ],
   "source": [
    "df_le_seller_sigla_state.head()"
   ]
  },
  {
   "cell_type": "markdown",
   "metadata": {},
   "source": [
    "### Junção dos dataframes 'le_qualquer_coisa' com 'olist_ibge_vxx'"
   ]
  },
  {
   "cell_type": "code",
   "execution_count": 51,
   "metadata": {},
   "outputs": [],
   "source": [
    "olist_ibge_v16 = pd.merge(olist_ibge_v15, # tabela da esquerda a ser juntada\n",
    "                         df_le_product_id,  # tabela da direita a ser juntada\n",
    "                         left_index=True, #If True, use the index (row labels) from the left DataFrame or Series as its join key(s)\n",
    "                         right_index=True) #Same usage as left_index for the right DataFrame or Series"
   ]
  },
  {
   "cell_type": "code",
   "execution_count": 52,
   "metadata": {},
   "outputs": [],
   "source": [
    "olist_ibge_v17 = pd.merge(olist_ibge_v16, df_le_seller_id, left_index=True, right_index=True)"
   ]
  },
  {
   "cell_type": "code",
   "execution_count": 53,
   "metadata": {},
   "outputs": [],
   "source": [
    "olist_ibge_v18 = pd.merge(olist_ibge_v17, df_le_product_category_name, left_index=True, right_index=True)"
   ]
  },
  {
   "cell_type": "code",
   "execution_count": 54,
   "metadata": {},
   "outputs": [],
   "source": [
    "olist_ibge_v19 = pd.merge(olist_ibge_v18, df_le_sigla_state, left_index=True, right_index=True)"
   ]
  },
  {
   "cell_type": "code",
   "execution_count": 55,
   "metadata": {},
   "outputs": [],
   "source": [
    "olist_ibge_v20 = pd.merge(olist_ibge_v19, df_le_seller_sigla_state, left_index=True, right_index=True)"
   ]
  },
  {
   "cell_type": "markdown",
   "metadata": {},
   "source": [
    "### Deleção dos campos que foram codificados"
   ]
  },
  {
   "cell_type": "code",
   "execution_count": 56,
   "metadata": {},
   "outputs": [],
   "source": [
    "olist_ibge_v21 = olist_ibge_v20.drop(columns=['product_id', 'seller_id', 'product_category_name', 'sigla_state', 'seller_sigla_state'])"
   ]
  },
  {
   "cell_type": "code",
   "execution_count": 57,
   "metadata": {},
   "outputs": [
    {
     "data": {
      "text/plain": [
       "((92935, 15), (92935, 20), (92935, 15))"
      ]
     },
     "execution_count": 57,
     "metadata": {},
     "output_type": "execute_result"
    }
   ],
   "source": [
    "olist_ibge_v21.shape, olist_ibge_v20.shape, olist_ibge_v15.shape"
   ]
  },
  {
   "cell_type": "code",
   "execution_count": 58,
   "metadata": {},
   "outputs": [
    {
     "name": "stdout",
     "output_type": "stream",
     "text": [
      "<class 'pandas.core.frame.DataFrame'>\n",
      "RangeIndex: 92935 entries, 0 to 92934\n",
      "Data columns (total 15 columns):\n",
      "qtde_credit_card            92935 non-null int64\n",
      "qtde_debit_card             92935 non-null int64\n",
      "qtde_voucher                92935 non-null int64\n",
      "soma_payment                92935 non-null float64\n",
      "qtde_installments           92935 non-null int64\n",
      "AR_MUN_2018                 92935 non-null float64\n",
      "PIB                         92935 non-null float64\n",
      "gini                        92935 non-null float64\n",
      "dias                        92935 non-null float64\n",
      "humor                       92935 non-null int64\n",
      "le_product_id               92935 non-null int32\n",
      "le_seller_id                92935 non-null int32\n",
      "le_product_category_name    92935 non-null int32\n",
      "le_sigla_state              92935 non-null int32\n",
      "le_seller_sigla_state       92935 non-null int32\n",
      "dtypes: float64(5), int32(5), int64(5)\n",
      "memory usage: 8.9 MB\n"
     ]
    }
   ],
   "source": [
    "olist_ibge_v21.info()"
   ]
  },
  {
   "cell_type": "code",
   "execution_count": 59,
   "metadata": {},
   "outputs": [
    {
     "data": {
      "text/html": [
       "<div>\n",
       "<style scoped>\n",
       "    .dataframe tbody tr th:only-of-type {\n",
       "        vertical-align: middle;\n",
       "    }\n",
       "\n",
       "    .dataframe tbody tr th {\n",
       "        vertical-align: top;\n",
       "    }\n",
       "\n",
       "    .dataframe thead th {\n",
       "        text-align: right;\n",
       "    }\n",
       "</style>\n",
       "<table border=\"1\" class=\"dataframe\">\n",
       "  <thead>\n",
       "    <tr style=\"text-align: right;\">\n",
       "      <th></th>\n",
       "      <th>qtde_credit_card</th>\n",
       "      <th>qtde_debit_card</th>\n",
       "      <th>qtde_voucher</th>\n",
       "      <th>soma_payment</th>\n",
       "      <th>qtde_installments</th>\n",
       "      <th>AR_MUN_2018</th>\n",
       "      <th>PIB</th>\n",
       "      <th>gini</th>\n",
       "      <th>dias</th>\n",
       "      <th>humor</th>\n",
       "      <th>le_product_id</th>\n",
       "      <th>le_seller_id</th>\n",
       "      <th>le_product_category_name</th>\n",
       "      <th>le_sigla_state</th>\n",
       "      <th>le_seller_sigla_state</th>\n",
       "    </tr>\n",
       "  </thead>\n",
       "  <tbody>\n",
       "    <tr>\n",
       "      <th>0</th>\n",
       "      <td>1</td>\n",
       "      <td>0</td>\n",
       "      <td>0</td>\n",
       "      <td>219.63</td>\n",
       "      <td>10</td>\n",
       "      <td>881.06</td>\n",
       "      <td>180,088.78</td>\n",
       "      <td>0.65</td>\n",
       "      <td>21.11</td>\n",
       "      <td>1</td>\n",
       "      <td>7841</td>\n",
       "      <td>207</td>\n",
       "      <td>26</td>\n",
       "      <td>10</td>\n",
       "      <td>18</td>\n",
       "    </tr>\n",
       "    <tr>\n",
       "      <th>1</th>\n",
       "      <td>1</td>\n",
       "      <td>0</td>\n",
       "      <td>0</td>\n",
       "      <td>135.59</td>\n",
       "      <td>1</td>\n",
       "      <td>881.06</td>\n",
       "      <td>180,088.78</td>\n",
       "      <td>0.65</td>\n",
       "      <td>5.84</td>\n",
       "      <td>1</td>\n",
       "      <td>1976</td>\n",
       "      <td>769</td>\n",
       "      <td>32</td>\n",
       "      <td>10</td>\n",
       "      <td>21</td>\n",
       "    </tr>\n",
       "    <tr>\n",
       "      <th>2</th>\n",
       "      <td>0</td>\n",
       "      <td>0</td>\n",
       "      <td>0</td>\n",
       "      <td>58.28</td>\n",
       "      <td>1</td>\n",
       "      <td>881.06</td>\n",
       "      <td>180,088.78</td>\n",
       "      <td>0.65</td>\n",
       "      <td>8.63</td>\n",
       "      <td>1</td>\n",
       "      <td>22780</td>\n",
       "      <td>1011</td>\n",
       "      <td>48</td>\n",
       "      <td>10</td>\n",
       "      <td>15</td>\n",
       "    </tr>\n",
       "    <tr>\n",
       "      <th>3</th>\n",
       "      <td>1</td>\n",
       "      <td>0</td>\n",
       "      <td>0</td>\n",
       "      <td>1,025.52</td>\n",
       "      <td>8</td>\n",
       "      <td>1,045.13</td>\n",
       "      <td>287,984.49</td>\n",
       "      <td>0.73</td>\n",
       "      <td>29.10</td>\n",
       "      <td>1</td>\n",
       "      <td>1247</td>\n",
       "      <td>2810</td>\n",
       "      <td>31</td>\n",
       "      <td>8</td>\n",
       "      <td>21</td>\n",
       "    </tr>\n",
       "    <tr>\n",
       "      <th>4</th>\n",
       "      <td>1</td>\n",
       "      <td>0</td>\n",
       "      <td>0</td>\n",
       "      <td>220.97</td>\n",
       "      <td>4</td>\n",
       "      <td>1,817.07</td>\n",
       "      <td>430,235.36</td>\n",
       "      <td>0.66</td>\n",
       "      <td>4.80</td>\n",
       "      <td>1</td>\n",
       "      <td>25080</td>\n",
       "      <td>160</td>\n",
       "      <td>11</td>\n",
       "      <td>10</td>\n",
       "      <td>7</td>\n",
       "    </tr>\n",
       "  </tbody>\n",
       "</table>\n",
       "</div>"
      ],
      "text/plain": [
       "   qtde_credit_card  qtde_debit_card  qtde_voucher  soma_payment  \\\n",
       "0                 1                0             0        219.63   \n",
       "1                 1                0             0        135.59   \n",
       "2                 0                0             0         58.28   \n",
       "3                 1                0             0      1,025.52   \n",
       "4                 1                0             0        220.97   \n",
       "\n",
       "   qtde_installments  AR_MUN_2018        PIB  gini  dias  humor  \\\n",
       "0                 10       881.06 180,088.78  0.65 21.11      1   \n",
       "1                  1       881.06 180,088.78  0.65  5.84      1   \n",
       "2                  1       881.06 180,088.78  0.65  8.63      1   \n",
       "3                  8     1,045.13 287,984.49  0.73 29.10      1   \n",
       "4                  4     1,817.07 430,235.36  0.66  4.80      1   \n",
       "\n",
       "   le_product_id  le_seller_id  le_product_category_name  le_sigla_state  \\\n",
       "0           7841           207                        26              10   \n",
       "1           1976           769                        32              10   \n",
       "2          22780          1011                        48              10   \n",
       "3           1247          2810                        31               8   \n",
       "4          25080           160                        11              10   \n",
       "\n",
       "   le_seller_sigla_state  \n",
       "0                     18  \n",
       "1                     21  \n",
       "2                     15  \n",
       "3                     21  \n",
       "4                      7  "
      ]
     },
     "execution_count": 59,
     "metadata": {},
     "output_type": "execute_result"
    }
   ],
   "source": [
    "olist_ibge_v21.head()"
   ]
  },
  {
   "cell_type": "code",
   "execution_count": 60,
   "metadata": {},
   "outputs": [
    {
     "data": {
      "text/plain": [
       "qtde_credit_card            0\n",
       "qtde_debit_card             0\n",
       "qtde_voucher                0\n",
       "soma_payment                0\n",
       "qtde_installments           0\n",
       "AR_MUN_2018                 0\n",
       "PIB                         0\n",
       "gini                        0\n",
       "dias                        0\n",
       "humor                       0\n",
       "le_product_id               0\n",
       "le_seller_id                0\n",
       "le_product_category_name    0\n",
       "le_sigla_state              0\n",
       "le_seller_sigla_state       0\n",
       "dtype: int64"
      ]
     },
     "execution_count": 60,
     "metadata": {},
     "output_type": "execute_result"
    }
   ],
   "source": [
    "olist_ibge_v21.isna().sum()"
   ]
  },
  {
   "cell_type": "code",
   "execution_count": 61,
   "metadata": {},
   "outputs": [],
   "source": [
    "# Exportação \n",
    "# olist_ibge_v21.to_excel(\"olist_ibge_v21.xlsx\")"
   ]
  },
  {
   "cell_type": "code",
   "execution_count": 62,
   "metadata": {},
   "outputs": [
    {
     "data": {
      "text/plain": [
       "<Figure size 640x480 with 1 Axes>"
      ]
     },
     "metadata": {},
     "output_type": "display_data"
    },
    {
     "data": {
      "text/plain": [
       "<Figure size 800x800 with 0 Axes>"
      ]
     },
     "metadata": {},
     "output_type": "display_data"
    }
   ],
   "source": [
    "import matplotlib.pyplot as plt\n",
    "# olist_ibge_v21.boxplot(column=['qtde_boleto', 'qtde_credit_card', 'qtde_debit_card'])\n",
    "olist_ibge_v21.boxplot(column='soma_payment')\n",
    "plt.figure(figsize=(8,8))\n",
    "plt.show()"
   ]
  },
  {
   "cell_type": "code",
   "execution_count": 63,
   "metadata": {},
   "outputs": [
    {
     "data": {
      "image/png": "[encoded data removed]",
      "text/plain": [
       "<Figure size 432x288 with 1 Axes>"
      ]
     },
     "metadata": {
      "needs_background": "light"
     },
     "output_type": "display_data"
    },
    {
     "data": {
      "text/plain": [
       "<Figure size 576x576 with 0 Axes>"
      ]
     },
     "metadata": {},
     "output_type": "display_data"
    }
   ],
   "source": [
    "import matplotlib.pyplot as plt\n",
    "# olist_ibge_v21.boxplot(column=['qtde_boleto', 'qtde_credit_card', 'qtde_debit_card'])\n",
    "olist_ibge_v21.boxplot(column='AR_MUN_2018')\n",
    "plt.figure(figsize=(8,8))\n",
    "plt.show()"
   ]
  },
  {
   "cell_type": "code",
   "execution_count": 64,
   "metadata": {},
   "outputs": [
    {
     "name": "stdout",
     "output_type": "stream",
     "text": [
      "92935\n"
     ]
    }
   ],
   "source": [
    "print(73067+19868)"
   ]
  },
  {
   "cell_type": "code",
   "execution_count": 65,
   "metadata": {},
   "outputs": [
    {
     "name": "stdout",
     "output_type": "stream",
     "text": [
      "21.378382740625167\n"
     ]
    }
   ],
   "source": [
    "print(19868*100/92935)"
   ]
  },
  {
   "cell_type": "code",
   "execution_count": 66,
   "metadata": {},
   "outputs": [
    {
     "name": "stdout",
     "output_type": "stream",
     "text": [
      "78.62161725937483\n"
     ]
    }
   ],
   "source": [
    "print(73067*100/92935)"
   ]
  },
  {
   "cell_type": "code",
   "execution_count": 67,
   "metadata": {},
   "outputs": [],
   "source": [
    "# Seleção de clientes com humor = 1\n",
    "satisfeitos = olist_ibge_v21.loc[olist_ibge_v14[\"humor\"] == 1]"
   ]
  },
  {
   "cell_type": "code",
   "execution_count": 68,
   "metadata": {},
   "outputs": [],
   "source": [
    "# Seleção de clientes com humor = 0\n",
    "insatisfeitos = olist_ibge_v21.loc[olist_ibge_v14[\"humor\"] == 0]"
   ]
  },
  {
   "cell_type": "code",
   "execution_count": 69,
   "metadata": {},
   "outputs": [
    {
     "name": "stdout",
     "output_type": "stream",
     "text": [
      "<class 'pandas.core.frame.DataFrame'>\n",
      "Int64Index: 19868 entries, 10 to 92934\n",
      "Data columns (total 15 columns):\n",
      "qtde_credit_card            19868 non-null int64\n",
      "qtde_debit_card             19868 non-null int64\n",
      "qtde_voucher                19868 non-null int64\n",
      "soma_payment                19868 non-null float64\n",
      "qtde_installments           19868 non-null int64\n",
      "AR_MUN_2018                 19868 non-null float64\n",
      "PIB                         19868 non-null float64\n",
      "gini                        19868 non-null float64\n",
      "dias                        19868 non-null float64\n",
      "humor                       19868 non-null int64\n",
      "le_product_id               19868 non-null int32\n",
      "le_seller_id                19868 non-null int32\n",
      "le_product_category_name    19868 non-null int32\n",
      "le_sigla_state              19868 non-null int32\n",
      "le_seller_sigla_state       19868 non-null int32\n",
      "dtypes: float64(5), int32(5), int64(5)\n",
      "memory usage: 2.0 MB\n"
     ]
    }
   ],
   "source": [
    "insatisfeitos.info()"
   ]
  },
  {
   "cell_type": "code",
   "execution_count": 70,
   "metadata": {},
   "outputs": [
    {
     "name": "stdout",
     "output_type": "stream",
     "text": [
      "<class 'pandas.core.frame.DataFrame'>\n",
      "Int64Index: 73067 entries, 0 to 92931\n",
      "Data columns (total 15 columns):\n",
      "qtde_credit_card            73067 non-null int64\n",
      "qtde_debit_card             73067 non-null int64\n",
      "qtde_voucher                73067 non-null int64\n",
      "soma_payment                73067 non-null float64\n",
      "qtde_installments           73067 non-null int64\n",
      "AR_MUN_2018                 73067 non-null float64\n",
      "PIB                         73067 non-null float64\n",
      "gini                        73067 non-null float64\n",
      "dias                        73067 non-null float64\n",
      "humor                       73067 non-null int64\n",
      "le_product_id               73067 non-null int32\n",
      "le_seller_id                73067 non-null int32\n",
      "le_product_category_name    73067 non-null int32\n",
      "le_sigla_state              73067 non-null int32\n",
      "le_seller_sigla_state       73067 non-null int32\n",
      "dtypes: float64(5), int32(5), int64(5)\n",
      "memory usage: 7.5 MB\n"
     ]
    }
   ],
   "source": [
    "satisfeitos.info()"
   ]
  },
  {
   "cell_type": "code",
   "execution_count": 71,
   "metadata": {},
   "outputs": [],
   "source": [
    "# seleção aleatória de 40% de satisfeitos.\n",
    "satisfeitos_40 = satisfeitos.sample(29227)"
   ]
  },
  {
   "cell_type": "code",
   "execution_count": 72,
   "metadata": {},
   "outputs": [
    {
     "name": "stdout",
     "output_type": "stream",
     "text": [
      "<class 'pandas.core.frame.DataFrame'>\n",
      "Int64Index: 29227 entries, 72625 to 49315\n",
      "Data columns (total 15 columns):\n",
      "qtde_credit_card            29227 non-null int64\n",
      "qtde_debit_card             29227 non-null int64\n",
      "qtde_voucher                29227 non-null int64\n",
      "soma_payment                29227 non-null float64\n",
      "qtde_installments           29227 non-null int64\n",
      "AR_MUN_2018                 29227 non-null float64\n",
      "PIB                         29227 non-null float64\n",
      "gini                        29227 non-null float64\n",
      "dias                        29227 non-null float64\n",
      "humor                       29227 non-null int64\n",
      "le_product_id               29227 non-null int32\n",
      "le_seller_id                29227 non-null int32\n",
      "le_product_category_name    29227 non-null int32\n",
      "le_sigla_state              29227 non-null int32\n",
      "le_seller_sigla_state       29227 non-null int32\n",
      "dtypes: float64(5), int32(5), int64(5)\n",
      "memory usage: 3.0 MB\n"
     ]
    }
   ],
   "source": [
    "satisfeitos_40.info()"
   ]
  },
  {
   "cell_type": "code",
   "execution_count": 73,
   "metadata": {},
   "outputs": [],
   "source": [
    "# Põe os dois grupos juntos: os 40% satisfeitos e os insatisfeitos\n",
    "# dados_emp=pd.concat([dados1,dados2])\n",
    "olist_ibge_under_sampled = pd.concat([satisfeitos_40,insatisfeitos])"
   ]
  },
  {
   "cell_type": "code",
   "execution_count": 74,
   "metadata": {},
   "outputs": [
    {
     "name": "stdout",
     "output_type": "stream",
     "text": [
      "<class 'pandas.core.frame.DataFrame'>\n",
      "Int64Index: 49095 entries, 72625 to 92934\n",
      "Data columns (total 15 columns):\n",
      "qtde_credit_card            49095 non-null int64\n",
      "qtde_debit_card             49095 non-null int64\n",
      "qtde_voucher                49095 non-null int64\n",
      "soma_payment                49095 non-null float64\n",
      "qtde_installments           49095 non-null int64\n",
      "AR_MUN_2018                 49095 non-null float64\n",
      "PIB                         49095 non-null float64\n",
      "gini                        49095 non-null float64\n",
      "dias                        49095 non-null float64\n",
      "humor                       49095 non-null int64\n",
      "le_product_id               49095 non-null int32\n",
      "le_seller_id                49095 non-null int32\n",
      "le_product_category_name    49095 non-null int32\n",
      "le_sigla_state              49095 non-null int32\n",
      "le_seller_sigla_state       49095 non-null int32\n",
      "dtypes: float64(5), int32(5), int64(5)\n",
      "memory usage: 5.1 MB\n"
     ]
    }
   ],
   "source": [
    "olist_ibge_under_sampled.info()"
   ]
  },
  {
   "cell_type": "code",
   "execution_count": null,
   "metadata": {},
   "outputs": [],
   "source": []
  },
  {
   "cell_type": "code",
   "execution_count": null,
   "metadata": {},
   "outputs": [],
   "source": []
  },
  {
   "cell_type": "markdown",
   "metadata": {},
   "source": [
    "### Separar as explicativas da variável 'target' (variável alvo, a ser prevista)."
   ]
  },
  {
   "cell_type": "code",
   "execution_count": 75,
   "metadata": {},
   "outputs": [],
   "source": [
    "explicativas = olist_ibge_under_sampled.drop(columns=['humor'])\n",
    "target = olist_ibge_under_sampled['humor']"
   ]
  },
  {
   "cell_type": "code",
   "execution_count": 76,
   "metadata": {},
   "outputs": [
    {
     "data": {
      "text/html": [
       "<div>\n",
       "<style scoped>\n",
       "    .dataframe tbody tr th:only-of-type {\n",
       "        vertical-align: middle;\n",
       "    }\n",
       "\n",
       "    .dataframe tbody tr th {\n",
       "        vertical-align: top;\n",
       "    }\n",
       "\n",
       "    .dataframe thead th {\n",
       "        text-align: right;\n",
       "    }\n",
       "</style>\n",
       "<table border=\"1\" class=\"dataframe\">\n",
       "  <thead>\n",
       "    <tr style=\"text-align: right;\">\n",
       "      <th></th>\n",
       "      <th>qtde_credit_card</th>\n",
       "      <th>qtde_debit_card</th>\n",
       "      <th>qtde_voucher</th>\n",
       "      <th>soma_payment</th>\n",
       "      <th>qtde_installments</th>\n",
       "      <th>AR_MUN_2018</th>\n",
       "      <th>PIB</th>\n",
       "      <th>gini</th>\n",
       "      <th>dias</th>\n",
       "      <th>le_product_id</th>\n",
       "      <th>le_seller_id</th>\n",
       "      <th>le_product_category_name</th>\n",
       "      <th>le_sigla_state</th>\n",
       "      <th>le_seller_sigla_state</th>\n",
       "    </tr>\n",
       "  </thead>\n",
       "  <tbody>\n",
       "    <tr>\n",
       "      <th>72625</th>\n",
       "      <td>1</td>\n",
       "      <td>0</td>\n",
       "      <td>0</td>\n",
       "      <td>45.01</td>\n",
       "      <td>1</td>\n",
       "      <td>1,521.11</td>\n",
       "      <td>687,035,889.61</td>\n",
       "      <td>0.90</td>\n",
       "      <td>21.50</td>\n",
       "      <td>16197</td>\n",
       "      <td>2215</td>\n",
       "      <td>13</td>\n",
       "      <td>25</td>\n",
       "      <td>15</td>\n",
       "    </tr>\n",
       "    <tr>\n",
       "      <th>85236</th>\n",
       "      <td>1</td>\n",
       "      <td>0</td>\n",
       "      <td>0</td>\n",
       "      <td>76.08</td>\n",
       "      <td>3</td>\n",
       "      <td>12,181.24</td>\n",
       "      <td>406,052.31</td>\n",
       "      <td>0.85</td>\n",
       "      <td>31.25</td>\n",
       "      <td>28035</td>\n",
       "      <td>2318</td>\n",
       "      <td>62</td>\n",
       "      <td>4</td>\n",
       "      <td>21</td>\n",
       "    </tr>\n",
       "    <tr>\n",
       "      <th>35276</th>\n",
       "      <td>0</td>\n",
       "      <td>0</td>\n",
       "      <td>0</td>\n",
       "      <td>103.65</td>\n",
       "      <td>1</td>\n",
       "      <td>431.21</td>\n",
       "      <td>39,782,735.72</td>\n",
       "      <td>0.80</td>\n",
       "      <td>7.11</td>\n",
       "      <td>16240</td>\n",
       "      <td>2482</td>\n",
       "      <td>33</td>\n",
       "      <td>25</td>\n",
       "      <td>7</td>\n",
       "    </tr>\n",
       "    <tr>\n",
       "      <th>19806</th>\n",
       "      <td>0</td>\n",
       "      <td>1</td>\n",
       "      <td>0</td>\n",
       "      <td>98.61</td>\n",
       "      <td>1</td>\n",
       "      <td>435.04</td>\n",
       "      <td>83,788,904.45</td>\n",
       "      <td>0.63</td>\n",
       "      <td>6.11</td>\n",
       "      <td>28494</td>\n",
       "      <td>2357</td>\n",
       "      <td>31</td>\n",
       "      <td>17</td>\n",
       "      <td>7</td>\n",
       "    </tr>\n",
       "    <tr>\n",
       "      <th>64337</th>\n",
       "      <td>0</td>\n",
       "      <td>0</td>\n",
       "      <td>0</td>\n",
       "      <td>39.09</td>\n",
       "      <td>1</td>\n",
       "      <td>126.09</td>\n",
       "      <td>69,422.65</td>\n",
       "      <td>0.59</td>\n",
       "      <td>15.73</td>\n",
       "      <td>2565</td>\n",
       "      <td>2318</td>\n",
       "      <td>11</td>\n",
       "      <td>22</td>\n",
       "      <td>21</td>\n",
       "    </tr>\n",
       "  </tbody>\n",
       "</table>\n",
       "</div>"
      ],
      "text/plain": [
       "       qtde_credit_card  qtde_debit_card  qtde_voucher  soma_payment  \\\n",
       "72625                 1                0             0         45.01   \n",
       "85236                 1                0             0         76.08   \n",
       "35276                 0                0             0        103.65   \n",
       "19806                 0                1             0         98.61   \n",
       "64337                 0                0             0         39.09   \n",
       "\n",
       "       qtde_installments  AR_MUN_2018            PIB  gini  dias  \\\n",
       "72625                  1     1,521.11 687,035,889.61  0.90 21.50   \n",
       "85236                  3    12,181.24     406,052.31  0.85 31.25   \n",
       "35276                  1       431.21  39,782,735.72  0.80  7.11   \n",
       "19806                  1       435.04  83,788,904.45  0.63  6.11   \n",
       "64337                  1       126.09      69,422.65  0.59 15.73   \n",
       "\n",
       "       le_product_id  le_seller_id  le_product_category_name  le_sigla_state  \\\n",
       "72625          16197          2215                        13              25   \n",
       "85236          28035          2318                        62               4   \n",
       "35276          16240          2482                        33              25   \n",
       "19806          28494          2357                        31              17   \n",
       "64337           2565          2318                        11              22   \n",
       "\n",
       "       le_seller_sigla_state  \n",
       "72625                     15  \n",
       "85236                     21  \n",
       "35276                      7  \n",
       "19806                      7  \n",
       "64337                     21  "
      ]
     },
     "execution_count": 76,
     "metadata": {},
     "output_type": "execute_result"
    }
   ],
   "source": [
    "explicativas.head()"
   ]
  },
  {
   "cell_type": "code",
   "execution_count": 77,
   "metadata": {},
   "outputs": [
    {
     "data": {
      "text/plain": [
       "qtde_credit_card              int64\n",
       "qtde_debit_card               int64\n",
       "qtde_voucher                  int64\n",
       "soma_payment                float64\n",
       "qtde_installments             int64\n",
       "AR_MUN_2018                 float64\n",
       "PIB                         float64\n",
       "gini                        float64\n",
       "dias                        float64\n",
       "le_product_id                 int32\n",
       "le_seller_id                  int32\n",
       "le_product_category_name      int32\n",
       "le_sigla_state                int32\n",
       "le_seller_sigla_state         int32\n",
       "dtype: object"
      ]
     },
     "execution_count": 77,
     "metadata": {},
     "output_type": "execute_result"
    }
   ],
   "source": [
    "explicativas.dtypes"
   ]
  },
  {
   "cell_type": "code",
   "execution_count": 78,
   "metadata": {},
   "outputs": [
    {
     "data": {
      "text/plain": [
       "72625    1\n",
       "85236    1\n",
       "35276    1\n",
       "19806    1\n",
       "64337    1\n",
       "Name: humor, dtype: int64"
      ]
     },
     "execution_count": 78,
     "metadata": {},
     "output_type": "execute_result"
    }
   ],
   "source": [
    "target.head()"
   ]
  },
  {
   "cell_type": "markdown",
   "metadata": {},
   "source": [
    "## Criação de dataframe com variaveis selecionadas"
   ]
  },
  {
   "cell_type": "code",
   "execution_count": 79,
   "metadata": {},
   "outputs": [
    {
     "data": {
      "text/html": [
       "<div>\n",
       "<style scoped>\n",
       "    .dataframe tbody tr th:only-of-type {\n",
       "        vertical-align: middle;\n",
       "    }\n",
       "\n",
       "    .dataframe tbody tr th {\n",
       "        vertical-align: top;\n",
       "    }\n",
       "\n",
       "    .dataframe thead th {\n",
       "        text-align: right;\n",
       "    }\n",
       "</style>\n",
       "<table border=\"1\" class=\"dataframe\">\n",
       "  <thead>\n",
       "    <tr style=\"text-align: right;\">\n",
       "      <th></th>\n",
       "      <th>soma_payment</th>\n",
       "      <th>le_product_id</th>\n",
       "      <th>le_seller_id</th>\n",
       "      <th>le_product_category_name</th>\n",
       "      <th>dias</th>\n",
       "      <th>AR_MUN_2018</th>\n",
       "    </tr>\n",
       "  </thead>\n",
       "  <tbody>\n",
       "    <tr>\n",
       "      <th>72625</th>\n",
       "      <td>45.01</td>\n",
       "      <td>16197</td>\n",
       "      <td>2215</td>\n",
       "      <td>13</td>\n",
       "      <td>21.50</td>\n",
       "      <td>1,521.11</td>\n",
       "    </tr>\n",
       "    <tr>\n",
       "      <th>85236</th>\n",
       "      <td>76.08</td>\n",
       "      <td>28035</td>\n",
       "      <td>2318</td>\n",
       "      <td>62</td>\n",
       "      <td>31.25</td>\n",
       "      <td>12,181.24</td>\n",
       "    </tr>\n",
       "    <tr>\n",
       "      <th>35276</th>\n",
       "      <td>103.65</td>\n",
       "      <td>16240</td>\n",
       "      <td>2482</td>\n",
       "      <td>33</td>\n",
       "      <td>7.11</td>\n",
       "      <td>431.21</td>\n",
       "    </tr>\n",
       "    <tr>\n",
       "      <th>19806</th>\n",
       "      <td>98.61</td>\n",
       "      <td>28494</td>\n",
       "      <td>2357</td>\n",
       "      <td>31</td>\n",
       "      <td>6.11</td>\n",
       "      <td>435.04</td>\n",
       "    </tr>\n",
       "    <tr>\n",
       "      <th>64337</th>\n",
       "      <td>39.09</td>\n",
       "      <td>2565</td>\n",
       "      <td>2318</td>\n",
       "      <td>11</td>\n",
       "      <td>15.73</td>\n",
       "      <td>126.09</td>\n",
       "    </tr>\n",
       "  </tbody>\n",
       "</table>\n",
       "</div>"
      ],
      "text/plain": [
       "       soma_payment  le_product_id  le_seller_id  le_product_category_name  \\\n",
       "72625         45.01          16197          2215                        13   \n",
       "85236         76.08          28035          2318                        62   \n",
       "35276        103.65          16240          2482                        33   \n",
       "19806         98.61          28494          2357                        31   \n",
       "64337         39.09           2565          2318                        11   \n",
       "\n",
       "       dias  AR_MUN_2018  \n",
       "72625 21.50     1,521.11  \n",
       "85236 31.25    12,181.24  \n",
       "35276  7.11       431.21  \n",
       "19806  6.11       435.04  \n",
       "64337 15.73       126.09  "
      ]
     },
     "execution_count": 79,
     "metadata": {},
     "output_type": "execute_result"
    }
   ],
   "source": [
    "expl = explicativas[['soma_payment','le_product_id','le_seller_id', 'le_product_category_name', 'dias', 'AR_MUN_2018']]\n",
    "# expl = explicativas[['soma_payment','le_product_id','le_seller_id', 'dias', 'AR_MUN_2018']]\n",
    "# expl = explicativas[['soma_payment', 'le_seller_id', 'dias', 'AR_MUN_2018']]\n",
    "expl.head()\n"
   ]
  },
  {
   "cell_type": "code",
   "execution_count": 80,
   "metadata": {},
   "outputs": [
    {
     "name": "stdout",
     "output_type": "stream",
     "text": [
      "<class 'pandas.core.frame.DataFrame'>\n",
      "Int64Index: 49095 entries, 72625 to 92934\n",
      "Data columns (total 6 columns):\n",
      "soma_payment                49095 non-null float64\n",
      "le_product_id               49095 non-null int32\n",
      "le_seller_id                49095 non-null int32\n",
      "le_product_category_name    49095 non-null int32\n",
      "dias                        49095 non-null float64\n",
      "AR_MUN_2018                 49095 non-null float64\n",
      "dtypes: float64(3), int32(3)\n",
      "memory usage: 2.1 MB\n"
     ]
    }
   ],
   "source": [
    "expl.info()"
   ]
  },
  {
   "cell_type": "markdown",
   "metadata": {},
   "source": [
    "# Separação em treino e teste"
   ]
  },
  {
   "cell_type": "code",
   "execution_count": 81,
   "metadata": {},
   "outputs": [],
   "source": [
    "from sklearn.model_selection import train_test_split \n",
    "x_treino, x_teste, y_treino, y_teste = train_test_split(expl,\n",
    "                                                       target,\n",
    "                                                       test_size=0.3,\n",
    "                                                       random_state=196)"
   ]
  },
  {
   "cell_type": "code",
   "execution_count": 82,
   "metadata": {},
   "outputs": [
    {
     "data": {
      "text/html": [
       "<div>\n",
       "<style scoped>\n",
       "    .dataframe tbody tr th:only-of-type {\n",
       "        vertical-align: middle;\n",
       "    }\n",
       "\n",
       "    .dataframe tbody tr th {\n",
       "        vertical-align: top;\n",
       "    }\n",
       "\n",
       "    .dataframe thead th {\n",
       "        text-align: right;\n",
       "    }\n",
       "</style>\n",
       "<table border=\"1\" class=\"dataframe\">\n",
       "  <thead>\n",
       "    <tr style=\"text-align: right;\">\n",
       "      <th></th>\n",
       "      <th>soma_payment</th>\n",
       "      <th>le_product_id</th>\n",
       "      <th>le_seller_id</th>\n",
       "      <th>le_product_category_name</th>\n",
       "      <th>dias</th>\n",
       "      <th>AR_MUN_2018</th>\n",
       "    </tr>\n",
       "  </thead>\n",
       "  <tbody>\n",
       "    <tr>\n",
       "      <th>39558</th>\n",
       "      <td>51.10</td>\n",
       "      <td>370</td>\n",
       "      <td>1859</td>\n",
       "      <td>40</td>\n",
       "      <td>14.09</td>\n",
       "      <td>61.91</td>\n",
       "    </tr>\n",
       "    <tr>\n",
       "      <th>80625</th>\n",
       "      <td>150.37</td>\n",
       "      <td>4846</td>\n",
       "      <td>876</td>\n",
       "      <td>32</td>\n",
       "      <td>26.07</td>\n",
       "      <td>1,521.11</td>\n",
       "    </tr>\n",
       "    <tr>\n",
       "      <th>72218</th>\n",
       "      <td>43.86</td>\n",
       "      <td>22395</td>\n",
       "      <td>2805</td>\n",
       "      <td>28</td>\n",
       "      <td>2.61</td>\n",
       "      <td>1,521.11</td>\n",
       "    </tr>\n",
       "    <tr>\n",
       "      <th>51595</th>\n",
       "      <td>57.53</td>\n",
       "      <td>23319</td>\n",
       "      <td>862</td>\n",
       "      <td>32</td>\n",
       "      <td>12.77</td>\n",
       "      <td>218.84</td>\n",
       "    </tr>\n",
       "    <tr>\n",
       "      <th>54658</th>\n",
       "      <td>54.09</td>\n",
       "      <td>14938</td>\n",
       "      <td>371</td>\n",
       "      <td>70</td>\n",
       "      <td>11.29</td>\n",
       "      <td>1,200.26</td>\n",
       "    </tr>\n",
       "  </tbody>\n",
       "</table>\n",
       "</div>"
      ],
      "text/plain": [
       "       soma_payment  le_product_id  le_seller_id  le_product_category_name  \\\n",
       "39558         51.10            370          1859                        40   \n",
       "80625        150.37           4846           876                        32   \n",
       "72218         43.86          22395          2805                        28   \n",
       "51595         57.53          23319           862                        32   \n",
       "54658         54.09          14938           371                        70   \n",
       "\n",
       "       dias  AR_MUN_2018  \n",
       "39558 14.09        61.91  \n",
       "80625 26.07     1,521.11  \n",
       "72218  2.61     1,521.11  \n",
       "51595 12.77       218.84  \n",
       "54658 11.29     1,200.26  "
      ]
     },
     "execution_count": 82,
     "metadata": {},
     "output_type": "execute_result"
    }
   ],
   "source": [
    "x_treino.head()"
   ]
  },
  {
   "cell_type": "code",
   "execution_count": 83,
   "metadata": {},
   "outputs": [
    {
     "name": "stdout",
     "output_type": "stream",
     "text": [
      "<class 'pandas.core.frame.DataFrame'>\n",
      "Int64Index: 34366 entries, 39558 to 70407\n",
      "Data columns (total 6 columns):\n",
      "soma_payment                34366 non-null float64\n",
      "le_product_id               34366 non-null int32\n",
      "le_seller_id                34366 non-null int32\n",
      "le_product_category_name    34366 non-null int32\n",
      "dias                        34366 non-null float64\n",
      "AR_MUN_2018                 34366 non-null float64\n",
      "dtypes: float64(3), int32(3)\n",
      "memory usage: 1.4 MB\n"
     ]
    }
   ],
   "source": [
    "x_treino.info()"
   ]
  },
  {
   "cell_type": "markdown",
   "metadata": {},
   "source": [
    "# Tuninng de hiperparâmetros\n",
    "Inicialmente, chamar o módulo de tuning.<br>\n",
    "Passo a passo <br>\n",
    "1 - definir um dict(dicionario com os valores dos hiperparams)<br>\n",
    "2 - chamar o modulo de tunning<br>\n",
    "3 - chamar obj do tunning<br>\n",
    "4 - treinamento<br>\n",
    "5 - avaliar os resultados"
   ]
  },
  {
   "cell_type": "markdown",
   "metadata": {},
   "source": [
    "## Decision Tree"
   ]
  },
  {
   "cell_type": "code",
   "execution_count": 84,
   "metadata": {},
   "outputs": [],
   "source": [
    "dt_dict = {\n",
    "    'criterion' : ['gini','entropy'],\n",
    "    'min_samples_leaf': [1,2,3,4,5,10],\n",
    "    'random_state': [42]\n",
    "       }"
   ]
  },
  {
   "cell_type": "code",
   "execution_count": 85,
   "metadata": {},
   "outputs": [
    {
     "data": {
      "text/plain": [
       "{'criterion': ['gini', 'entropy'],\n",
       " 'min_samples_leaf': [1, 2, 3, 4, 5, 10],\n",
       " 'random_state': [42]}"
      ]
     },
     "execution_count": 85,
     "metadata": {},
     "output_type": "execute_result"
    }
   ],
   "source": [
    "dt_dict"
   ]
  },
  {
   "cell_type": "code",
   "execution_count": 86,
   "metadata": {},
   "outputs": [],
   "source": [
    "from sklearn.tree import DecisionTreeClassifier\n",
    "from sklearn.model_selection import GridSearchCV"
   ]
  },
  {
   "cell_type": "code",
   "execution_count": 87,
   "metadata": {},
   "outputs": [],
   "source": [
    "dt = DecisionTreeClassifier(random_state=42)"
   ]
  },
  {
   "cell_type": "code",
   "execution_count": 88,
   "metadata": {},
   "outputs": [],
   "source": [
    "dt_grid = GridSearchCV(estimator=dt,       # parametro a ser utilizado. No caso, decision tree\n",
    "                      param_grid=dt_dict,  # nome do dicionario com parametros\n",
    "                      scoring='accuracy',  # parametro de validação: acurácia\n",
    "                      cv=10)   "
   ]
  },
  {
   "cell_type": "code",
   "execution_count": 89,
   "metadata": {},
   "outputs": [
    {
     "data": {
      "text/plain": [
       "GridSearchCV(cv=10, error_score='raise-deprecating',\n",
       "       estimator=DecisionTreeClassifier(class_weight=None, criterion='gini', max_depth=None,\n",
       "            max_features=None, max_leaf_nodes=None,\n",
       "            min_impurity_decrease=0.0, min_impurity_split=None,\n",
       "            min_samples_leaf=1, min_samples_split=2,\n",
       "            min_weight_fraction_leaf=0.0, presort=False, random_state=42,\n",
       "            splitter='best'),\n",
       "       fit_params=None, iid='warn', n_jobs=None,\n",
       "       param_grid={'criterion': ['gini', 'entropy'], 'min_samples_leaf': [1, 2, 3, 4, 5, 10], 'random_state': [42]},\n",
       "       pre_dispatch='2*n_jobs', refit=True, return_train_score='warn',\n",
       "       scoring='accuracy', verbose=0)"
      ]
     },
     "execution_count": 89,
     "metadata": {},
     "output_type": "execute_result"
    }
   ],
   "source": [
    "dt_grid.fit(x_treino, y_treino)"
   ]
  },
  {
   "cell_type": "code",
   "execution_count": 90,
   "metadata": {},
   "outputs": [
    {
     "data": {
      "text/plain": [
       "{'criterion': 'gini', 'min_samples_leaf': 10, 'random_state': 42}"
      ]
     },
     "execution_count": 90,
     "metadata": {},
     "output_type": "execute_result"
    }
   ],
   "source": [
    "dt_grid.best_params_"
   ]
  },
  {
   "cell_type": "code",
   "execution_count": 91,
   "metadata": {},
   "outputs": [
    {
     "data": {
      "text/plain": [
       "0.5958796484897864"
      ]
     },
     "execution_count": 91,
     "metadata": {},
     "output_type": "execute_result"
    }
   ],
   "source": [
    "dt_grid.best_score_"
   ]
  },
  {
   "cell_type": "markdown",
   "metadata": {},
   "source": [
    "##  Importação da biblioteca - cálculo de acurácia"
   ]
  },
  {
   "cell_type": "code",
   "execution_count": 92,
   "metadata": {},
   "outputs": [],
   "source": [
    "from sklearn.metrics import accuracy_score"
   ]
  },
  {
   "cell_type": "markdown",
   "metadata": {},
   "source": [
    "## Acurácia de treino - Decision Tree"
   ]
  },
  {
   "cell_type": "code",
   "execution_count": 93,
   "metadata": {},
   "outputs": [
    {
     "data": {
      "text/plain": [
       "0.5958796484897864"
      ]
     },
     "execution_count": 93,
     "metadata": {},
     "output_type": "execute_result"
    }
   ],
   "source": [
    "dt_grid.best_score_"
   ]
  },
  {
   "cell_type": "code",
   "execution_count": 94,
   "metadata": {},
   "outputs": [
    {
     "data": {
      "text/plain": [
       "0.7832450677995694"
      ]
     },
     "execution_count": 94,
     "metadata": {},
     "output_type": "execute_result"
    }
   ],
   "source": [
    "acc_dt_treino = accuracy_score(y_treino, \n",
    "                              dt_grid.predict( # este é o objeto do grid, já com os melhores parametros\n",
    "                                  x_treino))\n",
    "acc_dt_treino"
   ]
  },
  {
   "cell_type": "markdown",
   "metadata": {},
   "source": [
    "##  Acurácia de teste - Decision Tree\n",
    "A acurácia de teste está muito próxima à acurácia de treino, o que mostra que o modelo está perfomando bem."
   ]
  },
  {
   "cell_type": "code",
   "execution_count": 95,
   "metadata": {},
   "outputs": [
    {
     "data": {
      "text/plain": [
       "0.5965102858306742"
      ]
     },
     "execution_count": 95,
     "metadata": {},
     "output_type": "execute_result"
    }
   ],
   "source": [
    "acc_dt_teste = accuracy_score(y_teste, \n",
    "                              dt_grid.predict( # este é o objeto do grid, já com os melhores parametros\n",
    "                                  x_teste))\n",
    "acc_dt_teste"
   ]
  },
  {
   "cell_type": "code",
   "execution_count": 96,
   "metadata": {},
   "outputs": [],
   "source": [
    "from sklearn.metrics import classification_report"
   ]
  },
  {
   "cell_type": "code",
   "execution_count": 97,
   "metadata": {},
   "outputs": [
    {
     "name": "stdout",
     "output_type": "stream",
     "text": [
      "              precision    recall  f1-score   support\n",
      "\n",
      "           0       0.74      0.72      0.73     13850\n",
      "           1       0.81      0.83      0.82     20516\n",
      "\n",
      "   micro avg       0.78      0.78      0.78     34366\n",
      "   macro avg       0.78      0.77      0.77     34366\n",
      "weighted avg       0.78      0.78      0.78     34366\n",
      "\n"
     ]
    }
   ],
   "source": [
    "print(classification_report(y_treino,dt_grid.predict(x_treino)))"
   ]
  },
  {
   "cell_type": "code",
   "execution_count": 98,
   "metadata": {},
   "outputs": [
    {
     "name": "stdout",
     "output_type": "stream",
     "text": [
      "              precision    recall  f1-score   support\n",
      "\n",
      "           0       0.51      0.49      0.50      6018\n",
      "           1       0.66      0.67      0.66      8711\n",
      "\n",
      "   micro avg       0.60      0.60      0.60     14729\n",
      "   macro avg       0.58      0.58      0.58     14729\n",
      "weighted avg       0.59      0.60      0.60     14729\n",
      "\n",
      "A acurácia da previsão é  0.5965102858306742\n"
     ]
    }
   ],
   "source": [
    "print(classification_report(y_teste,dt_grid.predict(x_teste)))\n",
    "print (\"A acurácia da previsão é \", accuracy_score(y_teste,dt_grid.predict(x_teste)))"
   ]
  },
  {
   "cell_type": "markdown",
   "metadata": {},
   "source": [
    "## Logistic Regression"
   ]
  },
  {
   "cell_type": "code",
   "execution_count": 99,
   "metadata": {},
   "outputs": [],
   "source": [
    "lr_dict= {\n",
    "    \"C\":np.logspace(-3,3,7),\n",
    "    \"penalty\":[\"l2\"],\n",
    "    'random_state': [1967]\n",
    "}"
   ]
  },
  {
   "cell_type": "code",
   "execution_count": 100,
   "metadata": {},
   "outputs": [],
   "source": [
    "from sklearn.linear_model import LogisticRegression"
   ]
  },
  {
   "cell_type": "code",
   "execution_count": 101,
   "metadata": {},
   "outputs": [],
   "source": [
    "lr = LogisticRegression(random_state=1967)"
   ]
  },
  {
   "cell_type": "code",
   "execution_count": 102,
   "metadata": {},
   "outputs": [
    {
     "data": {
      "text/plain": [
       "LogisticRegression(C=1.0, class_weight=None, dual=False, fit_intercept=True,\n",
       "          intercept_scaling=1, max_iter=100, multi_class='warn',\n",
       "          n_jobs=None, penalty='l2', random_state=1967, solver='warn',\n",
       "          tol=0.0001, verbose=0, warm_start=False)"
      ]
     },
     "execution_count": 102,
     "metadata": {},
     "output_type": "execute_result"
    }
   ],
   "source": [
    "lr"
   ]
  },
  {
   "cell_type": "code",
   "execution_count": 103,
   "metadata": {},
   "outputs": [],
   "source": [
    "lr_grid = GridSearchCV(estimator=lr,       # parametro a ser utilizado. No caso, logistic regression\n",
    "                      param_grid=lr_dict,  # nome do dicionario com parametros\n",
    "                      scoring='accuracy',  # parametro de validação: acurácia\n",
    "                      cv=10)     "
   ]
  },
  {
   "cell_type": "code",
   "execution_count": 104,
   "metadata": {},
   "outputs": [
    {
     "name": "stderr",
     "output_type": "stream",
     "text": [
      "D:\\anaconda\\ANACONDA\\lib\\site-packages\\sklearn\\linear_model\\logistic.py:433: FutureWarning: Default solver will be changed to 'lbfgs' in 0.22. Specify a solver to silence this warning.\n",
      "  FutureWarning)\n",
      "D:\\anaconda\\ANACONDA\\lib\\site-packages\\sklearn\\linear_model\\logistic.py:433: FutureWarning: Default solver will be changed to 'lbfgs' in 0.22. Specify a solver to silence this warning.\n",
      "  FutureWarning)\n",
      "D:\\anaconda\\ANACONDA\\lib\\site-packages\\sklearn\\linear_model\\logistic.py:433: FutureWarning: Default solver will be changed to 'lbfgs' in 0.22. Specify a solver to silence this warning.\n",
      "  FutureWarning)\n",
      "D:\\anaconda\\ANACONDA\\lib\\site-packages\\sklearn\\linear_model\\logistic.py:433: FutureWarning: Default solver will be changed to 'lbfgs' in 0.22. Specify a solver to silence this warning.\n",
      "  FutureWarning)\n",
      "D:\\anaconda\\ANACONDA\\lib\\site-packages\\sklearn\\linear_model\\logistic.py:433: FutureWarning: Default solver will be changed to 'lbfgs' in 0.22. Specify a solver to silence this warning.\n",
      "  FutureWarning)\n",
      "D:\\anaconda\\ANACONDA\\lib\\site-packages\\sklearn\\linear_model\\logistic.py:433: FutureWarning: Default solver will be changed to 'lbfgs' in 0.22. Specify a solver to silence this warning.\n",
      "  FutureWarning)\n",
      "D:\\anaconda\\ANACONDA\\lib\\site-packages\\sklearn\\linear_model\\logistic.py:433: FutureWarning: Default solver will be changed to 'lbfgs' in 0.22. Specify a solver to silence this warning.\n",
      "  FutureWarning)\n",
      "D:\\anaconda\\ANACONDA\\lib\\site-packages\\sklearn\\linear_model\\logistic.py:433: FutureWarning: Default solver will be changed to 'lbfgs' in 0.22. Specify a solver to silence this warning.\n",
      "  FutureWarning)\n",
      "D:\\anaconda\\ANACONDA\\lib\\site-packages\\sklearn\\linear_model\\logistic.py:433: FutureWarning: Default solver will be changed to 'lbfgs' in 0.22. Specify a solver to silence this warning.\n",
      "  FutureWarning)\n",
      "D:\\anaconda\\ANACONDA\\lib\\site-packages\\sklearn\\linear_model\\logistic.py:433: FutureWarning: Default solver will be changed to 'lbfgs' in 0.22. Specify a solver to silence this warning.\n",
      "  FutureWarning)\n",
      "D:\\anaconda\\ANACONDA\\lib\\site-packages\\sklearn\\linear_model\\logistic.py:433: FutureWarning: Default solver will be changed to 'lbfgs' in 0.22. Specify a solver to silence this warning.\n",
      "  FutureWarning)\n",
      "D:\\anaconda\\ANACONDA\\lib\\site-packages\\sklearn\\linear_model\\logistic.py:433: FutureWarning: Default solver will be changed to 'lbfgs' in 0.22. Specify a solver to silence this warning.\n",
      "  FutureWarning)\n",
      "D:\\anaconda\\ANACONDA\\lib\\site-packages\\sklearn\\linear_model\\logistic.py:433: FutureWarning: Default solver will be changed to 'lbfgs' in 0.22. Specify a solver to silence this warning.\n",
      "  FutureWarning)\n",
      "D:\\anaconda\\ANACONDA\\lib\\site-packages\\sklearn\\linear_model\\logistic.py:433: FutureWarning: Default solver will be changed to 'lbfgs' in 0.22. Specify a solver to silence this warning.\n",
      "  FutureWarning)\n",
      "D:\\anaconda\\ANACONDA\\lib\\site-packages\\sklearn\\linear_model\\logistic.py:433: FutureWarning: Default solver will be changed to 'lbfgs' in 0.22. Specify a solver to silence this warning.\n",
      "  FutureWarning)\n",
      "D:\\anaconda\\ANACONDA\\lib\\site-packages\\sklearn\\linear_model\\logistic.py:433: FutureWarning: Default solver will be changed to 'lbfgs' in 0.22. Specify a solver to silence this warning.\n",
      "  FutureWarning)\n",
      "D:\\anaconda\\ANACONDA\\lib\\site-packages\\sklearn\\linear_model\\logistic.py:433: FutureWarning: Default solver will be changed to 'lbfgs' in 0.22. Specify a solver to silence this warning.\n",
      "  FutureWarning)\n",
      "D:\\anaconda\\ANACONDA\\lib\\site-packages\\sklearn\\linear_model\\logistic.py:433: FutureWarning: Default solver will be changed to 'lbfgs' in 0.22. Specify a solver to silence this warning.\n",
      "  FutureWarning)\n",
      "D:\\anaconda\\ANACONDA\\lib\\site-packages\\sklearn\\linear_model\\logistic.py:433: FutureWarning: Default solver will be changed to 'lbfgs' in 0.22. Specify a solver to silence this warning.\n",
      "  FutureWarning)\n",
      "D:\\anaconda\\ANACONDA\\lib\\site-packages\\sklearn\\linear_model\\logistic.py:433: FutureWarning: Default solver will be changed to 'lbfgs' in 0.22. Specify a solver to silence this warning.\n",
      "  FutureWarning)\n",
      "D:\\anaconda\\ANACONDA\\lib\\site-packages\\sklearn\\linear_model\\logistic.py:433: FutureWarning: Default solver will be changed to 'lbfgs' in 0.22. Specify a solver to silence this warning.\n",
      "  FutureWarning)\n",
      "D:\\anaconda\\ANACONDA\\lib\\site-packages\\sklearn\\linear_model\\logistic.py:433: FutureWarning: Default solver will be changed to 'lbfgs' in 0.22. Specify a solver to silence this warning.\n",
      "  FutureWarning)\n",
      "D:\\anaconda\\ANACONDA\\lib\\site-packages\\sklearn\\linear_model\\logistic.py:433: FutureWarning: Default solver will be changed to 'lbfgs' in 0.22. Specify a solver to silence this warning.\n",
      "  FutureWarning)\n",
      "D:\\anaconda\\ANACONDA\\lib\\site-packages\\sklearn\\linear_model\\logistic.py:433: FutureWarning: Default solver will be changed to 'lbfgs' in 0.22. Specify a solver to silence this warning.\n",
      "  FutureWarning)\n",
      "D:\\anaconda\\ANACONDA\\lib\\site-packages\\sklearn\\linear_model\\logistic.py:433: FutureWarning: Default solver will be changed to 'lbfgs' in 0.22. Specify a solver to silence this warning.\n",
      "  FutureWarning)\n",
      "D:\\anaconda\\ANACONDA\\lib\\site-packages\\sklearn\\linear_model\\logistic.py:433: FutureWarning: Default solver will be changed to 'lbfgs' in 0.22. Specify a solver to silence this warning.\n",
      "  FutureWarning)\n",
      "D:\\anaconda\\ANACONDA\\lib\\site-packages\\sklearn\\linear_model\\logistic.py:433: FutureWarning: Default solver will be changed to 'lbfgs' in 0.22. Specify a solver to silence this warning.\n",
      "  FutureWarning)\n",
      "D:\\anaconda\\ANACONDA\\lib\\site-packages\\sklearn\\linear_model\\logistic.py:433: FutureWarning: Default solver will be changed to 'lbfgs' in 0.22. Specify a solver to silence this warning.\n",
      "  FutureWarning)\n",
      "D:\\anaconda\\ANACONDA\\lib\\site-packages\\sklearn\\linear_model\\logistic.py:433: FutureWarning: Default solver will be changed to 'lbfgs' in 0.22. Specify a solver to silence this warning.\n",
      "  FutureWarning)\n",
      "D:\\anaconda\\ANACONDA\\lib\\site-packages\\sklearn\\linear_model\\logistic.py:433: FutureWarning: Default solver will be changed to 'lbfgs' in 0.22. Specify a solver to silence this warning.\n",
      "  FutureWarning)\n",
      "D:\\anaconda\\ANACONDA\\lib\\site-packages\\sklearn\\linear_model\\logistic.py:433: FutureWarning: Default solver will be changed to 'lbfgs' in 0.22. Specify a solver to silence this warning.\n",
      "  FutureWarning)\n",
      "D:\\anaconda\\ANACONDA\\lib\\site-packages\\sklearn\\linear_model\\logistic.py:433: FutureWarning: Default solver will be changed to 'lbfgs' in 0.22. Specify a solver to silence this warning.\n",
      "  FutureWarning)\n",
      "D:\\anaconda\\ANACONDA\\lib\\site-packages\\sklearn\\linear_model\\logistic.py:433: FutureWarning: Default solver will be changed to 'lbfgs' in 0.22. Specify a solver to silence this warning.\n",
      "  FutureWarning)\n",
      "D:\\anaconda\\ANACONDA\\lib\\site-packages\\sklearn\\linear_model\\logistic.py:433: FutureWarning: Default solver will be changed to 'lbfgs' in 0.22. Specify a solver to silence this warning.\n",
      "  FutureWarning)\n",
      "D:\\anaconda\\ANACONDA\\lib\\site-packages\\sklearn\\linear_model\\logistic.py:433: FutureWarning: Default solver will be changed to 'lbfgs' in 0.22. Specify a solver to silence this warning.\n",
      "  FutureWarning)\n",
      "D:\\anaconda\\ANACONDA\\lib\\site-packages\\sklearn\\linear_model\\logistic.py:433: FutureWarning: Default solver will be changed to 'lbfgs' in 0.22. Specify a solver to silence this warning.\n",
      "  FutureWarning)\n",
      "D:\\anaconda\\ANACONDA\\lib\\site-packages\\sklearn\\linear_model\\logistic.py:433: FutureWarning: Default solver will be changed to 'lbfgs' in 0.22. Specify a solver to silence this warning.\n",
      "  FutureWarning)\n",
      "D:\\anaconda\\ANACONDA\\lib\\site-packages\\sklearn\\linear_model\\logistic.py:433: FutureWarning: Default solver will be changed to 'lbfgs' in 0.22. Specify a solver to silence this warning.\n",
      "  FutureWarning)\n",
      "D:\\anaconda\\ANACONDA\\lib\\site-packages\\sklearn\\linear_model\\logistic.py:433: FutureWarning: Default solver will be changed to 'lbfgs' in 0.22. Specify a solver to silence this warning.\n",
      "  FutureWarning)\n",
      "D:\\anaconda\\ANACONDA\\lib\\site-packages\\sklearn\\linear_model\\logistic.py:433: FutureWarning: Default solver will be changed to 'lbfgs' in 0.22. Specify a solver to silence this warning.\n",
      "  FutureWarning)\n",
      "D:\\anaconda\\ANACONDA\\lib\\site-packages\\sklearn\\linear_model\\logistic.py:433: FutureWarning: Default solver will be changed to 'lbfgs' in 0.22. Specify a solver to silence this warning.\n",
      "  FutureWarning)\n",
      "D:\\anaconda\\ANACONDA\\lib\\site-packages\\sklearn\\linear_model\\logistic.py:433: FutureWarning: Default solver will be changed to 'lbfgs' in 0.22. Specify a solver to silence this warning.\n",
      "  FutureWarning)\n"
     ]
    },
    {
     "name": "stderr",
     "output_type": "stream",
     "text": [
      "D:\\anaconda\\ANACONDA\\lib\\site-packages\\sklearn\\linear_model\\logistic.py:433: FutureWarning: Default solver will be changed to 'lbfgs' in 0.22. Specify a solver to silence this warning.\n",
      "  FutureWarning)\n",
      "D:\\anaconda\\ANACONDA\\lib\\site-packages\\sklearn\\linear_model\\logistic.py:433: FutureWarning: Default solver will be changed to 'lbfgs' in 0.22. Specify a solver to silence this warning.\n",
      "  FutureWarning)\n",
      "D:\\anaconda\\ANACONDA\\lib\\site-packages\\sklearn\\linear_model\\logistic.py:433: FutureWarning: Default solver will be changed to 'lbfgs' in 0.22. Specify a solver to silence this warning.\n",
      "  FutureWarning)\n",
      "D:\\anaconda\\ANACONDA\\lib\\site-packages\\sklearn\\linear_model\\logistic.py:433: FutureWarning: Default solver will be changed to 'lbfgs' in 0.22. Specify a solver to silence this warning.\n",
      "  FutureWarning)\n",
      "D:\\anaconda\\ANACONDA\\lib\\site-packages\\sklearn\\linear_model\\logistic.py:433: FutureWarning: Default solver will be changed to 'lbfgs' in 0.22. Specify a solver to silence this warning.\n",
      "  FutureWarning)\n",
      "D:\\anaconda\\ANACONDA\\lib\\site-packages\\sklearn\\linear_model\\logistic.py:433: FutureWarning: Default solver will be changed to 'lbfgs' in 0.22. Specify a solver to silence this warning.\n",
      "  FutureWarning)\n",
      "D:\\anaconda\\ANACONDA\\lib\\site-packages\\sklearn\\linear_model\\logistic.py:433: FutureWarning: Default solver will be changed to 'lbfgs' in 0.22. Specify a solver to silence this warning.\n",
      "  FutureWarning)\n",
      "D:\\anaconda\\ANACONDA\\lib\\site-packages\\sklearn\\linear_model\\logistic.py:433: FutureWarning: Default solver will be changed to 'lbfgs' in 0.22. Specify a solver to silence this warning.\n",
      "  FutureWarning)\n",
      "D:\\anaconda\\ANACONDA\\lib\\site-packages\\sklearn\\linear_model\\logistic.py:433: FutureWarning: Default solver will be changed to 'lbfgs' in 0.22. Specify a solver to silence this warning.\n",
      "  FutureWarning)\n",
      "D:\\anaconda\\ANACONDA\\lib\\site-packages\\sklearn\\linear_model\\logistic.py:433: FutureWarning: Default solver will be changed to 'lbfgs' in 0.22. Specify a solver to silence this warning.\n",
      "  FutureWarning)\n",
      "D:\\anaconda\\ANACONDA\\lib\\site-packages\\sklearn\\linear_model\\logistic.py:433: FutureWarning: Default solver will be changed to 'lbfgs' in 0.22. Specify a solver to silence this warning.\n",
      "  FutureWarning)\n",
      "D:\\anaconda\\ANACONDA\\lib\\site-packages\\sklearn\\linear_model\\logistic.py:433: FutureWarning: Default solver will be changed to 'lbfgs' in 0.22. Specify a solver to silence this warning.\n",
      "  FutureWarning)\n",
      "D:\\anaconda\\ANACONDA\\lib\\site-packages\\sklearn\\linear_model\\logistic.py:433: FutureWarning: Default solver will be changed to 'lbfgs' in 0.22. Specify a solver to silence this warning.\n",
      "  FutureWarning)\n",
      "D:\\anaconda\\ANACONDA\\lib\\site-packages\\sklearn\\linear_model\\logistic.py:433: FutureWarning: Default solver will be changed to 'lbfgs' in 0.22. Specify a solver to silence this warning.\n",
      "  FutureWarning)\n",
      "D:\\anaconda\\ANACONDA\\lib\\site-packages\\sklearn\\linear_model\\logistic.py:433: FutureWarning: Default solver will be changed to 'lbfgs' in 0.22. Specify a solver to silence this warning.\n",
      "  FutureWarning)\n",
      "D:\\anaconda\\ANACONDA\\lib\\site-packages\\sklearn\\linear_model\\logistic.py:433: FutureWarning: Default solver will be changed to 'lbfgs' in 0.22. Specify a solver to silence this warning.\n",
      "  FutureWarning)\n",
      "D:\\anaconda\\ANACONDA\\lib\\site-packages\\sklearn\\linear_model\\logistic.py:433: FutureWarning: Default solver will be changed to 'lbfgs' in 0.22. Specify a solver to silence this warning.\n",
      "  FutureWarning)\n",
      "D:\\anaconda\\ANACONDA\\lib\\site-packages\\sklearn\\linear_model\\logistic.py:433: FutureWarning: Default solver will be changed to 'lbfgs' in 0.22. Specify a solver to silence this warning.\n",
      "  FutureWarning)\n",
      "D:\\anaconda\\ANACONDA\\lib\\site-packages\\sklearn\\linear_model\\logistic.py:433: FutureWarning: Default solver will be changed to 'lbfgs' in 0.22. Specify a solver to silence this warning.\n",
      "  FutureWarning)\n",
      "D:\\anaconda\\ANACONDA\\lib\\site-packages\\sklearn\\linear_model\\logistic.py:433: FutureWarning: Default solver will be changed to 'lbfgs' in 0.22. Specify a solver to silence this warning.\n",
      "  FutureWarning)\n",
      "D:\\anaconda\\ANACONDA\\lib\\site-packages\\sklearn\\linear_model\\logistic.py:433: FutureWarning: Default solver will be changed to 'lbfgs' in 0.22. Specify a solver to silence this warning.\n",
      "  FutureWarning)\n",
      "D:\\anaconda\\ANACONDA\\lib\\site-packages\\sklearn\\linear_model\\logistic.py:433: FutureWarning: Default solver will be changed to 'lbfgs' in 0.22. Specify a solver to silence this warning.\n",
      "  FutureWarning)\n",
      "D:\\anaconda\\ANACONDA\\lib\\site-packages\\sklearn\\linear_model\\logistic.py:433: FutureWarning: Default solver will be changed to 'lbfgs' in 0.22. Specify a solver to silence this warning.\n",
      "  FutureWarning)\n",
      "D:\\anaconda\\ANACONDA\\lib\\site-packages\\sklearn\\linear_model\\logistic.py:433: FutureWarning: Default solver will be changed to 'lbfgs' in 0.22. Specify a solver to silence this warning.\n",
      "  FutureWarning)\n",
      "D:\\anaconda\\ANACONDA\\lib\\site-packages\\sklearn\\linear_model\\logistic.py:433: FutureWarning: Default solver will be changed to 'lbfgs' in 0.22. Specify a solver to silence this warning.\n",
      "  FutureWarning)\n",
      "D:\\anaconda\\ANACONDA\\lib\\site-packages\\sklearn\\linear_model\\logistic.py:433: FutureWarning: Default solver will be changed to 'lbfgs' in 0.22. Specify a solver to silence this warning.\n",
      "  FutureWarning)\n",
      "D:\\anaconda\\ANACONDA\\lib\\site-packages\\sklearn\\linear_model\\logistic.py:433: FutureWarning: Default solver will be changed to 'lbfgs' in 0.22. Specify a solver to silence this warning.\n",
      "  FutureWarning)\n",
      "D:\\anaconda\\ANACONDA\\lib\\site-packages\\sklearn\\linear_model\\logistic.py:433: FutureWarning: Default solver will be changed to 'lbfgs' in 0.22. Specify a solver to silence this warning.\n",
      "  FutureWarning)\n",
      "D:\\anaconda\\ANACONDA\\lib\\site-packages\\sklearn\\linear_model\\logistic.py:433: FutureWarning: Default solver will be changed to 'lbfgs' in 0.22. Specify a solver to silence this warning.\n",
      "  FutureWarning)\n"
     ]
    },
    {
     "data": {
      "text/plain": [
       "GridSearchCV(cv=10, error_score='raise-deprecating',\n",
       "       estimator=LogisticRegression(C=1.0, class_weight=None, dual=False, fit_intercept=True,\n",
       "          intercept_scaling=1, max_iter=100, multi_class='warn',\n",
       "          n_jobs=None, penalty='l2', random_state=1967, solver='warn',\n",
       "          tol=0.0001, verbose=0, warm_start=False),\n",
       "       fit_params=None, iid='warn', n_jobs=None,\n",
       "       param_grid={'C': array([1.e-03, 1.e-02, 1.e-01, 1.e+00, 1.e+01, 1.e+02, 1.e+03]), 'penalty': ['l2'], 'random_state': [1967]},\n",
       "       pre_dispatch='2*n_jobs', refit=True, return_train_score='warn',\n",
       "       scoring='accuracy', verbose=0)"
      ]
     },
     "execution_count": 104,
     "metadata": {},
     "output_type": "execute_result"
    }
   ],
   "source": [
    "lr_grid.fit(x_treino, y_treino)"
   ]
  },
  {
   "cell_type": "code",
   "execution_count": 105,
   "metadata": {},
   "outputs": [
    {
     "data": {
      "text/plain": [
       "{'C': 100.0, 'penalty': 'l2', 'random_state': 1967}"
      ]
     },
     "execution_count": 105,
     "metadata": {},
     "output_type": "execute_result"
    }
   ],
   "source": [
    "lr_grid.best_params_"
   ]
  },
  {
   "cell_type": "code",
   "execution_count": 106,
   "metadata": {},
   "outputs": [
    {
     "data": {
      "text/plain": [
       "0.6570447535354711"
      ]
     },
     "execution_count": 106,
     "metadata": {},
     "output_type": "execute_result"
    }
   ],
   "source": [
    "lr_grid.best_score_"
   ]
  },
  {
   "cell_type": "code",
   "execution_count": 107,
   "metadata": {},
   "outputs": [
    {
     "data": {
      "text/plain": [
       "LogisticRegression(C=1.0, class_weight=None, dual=False, fit_intercept=True,\n",
       "          intercept_scaling=1, max_iter=100, multi_class='warn',\n",
       "          n_jobs=None, penalty='l2', random_state=1967, solver='warn',\n",
       "          tol=0.0001, verbose=0, warm_start=False)"
      ]
     },
     "execution_count": 107,
     "metadata": {},
     "output_type": "execute_result"
    }
   ],
   "source": [
    "lr_grid.estimator"
   ]
  },
  {
   "cell_type": "markdown",
   "metadata": {},
   "source": [
    "##  Importação da biblioteca - cálculo de acurácia"
   ]
  },
  {
   "cell_type": "code",
   "execution_count": 108,
   "metadata": {},
   "outputs": [],
   "source": [
    "from sklearn.metrics import accuracy_score"
   ]
  },
  {
   "cell_type": "markdown",
   "metadata": {},
   "source": [
    "## Acurácia de treino - Logistic Regression"
   ]
  },
  {
   "cell_type": "code",
   "execution_count": 109,
   "metadata": {},
   "outputs": [
    {
     "data": {
      "text/plain": [
       "0.6570447535354711"
      ]
     },
     "execution_count": 109,
     "metadata": {},
     "output_type": "execute_result"
    }
   ],
   "source": [
    "lr_grid.best_score_"
   ]
  },
  {
   "cell_type": "code",
   "execution_count": 110,
   "metadata": {},
   "outputs": [
    {
     "data": {
      "text/plain": [
       "0.6484897864168073"
      ]
     },
     "execution_count": 110,
     "metadata": {},
     "output_type": "execute_result"
    }
   ],
   "source": [
    "acc_lr_treino = accuracy_score(y_treino, \n",
    "                              lr_grid.predict( # este é o objeto do grid, já com os melhores parametros\n",
    "                                  x_treino))\n",
    "acc_lr_treino"
   ]
  },
  {
   "cell_type": "markdown",
   "metadata": {},
   "source": [
    "##  Acurácia de teste - Logistic Regression\n",
    "A acurácia de teste está muito próxima à acurácia de treino, o que mostra que o modelo está perfomando bem."
   ]
  },
  {
   "cell_type": "code",
   "execution_count": 111,
   "metadata": {},
   "outputs": [
    {
     "data": {
      "text/plain": [
       "0.6381288614298323"
      ]
     },
     "execution_count": 111,
     "metadata": {},
     "output_type": "execute_result"
    }
   ],
   "source": [
    "acc_lr_teste = accuracy_score(y_teste, \n",
    "                              lr_grid.predict( # este é o objeto do grid, já com os melhores parametros\n",
    "                                  x_teste))\n",
    "acc_lr_teste"
   ]
  },
  {
   "cell_type": "code",
   "execution_count": 112,
   "metadata": {},
   "outputs": [],
   "source": [
    "from sklearn.metrics import classification_report"
   ]
  },
  {
   "cell_type": "code",
   "execution_count": 113,
   "metadata": {},
   "outputs": [
    {
     "name": "stdout",
     "output_type": "stream",
     "text": [
      "              precision    recall  f1-score   support\n",
      "\n",
      "           0       0.60      0.39      0.47     13850\n",
      "           1       0.67      0.82      0.74     20516\n",
      "\n",
      "   micro avg       0.65      0.65      0.65     34366\n",
      "   macro avg       0.63      0.61      0.60     34366\n",
      "weighted avg       0.64      0.65      0.63     34366\n",
      "\n"
     ]
    }
   ],
   "source": [
    "print(classification_report(y_treino,lr_grid.predict(x_treino)))"
   ]
  },
  {
   "cell_type": "code",
   "execution_count": 114,
   "metadata": {},
   "outputs": [
    {
     "name": "stdout",
     "output_type": "stream",
     "text": [
      "              precision    recall  f1-score   support\n",
      "\n",
      "           0       0.59      0.38      0.46      6018\n",
      "           1       0.66      0.81      0.73      8711\n",
      "\n",
      "   micro avg       0.64      0.64      0.64     14729\n",
      "   macro avg       0.62      0.60      0.60     14729\n",
      "weighted avg       0.63      0.64      0.62     14729\n",
      "\n",
      "A acurácia da previsão é  0.6381288614298323\n"
     ]
    }
   ],
   "source": [
    "print(classification_report(y_teste,lr_grid.predict(x_teste)))\n",
    "print (\"A acurácia da previsão é \", accuracy_score(y_teste,lr_grid.predict(x_teste)))"
   ]
  }
 ],
 "metadata": {
  "kernelspec": {
   "display_name": "Python 3",
   "language": "python",
   "name": "python3"
  },
  "language_info": {
   "codemirror_mode": {
    "name": "ipython",
    "version": 3
   },
   "file_extension": ".py",
   "mimetype": "text/x-python",
   "name": "python",
   "nbconvert_exporter": "python",
   "pygments_lexer": "ipython3",
   "version": "3.7.3"
  }
 },
 "nbformat": 4,
 "nbformat_minor": 2
}
