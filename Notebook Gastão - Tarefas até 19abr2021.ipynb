{
 "cells": [
  {
   "cell_type": "markdown",
   "metadata": {},
   "source": [
    "# TCC PUC-Minas Gastão Jucá Filho <br>\n",
    "Turma Puc-Minas Virtual - nov2019 <br>\n",
    "Notebook executado no <font color=green>final de semana 16 a 19 de abril de 2021</font>"
   ]
  },
  {
   "cell_type": "markdown",
   "metadata": {},
   "source": [
    "#  Atividades:\n",
    "> 1. Continuar o notebook \"Tarefas até 16abr2021\". \n",
    "> 2. \"Limpar\" as tabelas restantes da base da Olist. As tabelas a limpar são:\n",
    ">> <font color=red>\"customer\"</font>, <font color=red>\"payment\"</font>, <font color=red>\"product\"</font>, <font color=red>\"seller\"</font> e <font color=red>\"geolocation\"</font>;  \n",
    "> 3. Fazer algum merge. \n",
    "> 4. Documentar tudo com linguagem Markdown."
   ]
  },
  {
   "cell_type": "markdown",
   "metadata": {},
   "source": [
    "##  1 - Importação de bibliotecas necessárias"
   ]
  },
  {
   "cell_type": "code",
   "execution_count": 1,
   "metadata": {},
   "outputs": [],
   "source": [
    "import pandas as pd\n",
    "import numpy as np\n",
    "pd.options.display.float_format = '{:,.2f}'.format\n",
    "pd.set_option('display.max_columns', None)\n",
    "pd.set_option('display.max_rows', None)\n",
    "#pd.options.display.max_columns = 100\n",
    "from IPython.display import Image\n",
    "from IPython.core.display import HTML "
   ]
  },
  {
   "cell_type": "markdown",
   "metadata": {},
   "source": [
    "## 2 - Importação das 07 (sete) tabelas \n",
    "> (As 3 primeiras já foram trabalhadas).  \n",
    "\n",
    "> Na verdade, deixei de carregar a tabela <font color=red>\"olist_geolocation_dataset.csv\"</font> pelo seu tamanho (58 MB) e por ela não ser imprescindível nesta fase."
   ]
  },
  {
   "cell_type": "code",
   "execution_count": 2,
   "metadata": {},
   "outputs": [],
   "source": [
    "reviews = pd.read_csv(\"olist_order_reviews_dataset.csv\", sep = ',')"
   ]
  },
  {
   "cell_type": "code",
   "execution_count": 3,
   "metadata": {},
   "outputs": [],
   "source": [
    "orders = pd.read_csv('olist_orders_dataset.csv', sep=',')"
   ]
  },
  {
   "cell_type": "code",
   "execution_count": 4,
   "metadata": {},
   "outputs": [],
   "source": [
    "itens = pd.read_csv(\"olist_order_items_dataset.csv\", sep = ',')"
   ]
  },
  {
   "cell_type": "code",
   "execution_count": 5,
   "metadata": {},
   "outputs": [],
   "source": [
    "products = pd.read_csv(\"olist_products_dataset.csv\", sep = ',')"
   ]
  },
  {
   "cell_type": "code",
   "execution_count": 6,
   "metadata": {},
   "outputs": [],
   "source": [
    "customers = pd.read_csv(\"olist_customers_dataset.csv\", sep = ',')"
   ]
  },
  {
   "cell_type": "code",
   "execution_count": 7,
   "metadata": {},
   "outputs": [],
   "source": [
    "# geolocation = pd.read_csv(\"olist_geolocation_dataset.csv\", sep = ',')"
   ]
  },
  {
   "cell_type": "code",
   "execution_count": 8,
   "metadata": {},
   "outputs": [],
   "source": [
    "payments = pd.read_csv(\"olist_order_payments_dataset.csv\", sep = ',')"
   ]
  },
  {
   "cell_type": "code",
   "execution_count": 9,
   "metadata": {},
   "outputs": [],
   "source": [
    "sellers = pd.read_csv(\"olist_sellers_dataset.csv\", sep = ',')"
   ]
  },
  {
   "cell_type": "markdown",
   "metadata": {},
   "source": [
    "## 3 - Resumo do realizado no prévio notebook \"Tarefas até 16abr2021\""
   ]
  },
  {
   "cell_type": "code",
   "execution_count": 10,
   "metadata": {},
   "outputs": [
    {
     "data": {
      "text/html": [
       "<img src=\"Reviews and Orders being looked into.bmp\"/>"
      ],
      "text/plain": [
       "<IPython.core.display.Image object>"
      ]
     },
     "execution_count": 10,
     "metadata": {},
     "output_type": "execute_result"
    }
   ],
   "source": [
    "# Encontramos as tabelas \"reviews\" e \"orders\" do jeito abaixo (precisava \"limpar\" a da esquerda)\n",
    "Image(url= \"Reviews and Orders being looked into.bmp\")"
   ]
  },
  {
   "cell_type": "code",
   "execution_count": 11,
   "metadata": {},
   "outputs": [],
   "source": [
    "# Decidimos deletar os duplicados do campo 'review_id'\n",
    "review_id_sem_repetir = reviews.drop_duplicates (subset=['review_id'])"
   ]
  },
  {
   "cell_type": "code",
   "execution_count": 12,
   "metadata": {},
   "outputs": [
    {
     "data": {
      "text/html": [
       "<img src=\"review_id_sem_repetir e orders.bmp\"/>"
      ],
      "text/plain": [
       "<IPython.core.display.Image object>"
      ]
     },
     "execution_count": 12,
     "metadata": {},
     "output_type": "execute_result"
    }
   ],
   "source": [
    "# Qtde de registros da tabela passou de 100 mil para 99.173\n",
    "Image(url= \"review_id_sem_repetir e orders.bmp\")"
   ]
  },
  {
   "cell_type": "code",
   "execution_count": 13,
   "metadata": {},
   "outputs": [],
   "source": [
    "# Depois, decidimos deletar os duplicados do campo 'order_id'\n",
    "reviews_normalizada = review_id_sem_repetir.drop_duplicates (subset=['order_id']) "
   ]
  },
  {
   "cell_type": "code",
   "execution_count": 14,
   "metadata": {},
   "outputs": [
    {
     "data": {
      "text/html": [
       "<img src=\"reviews_normalizada e orders.bmp\"/>"
      ],
      "text/plain": [
       "<IPython.core.display.Image object>"
      ]
     },
     "execution_count": 14,
     "metadata": {},
     "output_type": "execute_result"
    }
   ],
   "source": [
    "# Qtde de registro caiu mais um pouco.\n",
    "Image(url= \"reviews_normalizada e orders.bmp\")"
   ]
  },
  {
   "cell_type": "markdown",
   "metadata": {},
   "source": [
    "#### A tabela <font color=red>\"orders\"</font> não precisou de limpeza.  \n",
    "Partimos para a tabela <font color=red>\"itens\"</font> (à direita na fig. abaixo)"
   ]
  },
  {
   "cell_type": "code",
   "execution_count": 15,
   "metadata": {},
   "outputs": [
    {
     "data": {
      "text/html": [
       "<img src=\"tres tabelas.bmp\"/>"
      ],
      "text/plain": [
       "<IPython.core.display.Image object>"
      ]
     },
     "execution_count": 15,
     "metadata": {},
     "output_type": "execute_result"
    }
   ],
   "source": [
    "Image (url = \"tres tabelas.bmp\")"
   ]
  },
  {
   "cell_type": "code",
   "execution_count": 16,
   "metadata": {},
   "outputs": [],
   "source": [
    "# Optamos por deletar duplicatas do campo \"order_item_id\"\n",
    "itens_sem_repetir = itens.drop_duplicates (subset=['order_id']) # Será mantida a 1ª ocorrência."
   ]
  },
  {
   "cell_type": "code",
   "execution_count": 17,
   "metadata": {},
   "outputs": [
    {
     "data": {
      "text/html": [
       "<img src=\"tres tabelas pos delecao.bmp\"/>"
      ],
      "text/plain": [
       "<IPython.core.display.Image object>"
      ]
     },
     "execution_count": 17,
     "metadata": {},
     "output_type": "execute_result"
    }
   ],
   "source": [
    "# situação APÓS da deleção\n",
    "Image (url = \"tres tabelas pos delecao.bmp\")"
   ]
  },
  {
   "cell_type": "markdown",
   "metadata": {},
   "source": [
    "#### Apesar de a nova tabela <font color=red>\"itens_sem_repetir\"</font> falhar em informar sobre itens, ainda é útil para informar qual o produto e qual o fornecedor estão atrelados a cada pedido.\n",
    "> No entanto, vamos desprezar em uma futura operação de 'Join' as colunas restantes, pois:  \n",
    ">> Os preços do produto e do frete influenciariam somente em uma análise de 'Churn' que não é o nosso caso.  \n",
    ">> A data de envio também é desnecessária, uma vez que temos datas diversas na tabela <font color=red>\"orders\"</font>."
   ]
  },
  {
   "cell_type": "markdown",
   "metadata": {},
   "source": [
    "## 4 -  Agora vamos partir para a limpeza das tabelas restantes."
   ]
  },
  {
   "cell_type": "markdown",
   "metadata": {},
   "source": [
    "### 4.1 - Tabela <font color=red>\"products\""
   ]
  },
  {
   "cell_type": "code",
   "execution_count": 18,
   "metadata": {},
   "outputs": [
    {
     "data": {
      "text/html": [
       "<div>\n",
       "<style scoped>\n",
       "    .dataframe tbody tr th:only-of-type {\n",
       "        vertical-align: middle;\n",
       "    }\n",
       "\n",
       "    .dataframe tbody tr th {\n",
       "        vertical-align: top;\n",
       "    }\n",
       "\n",
       "    .dataframe thead th {\n",
       "        text-align: right;\n",
       "    }\n",
       "</style>\n",
       "<table border=\"1\" class=\"dataframe\">\n",
       "  <thead>\n",
       "    <tr style=\"text-align: right;\">\n",
       "      <th></th>\n",
       "      <th>product_id</th>\n",
       "      <th>product_category_name</th>\n",
       "      <th>product_name_lenght</th>\n",
       "      <th>product_description_lenght</th>\n",
       "      <th>product_photos_qty</th>\n",
       "      <th>product_weight_g</th>\n",
       "      <th>product_length_cm</th>\n",
       "      <th>product_height_cm</th>\n",
       "      <th>product_width_cm</th>\n",
       "    </tr>\n",
       "  </thead>\n",
       "  <tbody>\n",
       "    <tr>\n",
       "      <th>0</th>\n",
       "      <td>1e9e8ef04dbcff4541ed26657ea517e5</td>\n",
       "      <td>perfumaria</td>\n",
       "      <td>40.00</td>\n",
       "      <td>287.00</td>\n",
       "      <td>1.00</td>\n",
       "      <td>225.00</td>\n",
       "      <td>16.00</td>\n",
       "      <td>10.00</td>\n",
       "      <td>14.00</td>\n",
       "    </tr>\n",
       "    <tr>\n",
       "      <th>1</th>\n",
       "      <td>3aa071139cb16b67ca9e5dea641aaa2f</td>\n",
       "      <td>artes</td>\n",
       "      <td>44.00</td>\n",
       "      <td>276.00</td>\n",
       "      <td>1.00</td>\n",
       "      <td>1,000.00</td>\n",
       "      <td>30.00</td>\n",
       "      <td>18.00</td>\n",
       "      <td>20.00</td>\n",
       "    </tr>\n",
       "    <tr>\n",
       "      <th>2</th>\n",
       "      <td>96bd76ec8810374ed1b65e291975717f</td>\n",
       "      <td>esporte_lazer</td>\n",
       "      <td>46.00</td>\n",
       "      <td>250.00</td>\n",
       "      <td>1.00</td>\n",
       "      <td>154.00</td>\n",
       "      <td>18.00</td>\n",
       "      <td>9.00</td>\n",
       "      <td>15.00</td>\n",
       "    </tr>\n",
       "    <tr>\n",
       "      <th>3</th>\n",
       "      <td>cef67bcfe19066a932b7673e239eb23d</td>\n",
       "      <td>bebes</td>\n",
       "      <td>27.00</td>\n",
       "      <td>261.00</td>\n",
       "      <td>1.00</td>\n",
       "      <td>371.00</td>\n",
       "      <td>26.00</td>\n",
       "      <td>4.00</td>\n",
       "      <td>26.00</td>\n",
       "    </tr>\n",
       "    <tr>\n",
       "      <th>4</th>\n",
       "      <td>9dc1a7de274444849c219cff195d0b71</td>\n",
       "      <td>utilidades_domesticas</td>\n",
       "      <td>37.00</td>\n",
       "      <td>402.00</td>\n",
       "      <td>4.00</td>\n",
       "      <td>625.00</td>\n",
       "      <td>20.00</td>\n",
       "      <td>17.00</td>\n",
       "      <td>13.00</td>\n",
       "    </tr>\n",
       "  </tbody>\n",
       "</table>\n",
       "</div>"
      ],
      "text/plain": [
       "                         product_id  product_category_name  \\\n",
       "0  1e9e8ef04dbcff4541ed26657ea517e5             perfumaria   \n",
       "1  3aa071139cb16b67ca9e5dea641aaa2f                  artes   \n",
       "2  96bd76ec8810374ed1b65e291975717f          esporte_lazer   \n",
       "3  cef67bcfe19066a932b7673e239eb23d                  bebes   \n",
       "4  9dc1a7de274444849c219cff195d0b71  utilidades_domesticas   \n",
       "\n",
       "   product_name_lenght  product_description_lenght  product_photos_qty  \\\n",
       "0                40.00                      287.00                1.00   \n",
       "1                44.00                      276.00                1.00   \n",
       "2                46.00                      250.00                1.00   \n",
       "3                27.00                      261.00                1.00   \n",
       "4                37.00                      402.00                4.00   \n",
       "\n",
       "   product_weight_g  product_length_cm  product_height_cm  product_width_cm  \n",
       "0            225.00              16.00              10.00             14.00  \n",
       "1          1,000.00              30.00              18.00             20.00  \n",
       "2            154.00              18.00               9.00             15.00  \n",
       "3            371.00              26.00               4.00             26.00  \n",
       "4            625.00              20.00              17.00             13.00  "
      ]
     },
     "execution_count": 18,
     "metadata": {},
     "output_type": "execute_result"
    }
   ],
   "source": [
    "products.head()"
   ]
  },
  {
   "cell_type": "code",
   "execution_count": 19,
   "metadata": {},
   "outputs": [
    {
     "name": "stdout",
     "output_type": "stream",
     "text": [
      "<class 'pandas.core.frame.DataFrame'>\n",
      "RangeIndex: 32951 entries, 0 to 32950\n",
      "Data columns (total 9 columns):\n",
      "product_id                    32951 non-null object\n",
      "product_category_name         32341 non-null object\n",
      "product_name_lenght           32341 non-null float64\n",
      "product_description_lenght    32341 non-null float64\n",
      "product_photos_qty            32341 non-null float64\n",
      "product_weight_g              32949 non-null float64\n",
      "product_length_cm             32949 non-null float64\n",
      "product_height_cm             32949 non-null float64\n",
      "product_width_cm              32949 non-null float64\n",
      "dtypes: float64(7), object(2)\n",
      "memory usage: 2.3+ MB\n"
     ]
    }
   ],
   "source": [
    "products.info()"
   ]
  },
  {
   "cell_type": "code",
   "execution_count": 20,
   "metadata": {},
   "outputs": [
    {
     "data": {
      "text/plain": [
       "32951"
      ]
     },
     "execution_count": 20,
     "metadata": {},
     "output_type": "execute_result"
    }
   ],
   "source": [
    "len(products['product_id'].unique())"
   ]
  },
  {
   "cell_type": "code",
   "execution_count": 21,
   "metadata": {},
   "outputs": [
    {
     "data": {
      "text/plain": [
       "32951"
      ]
     },
     "execution_count": 21,
     "metadata": {},
     "output_type": "execute_result"
    }
   ],
   "source": [
    "products['product_id'].nunique()"
   ]
  },
  {
   "cell_type": "code",
   "execution_count": 22,
   "metadata": {},
   "outputs": [
    {
     "data": {
      "text/plain": [
       "74"
      ]
     },
     "execution_count": 22,
     "metadata": {},
     "output_type": "execute_result"
    }
   ],
   "source": [
    "len(products['product_category_name'].unique()) # unique lista até os NAN"
   ]
  },
  {
   "cell_type": "code",
   "execution_count": 23,
   "metadata": {},
   "outputs": [
    {
     "data": {
      "text/plain": [
       "73"
      ]
     },
     "execution_count": 23,
     "metadata": {},
     "output_type": "execute_result"
    }
   ],
   "source": [
    "products['product_category_name'].nunique() # number of unique não inclui os NAN na contagem"
   ]
  },
  {
   "cell_type": "markdown",
   "metadata": {},
   "source": [
    "#### <font color=magenta>RESUMO</font>. Não há a descrição do nome do produto, somente o seu código. Não podemos ver qual produto é, apenas a sua categoria. Há 74 categorias para os mais de 32 mil produtos.\n",
    "> 'product_id' é a chave primária da tabela <font color=red>\"products\"</font>\n",
    "\n",
    "> Não há o que limpar, a tabela <font color=red>\"products\"</font> está pronta para uso."
   ]
  },
  {
   "cell_type": "code",
   "execution_count": 24,
   "metadata": {},
   "outputs": [
    {
     "data": {
      "text/html": [
       "<img src=\"tabelas com products.bmp\"/>"
      ],
      "text/plain": [
       "<IPython.core.display.Image object>"
      ]
     },
     "execution_count": 24,
     "metadata": {},
     "output_type": "execute_result"
    }
   ],
   "source": [
    "# Nossa quarta tabela se aglutina\n",
    "Image (url = \"tabelas com products.bmp\")"
   ]
  },
  {
   "cell_type": "markdown",
   "metadata": {},
   "source": [
    "### 4.2 - Tabela <font color=red>\"payments\""
   ]
  },
  {
   "cell_type": "markdown",
   "metadata": {},
   "source": [
    "#### 4.2.1 - dados iniciais"
   ]
  },
  {
   "cell_type": "code",
   "execution_count": 25,
   "metadata": {},
   "outputs": [
    {
     "data": {
      "text/html": [
       "<div>\n",
       "<style scoped>\n",
       "    .dataframe tbody tr th:only-of-type {\n",
       "        vertical-align: middle;\n",
       "    }\n",
       "\n",
       "    .dataframe tbody tr th {\n",
       "        vertical-align: top;\n",
       "    }\n",
       "\n",
       "    .dataframe thead th {\n",
       "        text-align: right;\n",
       "    }\n",
       "</style>\n",
       "<table border=\"1\" class=\"dataframe\">\n",
       "  <thead>\n",
       "    <tr style=\"text-align: right;\">\n",
       "      <th></th>\n",
       "      <th>order_id</th>\n",
       "      <th>payment_sequential</th>\n",
       "      <th>payment_type</th>\n",
       "      <th>payment_installments</th>\n",
       "      <th>payment_value</th>\n",
       "    </tr>\n",
       "  </thead>\n",
       "  <tbody>\n",
       "    <tr>\n",
       "      <th>0</th>\n",
       "      <td>b81ef226f3fe1789b1e8b2acac839d17</td>\n",
       "      <td>1</td>\n",
       "      <td>credit_card</td>\n",
       "      <td>8</td>\n",
       "      <td>99.33</td>\n",
       "    </tr>\n",
       "    <tr>\n",
       "      <th>1</th>\n",
       "      <td>a9810da82917af2d9aefd1278f1dcfa0</td>\n",
       "      <td>1</td>\n",
       "      <td>credit_card</td>\n",
       "      <td>1</td>\n",
       "      <td>24.39</td>\n",
       "    </tr>\n",
       "    <tr>\n",
       "      <th>2</th>\n",
       "      <td>25e8ea4e93396b6fa0d3dd708e76c1bd</td>\n",
       "      <td>1</td>\n",
       "      <td>credit_card</td>\n",
       "      <td>1</td>\n",
       "      <td>65.71</td>\n",
       "    </tr>\n",
       "    <tr>\n",
       "      <th>3</th>\n",
       "      <td>ba78997921bbcdc1373bb41e913ab953</td>\n",
       "      <td>1</td>\n",
       "      <td>credit_card</td>\n",
       "      <td>8</td>\n",
       "      <td>107.78</td>\n",
       "    </tr>\n",
       "    <tr>\n",
       "      <th>4</th>\n",
       "      <td>42fdf880ba16b47b59251dd489d4441a</td>\n",
       "      <td>1</td>\n",
       "      <td>credit_card</td>\n",
       "      <td>2</td>\n",
       "      <td>128.45</td>\n",
       "    </tr>\n",
       "  </tbody>\n",
       "</table>\n",
       "</div>"
      ],
      "text/plain": [
       "                           order_id  payment_sequential payment_type  \\\n",
       "0  b81ef226f3fe1789b1e8b2acac839d17                   1  credit_card   \n",
       "1  a9810da82917af2d9aefd1278f1dcfa0                   1  credit_card   \n",
       "2  25e8ea4e93396b6fa0d3dd708e76c1bd                   1  credit_card   \n",
       "3  ba78997921bbcdc1373bb41e913ab953                   1  credit_card   \n",
       "4  42fdf880ba16b47b59251dd489d4441a                   1  credit_card   \n",
       "\n",
       "   payment_installments  payment_value  \n",
       "0                     8          99.33  \n",
       "1                     1          24.39  \n",
       "2                     1          65.71  \n",
       "3                     8         107.78  \n",
       "4                     2         128.45  "
      ]
     },
     "execution_count": 25,
     "metadata": {},
     "output_type": "execute_result"
    }
   ],
   "source": [
    "payments.head()"
   ]
  },
  {
   "cell_type": "code",
   "execution_count": 26,
   "metadata": {},
   "outputs": [
    {
     "name": "stdout",
     "output_type": "stream",
     "text": [
      "<class 'pandas.core.frame.DataFrame'>\n",
      "RangeIndex: 103886 entries, 0 to 103885\n",
      "Data columns (total 5 columns):\n",
      "order_id                103886 non-null object\n",
      "payment_sequential      103886 non-null int64\n",
      "payment_type            103886 non-null object\n",
      "payment_installments    103886 non-null int64\n",
      "payment_value           103886 non-null float64\n",
      "dtypes: float64(1), int64(2), object(2)\n",
      "memory usage: 4.0+ MB\n"
     ]
    }
   ],
   "source": [
    "payments.info()"
   ]
  },
  {
   "cell_type": "code",
   "execution_count": 27,
   "metadata": {},
   "outputs": [
    {
     "data": {
      "text/plain": [
       "order_id                99440\n",
       "payment_sequential         29\n",
       "payment_type                5\n",
       "payment_installments       24\n",
       "payment_value           29077\n",
       "dtype: int64"
      ]
     },
     "execution_count": 27,
     "metadata": {},
     "output_type": "execute_result"
    }
   ],
   "source": [
    "# Valores únicos dos campos\n",
    "payments[['order_id', 'payment_sequential', 'payment_type', 'payment_installments', 'payment_value']].nunique()"
   ]
  },
  {
   "cell_type": "code",
   "execution_count": 28,
   "metadata": {},
   "outputs": [
    {
     "data": {
      "text/html": [
       "<div>\n",
       "<style scoped>\n",
       "    .dataframe tbody tr th:only-of-type {\n",
       "        vertical-align: middle;\n",
       "    }\n",
       "\n",
       "    .dataframe tbody tr th {\n",
       "        vertical-align: top;\n",
       "    }\n",
       "\n",
       "    .dataframe thead th {\n",
       "        text-align: right;\n",
       "    }\n",
       "</style>\n",
       "<table border=\"1\" class=\"dataframe\">\n",
       "  <thead>\n",
       "    <tr style=\"text-align: right;\">\n",
       "      <th></th>\n",
       "      <th>payment_sequential</th>\n",
       "    </tr>\n",
       "  </thead>\n",
       "  <tbody>\n",
       "    <tr>\n",
       "      <th>0</th>\n",
       "      <td>1</td>\n",
       "    </tr>\n",
       "    <tr>\n",
       "      <th>1</th>\n",
       "      <td>2</td>\n",
       "    </tr>\n",
       "    <tr>\n",
       "      <th>4</th>\n",
       "      <td>3</td>\n",
       "    </tr>\n",
       "    <tr>\n",
       "      <th>2</th>\n",
       "      <td>4</td>\n",
       "    </tr>\n",
       "    <tr>\n",
       "      <th>3</th>\n",
       "      <td>5</td>\n",
       "    </tr>\n",
       "    <tr>\n",
       "      <th>6</th>\n",
       "      <td>6</td>\n",
       "    </tr>\n",
       "    <tr>\n",
       "      <th>7</th>\n",
       "      <td>7</td>\n",
       "    </tr>\n",
       "    <tr>\n",
       "      <th>5</th>\n",
       "      <td>8</td>\n",
       "    </tr>\n",
       "    <tr>\n",
       "      <th>14</th>\n",
       "      <td>9</td>\n",
       "    </tr>\n",
       "    <tr>\n",
       "      <th>8</th>\n",
       "      <td>10</td>\n",
       "    </tr>\n",
       "    <tr>\n",
       "      <th>9</th>\n",
       "      <td>11</td>\n",
       "    </tr>\n",
       "    <tr>\n",
       "      <th>13</th>\n",
       "      <td>12</td>\n",
       "    </tr>\n",
       "    <tr>\n",
       "      <th>16</th>\n",
       "      <td>13</td>\n",
       "    </tr>\n",
       "    <tr>\n",
       "      <th>17</th>\n",
       "      <td>14</td>\n",
       "    </tr>\n",
       "    <tr>\n",
       "      <th>15</th>\n",
       "      <td>15</td>\n",
       "    </tr>\n",
       "    <tr>\n",
       "      <th>18</th>\n",
       "      <td>16</td>\n",
       "    </tr>\n",
       "    <tr>\n",
       "      <th>10</th>\n",
       "      <td>17</td>\n",
       "    </tr>\n",
       "    <tr>\n",
       "      <th>24</th>\n",
       "      <td>18</td>\n",
       "    </tr>\n",
       "    <tr>\n",
       "      <th>11</th>\n",
       "      <td>19</td>\n",
       "    </tr>\n",
       "    <tr>\n",
       "      <th>28</th>\n",
       "      <td>20</td>\n",
       "    </tr>\n",
       "    <tr>\n",
       "      <th>25</th>\n",
       "      <td>21</td>\n",
       "    </tr>\n",
       "    <tr>\n",
       "      <th>20</th>\n",
       "      <td>22</td>\n",
       "    </tr>\n",
       "    <tr>\n",
       "      <th>27</th>\n",
       "      <td>23</td>\n",
       "    </tr>\n",
       "    <tr>\n",
       "      <th>26</th>\n",
       "      <td>24</td>\n",
       "    </tr>\n",
       "    <tr>\n",
       "      <th>19</th>\n",
       "      <td>25</td>\n",
       "    </tr>\n",
       "    <tr>\n",
       "      <th>21</th>\n",
       "      <td>26</td>\n",
       "    </tr>\n",
       "    <tr>\n",
       "      <th>12</th>\n",
       "      <td>27</td>\n",
       "    </tr>\n",
       "    <tr>\n",
       "      <th>23</th>\n",
       "      <td>28</td>\n",
       "    </tr>\n",
       "    <tr>\n",
       "      <th>22</th>\n",
       "      <td>29</td>\n",
       "    </tr>\n",
       "  </tbody>\n",
       "</table>\n",
       "</div>"
      ],
      "text/plain": [
       "    payment_sequential\n",
       "0                    1\n",
       "1                    2\n",
       "4                    3\n",
       "2                    4\n",
       "3                    5\n",
       "6                    6\n",
       "7                    7\n",
       "5                    8\n",
       "14                   9\n",
       "8                   10\n",
       "9                   11\n",
       "13                  12\n",
       "16                  13\n",
       "17                  14\n",
       "15                  15\n",
       "18                  16\n",
       "10                  17\n",
       "24                  18\n",
       "11                  19\n",
       "28                  20\n",
       "25                  21\n",
       "20                  22\n",
       "27                  23\n",
       "26                  24\n",
       "19                  25\n",
       "21                  26\n",
       "12                  27\n",
       "23                  28\n",
       "22                  29"
      ]
     },
     "execution_count": 28,
     "metadata": {},
     "output_type": "execute_result"
    }
   ],
   "source": [
    "# Quais são os 29 'payment_sequential'\n",
    "df_payments_unique = pd.DataFrame(payments['payment_sequential'].unique(), columns=['payment_sequential'])\n",
    "df_payments_unique.sort_values(by='payment_sequential')"
   ]
  },
  {
   "cell_type": "code",
   "execution_count": 29,
   "metadata": {},
   "outputs": [
    {
     "data": {
      "text/html": [
       "<div>\n",
       "<style scoped>\n",
       "    .dataframe tbody tr th:only-of-type {\n",
       "        vertical-align: middle;\n",
       "    }\n",
       "\n",
       "    .dataframe tbody tr th {\n",
       "        vertical-align: top;\n",
       "    }\n",
       "\n",
       "    .dataframe thead th {\n",
       "        text-align: right;\n",
       "    }\n",
       "</style>\n",
       "<table border=\"1\" class=\"dataframe\">\n",
       "  <thead>\n",
       "    <tr style=\"text-align: right;\">\n",
       "      <th></th>\n",
       "      <th>payment_type</th>\n",
       "    </tr>\n",
       "  </thead>\n",
       "  <tbody>\n",
       "    <tr>\n",
       "      <th>0</th>\n",
       "      <td>credit_card</td>\n",
       "    </tr>\n",
       "    <tr>\n",
       "      <th>1</th>\n",
       "      <td>boleto</td>\n",
       "    </tr>\n",
       "    <tr>\n",
       "      <th>2</th>\n",
       "      <td>voucher</td>\n",
       "    </tr>\n",
       "    <tr>\n",
       "      <th>3</th>\n",
       "      <td>debit_card</td>\n",
       "    </tr>\n",
       "    <tr>\n",
       "      <th>4</th>\n",
       "      <td>not_defined</td>\n",
       "    </tr>\n",
       "  </tbody>\n",
       "</table>\n",
       "</div>"
      ],
      "text/plain": [
       "  payment_type\n",
       "0  credit_card\n",
       "1       boleto\n",
       "2      voucher\n",
       "3   debit_card\n",
       "4  not_defined"
      ]
     },
     "execution_count": 29,
     "metadata": {},
     "output_type": "execute_result"
    }
   ],
   "source": [
    "# Quais são os 5 'payment_type'\n",
    "df_payment_type = pd.DataFrame(payments['payment_type'].unique(), columns=['payment_type'])\n",
    "df_payment_type"
   ]
  },
  {
   "cell_type": "code",
   "execution_count": 30,
   "metadata": {},
   "outputs": [
    {
     "data": {
      "text/html": [
       "<div>\n",
       "<style scoped>\n",
       "    .dataframe tbody tr th:only-of-type {\n",
       "        vertical-align: middle;\n",
       "    }\n",
       "\n",
       "    .dataframe tbody tr th {\n",
       "        vertical-align: top;\n",
       "    }\n",
       "\n",
       "    .dataframe thead th {\n",
       "        text-align: right;\n",
       "    }\n",
       "</style>\n",
       "<table border=\"1\" class=\"dataframe\">\n",
       "  <thead>\n",
       "    <tr style=\"text-align: right;\">\n",
       "      <th></th>\n",
       "      <th>payment_installments</th>\n",
       "    </tr>\n",
       "  </thead>\n",
       "  <tbody>\n",
       "    <tr>\n",
       "      <th>21</th>\n",
       "      <td>0</td>\n",
       "    </tr>\n",
       "    <tr>\n",
       "      <th>1</th>\n",
       "      <td>1</td>\n",
       "    </tr>\n",
       "    <tr>\n",
       "      <th>2</th>\n",
       "      <td>2</td>\n",
       "    </tr>\n",
       "    <tr>\n",
       "      <th>3</th>\n",
       "      <td>3</td>\n",
       "    </tr>\n",
       "    <tr>\n",
       "      <th>6</th>\n",
       "      <td>4</td>\n",
       "    </tr>\n",
       "    <tr>\n",
       "      <th>5</th>\n",
       "      <td>5</td>\n",
       "    </tr>\n",
       "    <tr>\n",
       "      <th>4</th>\n",
       "      <td>6</td>\n",
       "    </tr>\n",
       "    <tr>\n",
       "      <th>8</th>\n",
       "      <td>7</td>\n",
       "    </tr>\n",
       "    <tr>\n",
       "      <th>0</th>\n",
       "      <td>8</td>\n",
       "    </tr>\n",
       "    <tr>\n",
       "      <th>10</th>\n",
       "      <td>9</td>\n",
       "    </tr>\n",
       "    <tr>\n",
       "      <th>7</th>\n",
       "      <td>10</td>\n",
       "    </tr>\n",
       "    <tr>\n",
       "      <th>14</th>\n",
       "      <td>11</td>\n",
       "    </tr>\n",
       "    <tr>\n",
       "      <th>9</th>\n",
       "      <td>12</td>\n",
       "    </tr>\n",
       "    <tr>\n",
       "      <th>11</th>\n",
       "      <td>13</td>\n",
       "    </tr>\n",
       "    <tr>\n",
       "      <th>16</th>\n",
       "      <td>14</td>\n",
       "    </tr>\n",
       "    <tr>\n",
       "      <th>12</th>\n",
       "      <td>15</td>\n",
       "    </tr>\n",
       "    <tr>\n",
       "      <th>22</th>\n",
       "      <td>16</td>\n",
       "    </tr>\n",
       "    <tr>\n",
       "      <th>19</th>\n",
       "      <td>17</td>\n",
       "    </tr>\n",
       "    <tr>\n",
       "      <th>15</th>\n",
       "      <td>18</td>\n",
       "    </tr>\n",
       "    <tr>\n",
       "      <th>17</th>\n",
       "      <td>20</td>\n",
       "    </tr>\n",
       "    <tr>\n",
       "      <th>18</th>\n",
       "      <td>21</td>\n",
       "    </tr>\n",
       "    <tr>\n",
       "      <th>20</th>\n",
       "      <td>22</td>\n",
       "    </tr>\n",
       "    <tr>\n",
       "      <th>23</th>\n",
       "      <td>23</td>\n",
       "    </tr>\n",
       "    <tr>\n",
       "      <th>13</th>\n",
       "      <td>24</td>\n",
       "    </tr>\n",
       "  </tbody>\n",
       "</table>\n",
       "</div>"
      ],
      "text/plain": [
       "    payment_installments\n",
       "21                     0\n",
       "1                      1\n",
       "2                      2\n",
       "3                      3\n",
       "6                      4\n",
       "5                      5\n",
       "4                      6\n",
       "8                      7\n",
       "0                      8\n",
       "10                     9\n",
       "7                     10\n",
       "14                    11\n",
       "9                     12\n",
       "11                    13\n",
       "16                    14\n",
       "12                    15\n",
       "22                    16\n",
       "19                    17\n",
       "15                    18\n",
       "17                    20\n",
       "18                    21\n",
       "20                    22\n",
       "23                    23\n",
       "13                    24"
      ]
     },
     "execution_count": 30,
     "metadata": {},
     "output_type": "execute_result"
    }
   ],
   "source": [
    "# Quais são os 24 'payment_installments'\n",
    "df_payment_installments = pd.DataFrame(payments['payment_installments'].unique(), columns=['payment_installments'])\n",
    "df_payment_installments.sort_values(by='payment_installments')"
   ]
  },
  {
   "cell_type": "code",
   "execution_count": 31,
   "metadata": {},
   "outputs": [
    {
     "data": {
      "text/plain": [
       "count   103,886.00\n",
       "mean        154.10\n",
       "std         217.49\n",
       "min           0.00\n",
       "25%          56.79\n",
       "50%         100.00\n",
       "75%         171.84\n",
       "max      13,664.08\n",
       "Name: payment_value, dtype: float64"
      ]
     },
     "execution_count": 31,
     "metadata": {},
     "output_type": "execute_result"
    }
   ],
   "source": [
    "# Estatística dos valores da compra\n",
    "payments['payment_value'].describe()"
   ]
  },
  {
   "cell_type": "code",
   "execution_count": 32,
   "metadata": {},
   "outputs": [
    {
     "data": {
      "text/html": [
       "<img src=\"cinco tabelas - inclui payments.bmp\"/>"
      ],
      "text/plain": [
       "<IPython.core.display.Image object>"
      ]
     },
     "execution_count": 32,
     "metadata": {},
     "output_type": "execute_result"
    }
   ],
   "source": [
    "Image (url = \"cinco tabelas - inclui payments.bmp\")"
   ]
  },
  {
   "cell_type": "markdown",
   "metadata": {},
   "source": [
    "#### 4.2.2 - Investigando o campo 'payment_sequential': qual sua finalidade?  \n",
    "Resposta:\n",
    "> Um cliente pode pagar um pedido com mais de um método de pagamento.  \n",
    "\n",
    "> Se ele fizer isso, uma sequência será criada para acomodar todos os pagamentos. "
   ]
  },
  {
   "cell_type": "code",
   "execution_count": 33,
   "metadata": {},
   "outputs": [
    {
     "data": {
      "text/html": [
       "<div>\n",
       "<style scoped>\n",
       "    .dataframe tbody tr th:only-of-type {\n",
       "        vertical-align: middle;\n",
       "    }\n",
       "\n",
       "    .dataframe tbody tr th {\n",
       "        vertical-align: top;\n",
       "    }\n",
       "\n",
       "    .dataframe thead th {\n",
       "        text-align: right;\n",
       "    }\n",
       "</style>\n",
       "<table border=\"1\" class=\"dataframe\">\n",
       "  <thead>\n",
       "    <tr style=\"text-align: right;\">\n",
       "      <th></th>\n",
       "      <th>order_id</th>\n",
       "    </tr>\n",
       "    <tr>\n",
       "      <th>payment_sequential</th>\n",
       "      <th></th>\n",
       "    </tr>\n",
       "  </thead>\n",
       "  <tbody>\n",
       "    <tr>\n",
       "      <th>1</th>\n",
       "      <td>99360</td>\n",
       "    </tr>\n",
       "    <tr>\n",
       "      <th>2</th>\n",
       "      <td>3039</td>\n",
       "    </tr>\n",
       "    <tr>\n",
       "      <th>3</th>\n",
       "      <td>581</td>\n",
       "    </tr>\n",
       "    <tr>\n",
       "      <th>4</th>\n",
       "      <td>278</td>\n",
       "    </tr>\n",
       "    <tr>\n",
       "      <th>5</th>\n",
       "      <td>170</td>\n",
       "    </tr>\n",
       "    <tr>\n",
       "      <th>6</th>\n",
       "      <td>118</td>\n",
       "    </tr>\n",
       "    <tr>\n",
       "      <th>7</th>\n",
       "      <td>82</td>\n",
       "    </tr>\n",
       "    <tr>\n",
       "      <th>8</th>\n",
       "      <td>54</td>\n",
       "    </tr>\n",
       "    <tr>\n",
       "      <th>9</th>\n",
       "      <td>43</td>\n",
       "    </tr>\n",
       "    <tr>\n",
       "      <th>10</th>\n",
       "      <td>34</td>\n",
       "    </tr>\n",
       "    <tr>\n",
       "      <th>11</th>\n",
       "      <td>29</td>\n",
       "    </tr>\n",
       "    <tr>\n",
       "      <th>12</th>\n",
       "      <td>21</td>\n",
       "    </tr>\n",
       "    <tr>\n",
       "      <th>13</th>\n",
       "      <td>13</td>\n",
       "    </tr>\n",
       "    <tr>\n",
       "      <th>14</th>\n",
       "      <td>10</td>\n",
       "    </tr>\n",
       "    <tr>\n",
       "      <th>15</th>\n",
       "      <td>8</td>\n",
       "    </tr>\n",
       "    <tr>\n",
       "      <th>16</th>\n",
       "      <td>6</td>\n",
       "    </tr>\n",
       "    <tr>\n",
       "      <th>17</th>\n",
       "      <td>6</td>\n",
       "    </tr>\n",
       "    <tr>\n",
       "      <th>18</th>\n",
       "      <td>6</td>\n",
       "    </tr>\n",
       "    <tr>\n",
       "      <th>19</th>\n",
       "      <td>6</td>\n",
       "    </tr>\n",
       "    <tr>\n",
       "      <th>20</th>\n",
       "      <td>4</td>\n",
       "    </tr>\n",
       "    <tr>\n",
       "      <th>21</th>\n",
       "      <td>4</td>\n",
       "    </tr>\n",
       "    <tr>\n",
       "      <th>22</th>\n",
       "      <td>3</td>\n",
       "    </tr>\n",
       "    <tr>\n",
       "      <th>23</th>\n",
       "      <td>2</td>\n",
       "    </tr>\n",
       "    <tr>\n",
       "      <th>24</th>\n",
       "      <td>2</td>\n",
       "    </tr>\n",
       "    <tr>\n",
       "      <th>25</th>\n",
       "      <td>2</td>\n",
       "    </tr>\n",
       "    <tr>\n",
       "      <th>26</th>\n",
       "      <td>2</td>\n",
       "    </tr>\n",
       "    <tr>\n",
       "      <th>27</th>\n",
       "      <td>1</td>\n",
       "    </tr>\n",
       "    <tr>\n",
       "      <th>28</th>\n",
       "      <td>1</td>\n",
       "    </tr>\n",
       "    <tr>\n",
       "      <th>29</th>\n",
       "      <td>1</td>\n",
       "    </tr>\n",
       "  </tbody>\n",
       "</table>\n",
       "</div>"
      ],
      "text/plain": [
       "                    order_id\n",
       "payment_sequential          \n",
       "1                      99360\n",
       "2                       3039\n",
       "3                        581\n",
       "4                        278\n",
       "5                        170\n",
       "6                        118\n",
       "7                         82\n",
       "8                         54\n",
       "9                         43\n",
       "10                        34\n",
       "11                        29\n",
       "12                        21\n",
       "13                        13\n",
       "14                        10\n",
       "15                         8\n",
       "16                         6\n",
       "17                         6\n",
       "18                         6\n",
       "19                         6\n",
       "20                         4\n",
       "21                         4\n",
       "22                         3\n",
       "23                         2\n",
       "24                         2\n",
       "25                         2\n",
       "26                         2\n",
       "27                         1\n",
       "28                         1\n",
       "29                         1"
      ]
     },
     "execution_count": 33,
     "metadata": {},
     "output_type": "execute_result"
    }
   ],
   "source": [
    "# Vamos agrupar 'paymente_sequential' e contar 'order_id'\n",
    "payment_sequential_agrupados = payments.groupby('payment_sequential')['order_id'].count()\n",
    "\n",
    "# vamos transformar em um Dataframe o Series resultante desse GroupBy \n",
    "df_payment_sequential_agrupados = pd.DataFrame(payment_sequential_agrupados)\n",
    "\n",
    "# Visualizemos qtos 'order_id' há em cada 'payment_sequential'\n",
    "df_payment_sequential_agrupados"
   ]
  },
  {
   "cell_type": "markdown",
   "metadata": {},
   "source": [
    "##### 4.2.2a - Listando alguns 'order_id' com múltiplos modos de pagamento"
   ]
  },
  {
   "cell_type": "code",
   "execution_count": 34,
   "metadata": {},
   "outputs": [
    {
     "data": {
      "text/html": [
       "<div>\n",
       "<style scoped>\n",
       "    .dataframe tbody tr th:only-of-type {\n",
       "        vertical-align: middle;\n",
       "    }\n",
       "\n",
       "    .dataframe tbody tr th {\n",
       "        vertical-align: top;\n",
       "    }\n",
       "\n",
       "    .dataframe thead th {\n",
       "        text-align: right;\n",
       "    }\n",
       "</style>\n",
       "<table border=\"1\" class=\"dataframe\">\n",
       "  <thead>\n",
       "    <tr style=\"text-align: right;\">\n",
       "      <th></th>\n",
       "      <th>order_id</th>\n",
       "      <th>payment_sequential</th>\n",
       "      <th>payment_type</th>\n",
       "      <th>payment_installments</th>\n",
       "      <th>payment_value</th>\n",
       "    </tr>\n",
       "  </thead>\n",
       "  <tbody>\n",
       "    <tr>\n",
       "      <th>9104</th>\n",
       "      <td>21577126c19bf11a0b91592e5844ba78</td>\n",
       "      <td>14</td>\n",
       "      <td>voucher</td>\n",
       "      <td>1</td>\n",
       "      <td>7.11</td>\n",
       "    </tr>\n",
       "    <tr>\n",
       "      <th>13960</th>\n",
       "      <td>4689b1816de42507a7d63a4617383c59</td>\n",
       "      <td>14</td>\n",
       "      <td>voucher</td>\n",
       "      <td>1</td>\n",
       "      <td>42.31</td>\n",
       "    </tr>\n",
       "    <tr>\n",
       "      <th>16279</th>\n",
       "      <td>ccf804e764ed5650cd8759557269dc13</td>\n",
       "      <td>14</td>\n",
       "      <td>voucher</td>\n",
       "      <td>1</td>\n",
       "      <td>0.97</td>\n",
       "    </tr>\n",
       "    <tr>\n",
       "      <th>18175</th>\n",
       "      <td>fedcd9f7ccdc8cba3a18defedd1a5547</td>\n",
       "      <td>14</td>\n",
       "      <td>voucher</td>\n",
       "      <td>1</td>\n",
       "      <td>7.63</td>\n",
       "    </tr>\n",
       "    <tr>\n",
       "      <th>19078</th>\n",
       "      <td>285c2e15bebd4ac83635ccc563dc71f4</td>\n",
       "      <td>14</td>\n",
       "      <td>voucher</td>\n",
       "      <td>1</td>\n",
       "      <td>1.75</td>\n",
       "    </tr>\n",
       "    <tr>\n",
       "      <th>36822</th>\n",
       "      <td>fa65dad1b0e818e3ccc5cb0e39231352</td>\n",
       "      <td>14</td>\n",
       "      <td>voucher</td>\n",
       "      <td>1</td>\n",
       "      <td>0.00</td>\n",
       "    </tr>\n",
       "    <tr>\n",
       "      <th>40166</th>\n",
       "      <td>4bfcba9e084f46c8e3cb49b0fa6e6159</td>\n",
       "      <td>14</td>\n",
       "      <td>voucher</td>\n",
       "      <td>1</td>\n",
       "      <td>50.00</td>\n",
       "    </tr>\n",
       "    <tr>\n",
       "      <th>50071</th>\n",
       "      <td>ee9ca989fc93ba09a6eddc250ce01742</td>\n",
       "      <td>14</td>\n",
       "      <td>voucher</td>\n",
       "      <td>1</td>\n",
       "      <td>4.70</td>\n",
       "    </tr>\n",
       "    <tr>\n",
       "      <th>86294</th>\n",
       "      <td>895ab968e7bb0d5659d16cd74cd1650c</td>\n",
       "      <td>14</td>\n",
       "      <td>voucher</td>\n",
       "      <td>1</td>\n",
       "      <td>16.70</td>\n",
       "    </tr>\n",
       "    <tr>\n",
       "      <th>90473</th>\n",
       "      <td>3c58bffb70dcf45f12bdf66a3c215905</td>\n",
       "      <td>14</td>\n",
       "      <td>voucher</td>\n",
       "      <td>1</td>\n",
       "      <td>3.64</td>\n",
       "    </tr>\n",
       "  </tbody>\n",
       "</table>\n",
       "</div>"
      ],
      "text/plain": [
       "                               order_id  payment_sequential payment_type  \\\n",
       "9104   21577126c19bf11a0b91592e5844ba78                  14      voucher   \n",
       "13960  4689b1816de42507a7d63a4617383c59                  14      voucher   \n",
       "16279  ccf804e764ed5650cd8759557269dc13                  14      voucher   \n",
       "18175  fedcd9f7ccdc8cba3a18defedd1a5547                  14      voucher   \n",
       "19078  285c2e15bebd4ac83635ccc563dc71f4                  14      voucher   \n",
       "36822  fa65dad1b0e818e3ccc5cb0e39231352                  14      voucher   \n",
       "40166  4bfcba9e084f46c8e3cb49b0fa6e6159                  14      voucher   \n",
       "50071  ee9ca989fc93ba09a6eddc250ce01742                  14      voucher   \n",
       "86294  895ab968e7bb0d5659d16cd74cd1650c                  14      voucher   \n",
       "90473  3c58bffb70dcf45f12bdf66a3c215905                  14      voucher   \n",
       "\n",
       "       payment_installments  payment_value  \n",
       "9104                      1           7.11  \n",
       "13960                     1          42.31  \n",
       "16279                     1           0.97  \n",
       "18175                     1           7.63  \n",
       "19078                     1           1.75  \n",
       "36822                     1           0.00  \n",
       "40166                     1          50.00  \n",
       "50071                     1           4.70  \n",
       "86294                     1          16.70  \n",
       "90473                     1           3.64  "
      ]
     },
     "execution_count": 34,
     "metadata": {},
     "output_type": "execute_result"
    }
   ],
   "source": [
    "# Listagem dos 10 (dez)'order_id' que contêm o 'payment_sequential' 14 (obtido acima)\n",
    "payments.loc[payments['payment_sequential'] == 14]"
   ]
  },
  {
   "cell_type": "code",
   "execution_count": 35,
   "metadata": {},
   "outputs": [
    {
     "data": {
      "text/html": [
       "<div>\n",
       "<style scoped>\n",
       "    .dataframe tbody tr th:only-of-type {\n",
       "        vertical-align: middle;\n",
       "    }\n",
       "\n",
       "    .dataframe tbody tr th {\n",
       "        vertical-align: top;\n",
       "    }\n",
       "\n",
       "    .dataframe thead th {\n",
       "        text-align: right;\n",
       "    }\n",
       "</style>\n",
       "<table border=\"1\" class=\"dataframe\">\n",
       "  <thead>\n",
       "    <tr style=\"text-align: right;\">\n",
       "      <th></th>\n",
       "      <th>order_id</th>\n",
       "      <th>payment_sequential</th>\n",
       "      <th>payment_type</th>\n",
       "      <th>payment_installments</th>\n",
       "      <th>payment_value</th>\n",
       "    </tr>\n",
       "  </thead>\n",
       "  <tbody>\n",
       "    <tr>\n",
       "      <th>76153</th>\n",
       "      <td>21577126c19bf11a0b91592e5844ba78</td>\n",
       "      <td>1</td>\n",
       "      <td>voucher</td>\n",
       "      <td>1</td>\n",
       "      <td>3.79</td>\n",
       "    </tr>\n",
       "    <tr>\n",
       "      <th>64586</th>\n",
       "      <td>21577126c19bf11a0b91592e5844ba78</td>\n",
       "      <td>2</td>\n",
       "      <td>voucher</td>\n",
       "      <td>1</td>\n",
       "      <td>7.92</td>\n",
       "    </tr>\n",
       "    <tr>\n",
       "      <th>67574</th>\n",
       "      <td>21577126c19bf11a0b91592e5844ba78</td>\n",
       "      <td>3</td>\n",
       "      <td>voucher</td>\n",
       "      <td>1</td>\n",
       "      <td>4.18</td>\n",
       "    </tr>\n",
       "    <tr>\n",
       "      <th>91141</th>\n",
       "      <td>21577126c19bf11a0b91592e5844ba78</td>\n",
       "      <td>4</td>\n",
       "      <td>voucher</td>\n",
       "      <td>1</td>\n",
       "      <td>5.47</td>\n",
       "    </tr>\n",
       "    <tr>\n",
       "      <th>71725</th>\n",
       "      <td>21577126c19bf11a0b91592e5844ba78</td>\n",
       "      <td>5</td>\n",
       "      <td>voucher</td>\n",
       "      <td>1</td>\n",
       "      <td>4.18</td>\n",
       "    </tr>\n",
       "    <tr>\n",
       "      <th>96224</th>\n",
       "      <td>21577126c19bf11a0b91592e5844ba78</td>\n",
       "      <td>6</td>\n",
       "      <td>voucher</td>\n",
       "      <td>1</td>\n",
       "      <td>7.11</td>\n",
       "    </tr>\n",
       "    <tr>\n",
       "      <th>30664</th>\n",
       "      <td>21577126c19bf11a0b91592e5844ba78</td>\n",
       "      <td>7</td>\n",
       "      <td>voucher</td>\n",
       "      <td>1</td>\n",
       "      <td>4.65</td>\n",
       "    </tr>\n",
       "    <tr>\n",
       "      <th>24774</th>\n",
       "      <td>21577126c19bf11a0b91592e5844ba78</td>\n",
       "      <td>8</td>\n",
       "      <td>voucher</td>\n",
       "      <td>1</td>\n",
       "      <td>7.11</td>\n",
       "    </tr>\n",
       "    <tr>\n",
       "      <th>40942</th>\n",
       "      <td>21577126c19bf11a0b91592e5844ba78</td>\n",
       "      <td>9</td>\n",
       "      <td>voucher</td>\n",
       "      <td>1</td>\n",
       "      <td>11.33</td>\n",
       "    </tr>\n",
       "    <tr>\n",
       "      <th>4439</th>\n",
       "      <td>21577126c19bf11a0b91592e5844ba78</td>\n",
       "      <td>10</td>\n",
       "      <td>voucher</td>\n",
       "      <td>1</td>\n",
       "      <td>9.34</td>\n",
       "    </tr>\n",
       "    <tr>\n",
       "      <th>46616</th>\n",
       "      <td>21577126c19bf11a0b91592e5844ba78</td>\n",
       "      <td>11</td>\n",
       "      <td>voucher</td>\n",
       "      <td>1</td>\n",
       "      <td>3.32</td>\n",
       "    </tr>\n",
       "    <tr>\n",
       "      <th>39811</th>\n",
       "      <td>21577126c19bf11a0b91592e5844ba78</td>\n",
       "      <td>12</td>\n",
       "      <td>voucher</td>\n",
       "      <td>1</td>\n",
       "      <td>4.39</td>\n",
       "    </tr>\n",
       "    <tr>\n",
       "      <th>8721</th>\n",
       "      <td>21577126c19bf11a0b91592e5844ba78</td>\n",
       "      <td>13</td>\n",
       "      <td>voucher</td>\n",
       "      <td>1</td>\n",
       "      <td>4.74</td>\n",
       "    </tr>\n",
       "    <tr>\n",
       "      <th>9104</th>\n",
       "      <td>21577126c19bf11a0b91592e5844ba78</td>\n",
       "      <td>14</td>\n",
       "      <td>voucher</td>\n",
       "      <td>1</td>\n",
       "      <td>7.11</td>\n",
       "    </tr>\n",
       "    <tr>\n",
       "      <th>38516</th>\n",
       "      <td>21577126c19bf11a0b91592e5844ba78</td>\n",
       "      <td>15</td>\n",
       "      <td>voucher</td>\n",
       "      <td>1</td>\n",
       "      <td>2.35</td>\n",
       "    </tr>\n",
       "  </tbody>\n",
       "</table>\n",
       "</div>"
      ],
      "text/plain": [
       "                               order_id  payment_sequential payment_type  \\\n",
       "76153  21577126c19bf11a0b91592e5844ba78                   1      voucher   \n",
       "64586  21577126c19bf11a0b91592e5844ba78                   2      voucher   \n",
       "67574  21577126c19bf11a0b91592e5844ba78                   3      voucher   \n",
       "91141  21577126c19bf11a0b91592e5844ba78                   4      voucher   \n",
       "71725  21577126c19bf11a0b91592e5844ba78                   5      voucher   \n",
       "96224  21577126c19bf11a0b91592e5844ba78                   6      voucher   \n",
       "30664  21577126c19bf11a0b91592e5844ba78                   7      voucher   \n",
       "24774  21577126c19bf11a0b91592e5844ba78                   8      voucher   \n",
       "40942  21577126c19bf11a0b91592e5844ba78                   9      voucher   \n",
       "4439   21577126c19bf11a0b91592e5844ba78                  10      voucher   \n",
       "46616  21577126c19bf11a0b91592e5844ba78                  11      voucher   \n",
       "39811  21577126c19bf11a0b91592e5844ba78                  12      voucher   \n",
       "8721   21577126c19bf11a0b91592e5844ba78                  13      voucher   \n",
       "9104   21577126c19bf11a0b91592e5844ba78                  14      voucher   \n",
       "38516  21577126c19bf11a0b91592e5844ba78                  15      voucher   \n",
       "\n",
       "       payment_installments  payment_value  \n",
       "76153                     1           3.79  \n",
       "64586                     1           7.92  \n",
       "67574                     1           4.18  \n",
       "91141                     1           5.47  \n",
       "71725                     1           4.18  \n",
       "96224                     1           7.11  \n",
       "30664                     1           4.65  \n",
       "24774                     1           7.11  \n",
       "40942                     1          11.33  \n",
       "4439                      1           9.34  \n",
       "46616                     1           3.32  \n",
       "39811                     1           4.39  \n",
       "8721                      1           4.74  \n",
       "9104                      1           7.11  \n",
       "38516                     1           2.35  "
      ]
     },
     "execution_count": 35,
     "metadata": {},
     "output_type": "execute_result"
    }
   ],
   "source": [
    "# Listagem de um 'order_id' que contém o 'payment_sequential' 14\n",
    "payments.loc[payments['order_id'] == \"21577126c19bf11a0b91592e5844ba78\"].sort_values(by='payment_sequential')"
   ]
  },
  {
   "cell_type": "markdown",
   "metadata": {},
   "source": [
    "##### Tudo voucher????? Que coisa ridícula e sem sentido."
   ]
  },
  {
   "cell_type": "code",
   "execution_count": 36,
   "metadata": {},
   "outputs": [
    {
     "data": {
      "text/html": [
       "<div>\n",
       "<style scoped>\n",
       "    .dataframe tbody tr th:only-of-type {\n",
       "        vertical-align: middle;\n",
       "    }\n",
       "\n",
       "    .dataframe tbody tr th {\n",
       "        vertical-align: top;\n",
       "    }\n",
       "\n",
       "    .dataframe thead th {\n",
       "        text-align: right;\n",
       "    }\n",
       "</style>\n",
       "<table border=\"1\" class=\"dataframe\">\n",
       "  <thead>\n",
       "    <tr style=\"text-align: right;\">\n",
       "      <th></th>\n",
       "      <th>order_id</th>\n",
       "      <th>payment_sequential</th>\n",
       "      <th>payment_type</th>\n",
       "      <th>payment_installments</th>\n",
       "      <th>payment_value</th>\n",
       "    </tr>\n",
       "  </thead>\n",
       "  <tbody>\n",
       "    <tr>\n",
       "      <th>54311</th>\n",
       "      <td>4689b1816de42507a7d63a4617383c59</td>\n",
       "      <td>1</td>\n",
       "      <td>credit_card</td>\n",
       "      <td>1</td>\n",
       "      <td>21.81</td>\n",
       "    </tr>\n",
       "    <tr>\n",
       "      <th>13997</th>\n",
       "      <td>4689b1816de42507a7d63a4617383c59</td>\n",
       "      <td>2</td>\n",
       "      <td>voucher</td>\n",
       "      <td>1</td>\n",
       "      <td>56.42</td>\n",
       "    </tr>\n",
       "    <tr>\n",
       "      <th>1769</th>\n",
       "      <td>4689b1816de42507a7d63a4617383c59</td>\n",
       "      <td>3</td>\n",
       "      <td>voucher</td>\n",
       "      <td>1</td>\n",
       "      <td>56.42</td>\n",
       "    </tr>\n",
       "    <tr>\n",
       "      <th>48253</th>\n",
       "      <td>4689b1816de42507a7d63a4617383c59</td>\n",
       "      <td>4</td>\n",
       "      <td>voucher</td>\n",
       "      <td>1</td>\n",
       "      <td>14.10</td>\n",
       "    </tr>\n",
       "    <tr>\n",
       "      <th>74588</th>\n",
       "      <td>4689b1816de42507a7d63a4617383c59</td>\n",
       "      <td>5</td>\n",
       "      <td>voucher</td>\n",
       "      <td>1</td>\n",
       "      <td>42.31</td>\n",
       "    </tr>\n",
       "    <tr>\n",
       "      <th>87728</th>\n",
       "      <td>4689b1816de42507a7d63a4617383c59</td>\n",
       "      <td>6</td>\n",
       "      <td>voucher</td>\n",
       "      <td>1</td>\n",
       "      <td>42.31</td>\n",
       "    </tr>\n",
       "    <tr>\n",
       "      <th>5091</th>\n",
       "      <td>4689b1816de42507a7d63a4617383c59</td>\n",
       "      <td>7</td>\n",
       "      <td>voucher</td>\n",
       "      <td>1</td>\n",
       "      <td>56.42</td>\n",
       "    </tr>\n",
       "    <tr>\n",
       "      <th>11673</th>\n",
       "      <td>4689b1816de42507a7d63a4617383c59</td>\n",
       "      <td>8</td>\n",
       "      <td>voucher</td>\n",
       "      <td>1</td>\n",
       "      <td>14.10</td>\n",
       "    </tr>\n",
       "    <tr>\n",
       "      <th>81055</th>\n",
       "      <td>4689b1816de42507a7d63a4617383c59</td>\n",
       "      <td>9</td>\n",
       "      <td>voucher</td>\n",
       "      <td>1</td>\n",
       "      <td>14.10</td>\n",
       "    </tr>\n",
       "    <tr>\n",
       "      <th>31004</th>\n",
       "      <td>4689b1816de42507a7d63a4617383c59</td>\n",
       "      <td>10</td>\n",
       "      <td>voucher</td>\n",
       "      <td>1</td>\n",
       "      <td>42.31</td>\n",
       "    </tr>\n",
       "    <tr>\n",
       "      <th>98464</th>\n",
       "      <td>4689b1816de42507a7d63a4617383c59</td>\n",
       "      <td>11</td>\n",
       "      <td>voucher</td>\n",
       "      <td>1</td>\n",
       "      <td>56.42</td>\n",
       "    </tr>\n",
       "    <tr>\n",
       "      <th>85643</th>\n",
       "      <td>4689b1816de42507a7d63a4617383c59</td>\n",
       "      <td>12</td>\n",
       "      <td>voucher</td>\n",
       "      <td>1</td>\n",
       "      <td>56.42</td>\n",
       "    </tr>\n",
       "    <tr>\n",
       "      <th>85415</th>\n",
       "      <td>4689b1816de42507a7d63a4617383c59</td>\n",
       "      <td>13</td>\n",
       "      <td>voucher</td>\n",
       "      <td>1</td>\n",
       "      <td>14.10</td>\n",
       "    </tr>\n",
       "    <tr>\n",
       "      <th>13960</th>\n",
       "      <td>4689b1816de42507a7d63a4617383c59</td>\n",
       "      <td>14</td>\n",
       "      <td>voucher</td>\n",
       "      <td>1</td>\n",
       "      <td>42.31</td>\n",
       "    </tr>\n",
       "  </tbody>\n",
       "</table>\n",
       "</div>"
      ],
      "text/plain": [
       "                               order_id  payment_sequential payment_type  \\\n",
       "54311  4689b1816de42507a7d63a4617383c59                   1  credit_card   \n",
       "13997  4689b1816de42507a7d63a4617383c59                   2      voucher   \n",
       "1769   4689b1816de42507a7d63a4617383c59                   3      voucher   \n",
       "48253  4689b1816de42507a7d63a4617383c59                   4      voucher   \n",
       "74588  4689b1816de42507a7d63a4617383c59                   5      voucher   \n",
       "87728  4689b1816de42507a7d63a4617383c59                   6      voucher   \n",
       "5091   4689b1816de42507a7d63a4617383c59                   7      voucher   \n",
       "11673  4689b1816de42507a7d63a4617383c59                   8      voucher   \n",
       "81055  4689b1816de42507a7d63a4617383c59                   9      voucher   \n",
       "31004  4689b1816de42507a7d63a4617383c59                  10      voucher   \n",
       "98464  4689b1816de42507a7d63a4617383c59                  11      voucher   \n",
       "85643  4689b1816de42507a7d63a4617383c59                  12      voucher   \n",
       "85415  4689b1816de42507a7d63a4617383c59                  13      voucher   \n",
       "13960  4689b1816de42507a7d63a4617383c59                  14      voucher   \n",
       "\n",
       "       payment_installments  payment_value  \n",
       "54311                     1          21.81  \n",
       "13997                     1          56.42  \n",
       "1769                      1          56.42  \n",
       "48253                     1          14.10  \n",
       "74588                     1          42.31  \n",
       "87728                     1          42.31  \n",
       "5091                      1          56.42  \n",
       "11673                     1          14.10  \n",
       "81055                     1          14.10  \n",
       "31004                     1          42.31  \n",
       "98464                     1          56.42  \n",
       "85643                     1          56.42  \n",
       "85415                     1          14.10  \n",
       "13960                     1          42.31  "
      ]
     },
     "execution_count": 36,
     "metadata": {},
     "output_type": "execute_result"
    }
   ],
   "source": [
    "# Listagem de outro 'order_id' que contém o 'payment_sequential' 14\n",
    "payments.loc[payments['order_id'] == \"4689b1816de42507a7d63a4617383c59\"].sort_values(by='payment_sequential')"
   ]
  },
  {
   "cell_type": "code",
   "execution_count": 37,
   "metadata": {},
   "outputs": [
    {
     "data": {
      "text/html": [
       "<div>\n",
       "<style scoped>\n",
       "    .dataframe tbody tr th:only-of-type {\n",
       "        vertical-align: middle;\n",
       "    }\n",
       "\n",
       "    .dataframe tbody tr th {\n",
       "        vertical-align: top;\n",
       "    }\n",
       "\n",
       "    .dataframe thead th {\n",
       "        text-align: right;\n",
       "    }\n",
       "</style>\n",
       "<table border=\"1\" class=\"dataframe\">\n",
       "  <thead>\n",
       "    <tr style=\"text-align: right;\">\n",
       "      <th></th>\n",
       "      <th>order_id</th>\n",
       "      <th>payment_sequential</th>\n",
       "      <th>payment_type</th>\n",
       "      <th>payment_installments</th>\n",
       "      <th>payment_value</th>\n",
       "    </tr>\n",
       "  </thead>\n",
       "  <tbody>\n",
       "    <tr>\n",
       "      <th>14362</th>\n",
       "      <td>ccf804e764ed5650cd8759557269dc13</td>\n",
       "      <td>1</td>\n",
       "      <td>credit_card</td>\n",
       "      <td>1</td>\n",
       "      <td>2.20</td>\n",
       "    </tr>\n",
       "    <tr>\n",
       "      <th>38001</th>\n",
       "      <td>ccf804e764ed5650cd8759557269dc13</td>\n",
       "      <td>2</td>\n",
       "      <td>voucher</td>\n",
       "      <td>1</td>\n",
       "      <td>1.45</td>\n",
       "    </tr>\n",
       "    <tr>\n",
       "      <th>40387</th>\n",
       "      <td>ccf804e764ed5650cd8759557269dc13</td>\n",
       "      <td>3</td>\n",
       "      <td>voucher</td>\n",
       "      <td>1</td>\n",
       "      <td>1.15</td>\n",
       "    </tr>\n",
       "    <tr>\n",
       "      <th>95153</th>\n",
       "      <td>ccf804e764ed5650cd8759557269dc13</td>\n",
       "      <td>4</td>\n",
       "      <td>voucher</td>\n",
       "      <td>1</td>\n",
       "      <td>0.99</td>\n",
       "    </tr>\n",
       "    <tr>\n",
       "      <th>40369</th>\n",
       "      <td>ccf804e764ed5650cd8759557269dc13</td>\n",
       "      <td>5</td>\n",
       "      <td>voucher</td>\n",
       "      <td>1</td>\n",
       "      <td>2.69</td>\n",
       "    </tr>\n",
       "    <tr>\n",
       "      <th>21447</th>\n",
       "      <td>ccf804e764ed5650cd8759557269dc13</td>\n",
       "      <td>6</td>\n",
       "      <td>voucher</td>\n",
       "      <td>1</td>\n",
       "      <td>2.26</td>\n",
       "    </tr>\n",
       "    <tr>\n",
       "      <th>41414</th>\n",
       "      <td>ccf804e764ed5650cd8759557269dc13</td>\n",
       "      <td>7</td>\n",
       "      <td>voucher</td>\n",
       "      <td>1</td>\n",
       "      <td>1.60</td>\n",
       "    </tr>\n",
       "    <tr>\n",
       "      <th>79324</th>\n",
       "      <td>ccf804e764ed5650cd8759557269dc13</td>\n",
       "      <td>8</td>\n",
       "      <td>voucher</td>\n",
       "      <td>1</td>\n",
       "      <td>2.42</td>\n",
       "    </tr>\n",
       "    <tr>\n",
       "      <th>87981</th>\n",
       "      <td>ccf804e764ed5650cd8759557269dc13</td>\n",
       "      <td>9</td>\n",
       "      <td>voucher</td>\n",
       "      <td>1</td>\n",
       "      <td>0.97</td>\n",
       "    </tr>\n",
       "    <tr>\n",
       "      <th>71309</th>\n",
       "      <td>ccf804e764ed5650cd8759557269dc13</td>\n",
       "      <td>10</td>\n",
       "      <td>voucher</td>\n",
       "      <td>1</td>\n",
       "      <td>1.20</td>\n",
       "    </tr>\n",
       "    <tr>\n",
       "      <th>45857</th>\n",
       "      <td>ccf804e764ed5650cd8759557269dc13</td>\n",
       "      <td>11</td>\n",
       "      <td>voucher</td>\n",
       "      <td>1</td>\n",
       "      <td>2.97</td>\n",
       "    </tr>\n",
       "    <tr>\n",
       "      <th>91510</th>\n",
       "      <td>ccf804e764ed5650cd8759557269dc13</td>\n",
       "      <td>12</td>\n",
       "      <td>voucher</td>\n",
       "      <td>1</td>\n",
       "      <td>2.45</td>\n",
       "    </tr>\n",
       "    <tr>\n",
       "      <th>49137</th>\n",
       "      <td>ccf804e764ed5650cd8759557269dc13</td>\n",
       "      <td>13</td>\n",
       "      <td>voucher</td>\n",
       "      <td>1</td>\n",
       "      <td>1.04</td>\n",
       "    </tr>\n",
       "    <tr>\n",
       "      <th>16279</th>\n",
       "      <td>ccf804e764ed5650cd8759557269dc13</td>\n",
       "      <td>14</td>\n",
       "      <td>voucher</td>\n",
       "      <td>1</td>\n",
       "      <td>0.97</td>\n",
       "    </tr>\n",
       "    <tr>\n",
       "      <th>18876</th>\n",
       "      <td>ccf804e764ed5650cd8759557269dc13</td>\n",
       "      <td>15</td>\n",
       "      <td>voucher</td>\n",
       "      <td>1</td>\n",
       "      <td>1.11</td>\n",
       "    </tr>\n",
       "    <tr>\n",
       "      <th>94873</th>\n",
       "      <td>ccf804e764ed5650cd8759557269dc13</td>\n",
       "      <td>16</td>\n",
       "      <td>voucher</td>\n",
       "      <td>1</td>\n",
       "      <td>1.07</td>\n",
       "    </tr>\n",
       "    <tr>\n",
       "      <th>96566</th>\n",
       "      <td>ccf804e764ed5650cd8759557269dc13</td>\n",
       "      <td>17</td>\n",
       "      <td>voucher</td>\n",
       "      <td>1</td>\n",
       "      <td>1.11</td>\n",
       "    </tr>\n",
       "    <tr>\n",
       "      <th>88364</th>\n",
       "      <td>ccf804e764ed5650cd8759557269dc13</td>\n",
       "      <td>18</td>\n",
       "      <td>voucher</td>\n",
       "      <td>1</td>\n",
       "      <td>1.40</td>\n",
       "    </tr>\n",
       "    <tr>\n",
       "      <th>4346</th>\n",
       "      <td>ccf804e764ed5650cd8759557269dc13</td>\n",
       "      <td>19</td>\n",
       "      <td>voucher</td>\n",
       "      <td>1</td>\n",
       "      <td>1.68</td>\n",
       "    </tr>\n",
       "    <tr>\n",
       "      <th>76655</th>\n",
       "      <td>ccf804e764ed5650cd8759557269dc13</td>\n",
       "      <td>20</td>\n",
       "      <td>voucher</td>\n",
       "      <td>1</td>\n",
       "      <td>0.99</td>\n",
       "    </tr>\n",
       "    <tr>\n",
       "      <th>93531</th>\n",
       "      <td>ccf804e764ed5650cd8759557269dc13</td>\n",
       "      <td>21</td>\n",
       "      <td>voucher</td>\n",
       "      <td>1</td>\n",
       "      <td>1.45</td>\n",
       "    </tr>\n",
       "    <tr>\n",
       "      <th>53622</th>\n",
       "      <td>ccf804e764ed5650cd8759557269dc13</td>\n",
       "      <td>22</td>\n",
       "      <td>voucher</td>\n",
       "      <td>1</td>\n",
       "      <td>1.06</td>\n",
       "    </tr>\n",
       "    <tr>\n",
       "      <th>60241</th>\n",
       "      <td>ccf804e764ed5650cd8759557269dc13</td>\n",
       "      <td>23</td>\n",
       "      <td>voucher</td>\n",
       "      <td>1</td>\n",
       "      <td>1.03</td>\n",
       "    </tr>\n",
       "    <tr>\n",
       "      <th>51816</th>\n",
       "      <td>ccf804e764ed5650cd8759557269dc13</td>\n",
       "      <td>24</td>\n",
       "      <td>voucher</td>\n",
       "      <td>1</td>\n",
       "      <td>2.79</td>\n",
       "    </tr>\n",
       "    <tr>\n",
       "      <th>39132</th>\n",
       "      <td>ccf804e764ed5650cd8759557269dc13</td>\n",
       "      <td>25</td>\n",
       "      <td>voucher</td>\n",
       "      <td>1</td>\n",
       "      <td>1.53</td>\n",
       "    </tr>\n",
       "    <tr>\n",
       "      <th>32393</th>\n",
       "      <td>ccf804e764ed5650cd8759557269dc13</td>\n",
       "      <td>26</td>\n",
       "      <td>voucher</td>\n",
       "      <td>1</td>\n",
       "      <td>23.10</td>\n",
       "    </tr>\n",
       "  </tbody>\n",
       "</table>\n",
       "</div>"
      ],
      "text/plain": [
       "                               order_id  payment_sequential payment_type  \\\n",
       "14362  ccf804e764ed5650cd8759557269dc13                   1  credit_card   \n",
       "38001  ccf804e764ed5650cd8759557269dc13                   2      voucher   \n",
       "40387  ccf804e764ed5650cd8759557269dc13                   3      voucher   \n",
       "95153  ccf804e764ed5650cd8759557269dc13                   4      voucher   \n",
       "40369  ccf804e764ed5650cd8759557269dc13                   5      voucher   \n",
       "21447  ccf804e764ed5650cd8759557269dc13                   6      voucher   \n",
       "41414  ccf804e764ed5650cd8759557269dc13                   7      voucher   \n",
       "79324  ccf804e764ed5650cd8759557269dc13                   8      voucher   \n",
       "87981  ccf804e764ed5650cd8759557269dc13                   9      voucher   \n",
       "71309  ccf804e764ed5650cd8759557269dc13                  10      voucher   \n",
       "45857  ccf804e764ed5650cd8759557269dc13                  11      voucher   \n",
       "91510  ccf804e764ed5650cd8759557269dc13                  12      voucher   \n",
       "49137  ccf804e764ed5650cd8759557269dc13                  13      voucher   \n",
       "16279  ccf804e764ed5650cd8759557269dc13                  14      voucher   \n",
       "18876  ccf804e764ed5650cd8759557269dc13                  15      voucher   \n",
       "94873  ccf804e764ed5650cd8759557269dc13                  16      voucher   \n",
       "96566  ccf804e764ed5650cd8759557269dc13                  17      voucher   \n",
       "88364  ccf804e764ed5650cd8759557269dc13                  18      voucher   \n",
       "4346   ccf804e764ed5650cd8759557269dc13                  19      voucher   \n",
       "76655  ccf804e764ed5650cd8759557269dc13                  20      voucher   \n",
       "93531  ccf804e764ed5650cd8759557269dc13                  21      voucher   \n",
       "53622  ccf804e764ed5650cd8759557269dc13                  22      voucher   \n",
       "60241  ccf804e764ed5650cd8759557269dc13                  23      voucher   \n",
       "51816  ccf804e764ed5650cd8759557269dc13                  24      voucher   \n",
       "39132  ccf804e764ed5650cd8759557269dc13                  25      voucher   \n",
       "32393  ccf804e764ed5650cd8759557269dc13                  26      voucher   \n",
       "\n",
       "       payment_installments  payment_value  \n",
       "14362                     1           2.20  \n",
       "38001                     1           1.45  \n",
       "40387                     1           1.15  \n",
       "95153                     1           0.99  \n",
       "40369                     1           2.69  \n",
       "21447                     1           2.26  \n",
       "41414                     1           1.60  \n",
       "79324                     1           2.42  \n",
       "87981                     1           0.97  \n",
       "71309                     1           1.20  \n",
       "45857                     1           2.97  \n",
       "91510                     1           2.45  \n",
       "49137                     1           1.04  \n",
       "16279                     1           0.97  \n",
       "18876                     1           1.11  \n",
       "94873                     1           1.07  \n",
       "96566                     1           1.11  \n",
       "88364                     1           1.40  \n",
       "4346                      1           1.68  \n",
       "76655                     1           0.99  \n",
       "93531                     1           1.45  \n",
       "53622                     1           1.06  \n",
       "60241                     1           1.03  \n",
       "51816                     1           2.79  \n",
       "39132                     1           1.53  \n",
       "32393                     1          23.10  "
      ]
     },
     "execution_count": 37,
     "metadata": {},
     "output_type": "execute_result"
    }
   ],
   "source": [
    "# Listagem de mais outro 'order_id' que contém o 'payment_sequential' 14\n",
    "payments.loc[payments['order_id'] == \"ccf804e764ed5650cd8759557269dc13\"].sort_values(by='payment_sequential')"
   ]
  },
  {
   "cell_type": "markdown",
   "metadata": {},
   "source": [
    "##### Como explicar 'payment_sequential' maior do que 5, se só há 5 formas de pagamento? \n",
    "> Veja os dois casos acima:\n",
    ">> A primeira forma de pagamento é 'credit_card'.\n",
    "\n",
    ">> Todas as subsequentes são 'voucher'.\n",
    "\n",
    ">> Mande um WhatsApp pra mim, por favor, quem achar que isso tem sentido."
   ]
  },
  {
   "cell_type": "code",
   "execution_count": 38,
   "metadata": {},
   "outputs": [
    {
     "data": {
      "text/html": [
       "<div>\n",
       "<style scoped>\n",
       "    .dataframe tbody tr th:only-of-type {\n",
       "        vertical-align: middle;\n",
       "    }\n",
       "\n",
       "    .dataframe tbody tr th {\n",
       "        vertical-align: top;\n",
       "    }\n",
       "\n",
       "    .dataframe thead th {\n",
       "        text-align: right;\n",
       "    }\n",
       "</style>\n",
       "<table border=\"1\" class=\"dataframe\">\n",
       "  <thead>\n",
       "    <tr style=\"text-align: right;\">\n",
       "      <th></th>\n",
       "      <th>order_id</th>\n",
       "      <th>payment_sequential</th>\n",
       "      <th>payment_type</th>\n",
       "      <th>payment_installments</th>\n",
       "      <th>payment_value</th>\n",
       "    </tr>\n",
       "  </thead>\n",
       "  <tbody>\n",
       "    <tr>\n",
       "      <th>7517</th>\n",
       "      <td>67d83bd36ec2c7fb557742fb58837659</td>\n",
       "      <td>9</td>\n",
       "      <td>voucher</td>\n",
       "      <td>1</td>\n",
       "      <td>8.00</td>\n",
       "    </tr>\n",
       "    <tr>\n",
       "      <th>14352</th>\n",
       "      <td>fedcd9f7ccdc8cba3a18defedd1a5547</td>\n",
       "      <td>9</td>\n",
       "      <td>voucher</td>\n",
       "      <td>1</td>\n",
       "      <td>5.30</td>\n",
       "    </tr>\n",
       "    <tr>\n",
       "      <th>16744</th>\n",
       "      <td>d2e18fcf7ecfd667af457a9e7034c86a</td>\n",
       "      <td>9</td>\n",
       "      <td>voucher</td>\n",
       "      <td>1</td>\n",
       "      <td>20.45</td>\n",
       "    </tr>\n",
       "    <tr>\n",
       "      <th>17274</th>\n",
       "      <td>fa65dad1b0e818e3ccc5cb0e39231352</td>\n",
       "      <td>9</td>\n",
       "      <td>voucher</td>\n",
       "      <td>1</td>\n",
       "      <td>1.08</td>\n",
       "    </tr>\n",
       "    <tr>\n",
       "      <th>19546</th>\n",
       "      <td>bbc7d177c97f61d86a7486d86ed7a8b2</td>\n",
       "      <td>9</td>\n",
       "      <td>voucher</td>\n",
       "      <td>1</td>\n",
       "      <td>2.92</td>\n",
       "    </tr>\n",
       "  </tbody>\n",
       "</table>\n",
       "</div>"
      ],
      "text/plain": [
       "                               order_id  payment_sequential payment_type  \\\n",
       "7517   67d83bd36ec2c7fb557742fb58837659                   9      voucher   \n",
       "14352  fedcd9f7ccdc8cba3a18defedd1a5547                   9      voucher   \n",
       "16744  d2e18fcf7ecfd667af457a9e7034c86a                   9      voucher   \n",
       "17274  fa65dad1b0e818e3ccc5cb0e39231352                   9      voucher   \n",
       "19546  bbc7d177c97f61d86a7486d86ed7a8b2                   9      voucher   \n",
       "\n",
       "       payment_installments  payment_value  \n",
       "7517                      1           8.00  \n",
       "14352                     1           5.30  \n",
       "16744                     1          20.45  \n",
       "17274                     1           1.08  \n",
       "19546                     1           2.92  "
      ]
     },
     "execution_count": 38,
     "metadata": {},
     "output_type": "execute_result"
    }
   ],
   "source": [
    "# Mais uns exemplos: listagem dos 5 primeiros 'order_id' que contêm o 'payment_sequential' 9\n",
    "payments.loc[payments['payment_sequential'] == 9].head()"
   ]
  },
  {
   "cell_type": "code",
   "execution_count": 39,
   "metadata": {},
   "outputs": [
    {
     "data": {
      "text/html": [
       "<div>\n",
       "<style scoped>\n",
       "    .dataframe tbody tr th:only-of-type {\n",
       "        vertical-align: middle;\n",
       "    }\n",
       "\n",
       "    .dataframe tbody tr th {\n",
       "        vertical-align: top;\n",
       "    }\n",
       "\n",
       "    .dataframe thead th {\n",
       "        text-align: right;\n",
       "    }\n",
       "</style>\n",
       "<table border=\"1\" class=\"dataframe\">\n",
       "  <thead>\n",
       "    <tr style=\"text-align: right;\">\n",
       "      <th></th>\n",
       "      <th>order_id</th>\n",
       "      <th>payment_sequential</th>\n",
       "      <th>payment_type</th>\n",
       "      <th>payment_installments</th>\n",
       "      <th>payment_value</th>\n",
       "    </tr>\n",
       "  </thead>\n",
       "  <tbody>\n",
       "    <tr>\n",
       "      <th>14524</th>\n",
       "      <td>67d83bd36ec2c7fb557742fb58837659</td>\n",
       "      <td>1</td>\n",
       "      <td>voucher</td>\n",
       "      <td>1</td>\n",
       "      <td>8.03</td>\n",
       "    </tr>\n",
       "    <tr>\n",
       "      <th>27698</th>\n",
       "      <td>67d83bd36ec2c7fb557742fb58837659</td>\n",
       "      <td>2</td>\n",
       "      <td>voucher</td>\n",
       "      <td>1</td>\n",
       "      <td>8.00</td>\n",
       "    </tr>\n",
       "    <tr>\n",
       "      <th>40179</th>\n",
       "      <td>67d83bd36ec2c7fb557742fb58837659</td>\n",
       "      <td>3</td>\n",
       "      <td>voucher</td>\n",
       "      <td>1</td>\n",
       "      <td>8.00</td>\n",
       "    </tr>\n",
       "    <tr>\n",
       "      <th>66630</th>\n",
       "      <td>67d83bd36ec2c7fb557742fb58837659</td>\n",
       "      <td>4</td>\n",
       "      <td>voucher</td>\n",
       "      <td>1</td>\n",
       "      <td>8.00</td>\n",
       "    </tr>\n",
       "    <tr>\n",
       "      <th>48507</th>\n",
       "      <td>67d83bd36ec2c7fb557742fb58837659</td>\n",
       "      <td>5</td>\n",
       "      <td>voucher</td>\n",
       "      <td>1</td>\n",
       "      <td>8.00</td>\n",
       "    </tr>\n",
       "    <tr>\n",
       "      <th>9801</th>\n",
       "      <td>67d83bd36ec2c7fb557742fb58837659</td>\n",
       "      <td>6</td>\n",
       "      <td>voucher</td>\n",
       "      <td>1</td>\n",
       "      <td>8.00</td>\n",
       "    </tr>\n",
       "    <tr>\n",
       "      <th>6361</th>\n",
       "      <td>67d83bd36ec2c7fb557742fb58837659</td>\n",
       "      <td>7</td>\n",
       "      <td>voucher</td>\n",
       "      <td>1</td>\n",
       "      <td>1.27</td>\n",
       "    </tr>\n",
       "    <tr>\n",
       "      <th>81984</th>\n",
       "      <td>67d83bd36ec2c7fb557742fb58837659</td>\n",
       "      <td>8</td>\n",
       "      <td>voucher</td>\n",
       "      <td>1</td>\n",
       "      <td>8.00</td>\n",
       "    </tr>\n",
       "    <tr>\n",
       "      <th>7517</th>\n",
       "      <td>67d83bd36ec2c7fb557742fb58837659</td>\n",
       "      <td>9</td>\n",
       "      <td>voucher</td>\n",
       "      <td>1</td>\n",
       "      <td>8.00</td>\n",
       "    </tr>\n",
       "    <tr>\n",
       "      <th>18880</th>\n",
       "      <td>67d83bd36ec2c7fb557742fb58837659</td>\n",
       "      <td>10</td>\n",
       "      <td>voucher</td>\n",
       "      <td>1</td>\n",
       "      <td>0.74</td>\n",
       "    </tr>\n",
       "    <tr>\n",
       "      <th>29990</th>\n",
       "      <td>67d83bd36ec2c7fb557742fb58837659</td>\n",
       "      <td>11</td>\n",
       "      <td>voucher</td>\n",
       "      <td>1</td>\n",
       "      <td>4.00</td>\n",
       "    </tr>\n",
       "    <tr>\n",
       "      <th>76168</th>\n",
       "      <td>67d83bd36ec2c7fb557742fb58837659</td>\n",
       "      <td>12</td>\n",
       "      <td>voucher</td>\n",
       "      <td>1</td>\n",
       "      <td>2.13</td>\n",
       "    </tr>\n",
       "  </tbody>\n",
       "</table>\n",
       "</div>"
      ],
      "text/plain": [
       "                               order_id  payment_sequential payment_type  \\\n",
       "14524  67d83bd36ec2c7fb557742fb58837659                   1      voucher   \n",
       "27698  67d83bd36ec2c7fb557742fb58837659                   2      voucher   \n",
       "40179  67d83bd36ec2c7fb557742fb58837659                   3      voucher   \n",
       "66630  67d83bd36ec2c7fb557742fb58837659                   4      voucher   \n",
       "48507  67d83bd36ec2c7fb557742fb58837659                   5      voucher   \n",
       "9801   67d83bd36ec2c7fb557742fb58837659                   6      voucher   \n",
       "6361   67d83bd36ec2c7fb557742fb58837659                   7      voucher   \n",
       "81984  67d83bd36ec2c7fb557742fb58837659                   8      voucher   \n",
       "7517   67d83bd36ec2c7fb557742fb58837659                   9      voucher   \n",
       "18880  67d83bd36ec2c7fb557742fb58837659                  10      voucher   \n",
       "29990  67d83bd36ec2c7fb557742fb58837659                  11      voucher   \n",
       "76168  67d83bd36ec2c7fb557742fb58837659                  12      voucher   \n",
       "\n",
       "       payment_installments  payment_value  \n",
       "14524                     1           8.03  \n",
       "27698                     1           8.00  \n",
       "40179                     1           8.00  \n",
       "66630                     1           8.00  \n",
       "48507                     1           8.00  \n",
       "9801                      1           8.00  \n",
       "6361                      1           1.27  \n",
       "81984                     1           8.00  \n",
       "7517                      1           8.00  \n",
       "18880                     1           0.74  \n",
       "29990                     1           4.00  \n",
       "76168                     1           2.13  "
      ]
     },
     "execution_count": 39,
     "metadata": {},
     "output_type": "execute_result"
    }
   ],
   "source": [
    "# Listagem de um 'order_id' que contém o 'payment_sequential' 9\n",
    "payments.loc[payments['order_id'] == \"67d83bd36ec2c7fb557742fb58837659\"].sort_values(by='payment_sequential')"
   ]
  },
  {
   "cell_type": "code",
   "execution_count": 40,
   "metadata": {},
   "outputs": [
    {
     "data": {
      "text/html": [
       "<div>\n",
       "<style scoped>\n",
       "    .dataframe tbody tr th:only-of-type {\n",
       "        vertical-align: middle;\n",
       "    }\n",
       "\n",
       "    .dataframe tbody tr th {\n",
       "        vertical-align: top;\n",
       "    }\n",
       "\n",
       "    .dataframe thead th {\n",
       "        text-align: right;\n",
       "    }\n",
       "</style>\n",
       "<table border=\"1\" class=\"dataframe\">\n",
       "  <thead>\n",
       "    <tr style=\"text-align: right;\">\n",
       "      <th></th>\n",
       "      <th>order_id</th>\n",
       "      <th>payment_sequential</th>\n",
       "      <th>payment_type</th>\n",
       "      <th>payment_installments</th>\n",
       "      <th>payment_value</th>\n",
       "    </tr>\n",
       "  </thead>\n",
       "  <tbody>\n",
       "    <tr>\n",
       "      <th>9665</th>\n",
       "      <td>fedcd9f7ccdc8cba3a18defedd1a5547</td>\n",
       "      <td>1</td>\n",
       "      <td>credit_card</td>\n",
       "      <td>1</td>\n",
       "      <td>1.67</td>\n",
       "    </tr>\n",
       "    <tr>\n",
       "      <th>27087</th>\n",
       "      <td>fedcd9f7ccdc8cba3a18defedd1a5547</td>\n",
       "      <td>2</td>\n",
       "      <td>voucher</td>\n",
       "      <td>1</td>\n",
       "      <td>7.76</td>\n",
       "    </tr>\n",
       "    <tr>\n",
       "      <th>87783</th>\n",
       "      <td>fedcd9f7ccdc8cba3a18defedd1a5547</td>\n",
       "      <td>3</td>\n",
       "      <td>voucher</td>\n",
       "      <td>1</td>\n",
       "      <td>26.94</td>\n",
       "    </tr>\n",
       "    <tr>\n",
       "      <th>45197</th>\n",
       "      <td>fedcd9f7ccdc8cba3a18defedd1a5547</td>\n",
       "      <td>4</td>\n",
       "      <td>voucher</td>\n",
       "      <td>1</td>\n",
       "      <td>10.33</td>\n",
       "    </tr>\n",
       "    <tr>\n",
       "      <th>36869</th>\n",
       "      <td>fedcd9f7ccdc8cba3a18defedd1a5547</td>\n",
       "      <td>5</td>\n",
       "      <td>voucher</td>\n",
       "      <td>1</td>\n",
       "      <td>9.76</td>\n",
       "    </tr>\n",
       "    <tr>\n",
       "      <th>103569</th>\n",
       "      <td>fedcd9f7ccdc8cba3a18defedd1a5547</td>\n",
       "      <td>6</td>\n",
       "      <td>voucher</td>\n",
       "      <td>1</td>\n",
       "      <td>8.60</td>\n",
       "    </tr>\n",
       "    <tr>\n",
       "      <th>95493</th>\n",
       "      <td>fedcd9f7ccdc8cba3a18defedd1a5547</td>\n",
       "      <td>7</td>\n",
       "      <td>voucher</td>\n",
       "      <td>1</td>\n",
       "      <td>11.78</td>\n",
       "    </tr>\n",
       "    <tr>\n",
       "      <th>15930</th>\n",
       "      <td>fedcd9f7ccdc8cba3a18defedd1a5547</td>\n",
       "      <td>8</td>\n",
       "      <td>voucher</td>\n",
       "      <td>1</td>\n",
       "      <td>31.43</td>\n",
       "    </tr>\n",
       "    <tr>\n",
       "      <th>14352</th>\n",
       "      <td>fedcd9f7ccdc8cba3a18defedd1a5547</td>\n",
       "      <td>9</td>\n",
       "      <td>voucher</td>\n",
       "      <td>1</td>\n",
       "      <td>5.30</td>\n",
       "    </tr>\n",
       "    <tr>\n",
       "      <th>44641</th>\n",
       "      <td>fedcd9f7ccdc8cba3a18defedd1a5547</td>\n",
       "      <td>10</td>\n",
       "      <td>voucher</td>\n",
       "      <td>1</td>\n",
       "      <td>13.27</td>\n",
       "    </tr>\n",
       "    <tr>\n",
       "      <th>15264</th>\n",
       "      <td>fedcd9f7ccdc8cba3a18defedd1a5547</td>\n",
       "      <td>11</td>\n",
       "      <td>voucher</td>\n",
       "      <td>1</td>\n",
       "      <td>8.42</td>\n",
       "    </tr>\n",
       "    <tr>\n",
       "      <th>62558</th>\n",
       "      <td>fedcd9f7ccdc8cba3a18defedd1a5547</td>\n",
       "      <td>12</td>\n",
       "      <td>voucher</td>\n",
       "      <td>1</td>\n",
       "      <td>9.76</td>\n",
       "    </tr>\n",
       "    <tr>\n",
       "      <th>32396</th>\n",
       "      <td>fedcd9f7ccdc8cba3a18defedd1a5547</td>\n",
       "      <td>13</td>\n",
       "      <td>voucher</td>\n",
       "      <td>1</td>\n",
       "      <td>5.84</td>\n",
       "    </tr>\n",
       "    <tr>\n",
       "      <th>18175</th>\n",
       "      <td>fedcd9f7ccdc8cba3a18defedd1a5547</td>\n",
       "      <td>14</td>\n",
       "      <td>voucher</td>\n",
       "      <td>1</td>\n",
       "      <td>7.63</td>\n",
       "    </tr>\n",
       "    <tr>\n",
       "      <th>7548</th>\n",
       "      <td>fedcd9f7ccdc8cba3a18defedd1a5547</td>\n",
       "      <td>15</td>\n",
       "      <td>voucher</td>\n",
       "      <td>1</td>\n",
       "      <td>10.66</td>\n",
       "    </tr>\n",
       "    <tr>\n",
       "      <th>64520</th>\n",
       "      <td>fedcd9f7ccdc8cba3a18defedd1a5547</td>\n",
       "      <td>16</td>\n",
       "      <td>voucher</td>\n",
       "      <td>1</td>\n",
       "      <td>9.54</td>\n",
       "    </tr>\n",
       "    <tr>\n",
       "      <th>48288</th>\n",
       "      <td>fedcd9f7ccdc8cba3a18defedd1a5547</td>\n",
       "      <td>17</td>\n",
       "      <td>voucher</td>\n",
       "      <td>1</td>\n",
       "      <td>7.51</td>\n",
       "    </tr>\n",
       "    <tr>\n",
       "      <th>87292</th>\n",
       "      <td>fedcd9f7ccdc8cba3a18defedd1a5547</td>\n",
       "      <td>18</td>\n",
       "      <td>voucher</td>\n",
       "      <td>1</td>\n",
       "      <td>11.12</td>\n",
       "    </tr>\n",
       "    <tr>\n",
       "      <th>35657</th>\n",
       "      <td>fedcd9f7ccdc8cba3a18defedd1a5547</td>\n",
       "      <td>19</td>\n",
       "      <td>voucher</td>\n",
       "      <td>1</td>\n",
       "      <td>8.42</td>\n",
       "    </tr>\n",
       "  </tbody>\n",
       "</table>\n",
       "</div>"
      ],
      "text/plain": [
       "                                order_id  payment_sequential payment_type  \\\n",
       "9665    fedcd9f7ccdc8cba3a18defedd1a5547                   1  credit_card   \n",
       "27087   fedcd9f7ccdc8cba3a18defedd1a5547                   2      voucher   \n",
       "87783   fedcd9f7ccdc8cba3a18defedd1a5547                   3      voucher   \n",
       "45197   fedcd9f7ccdc8cba3a18defedd1a5547                   4      voucher   \n",
       "36869   fedcd9f7ccdc8cba3a18defedd1a5547                   5      voucher   \n",
       "103569  fedcd9f7ccdc8cba3a18defedd1a5547                   6      voucher   \n",
       "95493   fedcd9f7ccdc8cba3a18defedd1a5547                   7      voucher   \n",
       "15930   fedcd9f7ccdc8cba3a18defedd1a5547                   8      voucher   \n",
       "14352   fedcd9f7ccdc8cba3a18defedd1a5547                   9      voucher   \n",
       "44641   fedcd9f7ccdc8cba3a18defedd1a5547                  10      voucher   \n",
       "15264   fedcd9f7ccdc8cba3a18defedd1a5547                  11      voucher   \n",
       "62558   fedcd9f7ccdc8cba3a18defedd1a5547                  12      voucher   \n",
       "32396   fedcd9f7ccdc8cba3a18defedd1a5547                  13      voucher   \n",
       "18175   fedcd9f7ccdc8cba3a18defedd1a5547                  14      voucher   \n",
       "7548    fedcd9f7ccdc8cba3a18defedd1a5547                  15      voucher   \n",
       "64520   fedcd9f7ccdc8cba3a18defedd1a5547                  16      voucher   \n",
       "48288   fedcd9f7ccdc8cba3a18defedd1a5547                  17      voucher   \n",
       "87292   fedcd9f7ccdc8cba3a18defedd1a5547                  18      voucher   \n",
       "35657   fedcd9f7ccdc8cba3a18defedd1a5547                  19      voucher   \n",
       "\n",
       "        payment_installments  payment_value  \n",
       "9665                       1           1.67  \n",
       "27087                      1           7.76  \n",
       "87783                      1          26.94  \n",
       "45197                      1          10.33  \n",
       "36869                      1           9.76  \n",
       "103569                     1           8.60  \n",
       "95493                      1          11.78  \n",
       "15930                      1          31.43  \n",
       "14352                      1           5.30  \n",
       "44641                      1          13.27  \n",
       "15264                      1           8.42  \n",
       "62558                      1           9.76  \n",
       "32396                      1           5.84  \n",
       "18175                      1           7.63  \n",
       "7548                       1          10.66  \n",
       "64520                      1           9.54  \n",
       "48288                      1           7.51  \n",
       "87292                      1          11.12  \n",
       "35657                      1           8.42  "
      ]
     },
     "execution_count": 40,
     "metadata": {},
     "output_type": "execute_result"
    }
   ],
   "source": [
    "# 1d251ab94983c4adb11e4b168abb1439\n",
    "# fedcd9f7ccdc8cba3a18defedd1a5547\n",
    "# 736e1922ae60d0d6a89247b851902527\n",
    "# Listagem de outro 'order_id' que contém o 'payment_sequential' 9\n",
    "payments.loc[payments['order_id'] == \"fedcd9f7ccdc8cba3a18defedd1a5547\"].sort_values(by='payment_sequential')"
   ]
  },
  {
   "cell_type": "markdown",
   "metadata": {},
   "source": [
    "###### Incrível.\n",
    "> Mesmo efeito: um monte de 'payment_sequential' de voucher. Não faz sentido!"
   ]
  },
  {
   "cell_type": "markdown",
   "metadata": {},
   "source": [
    "#### Sobre as repetições de 'payment_type'.  \n",
    "A explicação que encontro (não recebi WhatsApp algum) é que o cliente pagou com 18 vouchers a compra acima e completou o valor o credit_card.  \n",
    "E nosso Olist Database optou por criar um registro para cada voucher, ao invés de criar uma coluna com a contagem.  \n",
    "Talvez precise voltar na tabela <font color=red>\"Itens\"</font> para rever as deleções que fizemos.  \n",
    ":("
   ]
  },
  {
   "cell_type": "markdown",
   "metadata": {},
   "source": [
    "##### 4.2.2b - Como usar essa configuração de dados"
   ]
  },
  {
   "cell_type": "code",
   "execution_count": 41,
   "metadata": {},
   "outputs": [
    {
     "data": {
      "text/plain": [
       "103886"
      ]
     },
     "execution_count": 41,
     "metadata": {},
     "output_type": "execute_result"
    }
   ],
   "source": [
    "# Qual a chave primária da tabela \"payments\"?\n",
    "# Vamos deletar duplicados da concatenação de 'order_id' com 'payment_sequential' (Se não houver deleção, eis a chave primária)\n",
    "len(payments.drop_duplicates (subset=['order_id', 'payment_sequential']))"
   ]
  },
  {
   "cell_type": "markdown",
   "metadata": {},
   "source": [
    "###### Pronto: a chave primária da tabela <font color=red>\"payment\"</font> é a concatenação de 'order_id' e de 'payment_sequential'\n",
    "> Mas pra que quero um 'payment_sequential' irreal?"
   ]
  },
  {
   "cell_type": "markdown",
   "metadata": {},
   "source": [
    "###### O ímpeto inicial é deletar a coluna 'payment_sequential'\n",
    "> O que vou perder?\n",
    ">> a. Perco o modo de pagamento, que pode ser significativo em uma classificação, que é o objetivo desse trabalho.  \n",
    ">> b. Também perco o valor do pagamento.\n",
    "\n",
    "\n",
    "> O que fazer para não perder essas informações?  \n",
    ">> 1 - Eliminar as redundâncias de voucher. Ou  \n",
    ">> 2 - Exceto pelo campo 'order_id', transformar as instâncias dos campos em outros campos que indiquem quantidade das instâncias.\n",
    "\n",
    "> 1 é mais fácil e rápido. Mas 2 é o certo (e mais demorado)."
   ]
  },
  {
   "cell_type": "markdown",
   "metadata": {},
   "source": [
    "##### <font color=magenta>RESOLUÇÃO</font> sobre como usar essa configuração de dados \n",
    "> Criaremos os seguintes campos (para serem associados a cada 'order_id'):\n",
    ">> 1. Qtde de boleto  \n",
    "2. Qtde de credit_card  \n",
    "3. Qtde de debit_card  \n",
    "4. Qtde de not_defined  \n",
    "5. Qtde de voucher  \n",
    "6. Qtde de Installments  \n",
    "7. Soma de Payment_value\n",
    "\n",
    "> E desprezaremos os campos 'payment_sequential', 'payment_type', 'payment_installments' e 'payment_value'"
   ]
  },
  {
   "cell_type": "code",
   "execution_count": 42,
   "metadata": {},
   "outputs": [
    {
     "data": {
      "text/html": [
       "<img src=\"cinco tabelas - inclui payments.bmp\"/>"
      ],
      "text/plain": [
       "<IPython.core.display.Image object>"
      ]
     },
     "execution_count": 42,
     "metadata": {},
     "output_type": "execute_result"
    }
   ],
   "source": [
    "# Configuração atual ANTES da implementação da resolução.\n",
    "Image (url = \"cinco tabelas - inclui payments.bmp\")"
   ]
  },
  {
   "cell_type": "markdown",
   "metadata": {},
   "source": [
    "##### 4.2.2c - PREPARAÇÃO da implementação da criação de colunas novas na tabela <font color=red>\"payments\" </font>\n",
    "> Criarei uma tabela para cada um dos campos a serem criados.  "
   ]
  },
  {
   "cell_type": "code",
   "execution_count": 43,
   "metadata": {},
   "outputs": [
    {
     "data": {
      "text/plain": [
       "(103886, 5)"
      ]
     },
     "execution_count": 43,
     "metadata": {},
     "output_type": "execute_result"
    }
   ],
   "source": [
    "payments.shape"
   ]
  },
  {
   "cell_type": "markdown",
   "metadata": {},
   "source": [
    "                                          1. Qtde de 'boleto'"
   ]
  },
  {
   "cell_type": "code",
   "execution_count": 44,
   "metadata": {},
   "outputs": [],
   "source": [
    "# seleciona 'order_id' cujo 'payment_type' = 'boleto'\n",
    "payments_somente_boleto = payments.loc[payments['payment_type']=='boleto']"
   ]
  },
  {
   "cell_type": "code",
   "execution_count": 45,
   "metadata": {},
   "outputs": [
    {
     "data": {
      "text/html": [
       "<div>\n",
       "<style scoped>\n",
       "    .dataframe tbody tr th:only-of-type {\n",
       "        vertical-align: middle;\n",
       "    }\n",
       "\n",
       "    .dataframe tbody tr th {\n",
       "        vertical-align: top;\n",
       "    }\n",
       "\n",
       "    .dataframe thead th {\n",
       "        text-align: right;\n",
       "    }\n",
       "</style>\n",
       "<table border=\"1\" class=\"dataframe\">\n",
       "  <thead>\n",
       "    <tr style=\"text-align: right;\">\n",
       "      <th></th>\n",
       "      <th>order_id</th>\n",
       "      <th>payment_sequential</th>\n",
       "      <th>payment_type</th>\n",
       "      <th>payment_installments</th>\n",
       "      <th>payment_value</th>\n",
       "    </tr>\n",
       "  </thead>\n",
       "  <tbody>\n",
       "    <tr>\n",
       "      <th>9</th>\n",
       "      <td>0573b5e23cbd798006520e1d5b4c6714</td>\n",
       "      <td>1</td>\n",
       "      <td>boleto</td>\n",
       "      <td>1</td>\n",
       "      <td>51.95</td>\n",
       "    </tr>\n",
       "    <tr>\n",
       "      <th>24</th>\n",
       "      <td>8cd68144cdb62dc0d60848cf8616d2a4</td>\n",
       "      <td>1</td>\n",
       "      <td>boleto</td>\n",
       "      <td>1</td>\n",
       "      <td>330.66</td>\n",
       "    </tr>\n",
       "    <tr>\n",
       "      <th>29</th>\n",
       "      <td>b69b9260e79a0da00e15f48de1bd2524</td>\n",
       "      <td>1</td>\n",
       "      <td>boleto</td>\n",
       "      <td>1</td>\n",
       "      <td>283.34</td>\n",
       "    </tr>\n",
       "    <tr>\n",
       "      <th>39</th>\n",
       "      <td>00d8d65b666158b633f96054d31af43b</td>\n",
       "      <td>1</td>\n",
       "      <td>boleto</td>\n",
       "      <td>1</td>\n",
       "      <td>130.88</td>\n",
       "    </tr>\n",
       "    <tr>\n",
       "      <th>42</th>\n",
       "      <td>32b1d8f3789a57f1f752e20ac7404b4c</td>\n",
       "      <td>1</td>\n",
       "      <td>boleto</td>\n",
       "      <td>1</td>\n",
       "      <td>56.60</td>\n",
       "    </tr>\n",
       "  </tbody>\n",
       "</table>\n",
       "</div>"
      ],
      "text/plain": [
       "                            order_id  payment_sequential payment_type  \\\n",
       "9   0573b5e23cbd798006520e1d5b4c6714                   1       boleto   \n",
       "24  8cd68144cdb62dc0d60848cf8616d2a4                   1       boleto   \n",
       "29  b69b9260e79a0da00e15f48de1bd2524                   1       boleto   \n",
       "39  00d8d65b666158b633f96054d31af43b                   1       boleto   \n",
       "42  32b1d8f3789a57f1f752e20ac7404b4c                   1       boleto   \n",
       "\n",
       "    payment_installments  payment_value  \n",
       "9                      1          51.95  \n",
       "24                     1         330.66  \n",
       "29                     1         283.34  \n",
       "39                     1         130.88  \n",
       "42                     1          56.60  "
      ]
     },
     "execution_count": 45,
     "metadata": {},
     "output_type": "execute_result"
    }
   ],
   "source": [
    "payments_somente_boleto.head()"
   ]
  },
  {
   "cell_type": "code",
   "execution_count": 46,
   "metadata": {},
   "outputs": [
    {
     "data": {
      "text/plain": [
       "(19784, 5)"
      ]
     },
     "execution_count": 46,
     "metadata": {},
     "output_type": "execute_result"
    }
   ],
   "source": [
    "payments_somente_boleto.shape"
   ]
  },
  {
   "cell_type": "code",
   "execution_count": 47,
   "metadata": {},
   "outputs": [
    {
     "data": {
      "text/plain": [
       "19784"
      ]
     },
     "execution_count": 47,
     "metadata": {},
     "output_type": "execute_result"
    }
   ],
   "source": [
    "# Valores únicos de 'order_id'\n",
    "payments_somente_boleto['order_id'].nunique() # number of unique não inclui os NAN na contagem"
   ]
  },
  {
   "cell_type": "markdown",
   "metadata": {},
   "source": [
    "###### A 'não repetição' indica haver um - e somente um - boleto para cada 19.784 'order_id'.  "
   ]
  },
  {
   "cell_type": "code",
   "execution_count": 48,
   "metadata": {},
   "outputs": [],
   "source": [
    "# Mudar o nome da coluna para 'qtde_boleto'\n",
    "payments_somente_boleto.columns = ['order_id', 'payment_sequential', 'qtde_boleto', 'payment_installments', 'payment_value']"
   ]
  },
  {
   "cell_type": "code",
   "execution_count": 49,
   "metadata": {},
   "outputs": [
    {
     "data": {
      "text/html": [
       "<div>\n",
       "<style scoped>\n",
       "    .dataframe tbody tr th:only-of-type {\n",
       "        vertical-align: middle;\n",
       "    }\n",
       "\n",
       "    .dataframe tbody tr th {\n",
       "        vertical-align: top;\n",
       "    }\n",
       "\n",
       "    .dataframe thead th {\n",
       "        text-align: right;\n",
       "    }\n",
       "</style>\n",
       "<table border=\"1\" class=\"dataframe\">\n",
       "  <thead>\n",
       "    <tr style=\"text-align: right;\">\n",
       "      <th></th>\n",
       "      <th>order_id</th>\n",
       "      <th>payment_sequential</th>\n",
       "      <th>qtde_boleto</th>\n",
       "      <th>payment_installments</th>\n",
       "      <th>payment_value</th>\n",
       "    </tr>\n",
       "  </thead>\n",
       "  <tbody>\n",
       "    <tr>\n",
       "      <th>9</th>\n",
       "      <td>0573b5e23cbd798006520e1d5b4c6714</td>\n",
       "      <td>1</td>\n",
       "      <td>boleto</td>\n",
       "      <td>1</td>\n",
       "      <td>51.95</td>\n",
       "    </tr>\n",
       "    <tr>\n",
       "      <th>24</th>\n",
       "      <td>8cd68144cdb62dc0d60848cf8616d2a4</td>\n",
       "      <td>1</td>\n",
       "      <td>boleto</td>\n",
       "      <td>1</td>\n",
       "      <td>330.66</td>\n",
       "    </tr>\n",
       "    <tr>\n",
       "      <th>29</th>\n",
       "      <td>b69b9260e79a0da00e15f48de1bd2524</td>\n",
       "      <td>1</td>\n",
       "      <td>boleto</td>\n",
       "      <td>1</td>\n",
       "      <td>283.34</td>\n",
       "    </tr>\n",
       "    <tr>\n",
       "      <th>39</th>\n",
       "      <td>00d8d65b666158b633f96054d31af43b</td>\n",
       "      <td>1</td>\n",
       "      <td>boleto</td>\n",
       "      <td>1</td>\n",
       "      <td>130.88</td>\n",
       "    </tr>\n",
       "    <tr>\n",
       "      <th>42</th>\n",
       "      <td>32b1d8f3789a57f1f752e20ac7404b4c</td>\n",
       "      <td>1</td>\n",
       "      <td>boleto</td>\n",
       "      <td>1</td>\n",
       "      <td>56.60</td>\n",
       "    </tr>\n",
       "  </tbody>\n",
       "</table>\n",
       "</div>"
      ],
      "text/plain": [
       "                            order_id  payment_sequential qtde_boleto  \\\n",
       "9   0573b5e23cbd798006520e1d5b4c6714                   1      boleto   \n",
       "24  8cd68144cdb62dc0d60848cf8616d2a4                   1      boleto   \n",
       "29  b69b9260e79a0da00e15f48de1bd2524                   1      boleto   \n",
       "39  00d8d65b666158b633f96054d31af43b                   1      boleto   \n",
       "42  32b1d8f3789a57f1f752e20ac7404b4c                   1      boleto   \n",
       "\n",
       "    payment_installments  payment_value  \n",
       "9                      1          51.95  \n",
       "24                     1         330.66  \n",
       "29                     1         283.34  \n",
       "39                     1         130.88  \n",
       "42                     1          56.60  "
      ]
     },
     "execution_count": 49,
     "metadata": {},
     "output_type": "execute_result"
    }
   ],
   "source": [
    "payments_somente_boleto.head()"
   ]
  },
  {
   "cell_type": "code",
   "execution_count": 50,
   "metadata": {},
   "outputs": [],
   "source": [
    "# substituir 'boleto' pelo algarismo '1'.\n",
    "payments_somente_boleto = payments_somente_boleto.apply(lambda x: x.replace('boleto', 1))"
   ]
  },
  {
   "cell_type": "code",
   "execution_count": 51,
   "metadata": {},
   "outputs": [
    {
     "data": {
      "text/html": [
       "<div>\n",
       "<style scoped>\n",
       "    .dataframe tbody tr th:only-of-type {\n",
       "        vertical-align: middle;\n",
       "    }\n",
       "\n",
       "    .dataframe tbody tr th {\n",
       "        vertical-align: top;\n",
       "    }\n",
       "\n",
       "    .dataframe thead th {\n",
       "        text-align: right;\n",
       "    }\n",
       "</style>\n",
       "<table border=\"1\" class=\"dataframe\">\n",
       "  <thead>\n",
       "    <tr style=\"text-align: right;\">\n",
       "      <th></th>\n",
       "      <th>order_id</th>\n",
       "      <th>payment_sequential</th>\n",
       "      <th>qtde_boleto</th>\n",
       "      <th>payment_installments</th>\n",
       "      <th>payment_value</th>\n",
       "    </tr>\n",
       "  </thead>\n",
       "  <tbody>\n",
       "    <tr>\n",
       "      <th>9</th>\n",
       "      <td>0573b5e23cbd798006520e1d5b4c6714</td>\n",
       "      <td>1</td>\n",
       "      <td>1</td>\n",
       "      <td>1</td>\n",
       "      <td>51.95</td>\n",
       "    </tr>\n",
       "    <tr>\n",
       "      <th>24</th>\n",
       "      <td>8cd68144cdb62dc0d60848cf8616d2a4</td>\n",
       "      <td>1</td>\n",
       "      <td>1</td>\n",
       "      <td>1</td>\n",
       "      <td>330.66</td>\n",
       "    </tr>\n",
       "    <tr>\n",
       "      <th>29</th>\n",
       "      <td>b69b9260e79a0da00e15f48de1bd2524</td>\n",
       "      <td>1</td>\n",
       "      <td>1</td>\n",
       "      <td>1</td>\n",
       "      <td>283.34</td>\n",
       "    </tr>\n",
       "    <tr>\n",
       "      <th>39</th>\n",
       "      <td>00d8d65b666158b633f96054d31af43b</td>\n",
       "      <td>1</td>\n",
       "      <td>1</td>\n",
       "      <td>1</td>\n",
       "      <td>130.88</td>\n",
       "    </tr>\n",
       "    <tr>\n",
       "      <th>42</th>\n",
       "      <td>32b1d8f3789a57f1f752e20ac7404b4c</td>\n",
       "      <td>1</td>\n",
       "      <td>1</td>\n",
       "      <td>1</td>\n",
       "      <td>56.60</td>\n",
       "    </tr>\n",
       "  </tbody>\n",
       "</table>\n",
       "</div>"
      ],
      "text/plain": [
       "                            order_id  payment_sequential  qtde_boleto  \\\n",
       "9   0573b5e23cbd798006520e1d5b4c6714                   1            1   \n",
       "24  8cd68144cdb62dc0d60848cf8616d2a4                   1            1   \n",
       "29  b69b9260e79a0da00e15f48de1bd2524                   1            1   \n",
       "39  00d8d65b666158b633f96054d31af43b                   1            1   \n",
       "42  32b1d8f3789a57f1f752e20ac7404b4c                   1            1   \n",
       "\n",
       "    payment_installments  payment_value  \n",
       "9                      1          51.95  \n",
       "24                     1         330.66  \n",
       "29                     1         283.34  \n",
       "39                     1         130.88  \n",
       "42                     1          56.60  "
      ]
     },
     "execution_count": 51,
     "metadata": {},
     "output_type": "execute_result"
    }
   ],
   "source": [
    "payments_somente_boleto.head()"
   ]
  },
  {
   "cell_type": "code",
   "execution_count": 52,
   "metadata": {},
   "outputs": [
    {
     "data": {
      "text/plain": [
       "(19784, 5)"
      ]
     },
     "execution_count": 52,
     "metadata": {},
     "output_type": "execute_result"
    }
   ],
   "source": [
    "payments_somente_boleto.shape"
   ]
  },
  {
   "cell_type": "code",
   "execution_count": 53,
   "metadata": {},
   "outputs": [
    {
     "data": {
      "text/plain": [
       "19784"
      ]
     },
     "execution_count": 53,
     "metadata": {},
     "output_type": "execute_result"
    }
   ],
   "source": [
    "# Valores únicos de 'order_id'\n",
    "payments_somente_boleto['order_id'].nunique() # number of unique não inclui os NAN na contagem"
   ]
  },
  {
   "cell_type": "markdown",
   "metadata": {},
   "source": [
    "###### DataFrame <font color=red>\"payments_somente_boleto\"</font> pronto para join"
   ]
  },
  {
   "cell_type": "markdown",
   "metadata": {},
   "source": [
    "                                          2. Qtde de 'credit_card'"
   ]
  },
  {
   "cell_type": "code",
   "execution_count": 54,
   "metadata": {},
   "outputs": [],
   "source": [
    "# seleciona 'order_id' cujo 'payment_type' = 'credit_card'\n",
    "payments_somente_credit_card = payments.loc[payments['payment_type']=='credit_card']"
   ]
  },
  {
   "cell_type": "code",
   "execution_count": 55,
   "metadata": {},
   "outputs": [
    {
     "data": {
      "text/plain": [
       "(76795, 5)"
      ]
     },
     "execution_count": 55,
     "metadata": {},
     "output_type": "execute_result"
    }
   ],
   "source": [
    "payments_somente_credit_card.shape"
   ]
  },
  {
   "cell_type": "code",
   "execution_count": 56,
   "metadata": {},
   "outputs": [
    {
     "data": {
      "text/html": [
       "<div>\n",
       "<style scoped>\n",
       "    .dataframe tbody tr th:only-of-type {\n",
       "        vertical-align: middle;\n",
       "    }\n",
       "\n",
       "    .dataframe tbody tr th {\n",
       "        vertical-align: top;\n",
       "    }\n",
       "\n",
       "    .dataframe thead th {\n",
       "        text-align: right;\n",
       "    }\n",
       "</style>\n",
       "<table border=\"1\" class=\"dataframe\">\n",
       "  <thead>\n",
       "    <tr style=\"text-align: right;\">\n",
       "      <th></th>\n",
       "      <th>order_id</th>\n",
       "      <th>payment_sequential</th>\n",
       "      <th>payment_type</th>\n",
       "      <th>payment_installments</th>\n",
       "      <th>payment_value</th>\n",
       "    </tr>\n",
       "  </thead>\n",
       "  <tbody>\n",
       "    <tr>\n",
       "      <th>0</th>\n",
       "      <td>b81ef226f3fe1789b1e8b2acac839d17</td>\n",
       "      <td>1</td>\n",
       "      <td>credit_card</td>\n",
       "      <td>8</td>\n",
       "      <td>99.33</td>\n",
       "    </tr>\n",
       "    <tr>\n",
       "      <th>1</th>\n",
       "      <td>a9810da82917af2d9aefd1278f1dcfa0</td>\n",
       "      <td>1</td>\n",
       "      <td>credit_card</td>\n",
       "      <td>1</td>\n",
       "      <td>24.39</td>\n",
       "    </tr>\n",
       "    <tr>\n",
       "      <th>2</th>\n",
       "      <td>25e8ea4e93396b6fa0d3dd708e76c1bd</td>\n",
       "      <td>1</td>\n",
       "      <td>credit_card</td>\n",
       "      <td>1</td>\n",
       "      <td>65.71</td>\n",
       "    </tr>\n",
       "    <tr>\n",
       "      <th>3</th>\n",
       "      <td>ba78997921bbcdc1373bb41e913ab953</td>\n",
       "      <td>1</td>\n",
       "      <td>credit_card</td>\n",
       "      <td>8</td>\n",
       "      <td>107.78</td>\n",
       "    </tr>\n",
       "    <tr>\n",
       "      <th>4</th>\n",
       "      <td>42fdf880ba16b47b59251dd489d4441a</td>\n",
       "      <td>1</td>\n",
       "      <td>credit_card</td>\n",
       "      <td>2</td>\n",
       "      <td>128.45</td>\n",
       "    </tr>\n",
       "  </tbody>\n",
       "</table>\n",
       "</div>"
      ],
      "text/plain": [
       "                           order_id  payment_sequential payment_type  \\\n",
       "0  b81ef226f3fe1789b1e8b2acac839d17                   1  credit_card   \n",
       "1  a9810da82917af2d9aefd1278f1dcfa0                   1  credit_card   \n",
       "2  25e8ea4e93396b6fa0d3dd708e76c1bd                   1  credit_card   \n",
       "3  ba78997921bbcdc1373bb41e913ab953                   1  credit_card   \n",
       "4  42fdf880ba16b47b59251dd489d4441a                   1  credit_card   \n",
       "\n",
       "   payment_installments  payment_value  \n",
       "0                     8          99.33  \n",
       "1                     1          24.39  \n",
       "2                     1          65.71  \n",
       "3                     8         107.78  \n",
       "4                     2         128.45  "
      ]
     },
     "execution_count": 56,
     "metadata": {},
     "output_type": "execute_result"
    }
   ],
   "source": [
    "payments_somente_credit_card.head()"
   ]
  },
  {
   "cell_type": "code",
   "execution_count": 57,
   "metadata": {},
   "outputs": [
    {
     "data": {
      "text/plain": [
       "76505"
      ]
     },
     "execution_count": 57,
     "metadata": {},
     "output_type": "execute_result"
    }
   ],
   "source": [
    "# Valores únicos de 'order_id'\n",
    "payments_somente_credit_card['order_id'].nunique() # number of unique não inclui os NAN na contagem"
   ]
  },
  {
   "cell_type": "markdown",
   "metadata": {},
   "source": [
    "###### Esse número (menor do que o de registros da tabela) indica que há alguns 'order_id' que têm mais de uma instância de 'credit_card'."
   ]
  },
  {
   "cell_type": "code",
   "execution_count": 58,
   "metadata": {},
   "outputs": [
    {
     "data": {
      "text/html": [
       "<div>\n",
       "<style scoped>\n",
       "    .dataframe tbody tr th:only-of-type {\n",
       "        vertical-align: middle;\n",
       "    }\n",
       "\n",
       "    .dataframe tbody tr th {\n",
       "        vertical-align: top;\n",
       "    }\n",
       "\n",
       "    .dataframe thead th {\n",
       "        text-align: right;\n",
       "    }\n",
       "</style>\n",
       "<table border=\"1\" class=\"dataframe\">\n",
       "  <thead>\n",
       "    <tr style=\"text-align: right;\">\n",
       "      <th></th>\n",
       "      <th>payment_type</th>\n",
       "    </tr>\n",
       "    <tr>\n",
       "      <th>order_id</th>\n",
       "      <th></th>\n",
       "    </tr>\n",
       "  </thead>\n",
       "  <tbody>\n",
       "    <tr>\n",
       "      <th>ac40627fa08c6c47cdb3648f3e14901a</th>\n",
       "      <td>2</td>\n",
       "    </tr>\n",
       "    <tr>\n",
       "      <th>443038d9ed6b74bc4f7bfa679ce81bf1</th>\n",
       "      <td>2</td>\n",
       "    </tr>\n",
       "    <tr>\n",
       "      <th>d16112398f9c83cdef02abee328caadb</th>\n",
       "      <td>2</td>\n",
       "    </tr>\n",
       "    <tr>\n",
       "      <th>93185bd1aed7a10299305299fcbebf3d</th>\n",
       "      <td>2</td>\n",
       "    </tr>\n",
       "    <tr>\n",
       "      <th>442693e8e705ad1f9c91f762f0d297bc</th>\n",
       "      <td>2</td>\n",
       "    </tr>\n",
       "  </tbody>\n",
       "</table>\n",
       "</div>"
      ],
      "text/plain": [
       "                                  payment_type\n",
       "order_id                                      \n",
       "ac40627fa08c6c47cdb3648f3e14901a             2\n",
       "443038d9ed6b74bc4f7bfa679ce81bf1             2\n",
       "d16112398f9c83cdef02abee328caadb             2\n",
       "93185bd1aed7a10299305299fcbebf3d             2\n",
       "442693e8e705ad1f9c91f762f0d297bc             2"
      ]
     },
     "execution_count": 58,
     "metadata": {},
     "output_type": "execute_result"
    }
   ],
   "source": [
    "# Contagem de 'credit_card' de cada 'order_id'\n",
    "qtde_credit_card = payments_somente_credit_card.groupby('order_id')['payment_type'].count()\n",
    "\n",
    "df_qtde_credit_card = pd.DataFrame(qtde_credit_card)\n",
    "\n",
    "df_qtde_credit_card.sort_values(by='payment_type', ascending = False).head()"
   ]
  },
  {
   "cell_type": "code",
   "execution_count": 59,
   "metadata": {},
   "outputs": [
    {
     "data": {
      "text/html": [
       "<div>\n",
       "<style scoped>\n",
       "    .dataframe tbody tr th:only-of-type {\n",
       "        vertical-align: middle;\n",
       "    }\n",
       "\n",
       "    .dataframe tbody tr th {\n",
       "        vertical-align: top;\n",
       "    }\n",
       "\n",
       "    .dataframe thead th {\n",
       "        text-align: right;\n",
       "    }\n",
       "</style>\n",
       "<table border=\"1\" class=\"dataframe\">\n",
       "  <thead>\n",
       "    <tr style=\"text-align: right;\">\n",
       "      <th></th>\n",
       "      <th>order_id</th>\n",
       "      <th>payment_type</th>\n",
       "    </tr>\n",
       "  </thead>\n",
       "  <tbody>\n",
       "    <tr>\n",
       "      <th>51364</th>\n",
       "      <td>ac40627fa08c6c47cdb3648f3e14901a</td>\n",
       "      <td>2</td>\n",
       "    </tr>\n",
       "    <tr>\n",
       "      <th>20335</th>\n",
       "      <td>443038d9ed6b74bc4f7bfa679ce81bf1</td>\n",
       "      <td>2</td>\n",
       "    </tr>\n",
       "    <tr>\n",
       "      <th>62666</th>\n",
       "      <td>d16112398f9c83cdef02abee328caadb</td>\n",
       "      <td>2</td>\n",
       "    </tr>\n",
       "    <tr>\n",
       "      <th>43694</th>\n",
       "      <td>93185bd1aed7a10299305299fcbebf3d</td>\n",
       "      <td>2</td>\n",
       "    </tr>\n",
       "    <tr>\n",
       "      <th>20323</th>\n",
       "      <td>442693e8e705ad1f9c91f762f0d297bc</td>\n",
       "      <td>2</td>\n",
       "    </tr>\n",
       "  </tbody>\n",
       "</table>\n",
       "</div>"
      ],
      "text/plain": [
       "                               order_id  payment_type\n",
       "51364  ac40627fa08c6c47cdb3648f3e14901a             2\n",
       "20335  443038d9ed6b74bc4f7bfa679ce81bf1             2\n",
       "62666  d16112398f9c83cdef02abee328caadb             2\n",
       "43694  93185bd1aed7a10299305299fcbebf3d             2\n",
       "20323  442693e8e705ad1f9c91f762f0d297bc             2"
      ]
     },
     "execution_count": 59,
     "metadata": {},
     "output_type": "execute_result"
    }
   ],
   "source": [
    "# Tira 'order_id' da condição de índice.\n",
    "df_qtde_credit_card_index_resetado = df_qtde_credit_card.reset_index()\n",
    "\n",
    "df_qtde_credit_card_index_resetado.sort_values(by='payment_type', ascending = False).head()"
   ]
  },
  {
   "cell_type": "code",
   "execution_count": 60,
   "metadata": {},
   "outputs": [],
   "source": [
    "# Mudar o nome da coluna para 'qtde_credit_card'\n",
    "df_qtde_credit_card_index_resetado.columns = ['order_id', 'qtde_credit_card']"
   ]
  },
  {
   "cell_type": "code",
   "execution_count": 61,
   "metadata": {},
   "outputs": [
    {
     "data": {
      "text/html": [
       "<div>\n",
       "<style scoped>\n",
       "    .dataframe tbody tr th:only-of-type {\n",
       "        vertical-align: middle;\n",
       "    }\n",
       "\n",
       "    .dataframe tbody tr th {\n",
       "        vertical-align: top;\n",
       "    }\n",
       "\n",
       "    .dataframe thead th {\n",
       "        text-align: right;\n",
       "    }\n",
       "</style>\n",
       "<table border=\"1\" class=\"dataframe\">\n",
       "  <thead>\n",
       "    <tr style=\"text-align: right;\">\n",
       "      <th></th>\n",
       "      <th>order_id</th>\n",
       "      <th>qtde_credit_card</th>\n",
       "    </tr>\n",
       "  </thead>\n",
       "  <tbody>\n",
       "    <tr>\n",
       "      <th>51364</th>\n",
       "      <td>ac40627fa08c6c47cdb3648f3e14901a</td>\n",
       "      <td>2</td>\n",
       "    </tr>\n",
       "    <tr>\n",
       "      <th>20335</th>\n",
       "      <td>443038d9ed6b74bc4f7bfa679ce81bf1</td>\n",
       "      <td>2</td>\n",
       "    </tr>\n",
       "    <tr>\n",
       "      <th>62666</th>\n",
       "      <td>d16112398f9c83cdef02abee328caadb</td>\n",
       "      <td>2</td>\n",
       "    </tr>\n",
       "    <tr>\n",
       "      <th>43694</th>\n",
       "      <td>93185bd1aed7a10299305299fcbebf3d</td>\n",
       "      <td>2</td>\n",
       "    </tr>\n",
       "    <tr>\n",
       "      <th>20323</th>\n",
       "      <td>442693e8e705ad1f9c91f762f0d297bc</td>\n",
       "      <td>2</td>\n",
       "    </tr>\n",
       "  </tbody>\n",
       "</table>\n",
       "</div>"
      ],
      "text/plain": [
       "                               order_id  qtde_credit_card\n",
       "51364  ac40627fa08c6c47cdb3648f3e14901a                 2\n",
       "20335  443038d9ed6b74bc4f7bfa679ce81bf1                 2\n",
       "62666  d16112398f9c83cdef02abee328caadb                 2\n",
       "43694  93185bd1aed7a10299305299fcbebf3d                 2\n",
       "20323  442693e8e705ad1f9c91f762f0d297bc                 2"
      ]
     },
     "execution_count": 61,
     "metadata": {},
     "output_type": "execute_result"
    }
   ],
   "source": [
    "df_qtde_credit_card_index_resetado.sort_values(by='qtde_credit_card', ascending = False).head()"
   ]
  },
  {
   "cell_type": "code",
   "execution_count": 62,
   "metadata": {},
   "outputs": [
    {
     "data": {
      "text/plain": [
       "(76505, 2)"
      ]
     },
     "execution_count": 62,
     "metadata": {},
     "output_type": "execute_result"
    }
   ],
   "source": [
    "df_qtde_credit_card_index_resetado.shape"
   ]
  },
  {
   "cell_type": "code",
   "execution_count": 63,
   "metadata": {},
   "outputs": [
    {
     "data": {
      "text/plain": [
       "76505"
      ]
     },
     "execution_count": 63,
     "metadata": {},
     "output_type": "execute_result"
    }
   ],
   "source": [
    "df_qtde_credit_card_index_resetado['order_id'].nunique() # number of unique não inclui os NAN na contagem"
   ]
  },
  {
   "cell_type": "markdown",
   "metadata": {},
   "source": [
    "###### DataFrame <font color=red>\"df_qtde_credit_card_index_resetado\"</font> pronto para join"
   ]
  },
  {
   "cell_type": "markdown",
   "metadata": {},
   "source": [
    "                                          3. Qtde de 'debit_card'"
   ]
  },
  {
   "cell_type": "code",
   "execution_count": 64,
   "metadata": {},
   "outputs": [],
   "source": [
    "# seleciona 'order_id' cujo 'payment_type' = 'boleto'\n",
    "payments_somente_debit_card = payments.loc[payments['payment_type']=='debit_card']"
   ]
  },
  {
   "cell_type": "code",
   "execution_count": 65,
   "metadata": {},
   "outputs": [
    {
     "data": {
      "text/html": [
       "<div>\n",
       "<style scoped>\n",
       "    .dataframe tbody tr th:only-of-type {\n",
       "        vertical-align: middle;\n",
       "    }\n",
       "\n",
       "    .dataframe tbody tr th {\n",
       "        vertical-align: top;\n",
       "    }\n",
       "\n",
       "    .dataframe thead th {\n",
       "        text-align: right;\n",
       "    }\n",
       "</style>\n",
       "<table border=\"1\" class=\"dataframe\">\n",
       "  <thead>\n",
       "    <tr style=\"text-align: right;\">\n",
       "      <th></th>\n",
       "      <th>order_id</th>\n",
       "      <th>payment_sequential</th>\n",
       "      <th>payment_type</th>\n",
       "      <th>payment_installments</th>\n",
       "      <th>payment_value</th>\n",
       "    </tr>\n",
       "  </thead>\n",
       "  <tbody>\n",
       "    <tr>\n",
       "      <th>85</th>\n",
       "      <td>fa2ea4b6e84c1c0fc4f3a6d468c55183</td>\n",
       "      <td>1</td>\n",
       "      <td>debit_card</td>\n",
       "      <td>1</td>\n",
       "      <td>227.12</td>\n",
       "    </tr>\n",
       "    <tr>\n",
       "      <th>111</th>\n",
       "      <td>cf61ad2218e5c14397e7c0ba7a6a50f9</td>\n",
       "      <td>1</td>\n",
       "      <td>debit_card</td>\n",
       "      <td>1</td>\n",
       "      <td>35.14</td>\n",
       "    </tr>\n",
       "    <tr>\n",
       "      <th>239</th>\n",
       "      <td>76b8568803f110a59ece4167463a4a7e</td>\n",
       "      <td>1</td>\n",
       "      <td>debit_card</td>\n",
       "      <td>1</td>\n",
       "      <td>76.39</td>\n",
       "    </tr>\n",
       "    <tr>\n",
       "      <th>251</th>\n",
       "      <td>f553b61e2a7f6dc62c5f8de4ffb4a031</td>\n",
       "      <td>1</td>\n",
       "      <td>debit_card</td>\n",
       "      <td>1</td>\n",
       "      <td>194.91</td>\n",
       "    </tr>\n",
       "    <tr>\n",
       "      <th>252</th>\n",
       "      <td>1966886b80f14d0588adf6406afb0026</td>\n",
       "      <td>1</td>\n",
       "      <td>debit_card</td>\n",
       "      <td>1</td>\n",
       "      <td>68.89</td>\n",
       "    </tr>\n",
       "  </tbody>\n",
       "</table>\n",
       "</div>"
      ],
      "text/plain": [
       "                             order_id  payment_sequential payment_type  \\\n",
       "85   fa2ea4b6e84c1c0fc4f3a6d468c55183                   1   debit_card   \n",
       "111  cf61ad2218e5c14397e7c0ba7a6a50f9                   1   debit_card   \n",
       "239  76b8568803f110a59ece4167463a4a7e                   1   debit_card   \n",
       "251  f553b61e2a7f6dc62c5f8de4ffb4a031                   1   debit_card   \n",
       "252  1966886b80f14d0588adf6406afb0026                   1   debit_card   \n",
       "\n",
       "     payment_installments  payment_value  \n",
       "85                      1         227.12  \n",
       "111                     1          35.14  \n",
       "239                     1          76.39  \n",
       "251                     1         194.91  \n",
       "252                     1          68.89  "
      ]
     },
     "execution_count": 65,
     "metadata": {},
     "output_type": "execute_result"
    }
   ],
   "source": [
    "payments_somente_debit_card.head()"
   ]
  },
  {
   "cell_type": "code",
   "execution_count": 66,
   "metadata": {},
   "outputs": [
    {
     "data": {
      "text/plain": [
       "(1529, 5)"
      ]
     },
     "execution_count": 66,
     "metadata": {},
     "output_type": "execute_result"
    }
   ],
   "source": [
    "payments_somente_debit_card.shape"
   ]
  },
  {
   "cell_type": "code",
   "execution_count": 67,
   "metadata": {},
   "outputs": [
    {
     "data": {
      "text/plain": [
       "1528"
      ]
     },
     "execution_count": 67,
     "metadata": {},
     "output_type": "execute_result"
    }
   ],
   "source": [
    "# Valores únicos de 'order_id'\n",
    "payments_somente_debit_card['order_id'].nunique() # number of unique não inclui os NAN na contagem"
   ]
  },
  {
   "cell_type": "markdown",
   "metadata": {},
   "source": [
    "###### Há poucos 'order_id'  com mais de uma instância de 'debit_card'. \n",
    "> Mas teremos de realizar o groupby para contá-los apropriadamente."
   ]
  },
  {
   "cell_type": "code",
   "execution_count": 68,
   "metadata": {},
   "outputs": [
    {
     "data": {
      "text/html": [
       "<div>\n",
       "<style scoped>\n",
       "    .dataframe tbody tr th:only-of-type {\n",
       "        vertical-align: middle;\n",
       "    }\n",
       "\n",
       "    .dataframe tbody tr th {\n",
       "        vertical-align: top;\n",
       "    }\n",
       "\n",
       "    .dataframe thead th {\n",
       "        text-align: right;\n",
       "    }\n",
       "</style>\n",
       "<table border=\"1\" class=\"dataframe\">\n",
       "  <thead>\n",
       "    <tr style=\"text-align: right;\">\n",
       "      <th></th>\n",
       "      <th>payment_type</th>\n",
       "    </tr>\n",
       "    <tr>\n",
       "      <th>order_id</th>\n",
       "      <th></th>\n",
       "    </tr>\n",
       "  </thead>\n",
       "  <tbody>\n",
       "    <tr>\n",
       "      <th>a4431cbd79dbddaae7988ce6091cbc3c</th>\n",
       "      <td>2</td>\n",
       "    </tr>\n",
       "    <tr>\n",
       "      <th>002f16b7bc4530031b7d90f791b12d8a</th>\n",
       "      <td>1</td>\n",
       "    </tr>\n",
       "    <tr>\n",
       "      <th>ad729f060dc2a81423b87ca2845ef6a4</th>\n",
       "      <td>1</td>\n",
       "    </tr>\n",
       "    <tr>\n",
       "      <th>ae939729c93b0ecd65e284740cb48997</th>\n",
       "      <td>1</td>\n",
       "    </tr>\n",
       "    <tr>\n",
       "      <th>ae6554cd477d704040e7a5ddb5a72886</th>\n",
       "      <td>1</td>\n",
       "    </tr>\n",
       "  </tbody>\n",
       "</table>\n",
       "</div>"
      ],
      "text/plain": [
       "                                  payment_type\n",
       "order_id                                      \n",
       "a4431cbd79dbddaae7988ce6091cbc3c             2\n",
       "002f16b7bc4530031b7d90f791b12d8a             1\n",
       "ad729f060dc2a81423b87ca2845ef6a4             1\n",
       "ae939729c93b0ecd65e284740cb48997             1\n",
       "ae6554cd477d704040e7a5ddb5a72886             1"
      ]
     },
     "execution_count": 68,
     "metadata": {},
     "output_type": "execute_result"
    }
   ],
   "source": [
    "# Contagem de 'debit_card' de cada 'order_id'\n",
    "qtde_debit_card = payments_somente_debit_card.groupby('order_id')['payment_type'].count()\n",
    "\n",
    "df_qtde_debit_card = pd.DataFrame(qtde_debit_card)\n",
    "\n",
    "df_qtde_debit_card.sort_values(by='payment_type', ascending = False).head()"
   ]
  },
  {
   "cell_type": "code",
   "execution_count": 69,
   "metadata": {},
   "outputs": [
    {
     "data": {
      "text/html": [
       "<div>\n",
       "<style scoped>\n",
       "    .dataframe tbody tr th:only-of-type {\n",
       "        vertical-align: middle;\n",
       "    }\n",
       "\n",
       "    .dataframe tbody tr th {\n",
       "        vertical-align: top;\n",
       "    }\n",
       "\n",
       "    .dataframe thead th {\n",
       "        text-align: right;\n",
       "    }\n",
       "</style>\n",
       "<table border=\"1\" class=\"dataframe\">\n",
       "  <thead>\n",
       "    <tr style=\"text-align: right;\">\n",
       "      <th></th>\n",
       "      <th>order_id</th>\n",
       "      <th>payment_type</th>\n",
       "    </tr>\n",
       "  </thead>\n",
       "  <tbody>\n",
       "    <tr>\n",
       "      <th>960</th>\n",
       "      <td>a4431cbd79dbddaae7988ce6091cbc3c</td>\n",
       "      <td>2</td>\n",
       "    </tr>\n",
       "    <tr>\n",
       "      <th>0</th>\n",
       "      <td>002f16b7bc4530031b7d90f791b12d8a</td>\n",
       "      <td>1</td>\n",
       "    </tr>\n",
       "    <tr>\n",
       "      <th>1015</th>\n",
       "      <td>ad729f060dc2a81423b87ca2845ef6a4</td>\n",
       "      <td>1</td>\n",
       "    </tr>\n",
       "    <tr>\n",
       "      <th>1024</th>\n",
       "      <td>ae939729c93b0ecd65e284740cb48997</td>\n",
       "      <td>1</td>\n",
       "    </tr>\n",
       "    <tr>\n",
       "      <th>1023</th>\n",
       "      <td>ae6554cd477d704040e7a5ddb5a72886</td>\n",
       "      <td>1</td>\n",
       "    </tr>\n",
       "  </tbody>\n",
       "</table>\n",
       "</div>"
      ],
      "text/plain": [
       "                              order_id  payment_type\n",
       "960   a4431cbd79dbddaae7988ce6091cbc3c             2\n",
       "0     002f16b7bc4530031b7d90f791b12d8a             1\n",
       "1015  ad729f060dc2a81423b87ca2845ef6a4             1\n",
       "1024  ae939729c93b0ecd65e284740cb48997             1\n",
       "1023  ae6554cd477d704040e7a5ddb5a72886             1"
      ]
     },
     "execution_count": 69,
     "metadata": {},
     "output_type": "execute_result"
    }
   ],
   "source": [
    "# Tira 'order_id' da condição de índice.\n",
    "df_qtde_debit_card_index_resetado = df_qtde_debit_card.reset_index()\n",
    "\n",
    "df_qtde_debit_card_index_resetado.sort_values(by='payment_type', ascending = False).head()"
   ]
  },
  {
   "cell_type": "code",
   "execution_count": 70,
   "metadata": {},
   "outputs": [],
   "source": [
    "# Mudar o nome da coluna para 'qtde_credit_card'\n",
    "df_qtde_debit_card_index_resetado.columns = ['order_id', 'qtde_debit_card']"
   ]
  },
  {
   "cell_type": "code",
   "execution_count": 71,
   "metadata": {},
   "outputs": [
    {
     "data": {
      "text/html": [
       "<div>\n",
       "<style scoped>\n",
       "    .dataframe tbody tr th:only-of-type {\n",
       "        vertical-align: middle;\n",
       "    }\n",
       "\n",
       "    .dataframe tbody tr th {\n",
       "        vertical-align: top;\n",
       "    }\n",
       "\n",
       "    .dataframe thead th {\n",
       "        text-align: right;\n",
       "    }\n",
       "</style>\n",
       "<table border=\"1\" class=\"dataframe\">\n",
       "  <thead>\n",
       "    <tr style=\"text-align: right;\">\n",
       "      <th></th>\n",
       "      <th>order_id</th>\n",
       "      <th>qtde_debit_card</th>\n",
       "    </tr>\n",
       "  </thead>\n",
       "  <tbody>\n",
       "    <tr>\n",
       "      <th>960</th>\n",
       "      <td>a4431cbd79dbddaae7988ce6091cbc3c</td>\n",
       "      <td>2</td>\n",
       "    </tr>\n",
       "    <tr>\n",
       "      <th>0</th>\n",
       "      <td>002f16b7bc4530031b7d90f791b12d8a</td>\n",
       "      <td>1</td>\n",
       "    </tr>\n",
       "    <tr>\n",
       "      <th>1015</th>\n",
       "      <td>ad729f060dc2a81423b87ca2845ef6a4</td>\n",
       "      <td>1</td>\n",
       "    </tr>\n",
       "    <tr>\n",
       "      <th>1024</th>\n",
       "      <td>ae939729c93b0ecd65e284740cb48997</td>\n",
       "      <td>1</td>\n",
       "    </tr>\n",
       "    <tr>\n",
       "      <th>1023</th>\n",
       "      <td>ae6554cd477d704040e7a5ddb5a72886</td>\n",
       "      <td>1</td>\n",
       "    </tr>\n",
       "  </tbody>\n",
       "</table>\n",
       "</div>"
      ],
      "text/plain": [
       "                              order_id  qtde_debit_card\n",
       "960   a4431cbd79dbddaae7988ce6091cbc3c                2\n",
       "0     002f16b7bc4530031b7d90f791b12d8a                1\n",
       "1015  ad729f060dc2a81423b87ca2845ef6a4                1\n",
       "1024  ae939729c93b0ecd65e284740cb48997                1\n",
       "1023  ae6554cd477d704040e7a5ddb5a72886                1"
      ]
     },
     "execution_count": 71,
     "metadata": {},
     "output_type": "execute_result"
    }
   ],
   "source": [
    "df_qtde_debit_card_index_resetado.sort_values(by='qtde_debit_card', ascending = False).head()"
   ]
  },
  {
   "cell_type": "code",
   "execution_count": 72,
   "metadata": {},
   "outputs": [
    {
     "data": {
      "text/plain": [
       "(1528, 2)"
      ]
     },
     "execution_count": 72,
     "metadata": {},
     "output_type": "execute_result"
    }
   ],
   "source": [
    "df_qtde_debit_card_index_resetado.shape"
   ]
  },
  {
   "cell_type": "code",
   "execution_count": 73,
   "metadata": {},
   "outputs": [
    {
     "data": {
      "text/plain": [
       "1528"
      ]
     },
     "execution_count": 73,
     "metadata": {},
     "output_type": "execute_result"
    }
   ],
   "source": [
    "df_qtde_debit_card_index_resetado['order_id'].nunique() # number of unique não inclui os NAN na contagem"
   ]
  },
  {
   "cell_type": "markdown",
   "metadata": {},
   "source": [
    "###### DataFrame <font color=red>\"df_qtde_debit_card_index_resetado\"</font> pronto para join"
   ]
  },
  {
   "cell_type": "markdown",
   "metadata": {},
   "source": [
    "                                          4. Qtde de 'not_defined'"
   ]
  },
  {
   "cell_type": "code",
   "execution_count": 74,
   "metadata": {},
   "outputs": [],
   "source": [
    "# seleciona 'order_id' cujo 'payment_type' = 'not_defined'\n",
    "payments_somente_not_defined = payments.loc[payments['payment_type']=='not_defined']"
   ]
  },
  {
   "cell_type": "code",
   "execution_count": 75,
   "metadata": {},
   "outputs": [
    {
     "data": {
      "text/html": [
       "<div>\n",
       "<style scoped>\n",
       "    .dataframe tbody tr th:only-of-type {\n",
       "        vertical-align: middle;\n",
       "    }\n",
       "\n",
       "    .dataframe tbody tr th {\n",
       "        vertical-align: top;\n",
       "    }\n",
       "\n",
       "    .dataframe thead th {\n",
       "        text-align: right;\n",
       "    }\n",
       "</style>\n",
       "<table border=\"1\" class=\"dataframe\">\n",
       "  <thead>\n",
       "    <tr style=\"text-align: right;\">\n",
       "      <th></th>\n",
       "      <th>order_id</th>\n",
       "      <th>payment_sequential</th>\n",
       "      <th>payment_type</th>\n",
       "      <th>payment_installments</th>\n",
       "      <th>payment_value</th>\n",
       "    </tr>\n",
       "  </thead>\n",
       "  <tbody>\n",
       "    <tr>\n",
       "      <th>51280</th>\n",
       "      <td>4637ca194b6387e2d538dc89b124b0ee</td>\n",
       "      <td>1</td>\n",
       "      <td>not_defined</td>\n",
       "      <td>1</td>\n",
       "      <td>0.00</td>\n",
       "    </tr>\n",
       "    <tr>\n",
       "      <th>57411</th>\n",
       "      <td>00b1cb0320190ca0daa2c88b35206009</td>\n",
       "      <td>1</td>\n",
       "      <td>not_defined</td>\n",
       "      <td>1</td>\n",
       "      <td>0.00</td>\n",
       "    </tr>\n",
       "    <tr>\n",
       "      <th>94427</th>\n",
       "      <td>c8c528189310eaa44a745b8d9d26908b</td>\n",
       "      <td>1</td>\n",
       "      <td>not_defined</td>\n",
       "      <td>1</td>\n",
       "      <td>0.00</td>\n",
       "    </tr>\n",
       "  </tbody>\n",
       "</table>\n",
       "</div>"
      ],
      "text/plain": [
       "                               order_id  payment_sequential payment_type  \\\n",
       "51280  4637ca194b6387e2d538dc89b124b0ee                   1  not_defined   \n",
       "57411  00b1cb0320190ca0daa2c88b35206009                   1  not_defined   \n",
       "94427  c8c528189310eaa44a745b8d9d26908b                   1  not_defined   \n",
       "\n",
       "       payment_installments  payment_value  \n",
       "51280                     1           0.00  \n",
       "57411                     1           0.00  \n",
       "94427                     1           0.00  "
      ]
     },
     "execution_count": 75,
     "metadata": {},
     "output_type": "execute_result"
    }
   ],
   "source": [
    "payments_somente_not_defined.head()"
   ]
  },
  {
   "cell_type": "code",
   "execution_count": 76,
   "metadata": {},
   "outputs": [
    {
     "data": {
      "text/plain": [
       "(3, 5)"
      ]
     },
     "execution_count": 76,
     "metadata": {},
     "output_type": "execute_result"
    }
   ],
   "source": [
    "payments_somente_not_defined.shape"
   ]
  },
  {
   "cell_type": "code",
   "execution_count": 77,
   "metadata": {},
   "outputs": [
    {
     "data": {
      "text/plain": [
       "3"
      ]
     },
     "execution_count": 77,
     "metadata": {},
     "output_type": "execute_result"
    }
   ],
   "source": [
    "# Valores únicos de 'order_id'\n",
    "payments_somente_not_defined['order_id'].nunique() # number of unique não inclui os NAN na contagem"
   ]
  },
  {
   "cell_type": "code",
   "execution_count": 78,
   "metadata": {},
   "outputs": [],
   "source": [
    "# Mudar o nome da coluna para 'qtde_not_defined'\n",
    "payments_somente_not_defined.columns = ['order_id', 'payment_sequential', 'qtde_not_defined', 'payment_installments', 'payment_value']"
   ]
  },
  {
   "cell_type": "code",
   "execution_count": 79,
   "metadata": {},
   "outputs": [],
   "source": [
    "# substituir 'not_defined' pelo algarismo '1'.\n",
    "payments_somente_not_defined = payments_somente_not_defined.apply(lambda x: x.replace('not_defined', 1))"
   ]
  },
  {
   "cell_type": "code",
   "execution_count": 80,
   "metadata": {},
   "outputs": [
    {
     "data": {
      "text/html": [
       "<div>\n",
       "<style scoped>\n",
       "    .dataframe tbody tr th:only-of-type {\n",
       "        vertical-align: middle;\n",
       "    }\n",
       "\n",
       "    .dataframe tbody tr th {\n",
       "        vertical-align: top;\n",
       "    }\n",
       "\n",
       "    .dataframe thead th {\n",
       "        text-align: right;\n",
       "    }\n",
       "</style>\n",
       "<table border=\"1\" class=\"dataframe\">\n",
       "  <thead>\n",
       "    <tr style=\"text-align: right;\">\n",
       "      <th></th>\n",
       "      <th>order_id</th>\n",
       "      <th>payment_sequential</th>\n",
       "      <th>qtde_not_defined</th>\n",
       "      <th>payment_installments</th>\n",
       "      <th>payment_value</th>\n",
       "    </tr>\n",
       "  </thead>\n",
       "  <tbody>\n",
       "    <tr>\n",
       "      <th>51280</th>\n",
       "      <td>4637ca194b6387e2d538dc89b124b0ee</td>\n",
       "      <td>1</td>\n",
       "      <td>1</td>\n",
       "      <td>1</td>\n",
       "      <td>0.00</td>\n",
       "    </tr>\n",
       "    <tr>\n",
       "      <th>57411</th>\n",
       "      <td>00b1cb0320190ca0daa2c88b35206009</td>\n",
       "      <td>1</td>\n",
       "      <td>1</td>\n",
       "      <td>1</td>\n",
       "      <td>0.00</td>\n",
       "    </tr>\n",
       "    <tr>\n",
       "      <th>94427</th>\n",
       "      <td>c8c528189310eaa44a745b8d9d26908b</td>\n",
       "      <td>1</td>\n",
       "      <td>1</td>\n",
       "      <td>1</td>\n",
       "      <td>0.00</td>\n",
       "    </tr>\n",
       "  </tbody>\n",
       "</table>\n",
       "</div>"
      ],
      "text/plain": [
       "                               order_id  payment_sequential  qtde_not_defined  \\\n",
       "51280  4637ca194b6387e2d538dc89b124b0ee                   1                 1   \n",
       "57411  00b1cb0320190ca0daa2c88b35206009                   1                 1   \n",
       "94427  c8c528189310eaa44a745b8d9d26908b                   1                 1   \n",
       "\n",
       "       payment_installments  payment_value  \n",
       "51280                     1           0.00  \n",
       "57411                     1           0.00  \n",
       "94427                     1           0.00  "
      ]
     },
     "execution_count": 80,
     "metadata": {},
     "output_type": "execute_result"
    }
   ],
   "source": [
    "payments_somente_not_defined.head()"
   ]
  },
  {
   "cell_type": "markdown",
   "metadata": {},
   "source": [
    "###### DataFrame <font color=red>\"payments_somente_not_defined\"</font> pronto para join"
   ]
  },
  {
   "cell_type": "markdown",
   "metadata": {},
   "source": [
    "                                          5. Qtde de 'voucher'"
   ]
  },
  {
   "cell_type": "code",
   "execution_count": 81,
   "metadata": {},
   "outputs": [],
   "source": [
    "# seleciona 'order_id' cujo 'payment_type' = 'voucher'\n",
    "payments_somente_voucher = payments.loc[payments['payment_type']=='voucher']"
   ]
  },
  {
   "cell_type": "code",
   "execution_count": 82,
   "metadata": {},
   "outputs": [
    {
     "data": {
      "text/html": [
       "<div>\n",
       "<style scoped>\n",
       "    .dataframe tbody tr th:only-of-type {\n",
       "        vertical-align: middle;\n",
       "    }\n",
       "\n",
       "    .dataframe tbody tr th {\n",
       "        vertical-align: top;\n",
       "    }\n",
       "\n",
       "    .dataframe thead th {\n",
       "        text-align: right;\n",
       "    }\n",
       "</style>\n",
       "<table border=\"1\" class=\"dataframe\">\n",
       "  <thead>\n",
       "    <tr style=\"text-align: right;\">\n",
       "      <th></th>\n",
       "      <th>order_id</th>\n",
       "      <th>payment_sequential</th>\n",
       "      <th>payment_type</th>\n",
       "      <th>payment_installments</th>\n",
       "      <th>payment_value</th>\n",
       "    </tr>\n",
       "  </thead>\n",
       "  <tbody>\n",
       "    <tr>\n",
       "      <th>25</th>\n",
       "      <td>5cfd514482e22bc992e7693f0e3e8df7</td>\n",
       "      <td>2</td>\n",
       "      <td>voucher</td>\n",
       "      <td>1</td>\n",
       "      <td>45.17</td>\n",
       "    </tr>\n",
       "    <tr>\n",
       "      <th>68</th>\n",
       "      <td>947e9c6bfd83a06953c420ef92d3da6e</td>\n",
       "      <td>1</td>\n",
       "      <td>voucher</td>\n",
       "      <td>1</td>\n",
       "      <td>69.46</td>\n",
       "    </tr>\n",
       "    <tr>\n",
       "      <th>70</th>\n",
       "      <td>e3e9e3295f4e1512167c232a0aaae8a5</td>\n",
       "      <td>1</td>\n",
       "      <td>voucher</td>\n",
       "      <td>1</td>\n",
       "      <td>50.80</td>\n",
       "    </tr>\n",
       "    <tr>\n",
       "      <th>75</th>\n",
       "      <td>3689194c14ad4e2e7361ebd1df0e77b0</td>\n",
       "      <td>2</td>\n",
       "      <td>voucher</td>\n",
       "      <td>1</td>\n",
       "      <td>57.53</td>\n",
       "    </tr>\n",
       "    <tr>\n",
       "      <th>102</th>\n",
       "      <td>21b8b46679ea6482cbf911d960490048</td>\n",
       "      <td>2</td>\n",
       "      <td>voucher</td>\n",
       "      <td>1</td>\n",
       "      <td>43.12</td>\n",
       "    </tr>\n",
       "  </tbody>\n",
       "</table>\n",
       "</div>"
      ],
      "text/plain": [
       "                             order_id  payment_sequential payment_type  \\\n",
       "25   5cfd514482e22bc992e7693f0e3e8df7                   2      voucher   \n",
       "68   947e9c6bfd83a06953c420ef92d3da6e                   1      voucher   \n",
       "70   e3e9e3295f4e1512167c232a0aaae8a5                   1      voucher   \n",
       "75   3689194c14ad4e2e7361ebd1df0e77b0                   2      voucher   \n",
       "102  21b8b46679ea6482cbf911d960490048                   2      voucher   \n",
       "\n",
       "     payment_installments  payment_value  \n",
       "25                      1          45.17  \n",
       "68                      1          69.46  \n",
       "70                      1          50.80  \n",
       "75                      1          57.53  \n",
       "102                     1          43.12  "
      ]
     },
     "execution_count": 82,
     "metadata": {},
     "output_type": "execute_result"
    }
   ],
   "source": [
    "payments_somente_voucher.head()"
   ]
  },
  {
   "cell_type": "code",
   "execution_count": 83,
   "metadata": {},
   "outputs": [
    {
     "data": {
      "text/plain": [
       "(5775, 5)"
      ]
     },
     "execution_count": 83,
     "metadata": {},
     "output_type": "execute_result"
    }
   ],
   "source": [
    "payments_somente_voucher.shape"
   ]
  },
  {
   "cell_type": "code",
   "execution_count": 84,
   "metadata": {},
   "outputs": [
    {
     "data": {
      "text/plain": [
       "3866"
      ]
     },
     "execution_count": 84,
     "metadata": {},
     "output_type": "execute_result"
    }
   ],
   "source": [
    "# Valores únicos de 'order_id'\n",
    "payments_somente_voucher['order_id'].nunique() # number of unique não inclui os NAN na contagem"
   ]
  },
  {
   "cell_type": "markdown",
   "metadata": {},
   "source": [
    "###### Há vários 'order_id'  com mais de uma instância de 'voucher'. \n",
    "> E teremos de realizar o groupby para contá-los apropriadamente."
   ]
  },
  {
   "cell_type": "code",
   "execution_count": 85,
   "metadata": {},
   "outputs": [
    {
     "data": {
      "text/html": [
       "<div>\n",
       "<style scoped>\n",
       "    .dataframe tbody tr th:only-of-type {\n",
       "        vertical-align: middle;\n",
       "    }\n",
       "\n",
       "    .dataframe tbody tr th {\n",
       "        vertical-align: top;\n",
       "    }\n",
       "\n",
       "    .dataframe thead th {\n",
       "        text-align: right;\n",
       "    }\n",
       "</style>\n",
       "<table border=\"1\" class=\"dataframe\">\n",
       "  <thead>\n",
       "    <tr style=\"text-align: right;\">\n",
       "      <th></th>\n",
       "      <th>payment_type</th>\n",
       "    </tr>\n",
       "    <tr>\n",
       "      <th>order_id</th>\n",
       "      <th></th>\n",
       "    </tr>\n",
       "  </thead>\n",
       "  <tbody>\n",
       "    <tr>\n",
       "      <th>fa65dad1b0e818e3ccc5cb0e39231352</th>\n",
       "      <td>29</td>\n",
       "    </tr>\n",
       "    <tr>\n",
       "      <th>ccf804e764ed5650cd8759557269dc13</th>\n",
       "      <td>25</td>\n",
       "    </tr>\n",
       "    <tr>\n",
       "      <th>285c2e15bebd4ac83635ccc563dc71f4</th>\n",
       "      <td>21</td>\n",
       "    </tr>\n",
       "    <tr>\n",
       "      <th>895ab968e7bb0d5659d16cd74cd1650c</th>\n",
       "      <td>21</td>\n",
       "    </tr>\n",
       "    <tr>\n",
       "      <th>ee9ca989fc93ba09a6eddc250ce01742</th>\n",
       "      <td>18</td>\n",
       "    </tr>\n",
       "  </tbody>\n",
       "</table>\n",
       "</div>"
      ],
      "text/plain": [
       "                                  payment_type\n",
       "order_id                                      \n",
       "fa65dad1b0e818e3ccc5cb0e39231352            29\n",
       "ccf804e764ed5650cd8759557269dc13            25\n",
       "285c2e15bebd4ac83635ccc563dc71f4            21\n",
       "895ab968e7bb0d5659d16cd74cd1650c            21\n",
       "ee9ca989fc93ba09a6eddc250ce01742            18"
      ]
     },
     "execution_count": 85,
     "metadata": {},
     "output_type": "execute_result"
    }
   ],
   "source": [
    "# Contagem de 'voucher' de cada 'order_id'\n",
    "qtde_voucher = payments_somente_voucher.groupby('order_id')['payment_type'].count()\n",
    "\n",
    "df_qtde_voucher = pd.DataFrame(qtde_voucher)\n",
    "\n",
    "df_qtde_voucher.sort_values(by='payment_type', ascending = False).head()"
   ]
  },
  {
   "cell_type": "code",
   "execution_count": 86,
   "metadata": {},
   "outputs": [
    {
     "data": {
      "text/html": [
       "<div>\n",
       "<style scoped>\n",
       "    .dataframe tbody tr th:only-of-type {\n",
       "        vertical-align: middle;\n",
       "    }\n",
       "\n",
       "    .dataframe tbody tr th {\n",
       "        vertical-align: top;\n",
       "    }\n",
       "\n",
       "    .dataframe thead th {\n",
       "        text-align: right;\n",
       "    }\n",
       "</style>\n",
       "<table border=\"1\" class=\"dataframe\">\n",
       "  <thead>\n",
       "    <tr style=\"text-align: right;\">\n",
       "      <th></th>\n",
       "      <th>order_id</th>\n",
       "      <th>payment_type</th>\n",
       "    </tr>\n",
       "  </thead>\n",
       "  <tbody>\n",
       "    <tr>\n",
       "      <th>3777</th>\n",
       "      <td>fa65dad1b0e818e3ccc5cb0e39231352</td>\n",
       "      <td>29</td>\n",
       "    </tr>\n",
       "    <tr>\n",
       "      <th>3117</th>\n",
       "      <td>ccf804e764ed5650cd8759557269dc13</td>\n",
       "      <td>25</td>\n",
       "    </tr>\n",
       "    <tr>\n",
       "      <th>620</th>\n",
       "      <td>285c2e15bebd4ac83635ccc563dc71f4</td>\n",
       "      <td>21</td>\n",
       "    </tr>\n",
       "    <tr>\n",
       "      <th>2150</th>\n",
       "      <td>895ab968e7bb0d5659d16cd74cd1650c</td>\n",
       "      <td>21</td>\n",
       "    </tr>\n",
       "    <tr>\n",
       "      <th>3616</th>\n",
       "      <td>ee9ca989fc93ba09a6eddc250ce01742</td>\n",
       "      <td>18</td>\n",
       "    </tr>\n",
       "  </tbody>\n",
       "</table>\n",
       "</div>"
      ],
      "text/plain": [
       "                              order_id  payment_type\n",
       "3777  fa65dad1b0e818e3ccc5cb0e39231352            29\n",
       "3117  ccf804e764ed5650cd8759557269dc13            25\n",
       "620   285c2e15bebd4ac83635ccc563dc71f4            21\n",
       "2150  895ab968e7bb0d5659d16cd74cd1650c            21\n",
       "3616  ee9ca989fc93ba09a6eddc250ce01742            18"
      ]
     },
     "execution_count": 86,
     "metadata": {},
     "output_type": "execute_result"
    }
   ],
   "source": [
    "# Tira 'order_id' da condição de índice.\n",
    "df_qtde_voucher_index_resetado = df_qtde_voucher.reset_index()\n",
    "\n",
    "df_qtde_voucher_index_resetado.sort_values(by='payment_type', ascending = False).head()"
   ]
  },
  {
   "cell_type": "code",
   "execution_count": 87,
   "metadata": {},
   "outputs": [],
   "source": [
    "# Mudar o nome da coluna para 'qtde_credit_card'\n",
    "df_qtde_voucher_index_resetado.columns = ['order_id', 'qtde_voucher']"
   ]
  },
  {
   "cell_type": "code",
   "execution_count": 88,
   "metadata": {},
   "outputs": [
    {
     "data": {
      "text/html": [
       "<div>\n",
       "<style scoped>\n",
       "    .dataframe tbody tr th:only-of-type {\n",
       "        vertical-align: middle;\n",
       "    }\n",
       "\n",
       "    .dataframe tbody tr th {\n",
       "        vertical-align: top;\n",
       "    }\n",
       "\n",
       "    .dataframe thead th {\n",
       "        text-align: right;\n",
       "    }\n",
       "</style>\n",
       "<table border=\"1\" class=\"dataframe\">\n",
       "  <thead>\n",
       "    <tr style=\"text-align: right;\">\n",
       "      <th></th>\n",
       "      <th>order_id</th>\n",
       "      <th>qtde_voucher</th>\n",
       "    </tr>\n",
       "  </thead>\n",
       "  <tbody>\n",
       "    <tr>\n",
       "      <th>3777</th>\n",
       "      <td>fa65dad1b0e818e3ccc5cb0e39231352</td>\n",
       "      <td>29</td>\n",
       "    </tr>\n",
       "    <tr>\n",
       "      <th>3117</th>\n",
       "      <td>ccf804e764ed5650cd8759557269dc13</td>\n",
       "      <td>25</td>\n",
       "    </tr>\n",
       "    <tr>\n",
       "      <th>620</th>\n",
       "      <td>285c2e15bebd4ac83635ccc563dc71f4</td>\n",
       "      <td>21</td>\n",
       "    </tr>\n",
       "    <tr>\n",
       "      <th>2150</th>\n",
       "      <td>895ab968e7bb0d5659d16cd74cd1650c</td>\n",
       "      <td>21</td>\n",
       "    </tr>\n",
       "    <tr>\n",
       "      <th>3616</th>\n",
       "      <td>ee9ca989fc93ba09a6eddc250ce01742</td>\n",
       "      <td>18</td>\n",
       "    </tr>\n",
       "  </tbody>\n",
       "</table>\n",
       "</div>"
      ],
      "text/plain": [
       "                              order_id  qtde_voucher\n",
       "3777  fa65dad1b0e818e3ccc5cb0e39231352            29\n",
       "3117  ccf804e764ed5650cd8759557269dc13            25\n",
       "620   285c2e15bebd4ac83635ccc563dc71f4            21\n",
       "2150  895ab968e7bb0d5659d16cd74cd1650c            21\n",
       "3616  ee9ca989fc93ba09a6eddc250ce01742            18"
      ]
     },
     "execution_count": 88,
     "metadata": {},
     "output_type": "execute_result"
    }
   ],
   "source": [
    "df_qtde_voucher_index_resetado.sort_values(by='qtde_voucher', ascending = False).head()"
   ]
  },
  {
   "cell_type": "code",
   "execution_count": 89,
   "metadata": {},
   "outputs": [
    {
     "data": {
      "text/plain": [
       "(3866, 2)"
      ]
     },
     "execution_count": 89,
     "metadata": {},
     "output_type": "execute_result"
    }
   ],
   "source": [
    "df_qtde_voucher_index_resetado.shape"
   ]
  },
  {
   "cell_type": "code",
   "execution_count": 90,
   "metadata": {},
   "outputs": [
    {
     "data": {
      "text/plain": [
       "3866"
      ]
     },
     "execution_count": 90,
     "metadata": {},
     "output_type": "execute_result"
    }
   ],
   "source": [
    "df_qtde_voucher_index_resetado['order_id'].nunique() # number of unique não inclui os NAN na contagem"
   ]
  },
  {
   "cell_type": "markdown",
   "metadata": {},
   "source": [
    "###### DataFrame <font color=red>\"df_qtde_voucher_index_resetado\"</font> pronto para join"
   ]
  },
  {
   "cell_type": "markdown",
   "metadata": {},
   "source": [
    "                                          6. Soma de 'payment_value'"
   ]
  },
  {
   "cell_type": "code",
   "execution_count": 91,
   "metadata": {},
   "outputs": [
    {
     "data": {
      "text/html": [
       "<div>\n",
       "<style scoped>\n",
       "    .dataframe tbody tr th:only-of-type {\n",
       "        vertical-align: middle;\n",
       "    }\n",
       "\n",
       "    .dataframe tbody tr th {\n",
       "        vertical-align: top;\n",
       "    }\n",
       "\n",
       "    .dataframe thead th {\n",
       "        text-align: right;\n",
       "    }\n",
       "</style>\n",
       "<table border=\"1\" class=\"dataframe\">\n",
       "  <thead>\n",
       "    <tr style=\"text-align: right;\">\n",
       "      <th></th>\n",
       "      <th>payment_value</th>\n",
       "    </tr>\n",
       "    <tr>\n",
       "      <th>order_id</th>\n",
       "      <th></th>\n",
       "    </tr>\n",
       "  </thead>\n",
       "  <tbody>\n",
       "    <tr>\n",
       "      <th>03caa2c082116e1d31e67e9ae3700499</th>\n",
       "      <td>13,664.08</td>\n",
       "    </tr>\n",
       "    <tr>\n",
       "      <th>736e1922ae60d0d6a89247b851902527</th>\n",
       "      <td>7,274.88</td>\n",
       "    </tr>\n",
       "    <tr>\n",
       "      <th>0812eb902a67711a1cb742b3cdaa65ae</th>\n",
       "      <td>6,929.31</td>\n",
       "    </tr>\n",
       "    <tr>\n",
       "      <th>fefacc66af859508bf1a7934eab1e97f</th>\n",
       "      <td>6,922.21</td>\n",
       "    </tr>\n",
       "    <tr>\n",
       "      <th>f5136e38d1a14a4dbd87dff67da82701</th>\n",
       "      <td>6,726.66</td>\n",
       "    </tr>\n",
       "    <tr>\n",
       "      <th>2cc9089445046817a7539d90805e6e5a</th>\n",
       "      <td>6,081.54</td>\n",
       "    </tr>\n",
       "    <tr>\n",
       "      <th>a96610ab360d42a2e5335a3998b4718a</th>\n",
       "      <td>4,950.34</td>\n",
       "    </tr>\n",
       "    <tr>\n",
       "      <th>b4c4b76c642808cbe472a32b86cddc95</th>\n",
       "      <td>4,809.44</td>\n",
       "    </tr>\n",
       "    <tr>\n",
       "      <th>199af31afc78c699f0dbf71fb178d4d4</th>\n",
       "      <td>4,764.34</td>\n",
       "    </tr>\n",
       "    <tr>\n",
       "      <th>8dbc85d1447242f3b127dda390d56e19</th>\n",
       "      <td>4,681.78</td>\n",
       "    </tr>\n",
       "    <tr>\n",
       "      <th>426a9742b533fc6fed17d1fd6d143d7e</th>\n",
       "      <td>4,513.32</td>\n",
       "    </tr>\n",
       "    <tr>\n",
       "      <th>d2f270487125ddc41fd134c4003ad1d7</th>\n",
       "      <td>4,445.50</td>\n",
       "    </tr>\n",
       "    <tr>\n",
       "      <th>80dfedb6d17bf23539beeef3c768f4d7</th>\n",
       "      <td>4,194.76</td>\n",
       "    </tr>\n",
       "    <tr>\n",
       "      <th>68101694e5c5dc7330c91e1bbc36214f</th>\n",
       "      <td>4,175.26</td>\n",
       "    </tr>\n",
       "    <tr>\n",
       "      <th>b239ca7cd485940b31882363b52e6674</th>\n",
       "      <td>4,163.51</td>\n",
       "    </tr>\n",
       "    <tr>\n",
       "      <th>9a3966c23190dbdbaabed08e8429c006</th>\n",
       "      <td>4,042.74</td>\n",
       "    </tr>\n",
       "    <tr>\n",
       "      <th>9de73f3e6157169ad6c32b9f313c7dcb</th>\n",
       "      <td>4,034.44</td>\n",
       "    </tr>\n",
       "    <tr>\n",
       "      <th>86c4eab1571921a6a6e248ed312f5a5a</th>\n",
       "      <td>4,016.91</td>\n",
       "    </tr>\n",
       "    <tr>\n",
       "      <th>41b7766bb1df487d17fb9725b78ff509</th>\n",
       "      <td>3,979.55</td>\n",
       "    </tr>\n",
       "    <tr>\n",
       "      <th>a53e05ecd2ed1f46a2b8e1f5828be7c6</th>\n",
       "      <td>3,826.80</td>\n",
       "    </tr>\n",
       "    <tr>\n",
       "      <th>d3f66901a6743e15f9311547cc623b91</th>\n",
       "      <td>3,792.59</td>\n",
       "    </tr>\n",
       "    <tr>\n",
       "      <th>fc20b8e282da6f3fbcdd3a3cedecb723</th>\n",
       "      <td>3,782.19</td>\n",
       "    </tr>\n",
       "    <tr>\n",
       "      <th>e85c92ee6a3ba1ef47e41c23286314d9</th>\n",
       "      <td>3,736.22</td>\n",
       "    </tr>\n",
       "    <tr>\n",
       "      <th>b15c7e972c74684414fb2e659fce916a</th>\n",
       "      <td>3,666.42</td>\n",
       "    </tr>\n",
       "    <tr>\n",
       "      <th>df85c824523500d4066a0dbdb5d95bed</th>\n",
       "      <td>3,602.47</td>\n",
       "    </tr>\n",
       "    <tr>\n",
       "      <th>3a4b013e014723cc38c9faa8ffdc6387</th>\n",
       "      <td>3,526.46</td>\n",
       "    </tr>\n",
       "    <tr>\n",
       "      <th>43bdbd9dc0931d72befdf4765af6c442</th>\n",
       "      <td>3,406.47</td>\n",
       "    </tr>\n",
       "    <tr>\n",
       "      <th>66b9c991ee308f9342f6a7f63bb68251</th>\n",
       "      <td>3,358.24</td>\n",
       "    </tr>\n",
       "    <tr>\n",
       "      <th>94fca82966c05ba707f4e7dc0c50aa3c</th>\n",
       "      <td>3,351.35</td>\n",
       "    </tr>\n",
       "    <tr>\n",
       "      <th>f398a143c0fe171d965db2096cf064cf</th>\n",
       "      <td>3,297.40</td>\n",
       "    </tr>\n",
       "    <tr>\n",
       "      <th>cb418bb4b6115438d20b0141ed5bc9e0</th>\n",
       "      <td>3,256.14</td>\n",
       "    </tr>\n",
       "    <tr>\n",
       "      <th>912343626f370ead5ef2e85a9d757e22</th>\n",
       "      <td>3,242.84</td>\n",
       "    </tr>\n",
       "    <tr>\n",
       "      <th>1d54db601b417ccdfd3b7071955e6cc7</th>\n",
       "      <td>3,209.72</td>\n",
       "    </tr>\n",
       "    <tr>\n",
       "      <th>4412d97cb2093633afa85f11db46316c</th>\n",
       "      <td>3,195.73</td>\n",
       "    </tr>\n",
       "    <tr>\n",
       "      <th>d7a2c0c1ff66b314f3bf166fb4157fd4</th>\n",
       "      <td>3,184.55</td>\n",
       "    </tr>\n",
       "    <tr>\n",
       "      <th>7813842ae95e8c497fc0233232ae815a</th>\n",
       "      <td>3,184.34</td>\n",
       "    </tr>\n",
       "    <tr>\n",
       "      <th>03310aa823a66056268a3bab36e827fb</th>\n",
       "      <td>3,184.34</td>\n",
       "    </tr>\n",
       "    <tr>\n",
       "      <th>53c71d3953507c6239ff73917ed358c9</th>\n",
       "      <td>3,184.34</td>\n",
       "    </tr>\n",
       "    <tr>\n",
       "      <th>31e50461be6957a749166e97af082d0a</th>\n",
       "      <td>3,155.82</td>\n",
       "    </tr>\n",
       "    <tr>\n",
       "      <th>d9956b0805e324db3f2a546ef216c10b</th>\n",
       "      <td>3,126.50</td>\n",
       "    </tr>\n",
       "    <tr>\n",
       "      <th>0af28d87520565eb3b57c9b2abe1a2cc</th>\n",
       "      <td>3,126.50</td>\n",
       "    </tr>\n",
       "    <tr>\n",
       "      <th>8171523911786efd1d91c66d69051fcd</th>\n",
       "      <td>3,122.72</td>\n",
       "    </tr>\n",
       "    <tr>\n",
       "      <th>4160b6447ad70e6d73f7221dd970bbe9</th>\n",
       "      <td>3,076.13</td>\n",
       "    </tr>\n",
       "    <tr>\n",
       "      <th>79d3522a0854c853a4979ff2691abd91</th>\n",
       "      <td>3,048.27</td>\n",
       "    </tr>\n",
       "    <tr>\n",
       "      <th>b0b0d3285e59abf2f6c9d7e1bf761323</th>\n",
       "      <td>3,044.12</td>\n",
       "    </tr>\n",
       "  </tbody>\n",
       "</table>\n",
       "</div>"
      ],
      "text/plain": [
       "                                  payment_value\n",
       "order_id                                       \n",
       "03caa2c082116e1d31e67e9ae3700499      13,664.08\n",
       "736e1922ae60d0d6a89247b851902527       7,274.88\n",
       "0812eb902a67711a1cb742b3cdaa65ae       6,929.31\n",
       "fefacc66af859508bf1a7934eab1e97f       6,922.21\n",
       "f5136e38d1a14a4dbd87dff67da82701       6,726.66\n",
       "2cc9089445046817a7539d90805e6e5a       6,081.54\n",
       "a96610ab360d42a2e5335a3998b4718a       4,950.34\n",
       "b4c4b76c642808cbe472a32b86cddc95       4,809.44\n",
       "199af31afc78c699f0dbf71fb178d4d4       4,764.34\n",
       "8dbc85d1447242f3b127dda390d56e19       4,681.78\n",
       "426a9742b533fc6fed17d1fd6d143d7e       4,513.32\n",
       "d2f270487125ddc41fd134c4003ad1d7       4,445.50\n",
       "80dfedb6d17bf23539beeef3c768f4d7       4,194.76\n",
       "68101694e5c5dc7330c91e1bbc36214f       4,175.26\n",
       "b239ca7cd485940b31882363b52e6674       4,163.51\n",
       "9a3966c23190dbdbaabed08e8429c006       4,042.74\n",
       "9de73f3e6157169ad6c32b9f313c7dcb       4,034.44\n",
       "86c4eab1571921a6a6e248ed312f5a5a       4,016.91\n",
       "41b7766bb1df487d17fb9725b78ff509       3,979.55\n",
       "a53e05ecd2ed1f46a2b8e1f5828be7c6       3,826.80\n",
       "d3f66901a6743e15f9311547cc623b91       3,792.59\n",
       "fc20b8e282da6f3fbcdd3a3cedecb723       3,782.19\n",
       "e85c92ee6a3ba1ef47e41c23286314d9       3,736.22\n",
       "b15c7e972c74684414fb2e659fce916a       3,666.42\n",
       "df85c824523500d4066a0dbdb5d95bed       3,602.47\n",
       "3a4b013e014723cc38c9faa8ffdc6387       3,526.46\n",
       "43bdbd9dc0931d72befdf4765af6c442       3,406.47\n",
       "66b9c991ee308f9342f6a7f63bb68251       3,358.24\n",
       "94fca82966c05ba707f4e7dc0c50aa3c       3,351.35\n",
       "f398a143c0fe171d965db2096cf064cf       3,297.40\n",
       "cb418bb4b6115438d20b0141ed5bc9e0       3,256.14\n",
       "912343626f370ead5ef2e85a9d757e22       3,242.84\n",
       "1d54db601b417ccdfd3b7071955e6cc7       3,209.72\n",
       "4412d97cb2093633afa85f11db46316c       3,195.73\n",
       "d7a2c0c1ff66b314f3bf166fb4157fd4       3,184.55\n",
       "7813842ae95e8c497fc0233232ae815a       3,184.34\n",
       "03310aa823a66056268a3bab36e827fb       3,184.34\n",
       "53c71d3953507c6239ff73917ed358c9       3,184.34\n",
       "31e50461be6957a749166e97af082d0a       3,155.82\n",
       "d9956b0805e324db3f2a546ef216c10b       3,126.50\n",
       "0af28d87520565eb3b57c9b2abe1a2cc       3,126.50\n",
       "8171523911786efd1d91c66d69051fcd       3,122.72\n",
       "4160b6447ad70e6d73f7221dd970bbe9       3,076.13\n",
       "79d3522a0854c853a4979ff2691abd91       3,048.27\n",
       "b0b0d3285e59abf2f6c9d7e1bf761323       3,044.12"
      ]
     },
     "execution_count": 91,
     "metadata": {},
     "output_type": "execute_result"
    }
   ],
   "source": [
    "# Contagem de 'payment_installments' de cada 'order_id'\n",
    "soma_payment_value = payments.groupby('order_id')['payment_value'].sum()\n",
    "\n",
    "df_soma_payment_value = pd.DataFrame(soma_payment_value)\n",
    "\n",
    "df_soma_payment_value.sort_values(by='payment_value', ascending = False).head(45)"
   ]
  },
  {
   "cell_type": "code",
   "execution_count": 92,
   "metadata": {},
   "outputs": [
    {
     "data": {
      "text/html": [
       "<div>\n",
       "<style scoped>\n",
       "    .dataframe tbody tr th:only-of-type {\n",
       "        vertical-align: middle;\n",
       "    }\n",
       "\n",
       "    .dataframe tbody tr th {\n",
       "        vertical-align: top;\n",
       "    }\n",
       "\n",
       "    .dataframe thead th {\n",
       "        text-align: right;\n",
       "    }\n",
       "</style>\n",
       "<table border=\"1\" class=\"dataframe\">\n",
       "  <thead>\n",
       "    <tr style=\"text-align: right;\">\n",
       "      <th></th>\n",
       "      <th>order_id</th>\n",
       "      <th>payment_value</th>\n",
       "    </tr>\n",
       "  </thead>\n",
       "  <tbody>\n",
       "    <tr>\n",
       "      <th>1471</th>\n",
       "      <td>03caa2c082116e1d31e67e9ae3700499</td>\n",
       "      <td>13,664.08</td>\n",
       "    </tr>\n",
       "    <tr>\n",
       "      <th>44830</th>\n",
       "      <td>736e1922ae60d0d6a89247b851902527</td>\n",
       "      <td>7,274.88</td>\n",
       "    </tr>\n",
       "    <tr>\n",
       "      <th>3156</th>\n",
       "      <td>0812eb902a67711a1cb742b3cdaa65ae</td>\n",
       "      <td>6,929.31</td>\n",
       "    </tr>\n",
       "    <tr>\n",
       "      <th>99071</th>\n",
       "      <td>fefacc66af859508bf1a7934eab1e97f</td>\n",
       "      <td>6,922.21</td>\n",
       "    </tr>\n",
       "    <tr>\n",
       "      <th>95186</th>\n",
       "      <td>f5136e38d1a14a4dbd87dff67da82701</td>\n",
       "      <td>6,726.66</td>\n",
       "    </tr>\n",
       "  </tbody>\n",
       "</table>\n",
       "</div>"
      ],
      "text/plain": [
       "                               order_id  payment_value\n",
       "1471   03caa2c082116e1d31e67e9ae3700499      13,664.08\n",
       "44830  736e1922ae60d0d6a89247b851902527       7,274.88\n",
       "3156   0812eb902a67711a1cb742b3cdaa65ae       6,929.31\n",
       "99071  fefacc66af859508bf1a7934eab1e97f       6,922.21\n",
       "95186  f5136e38d1a14a4dbd87dff67da82701       6,726.66"
      ]
     },
     "execution_count": 92,
     "metadata": {},
     "output_type": "execute_result"
    }
   ],
   "source": [
    "# Tira 'order_id' da condição de índice.\n",
    "df_soma_payment_value_index_resetado = df_soma_payment_value.reset_index()\n",
    "\n",
    "df_soma_payment_value_index_resetado.sort_values(by='payment_value', ascending = False).head()"
   ]
  },
  {
   "cell_type": "code",
   "execution_count": 93,
   "metadata": {},
   "outputs": [
    {
     "data": {
      "text/plain": [
       "(99440, 2)"
      ]
     },
     "execution_count": 93,
     "metadata": {},
     "output_type": "execute_result"
    }
   ],
   "source": [
    "df_soma_payment_value_index_resetado.shape"
   ]
  },
  {
   "cell_type": "code",
   "execution_count": 94,
   "metadata": {},
   "outputs": [
    {
     "data": {
      "text/plain": [
       "99440"
      ]
     },
     "execution_count": 94,
     "metadata": {},
     "output_type": "execute_result"
    }
   ],
   "source": [
    "df_soma_payment_value_index_resetado['order_id'].nunique()"
   ]
  },
  {
   "cell_type": "code",
   "execution_count": 95,
   "metadata": {},
   "outputs": [
    {
     "data": {
      "text/html": [
       "<div>\n",
       "<style scoped>\n",
       "    .dataframe tbody tr th:only-of-type {\n",
       "        vertical-align: middle;\n",
       "    }\n",
       "\n",
       "    .dataframe tbody tr th {\n",
       "        vertical-align: top;\n",
       "    }\n",
       "\n",
       "    .dataframe thead th {\n",
       "        text-align: right;\n",
       "    }\n",
       "</style>\n",
       "<table border=\"1\" class=\"dataframe\">\n",
       "  <thead>\n",
       "    <tr style=\"text-align: right;\">\n",
       "      <th></th>\n",
       "      <th>order_id</th>\n",
       "      <th>payment_value</th>\n",
       "    </tr>\n",
       "  </thead>\n",
       "  <tbody>\n",
       "    <tr>\n",
       "      <th>99020</th>\n",
       "      <td>fedcd9f7ccdc8cba3a18defedd1a5547</td>\n",
       "      <td>205.74</td>\n",
       "    </tr>\n",
       "  </tbody>\n",
       "</table>\n",
       "</div>"
      ],
      "text/plain": [
       "                               order_id  payment_value\n",
       "99020  fedcd9f7ccdc8cba3a18defedd1a5547         205.74"
      ]
     },
     "execution_count": 95,
     "metadata": {},
     "output_type": "execute_result"
    }
   ],
   "source": [
    "# fedcd9f7ccdc8cba3a18defedd1a5547\n",
    "df_soma_payment_value_index_resetado.loc[df_soma_payment_value_index_resetado['order_id'] == \"fedcd9f7ccdc8cba3a18defedd1a5547\"].sort_values(by='payment_value')"
   ]
  },
  {
   "cell_type": "markdown",
   "metadata": {},
   "source": [
    "###### DataFrame <font color=red>\"df_soma_payment_value_index_resetado\"</font> pronto para join"
   ]
  },
  {
   "cell_type": "markdown",
   "metadata": {},
   "source": [
    "                                          7. Qtde de 'installments'"
   ]
  },
  {
   "cell_type": "code",
   "execution_count": 96,
   "metadata": {},
   "outputs": [
    {
     "data": {
      "text/html": [
       "<div>\n",
       "<style scoped>\n",
       "    .dataframe tbody tr th:only-of-type {\n",
       "        vertical-align: middle;\n",
       "    }\n",
       "\n",
       "    .dataframe tbody tr th {\n",
       "        vertical-align: top;\n",
       "    }\n",
       "\n",
       "    .dataframe thead th {\n",
       "        text-align: right;\n",
       "    }\n",
       "</style>\n",
       "<table border=\"1\" class=\"dataframe\">\n",
       "  <thead>\n",
       "    <tr style=\"text-align: right;\">\n",
       "      <th></th>\n",
       "      <th>order_id</th>\n",
       "      <th>payment_sequential</th>\n",
       "      <th>payment_type</th>\n",
       "      <th>payment_installments</th>\n",
       "      <th>payment_value</th>\n",
       "    </tr>\n",
       "  </thead>\n",
       "  <tbody>\n",
       "    <tr>\n",
       "      <th>0</th>\n",
       "      <td>b81ef226f3fe1789b1e8b2acac839d17</td>\n",
       "      <td>1</td>\n",
       "      <td>credit_card</td>\n",
       "      <td>8</td>\n",
       "      <td>99.33</td>\n",
       "    </tr>\n",
       "    <tr>\n",
       "      <th>1</th>\n",
       "      <td>a9810da82917af2d9aefd1278f1dcfa0</td>\n",
       "      <td>1</td>\n",
       "      <td>credit_card</td>\n",
       "      <td>1</td>\n",
       "      <td>24.39</td>\n",
       "    </tr>\n",
       "    <tr>\n",
       "      <th>2</th>\n",
       "      <td>25e8ea4e93396b6fa0d3dd708e76c1bd</td>\n",
       "      <td>1</td>\n",
       "      <td>credit_card</td>\n",
       "      <td>1</td>\n",
       "      <td>65.71</td>\n",
       "    </tr>\n",
       "    <tr>\n",
       "      <th>3</th>\n",
       "      <td>ba78997921bbcdc1373bb41e913ab953</td>\n",
       "      <td>1</td>\n",
       "      <td>credit_card</td>\n",
       "      <td>8</td>\n",
       "      <td>107.78</td>\n",
       "    </tr>\n",
       "    <tr>\n",
       "      <th>4</th>\n",
       "      <td>42fdf880ba16b47b59251dd489d4441a</td>\n",
       "      <td>1</td>\n",
       "      <td>credit_card</td>\n",
       "      <td>2</td>\n",
       "      <td>128.45</td>\n",
       "    </tr>\n",
       "  </tbody>\n",
       "</table>\n",
       "</div>"
      ],
      "text/plain": [
       "                           order_id  payment_sequential payment_type  \\\n",
       "0  b81ef226f3fe1789b1e8b2acac839d17                   1  credit_card   \n",
       "1  a9810da82917af2d9aefd1278f1dcfa0                   1  credit_card   \n",
       "2  25e8ea4e93396b6fa0d3dd708e76c1bd                   1  credit_card   \n",
       "3  ba78997921bbcdc1373bb41e913ab953                   1  credit_card   \n",
       "4  42fdf880ba16b47b59251dd489d4441a                   1  credit_card   \n",
       "\n",
       "   payment_installments  payment_value  \n",
       "0                     8          99.33  \n",
       "1                     1          24.39  \n",
       "2                     1          65.71  \n",
       "3                     8         107.78  \n",
       "4                     2         128.45  "
      ]
     },
     "execution_count": 96,
     "metadata": {},
     "output_type": "execute_result"
    }
   ],
   "source": [
    "payments.head()"
   ]
  },
  {
   "cell_type": "markdown",
   "metadata": {},
   "source": [
    "###### Aqui complica um pouco. Não sei direito o que fazer:\n",
    "> <font color=blue>Pergunta 1</font>: qual a qtde de 'installments' do 'order_id' abaixo que tem 21 registros (com iguais valores de 'payment_installments')?\n",
    ">> Se usar 'count()' ou 'sum()' vou obter o errôneo resultado de 21."
   ]
  },
  {
   "cell_type": "code",
   "execution_count": 97,
   "metadata": {},
   "outputs": [
    {
     "data": {
      "text/html": [
       "<div>\n",
       "<style scoped>\n",
       "    .dataframe tbody tr th:only-of-type {\n",
       "        vertical-align: middle;\n",
       "    }\n",
       "\n",
       "    .dataframe tbody tr th {\n",
       "        vertical-align: top;\n",
       "    }\n",
       "\n",
       "    .dataframe thead th {\n",
       "        text-align: right;\n",
       "    }\n",
       "</style>\n",
       "<table border=\"1\" class=\"dataframe\">\n",
       "  <thead>\n",
       "    <tr style=\"text-align: right;\">\n",
       "      <th></th>\n",
       "      <th>order_id</th>\n",
       "      <th>payment_sequential</th>\n",
       "      <th>payment_type</th>\n",
       "      <th>payment_installments</th>\n",
       "      <th>payment_value</th>\n",
       "    </tr>\n",
       "  </thead>\n",
       "  <tbody>\n",
       "    <tr>\n",
       "      <th>9665</th>\n",
       "      <td>fedcd9f7ccdc8cba3a18defedd1a5547</td>\n",
       "      <td>1</td>\n",
       "      <td>credit_card</td>\n",
       "      <td>1</td>\n",
       "      <td>1.67</td>\n",
       "    </tr>\n",
       "    <tr>\n",
       "      <th>27087</th>\n",
       "      <td>fedcd9f7ccdc8cba3a18defedd1a5547</td>\n",
       "      <td>2</td>\n",
       "      <td>voucher</td>\n",
       "      <td>1</td>\n",
       "      <td>7.76</td>\n",
       "    </tr>\n",
       "    <tr>\n",
       "      <th>87783</th>\n",
       "      <td>fedcd9f7ccdc8cba3a18defedd1a5547</td>\n",
       "      <td>3</td>\n",
       "      <td>voucher</td>\n",
       "      <td>1</td>\n",
       "      <td>26.94</td>\n",
       "    </tr>\n",
       "    <tr>\n",
       "      <th>45197</th>\n",
       "      <td>fedcd9f7ccdc8cba3a18defedd1a5547</td>\n",
       "      <td>4</td>\n",
       "      <td>voucher</td>\n",
       "      <td>1</td>\n",
       "      <td>10.33</td>\n",
       "    </tr>\n",
       "    <tr>\n",
       "      <th>36869</th>\n",
       "      <td>fedcd9f7ccdc8cba3a18defedd1a5547</td>\n",
       "      <td>5</td>\n",
       "      <td>voucher</td>\n",
       "      <td>1</td>\n",
       "      <td>9.76</td>\n",
       "    </tr>\n",
       "    <tr>\n",
       "      <th>103569</th>\n",
       "      <td>fedcd9f7ccdc8cba3a18defedd1a5547</td>\n",
       "      <td>6</td>\n",
       "      <td>voucher</td>\n",
       "      <td>1</td>\n",
       "      <td>8.60</td>\n",
       "    </tr>\n",
       "    <tr>\n",
       "      <th>95493</th>\n",
       "      <td>fedcd9f7ccdc8cba3a18defedd1a5547</td>\n",
       "      <td>7</td>\n",
       "      <td>voucher</td>\n",
       "      <td>1</td>\n",
       "      <td>11.78</td>\n",
       "    </tr>\n",
       "    <tr>\n",
       "      <th>15930</th>\n",
       "      <td>fedcd9f7ccdc8cba3a18defedd1a5547</td>\n",
       "      <td>8</td>\n",
       "      <td>voucher</td>\n",
       "      <td>1</td>\n",
       "      <td>31.43</td>\n",
       "    </tr>\n",
       "    <tr>\n",
       "      <th>14352</th>\n",
       "      <td>fedcd9f7ccdc8cba3a18defedd1a5547</td>\n",
       "      <td>9</td>\n",
       "      <td>voucher</td>\n",
       "      <td>1</td>\n",
       "      <td>5.30</td>\n",
       "    </tr>\n",
       "    <tr>\n",
       "      <th>44641</th>\n",
       "      <td>fedcd9f7ccdc8cba3a18defedd1a5547</td>\n",
       "      <td>10</td>\n",
       "      <td>voucher</td>\n",
       "      <td>1</td>\n",
       "      <td>13.27</td>\n",
       "    </tr>\n",
       "    <tr>\n",
       "      <th>15264</th>\n",
       "      <td>fedcd9f7ccdc8cba3a18defedd1a5547</td>\n",
       "      <td>11</td>\n",
       "      <td>voucher</td>\n",
       "      <td>1</td>\n",
       "      <td>8.42</td>\n",
       "    </tr>\n",
       "    <tr>\n",
       "      <th>62558</th>\n",
       "      <td>fedcd9f7ccdc8cba3a18defedd1a5547</td>\n",
       "      <td>12</td>\n",
       "      <td>voucher</td>\n",
       "      <td>1</td>\n",
       "      <td>9.76</td>\n",
       "    </tr>\n",
       "    <tr>\n",
       "      <th>32396</th>\n",
       "      <td>fedcd9f7ccdc8cba3a18defedd1a5547</td>\n",
       "      <td>13</td>\n",
       "      <td>voucher</td>\n",
       "      <td>1</td>\n",
       "      <td>5.84</td>\n",
       "    </tr>\n",
       "    <tr>\n",
       "      <th>18175</th>\n",
       "      <td>fedcd9f7ccdc8cba3a18defedd1a5547</td>\n",
       "      <td>14</td>\n",
       "      <td>voucher</td>\n",
       "      <td>1</td>\n",
       "      <td>7.63</td>\n",
       "    </tr>\n",
       "    <tr>\n",
       "      <th>7548</th>\n",
       "      <td>fedcd9f7ccdc8cba3a18defedd1a5547</td>\n",
       "      <td>15</td>\n",
       "      <td>voucher</td>\n",
       "      <td>1</td>\n",
       "      <td>10.66</td>\n",
       "    </tr>\n",
       "    <tr>\n",
       "      <th>64520</th>\n",
       "      <td>fedcd9f7ccdc8cba3a18defedd1a5547</td>\n",
       "      <td>16</td>\n",
       "      <td>voucher</td>\n",
       "      <td>1</td>\n",
       "      <td>9.54</td>\n",
       "    </tr>\n",
       "    <tr>\n",
       "      <th>48288</th>\n",
       "      <td>fedcd9f7ccdc8cba3a18defedd1a5547</td>\n",
       "      <td>17</td>\n",
       "      <td>voucher</td>\n",
       "      <td>1</td>\n",
       "      <td>7.51</td>\n",
       "    </tr>\n",
       "    <tr>\n",
       "      <th>87292</th>\n",
       "      <td>fedcd9f7ccdc8cba3a18defedd1a5547</td>\n",
       "      <td>18</td>\n",
       "      <td>voucher</td>\n",
       "      <td>1</td>\n",
       "      <td>11.12</td>\n",
       "    </tr>\n",
       "    <tr>\n",
       "      <th>35657</th>\n",
       "      <td>fedcd9f7ccdc8cba3a18defedd1a5547</td>\n",
       "      <td>19</td>\n",
       "      <td>voucher</td>\n",
       "      <td>1</td>\n",
       "      <td>8.42</td>\n",
       "    </tr>\n",
       "  </tbody>\n",
       "</table>\n",
       "</div>"
      ],
      "text/plain": [
       "                                order_id  payment_sequential payment_type  \\\n",
       "9665    fedcd9f7ccdc8cba3a18defedd1a5547                   1  credit_card   \n",
       "27087   fedcd9f7ccdc8cba3a18defedd1a5547                   2      voucher   \n",
       "87783   fedcd9f7ccdc8cba3a18defedd1a5547                   3      voucher   \n",
       "45197   fedcd9f7ccdc8cba3a18defedd1a5547                   4      voucher   \n",
       "36869   fedcd9f7ccdc8cba3a18defedd1a5547                   5      voucher   \n",
       "103569  fedcd9f7ccdc8cba3a18defedd1a5547                   6      voucher   \n",
       "95493   fedcd9f7ccdc8cba3a18defedd1a5547                   7      voucher   \n",
       "15930   fedcd9f7ccdc8cba3a18defedd1a5547                   8      voucher   \n",
       "14352   fedcd9f7ccdc8cba3a18defedd1a5547                   9      voucher   \n",
       "44641   fedcd9f7ccdc8cba3a18defedd1a5547                  10      voucher   \n",
       "15264   fedcd9f7ccdc8cba3a18defedd1a5547                  11      voucher   \n",
       "62558   fedcd9f7ccdc8cba3a18defedd1a5547                  12      voucher   \n",
       "32396   fedcd9f7ccdc8cba3a18defedd1a5547                  13      voucher   \n",
       "18175   fedcd9f7ccdc8cba3a18defedd1a5547                  14      voucher   \n",
       "7548    fedcd9f7ccdc8cba3a18defedd1a5547                  15      voucher   \n",
       "64520   fedcd9f7ccdc8cba3a18defedd1a5547                  16      voucher   \n",
       "48288   fedcd9f7ccdc8cba3a18defedd1a5547                  17      voucher   \n",
       "87292   fedcd9f7ccdc8cba3a18defedd1a5547                  18      voucher   \n",
       "35657   fedcd9f7ccdc8cba3a18defedd1a5547                  19      voucher   \n",
       "\n",
       "        payment_installments  payment_value  \n",
       "9665                       1           1.67  \n",
       "27087                      1           7.76  \n",
       "87783                      1          26.94  \n",
       "45197                      1          10.33  \n",
       "36869                      1           9.76  \n",
       "103569                     1           8.60  \n",
       "95493                      1          11.78  \n",
       "15930                      1          31.43  \n",
       "14352                      1           5.30  \n",
       "44641                      1          13.27  \n",
       "15264                      1           8.42  \n",
       "62558                      1           9.76  \n",
       "32396                      1           5.84  \n",
       "18175                      1           7.63  \n",
       "7548                       1          10.66  \n",
       "64520                      1           9.54  \n",
       "48288                      1           7.51  \n",
       "87292                      1          11.12  \n",
       "35657                      1           8.42  "
      ]
     },
     "execution_count": 97,
     "metadata": {},
     "output_type": "execute_result"
    }
   ],
   "source": [
    "# Listagem de outro 'order_id' especificado\n",
    "payments.loc[payments['order_id'] == \"fedcd9f7ccdc8cba3a18defedd1a5547\"].sort_values(by='payment_sequential')"
   ]
  },
  {
   "cell_type": "markdown",
   "metadata": {},
   "source": [
    "###### Continuando...\n",
    "> <font color=blue>Pergunta 2</font>: qual a qtde de 'installments' do 'order_id' abaixo que tem 3 registros (com diferentes valores de 'payment_installments')?\n",
    ">> Se usar 'count()' terei o errôneo resultado 3   \n",
    ">> se usar 'sum()' terei o errôneo resultado 11"
   ]
  },
  {
   "cell_type": "code",
   "execution_count": 98,
   "metadata": {},
   "outputs": [
    {
     "data": {
      "text/html": [
       "<div>\n",
       "<style scoped>\n",
       "    .dataframe tbody tr th:only-of-type {\n",
       "        vertical-align: middle;\n",
       "    }\n",
       "\n",
       "    .dataframe tbody tr th {\n",
       "        vertical-align: top;\n",
       "    }\n",
       "\n",
       "    .dataframe thead th {\n",
       "        text-align: right;\n",
       "    }\n",
       "</style>\n",
       "<table border=\"1\" class=\"dataframe\">\n",
       "  <thead>\n",
       "    <tr style=\"text-align: right;\">\n",
       "      <th></th>\n",
       "      <th>order_id</th>\n",
       "      <th>payment_sequential</th>\n",
       "      <th>payment_type</th>\n",
       "      <th>payment_installments</th>\n",
       "      <th>payment_value</th>\n",
       "    </tr>\n",
       "  </thead>\n",
       "  <tbody>\n",
       "    <tr>\n",
       "      <th>93089</th>\n",
       "      <td>1d251ab94983c4adb11e4b168abb1439</td>\n",
       "      <td>1</td>\n",
       "      <td>credit_card</td>\n",
       "      <td>6</td>\n",
       "      <td>118.56</td>\n",
       "    </tr>\n",
       "    <tr>\n",
       "      <th>15259</th>\n",
       "      <td>1d251ab94983c4adb11e4b168abb1439</td>\n",
       "      <td>2</td>\n",
       "      <td>credit_card</td>\n",
       "      <td>4</td>\n",
       "      <td>65.96</td>\n",
       "    </tr>\n",
       "    <tr>\n",
       "      <th>32551</th>\n",
       "      <td>1d251ab94983c4adb11e4b168abb1439</td>\n",
       "      <td>3</td>\n",
       "      <td>voucher</td>\n",
       "      <td>1</td>\n",
       "      <td>53.89</td>\n",
       "    </tr>\n",
       "  </tbody>\n",
       "</table>\n",
       "</div>"
      ],
      "text/plain": [
       "                               order_id  payment_sequential payment_type  \\\n",
       "93089  1d251ab94983c4adb11e4b168abb1439                   1  credit_card   \n",
       "15259  1d251ab94983c4adb11e4b168abb1439                   2  credit_card   \n",
       "32551  1d251ab94983c4adb11e4b168abb1439                   3      voucher   \n",
       "\n",
       "       payment_installments  payment_value  \n",
       "93089                     6         118.56  \n",
       "15259                     4          65.96  \n",
       "32551                     1          53.89  "
      ]
     },
     "execution_count": 98,
     "metadata": {},
     "output_type": "execute_result"
    }
   ],
   "source": [
    "# Listagem de outro 'order_id' especificado\n",
    "payments.loc[payments['order_id'] == \"1d251ab94983c4adb11e4b168abb1439\"].sort_values(by='payment_sequential')"
   ]
  },
  {
   "cell_type": "markdown",
   "metadata": {},
   "source": [
    "###### Bem..."
   ]
  },
  {
   "cell_type": "markdown",
   "metadata": {},
   "source": [
    "###### Looks like I just got an WhatsApp from myself\n",
    "> <font color=blue>A resposta a ambas as perguntas é: o número máximo.</font>\n",
    ">> Na pergunta 1, o número máximo é 1, então o número de prestações é 1, mesmo que haja 21 registros.  \n",
    ">> Na pergunta 2, o número máximo é 6 (dentre 6, 4 e 1), então consideraremos este como número de prestações.\n"
   ]
  },
  {
   "cell_type": "code",
   "execution_count": 99,
   "metadata": {},
   "outputs": [
    {
     "data": {
      "text/html": [
       "<div>\n",
       "<style scoped>\n",
       "    .dataframe tbody tr th:only-of-type {\n",
       "        vertical-align: middle;\n",
       "    }\n",
       "\n",
       "    .dataframe tbody tr th {\n",
       "        vertical-align: top;\n",
       "    }\n",
       "\n",
       "    .dataframe thead th {\n",
       "        text-align: right;\n",
       "    }\n",
       "</style>\n",
       "<table border=\"1\" class=\"dataframe\">\n",
       "  <thead>\n",
       "    <tr style=\"text-align: right;\">\n",
       "      <th></th>\n",
       "      <th>payment_installments</th>\n",
       "    </tr>\n",
       "    <tr>\n",
       "      <th>order_id</th>\n",
       "      <th></th>\n",
       "    </tr>\n",
       "  </thead>\n",
       "  <tbody>\n",
       "    <tr>\n",
       "      <th>ffb18bf111fa70edf316eb0390427986</th>\n",
       "      <td>24</td>\n",
       "    </tr>\n",
       "    <tr>\n",
       "      <th>fe808fc011ee4ae41f2ed8d1d52b6670</th>\n",
       "      <td>24</td>\n",
       "    </tr>\n",
       "    <tr>\n",
       "      <th>70b7e94ea46d3e8b5bc12a50186edaf0</th>\n",
       "      <td>24</td>\n",
       "    </tr>\n",
       "    <tr>\n",
       "      <th>859f516f2fc3f95772e63c5757ab0d5b</th>\n",
       "      <td>24</td>\n",
       "    </tr>\n",
       "    <tr>\n",
       "      <th>1800f4a4362310d7eb38281634f6dfd1</th>\n",
       "      <td>24</td>\n",
       "    </tr>\n",
       "    <tr>\n",
       "      <th>ff36cbc44b8f228e0449c92ef089c843</th>\n",
       "      <td>24</td>\n",
       "    </tr>\n",
       "    <tr>\n",
       "      <th>6ae2e8b8fac02522481d2a2f4ca4412c</th>\n",
       "      <td>24</td>\n",
       "    </tr>\n",
       "    <tr>\n",
       "      <th>fcbb6af360b31b05460c2c8e524588c0</th>\n",
       "      <td>24</td>\n",
       "    </tr>\n",
       "    <tr>\n",
       "      <th>f60ce04ff8060152c83c7c97e246d6a8</th>\n",
       "      <td>24</td>\n",
       "    </tr>\n",
       "    <tr>\n",
       "      <th>ef71772d55431467890fda2f45c7bdde</th>\n",
       "      <td>24</td>\n",
       "    </tr>\n",
       "    <tr>\n",
       "      <th>61450e6c8f56d52e46a198e57df7d731</th>\n",
       "      <td>24</td>\n",
       "    </tr>\n",
       "    <tr>\n",
       "      <th>d8d5cc8b2d42cce90b7ea35e5691a7b1</th>\n",
       "      <td>24</td>\n",
       "    </tr>\n",
       "    <tr>\n",
       "      <th>84d2098c97827c6327ed4d7be95e1fc8</th>\n",
       "      <td>24</td>\n",
       "    </tr>\n",
       "    <tr>\n",
       "      <th>63dbe0c8e63e5f1b4deec09d4f044a7f</th>\n",
       "      <td>24</td>\n",
       "    </tr>\n",
       "    <tr>\n",
       "      <th>d74fca7ee2ce7587c45eefb0fea95ed8</th>\n",
       "      <td>24</td>\n",
       "    </tr>\n",
       "    <tr>\n",
       "      <th>2b7dbe9be72b8f9733844c31055c0825</th>\n",
       "      <td>24</td>\n",
       "    </tr>\n",
       "    <tr>\n",
       "      <th>e02d61b42452cc6737650331d8bc8ad7</th>\n",
       "      <td>24</td>\n",
       "    </tr>\n",
       "    <tr>\n",
       "      <th>90f864fe19d11549fa01eb81c4dd87e3</th>\n",
       "      <td>24</td>\n",
       "    </tr>\n",
       "    <tr>\n",
       "      <th>657092a7391a08ae27775a441765b3bc</th>\n",
       "      <td>23</td>\n",
       "    </tr>\n",
       "    <tr>\n",
       "      <th>ef00af19f3e4667ac596baf6656e0ee4</th>\n",
       "      <td>22</td>\n",
       "    </tr>\n",
       "    <tr>\n",
       "      <th>28a32ec11abbac5c27adfa4d8cbc351a</th>\n",
       "      <td>21</td>\n",
       "    </tr>\n",
       "    <tr>\n",
       "      <th>fb4c654f040642300a388f17ee02be7f</th>\n",
       "      <td>21</td>\n",
       "    </tr>\n",
       "    <tr>\n",
       "      <th>bc2c82b0ef78d2252b6176d1972db7c9</th>\n",
       "      <td>21</td>\n",
       "    </tr>\n",
       "    <tr>\n",
       "      <th>6b24cf0591948a0a949ee51131cb78ad</th>\n",
       "      <td>20</td>\n",
       "    </tr>\n",
       "    <tr>\n",
       "      <th>2851b4d871e918b7328baeb639dda2dd</th>\n",
       "      <td>20</td>\n",
       "    </tr>\n",
       "  </tbody>\n",
       "</table>\n",
       "</div>"
      ],
      "text/plain": [
       "                                  payment_installments\n",
       "order_id                                              \n",
       "ffb18bf111fa70edf316eb0390427986                    24\n",
       "fe808fc011ee4ae41f2ed8d1d52b6670                    24\n",
       "70b7e94ea46d3e8b5bc12a50186edaf0                    24\n",
       "859f516f2fc3f95772e63c5757ab0d5b                    24\n",
       "1800f4a4362310d7eb38281634f6dfd1                    24\n",
       "ff36cbc44b8f228e0449c92ef089c843                    24\n",
       "6ae2e8b8fac02522481d2a2f4ca4412c                    24\n",
       "fcbb6af360b31b05460c2c8e524588c0                    24\n",
       "f60ce04ff8060152c83c7c97e246d6a8                    24\n",
       "ef71772d55431467890fda2f45c7bdde                    24\n",
       "61450e6c8f56d52e46a198e57df7d731                    24\n",
       "d8d5cc8b2d42cce90b7ea35e5691a7b1                    24\n",
       "84d2098c97827c6327ed4d7be95e1fc8                    24\n",
       "63dbe0c8e63e5f1b4deec09d4f044a7f                    24\n",
       "d74fca7ee2ce7587c45eefb0fea95ed8                    24\n",
       "2b7dbe9be72b8f9733844c31055c0825                    24\n",
       "e02d61b42452cc6737650331d8bc8ad7                    24\n",
       "90f864fe19d11549fa01eb81c4dd87e3                    24\n",
       "657092a7391a08ae27775a441765b3bc                    23\n",
       "ef00af19f3e4667ac596baf6656e0ee4                    22\n",
       "28a32ec11abbac5c27adfa4d8cbc351a                    21\n",
       "fb4c654f040642300a388f17ee02be7f                    21\n",
       "bc2c82b0ef78d2252b6176d1972db7c9                    21\n",
       "6b24cf0591948a0a949ee51131cb78ad                    20\n",
       "2851b4d871e918b7328baeb639dda2dd                    20"
      ]
     },
     "execution_count": 99,
     "metadata": {},
     "output_type": "execute_result"
    }
   ],
   "source": [
    "# Contagem de 'payment_installments' de cada 'order_id'\n",
    "# Usaremos a função 'max()'\n",
    "qtde_installments = payments.groupby('order_id')['payment_installments'].max()\n",
    "\n",
    "df_qtde_installments = pd.DataFrame(qtde_installments)\n",
    "\n",
    "df_qtde_installments.sort_values(by='payment_installments', ascending = False).head(25)"
   ]
  },
  {
   "cell_type": "code",
   "execution_count": 100,
   "metadata": {},
   "outputs": [
    {
     "data": {
      "text/html": [
       "<div>\n",
       "<style scoped>\n",
       "    .dataframe tbody tr th:only-of-type {\n",
       "        vertical-align: middle;\n",
       "    }\n",
       "\n",
       "    .dataframe tbody tr th {\n",
       "        vertical-align: top;\n",
       "    }\n",
       "\n",
       "    .dataframe thead th {\n",
       "        text-align: right;\n",
       "    }\n",
       "</style>\n",
       "<table border=\"1\" class=\"dataframe\">\n",
       "  <thead>\n",
       "    <tr style=\"text-align: right;\">\n",
       "      <th></th>\n",
       "      <th>order_id</th>\n",
       "      <th>payment_sequential</th>\n",
       "      <th>payment_type</th>\n",
       "      <th>payment_installments</th>\n",
       "      <th>payment_value</th>\n",
       "    </tr>\n",
       "  </thead>\n",
       "  <tbody>\n",
       "    <tr>\n",
       "      <th>82431</th>\n",
       "      <td>1800f4a4362310d7eb38281634f6dfd1</td>\n",
       "      <td>1</td>\n",
       "      <td>credit_card</td>\n",
       "      <td>24</td>\n",
       "      <td>325.37</td>\n",
       "    </tr>\n",
       "  </tbody>\n",
       "</table>\n",
       "</div>"
      ],
      "text/plain": [
       "                               order_id  payment_sequential payment_type  \\\n",
       "82431  1800f4a4362310d7eb38281634f6dfd1                   1  credit_card   \n",
       "\n",
       "       payment_installments  payment_value  \n",
       "82431                    24         325.37  "
      ]
     },
     "execution_count": 100,
     "metadata": {},
     "output_type": "execute_result"
    }
   ],
   "source": [
    "# 90f864fe19d11549fa01eb81c4dd87e3 tem 2 prestações\n",
    "# 2b7dbe9be72b8f9733844c31055c0825 tem 2 prestações\n",
    "# Listagem de 'order_id' especificado\n",
    "payments.loc[payments['order_id'] == \"1800f4a4362310d7eb38281634f6dfd1\"].sort_values(by='payment_sequential')"
   ]
  },
  {
   "cell_type": "code",
   "execution_count": 101,
   "metadata": {},
   "outputs": [
    {
     "data": {
      "text/html": [
       "<div>\n",
       "<style scoped>\n",
       "    .dataframe tbody tr th:only-of-type {\n",
       "        vertical-align: middle;\n",
       "    }\n",
       "\n",
       "    .dataframe tbody tr th {\n",
       "        vertical-align: top;\n",
       "    }\n",
       "\n",
       "    .dataframe thead th {\n",
       "        text-align: right;\n",
       "    }\n",
       "</style>\n",
       "<table border=\"1\" class=\"dataframe\">\n",
       "  <thead>\n",
       "    <tr style=\"text-align: right;\">\n",
       "      <th></th>\n",
       "      <th>order_id</th>\n",
       "      <th>payment_installments</th>\n",
       "    </tr>\n",
       "  </thead>\n",
       "  <tbody>\n",
       "    <tr>\n",
       "      <th>99329</th>\n",
       "      <td>ffb18bf111fa70edf316eb0390427986</td>\n",
       "      <td>24</td>\n",
       "    </tr>\n",
       "    <tr>\n",
       "      <th>98884</th>\n",
       "      <td>fe808fc011ee4ae41f2ed8d1d52b6670</td>\n",
       "      <td>24</td>\n",
       "    </tr>\n",
       "    <tr>\n",
       "      <th>43794</th>\n",
       "      <td>70b7e94ea46d3e8b5bc12a50186edaf0</td>\n",
       "      <td>24</td>\n",
       "    </tr>\n",
       "    <tr>\n",
       "      <th>51756</th>\n",
       "      <td>859f516f2fc3f95772e63c5757ab0d5b</td>\n",
       "      <td>24</td>\n",
       "    </tr>\n",
       "    <tr>\n",
       "      <th>9290</th>\n",
       "      <td>1800f4a4362310d7eb38281634f6dfd1</td>\n",
       "      <td>24</td>\n",
       "    </tr>\n",
       "  </tbody>\n",
       "</table>\n",
       "</div>"
      ],
      "text/plain": [
       "                               order_id  payment_installments\n",
       "99329  ffb18bf111fa70edf316eb0390427986                    24\n",
       "98884  fe808fc011ee4ae41f2ed8d1d52b6670                    24\n",
       "43794  70b7e94ea46d3e8b5bc12a50186edaf0                    24\n",
       "51756  859f516f2fc3f95772e63c5757ab0d5b                    24\n",
       "9290   1800f4a4362310d7eb38281634f6dfd1                    24"
      ]
     },
     "execution_count": 101,
     "metadata": {},
     "output_type": "execute_result"
    }
   ],
   "source": [
    "# Tira 'order_id' da condição de índice.\n",
    "df_qtde_installments_index_resetado = df_qtde_installments.reset_index()\n",
    "\n",
    "df_qtde_installments_index_resetado.sort_values(by='payment_installments', ascending = False).head()"
   ]
  },
  {
   "cell_type": "code",
   "execution_count": 102,
   "metadata": {},
   "outputs": [
    {
     "data": {
      "text/plain": [
       "(99440, 2)"
      ]
     },
     "execution_count": 102,
     "metadata": {},
     "output_type": "execute_result"
    }
   ],
   "source": [
    "df_qtde_installments_index_resetado.shape"
   ]
  },
  {
   "cell_type": "code",
   "execution_count": 103,
   "metadata": {},
   "outputs": [
    {
     "data": {
      "text/plain": [
       "99440"
      ]
     },
     "execution_count": 103,
     "metadata": {},
     "output_type": "execute_result"
    }
   ],
   "source": [
    "df_qtde_installments_index_resetado['order_id'].nunique()"
   ]
  },
  {
   "cell_type": "markdown",
   "metadata": {},
   "source": [
    "###### DataFrame <font color=red>\"df_qtde_installments_index_resetado\"</font> pronto para join"
   ]
  },
  {
   "cell_type": "markdown",
   "metadata": {},
   "source": [
    "                                 ------------------ x -------------------"
   ]
  },
  {
   "cell_type": "markdown",
   "metadata": {},
   "source": [
    "                                 ------------------ x -------------------"
   ]
  },
  {
   "cell_type": "markdown",
   "metadata": {},
   "source": [
    "##### 4.2.2d - IMPLEMENTAÇÃO da criação de colunas novas na tabela <font color=red>\"payments\" </font>\n",
    "> A movimentação dos dados para a tabela <font color=red>\"payments\" </font> será feita por 'merge'"
   ]
  },
  {
   "cell_type": "code",
   "execution_count": 104,
   "metadata": {},
   "outputs": [
    {
     "data": {
      "text/html": [
       "<div>\n",
       "<style scoped>\n",
       "    .dataframe tbody tr th:only-of-type {\n",
       "        vertical-align: middle;\n",
       "    }\n",
       "\n",
       "    .dataframe tbody tr th {\n",
       "        vertical-align: top;\n",
       "    }\n",
       "\n",
       "    .dataframe thead th {\n",
       "        text-align: right;\n",
       "    }\n",
       "</style>\n",
       "<table border=\"1\" class=\"dataframe\">\n",
       "  <thead>\n",
       "    <tr style=\"text-align: right;\">\n",
       "      <th></th>\n",
       "      <th>order_id</th>\n",
       "      <th>payment_sequential</th>\n",
       "      <th>payment_type</th>\n",
       "      <th>payment_installments</th>\n",
       "      <th>payment_value</th>\n",
       "    </tr>\n",
       "  </thead>\n",
       "  <tbody>\n",
       "    <tr>\n",
       "      <th>0</th>\n",
       "      <td>b81ef226f3fe1789b1e8b2acac839d17</td>\n",
       "      <td>1</td>\n",
       "      <td>credit_card</td>\n",
       "      <td>8</td>\n",
       "      <td>99.33</td>\n",
       "    </tr>\n",
       "  </tbody>\n",
       "</table>\n",
       "</div>"
      ],
      "text/plain": [
       "                           order_id  payment_sequential payment_type  \\\n",
       "0  b81ef226f3fe1789b1e8b2acac839d17                   1  credit_card   \n",
       "\n",
       "   payment_installments  payment_value  \n",
       "0                     8          99.33  "
      ]
     },
     "execution_count": 104,
     "metadata": {},
     "output_type": "execute_result"
    }
   ],
   "source": [
    "payments.head(1)"
   ]
  },
  {
   "cell_type": "code",
   "execution_count": 105,
   "metadata": {},
   "outputs": [
    {
     "data": {
      "text/html": [
       "<div>\n",
       "<style scoped>\n",
       "    .dataframe tbody tr th:only-of-type {\n",
       "        vertical-align: middle;\n",
       "    }\n",
       "\n",
       "    .dataframe tbody tr th {\n",
       "        vertical-align: top;\n",
       "    }\n",
       "\n",
       "    .dataframe thead th {\n",
       "        text-align: right;\n",
       "    }\n",
       "</style>\n",
       "<table border=\"1\" class=\"dataframe\">\n",
       "  <thead>\n",
       "    <tr style=\"text-align: right;\">\n",
       "      <th></th>\n",
       "      <th>order_id</th>\n",
       "    </tr>\n",
       "  </thead>\n",
       "  <tbody>\n",
       "    <tr>\n",
       "      <th>0</th>\n",
       "      <td>b81ef226f3fe1789b1e8b2acac839d17</td>\n",
       "    </tr>\n",
       "  </tbody>\n",
       "</table>\n",
       "</div>"
      ],
      "text/plain": [
       "                           order_id\n",
       "0  b81ef226f3fe1789b1e8b2acac839d17"
      ]
     },
     "execution_count": 105,
     "metadata": {},
     "output_type": "execute_result"
    }
   ],
   "source": [
    "# deleção de todos os campos que não sejam 'order_id'\n",
    "payments_somente_order = payments.drop(['payment_sequential', 'payment_type', 'payment_installments', 'payment_value'], axis=1)\n",
    "payments_somente_order.head(1)"
   ]
  },
  {
   "cell_type": "markdown",
   "metadata": {},
   "source": [
    "###### Os DataFrames usados no join são:\n",
    "> 1. payments_somente_boleto   \n",
    "2. df_qtde_credit_card_index_resetado  \n",
    "3. df_qtde_debit_card_index_resetado  \n",
    "4. payments_somente_not_defined  \n",
    "5. df_qtde_voucher_index_resetado  \n",
    "6. df_soma_payment_value_index_resetado  \n",
    "7. df_qtde_installments_index_resetado"
   ]
  },
  {
   "cell_type": "markdown",
   "metadata": {},
   "source": [
    "                                     1.Merge para obter 'qtde_boleto'"
   ]
  },
  {
   "cell_type": "code",
   "execution_count": 106,
   "metadata": {},
   "outputs": [
    {
     "data": {
      "text/html": [
       "<div>\n",
       "<style scoped>\n",
       "    .dataframe tbody tr th:only-of-type {\n",
       "        vertical-align: middle;\n",
       "    }\n",
       "\n",
       "    .dataframe tbody tr th {\n",
       "        vertical-align: top;\n",
       "    }\n",
       "\n",
       "    .dataframe thead th {\n",
       "        text-align: right;\n",
       "    }\n",
       "</style>\n",
       "<table border=\"1\" class=\"dataframe\">\n",
       "  <thead>\n",
       "    <tr style=\"text-align: right;\">\n",
       "      <th></th>\n",
       "      <th>order_id</th>\n",
       "      <th>payment_sequential</th>\n",
       "      <th>qtde_boleto</th>\n",
       "      <th>payment_installments</th>\n",
       "      <th>payment_value</th>\n",
       "    </tr>\n",
       "  </thead>\n",
       "  <tbody>\n",
       "    <tr>\n",
       "      <th>9</th>\n",
       "      <td>0573b5e23cbd798006520e1d5b4c6714</td>\n",
       "      <td>1</td>\n",
       "      <td>1</td>\n",
       "      <td>1</td>\n",
       "      <td>51.95</td>\n",
       "    </tr>\n",
       "  </tbody>\n",
       "</table>\n",
       "</div>"
      ],
      "text/plain": [
       "                           order_id  payment_sequential  qtde_boleto  \\\n",
       "9  0573b5e23cbd798006520e1d5b4c6714                   1            1   \n",
       "\n",
       "   payment_installments  payment_value  \n",
       "9                     1          51.95  "
      ]
     },
     "execution_count": 106,
     "metadata": {},
     "output_type": "execute_result"
    }
   ],
   "source": [
    "payments_somente_boleto.head(1)"
   ]
  },
  {
   "cell_type": "code",
   "execution_count": 107,
   "metadata": {},
   "outputs": [],
   "source": [
    "# exemplo de merge  --->    m = pd.merge(tabela_1, tabela_2, how = 'left', on = 'Nome')\n",
    "payments_boleto = pd.merge(payments_somente_order, payments_somente_boleto, how = 'left', on = 'order_id')"
   ]
  },
  {
   "cell_type": "code",
   "execution_count": 108,
   "metadata": {},
   "outputs": [
    {
     "data": {
      "text/plain": [
       "(103886, 5)"
      ]
     },
     "execution_count": 108,
     "metadata": {},
     "output_type": "execute_result"
    }
   ],
   "source": [
    "payments_boleto.shape"
   ]
  },
  {
   "cell_type": "code",
   "execution_count": 109,
   "metadata": {},
   "outputs": [
    {
     "data": {
      "text/html": [
       "<div>\n",
       "<style scoped>\n",
       "    .dataframe tbody tr th:only-of-type {\n",
       "        vertical-align: middle;\n",
       "    }\n",
       "\n",
       "    .dataframe tbody tr th {\n",
       "        vertical-align: top;\n",
       "    }\n",
       "\n",
       "    .dataframe thead th {\n",
       "        text-align: right;\n",
       "    }\n",
       "</style>\n",
       "<table border=\"1\" class=\"dataframe\">\n",
       "  <thead>\n",
       "    <tr style=\"text-align: right;\">\n",
       "      <th></th>\n",
       "      <th>order_id</th>\n",
       "      <th>payment_sequential</th>\n",
       "      <th>qtde_boleto</th>\n",
       "      <th>payment_installments</th>\n",
       "      <th>payment_value</th>\n",
       "    </tr>\n",
       "  </thead>\n",
       "  <tbody>\n",
       "    <tr>\n",
       "      <th>0</th>\n",
       "      <td>b81ef226f3fe1789b1e8b2acac839d17</td>\n",
       "      <td>nan</td>\n",
       "      <td>nan</td>\n",
       "      <td>nan</td>\n",
       "      <td>nan</td>\n",
       "    </tr>\n",
       "    <tr>\n",
       "      <th>1</th>\n",
       "      <td>a9810da82917af2d9aefd1278f1dcfa0</td>\n",
       "      <td>nan</td>\n",
       "      <td>nan</td>\n",
       "      <td>nan</td>\n",
       "      <td>nan</td>\n",
       "    </tr>\n",
       "    <tr>\n",
       "      <th>2</th>\n",
       "      <td>25e8ea4e93396b6fa0d3dd708e76c1bd</td>\n",
       "      <td>nan</td>\n",
       "      <td>nan</td>\n",
       "      <td>nan</td>\n",
       "      <td>nan</td>\n",
       "    </tr>\n",
       "    <tr>\n",
       "      <th>3</th>\n",
       "      <td>ba78997921bbcdc1373bb41e913ab953</td>\n",
       "      <td>nan</td>\n",
       "      <td>nan</td>\n",
       "      <td>nan</td>\n",
       "      <td>nan</td>\n",
       "    </tr>\n",
       "    <tr>\n",
       "      <th>4</th>\n",
       "      <td>42fdf880ba16b47b59251dd489d4441a</td>\n",
       "      <td>nan</td>\n",
       "      <td>nan</td>\n",
       "      <td>nan</td>\n",
       "      <td>nan</td>\n",
       "    </tr>\n",
       "  </tbody>\n",
       "</table>\n",
       "</div>"
      ],
      "text/plain": [
       "                           order_id  payment_sequential  qtde_boleto  \\\n",
       "0  b81ef226f3fe1789b1e8b2acac839d17                 nan          nan   \n",
       "1  a9810da82917af2d9aefd1278f1dcfa0                 nan          nan   \n",
       "2  25e8ea4e93396b6fa0d3dd708e76c1bd                 nan          nan   \n",
       "3  ba78997921bbcdc1373bb41e913ab953                 nan          nan   \n",
       "4  42fdf880ba16b47b59251dd489d4441a                 nan          nan   \n",
       "\n",
       "   payment_installments  payment_value  \n",
       "0                   nan            nan  \n",
       "1                   nan            nan  \n",
       "2                   nan            nan  \n",
       "3                   nan            nan  \n",
       "4                   nan            nan  "
      ]
     },
     "execution_count": 109,
     "metadata": {},
     "output_type": "execute_result"
    }
   ],
   "source": [
    "payments_boleto.head()"
   ]
  },
  {
   "cell_type": "code",
   "execution_count": 110,
   "metadata": {},
   "outputs": [
    {
     "data": {
      "text/html": [
       "<div>\n",
       "<style scoped>\n",
       "    .dataframe tbody tr th:only-of-type {\n",
       "        vertical-align: middle;\n",
       "    }\n",
       "\n",
       "    .dataframe tbody tr th {\n",
       "        vertical-align: top;\n",
       "    }\n",
       "\n",
       "    .dataframe thead th {\n",
       "        text-align: right;\n",
       "    }\n",
       "</style>\n",
       "<table border=\"1\" class=\"dataframe\">\n",
       "  <thead>\n",
       "    <tr style=\"text-align: right;\">\n",
       "      <th></th>\n",
       "      <th>order_id</th>\n",
       "      <th>qtde_boleto</th>\n",
       "    </tr>\n",
       "  </thead>\n",
       "  <tbody>\n",
       "    <tr>\n",
       "      <th>103881</th>\n",
       "      <td>0406037ad97740d563a178ecc7a2075c</td>\n",
       "      <td>1.00</td>\n",
       "    </tr>\n",
       "    <tr>\n",
       "      <th>103882</th>\n",
       "      <td>7b905861d7c825891d6347454ea7863f</td>\n",
       "      <td>nan</td>\n",
       "    </tr>\n",
       "    <tr>\n",
       "      <th>103883</th>\n",
       "      <td>32609bbb3dd69b3c066a6860554a77bf</td>\n",
       "      <td>nan</td>\n",
       "    </tr>\n",
       "    <tr>\n",
       "      <th>103884</th>\n",
       "      <td>b8b61059626efa996a60be9bb9320e10</td>\n",
       "      <td>nan</td>\n",
       "    </tr>\n",
       "    <tr>\n",
       "      <th>103885</th>\n",
       "      <td>28bbae6599b09d39ca406b747b6632b1</td>\n",
       "      <td>1.00</td>\n",
       "    </tr>\n",
       "  </tbody>\n",
       "</table>\n",
       "</div>"
      ],
      "text/plain": [
       "                                order_id  qtde_boleto\n",
       "103881  0406037ad97740d563a178ecc7a2075c         1.00\n",
       "103882  7b905861d7c825891d6347454ea7863f          nan\n",
       "103883  32609bbb3dd69b3c066a6860554a77bf          nan\n",
       "103884  b8b61059626efa996a60be9bb9320e10          nan\n",
       "103885  28bbae6599b09d39ca406b747b6632b1         1.00"
      ]
     },
     "execution_count": 110,
     "metadata": {},
     "output_type": "execute_result"
    }
   ],
   "source": [
    "# Deleção dos campos não mais necessários\n",
    "payments_boleto_limpo = payments_boleto.drop(['payment_sequential', 'payment_installments','payment_value'], axis=1)\n",
    "payments_boleto_limpo.tail()"
   ]
  },
  {
   "cell_type": "markdown",
   "metadata": {},
   "source": [
    "                                     2.Merge para obter 'qtde_credit_card'"
   ]
  },
  {
   "cell_type": "code",
   "execution_count": 111,
   "metadata": {},
   "outputs": [
    {
     "data": {
      "text/html": [
       "<div>\n",
       "<style scoped>\n",
       "    .dataframe tbody tr th:only-of-type {\n",
       "        vertical-align: middle;\n",
       "    }\n",
       "\n",
       "    .dataframe tbody tr th {\n",
       "        vertical-align: top;\n",
       "    }\n",
       "\n",
       "    .dataframe thead th {\n",
       "        text-align: right;\n",
       "    }\n",
       "</style>\n",
       "<table border=\"1\" class=\"dataframe\">\n",
       "  <thead>\n",
       "    <tr style=\"text-align: right;\">\n",
       "      <th></th>\n",
       "      <th>order_id</th>\n",
       "      <th>qtde_credit_card</th>\n",
       "    </tr>\n",
       "  </thead>\n",
       "  <tbody>\n",
       "    <tr>\n",
       "      <th>0</th>\n",
       "      <td>00010242fe8c5a6d1ba2dd792cb16214</td>\n",
       "      <td>1</td>\n",
       "    </tr>\n",
       "  </tbody>\n",
       "</table>\n",
       "</div>"
      ],
      "text/plain": [
       "                           order_id  qtde_credit_card\n",
       "0  00010242fe8c5a6d1ba2dd792cb16214                 1"
      ]
     },
     "execution_count": 111,
     "metadata": {},
     "output_type": "execute_result"
    }
   ],
   "source": [
    "df_qtde_credit_card_index_resetado.head(1)"
   ]
  },
  {
   "cell_type": "code",
   "execution_count": 112,
   "metadata": {},
   "outputs": [
    {
     "data": {
      "text/html": [
       "<div>\n",
       "<style scoped>\n",
       "    .dataframe tbody tr th:only-of-type {\n",
       "        vertical-align: middle;\n",
       "    }\n",
       "\n",
       "    .dataframe tbody tr th {\n",
       "        vertical-align: top;\n",
       "    }\n",
       "\n",
       "    .dataframe thead th {\n",
       "        text-align: right;\n",
       "    }\n",
       "</style>\n",
       "<table border=\"1\" class=\"dataframe\">\n",
       "  <thead>\n",
       "    <tr style=\"text-align: right;\">\n",
       "      <th></th>\n",
       "      <th>order_id</th>\n",
       "      <th>qtde_boleto</th>\n",
       "      <th>qtde_credit_card</th>\n",
       "    </tr>\n",
       "  </thead>\n",
       "  <tbody>\n",
       "    <tr>\n",
       "      <th>0</th>\n",
       "      <td>b81ef226f3fe1789b1e8b2acac839d17</td>\n",
       "      <td>nan</td>\n",
       "      <td>1.00</td>\n",
       "    </tr>\n",
       "    <tr>\n",
       "      <th>1</th>\n",
       "      <td>a9810da82917af2d9aefd1278f1dcfa0</td>\n",
       "      <td>nan</td>\n",
       "      <td>1.00</td>\n",
       "    </tr>\n",
       "    <tr>\n",
       "      <th>2</th>\n",
       "      <td>25e8ea4e93396b6fa0d3dd708e76c1bd</td>\n",
       "      <td>nan</td>\n",
       "      <td>1.00</td>\n",
       "    </tr>\n",
       "    <tr>\n",
       "      <th>3</th>\n",
       "      <td>ba78997921bbcdc1373bb41e913ab953</td>\n",
       "      <td>nan</td>\n",
       "      <td>1.00</td>\n",
       "    </tr>\n",
       "    <tr>\n",
       "      <th>4</th>\n",
       "      <td>42fdf880ba16b47b59251dd489d4441a</td>\n",
       "      <td>nan</td>\n",
       "      <td>1.00</td>\n",
       "    </tr>\n",
       "  </tbody>\n",
       "</table>\n",
       "</div>"
      ],
      "text/plain": [
       "                           order_id  qtde_boleto  qtde_credit_card\n",
       "0  b81ef226f3fe1789b1e8b2acac839d17          nan              1.00\n",
       "1  a9810da82917af2d9aefd1278f1dcfa0          nan              1.00\n",
       "2  25e8ea4e93396b6fa0d3dd708e76c1bd          nan              1.00\n",
       "3  ba78997921bbcdc1373bb41e913ab953          nan              1.00\n",
       "4  42fdf880ba16b47b59251dd489d4441a          nan              1.00"
      ]
     },
     "execution_count": 112,
     "metadata": {},
     "output_type": "execute_result"
    }
   ],
   "source": [
    "boleto_credit_card = pd.merge(payments_boleto_limpo, df_qtde_credit_card_index_resetado, how = 'left', on = 'order_id')\n",
    "boleto_credit_card.head()"
   ]
  },
  {
   "cell_type": "code",
   "execution_count": 113,
   "metadata": {},
   "outputs": [
    {
     "data": {
      "text/plain": [
       "(103886, 3)"
      ]
     },
     "execution_count": 113,
     "metadata": {},
     "output_type": "execute_result"
    }
   ],
   "source": [
    "boleto_credit_card.shape"
   ]
  },
  {
   "cell_type": "markdown",
   "metadata": {},
   "source": [
    "                                     3.Merge para obter 'qtde_debit_card'"
   ]
  },
  {
   "cell_type": "code",
   "execution_count": 114,
   "metadata": {},
   "outputs": [
    {
     "data": {
      "text/html": [
       "<div>\n",
       "<style scoped>\n",
       "    .dataframe tbody tr th:only-of-type {\n",
       "        vertical-align: middle;\n",
       "    }\n",
       "\n",
       "    .dataframe tbody tr th {\n",
       "        vertical-align: top;\n",
       "    }\n",
       "\n",
       "    .dataframe thead th {\n",
       "        text-align: right;\n",
       "    }\n",
       "</style>\n",
       "<table border=\"1\" class=\"dataframe\">\n",
       "  <thead>\n",
       "    <tr style=\"text-align: right;\">\n",
       "      <th></th>\n",
       "      <th>order_id</th>\n",
       "      <th>qtde_debit_card</th>\n",
       "    </tr>\n",
       "  </thead>\n",
       "  <tbody>\n",
       "    <tr>\n",
       "      <th>0</th>\n",
       "      <td>002f16b7bc4530031b7d90f791b12d8a</td>\n",
       "      <td>1</td>\n",
       "    </tr>\n",
       "  </tbody>\n",
       "</table>\n",
       "</div>"
      ],
      "text/plain": [
       "                           order_id  qtde_debit_card\n",
       "0  002f16b7bc4530031b7d90f791b12d8a                1"
      ]
     },
     "execution_count": 114,
     "metadata": {},
     "output_type": "execute_result"
    }
   ],
   "source": [
    "df_qtde_debit_card_index_resetado.head(1)"
   ]
  },
  {
   "cell_type": "code",
   "execution_count": 115,
   "metadata": {},
   "outputs": [
    {
     "data": {
      "text/html": [
       "<div>\n",
       "<style scoped>\n",
       "    .dataframe tbody tr th:only-of-type {\n",
       "        vertical-align: middle;\n",
       "    }\n",
       "\n",
       "    .dataframe tbody tr th {\n",
       "        vertical-align: top;\n",
       "    }\n",
       "\n",
       "    .dataframe thead th {\n",
       "        text-align: right;\n",
       "    }\n",
       "</style>\n",
       "<table border=\"1\" class=\"dataframe\">\n",
       "  <thead>\n",
       "    <tr style=\"text-align: right;\">\n",
       "      <th></th>\n",
       "      <th>order_id</th>\n",
       "      <th>qtde_boleto</th>\n",
       "      <th>qtde_credit_card</th>\n",
       "      <th>qtde_debit_card</th>\n",
       "    </tr>\n",
       "  </thead>\n",
       "  <tbody>\n",
       "    <tr>\n",
       "      <th>0</th>\n",
       "      <td>b81ef226f3fe1789b1e8b2acac839d17</td>\n",
       "      <td>nan</td>\n",
       "      <td>1.00</td>\n",
       "      <td>nan</td>\n",
       "    </tr>\n",
       "    <tr>\n",
       "      <th>1</th>\n",
       "      <td>a9810da82917af2d9aefd1278f1dcfa0</td>\n",
       "      <td>nan</td>\n",
       "      <td>1.00</td>\n",
       "      <td>nan</td>\n",
       "    </tr>\n",
       "    <tr>\n",
       "      <th>2</th>\n",
       "      <td>25e8ea4e93396b6fa0d3dd708e76c1bd</td>\n",
       "      <td>nan</td>\n",
       "      <td>1.00</td>\n",
       "      <td>nan</td>\n",
       "    </tr>\n",
       "    <tr>\n",
       "      <th>3</th>\n",
       "      <td>ba78997921bbcdc1373bb41e913ab953</td>\n",
       "      <td>nan</td>\n",
       "      <td>1.00</td>\n",
       "      <td>nan</td>\n",
       "    </tr>\n",
       "    <tr>\n",
       "      <th>4</th>\n",
       "      <td>42fdf880ba16b47b59251dd489d4441a</td>\n",
       "      <td>nan</td>\n",
       "      <td>1.00</td>\n",
       "      <td>nan</td>\n",
       "    </tr>\n",
       "  </tbody>\n",
       "</table>\n",
       "</div>"
      ],
      "text/plain": [
       "                           order_id  qtde_boleto  qtde_credit_card  \\\n",
       "0  b81ef226f3fe1789b1e8b2acac839d17          nan              1.00   \n",
       "1  a9810da82917af2d9aefd1278f1dcfa0          nan              1.00   \n",
       "2  25e8ea4e93396b6fa0d3dd708e76c1bd          nan              1.00   \n",
       "3  ba78997921bbcdc1373bb41e913ab953          nan              1.00   \n",
       "4  42fdf880ba16b47b59251dd489d4441a          nan              1.00   \n",
       "\n",
       "   qtde_debit_card  \n",
       "0              nan  \n",
       "1              nan  \n",
       "2              nan  \n",
       "3              nan  \n",
       "4              nan  "
      ]
     },
     "execution_count": 115,
     "metadata": {},
     "output_type": "execute_result"
    }
   ],
   "source": [
    "boleto_credit_e_debit_card = pd.merge(boleto_credit_card, df_qtde_debit_card_index_resetado, how = 'left', on = 'order_id')\n",
    "boleto_credit_e_debit_card.head()"
   ]
  },
  {
   "cell_type": "code",
   "execution_count": 116,
   "metadata": {},
   "outputs": [
    {
     "data": {
      "text/plain": [
       "(103886, 4)"
      ]
     },
     "execution_count": 116,
     "metadata": {},
     "output_type": "execute_result"
    }
   ],
   "source": [
    "boleto_credit_e_debit_card.shape"
   ]
  },
  {
   "cell_type": "markdown",
   "metadata": {},
   "source": [
    "                                     4.Merge para obter 'qtde_not_defined'"
   ]
  },
  {
   "cell_type": "code",
   "execution_count": 117,
   "metadata": {},
   "outputs": [
    {
     "data": {
      "text/html": [
       "<div>\n",
       "<style scoped>\n",
       "    .dataframe tbody tr th:only-of-type {\n",
       "        vertical-align: middle;\n",
       "    }\n",
       "\n",
       "    .dataframe tbody tr th {\n",
       "        vertical-align: top;\n",
       "    }\n",
       "\n",
       "    .dataframe thead th {\n",
       "        text-align: right;\n",
       "    }\n",
       "</style>\n",
       "<table border=\"1\" class=\"dataframe\">\n",
       "  <thead>\n",
       "    <tr style=\"text-align: right;\">\n",
       "      <th></th>\n",
       "      <th>order_id</th>\n",
       "      <th>payment_sequential</th>\n",
       "      <th>qtde_not_defined</th>\n",
       "      <th>payment_installments</th>\n",
       "      <th>payment_value</th>\n",
       "    </tr>\n",
       "  </thead>\n",
       "  <tbody>\n",
       "    <tr>\n",
       "      <th>51280</th>\n",
       "      <td>4637ca194b6387e2d538dc89b124b0ee</td>\n",
       "      <td>1</td>\n",
       "      <td>1</td>\n",
       "      <td>1</td>\n",
       "      <td>0.00</td>\n",
       "    </tr>\n",
       "  </tbody>\n",
       "</table>\n",
       "</div>"
      ],
      "text/plain": [
       "                               order_id  payment_sequential  qtde_not_defined  \\\n",
       "51280  4637ca194b6387e2d538dc89b124b0ee                   1                 1   \n",
       "\n",
       "       payment_installments  payment_value  \n",
       "51280                     1           0.00  "
      ]
     },
     "execution_count": 117,
     "metadata": {},
     "output_type": "execute_result"
    }
   ],
   "source": [
    "payments_somente_not_defined.head(1)"
   ]
  },
  {
   "cell_type": "code",
   "execution_count": 118,
   "metadata": {},
   "outputs": [
    {
     "data": {
      "text/html": [
       "<div>\n",
       "<style scoped>\n",
       "    .dataframe tbody tr th:only-of-type {\n",
       "        vertical-align: middle;\n",
       "    }\n",
       "\n",
       "    .dataframe tbody tr th {\n",
       "        vertical-align: top;\n",
       "    }\n",
       "\n",
       "    .dataframe thead th {\n",
       "        text-align: right;\n",
       "    }\n",
       "</style>\n",
       "<table border=\"1\" class=\"dataframe\">\n",
       "  <thead>\n",
       "    <tr style=\"text-align: right;\">\n",
       "      <th></th>\n",
       "      <th>order_id</th>\n",
       "      <th>qtde_boleto</th>\n",
       "      <th>qtde_credit_card</th>\n",
       "      <th>qtde_debit_card</th>\n",
       "      <th>payment_sequential</th>\n",
       "      <th>qtde_not_defined</th>\n",
       "      <th>payment_installments</th>\n",
       "      <th>payment_value</th>\n",
       "    </tr>\n",
       "  </thead>\n",
       "  <tbody>\n",
       "    <tr>\n",
       "      <th>0</th>\n",
       "      <td>b81ef226f3fe1789b1e8b2acac839d17</td>\n",
       "      <td>nan</td>\n",
       "      <td>1.00</td>\n",
       "      <td>nan</td>\n",
       "      <td>nan</td>\n",
       "      <td>nan</td>\n",
       "      <td>nan</td>\n",
       "      <td>nan</td>\n",
       "    </tr>\n",
       "    <tr>\n",
       "      <th>1</th>\n",
       "      <td>a9810da82917af2d9aefd1278f1dcfa0</td>\n",
       "      <td>nan</td>\n",
       "      <td>1.00</td>\n",
       "      <td>nan</td>\n",
       "      <td>nan</td>\n",
       "      <td>nan</td>\n",
       "      <td>nan</td>\n",
       "      <td>nan</td>\n",
       "    </tr>\n",
       "    <tr>\n",
       "      <th>2</th>\n",
       "      <td>25e8ea4e93396b6fa0d3dd708e76c1bd</td>\n",
       "      <td>nan</td>\n",
       "      <td>1.00</td>\n",
       "      <td>nan</td>\n",
       "      <td>nan</td>\n",
       "      <td>nan</td>\n",
       "      <td>nan</td>\n",
       "      <td>nan</td>\n",
       "    </tr>\n",
       "    <tr>\n",
       "      <th>3</th>\n",
       "      <td>ba78997921bbcdc1373bb41e913ab953</td>\n",
       "      <td>nan</td>\n",
       "      <td>1.00</td>\n",
       "      <td>nan</td>\n",
       "      <td>nan</td>\n",
       "      <td>nan</td>\n",
       "      <td>nan</td>\n",
       "      <td>nan</td>\n",
       "    </tr>\n",
       "    <tr>\n",
       "      <th>4</th>\n",
       "      <td>42fdf880ba16b47b59251dd489d4441a</td>\n",
       "      <td>nan</td>\n",
       "      <td>1.00</td>\n",
       "      <td>nan</td>\n",
       "      <td>nan</td>\n",
       "      <td>nan</td>\n",
       "      <td>nan</td>\n",
       "      <td>nan</td>\n",
       "    </tr>\n",
       "  </tbody>\n",
       "</table>\n",
       "</div>"
      ],
      "text/plain": [
       "                           order_id  qtde_boleto  qtde_credit_card  \\\n",
       "0  b81ef226f3fe1789b1e8b2acac839d17          nan              1.00   \n",
       "1  a9810da82917af2d9aefd1278f1dcfa0          nan              1.00   \n",
       "2  25e8ea4e93396b6fa0d3dd708e76c1bd          nan              1.00   \n",
       "3  ba78997921bbcdc1373bb41e913ab953          nan              1.00   \n",
       "4  42fdf880ba16b47b59251dd489d4441a          nan              1.00   \n",
       "\n",
       "   qtde_debit_card  payment_sequential  qtde_not_defined  \\\n",
       "0              nan                 nan               nan   \n",
       "1              nan                 nan               nan   \n",
       "2              nan                 nan               nan   \n",
       "3              nan                 nan               nan   \n",
       "4              nan                 nan               nan   \n",
       "\n",
       "   payment_installments  payment_value  \n",
       "0                   nan            nan  \n",
       "1                   nan            nan  \n",
       "2                   nan            nan  \n",
       "3                   nan            nan  \n",
       "4                   nan            nan  "
      ]
     },
     "execution_count": 118,
     "metadata": {},
     "output_type": "execute_result"
    }
   ],
   "source": [
    "boleto_credit_debit_NotDefined = pd.merge(boleto_credit_e_debit_card, payments_somente_not_defined, how = 'left', on = 'order_id')\n",
    "boleto_credit_debit_NotDefined.head()"
   ]
  },
  {
   "cell_type": "code",
   "execution_count": 119,
   "metadata": {},
   "outputs": [
    {
     "data": {
      "text/html": [
       "<div>\n",
       "<style scoped>\n",
       "    .dataframe tbody tr th:only-of-type {\n",
       "        vertical-align: middle;\n",
       "    }\n",
       "\n",
       "    .dataframe tbody tr th {\n",
       "        vertical-align: top;\n",
       "    }\n",
       "\n",
       "    .dataframe thead th {\n",
       "        text-align: right;\n",
       "    }\n",
       "</style>\n",
       "<table border=\"1\" class=\"dataframe\">\n",
       "  <thead>\n",
       "    <tr style=\"text-align: right;\">\n",
       "      <th></th>\n",
       "      <th>order_id</th>\n",
       "      <th>qtde_boleto</th>\n",
       "      <th>qtde_credit_card</th>\n",
       "      <th>qtde_debit_card</th>\n",
       "      <th>qtde_not_defined</th>\n",
       "    </tr>\n",
       "  </thead>\n",
       "  <tbody>\n",
       "    <tr>\n",
       "      <th>103881</th>\n",
       "      <td>0406037ad97740d563a178ecc7a2075c</td>\n",
       "      <td>1.00</td>\n",
       "      <td>nan</td>\n",
       "      <td>nan</td>\n",
       "      <td>nan</td>\n",
       "    </tr>\n",
       "    <tr>\n",
       "      <th>103882</th>\n",
       "      <td>7b905861d7c825891d6347454ea7863f</td>\n",
       "      <td>nan</td>\n",
       "      <td>1.00</td>\n",
       "      <td>nan</td>\n",
       "      <td>nan</td>\n",
       "    </tr>\n",
       "    <tr>\n",
       "      <th>103883</th>\n",
       "      <td>32609bbb3dd69b3c066a6860554a77bf</td>\n",
       "      <td>nan</td>\n",
       "      <td>1.00</td>\n",
       "      <td>nan</td>\n",
       "      <td>nan</td>\n",
       "    </tr>\n",
       "    <tr>\n",
       "      <th>103884</th>\n",
       "      <td>b8b61059626efa996a60be9bb9320e10</td>\n",
       "      <td>nan</td>\n",
       "      <td>1.00</td>\n",
       "      <td>nan</td>\n",
       "      <td>nan</td>\n",
       "    </tr>\n",
       "    <tr>\n",
       "      <th>103885</th>\n",
       "      <td>28bbae6599b09d39ca406b747b6632b1</td>\n",
       "      <td>1.00</td>\n",
       "      <td>nan</td>\n",
       "      <td>nan</td>\n",
       "      <td>nan</td>\n",
       "    </tr>\n",
       "  </tbody>\n",
       "</table>\n",
       "</div>"
      ],
      "text/plain": [
       "                                order_id  qtde_boleto  qtde_credit_card  \\\n",
       "103881  0406037ad97740d563a178ecc7a2075c         1.00               nan   \n",
       "103882  7b905861d7c825891d6347454ea7863f          nan              1.00   \n",
       "103883  32609bbb3dd69b3c066a6860554a77bf          nan              1.00   \n",
       "103884  b8b61059626efa996a60be9bb9320e10          nan              1.00   \n",
       "103885  28bbae6599b09d39ca406b747b6632b1         1.00               nan   \n",
       "\n",
       "        qtde_debit_card  qtde_not_defined  \n",
       "103881              nan               nan  \n",
       "103882              nan               nan  \n",
       "103883              nan               nan  \n",
       "103884              nan               nan  \n",
       "103885              nan               nan  "
      ]
     },
     "execution_count": 119,
     "metadata": {},
     "output_type": "execute_result"
    }
   ],
   "source": [
    "# Deleção dos campos não mais necessários\n",
    "boleto_credit_debit_NotDefined_limpo = boleto_credit_debit_NotDefined.drop(['payment_sequential', 'payment_installments','payment_value'], axis=1)\n",
    "boleto_credit_debit_NotDefined_limpo.tail()"
   ]
  },
  {
   "cell_type": "code",
   "execution_count": 120,
   "metadata": {},
   "outputs": [
    {
     "data": {
      "text/plain": [
       "(103886, 5)"
      ]
     },
     "execution_count": 120,
     "metadata": {},
     "output_type": "execute_result"
    }
   ],
   "source": [
    "boleto_credit_debit_NotDefined_limpo.shape"
   ]
  },
  {
   "cell_type": "markdown",
   "metadata": {},
   "source": [
    "                                     5.Merge para obter 'qtde_voucher'"
   ]
  },
  {
   "cell_type": "code",
   "execution_count": 121,
   "metadata": {},
   "outputs": [
    {
     "data": {
      "text/html": [
       "<div>\n",
       "<style scoped>\n",
       "    .dataframe tbody tr th:only-of-type {\n",
       "        vertical-align: middle;\n",
       "    }\n",
       "\n",
       "    .dataframe tbody tr th {\n",
       "        vertical-align: top;\n",
       "    }\n",
       "\n",
       "    .dataframe thead th {\n",
       "        text-align: right;\n",
       "    }\n",
       "</style>\n",
       "<table border=\"1\" class=\"dataframe\">\n",
       "  <thead>\n",
       "    <tr style=\"text-align: right;\">\n",
       "      <th></th>\n",
       "      <th>order_id</th>\n",
       "      <th>qtde_voucher</th>\n",
       "    </tr>\n",
       "  </thead>\n",
       "  <tbody>\n",
       "    <tr>\n",
       "      <th>0</th>\n",
       "      <td>0016dfedd97fc2950e388d2971d718c7</td>\n",
       "      <td>1</td>\n",
       "    </tr>\n",
       "  </tbody>\n",
       "</table>\n",
       "</div>"
      ],
      "text/plain": [
       "                           order_id  qtde_voucher\n",
       "0  0016dfedd97fc2950e388d2971d718c7             1"
      ]
     },
     "execution_count": 121,
     "metadata": {},
     "output_type": "execute_result"
    }
   ],
   "source": [
    "df_qtde_voucher_index_resetado.head(1)"
   ]
  },
  {
   "cell_type": "code",
   "execution_count": 122,
   "metadata": {},
   "outputs": [
    {
     "data": {
      "text/html": [
       "<div>\n",
       "<style scoped>\n",
       "    .dataframe tbody tr th:only-of-type {\n",
       "        vertical-align: middle;\n",
       "    }\n",
       "\n",
       "    .dataframe tbody tr th {\n",
       "        vertical-align: top;\n",
       "    }\n",
       "\n",
       "    .dataframe thead th {\n",
       "        text-align: right;\n",
       "    }\n",
       "</style>\n",
       "<table border=\"1\" class=\"dataframe\">\n",
       "  <thead>\n",
       "    <tr style=\"text-align: right;\">\n",
       "      <th></th>\n",
       "      <th>order_id</th>\n",
       "      <th>qtde_boleto</th>\n",
       "      <th>qtde_credit_card</th>\n",
       "      <th>qtde_debit_card</th>\n",
       "      <th>qtde_not_defined</th>\n",
       "      <th>qtde_voucher</th>\n",
       "    </tr>\n",
       "  </thead>\n",
       "  <tbody>\n",
       "    <tr>\n",
       "      <th>0</th>\n",
       "      <td>b81ef226f3fe1789b1e8b2acac839d17</td>\n",
       "      <td>nan</td>\n",
       "      <td>1.00</td>\n",
       "      <td>nan</td>\n",
       "      <td>nan</td>\n",
       "      <td>nan</td>\n",
       "    </tr>\n",
       "    <tr>\n",
       "      <th>1</th>\n",
       "      <td>a9810da82917af2d9aefd1278f1dcfa0</td>\n",
       "      <td>nan</td>\n",
       "      <td>1.00</td>\n",
       "      <td>nan</td>\n",
       "      <td>nan</td>\n",
       "      <td>nan</td>\n",
       "    </tr>\n",
       "    <tr>\n",
       "      <th>2</th>\n",
       "      <td>25e8ea4e93396b6fa0d3dd708e76c1bd</td>\n",
       "      <td>nan</td>\n",
       "      <td>1.00</td>\n",
       "      <td>nan</td>\n",
       "      <td>nan</td>\n",
       "      <td>nan</td>\n",
       "    </tr>\n",
       "    <tr>\n",
       "      <th>3</th>\n",
       "      <td>ba78997921bbcdc1373bb41e913ab953</td>\n",
       "      <td>nan</td>\n",
       "      <td>1.00</td>\n",
       "      <td>nan</td>\n",
       "      <td>nan</td>\n",
       "      <td>nan</td>\n",
       "    </tr>\n",
       "    <tr>\n",
       "      <th>4</th>\n",
       "      <td>42fdf880ba16b47b59251dd489d4441a</td>\n",
       "      <td>nan</td>\n",
       "      <td>1.00</td>\n",
       "      <td>nan</td>\n",
       "      <td>nan</td>\n",
       "      <td>nan</td>\n",
       "    </tr>\n",
       "  </tbody>\n",
       "</table>\n",
       "</div>"
      ],
      "text/plain": [
       "                           order_id  qtde_boleto  qtde_credit_card  \\\n",
       "0  b81ef226f3fe1789b1e8b2acac839d17          nan              1.00   \n",
       "1  a9810da82917af2d9aefd1278f1dcfa0          nan              1.00   \n",
       "2  25e8ea4e93396b6fa0d3dd708e76c1bd          nan              1.00   \n",
       "3  ba78997921bbcdc1373bb41e913ab953          nan              1.00   \n",
       "4  42fdf880ba16b47b59251dd489d4441a          nan              1.00   \n",
       "\n",
       "   qtde_debit_card  qtde_not_defined  qtde_voucher  \n",
       "0              nan               nan           nan  \n",
       "1              nan               nan           nan  \n",
       "2              nan               nan           nan  \n",
       "3              nan               nan           nan  \n",
       "4              nan               nan           nan  "
      ]
     },
     "execution_count": 122,
     "metadata": {},
     "output_type": "execute_result"
    }
   ],
   "source": [
    "bol_cred_deb_Ndef_voucher = pd.merge(boleto_credit_debit_NotDefined_limpo, df_qtde_voucher_index_resetado, how = 'left', on = 'order_id')\n",
    "bol_cred_deb_Ndef_voucher.head()"
   ]
  },
  {
   "cell_type": "code",
   "execution_count": 123,
   "metadata": {},
   "outputs": [
    {
     "data": {
      "text/plain": [
       "(103886, 6)"
      ]
     },
     "execution_count": 123,
     "metadata": {},
     "output_type": "execute_result"
    }
   ],
   "source": [
    "bol_cred_deb_Ndef_voucher.shape"
   ]
  },
  {
   "cell_type": "markdown",
   "metadata": {},
   "source": [
    "                                     6.Merge para obter 'soma_payment'"
   ]
  },
  {
   "cell_type": "code",
   "execution_count": 124,
   "metadata": {},
   "outputs": [
    {
     "data": {
      "text/html": [
       "<div>\n",
       "<style scoped>\n",
       "    .dataframe tbody tr th:only-of-type {\n",
       "        vertical-align: middle;\n",
       "    }\n",
       "\n",
       "    .dataframe tbody tr th {\n",
       "        vertical-align: top;\n",
       "    }\n",
       "\n",
       "    .dataframe thead th {\n",
       "        text-align: right;\n",
       "    }\n",
       "</style>\n",
       "<table border=\"1\" class=\"dataframe\">\n",
       "  <thead>\n",
       "    <tr style=\"text-align: right;\">\n",
       "      <th></th>\n",
       "      <th>order_id</th>\n",
       "      <th>payment_value</th>\n",
       "    </tr>\n",
       "  </thead>\n",
       "  <tbody>\n",
       "    <tr>\n",
       "      <th>0</th>\n",
       "      <td>00010242fe8c5a6d1ba2dd792cb16214</td>\n",
       "      <td>72.19</td>\n",
       "    </tr>\n",
       "  </tbody>\n",
       "</table>\n",
       "</div>"
      ],
      "text/plain": [
       "                           order_id  payment_value\n",
       "0  00010242fe8c5a6d1ba2dd792cb16214          72.19"
      ]
     },
     "execution_count": 124,
     "metadata": {},
     "output_type": "execute_result"
    }
   ],
   "source": [
    "df_soma_payment_value_index_resetado.head(1)"
   ]
  },
  {
   "cell_type": "code",
   "execution_count": 125,
   "metadata": {},
   "outputs": [
    {
     "data": {
      "text/html": [
       "<div>\n",
       "<style scoped>\n",
       "    .dataframe tbody tr th:only-of-type {\n",
       "        vertical-align: middle;\n",
       "    }\n",
       "\n",
       "    .dataframe tbody tr th {\n",
       "        vertical-align: top;\n",
       "    }\n",
       "\n",
       "    .dataframe thead th {\n",
       "        text-align: right;\n",
       "    }\n",
       "</style>\n",
       "<table border=\"1\" class=\"dataframe\">\n",
       "  <thead>\n",
       "    <tr style=\"text-align: right;\">\n",
       "      <th></th>\n",
       "      <th>order_id</th>\n",
       "      <th>qtde_boleto</th>\n",
       "      <th>qtde_credit_card</th>\n",
       "      <th>qtde_debit_card</th>\n",
       "      <th>qtde_not_defined</th>\n",
       "      <th>qtde_voucher</th>\n",
       "      <th>payment_value</th>\n",
       "    </tr>\n",
       "  </thead>\n",
       "  <tbody>\n",
       "    <tr>\n",
       "      <th>0</th>\n",
       "      <td>b81ef226f3fe1789b1e8b2acac839d17</td>\n",
       "      <td>nan</td>\n",
       "      <td>1.00</td>\n",
       "      <td>nan</td>\n",
       "      <td>nan</td>\n",
       "      <td>nan</td>\n",
       "      <td>99.33</td>\n",
       "    </tr>\n",
       "    <tr>\n",
       "      <th>1</th>\n",
       "      <td>a9810da82917af2d9aefd1278f1dcfa0</td>\n",
       "      <td>nan</td>\n",
       "      <td>1.00</td>\n",
       "      <td>nan</td>\n",
       "      <td>nan</td>\n",
       "      <td>nan</td>\n",
       "      <td>24.39</td>\n",
       "    </tr>\n",
       "    <tr>\n",
       "      <th>2</th>\n",
       "      <td>25e8ea4e93396b6fa0d3dd708e76c1bd</td>\n",
       "      <td>nan</td>\n",
       "      <td>1.00</td>\n",
       "      <td>nan</td>\n",
       "      <td>nan</td>\n",
       "      <td>nan</td>\n",
       "      <td>65.71</td>\n",
       "    </tr>\n",
       "    <tr>\n",
       "      <th>3</th>\n",
       "      <td>ba78997921bbcdc1373bb41e913ab953</td>\n",
       "      <td>nan</td>\n",
       "      <td>1.00</td>\n",
       "      <td>nan</td>\n",
       "      <td>nan</td>\n",
       "      <td>nan</td>\n",
       "      <td>107.78</td>\n",
       "    </tr>\n",
       "    <tr>\n",
       "      <th>4</th>\n",
       "      <td>42fdf880ba16b47b59251dd489d4441a</td>\n",
       "      <td>nan</td>\n",
       "      <td>1.00</td>\n",
       "      <td>nan</td>\n",
       "      <td>nan</td>\n",
       "      <td>nan</td>\n",
       "      <td>128.45</td>\n",
       "    </tr>\n",
       "  </tbody>\n",
       "</table>\n",
       "</div>"
      ],
      "text/plain": [
       "                           order_id  qtde_boleto  qtde_credit_card  \\\n",
       "0  b81ef226f3fe1789b1e8b2acac839d17          nan              1.00   \n",
       "1  a9810da82917af2d9aefd1278f1dcfa0          nan              1.00   \n",
       "2  25e8ea4e93396b6fa0d3dd708e76c1bd          nan              1.00   \n",
       "3  ba78997921bbcdc1373bb41e913ab953          nan              1.00   \n",
       "4  42fdf880ba16b47b59251dd489d4441a          nan              1.00   \n",
       "\n",
       "   qtde_debit_card  qtde_not_defined  qtde_voucher  payment_value  \n",
       "0              nan               nan           nan          99.33  \n",
       "1              nan               nan           nan          24.39  \n",
       "2              nan               nan           nan          65.71  \n",
       "3              nan               nan           nan         107.78  \n",
       "4              nan               nan           nan         128.45  "
      ]
     },
     "execution_count": 125,
     "metadata": {},
     "output_type": "execute_result"
    }
   ],
   "source": [
    "bol_cred_deb_Ndef_vou_pay = pd.merge(bol_cred_deb_Ndef_voucher, df_soma_payment_value_index_resetado, how = 'left', on = 'order_id')\n",
    "bol_cred_deb_Ndef_vou_pay.head()"
   ]
  },
  {
   "cell_type": "code",
   "execution_count": 126,
   "metadata": {},
   "outputs": [
    {
     "data": {
      "text/html": [
       "<div>\n",
       "<style scoped>\n",
       "    .dataframe tbody tr th:only-of-type {\n",
       "        vertical-align: middle;\n",
       "    }\n",
       "\n",
       "    .dataframe tbody tr th {\n",
       "        vertical-align: top;\n",
       "    }\n",
       "\n",
       "    .dataframe thead th {\n",
       "        text-align: right;\n",
       "    }\n",
       "</style>\n",
       "<table border=\"1\" class=\"dataframe\">\n",
       "  <thead>\n",
       "    <tr style=\"text-align: right;\">\n",
       "      <th></th>\n",
       "      <th>order_id</th>\n",
       "      <th>qtde_boleto</th>\n",
       "      <th>qtde_credit_card</th>\n",
       "      <th>qtde_debit_card</th>\n",
       "      <th>qtde_not_defined</th>\n",
       "      <th>qtde_voucher</th>\n",
       "      <th>soma_payment</th>\n",
       "    </tr>\n",
       "  </thead>\n",
       "  <tbody>\n",
       "    <tr>\n",
       "      <th>0</th>\n",
       "      <td>b81ef226f3fe1789b1e8b2acac839d17</td>\n",
       "      <td>nan</td>\n",
       "      <td>1.00</td>\n",
       "      <td>nan</td>\n",
       "      <td>nan</td>\n",
       "      <td>nan</td>\n",
       "      <td>99.33</td>\n",
       "    </tr>\n",
       "    <tr>\n",
       "      <th>1</th>\n",
       "      <td>a9810da82917af2d9aefd1278f1dcfa0</td>\n",
       "      <td>nan</td>\n",
       "      <td>1.00</td>\n",
       "      <td>nan</td>\n",
       "      <td>nan</td>\n",
       "      <td>nan</td>\n",
       "      <td>24.39</td>\n",
       "    </tr>\n",
       "    <tr>\n",
       "      <th>2</th>\n",
       "      <td>25e8ea4e93396b6fa0d3dd708e76c1bd</td>\n",
       "      <td>nan</td>\n",
       "      <td>1.00</td>\n",
       "      <td>nan</td>\n",
       "      <td>nan</td>\n",
       "      <td>nan</td>\n",
       "      <td>65.71</td>\n",
       "    </tr>\n",
       "    <tr>\n",
       "      <th>3</th>\n",
       "      <td>ba78997921bbcdc1373bb41e913ab953</td>\n",
       "      <td>nan</td>\n",
       "      <td>1.00</td>\n",
       "      <td>nan</td>\n",
       "      <td>nan</td>\n",
       "      <td>nan</td>\n",
       "      <td>107.78</td>\n",
       "    </tr>\n",
       "    <tr>\n",
       "      <th>4</th>\n",
       "      <td>42fdf880ba16b47b59251dd489d4441a</td>\n",
       "      <td>nan</td>\n",
       "      <td>1.00</td>\n",
       "      <td>nan</td>\n",
       "      <td>nan</td>\n",
       "      <td>nan</td>\n",
       "      <td>128.45</td>\n",
       "    </tr>\n",
       "  </tbody>\n",
       "</table>\n",
       "</div>"
      ],
      "text/plain": [
       "                           order_id  qtde_boleto  qtde_credit_card  \\\n",
       "0  b81ef226f3fe1789b1e8b2acac839d17          nan              1.00   \n",
       "1  a9810da82917af2d9aefd1278f1dcfa0          nan              1.00   \n",
       "2  25e8ea4e93396b6fa0d3dd708e76c1bd          nan              1.00   \n",
       "3  ba78997921bbcdc1373bb41e913ab953          nan              1.00   \n",
       "4  42fdf880ba16b47b59251dd489d4441a          nan              1.00   \n",
       "\n",
       "   qtde_debit_card  qtde_not_defined  qtde_voucher  soma_payment  \n",
       "0              nan               nan           nan         99.33  \n",
       "1              nan               nan           nan         24.39  \n",
       "2              nan               nan           nan         65.71  \n",
       "3              nan               nan           nan        107.78  \n",
       "4              nan               nan           nan        128.45  "
      ]
     },
     "execution_count": 126,
     "metadata": {},
     "output_type": "execute_result"
    }
   ],
   "source": [
    "# renomeando a última coluna:\n",
    "bol_cred_deb_Ndef_vou_pay.columns = ['order_id', 'qtde_boleto', 'qtde_credit_card', 'qtde_debit_card', 'qtde_not_defined', 'qtde_voucher', 'soma_payment']\n",
    "bol_cred_deb_Ndef_vou_pay.head()"
   ]
  },
  {
   "cell_type": "code",
   "execution_count": 127,
   "metadata": {},
   "outputs": [
    {
     "data": {
      "text/plain": [
       "(103886, 7)"
      ]
     },
     "execution_count": 127,
     "metadata": {},
     "output_type": "execute_result"
    }
   ],
   "source": [
    "bol_cred_deb_Ndef_vou_pay.shape"
   ]
  },
  {
   "cell_type": "markdown",
   "metadata": {},
   "source": [
    "                                     7.Merge para obter 'qtde_installments'"
   ]
  },
  {
   "cell_type": "code",
   "execution_count": 128,
   "metadata": {},
   "outputs": [
    {
     "data": {
      "text/html": [
       "<div>\n",
       "<style scoped>\n",
       "    .dataframe tbody tr th:only-of-type {\n",
       "        vertical-align: middle;\n",
       "    }\n",
       "\n",
       "    .dataframe tbody tr th {\n",
       "        vertical-align: top;\n",
       "    }\n",
       "\n",
       "    .dataframe thead th {\n",
       "        text-align: right;\n",
       "    }\n",
       "</style>\n",
       "<table border=\"1\" class=\"dataframe\">\n",
       "  <thead>\n",
       "    <tr style=\"text-align: right;\">\n",
       "      <th></th>\n",
       "      <th>order_id</th>\n",
       "      <th>payment_installments</th>\n",
       "    </tr>\n",
       "  </thead>\n",
       "  <tbody>\n",
       "    <tr>\n",
       "      <th>0</th>\n",
       "      <td>00010242fe8c5a6d1ba2dd792cb16214</td>\n",
       "      <td>2</td>\n",
       "    </tr>\n",
       "  </tbody>\n",
       "</table>\n",
       "</div>"
      ],
      "text/plain": [
       "                           order_id  payment_installments\n",
       "0  00010242fe8c5a6d1ba2dd792cb16214                     2"
      ]
     },
     "execution_count": 128,
     "metadata": {},
     "output_type": "execute_result"
    }
   ],
   "source": [
    "df_qtde_installments_index_resetado.head(1)"
   ]
  },
  {
   "cell_type": "code",
   "execution_count": 129,
   "metadata": {},
   "outputs": [
    {
     "data": {
      "text/html": [
       "<div>\n",
       "<style scoped>\n",
       "    .dataframe tbody tr th:only-of-type {\n",
       "        vertical-align: middle;\n",
       "    }\n",
       "\n",
       "    .dataframe tbody tr th {\n",
       "        vertical-align: top;\n",
       "    }\n",
       "\n",
       "    .dataframe thead th {\n",
       "        text-align: right;\n",
       "    }\n",
       "</style>\n",
       "<table border=\"1\" class=\"dataframe\">\n",
       "  <thead>\n",
       "    <tr style=\"text-align: right;\">\n",
       "      <th></th>\n",
       "      <th>order_id</th>\n",
       "      <th>qtde_boleto</th>\n",
       "      <th>qtde_credit_card</th>\n",
       "      <th>qtde_debit_card</th>\n",
       "      <th>qtde_not_defined</th>\n",
       "      <th>qtde_voucher</th>\n",
       "      <th>soma_payment</th>\n",
       "      <th>payment_installments</th>\n",
       "    </tr>\n",
       "  </thead>\n",
       "  <tbody>\n",
       "    <tr>\n",
       "      <th>0</th>\n",
       "      <td>b81ef226f3fe1789b1e8b2acac839d17</td>\n",
       "      <td>nan</td>\n",
       "      <td>1.00</td>\n",
       "      <td>nan</td>\n",
       "      <td>nan</td>\n",
       "      <td>nan</td>\n",
       "      <td>99.33</td>\n",
       "      <td>8</td>\n",
       "    </tr>\n",
       "    <tr>\n",
       "      <th>1</th>\n",
       "      <td>a9810da82917af2d9aefd1278f1dcfa0</td>\n",
       "      <td>nan</td>\n",
       "      <td>1.00</td>\n",
       "      <td>nan</td>\n",
       "      <td>nan</td>\n",
       "      <td>nan</td>\n",
       "      <td>24.39</td>\n",
       "      <td>1</td>\n",
       "    </tr>\n",
       "    <tr>\n",
       "      <th>2</th>\n",
       "      <td>25e8ea4e93396b6fa0d3dd708e76c1bd</td>\n",
       "      <td>nan</td>\n",
       "      <td>1.00</td>\n",
       "      <td>nan</td>\n",
       "      <td>nan</td>\n",
       "      <td>nan</td>\n",
       "      <td>65.71</td>\n",
       "      <td>1</td>\n",
       "    </tr>\n",
       "    <tr>\n",
       "      <th>3</th>\n",
       "      <td>ba78997921bbcdc1373bb41e913ab953</td>\n",
       "      <td>nan</td>\n",
       "      <td>1.00</td>\n",
       "      <td>nan</td>\n",
       "      <td>nan</td>\n",
       "      <td>nan</td>\n",
       "      <td>107.78</td>\n",
       "      <td>8</td>\n",
       "    </tr>\n",
       "    <tr>\n",
       "      <th>4</th>\n",
       "      <td>42fdf880ba16b47b59251dd489d4441a</td>\n",
       "      <td>nan</td>\n",
       "      <td>1.00</td>\n",
       "      <td>nan</td>\n",
       "      <td>nan</td>\n",
       "      <td>nan</td>\n",
       "      <td>128.45</td>\n",
       "      <td>2</td>\n",
       "    </tr>\n",
       "  </tbody>\n",
       "</table>\n",
       "</div>"
      ],
      "text/plain": [
       "                           order_id  qtde_boleto  qtde_credit_card  \\\n",
       "0  b81ef226f3fe1789b1e8b2acac839d17          nan              1.00   \n",
       "1  a9810da82917af2d9aefd1278f1dcfa0          nan              1.00   \n",
       "2  25e8ea4e93396b6fa0d3dd708e76c1bd          nan              1.00   \n",
       "3  ba78997921bbcdc1373bb41e913ab953          nan              1.00   \n",
       "4  42fdf880ba16b47b59251dd489d4441a          nan              1.00   \n",
       "\n",
       "   qtde_debit_card  qtde_not_defined  qtde_voucher  soma_payment  \\\n",
       "0              nan               nan           nan         99.33   \n",
       "1              nan               nan           nan         24.39   \n",
       "2              nan               nan           nan         65.71   \n",
       "3              nan               nan           nan        107.78   \n",
       "4              nan               nan           nan        128.45   \n",
       "\n",
       "   payment_installments  \n",
       "0                     8  \n",
       "1                     1  \n",
       "2                     1  \n",
       "3                     8  \n",
       "4                     2  "
      ]
     },
     "execution_count": 129,
     "metadata": {},
     "output_type": "execute_result"
    }
   ],
   "source": [
    "bol_cred_deb_Ndef_vou_pay_install = pd.merge(bol_cred_deb_Ndef_vou_pay, df_qtde_installments_index_resetado, how = 'left', on = 'order_id')\n",
    "bol_cred_deb_Ndef_vou_pay_install.head()"
   ]
  },
  {
   "cell_type": "code",
   "execution_count": 130,
   "metadata": {},
   "outputs": [
    {
     "data": {
      "text/html": [
       "<div>\n",
       "<style scoped>\n",
       "    .dataframe tbody tr th:only-of-type {\n",
       "        vertical-align: middle;\n",
       "    }\n",
       "\n",
       "    .dataframe tbody tr th {\n",
       "        vertical-align: top;\n",
       "    }\n",
       "\n",
       "    .dataframe thead th {\n",
       "        text-align: right;\n",
       "    }\n",
       "</style>\n",
       "<table border=\"1\" class=\"dataframe\">\n",
       "  <thead>\n",
       "    <tr style=\"text-align: right;\">\n",
       "      <th></th>\n",
       "      <th>order_id</th>\n",
       "      <th>qtde_boleto</th>\n",
       "      <th>qtde_credit_card</th>\n",
       "      <th>qtde_debit_card</th>\n",
       "      <th>qtde_not_defined</th>\n",
       "      <th>qtde_voucher</th>\n",
       "      <th>soma_payment</th>\n",
       "      <th>qtde_installments</th>\n",
       "    </tr>\n",
       "  </thead>\n",
       "  <tbody>\n",
       "    <tr>\n",
       "      <th>0</th>\n",
       "      <td>b81ef226f3fe1789b1e8b2acac839d17</td>\n",
       "      <td>nan</td>\n",
       "      <td>1.00</td>\n",
       "      <td>nan</td>\n",
       "      <td>nan</td>\n",
       "      <td>nan</td>\n",
       "      <td>99.33</td>\n",
       "      <td>8</td>\n",
       "    </tr>\n",
       "    <tr>\n",
       "      <th>1</th>\n",
       "      <td>a9810da82917af2d9aefd1278f1dcfa0</td>\n",
       "      <td>nan</td>\n",
       "      <td>1.00</td>\n",
       "      <td>nan</td>\n",
       "      <td>nan</td>\n",
       "      <td>nan</td>\n",
       "      <td>24.39</td>\n",
       "      <td>1</td>\n",
       "    </tr>\n",
       "    <tr>\n",
       "      <th>2</th>\n",
       "      <td>25e8ea4e93396b6fa0d3dd708e76c1bd</td>\n",
       "      <td>nan</td>\n",
       "      <td>1.00</td>\n",
       "      <td>nan</td>\n",
       "      <td>nan</td>\n",
       "      <td>nan</td>\n",
       "      <td>65.71</td>\n",
       "      <td>1</td>\n",
       "    </tr>\n",
       "    <tr>\n",
       "      <th>3</th>\n",
       "      <td>ba78997921bbcdc1373bb41e913ab953</td>\n",
       "      <td>nan</td>\n",
       "      <td>1.00</td>\n",
       "      <td>nan</td>\n",
       "      <td>nan</td>\n",
       "      <td>nan</td>\n",
       "      <td>107.78</td>\n",
       "      <td>8</td>\n",
       "    </tr>\n",
       "    <tr>\n",
       "      <th>4</th>\n",
       "      <td>42fdf880ba16b47b59251dd489d4441a</td>\n",
       "      <td>nan</td>\n",
       "      <td>1.00</td>\n",
       "      <td>nan</td>\n",
       "      <td>nan</td>\n",
       "      <td>nan</td>\n",
       "      <td>128.45</td>\n",
       "      <td>2</td>\n",
       "    </tr>\n",
       "  </tbody>\n",
       "</table>\n",
       "</div>"
      ],
      "text/plain": [
       "                           order_id  qtde_boleto  qtde_credit_card  \\\n",
       "0  b81ef226f3fe1789b1e8b2acac839d17          nan              1.00   \n",
       "1  a9810da82917af2d9aefd1278f1dcfa0          nan              1.00   \n",
       "2  25e8ea4e93396b6fa0d3dd708e76c1bd          nan              1.00   \n",
       "3  ba78997921bbcdc1373bb41e913ab953          nan              1.00   \n",
       "4  42fdf880ba16b47b59251dd489d4441a          nan              1.00   \n",
       "\n",
       "   qtde_debit_card  qtde_not_defined  qtde_voucher  soma_payment  \\\n",
       "0              nan               nan           nan         99.33   \n",
       "1              nan               nan           nan         24.39   \n",
       "2              nan               nan           nan         65.71   \n",
       "3              nan               nan           nan        107.78   \n",
       "4              nan               nan           nan        128.45   \n",
       "\n",
       "   qtde_installments  \n",
       "0                  8  \n",
       "1                  1  \n",
       "2                  1  \n",
       "3                  8  \n",
       "4                  2  "
      ]
     },
     "execution_count": 130,
     "metadata": {},
     "output_type": "execute_result"
    }
   ],
   "source": [
    "# renomeando a última coluna:\n",
    "bol_cred_deb_Ndef_vou_pay_install.columns = ['order_id', 'qtde_boleto', 'qtde_credit_card', 'qtde_debit_card', 'qtde_not_defined', 'qtde_voucher', 'soma_payment', 'qtde_installments']\n",
    "bol_cred_deb_Ndef_vou_pay_install.head()"
   ]
  },
  {
   "cell_type": "code",
   "execution_count": 131,
   "metadata": {},
   "outputs": [
    {
     "data": {
      "text/plain": [
       "(103886, 8)"
      ]
     },
     "execution_count": 131,
     "metadata": {},
     "output_type": "execute_result"
    }
   ],
   "source": [
    "bol_cred_deb_Ndef_vou_pay_install.shape"
   ]
  },
  {
   "cell_type": "markdown",
   "metadata": {},
   "source": [
    "                                 ------------------ x -------------------"
   ]
  },
  {
   "cell_type": "markdown",
   "metadata": {},
   "source": [
    "                                 ------------------ x -------------------"
   ]
  },
  {
   "cell_type": "markdown",
   "metadata": {},
   "source": [
    "###### Determinação dos valores únicos desses campos"
   ]
  },
  {
   "cell_type": "code",
   "execution_count": 132,
   "metadata": {},
   "outputs": [
    {
     "data": {
      "text/plain": [
       "99440"
      ]
     },
     "execution_count": 132,
     "metadata": {},
     "output_type": "execute_result"
    }
   ],
   "source": [
    "bol_cred_deb_Ndef_vou_pay_install['order_id'].nunique()"
   ]
  },
  {
   "cell_type": "code",
   "execution_count": 133,
   "metadata": {},
   "outputs": [
    {
     "data": {
      "text/plain": [
       "1"
      ]
     },
     "execution_count": 133,
     "metadata": {},
     "output_type": "execute_result"
    }
   ],
   "source": [
    "bol_cred_deb_Ndef_vou_pay_install['qtde_boleto'].nunique()"
   ]
  },
  {
   "cell_type": "code",
   "execution_count": 134,
   "metadata": {},
   "outputs": [
    {
     "data": {
      "text/plain": [
       "2"
      ]
     },
     "execution_count": 134,
     "metadata": {},
     "output_type": "execute_result"
    }
   ],
   "source": [
    "bol_cred_deb_Ndef_vou_pay_install['qtde_credit_card'].nunique()"
   ]
  },
  {
   "cell_type": "code",
   "execution_count": 135,
   "metadata": {},
   "outputs": [
    {
     "data": {
      "text/plain": [
       "2"
      ]
     },
     "execution_count": 135,
     "metadata": {},
     "output_type": "execute_result"
    }
   ],
   "source": [
    "bol_cred_deb_Ndef_vou_pay_install['qtde_debit_card'].nunique()"
   ]
  },
  {
   "cell_type": "code",
   "execution_count": 136,
   "metadata": {},
   "outputs": [
    {
     "data": {
      "text/plain": [
       "1"
      ]
     },
     "execution_count": 136,
     "metadata": {},
     "output_type": "execute_result"
    }
   ],
   "source": [
    "bol_cred_deb_Ndef_vou_pay_install['qtde_not_defined'].nunique()"
   ]
  },
  {
   "cell_type": "code",
   "execution_count": 137,
   "metadata": {},
   "outputs": [
    {
     "data": {
      "text/plain": [
       "19"
      ]
     },
     "execution_count": 137,
     "metadata": {},
     "output_type": "execute_result"
    }
   ],
   "source": [
    "bol_cred_deb_Ndef_vou_pay_install['qtde_voucher'].nunique()"
   ]
  },
  {
   "cell_type": "code",
   "execution_count": 138,
   "metadata": {},
   "outputs": [
    {
     "data": {
      "text/plain": [
       "28029"
      ]
     },
     "execution_count": 138,
     "metadata": {},
     "output_type": "execute_result"
    }
   ],
   "source": [
    "bol_cred_deb_Ndef_vou_pay_install['soma_payment'].nunique()"
   ]
  },
  {
   "cell_type": "code",
   "execution_count": 139,
   "metadata": {},
   "outputs": [
    {
     "data": {
      "text/plain": [
       "24"
      ]
     },
     "execution_count": 139,
     "metadata": {},
     "output_type": "execute_result"
    }
   ],
   "source": [
    "bol_cred_deb_Ndef_vou_pay_install['qtde_installments'].nunique()"
   ]
  },
  {
   "cell_type": "markdown",
   "metadata": {},
   "source": [
    "#### 4.2.3 - Apresentação da nova tabela <font color=red>\"payments\"</font>\n",
    "\n",
    "> Se chamará <font color=red>\"payments_normalizada\"</font>\n",
    "\n",
    "> Consistirá da tabela <font color=red>\"bol_cred_deb_Ndef_vou_pay_install\"</font> (recém obtida), sem duplicidade de\n",
    "'order_id'"
   ]
  },
  {
   "cell_type": "code",
   "execution_count": 140,
   "metadata": {},
   "outputs": [
    {
     "data": {
      "text/html": [
       "<div>\n",
       "<style scoped>\n",
       "    .dataframe tbody tr th:only-of-type {\n",
       "        vertical-align: middle;\n",
       "    }\n",
       "\n",
       "    .dataframe tbody tr th {\n",
       "        vertical-align: top;\n",
       "    }\n",
       "\n",
       "    .dataframe thead th {\n",
       "        text-align: right;\n",
       "    }\n",
       "</style>\n",
       "<table border=\"1\" class=\"dataframe\">\n",
       "  <thead>\n",
       "    <tr style=\"text-align: right;\">\n",
       "      <th></th>\n",
       "      <th>order_id</th>\n",
       "      <th>qtde_boleto</th>\n",
       "      <th>qtde_credit_card</th>\n",
       "      <th>qtde_debit_card</th>\n",
       "      <th>qtde_not_defined</th>\n",
       "      <th>qtde_voucher</th>\n",
       "      <th>soma_payment</th>\n",
       "      <th>qtde_installments</th>\n",
       "    </tr>\n",
       "  </thead>\n",
       "  <tbody>\n",
       "    <tr>\n",
       "      <th>0</th>\n",
       "      <td>b81ef226f3fe1789b1e8b2acac839d17</td>\n",
       "      <td>nan</td>\n",
       "      <td>1.00</td>\n",
       "      <td>nan</td>\n",
       "      <td>nan</td>\n",
       "      <td>nan</td>\n",
       "      <td>99.33</td>\n",
       "      <td>8</td>\n",
       "    </tr>\n",
       "    <tr>\n",
       "      <th>1</th>\n",
       "      <td>a9810da82917af2d9aefd1278f1dcfa0</td>\n",
       "      <td>nan</td>\n",
       "      <td>1.00</td>\n",
       "      <td>nan</td>\n",
       "      <td>nan</td>\n",
       "      <td>nan</td>\n",
       "      <td>24.39</td>\n",
       "      <td>1</td>\n",
       "    </tr>\n",
       "    <tr>\n",
       "      <th>2</th>\n",
       "      <td>25e8ea4e93396b6fa0d3dd708e76c1bd</td>\n",
       "      <td>nan</td>\n",
       "      <td>1.00</td>\n",
       "      <td>nan</td>\n",
       "      <td>nan</td>\n",
       "      <td>nan</td>\n",
       "      <td>65.71</td>\n",
       "      <td>1</td>\n",
       "    </tr>\n",
       "    <tr>\n",
       "      <th>3</th>\n",
       "      <td>ba78997921bbcdc1373bb41e913ab953</td>\n",
       "      <td>nan</td>\n",
       "      <td>1.00</td>\n",
       "      <td>nan</td>\n",
       "      <td>nan</td>\n",
       "      <td>nan</td>\n",
       "      <td>107.78</td>\n",
       "      <td>8</td>\n",
       "    </tr>\n",
       "    <tr>\n",
       "      <th>4</th>\n",
       "      <td>42fdf880ba16b47b59251dd489d4441a</td>\n",
       "      <td>nan</td>\n",
       "      <td>1.00</td>\n",
       "      <td>nan</td>\n",
       "      <td>nan</td>\n",
       "      <td>nan</td>\n",
       "      <td>128.45</td>\n",
       "      <td>2</td>\n",
       "    </tr>\n",
       "  </tbody>\n",
       "</table>\n",
       "</div>"
      ],
      "text/plain": [
       "                           order_id  qtde_boleto  qtde_credit_card  \\\n",
       "0  b81ef226f3fe1789b1e8b2acac839d17          nan              1.00   \n",
       "1  a9810da82917af2d9aefd1278f1dcfa0          nan              1.00   \n",
       "2  25e8ea4e93396b6fa0d3dd708e76c1bd          nan              1.00   \n",
       "3  ba78997921bbcdc1373bb41e913ab953          nan              1.00   \n",
       "4  42fdf880ba16b47b59251dd489d4441a          nan              1.00   \n",
       "\n",
       "   qtde_debit_card  qtde_not_defined  qtde_voucher  soma_payment  \\\n",
       "0              nan               nan           nan         99.33   \n",
       "1              nan               nan           nan         24.39   \n",
       "2              nan               nan           nan         65.71   \n",
       "3              nan               nan           nan        107.78   \n",
       "4              nan               nan           nan        128.45   \n",
       "\n",
       "   qtde_installments  \n",
       "0                  8  \n",
       "1                  1  \n",
       "2                  1  \n",
       "3                  8  \n",
       "4                  2  "
      ]
     },
     "execution_count": 140,
     "metadata": {},
     "output_type": "execute_result"
    }
   ],
   "source": [
    "# Deleção dos duplicados de 'order_id' para torná-lo a chave primária da nova tabela\n",
    "payments_normalizada = bol_cred_deb_Ndef_vou_pay_install.drop_duplicates (subset=['order_id']) # o default é manter a primeira ocorrência da duplicação\n",
    "payments_normalizada.head()"
   ]
  },
  {
   "cell_type": "code",
   "execution_count": 141,
   "metadata": {},
   "outputs": [
    {
     "data": {
      "text/plain": [
       "(99440, 8)"
      ]
     },
     "execution_count": 141,
     "metadata": {},
     "output_type": "execute_result"
    }
   ],
   "source": [
    "payments_normalizada.shape"
   ]
  },
  {
   "cell_type": "code",
   "execution_count": 142,
   "metadata": {},
   "outputs": [
    {
     "data": {
      "text/plain": [
       "99440"
      ]
     },
     "execution_count": 142,
     "metadata": {},
     "output_type": "execute_result"
    }
   ],
   "source": [
    "payments_normalizada['order_id'].nunique()"
   ]
  },
  {
   "cell_type": "code",
   "execution_count": 143,
   "metadata": {},
   "outputs": [
    {
     "data": {
      "text/plain": [
       "1"
      ]
     },
     "execution_count": 143,
     "metadata": {},
     "output_type": "execute_result"
    }
   ],
   "source": [
    "payments_normalizada['qtde_boleto'].nunique()"
   ]
  },
  {
   "cell_type": "code",
   "execution_count": 144,
   "metadata": {},
   "outputs": [
    {
     "data": {
      "text/plain": [
       "2"
      ]
     },
     "execution_count": 144,
     "metadata": {},
     "output_type": "execute_result"
    }
   ],
   "source": [
    "payments_normalizada['qtde_credit_card'].nunique()"
   ]
  },
  {
   "cell_type": "code",
   "execution_count": 145,
   "metadata": {},
   "outputs": [
    {
     "data": {
      "text/plain": [
       "2"
      ]
     },
     "execution_count": 145,
     "metadata": {},
     "output_type": "execute_result"
    }
   ],
   "source": [
    "payments_normalizada['qtde_debit_card'].nunique()"
   ]
  },
  {
   "cell_type": "code",
   "execution_count": 146,
   "metadata": {},
   "outputs": [
    {
     "data": {
      "text/plain": [
       "1"
      ]
     },
     "execution_count": 146,
     "metadata": {},
     "output_type": "execute_result"
    }
   ],
   "source": [
    "payments_normalizada['qtde_not_defined'].nunique()"
   ]
  },
  {
   "cell_type": "code",
   "execution_count": 147,
   "metadata": {},
   "outputs": [
    {
     "data": {
      "text/plain": [
       "19"
      ]
     },
     "execution_count": 147,
     "metadata": {},
     "output_type": "execute_result"
    }
   ],
   "source": [
    "payments_normalizada['qtde_voucher'].nunique()"
   ]
  },
  {
   "cell_type": "code",
   "execution_count": 148,
   "metadata": {},
   "outputs": [
    {
     "data": {
      "text/plain": [
       "28029"
      ]
     },
     "execution_count": 148,
     "metadata": {},
     "output_type": "execute_result"
    }
   ],
   "source": [
    "payments_normalizada['soma_payment'].nunique()"
   ]
  },
  {
   "cell_type": "code",
   "execution_count": 149,
   "metadata": {},
   "outputs": [
    {
     "data": {
      "text/plain": [
       "24"
      ]
     },
     "execution_count": 149,
     "metadata": {},
     "output_type": "execute_result"
    }
   ],
   "source": [
    "payments_normalizada['qtde_installments'].nunique()"
   ]
  },
  {
   "cell_type": "code",
   "execution_count": 150,
   "metadata": {},
   "outputs": [
    {
     "name": "stdout",
     "output_type": "stream",
     "text": [
      "<class 'pandas.core.frame.DataFrame'>\n",
      "Int64Index: 99440 entries, 0 to 103885\n",
      "Data columns (total 8 columns):\n",
      "order_id             99440 non-null object\n",
      "qtde_boleto          19784 non-null float64\n",
      "qtde_credit_card     76505 non-null float64\n",
      "qtde_debit_card      1528 non-null float64\n",
      "qtde_not_defined     3 non-null float64\n",
      "qtde_voucher         3866 non-null float64\n",
      "soma_payment         99440 non-null float64\n",
      "qtde_installments    99440 non-null int64\n",
      "dtypes: float64(6), int64(1), object(1)\n",
      "memory usage: 6.8+ MB\n"
     ]
    }
   ],
   "source": [
    "payments_normalizada.info()"
   ]
  },
  {
   "cell_type": "code",
   "execution_count": 151,
   "metadata": {},
   "outputs": [
    {
     "data": {
      "text/html": [
       "<img src=\"cinco tabelas - payments_normalizada.bmp\"/>"
      ],
      "text/plain": [
       "<IPython.core.display.Image object>"
      ]
     },
     "execution_count": 151,
     "metadata": {},
     "output_type": "execute_result"
    }
   ],
   "source": [
    "# Configuração atual APÓS a implementação da resolução.\n",
    "Image (url = \"cinco tabelas - payments_normalizada.bmp\")"
   ]
  },
  {
   "cell_type": "markdown",
   "metadata": {},
   "source": [
    "                                 ------------------ x -------------------"
   ]
  },
  {
   "cell_type": "markdown",
   "metadata": {},
   "source": [
    "###### Acabou o tempo. As tabelas restantes serão \"limpas\" em outro notebook."
   ]
  },
  {
   "cell_type": "code",
   "execution_count": null,
   "metadata": {},
   "outputs": [],
   "source": []
  }
 ],
 "metadata": {
  "kernelspec": {
   "display_name": "Python 3",
   "language": "python",
   "name": "python3"
  },
  "language_info": {
   "codemirror_mode": {
    "name": "ipython",
    "version": 3
   },
   "file_extension": ".py",
   "mimetype": "text/x-python",
   "name": "python",
   "nbconvert_exporter": "python",
   "pygments_lexer": "ipython3",
   "version": "3.7.3"
  }
 },
 "nbformat": 4,
 "nbformat_minor": 2
}
