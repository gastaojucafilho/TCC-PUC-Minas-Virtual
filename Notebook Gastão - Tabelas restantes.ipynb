{
 "cells": [
  {
   "cell_type": "markdown",
   "metadata": {},
   "source": [
    "# TCC PUC-Minas Gastão Jucá Filho <br>\n",
    "Turma Puc-Minas Virtual - nov2019 <br>\n"
   ]
  },
  {
   "cell_type": "markdown",
   "metadata": {},
   "source": [
    "# Resto da limpeza dos arquivos da Olist"
   ]
  },
  {
   "cell_type": "markdown",
   "metadata": {},
   "source": [
    "#  Atividades previstas:\n",
    "> 1. Continuar o notebook \"Tarefas até 19abr2021\". \n",
    "> 2. \"Limpar\" as tabelas restantes da base da Olist. As tabelas a limpar são:\n",
    ">> <font color=red>\"customers\"</font>, <font color=red>\"sellers\"</font> e <font color=red>\"geolocation\"</font>;  \n",
    "> 3. Fazer merges. \n",
    "> 4. Documentar tudo com linguagem Markdown."
   ]
  },
  {
   "cell_type": "code",
   "execution_count": 1,
   "metadata": {},
   "outputs": [],
   "source": [
    "import pandas as pd\n",
    "import numpy as np\n",
    "pd.options.display.float_format = '{:,.2f}'.format\n",
    "pd.set_option('display.max_columns', None)\n",
    "pd.set_option('display.max_rows', None)\n",
    "#pd.options.display.max_columns = 100\n",
    "from IPython.display import Image\n",
    "from IPython.core.display import HTML "
   ]
  },
  {
   "cell_type": "markdown",
   "metadata": {},
   "source": [
    "## Importação das tabelas "
   ]
  },
  {
   "cell_type": "code",
   "execution_count": 2,
   "metadata": {},
   "outputs": [],
   "source": [
    "# reviews = pd.read_csv(\"olist_order_reviews_dataset.csv\", sep = ',')"
   ]
  },
  {
   "cell_type": "code",
   "execution_count": 3,
   "metadata": {},
   "outputs": [],
   "source": [
    "# orders = pd.read_csv('olist_orders_dataset.csv', sep=',')"
   ]
  },
  {
   "cell_type": "code",
   "execution_count": 4,
   "metadata": {},
   "outputs": [],
   "source": [
    "# itens = pd.read_csv(\"olist_order_items_dataset.csv\", sep = ',')"
   ]
  },
  {
   "cell_type": "code",
   "execution_count": 5,
   "metadata": {},
   "outputs": [],
   "source": [
    "products = pd.read_csv(\"olist_products_dataset.csv\", sep = ',')"
   ]
  },
  {
   "cell_type": "code",
   "execution_count": 6,
   "metadata": {},
   "outputs": [],
   "source": [
    "customers = pd.read_csv(\"olist_customers_dataset.csv\", sep = ',')"
   ]
  },
  {
   "cell_type": "code",
   "execution_count": 7,
   "metadata": {},
   "outputs": [],
   "source": [
    "geolocation = pd.read_csv(\"olist_geolocation_dataset.csv\", sep = ',')"
   ]
  },
  {
   "cell_type": "code",
   "execution_count": 8,
   "metadata": {},
   "outputs": [],
   "source": [
    "# payments = pd.read_csv(\"olist_order_payments_dataset.csv\", sep = ',')"
   ]
  },
  {
   "cell_type": "code",
   "execution_count": 9,
   "metadata": {},
   "outputs": [],
   "source": [
    "sellers = pd.read_csv(\"olist_sellers_dataset.csv\", sep = ',')"
   ]
  },
  {
   "cell_type": "markdown",
   "metadata": {},
   "source": [
    "### 4.3 - Tabela <font color=red>\"customers\"\n",
    "    > Itemização continua a do notebook anterior"
   ]
  },
  {
   "cell_type": "code",
   "execution_count": 10,
   "metadata": {},
   "outputs": [
    {
     "data": {
      "text/html": [
       "<div>\n",
       "<style scoped>\n",
       "    .dataframe tbody tr th:only-of-type {\n",
       "        vertical-align: middle;\n",
       "    }\n",
       "\n",
       "    .dataframe tbody tr th {\n",
       "        vertical-align: top;\n",
       "    }\n",
       "\n",
       "    .dataframe thead th {\n",
       "        text-align: right;\n",
       "    }\n",
       "</style>\n",
       "<table border=\"1\" class=\"dataframe\">\n",
       "  <thead>\n",
       "    <tr style=\"text-align: right;\">\n",
       "      <th></th>\n",
       "      <th>customer_id</th>\n",
       "      <th>customer_unique_id</th>\n",
       "      <th>customer_zip_code_prefix</th>\n",
       "      <th>customer_city</th>\n",
       "      <th>customer_state</th>\n",
       "    </tr>\n",
       "  </thead>\n",
       "  <tbody>\n",
       "    <tr>\n",
       "      <th>0</th>\n",
       "      <td>06b8999e2fba1a1fbc88172c00ba8bc7</td>\n",
       "      <td>861eff4711a542e4b93843c6dd7febb0</td>\n",
       "      <td>14409</td>\n",
       "      <td>franca</td>\n",
       "      <td>SP</td>\n",
       "    </tr>\n",
       "    <tr>\n",
       "      <th>1</th>\n",
       "      <td>18955e83d337fd6b2def6b18a428ac77</td>\n",
       "      <td>290c77bc529b7ac935b93aa66c333dc3</td>\n",
       "      <td>9790</td>\n",
       "      <td>sao bernardo do campo</td>\n",
       "      <td>SP</td>\n",
       "    </tr>\n",
       "    <tr>\n",
       "      <th>2</th>\n",
       "      <td>4e7b3e00288586ebd08712fdd0374a03</td>\n",
       "      <td>060e732b5b29e8181a18229c7b0b2b5e</td>\n",
       "      <td>1151</td>\n",
       "      <td>sao paulo</td>\n",
       "      <td>SP</td>\n",
       "    </tr>\n",
       "    <tr>\n",
       "      <th>3</th>\n",
       "      <td>b2b6027bc5c5109e529d4dc6358b12c3</td>\n",
       "      <td>259dac757896d24d7702b9acbbff3f3c</td>\n",
       "      <td>8775</td>\n",
       "      <td>mogi das cruzes</td>\n",
       "      <td>SP</td>\n",
       "    </tr>\n",
       "    <tr>\n",
       "      <th>4</th>\n",
       "      <td>4f2d8ab171c80ec8364f7c12e35b23ad</td>\n",
       "      <td>345ecd01c38d18a9036ed96c73b8d066</td>\n",
       "      <td>13056</td>\n",
       "      <td>campinas</td>\n",
       "      <td>SP</td>\n",
       "    </tr>\n",
       "  </tbody>\n",
       "</table>\n",
       "</div>"
      ],
      "text/plain": [
       "                        customer_id                customer_unique_id  \\\n",
       "0  06b8999e2fba1a1fbc88172c00ba8bc7  861eff4711a542e4b93843c6dd7febb0   \n",
       "1  18955e83d337fd6b2def6b18a428ac77  290c77bc529b7ac935b93aa66c333dc3   \n",
       "2  4e7b3e00288586ebd08712fdd0374a03  060e732b5b29e8181a18229c7b0b2b5e   \n",
       "3  b2b6027bc5c5109e529d4dc6358b12c3  259dac757896d24d7702b9acbbff3f3c   \n",
       "4  4f2d8ab171c80ec8364f7c12e35b23ad  345ecd01c38d18a9036ed96c73b8d066   \n",
       "\n",
       "   customer_zip_code_prefix          customer_city customer_state  \n",
       "0                     14409                 franca             SP  \n",
       "1                      9790  sao bernardo do campo             SP  \n",
       "2                      1151              sao paulo             SP  \n",
       "3                      8775        mogi das cruzes             SP  \n",
       "4                     13056               campinas             SP  "
      ]
     },
     "execution_count": 10,
     "metadata": {},
     "output_type": "execute_result"
    }
   ],
   "source": [
    "customers.head()"
   ]
  },
  {
   "cell_type": "code",
   "execution_count": 11,
   "metadata": {},
   "outputs": [
    {
     "name": "stdout",
     "output_type": "stream",
     "text": [
      "<class 'pandas.core.frame.DataFrame'>\n",
      "RangeIndex: 99441 entries, 0 to 99440\n",
      "Data columns (total 5 columns):\n",
      "customer_id                 99441 non-null object\n",
      "customer_unique_id          99441 non-null object\n",
      "customer_zip_code_prefix    99441 non-null int64\n",
      "customer_city               99441 non-null object\n",
      "customer_state              99441 non-null object\n",
      "dtypes: int64(1), object(4)\n",
      "memory usage: 3.8+ MB\n"
     ]
    }
   ],
   "source": [
    "customers.info()"
   ]
  },
  {
   "cell_type": "code",
   "execution_count": 12,
   "metadata": {},
   "outputs": [
    {
     "data": {
      "text/plain": [
       "customer_id                 99441\n",
       "customer_unique_id          96096\n",
       "customer_zip_code_prefix    14994\n",
       "customer_city                4119\n",
       "customer_state                 27\n",
       "dtype: int64"
      ]
     },
     "execution_count": 12,
     "metadata": {},
     "output_type": "execute_result"
    }
   ],
   "source": [
    "# valores únicos dos campos\n",
    "customers[['customer_id', 'customer_unique_id', 'customer_zip_code_prefix', 'customer_city', 'customer_state']].nunique()"
   ]
  },
  {
   "cell_type": "markdown",
   "metadata": {},
   "source": [
    "#### <font color=magenta>RESUMO</font>. Esses dois primeiros campos podem suscitar dúvidas, vamos esclarecer:\n",
    "> <font color=green>'customer_id'</font> é a chave primária da tabela <font color=red>\"customers\"</font>\n",
    ">> Também é único na tabela <font color=red>\"orders\"</font>, ou seja, cada compra tem seu 'customer_id'. Acho essa modelagem boboca, mas é assim que está.\n",
    "\n",
    "> <font color=green>'Customer_unique_id'</font> é único para a cada pessoa. \n",
    ">> Se uma pessoa fizer duas compras na Olist, em cada uma, receberá um <font color=green>'customer_id'</font> diferente. Gostaram?\n",
    "\n",
    "> Não há o que limpar, a tabela <font color=red>\"customers\"</font> está pronta para uso."
   ]
  },
  {
   "cell_type": "code",
   "execution_count": 13,
   "metadata": {},
   "outputs": [
    {
     "data": {
      "text/html": [
       "<img src=\"seis tabelas1.bmp\"/>"
      ],
      "text/plain": [
       "<IPython.core.display.Image object>"
      ]
     },
     "execution_count": 13,
     "metadata": {},
     "output_type": "execute_result"
    }
   ],
   "source": [
    "# Nossa sexta tabela se aglutina\n",
    "Image (url = \"seis tabelas1.bmp\")"
   ]
  },
  {
   "cell_type": "markdown",
   "metadata": {},
   "source": [
    "### 4.4 - Tabela <font color=red>\"sellers\"</font>"
   ]
  },
  {
   "cell_type": "code",
   "execution_count": 1,
   "metadata": {},
   "outputs": [
    {
     "ename": "NameError",
     "evalue": "name 'sellers' is not defined",
     "output_type": "error",
     "traceback": [
      "\u001b[1;31m---------------------------------------------------------------------------\u001b[0m",
      "\u001b[1;31mNameError\u001b[0m                                 Traceback (most recent call last)",
      "\u001b[1;32m<ipython-input-1-3cbdf1c9aa2d>\u001b[0m in \u001b[0;36m<module>\u001b[1;34m\u001b[0m\n\u001b[1;32m----> 1\u001b[1;33m \u001b[0msellers\u001b[0m\u001b[1;33m.\u001b[0m\u001b[0mhead\u001b[0m\u001b[1;33m(\u001b[0m\u001b[1;33m)\u001b[0m\u001b[1;33m\u001b[0m\u001b[1;33m\u001b[0m\u001b[0m\n\u001b[0m",
      "\u001b[1;31mNameError\u001b[0m: name 'sellers' is not defined"
     ]
    }
   ],
   "source": [
    "sellers.head()"
   ]
  },
  {
   "cell_type": "code",
   "execution_count": 15,
   "metadata": {},
   "outputs": [
    {
     "name": "stdout",
     "output_type": "stream",
     "text": [
      "<class 'pandas.core.frame.DataFrame'>\n",
      "RangeIndex: 3095 entries, 0 to 3094\n",
      "Data columns (total 4 columns):\n",
      "seller_id                 3095 non-null object\n",
      "seller_zip_code_prefix    3095 non-null int64\n",
      "seller_city               3095 non-null object\n",
      "seller_state              3095 non-null object\n",
      "dtypes: int64(1), object(3)\n",
      "memory usage: 96.8+ KB\n"
     ]
    }
   ],
   "source": [
    "sellers.info()"
   ]
  },
  {
   "cell_type": "code",
   "execution_count": 16,
   "metadata": {},
   "outputs": [
    {
     "data": {
      "text/plain": [
       "seller_id                 3095\n",
       "seller_zip_code_prefix    2246\n",
       "seller_city                611\n",
       "seller_state                23\n",
       "dtype: int64"
      ]
     },
     "execution_count": 16,
     "metadata": {},
     "output_type": "execute_result"
    }
   ],
   "source": [
    "# valores únicos dos campos\n",
    "sellers[['seller_id', 'seller_zip_code_prefix', 'seller_city', 'seller_state']].nunique()"
   ]
  },
  {
   "cell_type": "markdown",
   "metadata": {},
   "source": [
    "#### <font color=magenta>RESUMO</font>. Fornecedores que enviam os produtos aos clientes.\n",
    "> <font color=green>'seller_id'</font> é a chave primária da tabela <font color=red>\"sellers\"</font>\n",
    "\n",
    "> Não há o que limpar, a tabela <font color=red>\"sellers\"</font> está pronta para uso."
   ]
  },
  {
   "cell_type": "code",
   "execution_count": 17,
   "metadata": {},
   "outputs": [
    {
     "data": {
      "text/html": [
       "<img src=\"sete tabelas.bmp\"/>"
      ],
      "text/plain": [
       "<IPython.core.display.Image object>"
      ]
     },
     "execution_count": 17,
     "metadata": {},
     "output_type": "execute_result"
    }
   ],
   "source": [
    "# Sétima tabela surge\n",
    "Image (url = \"sete tabelas.bmp\")"
   ]
  },
  {
   "cell_type": "markdown",
   "metadata": {},
   "source": [
    "#### 4.4.1 - Adição do campo <font color=green>'business_segment'</font> à tabela <font color=red>\"sellers\"</font>"
   ]
  },
  {
   "cell_type": "markdown",
   "metadata": {},
   "source": [
    "##### 4.4.1a - A partir da tabela <font color=red>\"closed_deals\"</font>\n",
    "> A informação poderá ser cruzada com 'product_category_name' da tabela <font color=red>\"products\"</font>"
   ]
  },
  {
   "cell_type": "code",
   "execution_count": 18,
   "metadata": {},
   "outputs": [],
   "source": [
    "# Leitura da tabela \"closed deals\"\n",
    "closed_deals = pd.read_csv(\"olist_closed_deals_dataset.csv\", sep = ',')"
   ]
  },
  {
   "cell_type": "code",
   "execution_count": 19,
   "metadata": {},
   "outputs": [
    {
     "data": {
      "text/html": [
       "<div>\n",
       "<style scoped>\n",
       "    .dataframe tbody tr th:only-of-type {\n",
       "        vertical-align: middle;\n",
       "    }\n",
       "\n",
       "    .dataframe tbody tr th {\n",
       "        vertical-align: top;\n",
       "    }\n",
       "\n",
       "    .dataframe thead th {\n",
       "        text-align: right;\n",
       "    }\n",
       "</style>\n",
       "<table border=\"1\" class=\"dataframe\">\n",
       "  <thead>\n",
       "    <tr style=\"text-align: right;\">\n",
       "      <th></th>\n",
       "      <th>mql_id</th>\n",
       "      <th>seller_id</th>\n",
       "      <th>sdr_id</th>\n",
       "      <th>sr_id</th>\n",
       "      <th>won_date</th>\n",
       "      <th>business_segment</th>\n",
       "      <th>lead_type</th>\n",
       "      <th>lead_behaviour_profile</th>\n",
       "      <th>has_company</th>\n",
       "      <th>has_gtin</th>\n",
       "      <th>average_stock</th>\n",
       "      <th>business_type</th>\n",
       "      <th>declared_product_catalog_size</th>\n",
       "      <th>declared_monthly_revenue</th>\n",
       "    </tr>\n",
       "  </thead>\n",
       "  <tbody>\n",
       "    <tr>\n",
       "      <th>0</th>\n",
       "      <td>5420aad7fec3549a85876ba1c529bd84</td>\n",
       "      <td>2c43fb513632d29b3b58df74816f1b06</td>\n",
       "      <td>a8387c01a09e99ce014107505b92388c</td>\n",
       "      <td>4ef15afb4b2723d8f3d81e51ec7afefe</td>\n",
       "      <td>2018-02-26 19:58:54</td>\n",
       "      <td>pet</td>\n",
       "      <td>online_medium</td>\n",
       "      <td>cat</td>\n",
       "      <td>NaN</td>\n",
       "      <td>NaN</td>\n",
       "      <td>NaN</td>\n",
       "      <td>reseller</td>\n",
       "      <td>nan</td>\n",
       "      <td>0.00</td>\n",
       "    </tr>\n",
       "    <tr>\n",
       "      <th>1</th>\n",
       "      <td>a555fb36b9368110ede0f043dfc3b9a0</td>\n",
       "      <td>bbb7d7893a450660432ea6652310ebb7</td>\n",
       "      <td>09285259593c61296eef10c734121d5b</td>\n",
       "      <td>d3d1e91a157ea7f90548eef82f1955e3</td>\n",
       "      <td>2018-05-08 20:17:59</td>\n",
       "      <td>car_accessories</td>\n",
       "      <td>industry</td>\n",
       "      <td>eagle</td>\n",
       "      <td>NaN</td>\n",
       "      <td>NaN</td>\n",
       "      <td>NaN</td>\n",
       "      <td>reseller</td>\n",
       "      <td>nan</td>\n",
       "      <td>0.00</td>\n",
       "    </tr>\n",
       "    <tr>\n",
       "      <th>2</th>\n",
       "      <td>327174d3648a2d047e8940d7d15204ca</td>\n",
       "      <td>612170e34b97004b3ba37eae81836b4c</td>\n",
       "      <td>b90f87164b5f8c2cfa5c8572834dbe3f</td>\n",
       "      <td>6565aa9ce3178a5caf6171827af3a9ba</td>\n",
       "      <td>2018-06-05 17:27:23</td>\n",
       "      <td>home_appliances</td>\n",
       "      <td>online_big</td>\n",
       "      <td>cat</td>\n",
       "      <td>NaN</td>\n",
       "      <td>NaN</td>\n",
       "      <td>NaN</td>\n",
       "      <td>reseller</td>\n",
       "      <td>nan</td>\n",
       "      <td>0.00</td>\n",
       "    </tr>\n",
       "    <tr>\n",
       "      <th>3</th>\n",
       "      <td>f5fee8f7da74f4887f5bcae2bafb6dd6</td>\n",
       "      <td>21e1781e36faf92725dde4730a88ca0f</td>\n",
       "      <td>56bf83c4bb35763a51c2baab501b4c67</td>\n",
       "      <td>d3d1e91a157ea7f90548eef82f1955e3</td>\n",
       "      <td>2018-01-17 13:51:03</td>\n",
       "      <td>food_drink</td>\n",
       "      <td>online_small</td>\n",
       "      <td>NaN</td>\n",
       "      <td>NaN</td>\n",
       "      <td>NaN</td>\n",
       "      <td>NaN</td>\n",
       "      <td>reseller</td>\n",
       "      <td>nan</td>\n",
       "      <td>0.00</td>\n",
       "    </tr>\n",
       "    <tr>\n",
       "      <th>4</th>\n",
       "      <td>ffe640179b554e295c167a2f6be528e0</td>\n",
       "      <td>ed8cb7b190ceb6067227478e48cf8dde</td>\n",
       "      <td>4b339f9567d060bcea4f5136b9f5949e</td>\n",
       "      <td>d3d1e91a157ea7f90548eef82f1955e3</td>\n",
       "      <td>2018-07-03 20:17:45</td>\n",
       "      <td>home_appliances</td>\n",
       "      <td>industry</td>\n",
       "      <td>wolf</td>\n",
       "      <td>NaN</td>\n",
       "      <td>NaN</td>\n",
       "      <td>NaN</td>\n",
       "      <td>manufacturer</td>\n",
       "      <td>nan</td>\n",
       "      <td>0.00</td>\n",
       "    </tr>\n",
       "  </tbody>\n",
       "</table>\n",
       "</div>"
      ],
      "text/plain": [
       "                             mql_id                         seller_id  \\\n",
       "0  5420aad7fec3549a85876ba1c529bd84  2c43fb513632d29b3b58df74816f1b06   \n",
       "1  a555fb36b9368110ede0f043dfc3b9a0  bbb7d7893a450660432ea6652310ebb7   \n",
       "2  327174d3648a2d047e8940d7d15204ca  612170e34b97004b3ba37eae81836b4c   \n",
       "3  f5fee8f7da74f4887f5bcae2bafb6dd6  21e1781e36faf92725dde4730a88ca0f   \n",
       "4  ffe640179b554e295c167a2f6be528e0  ed8cb7b190ceb6067227478e48cf8dde   \n",
       "\n",
       "                             sdr_id                             sr_id  \\\n",
       "0  a8387c01a09e99ce014107505b92388c  4ef15afb4b2723d8f3d81e51ec7afefe   \n",
       "1  09285259593c61296eef10c734121d5b  d3d1e91a157ea7f90548eef82f1955e3   \n",
       "2  b90f87164b5f8c2cfa5c8572834dbe3f  6565aa9ce3178a5caf6171827af3a9ba   \n",
       "3  56bf83c4bb35763a51c2baab501b4c67  d3d1e91a157ea7f90548eef82f1955e3   \n",
       "4  4b339f9567d060bcea4f5136b9f5949e  d3d1e91a157ea7f90548eef82f1955e3   \n",
       "\n",
       "              won_date business_segment      lead_type lead_behaviour_profile  \\\n",
       "0  2018-02-26 19:58:54              pet  online_medium                    cat   \n",
       "1  2018-05-08 20:17:59  car_accessories       industry                  eagle   \n",
       "2  2018-06-05 17:27:23  home_appliances     online_big                    cat   \n",
       "3  2018-01-17 13:51:03       food_drink   online_small                    NaN   \n",
       "4  2018-07-03 20:17:45  home_appliances       industry                   wolf   \n",
       "\n",
       "  has_company has_gtin average_stock business_type  \\\n",
       "0         NaN      NaN           NaN      reseller   \n",
       "1         NaN      NaN           NaN      reseller   \n",
       "2         NaN      NaN           NaN      reseller   \n",
       "3         NaN      NaN           NaN      reseller   \n",
       "4         NaN      NaN           NaN  manufacturer   \n",
       "\n",
       "   declared_product_catalog_size  declared_monthly_revenue  \n",
       "0                            nan                      0.00  \n",
       "1                            nan                      0.00  \n",
       "2                            nan                      0.00  \n",
       "3                            nan                      0.00  \n",
       "4                            nan                      0.00  "
      ]
     },
     "execution_count": 19,
     "metadata": {},
     "output_type": "execute_result"
    }
   ],
   "source": [
    "closed_deals.head()"
   ]
  },
  {
   "cell_type": "code",
   "execution_count": 20,
   "metadata": {},
   "outputs": [
    {
     "data": {
      "text/plain": [
       "(842, 14)"
      ]
     },
     "execution_count": 20,
     "metadata": {},
     "output_type": "execute_result"
    }
   ],
   "source": [
    "closed_deals.shape"
   ]
  },
  {
   "cell_type": "code",
   "execution_count": 21,
   "metadata": {},
   "outputs": [
    {
     "name": "stdout",
     "output_type": "stream",
     "text": [
      "<class 'pandas.core.frame.DataFrame'>\n",
      "RangeIndex: 842 entries, 0 to 841\n",
      "Data columns (total 14 columns):\n",
      "mql_id                           842 non-null object\n",
      "seller_id                        842 non-null object\n",
      "sdr_id                           842 non-null object\n",
      "sr_id                            842 non-null object\n",
      "won_date                         842 non-null object\n",
      "business_segment                 841 non-null object\n",
      "lead_type                        836 non-null object\n",
      "lead_behaviour_profile           665 non-null object\n",
      "has_company                      63 non-null object\n",
      "has_gtin                         64 non-null object\n",
      "average_stock                    66 non-null object\n",
      "business_type                    832 non-null object\n",
      "declared_product_catalog_size    69 non-null float64\n",
      "declared_monthly_revenue         842 non-null float64\n",
      "dtypes: float64(2), object(12)\n",
      "memory usage: 92.2+ KB\n"
     ]
    }
   ],
   "source": [
    "closed_deals.info()"
   ]
  },
  {
   "cell_type": "markdown",
   "metadata": {},
   "source": [
    "###### WHAT????? Only 842 'seller_id'?????\n",
    "> Mas há 3.095 na tabela <font color=red>\"sellers\"</font>!!!!!\n",
    "\n",
    "> Alguém me passe um WhatsApp, explicando, please..."
   ]
  },
  {
   "cell_type": "code",
   "execution_count": 22,
   "metadata": {},
   "outputs": [
    {
     "data": {
      "text/html": [
       "<img src=\"sellers e closed_deals.bmp\"/>"
      ],
      "text/plain": [
       "<IPython.core.display.Image object>"
      ]
     },
     "execution_count": 22,
     "metadata": {},
     "output_type": "execute_result"
    }
   ],
   "source": [
    "# Por que só há 842 'seller_id' na tabela \"closed_deals\" (tabela da direita) ????? Deveria haver 3.095, como na da esquerda.\n",
    "Image (url = \"sellers e closed_deals.bmp\")"
   ]
  },
  {
   "cell_type": "code",
   "execution_count": 23,
   "metadata": {},
   "outputs": [
    {
     "data": {
      "text/plain": [
       "842"
      ]
     },
     "execution_count": 23,
     "metadata": {},
     "output_type": "execute_result"
    }
   ],
   "source": [
    "# Quantos valores únicos há em 'seller_id'?\n",
    "closed_deals['seller_id'].nunique()"
   ]
  },
  {
   "cell_type": "code",
   "execution_count": 24,
   "metadata": {},
   "outputs": [
    {
     "data": {
      "text/plain": [
       "33"
      ]
     },
     "execution_count": 24,
     "metadata": {},
     "output_type": "execute_result"
    }
   ],
   "source": [
    "# Quantos valores únicos há em 'business_segment'?\n",
    "closed_deals['business_segment'].nunique()"
   ]
  },
  {
   "cell_type": "code",
   "execution_count": 25,
   "metadata": {},
   "outputs": [
    {
     "data": {
      "text/plain": [
       "array(['pet', 'car_accessories', 'home_appliances', 'food_drink',\n",
       "       'health_beauty', 'computers', 'household_utilities',\n",
       "       'construction_tools_house_garden', 'toys', 'sports_leisure',\n",
       "       'stationery', 'food_supplement', 'home_decor', 'bed_bath_table',\n",
       "       'watches', 'fashion_accessories', 'jewerly', 'party',\n",
       "       'small_appliances', 'audio_video_electronics', 'other',\n",
       "       'bags_backpacks', 'home_office_furniture', 'music_instruments',\n",
       "       'books', 'baby', 'air_conditioning', 'phone_mobile', nan,\n",
       "       'handcrafted', 'perfume', 'gifts', 'religious', 'games_consoles'],\n",
       "      dtype=object)"
      ]
     },
     "execution_count": 25,
     "metadata": {},
     "output_type": "execute_result"
    }
   ],
   "source": [
    "# Quais são eles?\n",
    "closed_deals['business_segment'].unique()"
   ]
  },
  {
   "cell_type": "markdown",
   "metadata": {},
   "source": [
    "###### Repetindo: a ideia é trazer 'business_segment' (da tabela <font color=red>\"closed_deals\"</font>) para a tabela <font color=red>\"sellers\"</font>"
   ]
  },
  {
   "cell_type": "markdown",
   "metadata": {},
   "source": [
    "##### 4.4.1b - Antes, é preciso garantir descrições idênticas às de 'product_category_name\""
   ]
  },
  {
   "cell_type": "code",
   "execution_count": 26,
   "metadata": {},
   "outputs": [
    {
     "data": {
      "text/html": [
       "<div>\n",
       "<style scoped>\n",
       "    .dataframe tbody tr th:only-of-type {\n",
       "        vertical-align: middle;\n",
       "    }\n",
       "\n",
       "    .dataframe tbody tr th {\n",
       "        vertical-align: top;\n",
       "    }\n",
       "\n",
       "    .dataframe thead th {\n",
       "        text-align: right;\n",
       "    }\n",
       "</style>\n",
       "<table border=\"1\" class=\"dataframe\">\n",
       "  <thead>\n",
       "    <tr style=\"text-align: right;\">\n",
       "      <th></th>\n",
       "      <th>product_id</th>\n",
       "      <th>product_category_name</th>\n",
       "      <th>product_name_lenght</th>\n",
       "      <th>product_description_lenght</th>\n",
       "      <th>product_photos_qty</th>\n",
       "      <th>product_weight_g</th>\n",
       "      <th>product_length_cm</th>\n",
       "      <th>product_height_cm</th>\n",
       "      <th>product_width_cm</th>\n",
       "    </tr>\n",
       "  </thead>\n",
       "  <tbody>\n",
       "    <tr>\n",
       "      <th>0</th>\n",
       "      <td>1e9e8ef04dbcff4541ed26657ea517e5</td>\n",
       "      <td>perfumaria</td>\n",
       "      <td>40.00</td>\n",
       "      <td>287.00</td>\n",
       "      <td>1.00</td>\n",
       "      <td>225.00</td>\n",
       "      <td>16.00</td>\n",
       "      <td>10.00</td>\n",
       "      <td>14.00</td>\n",
       "    </tr>\n",
       "    <tr>\n",
       "      <th>1</th>\n",
       "      <td>3aa071139cb16b67ca9e5dea641aaa2f</td>\n",
       "      <td>artes</td>\n",
       "      <td>44.00</td>\n",
       "      <td>276.00</td>\n",
       "      <td>1.00</td>\n",
       "      <td>1,000.00</td>\n",
       "      <td>30.00</td>\n",
       "      <td>18.00</td>\n",
       "      <td>20.00</td>\n",
       "    </tr>\n",
       "    <tr>\n",
       "      <th>2</th>\n",
       "      <td>96bd76ec8810374ed1b65e291975717f</td>\n",
       "      <td>esporte_lazer</td>\n",
       "      <td>46.00</td>\n",
       "      <td>250.00</td>\n",
       "      <td>1.00</td>\n",
       "      <td>154.00</td>\n",
       "      <td>18.00</td>\n",
       "      <td>9.00</td>\n",
       "      <td>15.00</td>\n",
       "    </tr>\n",
       "    <tr>\n",
       "      <th>3</th>\n",
       "      <td>cef67bcfe19066a932b7673e239eb23d</td>\n",
       "      <td>bebes</td>\n",
       "      <td>27.00</td>\n",
       "      <td>261.00</td>\n",
       "      <td>1.00</td>\n",
       "      <td>371.00</td>\n",
       "      <td>26.00</td>\n",
       "      <td>4.00</td>\n",
       "      <td>26.00</td>\n",
       "    </tr>\n",
       "    <tr>\n",
       "      <th>4</th>\n",
       "      <td>9dc1a7de274444849c219cff195d0b71</td>\n",
       "      <td>utilidades_domesticas</td>\n",
       "      <td>37.00</td>\n",
       "      <td>402.00</td>\n",
       "      <td>4.00</td>\n",
       "      <td>625.00</td>\n",
       "      <td>20.00</td>\n",
       "      <td>17.00</td>\n",
       "      <td>13.00</td>\n",
       "    </tr>\n",
       "  </tbody>\n",
       "</table>\n",
       "</div>"
      ],
      "text/plain": [
       "                         product_id  product_category_name  \\\n",
       "0  1e9e8ef04dbcff4541ed26657ea517e5             perfumaria   \n",
       "1  3aa071139cb16b67ca9e5dea641aaa2f                  artes   \n",
       "2  96bd76ec8810374ed1b65e291975717f          esporte_lazer   \n",
       "3  cef67bcfe19066a932b7673e239eb23d                  bebes   \n",
       "4  9dc1a7de274444849c219cff195d0b71  utilidades_domesticas   \n",
       "\n",
       "   product_name_lenght  product_description_lenght  product_photos_qty  \\\n",
       "0                40.00                      287.00                1.00   \n",
       "1                44.00                      276.00                1.00   \n",
       "2                46.00                      250.00                1.00   \n",
       "3                27.00                      261.00                1.00   \n",
       "4                37.00                      402.00                4.00   \n",
       "\n",
       "   product_weight_g  product_length_cm  product_height_cm  product_width_cm  \n",
       "0            225.00              16.00              10.00             14.00  \n",
       "1          1,000.00              30.00              18.00             20.00  \n",
       "2            154.00              18.00               9.00             15.00  \n",
       "3            371.00              26.00               4.00             26.00  \n",
       "4            625.00              20.00              17.00             13.00  "
      ]
     },
     "execution_count": 26,
     "metadata": {},
     "output_type": "execute_result"
    }
   ],
   "source": [
    "products.head()"
   ]
  },
  {
   "cell_type": "code",
   "execution_count": 27,
   "metadata": {},
   "outputs": [
    {
     "data": {
      "text/html": [
       "<div>\n",
       "<style scoped>\n",
       "    .dataframe tbody tr th:only-of-type {\n",
       "        vertical-align: middle;\n",
       "    }\n",
       "\n",
       "    .dataframe tbody tr th {\n",
       "        vertical-align: top;\n",
       "    }\n",
       "\n",
       "    .dataframe thead th {\n",
       "        text-align: right;\n",
       "    }\n",
       "</style>\n",
       "<table border=\"1\" class=\"dataframe\">\n",
       "  <thead>\n",
       "    <tr style=\"text-align: right;\">\n",
       "      <th></th>\n",
       "      <th>product_category_name</th>\n",
       "    </tr>\n",
       "  </thead>\n",
       "  <tbody>\n",
       "    <tr>\n",
       "      <th>29</th>\n",
       "      <td>agro_industria_e_comercio</td>\n",
       "    </tr>\n",
       "    <tr>\n",
       "      <th>55</th>\n",
       "      <td>alimentos</td>\n",
       "    </tr>\n",
       "    <tr>\n",
       "      <th>53</th>\n",
       "      <td>alimentos_bebidas</td>\n",
       "    </tr>\n",
       "    <tr>\n",
       "      <th>1</th>\n",
       "      <td>artes</td>\n",
       "    </tr>\n",
       "    <tr>\n",
       "      <th>63</th>\n",
       "      <td>artes_e_artesanato</td>\n",
       "    </tr>\n",
       "    <tr>\n",
       "      <th>45</th>\n",
       "      <td>artigos_de_festas</td>\n",
       "    </tr>\n",
       "    <tr>\n",
       "      <th>60</th>\n",
       "      <td>artigos_de_natal</td>\n",
       "    </tr>\n",
       "    <tr>\n",
       "      <th>52</th>\n",
       "      <td>audio</td>\n",
       "    </tr>\n",
       "    <tr>\n",
       "      <th>17</th>\n",
       "      <td>automotivo</td>\n",
       "    </tr>\n",
       "    <tr>\n",
       "      <th>3</th>\n",
       "      <td>bebes</td>\n",
       "    </tr>\n",
       "  </tbody>\n",
       "</table>\n",
       "</div>"
      ],
      "text/plain": [
       "        product_category_name\n",
       "29  agro_industria_e_comercio\n",
       "55                  alimentos\n",
       "53          alimentos_bebidas\n",
       "1                       artes\n",
       "63         artes_e_artesanato\n",
       "45          artigos_de_festas\n",
       "60           artigos_de_natal\n",
       "52                      audio\n",
       "17                 automotivo\n",
       "3                       bebes"
      ]
     },
     "execution_count": 27,
     "metadata": {},
     "output_type": "execute_result"
    }
   ],
   "source": [
    "# valores únicos de 'product_category_name'\n",
    "df_categorias_unicas = pd.DataFrame(products['product_category_name'].unique(), columns=['product_category_name'])\n",
    "df_categorias_unicas.sort_values(by='product_category_name').head(10)"
   ]
  },
  {
   "cell_type": "markdown",
   "metadata": {},
   "source": [
    "###### Como a descrição acima está em português, precisaremos da tradução de 'business_segment'\n",
    "> Que obteremos na tabela <font color=red>\"category_translation\"</font>"
   ]
  },
  {
   "cell_type": "code",
   "execution_count": 28,
   "metadata": {},
   "outputs": [],
   "source": [
    "# Leitura da tabela \"category_translation\"\n",
    "category_translation = pd.read_csv(\"product_category_name_translation.csv\", sep = ',')"
   ]
  },
  {
   "cell_type": "code",
   "execution_count": 29,
   "metadata": {},
   "outputs": [
    {
     "data": {
      "text/html": [
       "<div>\n",
       "<style scoped>\n",
       "    .dataframe tbody tr th:only-of-type {\n",
       "        vertical-align: middle;\n",
       "    }\n",
       "\n",
       "    .dataframe tbody tr th {\n",
       "        vertical-align: top;\n",
       "    }\n",
       "\n",
       "    .dataframe thead th {\n",
       "        text-align: right;\n",
       "    }\n",
       "</style>\n",
       "<table border=\"1\" class=\"dataframe\">\n",
       "  <thead>\n",
       "    <tr style=\"text-align: right;\">\n",
       "      <th></th>\n",
       "      <th>product_category_name</th>\n",
       "      <th>product_category_name_english</th>\n",
       "    </tr>\n",
       "  </thead>\n",
       "  <tbody>\n",
       "    <tr>\n",
       "      <th>37</th>\n",
       "      <td>agro_industria_e_comercio</td>\n",
       "      <td>agro_industry_and_commerce</td>\n",
       "    </tr>\n",
       "    <tr>\n",
       "      <th>45</th>\n",
       "      <td>alimentos</td>\n",
       "      <td>food</td>\n",
       "    </tr>\n",
       "    <tr>\n",
       "      <th>10</th>\n",
       "      <td>alimentos_bebidas</td>\n",
       "      <td>food_drink</td>\n",
       "    </tr>\n",
       "    <tr>\n",
       "      <th>46</th>\n",
       "      <td>artes</td>\n",
       "      <td>art</td>\n",
       "    </tr>\n",
       "    <tr>\n",
       "      <th>67</th>\n",
       "      <td>artes_e_artesanato</td>\n",
       "      <td>arts_and_craftmanship</td>\n",
       "    </tr>\n",
       "    <tr>\n",
       "      <th>34</th>\n",
       "      <td>artigos_de_festas</td>\n",
       "      <td>party_supplies</td>\n",
       "    </tr>\n",
       "    <tr>\n",
       "      <th>54</th>\n",
       "      <td>artigos_de_natal</td>\n",
       "      <td>christmas_supplies</td>\n",
       "    </tr>\n",
       "    <tr>\n",
       "      <th>20</th>\n",
       "      <td>audio</td>\n",
       "      <td>audio</td>\n",
       "    </tr>\n",
       "    <tr>\n",
       "      <th>2</th>\n",
       "      <td>automotivo</td>\n",
       "      <td>auto</td>\n",
       "    </tr>\n",
       "    <tr>\n",
       "      <th>11</th>\n",
       "      <td>bebes</td>\n",
       "      <td>baby</td>\n",
       "    </tr>\n",
       "  </tbody>\n",
       "</table>\n",
       "</div>"
      ],
      "text/plain": [
       "        product_category_name product_category_name_english\n",
       "37  agro_industria_e_comercio    agro_industry_and_commerce\n",
       "45                  alimentos                          food\n",
       "10          alimentos_bebidas                    food_drink\n",
       "46                      artes                           art\n",
       "67         artes_e_artesanato         arts_and_craftmanship\n",
       "34          artigos_de_festas                party_supplies\n",
       "54           artigos_de_natal            christmas_supplies\n",
       "20                      audio                         audio\n",
       "2                  automotivo                          auto\n",
       "11                      bebes                          baby"
      ]
     },
     "execution_count": 29,
     "metadata": {},
     "output_type": "execute_result"
    }
   ],
   "source": [
    "category_translation.sort_values(by='product_category_name').head(10)"
   ]
  },
  {
   "cell_type": "code",
   "execution_count": 30,
   "metadata": {},
   "outputs": [
    {
     "data": {
      "text/plain": [
       "(71, 2)"
      ]
     },
     "execution_count": 30,
     "metadata": {},
     "output_type": "execute_result"
    }
   ],
   "source": [
    "category_translation.shape"
   ]
  },
  {
   "cell_type": "markdown",
   "metadata": {},
   "source": [
    "##### As informações em língua portuguesa são idênticas (pelo menos as 10 primeiras em ordem alfabética). \n",
    "> Vamos inserir a informação, usando o comando 'merge'"
   ]
  },
  {
   "cell_type": "code",
   "execution_count": 31,
   "metadata": {},
   "outputs": [],
   "source": [
    "# exemplo de merge  --->    m = pd.merge(tabela_1, tabela_2, how = 'left', on = 'Nome')\n",
    "sellers_com_bSegment = pd.merge(sellers, closed_deals, how = 'left', on = 'seller_id')"
   ]
  },
  {
   "cell_type": "code",
   "execution_count": 32,
   "metadata": {},
   "outputs": [
    {
     "data": {
      "text/plain": [
       "(3095, 17)"
      ]
     },
     "execution_count": 32,
     "metadata": {},
     "output_type": "execute_result"
    }
   ],
   "source": [
    "sellers_com_bSegment.shape"
   ]
  },
  {
   "cell_type": "code",
   "execution_count": 33,
   "metadata": {},
   "outputs": [
    {
     "data": {
      "text/html": [
       "<div>\n",
       "<style scoped>\n",
       "    .dataframe tbody tr th:only-of-type {\n",
       "        vertical-align: middle;\n",
       "    }\n",
       "\n",
       "    .dataframe tbody tr th {\n",
       "        vertical-align: top;\n",
       "    }\n",
       "\n",
       "    .dataframe thead th {\n",
       "        text-align: right;\n",
       "    }\n",
       "</style>\n",
       "<table border=\"1\" class=\"dataframe\">\n",
       "  <thead>\n",
       "    <tr style=\"text-align: right;\">\n",
       "      <th></th>\n",
       "      <th>seller_id</th>\n",
       "      <th>seller_zip_code_prefix</th>\n",
       "      <th>seller_city</th>\n",
       "      <th>seller_state</th>\n",
       "      <th>mql_id</th>\n",
       "      <th>sdr_id</th>\n",
       "      <th>sr_id</th>\n",
       "      <th>won_date</th>\n",
       "      <th>business_segment</th>\n",
       "      <th>lead_type</th>\n",
       "      <th>lead_behaviour_profile</th>\n",
       "      <th>has_company</th>\n",
       "      <th>has_gtin</th>\n",
       "      <th>average_stock</th>\n",
       "      <th>business_type</th>\n",
       "      <th>declared_product_catalog_size</th>\n",
       "      <th>declared_monthly_revenue</th>\n",
       "    </tr>\n",
       "  </thead>\n",
       "  <tbody>\n",
       "    <tr>\n",
       "      <th>0</th>\n",
       "      <td>3442f8959a84dea7ee197c632cb2df15</td>\n",
       "      <td>13023</td>\n",
       "      <td>campinas</td>\n",
       "      <td>SP</td>\n",
       "      <td>NaN</td>\n",
       "      <td>NaN</td>\n",
       "      <td>NaN</td>\n",
       "      <td>NaN</td>\n",
       "      <td>NaN</td>\n",
       "      <td>NaN</td>\n",
       "      <td>NaN</td>\n",
       "      <td>NaN</td>\n",
       "      <td>NaN</td>\n",
       "      <td>NaN</td>\n",
       "      <td>NaN</td>\n",
       "      <td>nan</td>\n",
       "      <td>nan</td>\n",
       "    </tr>\n",
       "    <tr>\n",
       "      <th>1</th>\n",
       "      <td>d1b65fc7debc3361ea86b5f14c68d2e2</td>\n",
       "      <td>13844</td>\n",
       "      <td>mogi guacu</td>\n",
       "      <td>SP</td>\n",
       "      <td>NaN</td>\n",
       "      <td>NaN</td>\n",
       "      <td>NaN</td>\n",
       "      <td>NaN</td>\n",
       "      <td>NaN</td>\n",
       "      <td>NaN</td>\n",
       "      <td>NaN</td>\n",
       "      <td>NaN</td>\n",
       "      <td>NaN</td>\n",
       "      <td>NaN</td>\n",
       "      <td>NaN</td>\n",
       "      <td>nan</td>\n",
       "      <td>nan</td>\n",
       "    </tr>\n",
       "    <tr>\n",
       "      <th>2</th>\n",
       "      <td>ce3ad9de960102d0677a81f5d0bb7b2d</td>\n",
       "      <td>20031</td>\n",
       "      <td>rio de janeiro</td>\n",
       "      <td>RJ</td>\n",
       "      <td>NaN</td>\n",
       "      <td>NaN</td>\n",
       "      <td>NaN</td>\n",
       "      <td>NaN</td>\n",
       "      <td>NaN</td>\n",
       "      <td>NaN</td>\n",
       "      <td>NaN</td>\n",
       "      <td>NaN</td>\n",
       "      <td>NaN</td>\n",
       "      <td>NaN</td>\n",
       "      <td>NaN</td>\n",
       "      <td>nan</td>\n",
       "      <td>nan</td>\n",
       "    </tr>\n",
       "    <tr>\n",
       "      <th>3</th>\n",
       "      <td>c0f3eea2e14555b6faeea3dd58c1b1c3</td>\n",
       "      <td>4195</td>\n",
       "      <td>sao paulo</td>\n",
       "      <td>SP</td>\n",
       "      <td>NaN</td>\n",
       "      <td>NaN</td>\n",
       "      <td>NaN</td>\n",
       "      <td>NaN</td>\n",
       "      <td>NaN</td>\n",
       "      <td>NaN</td>\n",
       "      <td>NaN</td>\n",
       "      <td>NaN</td>\n",
       "      <td>NaN</td>\n",
       "      <td>NaN</td>\n",
       "      <td>NaN</td>\n",
       "      <td>nan</td>\n",
       "      <td>nan</td>\n",
       "    </tr>\n",
       "    <tr>\n",
       "      <th>4</th>\n",
       "      <td>51a04a8a6bdcb23deccc82b0b80742cf</td>\n",
       "      <td>12914</td>\n",
       "      <td>braganca paulista</td>\n",
       "      <td>SP</td>\n",
       "      <td>NaN</td>\n",
       "      <td>NaN</td>\n",
       "      <td>NaN</td>\n",
       "      <td>NaN</td>\n",
       "      <td>NaN</td>\n",
       "      <td>NaN</td>\n",
       "      <td>NaN</td>\n",
       "      <td>NaN</td>\n",
       "      <td>NaN</td>\n",
       "      <td>NaN</td>\n",
       "      <td>NaN</td>\n",
       "      <td>nan</td>\n",
       "      <td>nan</td>\n",
       "    </tr>\n",
       "  </tbody>\n",
       "</table>\n",
       "</div>"
      ],
      "text/plain": [
       "                          seller_id  seller_zip_code_prefix  \\\n",
       "0  3442f8959a84dea7ee197c632cb2df15                   13023   \n",
       "1  d1b65fc7debc3361ea86b5f14c68d2e2                   13844   \n",
       "2  ce3ad9de960102d0677a81f5d0bb7b2d                   20031   \n",
       "3  c0f3eea2e14555b6faeea3dd58c1b1c3                    4195   \n",
       "4  51a04a8a6bdcb23deccc82b0b80742cf                   12914   \n",
       "\n",
       "         seller_city seller_state mql_id sdr_id sr_id won_date  \\\n",
       "0           campinas           SP    NaN    NaN   NaN      NaN   \n",
       "1         mogi guacu           SP    NaN    NaN   NaN      NaN   \n",
       "2     rio de janeiro           RJ    NaN    NaN   NaN      NaN   \n",
       "3          sao paulo           SP    NaN    NaN   NaN      NaN   \n",
       "4  braganca paulista           SP    NaN    NaN   NaN      NaN   \n",
       "\n",
       "  business_segment lead_type lead_behaviour_profile has_company has_gtin  \\\n",
       "0              NaN       NaN                    NaN         NaN      NaN   \n",
       "1              NaN       NaN                    NaN         NaN      NaN   \n",
       "2              NaN       NaN                    NaN         NaN      NaN   \n",
       "3              NaN       NaN                    NaN         NaN      NaN   \n",
       "4              NaN       NaN                    NaN         NaN      NaN   \n",
       "\n",
       "  average_stock business_type  declared_product_catalog_size  \\\n",
       "0           NaN           NaN                            nan   \n",
       "1           NaN           NaN                            nan   \n",
       "2           NaN           NaN                            nan   \n",
       "3           NaN           NaN                            nan   \n",
       "4           NaN           NaN                            nan   \n",
       "\n",
       "   declared_monthly_revenue  \n",
       "0                       nan  \n",
       "1                       nan  \n",
       "2                       nan  \n",
       "3                       nan  \n",
       "4                       nan  "
      ]
     },
     "execution_count": 33,
     "metadata": {},
     "output_type": "execute_result"
    }
   ],
   "source": [
    "sellers_com_bSegment.head(5)"
   ]
  },
  {
   "cell_type": "code",
   "execution_count": 34,
   "metadata": {},
   "outputs": [
    {
     "data": {
      "text/html": [
       "<div>\n",
       "<style scoped>\n",
       "    .dataframe tbody tr th:only-of-type {\n",
       "        vertical-align: middle;\n",
       "    }\n",
       "\n",
       "    .dataframe tbody tr th {\n",
       "        vertical-align: top;\n",
       "    }\n",
       "\n",
       "    .dataframe thead th {\n",
       "        text-align: right;\n",
       "    }\n",
       "</style>\n",
       "<table border=\"1\" class=\"dataframe\">\n",
       "  <thead>\n",
       "    <tr style=\"text-align: right;\">\n",
       "      <th></th>\n",
       "      <th>seller_id</th>\n",
       "      <th>seller_zip_code_prefix</th>\n",
       "      <th>seller_city</th>\n",
       "      <th>seller_state</th>\n",
       "      <th>business_segment</th>\n",
       "    </tr>\n",
       "  </thead>\n",
       "  <tbody>\n",
       "    <tr>\n",
       "      <th>3090</th>\n",
       "      <td>98dddbc4601dd4443ca174359b237166</td>\n",
       "      <td>87111</td>\n",
       "      <td>sarandi</td>\n",
       "      <td>PR</td>\n",
       "      <td>NaN</td>\n",
       "    </tr>\n",
       "    <tr>\n",
       "      <th>3091</th>\n",
       "      <td>f8201cab383e484733266d1906e2fdfa</td>\n",
       "      <td>88137</td>\n",
       "      <td>palhoca</td>\n",
       "      <td>SC</td>\n",
       "      <td>NaN</td>\n",
       "    </tr>\n",
       "    <tr>\n",
       "      <th>3092</th>\n",
       "      <td>74871d19219c7d518d0090283e03c137</td>\n",
       "      <td>4650</td>\n",
       "      <td>sao paulo</td>\n",
       "      <td>SP</td>\n",
       "      <td>NaN</td>\n",
       "    </tr>\n",
       "    <tr>\n",
       "      <th>3093</th>\n",
       "      <td>e603cf3fec55f8697c9059638d6c8eb5</td>\n",
       "      <td>96080</td>\n",
       "      <td>pelotas</td>\n",
       "      <td>RS</td>\n",
       "      <td>NaN</td>\n",
       "    </tr>\n",
       "    <tr>\n",
       "      <th>3094</th>\n",
       "      <td>9e25199f6ef7e7c347120ff175652c3b</td>\n",
       "      <td>12051</td>\n",
       "      <td>taubate</td>\n",
       "      <td>SP</td>\n",
       "      <td>NaN</td>\n",
       "    </tr>\n",
       "  </tbody>\n",
       "</table>\n",
       "</div>"
      ],
      "text/plain": [
       "                             seller_id  seller_zip_code_prefix seller_city  \\\n",
       "3090  98dddbc4601dd4443ca174359b237166                   87111     sarandi   \n",
       "3091  f8201cab383e484733266d1906e2fdfa                   88137     palhoca   \n",
       "3092  74871d19219c7d518d0090283e03c137                    4650   sao paulo   \n",
       "3093  e603cf3fec55f8697c9059638d6c8eb5                   96080     pelotas   \n",
       "3094  9e25199f6ef7e7c347120ff175652c3b                   12051     taubate   \n",
       "\n",
       "     seller_state business_segment  \n",
       "3090           PR              NaN  \n",
       "3091           SC              NaN  \n",
       "3092           SP              NaN  \n",
       "3093           RS              NaN  \n",
       "3094           SP              NaN  "
      ]
     },
     "execution_count": 34,
     "metadata": {},
     "output_type": "execute_result"
    }
   ],
   "source": [
    "# Deleção dos campos não mais necessários\n",
    "sellers_normalizado = sellers_com_bSegment.drop(['mql_id', 'sdr_id','sr_id', 'won_date', 'lead_type', 'lead_behaviour_profile', 'has_company', 'has_gtin', 'average_stock', 'business_type', 'declared_product_catalog_size', 'declared_monthly_revenue'], axis=1)\n",
    "sellers_normalizado.tail()"
   ]
  },
  {
   "cell_type": "code",
   "execution_count": 35,
   "metadata": {},
   "outputs": [
    {
     "data": {
      "text/plain": [
       "(3095, 5)"
      ]
     },
     "execution_count": 35,
     "metadata": {},
     "output_type": "execute_result"
    }
   ],
   "source": [
    "sellers_normalizado.shape"
   ]
  },
  {
   "cell_type": "code",
   "execution_count": 36,
   "metadata": {},
   "outputs": [
    {
     "name": "stdout",
     "output_type": "stream",
     "text": [
      "<class 'pandas.core.frame.DataFrame'>\n",
      "Int64Index: 3095 entries, 0 to 3094\n",
      "Data columns (total 5 columns):\n",
      "seller_id                 3095 non-null object\n",
      "seller_zip_code_prefix    3095 non-null int64\n",
      "seller_city               3095 non-null object\n",
      "seller_state              3095 non-null object\n",
      "business_segment          380 non-null object\n",
      "dtypes: int64(1), object(4)\n",
      "memory usage: 145.1+ KB\n"
     ]
    }
   ],
   "source": [
    "sellers_normalizado.info()"
   ]
  },
  {
   "cell_type": "code",
   "execution_count": 37,
   "metadata": {},
   "outputs": [
    {
     "data": {
      "text/plain": [
       "29"
      ]
     },
     "execution_count": 37,
     "metadata": {},
     "output_type": "execute_result"
    }
   ],
   "source": [
    "# Quantos valores únicos há em 'business_segment'?\n",
    "sellers_normalizado['business_segment'].nunique()"
   ]
  },
  {
   "cell_type": "markdown",
   "metadata": {},
   "source": [
    "###### Somente 380 'business_segment' em 3.090 'seller_id'.\n",
    "> É outra incongruência desse DataSet.\n",
    ">> Provavelmente falha no carregamento de dados."
   ]
  },
  {
   "cell_type": "code",
   "execution_count": 38,
   "metadata": {},
   "outputs": [
    {
     "data": {
      "text/plain": [
       "29"
      ]
     },
     "execution_count": 38,
     "metadata": {},
     "output_type": "execute_result"
    }
   ],
   "source": [
    "# Quantos valores únicos há em 'business_segment'?\n",
    "sellers_normalizado['business_segment'].nunique()"
   ]
  },
  {
   "cell_type": "code",
   "execution_count": 39,
   "metadata": {},
   "outputs": [
    {
     "data": {
      "text/html": [
       "<img src=\"sete tabelas com sellers_normalizada.bmp\"/>"
      ],
      "text/plain": [
       "<IPython.core.display.Image object>"
      ]
     },
     "execution_count": 39,
     "metadata": {},
     "output_type": "execute_result"
    }
   ],
   "source": [
    "# Poderemos relacionar 'product_category_name' (da tabela \"products\") à 'business_segment' (da tabela \"sellers_normalizada\")\n",
    "Image (url = \"sete tabelas com sellers_normalizada.bmp\")"
   ]
  },
  {
   "cell_type": "markdown",
   "metadata": {},
   "source": [
    "### 4.5 - Tabela <font color=red>\"geolocation\"</font>"
   ]
  },
  {
   "cell_type": "code",
   "execution_count": 40,
   "metadata": {},
   "outputs": [
    {
     "data": {
      "text/html": [
       "<div>\n",
       "<style scoped>\n",
       "    .dataframe tbody tr th:only-of-type {\n",
       "        vertical-align: middle;\n",
       "    }\n",
       "\n",
       "    .dataframe tbody tr th {\n",
       "        vertical-align: top;\n",
       "    }\n",
       "\n",
       "    .dataframe thead th {\n",
       "        text-align: right;\n",
       "    }\n",
       "</style>\n",
       "<table border=\"1\" class=\"dataframe\">\n",
       "  <thead>\n",
       "    <tr style=\"text-align: right;\">\n",
       "      <th></th>\n",
       "      <th>geolocation_zip_code_prefix</th>\n",
       "      <th>geolocation_lat</th>\n",
       "      <th>geolocation_lng</th>\n",
       "      <th>geolocation_city</th>\n",
       "      <th>geolocation_state</th>\n",
       "    </tr>\n",
       "  </thead>\n",
       "  <tbody>\n",
       "    <tr>\n",
       "      <th>0</th>\n",
       "      <td>1037</td>\n",
       "      <td>-23.55</td>\n",
       "      <td>-46.64</td>\n",
       "      <td>sao paulo</td>\n",
       "      <td>SP</td>\n",
       "    </tr>\n",
       "    <tr>\n",
       "      <th>1</th>\n",
       "      <td>1046</td>\n",
       "      <td>-23.55</td>\n",
       "      <td>-46.64</td>\n",
       "      <td>sao paulo</td>\n",
       "      <td>SP</td>\n",
       "    </tr>\n",
       "    <tr>\n",
       "      <th>2</th>\n",
       "      <td>1046</td>\n",
       "      <td>-23.55</td>\n",
       "      <td>-46.64</td>\n",
       "      <td>sao paulo</td>\n",
       "      <td>SP</td>\n",
       "    </tr>\n",
       "    <tr>\n",
       "      <th>3</th>\n",
       "      <td>1041</td>\n",
       "      <td>-23.54</td>\n",
       "      <td>-46.64</td>\n",
       "      <td>sao paulo</td>\n",
       "      <td>SP</td>\n",
       "    </tr>\n",
       "    <tr>\n",
       "      <th>4</th>\n",
       "      <td>1035</td>\n",
       "      <td>-23.54</td>\n",
       "      <td>-46.64</td>\n",
       "      <td>sao paulo</td>\n",
       "      <td>SP</td>\n",
       "    </tr>\n",
       "  </tbody>\n",
       "</table>\n",
       "</div>"
      ],
      "text/plain": [
       "   geolocation_zip_code_prefix  geolocation_lat  geolocation_lng  \\\n",
       "0                         1037           -23.55           -46.64   \n",
       "1                         1046           -23.55           -46.64   \n",
       "2                         1046           -23.55           -46.64   \n",
       "3                         1041           -23.54           -46.64   \n",
       "4                         1035           -23.54           -46.64   \n",
       "\n",
       "  geolocation_city geolocation_state  \n",
       "0        sao paulo                SP  \n",
       "1        sao paulo                SP  \n",
       "2        sao paulo                SP  \n",
       "3        sao paulo                SP  \n",
       "4        sao paulo                SP  "
      ]
     },
     "execution_count": 40,
     "metadata": {},
     "output_type": "execute_result"
    }
   ],
   "source": [
    "geolocation.head()"
   ]
  },
  {
   "cell_type": "code",
   "execution_count": 41,
   "metadata": {},
   "outputs": [
    {
     "data": {
      "text/plain": [
       "(1000163, 5)"
      ]
     },
     "execution_count": 41,
     "metadata": {},
     "output_type": "execute_result"
    }
   ],
   "source": [
    "geolocation.shape"
   ]
  },
  {
   "cell_type": "code",
   "execution_count": 42,
   "metadata": {},
   "outputs": [
    {
     "name": "stdout",
     "output_type": "stream",
     "text": [
      "<class 'pandas.core.frame.DataFrame'>\n",
      "RangeIndex: 1000163 entries, 0 to 1000162\n",
      "Data columns (total 5 columns):\n",
      "geolocation_zip_code_prefix    1000163 non-null int64\n",
      "geolocation_lat                1000163 non-null float64\n",
      "geolocation_lng                1000163 non-null float64\n",
      "geolocation_city               1000163 non-null object\n",
      "geolocation_state              1000163 non-null object\n",
      "dtypes: float64(2), int64(1), object(2)\n",
      "memory usage: 38.2+ MB\n"
     ]
    }
   ],
   "source": [
    "geolocation.info()"
   ]
  },
  {
   "cell_type": "code",
   "execution_count": 43,
   "metadata": {},
   "outputs": [
    {
     "data": {
      "text/plain": [
       "geolocation_zip_code_prefix     19015\n",
       "geolocation_lat                717358\n",
       "geolocation_lng                717613\n",
       "geolocation_city                 8011\n",
       "geolocation_state                  27\n",
       "dtype: int64"
      ]
     },
     "execution_count": 43,
     "metadata": {},
     "output_type": "execute_result"
    }
   ],
   "source": [
    "# valores únicos dos campos\n",
    "geolocation[['geolocation_zip_code_prefix', 'geolocation_lat', 'geolocation_lng', 'geolocation_city', 'geolocation_state']].nunique()"
   ]
  },
  {
   "cell_type": "markdown",
   "metadata": {},
   "source": [
    "#### 4.5.1 - Busca pela chave primária da tabela <font color=red>\"geolocation\"</font>"
   ]
  },
  {
   "cell_type": "code",
   "execution_count": 44,
   "metadata": {},
   "outputs": [
    {
     "data": {
      "text/plain": [
       "719298"
      ]
     },
     "execution_count": 44,
     "metadata": {},
     "output_type": "execute_result"
    }
   ],
   "source": [
    "# Qual a chave primária da tabela \"geolocation\"?\n",
    "# Vamos deletar duplicados da concatenação de 'geolocation_zip_code_prefix' com 'geolocation_lat' (Se não houver deleção, eis a chave primária)\n",
    "len(geolocation.drop_duplicates (subset=['geolocation_zip_code_prefix', 'geolocation_lat']))"
   ]
  },
  {
   "cell_type": "markdown",
   "metadata": {},
   "source": [
    "###### Não era aquela, vamos tentar outra."
   ]
  },
  {
   "cell_type": "code",
   "execution_count": 45,
   "metadata": {},
   "outputs": [
    {
     "data": {
      "text/plain": [
       "719445"
      ]
     },
     "execution_count": 45,
     "metadata": {},
     "output_type": "execute_result"
    }
   ],
   "source": [
    "len(geolocation.drop_duplicates (subset=['geolocation_zip_code_prefix', 'geolocation_lng']))"
   ]
  },
  {
   "cell_type": "markdown",
   "metadata": {},
   "source": [
    "###### Também não era aquela."
   ]
  },
  {
   "cell_type": "code",
   "execution_count": 46,
   "metadata": {},
   "outputs": [
    {
     "data": {
      "text/plain": [
       "718463"
      ]
     },
     "execution_count": 46,
     "metadata": {},
     "output_type": "execute_result"
    }
   ],
   "source": [
    "len(geolocation.drop_duplicates (subset=['geolocation_lat', 'geolocation_lng']))"
   ]
  },
  {
   "cell_type": "markdown",
   "metadata": {},
   "source": [
    "###### Nem aquela"
   ]
  },
  {
   "cell_type": "code",
   "execution_count": 47,
   "metadata": {},
   "outputs": [
    {
     "data": {
      "text/plain": [
       "720154"
      ]
     },
     "execution_count": 47,
     "metadata": {},
     "output_type": "execute_result"
    }
   ],
   "source": [
    "len(geolocation.drop_duplicates (subset=['geolocation_zip_code_prefix', 'geolocation_lat', 'geolocation_lng']))"
   ]
  },
  {
   "cell_type": "markdown",
   "metadata": {},
   "source": [
    "###### ???"
   ]
  },
  {
   "cell_type": "code",
   "execution_count": 48,
   "metadata": {},
   "outputs": [
    {
     "data": {
      "text/plain": [
       "738330"
      ]
     },
     "execution_count": 48,
     "metadata": {},
     "output_type": "execute_result"
    }
   ],
   "source": [
    "len(geolocation.drop_duplicates (subset=['geolocation_zip_code_prefix', 'geolocation_lat', 'geolocation_lng', 'geolocation_city']))"
   ]
  },
  {
   "cell_type": "code",
   "execution_count": 49,
   "metadata": {},
   "outputs": [
    {
     "data": {
      "text/plain": [
       "738332"
      ]
     },
     "execution_count": 49,
     "metadata": {},
     "output_type": "execute_result"
    }
   ],
   "source": [
    "len(geolocation.drop_duplicates (subset=['geolocation_zip_code_prefix', 'geolocation_lat', 'geolocation_lng', 'geolocation_city', 'geolocation_state']))"
   ]
  },
  {
   "cell_type": "markdown",
   "metadata": {},
   "source": [
    "###### Não há chave primária na tabela?????\n",
    "> Olhemos com lupa a coluna 'geolocation_zip_code_prefix'"
   ]
  },
  {
   "cell_type": "code",
   "execution_count": 50,
   "metadata": {},
   "outputs": [
    {
     "data": {
      "text/html": [
       "<div>\n",
       "<style scoped>\n",
       "    .dataframe tbody tr th:only-of-type {\n",
       "        vertical-align: middle;\n",
       "    }\n",
       "\n",
       "    .dataframe tbody tr th {\n",
       "        vertical-align: top;\n",
       "    }\n",
       "\n",
       "    .dataframe thead th {\n",
       "        text-align: right;\n",
       "    }\n",
       "</style>\n",
       "<table border=\"1\" class=\"dataframe\">\n",
       "  <thead>\n",
       "    <tr style=\"text-align: right;\">\n",
       "      <th></th>\n",
       "      <th>geolocation_zip_code_prefix</th>\n",
       "      <th>geolocation_lat</th>\n",
       "      <th>geolocation_lng</th>\n",
       "      <th>geolocation_city</th>\n",
       "      <th>geolocation_state</th>\n",
       "    </tr>\n",
       "  </thead>\n",
       "  <tbody>\n",
       "    <tr>\n",
       "      <th>1</th>\n",
       "      <td>1046</td>\n",
       "      <td>-23.55</td>\n",
       "      <td>-46.64</td>\n",
       "      <td>sao paulo</td>\n",
       "      <td>SP</td>\n",
       "    </tr>\n",
       "    <tr>\n",
       "      <th>996</th>\n",
       "      <td>1046</td>\n",
       "      <td>-23.55</td>\n",
       "      <td>-46.64</td>\n",
       "      <td>sao paulo</td>\n",
       "      <td>SP</td>\n",
       "    </tr>\n",
       "    <tr>\n",
       "      <th>981</th>\n",
       "      <td>1046</td>\n",
       "      <td>-23.55</td>\n",
       "      <td>-46.64</td>\n",
       "      <td>sao paulo</td>\n",
       "      <td>SP</td>\n",
       "    </tr>\n",
       "    <tr>\n",
       "      <th>971</th>\n",
       "      <td>1046</td>\n",
       "      <td>-23.55</td>\n",
       "      <td>-46.64</td>\n",
       "      <td>sao paulo</td>\n",
       "      <td>SP</td>\n",
       "    </tr>\n",
       "    <tr>\n",
       "      <th>970</th>\n",
       "      <td>1046</td>\n",
       "      <td>-23.55</td>\n",
       "      <td>-46.64</td>\n",
       "      <td>sao paulo</td>\n",
       "      <td>SP</td>\n",
       "    </tr>\n",
       "    <tr>\n",
       "      <th>932</th>\n",
       "      <td>1046</td>\n",
       "      <td>-23.55</td>\n",
       "      <td>-46.64</td>\n",
       "      <td>sao paulo</td>\n",
       "      <td>SP</td>\n",
       "    </tr>\n",
       "    <tr>\n",
       "      <th>923</th>\n",
       "      <td>1046</td>\n",
       "      <td>-23.55</td>\n",
       "      <td>-46.64</td>\n",
       "      <td>sao paulo</td>\n",
       "      <td>SP</td>\n",
       "    </tr>\n",
       "    <tr>\n",
       "      <th>914</th>\n",
       "      <td>1046</td>\n",
       "      <td>-23.55</td>\n",
       "      <td>-46.64</td>\n",
       "      <td>sao paulo</td>\n",
       "      <td>SP</td>\n",
       "    </tr>\n",
       "    <tr>\n",
       "      <th>899</th>\n",
       "      <td>1046</td>\n",
       "      <td>-23.55</td>\n",
       "      <td>-46.64</td>\n",
       "      <td>sao paulo</td>\n",
       "      <td>SP</td>\n",
       "    </tr>\n",
       "    <tr>\n",
       "      <th>893</th>\n",
       "      <td>1046</td>\n",
       "      <td>-23.55</td>\n",
       "      <td>-46.64</td>\n",
       "      <td>sao paulo</td>\n",
       "      <td>SP</td>\n",
       "    </tr>\n",
       "    <tr>\n",
       "      <th>857</th>\n",
       "      <td>1046</td>\n",
       "      <td>-23.55</td>\n",
       "      <td>-46.64</td>\n",
       "      <td>sao paulo</td>\n",
       "      <td>SP</td>\n",
       "    </tr>\n",
       "    <tr>\n",
       "      <th>850</th>\n",
       "      <td>1046</td>\n",
       "      <td>-23.55</td>\n",
       "      <td>-46.64</td>\n",
       "      <td>sao paulo</td>\n",
       "      <td>SP</td>\n",
       "    </tr>\n",
       "    <tr>\n",
       "      <th>839</th>\n",
       "      <td>1046</td>\n",
       "      <td>-23.55</td>\n",
       "      <td>-46.65</td>\n",
       "      <td>sao paulo</td>\n",
       "      <td>SP</td>\n",
       "    </tr>\n",
       "    <tr>\n",
       "      <th>828</th>\n",
       "      <td>1046</td>\n",
       "      <td>-23.55</td>\n",
       "      <td>-46.64</td>\n",
       "      <td>sao paulo</td>\n",
       "      <td>SP</td>\n",
       "    </tr>\n",
       "    <tr>\n",
       "      <th>1011</th>\n",
       "      <td>1046</td>\n",
       "      <td>-23.55</td>\n",
       "      <td>-46.65</td>\n",
       "      <td>sao paulo</td>\n",
       "      <td>SP</td>\n",
       "    </tr>\n",
       "    <tr>\n",
       "      <th>822</th>\n",
       "      <td>1046</td>\n",
       "      <td>-23.55</td>\n",
       "      <td>-46.64</td>\n",
       "      <td>sao paulo</td>\n",
       "      <td>SP</td>\n",
       "    </tr>\n",
       "    <tr>\n",
       "      <th>806</th>\n",
       "      <td>1046</td>\n",
       "      <td>-23.55</td>\n",
       "      <td>-46.64</td>\n",
       "      <td>sao paulo</td>\n",
       "      <td>SP</td>\n",
       "    </tr>\n",
       "    <tr>\n",
       "      <th>793</th>\n",
       "      <td>1046</td>\n",
       "      <td>-23.55</td>\n",
       "      <td>-46.64</td>\n",
       "      <td>sao paulo</td>\n",
       "      <td>SP</td>\n",
       "    </tr>\n",
       "    <tr>\n",
       "      <th>778</th>\n",
       "      <td>1046</td>\n",
       "      <td>-23.55</td>\n",
       "      <td>-46.64</td>\n",
       "      <td>sao paulo</td>\n",
       "      <td>SP</td>\n",
       "    </tr>\n",
       "    <tr>\n",
       "      <th>762</th>\n",
       "      <td>1046</td>\n",
       "      <td>-23.55</td>\n",
       "      <td>-46.64</td>\n",
       "      <td>sao paulo</td>\n",
       "      <td>SP</td>\n",
       "    </tr>\n",
       "    <tr>\n",
       "      <th>756</th>\n",
       "      <td>1046</td>\n",
       "      <td>-23.55</td>\n",
       "      <td>-46.64</td>\n",
       "      <td>sao paulo</td>\n",
       "      <td>SP</td>\n",
       "    </tr>\n",
       "    <tr>\n",
       "      <th>742</th>\n",
       "      <td>1046</td>\n",
       "      <td>-23.55</td>\n",
       "      <td>-46.65</td>\n",
       "      <td>sao paulo</td>\n",
       "      <td>SP</td>\n",
       "    </tr>\n",
       "    <tr>\n",
       "      <th>740</th>\n",
       "      <td>1046</td>\n",
       "      <td>-23.55</td>\n",
       "      <td>-46.64</td>\n",
       "      <td>sao paulo</td>\n",
       "      <td>SP</td>\n",
       "    </tr>\n",
       "    <tr>\n",
       "      <th>689</th>\n",
       "      <td>1046</td>\n",
       "      <td>-23.55</td>\n",
       "      <td>-46.64</td>\n",
       "      <td>sao paulo</td>\n",
       "      <td>SP</td>\n",
       "    </tr>\n",
       "    <tr>\n",
       "      <th>687</th>\n",
       "      <td>1046</td>\n",
       "      <td>-23.55</td>\n",
       "      <td>-46.65</td>\n",
       "      <td>sao paulo</td>\n",
       "      <td>SP</td>\n",
       "    </tr>\n",
       "    <tr>\n",
       "      <th>1450</th>\n",
       "      <td>1046</td>\n",
       "      <td>-23.55</td>\n",
       "      <td>-46.64</td>\n",
       "      <td>sao paulo</td>\n",
       "      <td>SP</td>\n",
       "    </tr>\n",
       "    <tr>\n",
       "      <th>675</th>\n",
       "      <td>1046</td>\n",
       "      <td>-23.55</td>\n",
       "      <td>-46.64</td>\n",
       "      <td>sao paulo</td>\n",
       "      <td>SP</td>\n",
       "    </tr>\n",
       "    <tr>\n",
       "      <th>656</th>\n",
       "      <td>1046</td>\n",
       "      <td>-23.55</td>\n",
       "      <td>-46.64</td>\n",
       "      <td>sao paulo</td>\n",
       "      <td>SP</td>\n",
       "    </tr>\n",
       "    <tr>\n",
       "      <th>650</th>\n",
       "      <td>1046</td>\n",
       "      <td>-23.55</td>\n",
       "      <td>-46.65</td>\n",
       "      <td>sao paulo</td>\n",
       "      <td>SP</td>\n",
       "    </tr>\n",
       "    <tr>\n",
       "      <th>813</th>\n",
       "      <td>1046</td>\n",
       "      <td>-23.55</td>\n",
       "      <td>-46.64</td>\n",
       "      <td>sao paulo</td>\n",
       "      <td>SP</td>\n",
       "    </tr>\n",
       "    <tr>\n",
       "      <th>1037</th>\n",
       "      <td>1046</td>\n",
       "      <td>-23.55</td>\n",
       "      <td>-46.64</td>\n",
       "      <td>sao paulo</td>\n",
       "      <td>SP</td>\n",
       "    </tr>\n",
       "    <tr>\n",
       "      <th>1039</th>\n",
       "      <td>1046</td>\n",
       "      <td>-23.55</td>\n",
       "      <td>-46.64</td>\n",
       "      <td>sao paulo</td>\n",
       "      <td>SP</td>\n",
       "    </tr>\n",
       "    <tr>\n",
       "      <th>1053</th>\n",
       "      <td>1046</td>\n",
       "      <td>-23.55</td>\n",
       "      <td>-46.64</td>\n",
       "      <td>sao paulo</td>\n",
       "      <td>SP</td>\n",
       "    </tr>\n",
       "    <tr>\n",
       "      <th>1439</th>\n",
       "      <td>1046</td>\n",
       "      <td>-23.55</td>\n",
       "      <td>-46.64</td>\n",
       "      <td>sao paulo</td>\n",
       "      <td>SP</td>\n",
       "    </tr>\n",
       "    <tr>\n",
       "      <th>1437</th>\n",
       "      <td>1046</td>\n",
       "      <td>-23.55</td>\n",
       "      <td>-46.64</td>\n",
       "      <td>sao paulo</td>\n",
       "      <td>SP</td>\n",
       "    </tr>\n",
       "    <tr>\n",
       "      <th>1432</th>\n",
       "      <td>1046</td>\n",
       "      <td>-23.55</td>\n",
       "      <td>-46.64</td>\n",
       "      <td>sao paulo</td>\n",
       "      <td>SP</td>\n",
       "    </tr>\n",
       "    <tr>\n",
       "      <th>1428</th>\n",
       "      <td>1046</td>\n",
       "      <td>-23.55</td>\n",
       "      <td>-46.64</td>\n",
       "      <td>sao paulo</td>\n",
       "      <td>SP</td>\n",
       "    </tr>\n",
       "    <tr>\n",
       "      <th>1414</th>\n",
       "      <td>1046</td>\n",
       "      <td>-23.55</td>\n",
       "      <td>-46.64</td>\n",
       "      <td>sao paulo</td>\n",
       "      <td>SP</td>\n",
       "    </tr>\n",
       "    <tr>\n",
       "      <th>1412</th>\n",
       "      <td>1046</td>\n",
       "      <td>-23.55</td>\n",
       "      <td>-46.64</td>\n",
       "      <td>sao paulo</td>\n",
       "      <td>SP</td>\n",
       "    </tr>\n",
       "    <tr>\n",
       "      <th>1404</th>\n",
       "      <td>1046</td>\n",
       "      <td>-23.55</td>\n",
       "      <td>-46.64</td>\n",
       "      <td>sao paulo</td>\n",
       "      <td>SP</td>\n",
       "    </tr>\n",
       "    <tr>\n",
       "      <th>1387</th>\n",
       "      <td>1046</td>\n",
       "      <td>-23.55</td>\n",
       "      <td>-46.64</td>\n",
       "      <td>sao paulo</td>\n",
       "      <td>SP</td>\n",
       "    </tr>\n",
       "    <tr>\n",
       "      <th>1375</th>\n",
       "      <td>1046</td>\n",
       "      <td>-23.55</td>\n",
       "      <td>-46.64</td>\n",
       "      <td>sao paulo</td>\n",
       "      <td>SP</td>\n",
       "    </tr>\n",
       "    <tr>\n",
       "      <th>1373</th>\n",
       "      <td>1046</td>\n",
       "      <td>-23.55</td>\n",
       "      <td>-46.64</td>\n",
       "      <td>sao paulo</td>\n",
       "      <td>SP</td>\n",
       "    </tr>\n",
       "    <tr>\n",
       "      <th>1372</th>\n",
       "      <td>1046</td>\n",
       "      <td>-23.55</td>\n",
       "      <td>-46.64</td>\n",
       "      <td>sao paulo</td>\n",
       "      <td>SP</td>\n",
       "    </tr>\n",
       "    <tr>\n",
       "      <th>1367</th>\n",
       "      <td>1046</td>\n",
       "      <td>-23.55</td>\n",
       "      <td>-46.64</td>\n",
       "      <td>sao paulo</td>\n",
       "      <td>SP</td>\n",
       "    </tr>\n",
       "    <tr>\n",
       "      <th>1361</th>\n",
       "      <td>1046</td>\n",
       "      <td>-23.55</td>\n",
       "      <td>-46.64</td>\n",
       "      <td>sao paulo</td>\n",
       "      <td>SP</td>\n",
       "    </tr>\n",
       "    <tr>\n",
       "      <th>1358</th>\n",
       "      <td>1046</td>\n",
       "      <td>-23.55</td>\n",
       "      <td>-46.65</td>\n",
       "      <td>sao paulo</td>\n",
       "      <td>SP</td>\n",
       "    </tr>\n",
       "    <tr>\n",
       "      <th>1356</th>\n",
       "      <td>1046</td>\n",
       "      <td>-23.55</td>\n",
       "      <td>-46.64</td>\n",
       "      <td>sao paulo</td>\n",
       "      <td>SP</td>\n",
       "    </tr>\n",
       "    <tr>\n",
       "      <th>1341</th>\n",
       "      <td>1046</td>\n",
       "      <td>-23.55</td>\n",
       "      <td>-46.64</td>\n",
       "      <td>sao paulo</td>\n",
       "      <td>SP</td>\n",
       "    </tr>\n",
       "    <tr>\n",
       "      <th>1311</th>\n",
       "      <td>1046</td>\n",
       "      <td>-23.55</td>\n",
       "      <td>-46.64</td>\n",
       "      <td>sao paulo</td>\n",
       "      <td>SP</td>\n",
       "    </tr>\n",
       "    <tr>\n",
       "      <th>1310</th>\n",
       "      <td>1046</td>\n",
       "      <td>-23.55</td>\n",
       "      <td>-46.64</td>\n",
       "      <td>sao paulo</td>\n",
       "      <td>SP</td>\n",
       "    </tr>\n",
       "    <tr>\n",
       "      <th>1305</th>\n",
       "      <td>1046</td>\n",
       "      <td>-23.55</td>\n",
       "      <td>-46.64</td>\n",
       "      <td>sao paulo</td>\n",
       "      <td>SP</td>\n",
       "    </tr>\n",
       "    <tr>\n",
       "      <th>1292</th>\n",
       "      <td>1046</td>\n",
       "      <td>-23.55</td>\n",
       "      <td>-46.64</td>\n",
       "      <td>sao paulo</td>\n",
       "      <td>SP</td>\n",
       "    </tr>\n",
       "    <tr>\n",
       "      <th>1275</th>\n",
       "      <td>1046</td>\n",
       "      <td>-23.55</td>\n",
       "      <td>-46.64</td>\n",
       "      <td>sao paulo</td>\n",
       "      <td>SP</td>\n",
       "    </tr>\n",
       "    <tr>\n",
       "      <th>1242</th>\n",
       "      <td>1046</td>\n",
       "      <td>-23.55</td>\n",
       "      <td>-46.64</td>\n",
       "      <td>sao paulo</td>\n",
       "      <td>SP</td>\n",
       "    </tr>\n",
       "    <tr>\n",
       "      <th>1206</th>\n",
       "      <td>1046</td>\n",
       "      <td>-23.55</td>\n",
       "      <td>-46.64</td>\n",
       "      <td>sao paulo</td>\n",
       "      <td>SP</td>\n",
       "    </tr>\n",
       "    <tr>\n",
       "      <th>1205</th>\n",
       "      <td>1046</td>\n",
       "      <td>-23.55</td>\n",
       "      <td>-46.64</td>\n",
       "      <td>sao paulo</td>\n",
       "      <td>SP</td>\n",
       "    </tr>\n",
       "    <tr>\n",
       "      <th>1172</th>\n",
       "      <td>1046</td>\n",
       "      <td>-23.55</td>\n",
       "      <td>-46.64</td>\n",
       "      <td>sao paulo</td>\n",
       "      <td>SP</td>\n",
       "    </tr>\n",
       "    <tr>\n",
       "      <th>1136</th>\n",
       "      <td>1046</td>\n",
       "      <td>-23.55</td>\n",
       "      <td>-46.64</td>\n",
       "      <td>sao paulo</td>\n",
       "      <td>SP</td>\n",
       "    </tr>\n",
       "    <tr>\n",
       "      <th>1093</th>\n",
       "      <td>1046</td>\n",
       "      <td>-23.55</td>\n",
       "      <td>-46.64</td>\n",
       "      <td>sao paulo</td>\n",
       "      <td>SP</td>\n",
       "    </tr>\n",
       "    <tr>\n",
       "      <th>1086</th>\n",
       "      <td>1046</td>\n",
       "      <td>-23.55</td>\n",
       "      <td>-46.64</td>\n",
       "      <td>sao paulo</td>\n",
       "      <td>SP</td>\n",
       "    </tr>\n",
       "    <tr>\n",
       "      <th>1068</th>\n",
       "      <td>1046</td>\n",
       "      <td>-23.55</td>\n",
       "      <td>-46.64</td>\n",
       "      <td>sao paulo</td>\n",
       "      <td>SP</td>\n",
       "    </tr>\n",
       "    <tr>\n",
       "      <th>627</th>\n",
       "      <td>1046</td>\n",
       "      <td>-23.55</td>\n",
       "      <td>-46.65</td>\n",
       "      <td>sao paulo</td>\n",
       "      <td>SP</td>\n",
       "    </tr>\n",
       "    <tr>\n",
       "      <th>620</th>\n",
       "      <td>1046</td>\n",
       "      <td>-23.55</td>\n",
       "      <td>-46.64</td>\n",
       "      <td>sao paulo</td>\n",
       "      <td>SP</td>\n",
       "    </tr>\n",
       "    <tr>\n",
       "      <th>681</th>\n",
       "      <td>1046</td>\n",
       "      <td>-23.55</td>\n",
       "      <td>-46.64</td>\n",
       "      <td>sao paulo</td>\n",
       "      <td>SP</td>\n",
       "    </tr>\n",
       "    <tr>\n",
       "      <th>607</th>\n",
       "      <td>1046</td>\n",
       "      <td>-23.55</td>\n",
       "      <td>-46.64</td>\n",
       "      <td>sao paulo</td>\n",
       "      <td>SP</td>\n",
       "    </tr>\n",
       "    <tr>\n",
       "      <th>288</th>\n",
       "      <td>1046</td>\n",
       "      <td>-23.55</td>\n",
       "      <td>-46.64</td>\n",
       "      <td>sao paulo</td>\n",
       "      <td>SP</td>\n",
       "    </tr>\n",
       "    <tr>\n",
       "      <th>260</th>\n",
       "      <td>1046</td>\n",
       "      <td>-23.55</td>\n",
       "      <td>-46.64</td>\n",
       "      <td>sao paulo</td>\n",
       "      <td>SP</td>\n",
       "    </tr>\n",
       "    <tr>\n",
       "      <th>612</th>\n",
       "      <td>1046</td>\n",
       "      <td>-23.55</td>\n",
       "      <td>-46.64</td>\n",
       "      <td>sao paulo</td>\n",
       "      <td>SP</td>\n",
       "    </tr>\n",
       "    <tr>\n",
       "      <th>256</th>\n",
       "      <td>1046</td>\n",
       "      <td>-23.55</td>\n",
       "      <td>-46.64</td>\n",
       "      <td>sao paulo</td>\n",
       "      <td>SP</td>\n",
       "    </tr>\n",
       "    <tr>\n",
       "      <th>255</th>\n",
       "      <td>1046</td>\n",
       "      <td>-23.55</td>\n",
       "      <td>-46.64</td>\n",
       "      <td>sao paulo</td>\n",
       "      <td>SP</td>\n",
       "    </tr>\n",
       "    <tr>\n",
       "      <th>225</th>\n",
       "      <td>1046</td>\n",
       "      <td>-23.55</td>\n",
       "      <td>-46.64</td>\n",
       "      <td>sao paulo</td>\n",
       "      <td>SP</td>\n",
       "    </tr>\n",
       "    <tr>\n",
       "      <th>220</th>\n",
       "      <td>1046</td>\n",
       "      <td>-23.55</td>\n",
       "      <td>-46.64</td>\n",
       "      <td>sao paulo</td>\n",
       "      <td>SP</td>\n",
       "    </tr>\n",
       "    <tr>\n",
       "      <th>200</th>\n",
       "      <td>1046</td>\n",
       "      <td>-23.55</td>\n",
       "      <td>-46.65</td>\n",
       "      <td>sao paulo</td>\n",
       "      <td>SP</td>\n",
       "    </tr>\n",
       "    <tr>\n",
       "      <th>199</th>\n",
       "      <td>1046</td>\n",
       "      <td>-23.55</td>\n",
       "      <td>-46.64</td>\n",
       "      <td>sao paulo</td>\n",
       "      <td>SP</td>\n",
       "    </tr>\n",
       "    <tr>\n",
       "      <th>186</th>\n",
       "      <td>1046</td>\n",
       "      <td>-23.55</td>\n",
       "      <td>-46.64</td>\n",
       "      <td>sao paulo</td>\n",
       "      <td>SP</td>\n",
       "    </tr>\n",
       "    <tr>\n",
       "      <th>177</th>\n",
       "      <td>1046</td>\n",
       "      <td>-23.55</td>\n",
       "      <td>-46.64</td>\n",
       "      <td>sao paulo</td>\n",
       "      <td>SP</td>\n",
       "    </tr>\n",
       "    <tr>\n",
       "      <th>173</th>\n",
       "      <td>1046</td>\n",
       "      <td>-23.55</td>\n",
       "      <td>-46.64</td>\n",
       "      <td>sao paulo</td>\n",
       "      <td>SP</td>\n",
       "    </tr>\n",
       "    <tr>\n",
       "      <th>147</th>\n",
       "      <td>1046</td>\n",
       "      <td>-23.55</td>\n",
       "      <td>-46.64</td>\n",
       "      <td>sao paulo</td>\n",
       "      <td>SP</td>\n",
       "    </tr>\n",
       "    <tr>\n",
       "      <th>143</th>\n",
       "      <td>1046</td>\n",
       "      <td>-23.55</td>\n",
       "      <td>-46.64</td>\n",
       "      <td>sao paulo</td>\n",
       "      <td>SP</td>\n",
       "    </tr>\n",
       "    <tr>\n",
       "      <th>139</th>\n",
       "      <td>1046</td>\n",
       "      <td>-23.55</td>\n",
       "      <td>-46.64</td>\n",
       "      <td>sao paulo</td>\n",
       "      <td>SP</td>\n",
       "    </tr>\n",
       "    <tr>\n",
       "      <th>115</th>\n",
       "      <td>1046</td>\n",
       "      <td>-23.55</td>\n",
       "      <td>-46.65</td>\n",
       "      <td>sao paulo</td>\n",
       "      <td>SP</td>\n",
       "    </tr>\n",
       "    <tr>\n",
       "      <th>95</th>\n",
       "      <td>1046</td>\n",
       "      <td>-23.55</td>\n",
       "      <td>-46.64</td>\n",
       "      <td>sao paulo</td>\n",
       "      <td>SP</td>\n",
       "    </tr>\n",
       "    <tr>\n",
       "      <th>94</th>\n",
       "      <td>1046</td>\n",
       "      <td>-23.55</td>\n",
       "      <td>-46.64</td>\n",
       "      <td>sao paulo</td>\n",
       "      <td>SP</td>\n",
       "    </tr>\n",
       "    <tr>\n",
       "      <th>82</th>\n",
       "      <td>1046</td>\n",
       "      <td>-23.55</td>\n",
       "      <td>-46.64</td>\n",
       "      <td>sao paulo</td>\n",
       "      <td>SP</td>\n",
       "    </tr>\n",
       "    <tr>\n",
       "      <th>72</th>\n",
       "      <td>1046</td>\n",
       "      <td>-23.55</td>\n",
       "      <td>-46.64</td>\n",
       "      <td>sao paulo</td>\n",
       "      <td>SP</td>\n",
       "    </tr>\n",
       "    <tr>\n",
       "      <th>67</th>\n",
       "      <td>1046</td>\n",
       "      <td>-23.55</td>\n",
       "      <td>-46.64</td>\n",
       "      <td>sao paulo</td>\n",
       "      <td>SP</td>\n",
       "    </tr>\n",
       "    <tr>\n",
       "      <th>65</th>\n",
       "      <td>1046</td>\n",
       "      <td>-23.55</td>\n",
       "      <td>-46.64</td>\n",
       "      <td>sao paulo</td>\n",
       "      <td>SP</td>\n",
       "    </tr>\n",
       "    <tr>\n",
       "      <th>60</th>\n",
       "      <td>1046</td>\n",
       "      <td>-23.55</td>\n",
       "      <td>-46.64</td>\n",
       "      <td>sao paulo</td>\n",
       "      <td>SP</td>\n",
       "    </tr>\n",
       "    <tr>\n",
       "      <th>44</th>\n",
       "      <td>1046</td>\n",
       "      <td>-23.55</td>\n",
       "      <td>-46.64</td>\n",
       "      <td>sao paulo</td>\n",
       "      <td>SP</td>\n",
       "    </tr>\n",
       "    <tr>\n",
       "      <th>33</th>\n",
       "      <td>1046</td>\n",
       "      <td>-23.55</td>\n",
       "      <td>-46.64</td>\n",
       "      <td>sao paulo</td>\n",
       "      <td>SP</td>\n",
       "    </tr>\n",
       "    <tr>\n",
       "      <th>20</th>\n",
       "      <td>1046</td>\n",
       "      <td>-23.55</td>\n",
       "      <td>-46.64</td>\n",
       "      <td>sao paulo</td>\n",
       "      <td>SP</td>\n",
       "    </tr>\n",
       "    <tr>\n",
       "      <th>19</th>\n",
       "      <td>1046</td>\n",
       "      <td>-23.55</td>\n",
       "      <td>-46.64</td>\n",
       "      <td>sao paulo</td>\n",
       "      <td>SP</td>\n",
       "    </tr>\n",
       "    <tr>\n",
       "      <th>15</th>\n",
       "      <td>1046</td>\n",
       "      <td>-23.55</td>\n",
       "      <td>-46.64</td>\n",
       "      <td>sao paulo</td>\n",
       "      <td>SP</td>\n",
       "    </tr>\n",
       "    <tr>\n",
       "      <th>2</th>\n",
       "      <td>1046</td>\n",
       "      <td>-23.55</td>\n",
       "      <td>-46.64</td>\n",
       "      <td>sao paulo</td>\n",
       "      <td>SP</td>\n",
       "    </tr>\n",
       "    <tr>\n",
       "      <th>291</th>\n",
       "      <td>1046</td>\n",
       "      <td>-23.55</td>\n",
       "      <td>-46.64</td>\n",
       "      <td>sao paulo</td>\n",
       "      <td>SP</td>\n",
       "    </tr>\n",
       "    <tr>\n",
       "      <th>293</th>\n",
       "      <td>1046</td>\n",
       "      <td>-23.55</td>\n",
       "      <td>-46.64</td>\n",
       "      <td>sao paulo</td>\n",
       "      <td>SP</td>\n",
       "    </tr>\n",
       "    <tr>\n",
       "      <th>259</th>\n",
       "      <td>1046</td>\n",
       "      <td>-23.55</td>\n",
       "      <td>-46.64</td>\n",
       "      <td>sao paulo</td>\n",
       "      <td>SP</td>\n",
       "    </tr>\n",
       "    <tr>\n",
       "      <th>327</th>\n",
       "      <td>1046</td>\n",
       "      <td>-23.55</td>\n",
       "      <td>-46.64</td>\n",
       "      <td>sao paulo</td>\n",
       "      <td>SP</td>\n",
       "    </tr>\n",
       "    <tr>\n",
       "      <th>605</th>\n",
       "      <td>1046</td>\n",
       "      <td>-23.55</td>\n",
       "      <td>-46.64</td>\n",
       "      <td>sao paulo</td>\n",
       "      <td>SP</td>\n",
       "    </tr>\n",
       "    <tr>\n",
       "      <th>573</th>\n",
       "      <td>1046</td>\n",
       "      <td>-23.55</td>\n",
       "      <td>-46.64</td>\n",
       "      <td>sao paulo</td>\n",
       "      <td>SP</td>\n",
       "    </tr>\n",
       "    <tr>\n",
       "      <th>567</th>\n",
       "      <td>1046</td>\n",
       "      <td>-23.55</td>\n",
       "      <td>-46.64</td>\n",
       "      <td>sao paulo</td>\n",
       "      <td>SP</td>\n",
       "    </tr>\n",
       "    <tr>\n",
       "      <th>557</th>\n",
       "      <td>1046</td>\n",
       "      <td>-23.55</td>\n",
       "      <td>-46.64</td>\n",
       "      <td>sao paulo</td>\n",
       "      <td>SP</td>\n",
       "    </tr>\n",
       "    <tr>\n",
       "      <th>510</th>\n",
       "      <td>1046</td>\n",
       "      <td>-23.55</td>\n",
       "      <td>-46.64</td>\n",
       "      <td>sao paulo</td>\n",
       "      <td>SP</td>\n",
       "    </tr>\n",
       "    <tr>\n",
       "      <th>493</th>\n",
       "      <td>1046</td>\n",
       "      <td>-23.55</td>\n",
       "      <td>-46.65</td>\n",
       "      <td>sao paulo</td>\n",
       "      <td>SP</td>\n",
       "    </tr>\n",
       "    <tr>\n",
       "      <th>490</th>\n",
       "      <td>1046</td>\n",
       "      <td>-23.55</td>\n",
       "      <td>-46.64</td>\n",
       "      <td>sao paulo</td>\n",
       "      <td>SP</td>\n",
       "    </tr>\n",
       "    <tr>\n",
       "      <th>461</th>\n",
       "      <td>1046</td>\n",
       "      <td>-23.55</td>\n",
       "      <td>-46.65</td>\n",
       "      <td>sao paulo</td>\n",
       "      <td>SP</td>\n",
       "    </tr>\n",
       "    <tr>\n",
       "      <th>450</th>\n",
       "      <td>1046</td>\n",
       "      <td>-23.55</td>\n",
       "      <td>-46.64</td>\n",
       "      <td>sao paulo</td>\n",
       "      <td>SP</td>\n",
       "    </tr>\n",
       "    <tr>\n",
       "      <th>432</th>\n",
       "      <td>1046</td>\n",
       "      <td>-23.55</td>\n",
       "      <td>-46.64</td>\n",
       "      <td>sao paulo</td>\n",
       "      <td>SP</td>\n",
       "    </tr>\n",
       "    <tr>\n",
       "      <th>410</th>\n",
       "      <td>1046</td>\n",
       "      <td>-23.55</td>\n",
       "      <td>-46.64</td>\n",
       "      <td>sao paulo</td>\n",
       "      <td>SP</td>\n",
       "    </tr>\n",
       "    <tr>\n",
       "      <th>315</th>\n",
       "      <td>1046</td>\n",
       "      <td>-23.55</td>\n",
       "      <td>-46.65</td>\n",
       "      <td>sao paulo</td>\n",
       "      <td>SP</td>\n",
       "    </tr>\n",
       "    <tr>\n",
       "      <th>396</th>\n",
       "      <td>1046</td>\n",
       "      <td>-23.55</td>\n",
       "      <td>-46.64</td>\n",
       "      <td>sao paulo</td>\n",
       "      <td>SP</td>\n",
       "    </tr>\n",
       "    <tr>\n",
       "      <th>395</th>\n",
       "      <td>1046</td>\n",
       "      <td>-23.55</td>\n",
       "      <td>-46.64</td>\n",
       "      <td>sao paulo</td>\n",
       "      <td>SP</td>\n",
       "    </tr>\n",
       "    <tr>\n",
       "      <th>387</th>\n",
       "      <td>1046</td>\n",
       "      <td>-23.55</td>\n",
       "      <td>-46.64</td>\n",
       "      <td>sao paulo</td>\n",
       "      <td>SP</td>\n",
       "    </tr>\n",
       "    <tr>\n",
       "      <th>1457</th>\n",
       "      <td>1046</td>\n",
       "      <td>-23.55</td>\n",
       "      <td>-46.64</td>\n",
       "      <td>sao paulo</td>\n",
       "      <td>SP</td>\n",
       "    </tr>\n",
       "    <tr>\n",
       "      <th>366</th>\n",
       "      <td>1046</td>\n",
       "      <td>-23.55</td>\n",
       "      <td>-46.64</td>\n",
       "      <td>sao paulo</td>\n",
       "      <td>SP</td>\n",
       "    </tr>\n",
       "    <tr>\n",
       "      <th>361</th>\n",
       "      <td>1046</td>\n",
       "      <td>-23.55</td>\n",
       "      <td>-46.64</td>\n",
       "      <td>sao paulo</td>\n",
       "      <td>SP</td>\n",
       "    </tr>\n",
       "    <tr>\n",
       "      <th>330</th>\n",
       "      <td>1046</td>\n",
       "      <td>-23.55</td>\n",
       "      <td>-46.65</td>\n",
       "      <td>sao paulo</td>\n",
       "      <td>SP</td>\n",
       "    </tr>\n",
       "    <tr>\n",
       "      <th>331</th>\n",
       "      <td>1046</td>\n",
       "      <td>-23.55</td>\n",
       "      <td>-46.65</td>\n",
       "      <td>sao paulo</td>\n",
       "      <td>SP</td>\n",
       "    </tr>\n",
       "    <tr>\n",
       "      <th>358</th>\n",
       "      <td>1046</td>\n",
       "      <td>-23.55</td>\n",
       "      <td>-46.64</td>\n",
       "      <td>sao paulo</td>\n",
       "      <td>SP</td>\n",
       "    </tr>\n",
       "    <tr>\n",
       "      <th>343</th>\n",
       "      <td>1046</td>\n",
       "      <td>-23.55</td>\n",
       "      <td>-46.64</td>\n",
       "      <td>sao paulo</td>\n",
       "      <td>SP</td>\n",
       "    </tr>\n",
       "    <tr>\n",
       "      <th>349</th>\n",
       "      <td>1046</td>\n",
       "      <td>-23.55</td>\n",
       "      <td>-46.64</td>\n",
       "      <td>sao paulo</td>\n",
       "      <td>SP</td>\n",
       "    </tr>\n",
       "    <tr>\n",
       "      <th>357</th>\n",
       "      <td>1046</td>\n",
       "      <td>-23.55</td>\n",
       "      <td>-46.64</td>\n",
       "      <td>sao paulo</td>\n",
       "      <td>SP</td>\n",
       "    </tr>\n",
       "    <tr>\n",
       "      <th>371</th>\n",
       "      <td>1046</td>\n",
       "      <td>-23.55</td>\n",
       "      <td>-46.64</td>\n",
       "      <td>sao paulo</td>\n",
       "      <td>SP</td>\n",
       "    </tr>\n",
       "    <tr>\n",
       "      <th>352</th>\n",
       "      <td>1046</td>\n",
       "      <td>-23.55</td>\n",
       "      <td>-46.64</td>\n",
       "      <td>sao paulo</td>\n",
       "      <td>SP</td>\n",
       "    </tr>\n",
       "    <tr>\n",
       "      <th>1244</th>\n",
       "      <td>1046</td>\n",
       "      <td>-23.55</td>\n",
       "      <td>-46.64</td>\n",
       "      <td>são paulo</td>\n",
       "      <td>SP</td>\n",
       "    </tr>\n",
       "    <tr>\n",
       "      <th>595</th>\n",
       "      <td>1046</td>\n",
       "      <td>-23.55</td>\n",
       "      <td>-46.64</td>\n",
       "      <td>são paulo</td>\n",
       "      <td>SP</td>\n",
       "    </tr>\n",
       "    <tr>\n",
       "      <th>938</th>\n",
       "      <td>1046</td>\n",
       "      <td>-23.55</td>\n",
       "      <td>-46.64</td>\n",
       "      <td>são paulo</td>\n",
       "      <td>SP</td>\n",
       "    </tr>\n",
       "    <tr>\n",
       "      <th>57</th>\n",
       "      <td>1046</td>\n",
       "      <td>-23.55</td>\n",
       "      <td>-46.64</td>\n",
       "      <td>são paulo</td>\n",
       "      <td>SP</td>\n",
       "    </tr>\n",
       "    <tr>\n",
       "      <th>1081</th>\n",
       "      <td>1046</td>\n",
       "      <td>-23.55</td>\n",
       "      <td>-46.64</td>\n",
       "      <td>são paulo</td>\n",
       "      <td>SP</td>\n",
       "    </tr>\n",
       "    <tr>\n",
       "      <th>252</th>\n",
       "      <td>1046</td>\n",
       "      <td>-23.55</td>\n",
       "      <td>-46.64</td>\n",
       "      <td>são paulo</td>\n",
       "      <td>SP</td>\n",
       "    </tr>\n",
       "    <tr>\n",
       "      <th>750</th>\n",
       "      <td>1046</td>\n",
       "      <td>-23.55</td>\n",
       "      <td>-46.64</td>\n",
       "      <td>são paulo</td>\n",
       "      <td>SP</td>\n",
       "    </tr>\n",
       "    <tr>\n",
       "      <th>766</th>\n",
       "      <td>1046</td>\n",
       "      <td>-23.55</td>\n",
       "      <td>-46.64</td>\n",
       "      <td>são paulo</td>\n",
       "      <td>SP</td>\n",
       "    </tr>\n",
       "    <tr>\n",
       "      <th>1144</th>\n",
       "      <td>1046</td>\n",
       "      <td>-23.55</td>\n",
       "      <td>-46.64</td>\n",
       "      <td>são paulo</td>\n",
       "      <td>SP</td>\n",
       "    </tr>\n",
       "    <tr>\n",
       "      <th>1342</th>\n",
       "      <td>1046</td>\n",
       "      <td>-23.55</td>\n",
       "      <td>-46.64</td>\n",
       "      <td>são paulo</td>\n",
       "      <td>SP</td>\n",
       "    </tr>\n",
       "    <tr>\n",
       "      <th>1325</th>\n",
       "      <td>1046</td>\n",
       "      <td>-23.55</td>\n",
       "      <td>-46.64</td>\n",
       "      <td>são paulo</td>\n",
       "      <td>SP</td>\n",
       "    </tr>\n",
       "    <tr>\n",
       "      <th>794</th>\n",
       "      <td>1046</td>\n",
       "      <td>-23.55</td>\n",
       "      <td>-46.64</td>\n",
       "      <td>são paulo</td>\n",
       "      <td>SP</td>\n",
       "    </tr>\n",
       "    <tr>\n",
       "      <th>1183</th>\n",
       "      <td>1046</td>\n",
       "      <td>-23.55</td>\n",
       "      <td>-46.64</td>\n",
       "      <td>são paulo</td>\n",
       "      <td>SP</td>\n",
       "    </tr>\n",
       "    <tr>\n",
       "      <th>1200</th>\n",
       "      <td>1046</td>\n",
       "      <td>-23.55</td>\n",
       "      <td>-46.64</td>\n",
       "      <td>são paulo</td>\n",
       "      <td>SP</td>\n",
       "    </tr>\n",
       "    <tr>\n",
       "      <th>475</th>\n",
       "      <td>1046</td>\n",
       "      <td>-23.55</td>\n",
       "      <td>-46.64</td>\n",
       "      <td>são paulo</td>\n",
       "      <td>SP</td>\n",
       "    </tr>\n",
       "    <tr>\n",
       "      <th>144</th>\n",
       "      <td>1046</td>\n",
       "      <td>-23.55</td>\n",
       "      <td>-46.65</td>\n",
       "      <td>são paulo</td>\n",
       "      <td>SP</td>\n",
       "    </tr>\n",
       "  </tbody>\n",
       "</table>\n",
       "</div>"
      ],
      "text/plain": [
       "      geolocation_zip_code_prefix  geolocation_lat  geolocation_lng  \\\n",
       "1                            1046           -23.55           -46.64   \n",
       "996                          1046           -23.55           -46.64   \n",
       "981                          1046           -23.55           -46.64   \n",
       "971                          1046           -23.55           -46.64   \n",
       "970                          1046           -23.55           -46.64   \n",
       "932                          1046           -23.55           -46.64   \n",
       "923                          1046           -23.55           -46.64   \n",
       "914                          1046           -23.55           -46.64   \n",
       "899                          1046           -23.55           -46.64   \n",
       "893                          1046           -23.55           -46.64   \n",
       "857                          1046           -23.55           -46.64   \n",
       "850                          1046           -23.55           -46.64   \n",
       "839                          1046           -23.55           -46.65   \n",
       "828                          1046           -23.55           -46.64   \n",
       "1011                         1046           -23.55           -46.65   \n",
       "822                          1046           -23.55           -46.64   \n",
       "806                          1046           -23.55           -46.64   \n",
       "793                          1046           -23.55           -46.64   \n",
       "778                          1046           -23.55           -46.64   \n",
       "762                          1046           -23.55           -46.64   \n",
       "756                          1046           -23.55           -46.64   \n",
       "742                          1046           -23.55           -46.65   \n",
       "740                          1046           -23.55           -46.64   \n",
       "689                          1046           -23.55           -46.64   \n",
       "687                          1046           -23.55           -46.65   \n",
       "1450                         1046           -23.55           -46.64   \n",
       "675                          1046           -23.55           -46.64   \n",
       "656                          1046           -23.55           -46.64   \n",
       "650                          1046           -23.55           -46.65   \n",
       "813                          1046           -23.55           -46.64   \n",
       "1037                         1046           -23.55           -46.64   \n",
       "1039                         1046           -23.55           -46.64   \n",
       "1053                         1046           -23.55           -46.64   \n",
       "1439                         1046           -23.55           -46.64   \n",
       "1437                         1046           -23.55           -46.64   \n",
       "1432                         1046           -23.55           -46.64   \n",
       "1428                         1046           -23.55           -46.64   \n",
       "1414                         1046           -23.55           -46.64   \n",
       "1412                         1046           -23.55           -46.64   \n",
       "1404                         1046           -23.55           -46.64   \n",
       "1387                         1046           -23.55           -46.64   \n",
       "1375                         1046           -23.55           -46.64   \n",
       "1373                         1046           -23.55           -46.64   \n",
       "1372                         1046           -23.55           -46.64   \n",
       "1367                         1046           -23.55           -46.64   \n",
       "1361                         1046           -23.55           -46.64   \n",
       "1358                         1046           -23.55           -46.65   \n",
       "1356                         1046           -23.55           -46.64   \n",
       "1341                         1046           -23.55           -46.64   \n",
       "1311                         1046           -23.55           -46.64   \n",
       "1310                         1046           -23.55           -46.64   \n",
       "1305                         1046           -23.55           -46.64   \n",
       "1292                         1046           -23.55           -46.64   \n",
       "1275                         1046           -23.55           -46.64   \n",
       "1242                         1046           -23.55           -46.64   \n",
       "1206                         1046           -23.55           -46.64   \n",
       "1205                         1046           -23.55           -46.64   \n",
       "1172                         1046           -23.55           -46.64   \n",
       "1136                         1046           -23.55           -46.64   \n",
       "1093                         1046           -23.55           -46.64   \n",
       "1086                         1046           -23.55           -46.64   \n",
       "1068                         1046           -23.55           -46.64   \n",
       "627                          1046           -23.55           -46.65   \n",
       "620                          1046           -23.55           -46.64   \n",
       "681                          1046           -23.55           -46.64   \n",
       "607                          1046           -23.55           -46.64   \n",
       "288                          1046           -23.55           -46.64   \n",
       "260                          1046           -23.55           -46.64   \n",
       "612                          1046           -23.55           -46.64   \n",
       "256                          1046           -23.55           -46.64   \n",
       "255                          1046           -23.55           -46.64   \n",
       "225                          1046           -23.55           -46.64   \n",
       "220                          1046           -23.55           -46.64   \n",
       "200                          1046           -23.55           -46.65   \n",
       "199                          1046           -23.55           -46.64   \n",
       "186                          1046           -23.55           -46.64   \n",
       "177                          1046           -23.55           -46.64   \n",
       "173                          1046           -23.55           -46.64   \n",
       "147                          1046           -23.55           -46.64   \n",
       "143                          1046           -23.55           -46.64   \n",
       "139                          1046           -23.55           -46.64   \n",
       "115                          1046           -23.55           -46.65   \n",
       "95                           1046           -23.55           -46.64   \n",
       "94                           1046           -23.55           -46.64   \n",
       "82                           1046           -23.55           -46.64   \n",
       "72                           1046           -23.55           -46.64   \n",
       "67                           1046           -23.55           -46.64   \n",
       "65                           1046           -23.55           -46.64   \n",
       "60                           1046           -23.55           -46.64   \n",
       "44                           1046           -23.55           -46.64   \n",
       "33                           1046           -23.55           -46.64   \n",
       "20                           1046           -23.55           -46.64   \n",
       "19                           1046           -23.55           -46.64   \n",
       "15                           1046           -23.55           -46.64   \n",
       "2                            1046           -23.55           -46.64   \n",
       "291                          1046           -23.55           -46.64   \n",
       "293                          1046           -23.55           -46.64   \n",
       "259                          1046           -23.55           -46.64   \n",
       "327                          1046           -23.55           -46.64   \n",
       "605                          1046           -23.55           -46.64   \n",
       "573                          1046           -23.55           -46.64   \n",
       "567                          1046           -23.55           -46.64   \n",
       "557                          1046           -23.55           -46.64   \n",
       "510                          1046           -23.55           -46.64   \n",
       "493                          1046           -23.55           -46.65   \n",
       "490                          1046           -23.55           -46.64   \n",
       "461                          1046           -23.55           -46.65   \n",
       "450                          1046           -23.55           -46.64   \n",
       "432                          1046           -23.55           -46.64   \n",
       "410                          1046           -23.55           -46.64   \n",
       "315                          1046           -23.55           -46.65   \n",
       "396                          1046           -23.55           -46.64   \n",
       "395                          1046           -23.55           -46.64   \n",
       "387                          1046           -23.55           -46.64   \n",
       "1457                         1046           -23.55           -46.64   \n",
       "366                          1046           -23.55           -46.64   \n",
       "361                          1046           -23.55           -46.64   \n",
       "330                          1046           -23.55           -46.65   \n",
       "331                          1046           -23.55           -46.65   \n",
       "358                          1046           -23.55           -46.64   \n",
       "343                          1046           -23.55           -46.64   \n",
       "349                          1046           -23.55           -46.64   \n",
       "357                          1046           -23.55           -46.64   \n",
       "371                          1046           -23.55           -46.64   \n",
       "352                          1046           -23.55           -46.64   \n",
       "1244                         1046           -23.55           -46.64   \n",
       "595                          1046           -23.55           -46.64   \n",
       "938                          1046           -23.55           -46.64   \n",
       "57                           1046           -23.55           -46.64   \n",
       "1081                         1046           -23.55           -46.64   \n",
       "252                          1046           -23.55           -46.64   \n",
       "750                          1046           -23.55           -46.64   \n",
       "766                          1046           -23.55           -46.64   \n",
       "1144                         1046           -23.55           -46.64   \n",
       "1342                         1046           -23.55           -46.64   \n",
       "1325                         1046           -23.55           -46.64   \n",
       "794                          1046           -23.55           -46.64   \n",
       "1183                         1046           -23.55           -46.64   \n",
       "1200                         1046           -23.55           -46.64   \n",
       "475                          1046           -23.55           -46.64   \n",
       "144                          1046           -23.55           -46.65   \n",
       "\n",
       "     geolocation_city geolocation_state  \n",
       "1           sao paulo                SP  \n",
       "996         sao paulo                SP  \n",
       "981         sao paulo                SP  \n",
       "971         sao paulo                SP  \n",
       "970         sao paulo                SP  \n",
       "932         sao paulo                SP  \n",
       "923         sao paulo                SP  \n",
       "914         sao paulo                SP  \n",
       "899         sao paulo                SP  \n",
       "893         sao paulo                SP  \n",
       "857         sao paulo                SP  \n",
       "850         sao paulo                SP  \n",
       "839         sao paulo                SP  \n",
       "828         sao paulo                SP  \n",
       "1011        sao paulo                SP  \n",
       "822         sao paulo                SP  \n",
       "806         sao paulo                SP  \n",
       "793         sao paulo                SP  \n",
       "778         sao paulo                SP  \n",
       "762         sao paulo                SP  \n",
       "756         sao paulo                SP  \n",
       "742         sao paulo                SP  \n",
       "740         sao paulo                SP  \n",
       "689         sao paulo                SP  \n",
       "687         sao paulo                SP  \n",
       "1450        sao paulo                SP  \n",
       "675         sao paulo                SP  \n",
       "656         sao paulo                SP  \n",
       "650         sao paulo                SP  \n",
       "813         sao paulo                SP  \n",
       "1037        sao paulo                SP  \n",
       "1039        sao paulo                SP  \n",
       "1053        sao paulo                SP  \n",
       "1439        sao paulo                SP  \n",
       "1437        sao paulo                SP  \n",
       "1432        sao paulo                SP  \n",
       "1428        sao paulo                SP  \n",
       "1414        sao paulo                SP  \n",
       "1412        sao paulo                SP  \n",
       "1404        sao paulo                SP  \n",
       "1387        sao paulo                SP  \n",
       "1375        sao paulo                SP  \n",
       "1373        sao paulo                SP  \n",
       "1372        sao paulo                SP  \n",
       "1367        sao paulo                SP  \n",
       "1361        sao paulo                SP  \n",
       "1358        sao paulo                SP  \n",
       "1356        sao paulo                SP  \n",
       "1341        sao paulo                SP  \n",
       "1311        sao paulo                SP  \n",
       "1310        sao paulo                SP  \n",
       "1305        sao paulo                SP  \n",
       "1292        sao paulo                SP  \n",
       "1275        sao paulo                SP  \n",
       "1242        sao paulo                SP  \n",
       "1206        sao paulo                SP  \n",
       "1205        sao paulo                SP  \n",
       "1172        sao paulo                SP  \n",
       "1136        sao paulo                SP  \n",
       "1093        sao paulo                SP  \n",
       "1086        sao paulo                SP  \n",
       "1068        sao paulo                SP  \n",
       "627         sao paulo                SP  \n",
       "620         sao paulo                SP  \n",
       "681         sao paulo                SP  \n",
       "607         sao paulo                SP  \n",
       "288         sao paulo                SP  \n",
       "260         sao paulo                SP  \n",
       "612         sao paulo                SP  \n",
       "256         sao paulo                SP  \n",
       "255         sao paulo                SP  \n",
       "225         sao paulo                SP  \n",
       "220         sao paulo                SP  \n",
       "200         sao paulo                SP  \n",
       "199         sao paulo                SP  \n",
       "186         sao paulo                SP  \n",
       "177         sao paulo                SP  \n",
       "173         sao paulo                SP  \n",
       "147         sao paulo                SP  \n",
       "143         sao paulo                SP  \n",
       "139         sao paulo                SP  \n",
       "115         sao paulo                SP  \n",
       "95          sao paulo                SP  \n",
       "94          sao paulo                SP  \n",
       "82          sao paulo                SP  \n",
       "72          sao paulo                SP  \n",
       "67          sao paulo                SP  \n",
       "65          sao paulo                SP  \n",
       "60          sao paulo                SP  \n",
       "44          sao paulo                SP  \n",
       "33          sao paulo                SP  \n",
       "20          sao paulo                SP  \n",
       "19          sao paulo                SP  \n",
       "15          sao paulo                SP  \n",
       "2           sao paulo                SP  \n",
       "291         sao paulo                SP  \n",
       "293         sao paulo                SP  \n",
       "259         sao paulo                SP  \n",
       "327         sao paulo                SP  \n",
       "605         sao paulo                SP  \n",
       "573         sao paulo                SP  \n",
       "567         sao paulo                SP  \n",
       "557         sao paulo                SP  \n",
       "510         sao paulo                SP  \n",
       "493         sao paulo                SP  \n",
       "490         sao paulo                SP  \n",
       "461         sao paulo                SP  \n",
       "450         sao paulo                SP  \n",
       "432         sao paulo                SP  \n",
       "410         sao paulo                SP  \n",
       "315         sao paulo                SP  \n",
       "396         sao paulo                SP  \n",
       "395         sao paulo                SP  \n",
       "387         sao paulo                SP  \n",
       "1457        sao paulo                SP  \n",
       "366         sao paulo                SP  \n",
       "361         sao paulo                SP  \n",
       "330         sao paulo                SP  \n",
       "331         sao paulo                SP  \n",
       "358         sao paulo                SP  \n",
       "343         sao paulo                SP  \n",
       "349         sao paulo                SP  \n",
       "357         sao paulo                SP  \n",
       "371         sao paulo                SP  \n",
       "352         sao paulo                SP  \n",
       "1244        são paulo                SP  \n",
       "595         são paulo                SP  \n",
       "938         são paulo                SP  \n",
       "57          são paulo                SP  \n",
       "1081        são paulo                SP  \n",
       "252         são paulo                SP  \n",
       "750         são paulo                SP  \n",
       "766         são paulo                SP  \n",
       "1144        são paulo                SP  \n",
       "1342        são paulo                SP  \n",
       "1325        são paulo                SP  \n",
       "794         são paulo                SP  \n",
       "1183        são paulo                SP  \n",
       "1200        são paulo                SP  \n",
       "475         são paulo                SP  \n",
       "144         são paulo                SP  "
      ]
     },
     "execution_count": 50,
     "metadata": {},
     "output_type": "execute_result"
    }
   ],
   "source": [
    "# Listagem da geolocation que contém o 'geolocation_zip_code_prefix' 1046\n",
    "geolocation.loc[geolocation['geolocation_zip_code_prefix'] == 1046].sort_values(by='geolocation_city')"
   ]
  },
  {
   "cell_type": "code",
   "execution_count": 51,
   "metadata": {},
   "outputs": [
    {
     "data": {
      "text/plain": [
       "141"
      ]
     },
     "execution_count": 51,
     "metadata": {},
     "output_type": "execute_result"
    }
   ],
   "source": [
    "# Quantos registros são?\n",
    "len(geolocation.loc[geolocation['geolocation_zip_code_prefix'] == 1046].sort_values(by='geolocation_city'))"
   ]
  },
  {
   "cell_type": "markdown",
   "metadata": {},
   "source": [
    "###### Não é à toa que não achava a chave primária! Há muitos duplicados!!!!!!\n",
    "> Precisamos eliminá-los."
   ]
  },
  {
   "cell_type": "code",
   "execution_count": 52,
   "metadata": {},
   "outputs": [],
   "source": [
    "geolocation_sem_repetir = geolocation.drop_duplicates (subset=['geolocation_zip_code_prefix', 'geolocation_lat', 'geolocation_lng', 'geolocation_city', 'geolocation_state'])"
   ]
  },
  {
   "cell_type": "markdown",
   "metadata": {},
   "source": [
    "#### 4.5.2 - Busca pela chave primária da tabela <font color=red>\"geolocation_sem_repetir\"</font>"
   ]
  },
  {
   "cell_type": "code",
   "execution_count": 53,
   "metadata": {},
   "outputs": [
    {
     "data": {
      "text/html": [
       "<div>\n",
       "<style scoped>\n",
       "    .dataframe tbody tr th:only-of-type {\n",
       "        vertical-align: middle;\n",
       "    }\n",
       "\n",
       "    .dataframe tbody tr th {\n",
       "        vertical-align: top;\n",
       "    }\n",
       "\n",
       "    .dataframe thead th {\n",
       "        text-align: right;\n",
       "    }\n",
       "</style>\n",
       "<table border=\"1\" class=\"dataframe\">\n",
       "  <thead>\n",
       "    <tr style=\"text-align: right;\">\n",
       "      <th></th>\n",
       "      <th>geolocation_zip_code_prefix</th>\n",
       "      <th>geolocation_lat</th>\n",
       "      <th>geolocation_lng</th>\n",
       "      <th>geolocation_city</th>\n",
       "      <th>geolocation_state</th>\n",
       "    </tr>\n",
       "  </thead>\n",
       "  <tbody>\n",
       "    <tr>\n",
       "      <th>0</th>\n",
       "      <td>1037</td>\n",
       "      <td>-23.55</td>\n",
       "      <td>-46.64</td>\n",
       "      <td>sao paulo</td>\n",
       "      <td>SP</td>\n",
       "    </tr>\n",
       "    <tr>\n",
       "      <th>1</th>\n",
       "      <td>1046</td>\n",
       "      <td>-23.55</td>\n",
       "      <td>-46.64</td>\n",
       "      <td>sao paulo</td>\n",
       "      <td>SP</td>\n",
       "    </tr>\n",
       "    <tr>\n",
       "      <th>2</th>\n",
       "      <td>1046</td>\n",
       "      <td>-23.55</td>\n",
       "      <td>-46.64</td>\n",
       "      <td>sao paulo</td>\n",
       "      <td>SP</td>\n",
       "    </tr>\n",
       "    <tr>\n",
       "      <th>3</th>\n",
       "      <td>1041</td>\n",
       "      <td>-23.54</td>\n",
       "      <td>-46.64</td>\n",
       "      <td>sao paulo</td>\n",
       "      <td>SP</td>\n",
       "    </tr>\n",
       "    <tr>\n",
       "      <th>4</th>\n",
       "      <td>1035</td>\n",
       "      <td>-23.54</td>\n",
       "      <td>-46.64</td>\n",
       "      <td>sao paulo</td>\n",
       "      <td>SP</td>\n",
       "    </tr>\n",
       "  </tbody>\n",
       "</table>\n",
       "</div>"
      ],
      "text/plain": [
       "   geolocation_zip_code_prefix  geolocation_lat  geolocation_lng  \\\n",
       "0                         1037           -23.55           -46.64   \n",
       "1                         1046           -23.55           -46.64   \n",
       "2                         1046           -23.55           -46.64   \n",
       "3                         1041           -23.54           -46.64   \n",
       "4                         1035           -23.54           -46.64   \n",
       "\n",
       "  geolocation_city geolocation_state  \n",
       "0        sao paulo                SP  \n",
       "1        sao paulo                SP  \n",
       "2        sao paulo                SP  \n",
       "3        sao paulo                SP  \n",
       "4        sao paulo                SP  "
      ]
     },
     "execution_count": 53,
     "metadata": {},
     "output_type": "execute_result"
    }
   ],
   "source": [
    "geolocation_sem_repetir.head()"
   ]
  },
  {
   "cell_type": "code",
   "execution_count": 54,
   "metadata": {},
   "outputs": [
    {
     "name": "stdout",
     "output_type": "stream",
     "text": [
      "<class 'pandas.core.frame.DataFrame'>\n",
      "Int64Index: 738332 entries, 0 to 1000161\n",
      "Data columns (total 5 columns):\n",
      "geolocation_zip_code_prefix    738332 non-null int64\n",
      "geolocation_lat                738332 non-null float64\n",
      "geolocation_lng                738332 non-null float64\n",
      "geolocation_city               738332 non-null object\n",
      "geolocation_state              738332 non-null object\n",
      "dtypes: float64(2), int64(1), object(2)\n",
      "memory usage: 33.8+ MB\n"
     ]
    }
   ],
   "source": [
    "geolocation_sem_repetir.info()"
   ]
  },
  {
   "cell_type": "code",
   "execution_count": 55,
   "metadata": {},
   "outputs": [
    {
     "data": {
      "text/plain": [
       "(738332, 5)"
      ]
     },
     "execution_count": 55,
     "metadata": {},
     "output_type": "execute_result"
    }
   ],
   "source": [
    "geolocation_sem_repetir.shape"
   ]
  },
  {
   "cell_type": "code",
   "execution_count": 56,
   "metadata": {},
   "outputs": [
    {
     "data": {
      "text/plain": [
       "geolocation_zip_code_prefix     19015\n",
       "geolocation_lat                717358\n",
       "geolocation_lng                717613\n",
       "geolocation_city                 8011\n",
       "geolocation_state                  27\n",
       "dtype: int64"
      ]
     },
     "execution_count": 56,
     "metadata": {},
     "output_type": "execute_result"
    }
   ],
   "source": [
    "# valores únicos dos campos\n",
    "geolocation_sem_repetir[['geolocation_zip_code_prefix', 'geolocation_lat', 'geolocation_lng', 'geolocation_city', 'geolocation_state']].nunique()"
   ]
  },
  {
   "cell_type": "code",
   "execution_count": 57,
   "metadata": {},
   "outputs": [
    {
     "data": {
      "text/plain": [
       "719298"
      ]
     },
     "execution_count": 57,
     "metadata": {},
     "output_type": "execute_result"
    }
   ],
   "source": [
    "# Qual a chave primária da tabela \"geolocation_sem_repetir\"?\n",
    "# Vamos deletar duplicados da concatenação de 'geolocation_zip_code_prefix' com 'geolocation_lat' (Se não houver deleção, eis a chave primária)\n",
    "len(geolocation_sem_repetir.drop_duplicates (subset=['geolocation_zip_code_prefix', 'geolocation_lat']))"
   ]
  },
  {
   "cell_type": "code",
   "execution_count": 58,
   "metadata": {},
   "outputs": [
    {
     "data": {
      "text/plain": [
       "719445"
      ]
     },
     "execution_count": 58,
     "metadata": {},
     "output_type": "execute_result"
    }
   ],
   "source": [
    "len(geolocation_sem_repetir.drop_duplicates (subset=['geolocation_zip_code_prefix', 'geolocation_lng']))"
   ]
  },
  {
   "cell_type": "code",
   "execution_count": 59,
   "metadata": {},
   "outputs": [
    {
     "data": {
      "text/plain": [
       "718463"
      ]
     },
     "execution_count": 59,
     "metadata": {},
     "output_type": "execute_result"
    }
   ],
   "source": [
    "len(geolocation_sem_repetir.drop_duplicates (subset=['geolocation_lat', 'geolocation_lng']))"
   ]
  },
  {
   "cell_type": "code",
   "execution_count": 60,
   "metadata": {},
   "outputs": [
    {
     "data": {
      "text/plain": [
       "720154"
      ]
     },
     "execution_count": 60,
     "metadata": {},
     "output_type": "execute_result"
    }
   ],
   "source": [
    "len(geolocation_sem_repetir.drop_duplicates (subset=['geolocation_zip_code_prefix', 'geolocation_lat', 'geolocation_lng']))"
   ]
  },
  {
   "cell_type": "code",
   "execution_count": 61,
   "metadata": {},
   "outputs": [
    {
     "data": {
      "text/plain": [
       "738330"
      ]
     },
     "execution_count": 61,
     "metadata": {},
     "output_type": "execute_result"
    }
   ],
   "source": [
    "len(geolocation_sem_repetir.drop_duplicates (subset=['geolocation_zip_code_prefix', 'geolocation_lat', 'geolocation_lng', 'geolocation_city']))"
   ]
  },
  {
   "cell_type": "code",
   "execution_count": 62,
   "metadata": {},
   "outputs": [
    {
     "data": {
      "text/plain": [
       "738332"
      ]
     },
     "execution_count": 62,
     "metadata": {},
     "output_type": "execute_result"
    }
   ],
   "source": [
    "len(geolocation_sem_repetir.drop_duplicates (subset=['geolocation_zip_code_prefix', 'geolocation_lat', 'geolocation_lng', 'geolocation_city', 'geolocation_state']))"
   ]
  },
  {
   "cell_type": "markdown",
   "metadata": {},
   "source": [
    "##### Cacilda!\n",
    "> A chave primária é a concatenação de TODOS os campos da tabela."
   ]
  },
  {
   "cell_type": "markdown",
   "metadata": {},
   "source": [
    "##### A nova configuração de tabelas chega quase ao final!"
   ]
  },
  {
   "cell_type": "code",
   "execution_count": 63,
   "metadata": {},
   "outputs": [
    {
     "data": {
      "text/html": [
       "<img src=\"Tabelas quase completas.PNG\"/>"
      ],
      "text/plain": [
       "<IPython.core.display.Image object>"
      ]
     },
     "execution_count": 63,
     "metadata": {},
     "output_type": "execute_result"
    }
   ],
   "source": [
    "Image (url = \"Tabelas quase completas.PNG\")"
   ]
  },
  {
   "cell_type": "markdown",
   "metadata": {},
   "source": [
    "##### \"Quase\" ao final porque faltam duas coisas:\n",
    "> 1. Checar se cabe outra solução que não deleção de itens repetidos na tabela <font color = red>\"itens\"</font>.\n",
    "> 2. Juntar todos as colunas relavantes das 8 tabelas acima em uma só.\n",
    "\n",
    "> Isso será feito em notebook específico. Este chega ao final aqui."
   ]
  },
  {
   "cell_type": "code",
   "execution_count": null,
   "metadata": {},
   "outputs": [],
   "source": []
  }
 ],
 "metadata": {
  "kernelspec": {
   "display_name": "Python 3",
   "language": "python",
   "name": "python3"
  },
  "language_info": {
   "codemirror_mode": {
    "name": "ipython",
    "version": 3
   },
   "file_extension": ".py",
   "mimetype": "text/x-python",
   "name": "python",
   "nbconvert_exporter": "python",
   "pygments_lexer": "ipython3",
   "version": "3.7.3"
  }
 },
 "nbformat": 4,
 "nbformat_minor": 2
}
