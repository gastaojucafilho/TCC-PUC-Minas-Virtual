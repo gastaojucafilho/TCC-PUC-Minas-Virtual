{
 "cells": [
  {
   "cell_type": "markdown",
   "metadata": {},
   "source": [
    "# TCC PUC-Minas Gastão Jucá Filho <br>\n",
    "Turma Puc-Minas Virtual - nov2019 <br>\n",
    "Notebook executado <font color=green>no feriado da Pascoa de 2021</font>"
   ]
  },
  {
   "cell_type": "markdown",
   "metadata": {},
   "source": [
    "#  Atividades: \n",
    "> 1. Investigar as 03 (três) tabelas básicas do trabalho: <font color=red>**orders**, **reviews** e **itens**</font> .  \n",
    ">> 1.1. Checar suas chaves primárias;  \n",
    ">> 1.2. Analisar deleção de registros; \n",
    "> 2. Fazer merges. \n",
    "> 3. Documentar tudo com linguagem Markdown."
   ]
  },
  {
   "cell_type": "markdown",
   "metadata": {},
   "source": [
    "##  Importação de bibliotecas necessárias"
   ]
  },
  {
   "cell_type": "code",
   "execution_count": 1,
   "metadata": {},
   "outputs": [],
   "source": [
    "import pandas as pd\n",
    "import numpy as np\n",
    "pd.options.display.float_format = '{:,.2f}'.format\n",
    "pd.set_option('display.max_columns', None)\n",
    "pd.set_option('display.max_rows', None)\n",
    "#pd.options.display.max_columns = 100"
   ]
  },
  {
   "cell_type": "markdown",
   "metadata": {},
   "source": [
    "## Importação das 02 (duas) tabelas"
   ]
  },
  {
   "cell_type": "code",
   "execution_count": 2,
   "metadata": {},
   "outputs": [],
   "source": [
    "reviews = pd.read_csv(\"olist_order_reviews_dataset.csv\", sep = ',')"
   ]
  },
  {
   "cell_type": "code",
   "execution_count": 3,
   "metadata": {},
   "outputs": [],
   "source": [
    "orders = pd.read_csv('olist_orders_dataset.csv', sep=',')"
   ]
  },
  {
   "cell_type": "markdown",
   "metadata": {},
   "source": [
    "## Importação do Diagrama do relacionamento entre as tabelas"
   ]
  },
  {
   "cell_type": "code",
   "execution_count": 4,
   "metadata": {},
   "outputs": [
    {
     "data": {
      "text/html": [
       "<img src=\"Order_reviews and Orders_new.bmp\"/>"
      ],
      "text/plain": [
       "<IPython.core.display.Image object>"
      ]
     },
     "execution_count": 4,
     "metadata": {},
     "output_type": "execute_result"
    }
   ],
   "source": [
    "from IPython.display import Image\n",
    "from IPython.core.display import HTML \n",
    "Image(url= \"Order_reviews and Orders_new.bmp\")"
   ]
  },
  {
   "cell_type": "markdown",
   "metadata": {},
   "source": [
    "## Visualização das linhas iniciais das tabelas"
   ]
  },
  {
   "cell_type": "code",
   "execution_count": 5,
   "metadata": {},
   "outputs": [
    {
     "data": {
      "text/html": [
       "<div>\n",
       "<style scoped>\n",
       "    .dataframe tbody tr th:only-of-type {\n",
       "        vertical-align: middle;\n",
       "    }\n",
       "\n",
       "    .dataframe tbody tr th {\n",
       "        vertical-align: top;\n",
       "    }\n",
       "\n",
       "    .dataframe thead th {\n",
       "        text-align: right;\n",
       "    }\n",
       "</style>\n",
       "<table border=\"1\" class=\"dataframe\">\n",
       "  <thead>\n",
       "    <tr style=\"text-align: right;\">\n",
       "      <th></th>\n",
       "      <th>review_id</th>\n",
       "      <th>order_id</th>\n",
       "      <th>review_score</th>\n",
       "      <th>review_comment_title</th>\n",
       "      <th>review_comment_message</th>\n",
       "      <th>review_creation_date</th>\n",
       "      <th>review_answer_timestamp</th>\n",
       "    </tr>\n",
       "  </thead>\n",
       "  <tbody>\n",
       "    <tr>\n",
       "      <th>0</th>\n",
       "      <td>7bc2406110b926393aa56f80a40eba40</td>\n",
       "      <td>73fc7af87114b39712e6da79b0a377eb</td>\n",
       "      <td>4</td>\n",
       "      <td>NaN</td>\n",
       "      <td>NaN</td>\n",
       "      <td>2018-01-18 00:00:00</td>\n",
       "      <td>2018-01-18 21:46:59</td>\n",
       "    </tr>\n",
       "    <tr>\n",
       "      <th>1</th>\n",
       "      <td>80e641a11e56f04c1ad469d5645fdfde</td>\n",
       "      <td>a548910a1c6147796b98fdf73dbeba33</td>\n",
       "      <td>5</td>\n",
       "      <td>NaN</td>\n",
       "      <td>NaN</td>\n",
       "      <td>2018-03-10 00:00:00</td>\n",
       "      <td>2018-03-11 03:05:13</td>\n",
       "    </tr>\n",
       "    <tr>\n",
       "      <th>2</th>\n",
       "      <td>228ce5500dc1d8e020d8d1322874b6f0</td>\n",
       "      <td>f9e4b658b201a9f2ecdecbb34bed034b</td>\n",
       "      <td>5</td>\n",
       "      <td>NaN</td>\n",
       "      <td>NaN</td>\n",
       "      <td>2018-02-17 00:00:00</td>\n",
       "      <td>2018-02-18 14:36:24</td>\n",
       "    </tr>\n",
       "  </tbody>\n",
       "</table>\n",
       "</div>"
      ],
      "text/plain": [
       "                          review_id                          order_id  \\\n",
       "0  7bc2406110b926393aa56f80a40eba40  73fc7af87114b39712e6da79b0a377eb   \n",
       "1  80e641a11e56f04c1ad469d5645fdfde  a548910a1c6147796b98fdf73dbeba33   \n",
       "2  228ce5500dc1d8e020d8d1322874b6f0  f9e4b658b201a9f2ecdecbb34bed034b   \n",
       "\n",
       "   review_score review_comment_title review_comment_message  \\\n",
       "0             4                  NaN                    NaN   \n",
       "1             5                  NaN                    NaN   \n",
       "2             5                  NaN                    NaN   \n",
       "\n",
       "  review_creation_date review_answer_timestamp  \n",
       "0  2018-01-18 00:00:00     2018-01-18 21:46:59  \n",
       "1  2018-03-10 00:00:00     2018-03-11 03:05:13  \n",
       "2  2018-02-17 00:00:00     2018-02-18 14:36:24  "
      ]
     },
     "execution_count": 5,
     "metadata": {},
     "output_type": "execute_result"
    }
   ],
   "source": [
    "reviews.head(3)"
   ]
  },
  {
   "cell_type": "code",
   "execution_count": 6,
   "metadata": {},
   "outputs": [
    {
     "data": {
      "text/html": [
       "<div>\n",
       "<style scoped>\n",
       "    .dataframe tbody tr th:only-of-type {\n",
       "        vertical-align: middle;\n",
       "    }\n",
       "\n",
       "    .dataframe tbody tr th {\n",
       "        vertical-align: top;\n",
       "    }\n",
       "\n",
       "    .dataframe thead th {\n",
       "        text-align: right;\n",
       "    }\n",
       "</style>\n",
       "<table border=\"1\" class=\"dataframe\">\n",
       "  <thead>\n",
       "    <tr style=\"text-align: right;\">\n",
       "      <th></th>\n",
       "      <th>order_id</th>\n",
       "      <th>customer_id</th>\n",
       "      <th>order_status</th>\n",
       "      <th>order_purchase_timestamp</th>\n",
       "      <th>order_approved_at</th>\n",
       "      <th>order_delivered_carrier_date</th>\n",
       "      <th>order_delivered_customer_date</th>\n",
       "      <th>order_estimated_delivery_date</th>\n",
       "    </tr>\n",
       "  </thead>\n",
       "  <tbody>\n",
       "    <tr>\n",
       "      <th>0</th>\n",
       "      <td>e481f51cbdc54678b7cc49136f2d6af7</td>\n",
       "      <td>9ef432eb6251297304e76186b10a928d</td>\n",
       "      <td>delivered</td>\n",
       "      <td>2017-10-02 10:56:33</td>\n",
       "      <td>2017-10-02 11:07:15</td>\n",
       "      <td>2017-10-04 19:55:00</td>\n",
       "      <td>2017-10-10 21:25:13</td>\n",
       "      <td>2017-10-18 00:00:00</td>\n",
       "    </tr>\n",
       "    <tr>\n",
       "      <th>1</th>\n",
       "      <td>53cdb2fc8bc7dce0b6741e2150273451</td>\n",
       "      <td>b0830fb4747a6c6d20dea0b8c802d7ef</td>\n",
       "      <td>delivered</td>\n",
       "      <td>2018-07-24 20:41:37</td>\n",
       "      <td>2018-07-26 03:24:27</td>\n",
       "      <td>2018-07-26 14:31:00</td>\n",
       "      <td>2018-08-07 15:27:45</td>\n",
       "      <td>2018-08-13 00:00:00</td>\n",
       "    </tr>\n",
       "    <tr>\n",
       "      <th>2</th>\n",
       "      <td>47770eb9100c2d0c44946d9cf07ec65d</td>\n",
       "      <td>41ce2a54c0b03bf3443c3d931a367089</td>\n",
       "      <td>delivered</td>\n",
       "      <td>2018-08-08 08:38:49</td>\n",
       "      <td>2018-08-08 08:55:23</td>\n",
       "      <td>2018-08-08 13:50:00</td>\n",
       "      <td>2018-08-17 18:06:29</td>\n",
       "      <td>2018-09-04 00:00:00</td>\n",
       "    </tr>\n",
       "  </tbody>\n",
       "</table>\n",
       "</div>"
      ],
      "text/plain": [
       "                           order_id                       customer_id  \\\n",
       "0  e481f51cbdc54678b7cc49136f2d6af7  9ef432eb6251297304e76186b10a928d   \n",
       "1  53cdb2fc8bc7dce0b6741e2150273451  b0830fb4747a6c6d20dea0b8c802d7ef   \n",
       "2  47770eb9100c2d0c44946d9cf07ec65d  41ce2a54c0b03bf3443c3d931a367089   \n",
       "\n",
       "  order_status order_purchase_timestamp    order_approved_at  \\\n",
       "0    delivered      2017-10-02 10:56:33  2017-10-02 11:07:15   \n",
       "1    delivered      2018-07-24 20:41:37  2018-07-26 03:24:27   \n",
       "2    delivered      2018-08-08 08:38:49  2018-08-08 08:55:23   \n",
       "\n",
       "  order_delivered_carrier_date order_delivered_customer_date  \\\n",
       "0          2017-10-04 19:55:00           2017-10-10 21:25:13   \n",
       "1          2018-07-26 14:31:00           2018-08-07 15:27:45   \n",
       "2          2018-08-08 13:50:00           2018-08-17 18:06:29   \n",
       "\n",
       "  order_estimated_delivery_date  \n",
       "0           2017-10-18 00:00:00  \n",
       "1           2018-08-13 00:00:00  \n",
       "2           2018-09-04 00:00:00  "
      ]
     },
     "execution_count": 6,
     "metadata": {},
     "output_type": "execute_result"
    }
   ],
   "source": [
    "orders.head(3)"
   ]
  },
  {
   "cell_type": "markdown",
   "metadata": {},
   "source": [
    " ### 1° - Informação sobre a tabela <font color=red>\"orders\"</font> "
   ]
  },
  {
   "cell_type": "code",
   "execution_count": 7,
   "metadata": {},
   "outputs": [
    {
     "name": "stdout",
     "output_type": "stream",
     "text": [
      "<class 'pandas.core.frame.DataFrame'>\n",
      "RangeIndex: 99441 entries, 0 to 99440\n",
      "Data columns (total 8 columns):\n",
      "order_id                         99441 non-null object\n",
      "customer_id                      99441 non-null object\n",
      "order_status                     99441 non-null object\n",
      "order_purchase_timestamp         99441 non-null object\n",
      "order_approved_at                99281 non-null object\n",
      "order_delivered_carrier_date     97658 non-null object\n",
      "order_delivered_customer_date    96476 non-null object\n",
      "order_estimated_delivery_date    99441 non-null object\n",
      "dtypes: object(8)\n",
      "memory usage: 6.1+ MB\n"
     ]
    }
   ],
   "source": [
    "orders.info()"
   ]
  },
  {
   "cell_type": "code",
   "execution_count": 8,
   "metadata": {},
   "outputs": [
    {
     "data": {
      "text/plain": [
       "(99441, 8)"
      ]
     },
     "execution_count": 8,
     "metadata": {},
     "output_type": "execute_result"
    }
   ],
   "source": [
    "# ver dimensões do dataset\n",
    "orders.shape"
   ]
  },
  {
   "cell_type": "code",
   "execution_count": 9,
   "metadata": {},
   "outputs": [
    {
     "data": {
      "text/plain": [
       "99441"
      ]
     },
     "execution_count": 9,
     "metadata": {},
     "output_type": "execute_result"
    }
   ],
   "source": [
    "# Qtde de valores únicos de 'order_id'\n",
    "len(orders['order_id'].unique())"
   ]
  },
  {
   "cell_type": "code",
   "execution_count": 10,
   "metadata": {},
   "outputs": [
    {
     "data": {
      "text/plain": [
       "99441"
      ]
     },
     "execution_count": 10,
     "metadata": {},
     "output_type": "execute_result"
    }
   ],
   "source": [
    "# Qtde de valores únicos de 'customer_id'\n",
    "len(orders['customer_id'].unique())"
   ]
  },
  {
   "cell_type": "code",
   "execution_count": 11,
   "metadata": {},
   "outputs": [
    {
     "data": {
      "text/plain": [
       "99441"
      ]
     },
     "execution_count": 11,
     "metadata": {},
     "output_type": "execute_result"
    }
   ],
   "source": [
    "# deletar duplicados da concatenação de 'order_id' com 'customer_id': como suas cardinalidades são idênticas e iguais ao\n",
    "# número de registros da tabela, essa deleção vai atingir 0 (zero) registros, resultando no mesmo número de registros.\n",
    "len(orders.drop_duplicates (subset=['order_id', 'customer_id']))"
   ]
  },
  {
   "cell_type": "markdown",
   "metadata": {},
   "source": [
    "#### Portanto:\n",
    "> O campo 'order_id' **é**  chave primária na tabela <font color=red>\"orders\"</font> .\n",
    "\n",
    "#### Adicionalmente:\n",
    "> - O campo 'customer_id' tem relação de **1-para-1** com a chave primária.  \n",
    "- Não há registros repetidos.  \n",
    "- Todos os campos são categóricos."
   ]
  },
  {
   "cell_type": "code",
   "execution_count": 12,
   "metadata": {},
   "outputs": [
    {
     "data": {
      "text/html": [
       "<img src=\"orders cleaned.bmp\"/>"
      ],
      "text/plain": [
       "<IPython.core.display.Image object>"
      ]
     },
     "execution_count": 12,
     "metadata": {},
     "output_type": "execute_result"
    }
   ],
   "source": [
    "# vamos repetir a figura das duas tabelas para facilitar referência ao leitor do notebook.\n",
    "# já resolvemos a tabela da direita, \"orders\", que tem 99441 registros e o campo 'order_id' como chave primária.\n",
    "# esse campo é chave estrangeira na tabela que iremos analisar a seguir (tabela \"reviews\"), a tabela da esquerda.\n",
    "Image(url= \"orders cleaned.bmp\")"
   ]
  },
  {
   "cell_type": "markdown",
   "metadata": {},
   "source": [
    "### 2° - Informação sobre a tabela <font color=red>\"reviews\"</font>  "
   ]
  },
  {
   "cell_type": "code",
   "execution_count": 13,
   "metadata": {},
   "outputs": [
    {
     "name": "stdout",
     "output_type": "stream",
     "text": [
      "<class 'pandas.core.frame.DataFrame'>\n",
      "RangeIndex: 100000 entries, 0 to 99999\n",
      "Data columns (total 7 columns):\n",
      "review_id                  100000 non-null object\n",
      "order_id                   100000 non-null object\n",
      "review_score               100000 non-null int64\n",
      "review_comment_title       11715 non-null object\n",
      "review_comment_message     41753 non-null object\n",
      "review_creation_date       100000 non-null object\n",
      "review_answer_timestamp    100000 non-null object\n",
      "dtypes: int64(1), object(6)\n",
      "memory usage: 5.3+ MB\n"
     ]
    }
   ],
   "source": [
    "reviews.info()"
   ]
  },
  {
   "cell_type": "code",
   "execution_count": 14,
   "metadata": {},
   "outputs": [
    {
     "data": {
      "text/plain": [
       "(100000, 7)"
      ]
     },
     "execution_count": 14,
     "metadata": {},
     "output_type": "execute_result"
    }
   ],
   "source": [
    "reviews.shape"
   ]
  },
  {
   "cell_type": "code",
   "execution_count": 15,
   "metadata": {},
   "outputs": [
    {
     "data": {
      "text/plain": [
       "99173"
      ]
     },
     "execution_count": 15,
     "metadata": {},
     "output_type": "execute_result"
    }
   ],
   "source": [
    "# Qtde de valores únicos de 'review_id'\n",
    "len(reviews['review_id'].unique())"
   ]
  },
  {
   "cell_type": "code",
   "execution_count": 16,
   "metadata": {},
   "outputs": [
    {
     "data": {
      "text/plain": [
       "99441"
      ]
     },
     "execution_count": 16,
     "metadata": {},
     "output_type": "execute_result"
    }
   ],
   "source": [
    "# Qtde de valores únicos de 'order_id'\n",
    "len(reviews['order_id'].unique())"
   ]
  },
  {
   "cell_type": "markdown",
   "metadata": {},
   "source": [
    "#### Problema: \n",
    "> 1. Temos 100.000 registros na tabela <font color=red>\"reviews\"</font> ;\n",
    "2. Mas 99.173 valores únicos no campo 'review_id'; e\n",
    "3. 99.441 valores únicos no campo 'order_id'.\n",
    "\n",
    "#### Portanto: \n",
    "> 1. 'review_id' **não** é a chave primária da tabela.\n",
    "2. Há mais de uma 'order_id' para uma mesma 'review_id'. E isso é **estranho**.\n",
    "\n",
    "#### Pergunta:\n",
    "> 3. Será que há mais de uma 'review_id' para a mesma 'order_id'???"
   ]
  },
  {
   "cell_type": "code",
   "execution_count": 17,
   "metadata": {},
   "outputs": [
    {
     "data": {
      "text/html": [
       "<img src=\"Reviews and Orders being looked into.bmp\"/>"
      ],
      "text/plain": [
       "<IPython.core.display.Image object>"
      ]
     },
     "execution_count": 17,
     "metadata": {},
     "output_type": "execute_result"
    }
   ],
   "source": [
    "Image(url= \"Reviews and Orders being looked into.bmp\")"
   ]
  },
  {
   "cell_type": "markdown",
   "metadata": {},
   "source": [
    "#### Se, dos 100 mil registros, deletarmos os 'review_id' duplicados, vão sobrar...  (a operação não é 'inplace')"
   ]
  },
  {
   "cell_type": "code",
   "execution_count": 18,
   "metadata": {},
   "outputs": [
    {
     "data": {
      "text/plain": [
       "99173"
      ]
     },
     "execution_count": 18,
     "metadata": {},
     "output_type": "execute_result"
    }
   ],
   "source": [
    "len(reviews.drop_duplicates (subset=['review_id']))"
   ]
  },
  {
   "cell_type": "markdown",
   "metadata": {},
   "source": [
    "#### E, partindo dos mesmos 100 mil, se deletarmos os 'order_id' duplicados, vão sobrar... (not 'inplace either')"
   ]
  },
  {
   "cell_type": "code",
   "execution_count": 19,
   "metadata": {},
   "outputs": [
    {
     "data": {
      "text/plain": [
       "99441"
      ]
     },
     "execution_count": 19,
     "metadata": {},
     "output_type": "execute_result"
    }
   ],
   "source": [
    "len(reviews.drop_duplicates (subset=['order_id']))"
   ]
  },
  {
   "cell_type": "markdown",
   "metadata": {},
   "source": [
    "#### Ou seja, é uma relação de n-para-n: um 'review_id' tem mais de um 'order_id' e vice-versa.\n",
    "> É melhor analisar essa relação n x n."
   ]
  },
  {
   "cell_type": "markdown",
   "metadata": {},
   "source": [
    "#### <font color=green>Em primeiro lugar, </font> vamos descobrir: dado um 'review_id', quantos 'order_id' há?\n",
    "> Agrupemos os 'review_id' para obter tal contagem"
   ]
  },
  {
   "cell_type": "code",
   "execution_count": 20,
   "metadata": {},
   "outputs": [],
   "source": [
    "# o resultado é um Series atribuído à variável 'qtde_order_pra_cada_review'\n",
    "qtde_order_pra_cada_review = reviews.groupby('review_id')['order_id'].count()"
   ]
  },
  {
   "cell_type": "code",
   "execution_count": 21,
   "metadata": {},
   "outputs": [],
   "source": [
    "# transformemos esse Series em um dataframe\n",
    "df_qtde_order_pra_cada_review = pd.DataFrame(qtde_order_pra_cada_review)"
   ]
  },
  {
   "cell_type": "code",
   "execution_count": 22,
   "metadata": {},
   "outputs": [
    {
     "data": {
      "text/html": [
       "<div>\n",
       "<style scoped>\n",
       "    .dataframe tbody tr th:only-of-type {\n",
       "        vertical-align: middle;\n",
       "    }\n",
       "\n",
       "    .dataframe tbody tr th {\n",
       "        vertical-align: top;\n",
       "    }\n",
       "\n",
       "    .dataframe thead th {\n",
       "        text-align: right;\n",
       "    }\n",
       "</style>\n",
       "<table border=\"1\" class=\"dataframe\">\n",
       "  <thead>\n",
       "    <tr style=\"text-align: right;\">\n",
       "      <th></th>\n",
       "      <th>order_id</th>\n",
       "    </tr>\n",
       "    <tr>\n",
       "      <th>review_id</th>\n",
       "      <th></th>\n",
       "    </tr>\n",
       "  </thead>\n",
       "  <tbody>\n",
       "    <tr>\n",
       "      <th>dbdf1ea31790c8ecfcc6750525661a9b</th>\n",
       "      <td>3</td>\n",
       "    </tr>\n",
       "    <tr>\n",
       "      <th>9e25d6e3025e9b9a0fc7f03588d33e2b</th>\n",
       "      <td>3</td>\n",
       "    </tr>\n",
       "    <tr>\n",
       "      <th>2172867fd5b1a55f98fe4608e1547b4b</th>\n",
       "      <td>3</td>\n",
       "    </tr>\n",
       "    <tr>\n",
       "      <th>ddc52555ca27b0fe67d5255147682d2d</th>\n",
       "      <td>3</td>\n",
       "    </tr>\n",
       "    <tr>\n",
       "      <th>08528f70f579f0c830189efc523d2182</th>\n",
       "      <td>3</td>\n",
       "    </tr>\n",
       "  </tbody>\n",
       "</table>\n",
       "</div>"
      ],
      "text/plain": [
       "                                  order_id\n",
       "review_id                                 \n",
       "dbdf1ea31790c8ecfcc6750525661a9b         3\n",
       "9e25d6e3025e9b9a0fc7f03588d33e2b         3\n",
       "2172867fd5b1a55f98fe4608e1547b4b         3\n",
       "ddc52555ca27b0fe67d5255147682d2d         3\n",
       "08528f70f579f0c830189efc523d2182         3"
      ]
     },
     "execution_count": 22,
     "metadata": {},
     "output_type": "execute_result"
    }
   ],
   "source": [
    "# Vamos exibir os 05 (cinco) primeiros registros desse dataframe, após ordenado em ordem decrescente\n",
    "df_qtde_order_pra_cada_review.sort_values(by='order_id', ascending=False).head()"
   ]
  },
  {
   "cell_type": "code",
   "execution_count": 23,
   "metadata": {},
   "outputs": [
    {
     "data": {
      "text/plain": [
       "(99173, 1)"
      ]
     },
     "execution_count": 23,
     "metadata": {},
     "output_type": "execute_result"
    }
   ],
   "source": [
    "# Qual o formato desse dataframe?\n",
    "df_qtde_order_pra_cada_review.shape"
   ]
  },
  {
   "cell_type": "code",
   "execution_count": 24,
   "metadata": {},
   "outputs": [
    {
     "data": {
      "text/plain": [
       "802"
      ]
     },
     "execution_count": 24,
     "metadata": {},
     "output_type": "execute_result"
    }
   ],
   "source": [
    "# Qtde de 'review_id' que têm 2 ou 3 'order_id'\n",
    "len(df_qtde_order_pra_cada_review.loc[df_qtde_order_pra_cada_review['order_id'] > 1])"
   ]
  },
  {
   "cell_type": "code",
   "execution_count": 25,
   "metadata": {},
   "outputs": [
    {
     "data": {
      "text/plain": [
       "25"
      ]
     },
     "execution_count": 25,
     "metadata": {},
     "output_type": "execute_result"
    }
   ],
   "source": [
    "# Qtde de 'review_id' que têm 3 'order_id'\n",
    "len(df_qtde_order_pra_cada_review.loc[df_qtde_order_pra_cada_review['order_id'] > 2])"
   ]
  },
  {
   "cell_type": "markdown",
   "metadata": {},
   "source": [
    "#### Ou seja:  \n",
    "> há 777 (802 - 25 = 777) *'review_id'* com 2 *'order_id'*  \n",
    "> Há 25 *'review_id'* com 3 *'order_id'*\n"
   ]
  },
  {
   "cell_type": "markdown",
   "metadata": {},
   "source": [
    "#### Vamos dar uma olhada nesses 'review_id' que têm múltiplos 'order_id'"
   ]
  },
  {
   "cell_type": "markdown",
   "metadata": {},
   "source": [
    "#### Dos 'review_id' que têm 3 'order_id', vamos visualizar na tabela <font color=red>\"reviews\"</font> aquele que começa com *'dbd'* e termina com *'1a9b'*..."
   ]
  },
  {
   "cell_type": "code",
   "execution_count": 26,
   "metadata": {},
   "outputs": [
    {
     "data": {
      "text/html": [
       "<div>\n",
       "<style scoped>\n",
       "    .dataframe tbody tr th:only-of-type {\n",
       "        vertical-align: middle;\n",
       "    }\n",
       "\n",
       "    .dataframe tbody tr th {\n",
       "        vertical-align: top;\n",
       "    }\n",
       "\n",
       "    .dataframe thead th {\n",
       "        text-align: right;\n",
       "    }\n",
       "</style>\n",
       "<table border=\"1\" class=\"dataframe\">\n",
       "  <thead>\n",
       "    <tr style=\"text-align: right;\">\n",
       "      <th></th>\n",
       "      <th>review_id</th>\n",
       "      <th>order_id</th>\n",
       "      <th>review_score</th>\n",
       "      <th>review_comment_title</th>\n",
       "      <th>review_comment_message</th>\n",
       "      <th>review_creation_date</th>\n",
       "      <th>review_answer_timestamp</th>\n",
       "    </tr>\n",
       "  </thead>\n",
       "  <tbody>\n",
       "    <tr>\n",
       "      <th>24420</th>\n",
       "      <td>dbdf1ea31790c8ecfcc6750525661a9b</td>\n",
       "      <td>fa06c9f04ef55a2a43f2246a0777b7c8</td>\n",
       "      <td>1</td>\n",
       "      <td>NaN</td>\n",
       "      <td>O produto veio embalado apenas por um frágil e...</td>\n",
       "      <td>2018-03-20 00:00:00</td>\n",
       "      <td>2018-03-21 01:02:05</td>\n",
       "    </tr>\n",
       "    <tr>\n",
       "      <th>49929</th>\n",
       "      <td>dbdf1ea31790c8ecfcc6750525661a9b</td>\n",
       "      <td>3cf387bb14e9db171ccbb9b87ea607bb</td>\n",
       "      <td>1</td>\n",
       "      <td>NaN</td>\n",
       "      <td>O produto veio embalado apenas por um frágil e...</td>\n",
       "      <td>2018-03-20 00:00:00</td>\n",
       "      <td>2018-03-21 01:02:05</td>\n",
       "    </tr>\n",
       "    <tr>\n",
       "      <th>96293</th>\n",
       "      <td>dbdf1ea31790c8ecfcc6750525661a9b</td>\n",
       "      <td>9406240a4e41945ba492020a2702f757</td>\n",
       "      <td>1</td>\n",
       "      <td>NaN</td>\n",
       "      <td>O produto veio embalado apenas por um frágil e...</td>\n",
       "      <td>2018-03-20 00:00:00</td>\n",
       "      <td>2018-03-21 01:02:05</td>\n",
       "    </tr>\n",
       "  </tbody>\n",
       "</table>\n",
       "</div>"
      ],
      "text/plain": [
       "                              review_id                          order_id  \\\n",
       "24420  dbdf1ea31790c8ecfcc6750525661a9b  fa06c9f04ef55a2a43f2246a0777b7c8   \n",
       "49929  dbdf1ea31790c8ecfcc6750525661a9b  3cf387bb14e9db171ccbb9b87ea607bb   \n",
       "96293  dbdf1ea31790c8ecfcc6750525661a9b  9406240a4e41945ba492020a2702f757   \n",
       "\n",
       "       review_score review_comment_title  \\\n",
       "24420             1                  NaN   \n",
       "49929             1                  NaN   \n",
       "96293             1                  NaN   \n",
       "\n",
       "                                  review_comment_message review_creation_date  \\\n",
       "24420  O produto veio embalado apenas por um frágil e...  2018-03-20 00:00:00   \n",
       "49929  O produto veio embalado apenas por um frágil e...  2018-03-20 00:00:00   \n",
       "96293  O produto veio embalado apenas por um frágil e...  2018-03-20 00:00:00   \n",
       "\n",
       "      review_answer_timestamp  \n",
       "24420     2018-03-21 01:02:05  \n",
       "49929     2018-03-21 01:02:05  \n",
       "96293     2018-03-21 01:02:05  "
      ]
     },
     "execution_count": 26,
     "metadata": {},
     "output_type": "execute_result"
    }
   ],
   "source": [
    "reviews.loc[reviews['review_id'] == 'dbdf1ea31790c8ecfcc6750525661a9b']"
   ]
  },
  {
   "cell_type": "markdown",
   "metadata": {},
   "source": [
    "#### Visualizemos na tabela <font color=red>\"reviews\"</font> um 2° 'review_id' (o que começa com '9e25' e termina com '3e2b')"
   ]
  },
  {
   "cell_type": "code",
   "execution_count": 27,
   "metadata": {},
   "outputs": [
    {
     "data": {
      "text/html": [
       "<div>\n",
       "<style scoped>\n",
       "    .dataframe tbody tr th:only-of-type {\n",
       "        vertical-align: middle;\n",
       "    }\n",
       "\n",
       "    .dataframe tbody tr th {\n",
       "        vertical-align: top;\n",
       "    }\n",
       "\n",
       "    .dataframe thead th {\n",
       "        text-align: right;\n",
       "    }\n",
       "</style>\n",
       "<table border=\"1\" class=\"dataframe\">\n",
       "  <thead>\n",
       "    <tr style=\"text-align: right;\">\n",
       "      <th></th>\n",
       "      <th>review_id</th>\n",
       "      <th>order_id</th>\n",
       "      <th>review_score</th>\n",
       "      <th>review_comment_title</th>\n",
       "      <th>review_comment_message</th>\n",
       "      <th>review_creation_date</th>\n",
       "      <th>review_answer_timestamp</th>\n",
       "    </tr>\n",
       "  </thead>\n",
       "  <tbody>\n",
       "    <tr>\n",
       "      <th>45528</th>\n",
       "      <td>9e25d6e3025e9b9a0fc7f03588d33e2b</td>\n",
       "      <td>869997fbe01f39d184956b5c6bccfdbe</td>\n",
       "      <td>1</td>\n",
       "      <td>Razoavel</td>\n",
       "      <td>Peço um produto por um código e vem outro tota...</td>\n",
       "      <td>2018-08-31 00:00:00</td>\n",
       "      <td>2018-09-03 09:33:00</td>\n",
       "    </tr>\n",
       "    <tr>\n",
       "      <th>72401</th>\n",
       "      <td>9e25d6e3025e9b9a0fc7f03588d33e2b</td>\n",
       "      <td>0d3adebce4bebc1f80a7f36e9833f497</td>\n",
       "      <td>1</td>\n",
       "      <td>Razoavel</td>\n",
       "      <td>Peço um produto por um código e vem outro tota...</td>\n",
       "      <td>2018-08-31 00:00:00</td>\n",
       "      <td>2018-09-03 09:33:00</td>\n",
       "    </tr>\n",
       "    <tr>\n",
       "      <th>76542</th>\n",
       "      <td>9e25d6e3025e9b9a0fc7f03588d33e2b</td>\n",
       "      <td>52b7fa35b1e5c8bdea5869804dced415</td>\n",
       "      <td>1</td>\n",
       "      <td>Razoavel</td>\n",
       "      <td>Peço um produto por um código e vem outro tota...</td>\n",
       "      <td>2018-08-31 00:00:00</td>\n",
       "      <td>2018-09-03 09:33:00</td>\n",
       "    </tr>\n",
       "  </tbody>\n",
       "</table>\n",
       "</div>"
      ],
      "text/plain": [
       "                              review_id                          order_id  \\\n",
       "45528  9e25d6e3025e9b9a0fc7f03588d33e2b  869997fbe01f39d184956b5c6bccfdbe   \n",
       "72401  9e25d6e3025e9b9a0fc7f03588d33e2b  0d3adebce4bebc1f80a7f36e9833f497   \n",
       "76542  9e25d6e3025e9b9a0fc7f03588d33e2b  52b7fa35b1e5c8bdea5869804dced415   \n",
       "\n",
       "       review_score review_comment_title  \\\n",
       "45528             1             Razoavel   \n",
       "72401             1             Razoavel   \n",
       "76542             1             Razoavel   \n",
       "\n",
       "                                  review_comment_message review_creation_date  \\\n",
       "45528  Peço um produto por um código e vem outro tota...  2018-08-31 00:00:00   \n",
       "72401  Peço um produto por um código e vem outro tota...  2018-08-31 00:00:00   \n",
       "76542  Peço um produto por um código e vem outro tota...  2018-08-31 00:00:00   \n",
       "\n",
       "      review_answer_timestamp  \n",
       "45528     2018-09-03 09:33:00  \n",
       "72401     2018-09-03 09:33:00  \n",
       "76542     2018-09-03 09:33:00  "
      ]
     },
     "execution_count": 27,
     "metadata": {},
     "output_type": "execute_result"
    }
   ],
   "source": [
    "reviews.loc[reviews['review_id'] == '9e25d6e3025e9b9a0fc7f03588d33e2b']"
   ]
  },
  {
   "cell_type": "markdown",
   "metadata": {},
   "source": [
    "#### olhemos na tabela <font color=red>\"reviews\"</font> um 3° 'review_id' (o que começa com '2172' e termina com '7b4b')"
   ]
  },
  {
   "cell_type": "code",
   "execution_count": 28,
   "metadata": {},
   "outputs": [
    {
     "data": {
      "text/html": [
       "<div>\n",
       "<style scoped>\n",
       "    .dataframe tbody tr th:only-of-type {\n",
       "        vertical-align: middle;\n",
       "    }\n",
       "\n",
       "    .dataframe tbody tr th {\n",
       "        vertical-align: top;\n",
       "    }\n",
       "\n",
       "    .dataframe thead th {\n",
       "        text-align: right;\n",
       "    }\n",
       "</style>\n",
       "<table border=\"1\" class=\"dataframe\">\n",
       "  <thead>\n",
       "    <tr style=\"text-align: right;\">\n",
       "      <th></th>\n",
       "      <th>review_id</th>\n",
       "      <th>order_id</th>\n",
       "      <th>review_score</th>\n",
       "      <th>review_comment_title</th>\n",
       "      <th>review_comment_message</th>\n",
       "      <th>review_creation_date</th>\n",
       "      <th>review_answer_timestamp</th>\n",
       "    </tr>\n",
       "  </thead>\n",
       "  <tbody>\n",
       "    <tr>\n",
       "      <th>15243</th>\n",
       "      <td>2172867fd5b1a55f98fe4608e1547b4b</td>\n",
       "      <td>559d606ac642899e44550f194fec7e08</td>\n",
       "      <td>5</td>\n",
       "      <td>NaN</td>\n",
       "      <td>Entrega no prazo e produto de qualidade!</td>\n",
       "      <td>2018-02-15 00:00:00</td>\n",
       "      <td>2018-02-26 15:53:18</td>\n",
       "    </tr>\n",
       "    <tr>\n",
       "      <th>28806</th>\n",
       "      <td>2172867fd5b1a55f98fe4608e1547b4b</td>\n",
       "      <td>ac6e61336e852cdc45fe59ada3763a66</td>\n",
       "      <td>5</td>\n",
       "      <td>NaN</td>\n",
       "      <td>Entrega no prazo e produto de qualidade!</td>\n",
       "      <td>2018-02-15 00:00:00</td>\n",
       "      <td>2018-02-26 15:53:18</td>\n",
       "    </tr>\n",
       "    <tr>\n",
       "      <th>54384</th>\n",
       "      <td>2172867fd5b1a55f98fe4608e1547b4b</td>\n",
       "      <td>e11ba7fd8fe0728dcd89efddcda9fb11</td>\n",
       "      <td>5</td>\n",
       "      <td>NaN</td>\n",
       "      <td>Entrega no prazo e produto de qualidade!</td>\n",
       "      <td>2018-02-15 00:00:00</td>\n",
       "      <td>2018-02-26 15:53:18</td>\n",
       "    </tr>\n",
       "  </tbody>\n",
       "</table>\n",
       "</div>"
      ],
      "text/plain": [
       "                              review_id                          order_id  \\\n",
       "15243  2172867fd5b1a55f98fe4608e1547b4b  559d606ac642899e44550f194fec7e08   \n",
       "28806  2172867fd5b1a55f98fe4608e1547b4b  ac6e61336e852cdc45fe59ada3763a66   \n",
       "54384  2172867fd5b1a55f98fe4608e1547b4b  e11ba7fd8fe0728dcd89efddcda9fb11   \n",
       "\n",
       "       review_score review_comment_title  \\\n",
       "15243             5                  NaN   \n",
       "28806             5                  NaN   \n",
       "54384             5                  NaN   \n",
       "\n",
       "                         review_comment_message review_creation_date  \\\n",
       "15243  Entrega no prazo e produto de qualidade!  2018-02-15 00:00:00   \n",
       "28806  Entrega no prazo e produto de qualidade!  2018-02-15 00:00:00   \n",
       "54384  Entrega no prazo e produto de qualidade!  2018-02-15 00:00:00   \n",
       "\n",
       "      review_answer_timestamp  \n",
       "15243     2018-02-26 15:53:18  \n",
       "28806     2018-02-26 15:53:18  \n",
       "54384     2018-02-26 15:53:18  "
      ]
     },
     "execution_count": 28,
     "metadata": {},
     "output_type": "execute_result"
    }
   ],
   "source": [
    "reviews.loc[reviews['review_id'] == '2172867fd5b1a55f98fe4608e1547b4b']"
   ]
  },
  {
   "cell_type": "markdown",
   "metadata": {},
   "source": [
    "#### Mesmo efeito nos três casos: um mesmo 'review_id' refere-se a 03 (três) pedidos ('order_id'), sendo que os atributos são <font color=green>idênticos</font>. É um defeito da tabela <font color=red>\"reviews\"</font> causado por falha de carregamento dos dados."
   ]
  },
  {
   "cell_type": "code",
   "execution_count": 29,
   "metadata": {},
   "outputs": [
    {
     "data": {
      "text/html": [
       "<img src=\"Reviews and Orders being looked into.bmp\"/>"
      ],
      "text/plain": [
       "<IPython.core.display.Image object>"
      ]
     },
     "execution_count": 29,
     "metadata": {},
     "output_type": "execute_result"
    }
   ],
   "source": [
    "# Repetição da figura pra facilitar leitor acompanhar a análise\n",
    "Image(url= \"Reviews and Orders being looked into.bmp\")"
   ]
  },
  {
   "cell_type": "markdown",
   "metadata": {},
   "source": [
    "#### O que fazer????  \n",
    "> Simples: deletar as redundâncias de 'review_id'!"
   ]
  },
  {
   "cell_type": "code",
   "execution_count": 30,
   "metadata": {},
   "outputs": [],
   "source": [
    "review_id_sem_repetir = reviews.drop_duplicates (subset=['review_id']) # o default é manter a primeira ocorrência da duplicação"
   ]
  },
  {
   "cell_type": "code",
   "execution_count": 31,
   "metadata": {},
   "outputs": [
    {
     "name": "stdout",
     "output_type": "stream",
     "text": [
      "<class 'pandas.core.frame.DataFrame'>\n",
      "Int64Index: 99173 entries, 0 to 99999\n",
      "Data columns (total 7 columns):\n",
      "review_id                  99173 non-null object\n",
      "order_id                   99173 non-null object\n",
      "review_score               99173 non-null int64\n",
      "review_comment_title       11665 non-null object\n",
      "review_comment_message     41431 non-null object\n",
      "review_creation_date       99173 non-null object\n",
      "review_answer_timestamp    99173 non-null object\n",
      "dtypes: int64(1), object(6)\n",
      "memory usage: 6.1+ MB\n"
     ]
    }
   ],
   "source": [
    "review_id_sem_repetir.info()"
   ]
  },
  {
   "cell_type": "code",
   "execution_count": 32,
   "metadata": {},
   "outputs": [
    {
     "data": {
      "text/plain": [
       "(99173, 7)"
      ]
     },
     "execution_count": 32,
     "metadata": {},
     "output_type": "execute_result"
    }
   ],
   "source": [
    "review_id_sem_repetir.shape"
   ]
  },
  {
   "cell_type": "code",
   "execution_count": 33,
   "metadata": {},
   "outputs": [
    {
     "data": {
      "text/plain": [
       "99173"
      ]
     },
     "execution_count": 33,
     "metadata": {},
     "output_type": "execute_result"
    }
   ],
   "source": [
    "len(review_id_sem_repetir['review_id'].unique())"
   ]
  },
  {
   "cell_type": "code",
   "execution_count": 34,
   "metadata": {},
   "outputs": [
    {
     "data": {
      "text/plain": [
       "98926"
      ]
     },
     "execution_count": 34,
     "metadata": {},
     "output_type": "execute_result"
    }
   ],
   "source": [
    "len(review_id_sem_repetir['order_id'].unique())"
   ]
  },
  {
   "cell_type": "code",
   "execution_count": 35,
   "metadata": {},
   "outputs": [
    {
     "data": {
      "text/html": [
       "<img src=\"review_id_sem_repetir e orders.bmp\"/>"
      ],
      "text/plain": [
       "<IPython.core.display.Image object>"
      ]
     },
     "execution_count": 35,
     "metadata": {},
     "output_type": "execute_result"
    }
   ],
   "source": [
    "# Nova configuração de tabelas\n",
    "Image(url= \"review_id_sem_repetir e orders.bmp\")"
   ]
  },
  {
   "cell_type": "markdown",
   "metadata": {},
   "source": [
    "#### A relação entre 'review_id' e 'order_id' (tabela da esquerda na figura acima) ainda não é 1-pra-1.\n",
    "> Pois existe diferença entre os valores únicos (99.173 - 98.926 = 247)  \n",
    ">Essa diferença precisa, *necessariamente*, ser eliminada????? É possível existir um review para mais de uma order?????\n",
    ">> vamos terminar a análise sobre 'review_id' x 'order_id' a seguir."
   ]
  },
  {
   "cell_type": "markdown",
   "metadata": {},
   "source": [
    "#### <font color=green>Em primeiro lugar, </font> (mais acima) descobrimos quantos 'order_id' há em um dado 'review_id'.\n",
    "> Isso resultou na deleção das redundâncias de 'review_id' e a criação da tabela <font color=red>\"review_id_sem_repetir\", </font>"
   ]
  },
  {
   "cell_type": "markdown",
   "metadata": {},
   "source": [
    "#### <font color=green>Em segundo lugar, </font> (agora) vamos responder à pergunta inversa: \n",
    "> Quantos 'review_id'  há em um dado 'order_id'?\n",
    ">> Agrupemos os 'order_id' para obter a contagem.\n",
    "\n",
    "> Faremos isso na nova tabela <font color=red>\"review_id_sem_repetir\""
   ]
  },
  {
   "cell_type": "code",
   "execution_count": 36,
   "metadata": {},
   "outputs": [],
   "source": [
    "# o resultado é um Series atribuído à variável 'qtde_review_pra_cada_order'\n",
    "qtde_review_pra_cada_order = review_id_sem_repetir.groupby('order_id')['review_id'].count()"
   ]
  },
  {
   "cell_type": "code",
   "execution_count": 37,
   "metadata": {},
   "outputs": [],
   "source": [
    "# transformemos 'qtde_review_pra_cada_order' em um dataframe\n",
    "df_qtde_review_pra_cada_order = pd.DataFrame(qtde_review_pra_cada_order)"
   ]
  },
  {
   "cell_type": "code",
   "execution_count": 38,
   "metadata": {},
   "outputs": [
    {
     "data": {
      "text/html": [
       "<div>\n",
       "<style scoped>\n",
       "    .dataframe tbody tr th:only-of-type {\n",
       "        vertical-align: middle;\n",
       "    }\n",
       "\n",
       "    .dataframe tbody tr th {\n",
       "        vertical-align: top;\n",
       "    }\n",
       "\n",
       "    .dataframe thead th {\n",
       "        text-align: right;\n",
       "    }\n",
       "</style>\n",
       "<table border=\"1\" class=\"dataframe\">\n",
       "  <thead>\n",
       "    <tr style=\"text-align: right;\">\n",
       "      <th></th>\n",
       "      <th>review_id</th>\n",
       "    </tr>\n",
       "    <tr>\n",
       "      <th>order_id</th>\n",
       "      <th></th>\n",
       "    </tr>\n",
       "  </thead>\n",
       "  <tbody>\n",
       "    <tr>\n",
       "      <th>7845a2492ab1b4f2cf3d56c7b8da1446</th>\n",
       "      <td>2</td>\n",
       "    </tr>\n",
       "    <tr>\n",
       "      <th>8ff88873f03f1912c00741f8e5ae6c79</th>\n",
       "      <td>2</td>\n",
       "    </tr>\n",
       "    <tr>\n",
       "      <th>23a2d8b0357730d4f9c50aa48773e9e9</th>\n",
       "      <td>2</td>\n",
       "    </tr>\n",
       "    <tr>\n",
       "      <th>9de38c42ea4d33af19aac6c4d6c4b146</th>\n",
       "      <td>2</td>\n",
       "    </tr>\n",
       "    <tr>\n",
       "      <th>2792c4f95b24c1a72641cd404561bdd8</th>\n",
       "      <td>2</td>\n",
       "    </tr>\n",
       "  </tbody>\n",
       "</table>\n",
       "</div>"
      ],
      "text/plain": [
       "                                  review_id\n",
       "order_id                                   \n",
       "7845a2492ab1b4f2cf3d56c7b8da1446          2\n",
       "8ff88873f03f1912c00741f8e5ae6c79          2\n",
       "23a2d8b0357730d4f9c50aa48773e9e9          2\n",
       "9de38c42ea4d33af19aac6c4d6c4b146          2\n",
       "2792c4f95b24c1a72641cd404561bdd8          2"
      ]
     },
     "execution_count": 38,
     "metadata": {},
     "output_type": "execute_result"
    }
   ],
   "source": [
    "# Vamos exibir os 05 (cinco) primeiros registros desse dataframe, após ordenado em ordem decrescente de 'review_id'\n",
    "df_qtde_review_pra_cada_order.sort_values(by='review_id', ascending=False).head()"
   ]
  },
  {
   "cell_type": "code",
   "execution_count": 39,
   "metadata": {},
   "outputs": [
    {
     "data": {
      "text/plain": [
       "(98926, 1)"
      ]
     },
     "execution_count": 39,
     "metadata": {},
     "output_type": "execute_result"
    }
   ],
   "source": [
    "df_qtde_review_pra_cada_order.shape"
   ]
  },
  {
   "cell_type": "code",
   "execution_count": 40,
   "metadata": {},
   "outputs": [
    {
     "data": {
      "text/plain": [
       "247"
      ]
     },
     "execution_count": 40,
     "metadata": {},
     "output_type": "execute_result"
    }
   ],
   "source": [
    "# Qtde de 'orders' que têm 2 ou 3 'reviews'\n",
    "len(df_qtde_review_pra_cada_order.loc[df_qtde_review_pra_cada_order['review_id'] > 1])"
   ]
  },
  {
   "cell_type": "code",
   "execution_count": 41,
   "metadata": {},
   "outputs": [
    {
     "data": {
      "text/plain": [
       "0"
      ]
     },
     "execution_count": 41,
     "metadata": {},
     "output_type": "execute_result"
    }
   ],
   "source": [
    "# Qtde de 'orders' que têm 3 'reviews'\n",
    "len(df_qtde_review_pra_cada_order.loc[df_qtde_review_pra_cada_order['review_id'] > 2])"
   ]
  },
  {
   "cell_type": "markdown",
   "metadata": {},
   "source": [
    "##### Ou seja:  \n",
    "> há 247 *'order_id'* com 2 *'review_id'*  \n",
    "\n",
    "> Não há *'order_id'* com 3 *'review_id'*\n"
   ]
  },
  {
   "cell_type": "markdown",
   "metadata": {},
   "source": [
    "#### Dos 'order_id' que têm 2 *'review_id'*, olhemos na tabela <font color=red>\"review_id_sem_repetir\"</font> o que começa com *'784'* e termina com *'446'*..."
   ]
  },
  {
   "cell_type": "code",
   "execution_count": 42,
   "metadata": {},
   "outputs": [
    {
     "data": {
      "text/html": [
       "<div>\n",
       "<style scoped>\n",
       "    .dataframe tbody tr th:only-of-type {\n",
       "        vertical-align: middle;\n",
       "    }\n",
       "\n",
       "    .dataframe tbody tr th {\n",
       "        vertical-align: top;\n",
       "    }\n",
       "\n",
       "    .dataframe thead th {\n",
       "        text-align: right;\n",
       "    }\n",
       "</style>\n",
       "<table border=\"1\" class=\"dataframe\">\n",
       "  <thead>\n",
       "    <tr style=\"text-align: right;\">\n",
       "      <th></th>\n",
       "      <th>review_id</th>\n",
       "      <th>order_id</th>\n",
       "      <th>review_score</th>\n",
       "      <th>review_comment_title</th>\n",
       "      <th>review_comment_message</th>\n",
       "      <th>review_creation_date</th>\n",
       "      <th>review_answer_timestamp</th>\n",
       "    </tr>\n",
       "  </thead>\n",
       "  <tbody>\n",
       "    <tr>\n",
       "      <th>57360</th>\n",
       "      <td>ae501aff8d8cc761c92008e6afd9dcaa</td>\n",
       "      <td>7845a2492ab1b4f2cf3d56c7b8da1446</td>\n",
       "      <td>5</td>\n",
       "      <td>NaN</td>\n",
       "      <td>chegou antesdo programado</td>\n",
       "      <td>2018-01-24 00:00:00</td>\n",
       "      <td>2018-01-30 19:19:56</td>\n",
       "    </tr>\n",
       "    <tr>\n",
       "      <th>73064</th>\n",
       "      <td>8566d94f7bf3bedbb4ca6a29725fc382</td>\n",
       "      <td>7845a2492ab1b4f2cf3d56c7b8da1446</td>\n",
       "      <td>5</td>\n",
       "      <td>NaN</td>\n",
       "      <td>chegou antes do prometido</td>\n",
       "      <td>2018-01-27 00:00:00</td>\n",
       "      <td>2018-01-30 19:18:27</td>\n",
       "    </tr>\n",
       "  </tbody>\n",
       "</table>\n",
       "</div>"
      ],
      "text/plain": [
       "                              review_id                          order_id  \\\n",
       "57360  ae501aff8d8cc761c92008e6afd9dcaa  7845a2492ab1b4f2cf3d56c7b8da1446   \n",
       "73064  8566d94f7bf3bedbb4ca6a29725fc382  7845a2492ab1b4f2cf3d56c7b8da1446   \n",
       "\n",
       "       review_score review_comment_title     review_comment_message  \\\n",
       "57360             5                  NaN  chegou antesdo programado   \n",
       "73064             5                  NaN  chegou antes do prometido   \n",
       "\n",
       "      review_creation_date review_answer_timestamp  \n",
       "57360  2018-01-24 00:00:00     2018-01-30 19:19:56  \n",
       "73064  2018-01-27 00:00:00     2018-01-30 19:18:27  "
      ]
     },
     "execution_count": 42,
     "metadata": {},
     "output_type": "execute_result"
    }
   ],
   "source": [
    "review_id_sem_repetir.loc[review_id_sem_repetir['order_id'] == '7845a2492ab1b4f2cf3d56c7b8da1446']"
   ]
  },
  {
   "cell_type": "markdown",
   "metadata": {},
   "source": [
    "#### Olhemos na tabela <font color=red>\"review_id_sem_repetir\"</font> um 2° 'order_id' (o que começa com '8ff' e termina com 'c79')"
   ]
  },
  {
   "cell_type": "code",
   "execution_count": 43,
   "metadata": {},
   "outputs": [
    {
     "data": {
      "text/html": [
       "<div>\n",
       "<style scoped>\n",
       "    .dataframe tbody tr th:only-of-type {\n",
       "        vertical-align: middle;\n",
       "    }\n",
       "\n",
       "    .dataframe tbody tr th {\n",
       "        vertical-align: top;\n",
       "    }\n",
       "\n",
       "    .dataframe thead th {\n",
       "        text-align: right;\n",
       "    }\n",
       "</style>\n",
       "<table border=\"1\" class=\"dataframe\">\n",
       "  <thead>\n",
       "    <tr style=\"text-align: right;\">\n",
       "      <th></th>\n",
       "      <th>review_id</th>\n",
       "      <th>order_id</th>\n",
       "      <th>review_score</th>\n",
       "      <th>review_comment_title</th>\n",
       "      <th>review_comment_message</th>\n",
       "      <th>review_creation_date</th>\n",
       "      <th>review_answer_timestamp</th>\n",
       "    </tr>\n",
       "  </thead>\n",
       "  <tbody>\n",
       "    <tr>\n",
       "      <th>12028</th>\n",
       "      <td>51863339d4ef48a47f43da8b1de705ff</td>\n",
       "      <td>8ff88873f03f1912c00741f8e5ae6c79</td>\n",
       "      <td>1</td>\n",
       "      <td>NaN</td>\n",
       "      <td>NaN</td>\n",
       "      <td>2018-02-21 00:00:00</td>\n",
       "      <td>2018-02-24 10:07:29</td>\n",
       "    </tr>\n",
       "    <tr>\n",
       "      <th>16041</th>\n",
       "      <td>d5bf42808fd0df2b766d5c8ece19b3b6</td>\n",
       "      <td>8ff88873f03f1912c00741f8e5ae6c79</td>\n",
       "      <td>5</td>\n",
       "      <td>NaN</td>\n",
       "      <td>NaN</td>\n",
       "      <td>2018-02-01 00:00:00</td>\n",
       "      <td>2018-02-05 18:51:59</td>\n",
       "    </tr>\n",
       "  </tbody>\n",
       "</table>\n",
       "</div>"
      ],
      "text/plain": [
       "                              review_id                          order_id  \\\n",
       "12028  51863339d4ef48a47f43da8b1de705ff  8ff88873f03f1912c00741f8e5ae6c79   \n",
       "16041  d5bf42808fd0df2b766d5c8ece19b3b6  8ff88873f03f1912c00741f8e5ae6c79   \n",
       "\n",
       "       review_score review_comment_title review_comment_message  \\\n",
       "12028             1                  NaN                    NaN   \n",
       "16041             5                  NaN                    NaN   \n",
       "\n",
       "      review_creation_date review_answer_timestamp  \n",
       "12028  2018-02-21 00:00:00     2018-02-24 10:07:29  \n",
       "16041  2018-02-01 00:00:00     2018-02-05 18:51:59  "
      ]
     },
     "execution_count": 43,
     "metadata": {},
     "output_type": "execute_result"
    }
   ],
   "source": [
    "review_id_sem_repetir.loc[review_id_sem_repetir['order_id'] == '8ff88873f03f1912c00741f8e5ae6c79']"
   ]
  },
  {
   "cell_type": "markdown",
   "metadata": {},
   "source": [
    "#### Olhemos na tabela <font color=red>\"review_id_sem_repetir\"</font> um 3° 'order_id' (o que começa com '23a' e termina com '9e9')"
   ]
  },
  {
   "cell_type": "code",
   "execution_count": 44,
   "metadata": {},
   "outputs": [
    {
     "data": {
      "text/html": [
       "<div>\n",
       "<style scoped>\n",
       "    .dataframe tbody tr th:only-of-type {\n",
       "        vertical-align: middle;\n",
       "    }\n",
       "\n",
       "    .dataframe tbody tr th {\n",
       "        vertical-align: top;\n",
       "    }\n",
       "\n",
       "    .dataframe thead th {\n",
       "        text-align: right;\n",
       "    }\n",
       "</style>\n",
       "<table border=\"1\" class=\"dataframe\">\n",
       "  <thead>\n",
       "    <tr style=\"text-align: right;\">\n",
       "      <th></th>\n",
       "      <th>review_id</th>\n",
       "      <th>order_id</th>\n",
       "      <th>review_score</th>\n",
       "      <th>review_comment_title</th>\n",
       "      <th>review_comment_message</th>\n",
       "      <th>review_creation_date</th>\n",
       "      <th>review_answer_timestamp</th>\n",
       "    </tr>\n",
       "  </thead>\n",
       "  <tbody>\n",
       "    <tr>\n",
       "      <th>8915</th>\n",
       "      <td>873a5bc219517a3b5cde7782127cd823</td>\n",
       "      <td>23a2d8b0357730d4f9c50aa48773e9e9</td>\n",
       "      <td>5</td>\n",
       "      <td>NaN</td>\n",
       "      <td>NaN</td>\n",
       "      <td>2018-04-06 00:00:00</td>\n",
       "      <td>2018-04-07 11:25:14</td>\n",
       "    </tr>\n",
       "    <tr>\n",
       "      <th>40703</th>\n",
       "      <td>29d02d3bf25077ca7e448c746bc85ec4</td>\n",
       "      <td>23a2d8b0357730d4f9c50aa48773e9e9</td>\n",
       "      <td>5</td>\n",
       "      <td>NaN</td>\n",
       "      <td>NaN</td>\n",
       "      <td>2018-03-22 00:00:00</td>\n",
       "      <td>2018-03-23 01:26:53</td>\n",
       "    </tr>\n",
       "  </tbody>\n",
       "</table>\n",
       "</div>"
      ],
      "text/plain": [
       "                              review_id                          order_id  \\\n",
       "8915   873a5bc219517a3b5cde7782127cd823  23a2d8b0357730d4f9c50aa48773e9e9   \n",
       "40703  29d02d3bf25077ca7e448c746bc85ec4  23a2d8b0357730d4f9c50aa48773e9e9   \n",
       "\n",
       "       review_score review_comment_title review_comment_message  \\\n",
       "8915              5                  NaN                    NaN   \n",
       "40703             5                  NaN                    NaN   \n",
       "\n",
       "      review_creation_date review_answer_timestamp  \n",
       "8915   2018-04-06 00:00:00     2018-04-07 11:25:14  \n",
       "40703  2018-03-22 00:00:00     2018-03-23 01:26:53  "
      ]
     },
     "execution_count": 44,
     "metadata": {},
     "output_type": "execute_result"
    }
   ],
   "source": [
    "review_id_sem_repetir.loc[review_id_sem_repetir['order_id'] == '23a2d8b0357730d4f9c50aa48773e9e9']"
   ]
  },
  {
   "cell_type": "markdown",
   "metadata": {},
   "source": [
    "#### Mesmo efeito nos três casos (um 'order_id' para dois 'review_id'). Não é necessariamente incongruência. Isso pode significar, por exemplo, que foram emitidos reviews para itens diferentes de um mesmo pedido. \n",
    "> Vamos ter de confirmar isso, checando o número de itens desses pedidos na tabela <font color=red>\"itens\"</font> (olist_order_items_dataset)."
   ]
  },
  {
   "cell_type": "markdown",
   "metadata": {},
   "source": [
    "## Importação da tabela <font color=red>\"itens\"</font>"
   ]
  },
  {
   "cell_type": "code",
   "execution_count": 45,
   "metadata": {},
   "outputs": [],
   "source": [
    "itens = pd.read_csv(\"olist_order_items_dataset.csv\", sep = ',')"
   ]
  },
  {
   "cell_type": "markdown",
   "metadata": {},
   "source": [
    "## Importação do Diagrama do relacionamento entre as tabelas <font color=red>\"orders\"</font> e <font color=red>\"itens\"</font>."
   ]
  },
  {
   "cell_type": "code",
   "execution_count": 46,
   "metadata": {},
   "outputs": [
    {
     "data": {
      "text/html": [
       "<img src=\"Order_itens and Orders.bmp\"/>"
      ],
      "text/plain": [
       "<IPython.core.display.Image object>"
      ]
     },
     "execution_count": 46,
     "metadata": {},
     "output_type": "execute_result"
    }
   ],
   "source": [
    "Image(url= \"Order_itens and Orders.bmp\")"
   ]
  },
  {
   "cell_type": "code",
   "execution_count": 47,
   "metadata": {},
   "outputs": [
    {
     "data": {
      "text/plain": [
       "(112650, 7)"
      ]
     },
     "execution_count": 47,
     "metadata": {},
     "output_type": "execute_result"
    }
   ],
   "source": [
    "itens.shape"
   ]
  },
  {
   "cell_type": "code",
   "execution_count": 48,
   "metadata": {},
   "outputs": [
    {
     "data": {
      "text/html": [
       "<div>\n",
       "<style scoped>\n",
       "    .dataframe tbody tr th:only-of-type {\n",
       "        vertical-align: middle;\n",
       "    }\n",
       "\n",
       "    .dataframe tbody tr th {\n",
       "        vertical-align: top;\n",
       "    }\n",
       "\n",
       "    .dataframe thead th {\n",
       "        text-align: right;\n",
       "    }\n",
       "</style>\n",
       "<table border=\"1\" class=\"dataframe\">\n",
       "  <thead>\n",
       "    <tr style=\"text-align: right;\">\n",
       "      <th></th>\n",
       "      <th>order_id</th>\n",
       "      <th>order_item_id</th>\n",
       "      <th>product_id</th>\n",
       "      <th>seller_id</th>\n",
       "      <th>shipping_limit_date</th>\n",
       "      <th>price</th>\n",
       "      <th>freight_value</th>\n",
       "    </tr>\n",
       "  </thead>\n",
       "  <tbody>\n",
       "    <tr>\n",
       "      <th>0</th>\n",
       "      <td>00010242fe8c5a6d1ba2dd792cb16214</td>\n",
       "      <td>1</td>\n",
       "      <td>4244733e06e7ecb4970a6e2683c13e61</td>\n",
       "      <td>48436dade18ac8b2bce089ec2a041202</td>\n",
       "      <td>2017-09-19 09:45:35</td>\n",
       "      <td>58.90</td>\n",
       "      <td>13.29</td>\n",
       "    </tr>\n",
       "    <tr>\n",
       "      <th>1</th>\n",
       "      <td>00018f77f2f0320c557190d7a144bdd3</td>\n",
       "      <td>1</td>\n",
       "      <td>e5f2d52b802189ee658865ca93d83a8f</td>\n",
       "      <td>dd7ddc04e1b6c2c614352b383efe2d36</td>\n",
       "      <td>2017-05-03 11:05:13</td>\n",
       "      <td>239.90</td>\n",
       "      <td>19.93</td>\n",
       "    </tr>\n",
       "    <tr>\n",
       "      <th>2</th>\n",
       "      <td>000229ec398224ef6ca0657da4fc703e</td>\n",
       "      <td>1</td>\n",
       "      <td>c777355d18b72b67abbeef9df44fd0fd</td>\n",
       "      <td>5b51032eddd242adc84c38acab88f23d</td>\n",
       "      <td>2018-01-18 14:48:30</td>\n",
       "      <td>199.00</td>\n",
       "      <td>17.87</td>\n",
       "    </tr>\n",
       "    <tr>\n",
       "      <th>3</th>\n",
       "      <td>00024acbcdf0a6daa1e931b038114c75</td>\n",
       "      <td>1</td>\n",
       "      <td>7634da152a4610f1595efa32f14722fc</td>\n",
       "      <td>9d7a1d34a5052409006425275ba1c2b4</td>\n",
       "      <td>2018-08-15 10:10:18</td>\n",
       "      <td>12.99</td>\n",
       "      <td>12.79</td>\n",
       "    </tr>\n",
       "    <tr>\n",
       "      <th>4</th>\n",
       "      <td>00042b26cf59d7ce69dfabb4e55b4fd9</td>\n",
       "      <td>1</td>\n",
       "      <td>ac6c3623068f30de03045865e4e10089</td>\n",
       "      <td>df560393f3a51e74553ab94004ba5c87</td>\n",
       "      <td>2017-02-13 13:57:51</td>\n",
       "      <td>199.90</td>\n",
       "      <td>18.14</td>\n",
       "    </tr>\n",
       "  </tbody>\n",
       "</table>\n",
       "</div>"
      ],
      "text/plain": [
       "                           order_id  order_item_id  \\\n",
       "0  00010242fe8c5a6d1ba2dd792cb16214              1   \n",
       "1  00018f77f2f0320c557190d7a144bdd3              1   \n",
       "2  000229ec398224ef6ca0657da4fc703e              1   \n",
       "3  00024acbcdf0a6daa1e931b038114c75              1   \n",
       "4  00042b26cf59d7ce69dfabb4e55b4fd9              1   \n",
       "\n",
       "                         product_id                         seller_id  \\\n",
       "0  4244733e06e7ecb4970a6e2683c13e61  48436dade18ac8b2bce089ec2a041202   \n",
       "1  e5f2d52b802189ee658865ca93d83a8f  dd7ddc04e1b6c2c614352b383efe2d36   \n",
       "2  c777355d18b72b67abbeef9df44fd0fd  5b51032eddd242adc84c38acab88f23d   \n",
       "3  7634da152a4610f1595efa32f14722fc  9d7a1d34a5052409006425275ba1c2b4   \n",
       "4  ac6c3623068f30de03045865e4e10089  df560393f3a51e74553ab94004ba5c87   \n",
       "\n",
       "   shipping_limit_date  price  freight_value  \n",
       "0  2017-09-19 09:45:35  58.90          13.29  \n",
       "1  2017-05-03 11:05:13 239.90          19.93  \n",
       "2  2018-01-18 14:48:30 199.00          17.87  \n",
       "3  2018-08-15 10:10:18  12.99          12.79  \n",
       "4  2017-02-13 13:57:51 199.90          18.14  "
      ]
     },
     "execution_count": 48,
     "metadata": {},
     "output_type": "execute_result"
    }
   ],
   "source": [
    "itens.head()"
   ]
  },
  {
   "cell_type": "markdown",
   "metadata": {},
   "source": [
    "#### 'order_id' com 2 reviews, obtido da tabela <font color=red>\"review_id_sem_repetir\"</font>. \n",
    ">Vamos checá-lo na tabela \"itens\""
   ]
  },
  {
   "cell_type": "code",
   "execution_count": 49,
   "metadata": {},
   "outputs": [
    {
     "data": {
      "text/html": [
       "<div>\n",
       "<style scoped>\n",
       "    .dataframe tbody tr th:only-of-type {\n",
       "        vertical-align: middle;\n",
       "    }\n",
       "\n",
       "    .dataframe tbody tr th {\n",
       "        vertical-align: top;\n",
       "    }\n",
       "\n",
       "    .dataframe thead th {\n",
       "        text-align: right;\n",
       "    }\n",
       "</style>\n",
       "<table border=\"1\" class=\"dataframe\">\n",
       "  <thead>\n",
       "    <tr style=\"text-align: right;\">\n",
       "      <th></th>\n",
       "      <th>order_id</th>\n",
       "      <th>order_item_id</th>\n",
       "      <th>product_id</th>\n",
       "      <th>seller_id</th>\n",
       "      <th>shipping_limit_date</th>\n",
       "      <th>price</th>\n",
       "      <th>freight_value</th>\n",
       "    </tr>\n",
       "  </thead>\n",
       "  <tbody>\n",
       "    <tr>\n",
       "      <th>52849</th>\n",
       "      <td>7845a2492ab1b4f2cf3d56c7b8da1446</td>\n",
       "      <td>1</td>\n",
       "      <td>16241e79b047426033194065d8b321b2</td>\n",
       "      <td>4830e40640734fc1c52cd21127c341d4</td>\n",
       "      <td>2018-01-24 12:56:40</td>\n",
       "      <td>29.99</td>\n",
       "      <td>14.10</td>\n",
       "    </tr>\n",
       "  </tbody>\n",
       "</table>\n",
       "</div>"
      ],
      "text/plain": [
       "                               order_id  order_item_id  \\\n",
       "52849  7845a2492ab1b4f2cf3d56c7b8da1446              1   \n",
       "\n",
       "                             product_id                         seller_id  \\\n",
       "52849  16241e79b047426033194065d8b321b2  4830e40640734fc1c52cd21127c341d4   \n",
       "\n",
       "       shipping_limit_date  price  freight_value  \n",
       "52849  2018-01-24 12:56:40  29.99          14.10  "
      ]
     },
     "execution_count": 49,
     "metadata": {},
     "output_type": "execute_result"
    }
   ],
   "source": [
    "itens.loc[itens['order_id'] == '7845a2492ab1b4f2cf3d56c7b8da1446']"
   ]
  },
  {
   "cell_type": "markdown",
   "metadata": {},
   "source": [
    "#### Só há 1 item. Então as duas instâncias na tabela \"reviews\" eram incongruências.  \n",
    "> Vamos testar outro 'order_id'"
   ]
  },
  {
   "cell_type": "code",
   "execution_count": 50,
   "metadata": {},
   "outputs": [
    {
     "data": {
      "text/html": [
       "<div>\n",
       "<style scoped>\n",
       "    .dataframe tbody tr th:only-of-type {\n",
       "        vertical-align: middle;\n",
       "    }\n",
       "\n",
       "    .dataframe tbody tr th {\n",
       "        vertical-align: top;\n",
       "    }\n",
       "\n",
       "    .dataframe thead th {\n",
       "        text-align: right;\n",
       "    }\n",
       "</style>\n",
       "<table border=\"1\" class=\"dataframe\">\n",
       "  <thead>\n",
       "    <tr style=\"text-align: right;\">\n",
       "      <th></th>\n",
       "      <th>order_id</th>\n",
       "      <th>order_item_id</th>\n",
       "      <th>product_id</th>\n",
       "      <th>seller_id</th>\n",
       "      <th>shipping_limit_date</th>\n",
       "      <th>price</th>\n",
       "      <th>freight_value</th>\n",
       "    </tr>\n",
       "  </thead>\n",
       "  <tbody>\n",
       "    <tr>\n",
       "      <th>63069</th>\n",
       "      <td>8ff88873f03f1912c00741f8e5ae6c79</td>\n",
       "      <td>1</td>\n",
       "      <td>75d6b6963340c6063f7f4cfcccfe6a30</td>\n",
       "      <td>cc419e0650a3c5ba77189a1882b7556a</td>\n",
       "      <td>2018-01-31 02:53:02</td>\n",
       "      <td>56.99</td>\n",
       "      <td>14.15</td>\n",
       "    </tr>\n",
       "  </tbody>\n",
       "</table>\n",
       "</div>"
      ],
      "text/plain": [
       "                               order_id  order_item_id  \\\n",
       "63069  8ff88873f03f1912c00741f8e5ae6c79              1   \n",
       "\n",
       "                             product_id                         seller_id  \\\n",
       "63069  75d6b6963340c6063f7f4cfcccfe6a30  cc419e0650a3c5ba77189a1882b7556a   \n",
       "\n",
       "       shipping_limit_date  price  freight_value  \n",
       "63069  2018-01-31 02:53:02  56.99          14.15  "
      ]
     },
     "execution_count": 50,
     "metadata": {},
     "output_type": "execute_result"
    }
   ],
   "source": [
    "# Outro 'order_id' com 2 reviews, obtido da tabela \"review_id_sem_repetir\". Selecionando-o na tabela \"itens\"\n",
    "itens.loc[itens['order_id'] == '8ff88873f03f1912c00741f8e5ae6c79']"
   ]
  },
  {
   "cell_type": "markdown",
   "metadata": {},
   "source": [
    "#### Mais uma vez, só há 1 item. Estranho.\n",
    "> Vamos ainda testar mais outro 'order_id'."
   ]
  },
  {
   "cell_type": "code",
   "execution_count": 51,
   "metadata": {},
   "outputs": [
    {
     "data": {
      "text/html": [
       "<div>\n",
       "<style scoped>\n",
       "    .dataframe tbody tr th:only-of-type {\n",
       "        vertical-align: middle;\n",
       "    }\n",
       "\n",
       "    .dataframe tbody tr th {\n",
       "        vertical-align: top;\n",
       "    }\n",
       "\n",
       "    .dataframe thead th {\n",
       "        text-align: right;\n",
       "    }\n",
       "</style>\n",
       "<table border=\"1\" class=\"dataframe\">\n",
       "  <thead>\n",
       "    <tr style=\"text-align: right;\">\n",
       "      <th></th>\n",
       "      <th>order_id</th>\n",
       "      <th>order_item_id</th>\n",
       "      <th>product_id</th>\n",
       "      <th>seller_id</th>\n",
       "      <th>shipping_limit_date</th>\n",
       "      <th>price</th>\n",
       "      <th>freight_value</th>\n",
       "    </tr>\n",
       "  </thead>\n",
       "  <tbody>\n",
       "    <tr>\n",
       "      <th>15598</th>\n",
       "      <td>23a2d8b0357730d4f9c50aa48773e9e9</td>\n",
       "      <td>1</td>\n",
       "      <td>b43ceb87eafb3eb7ceab88d9dd8645af</td>\n",
       "      <td>83f2b4881141ce3fcd4e985125d3279e</td>\n",
       "      <td>2018-03-23 15:08:04</td>\n",
       "      <td>34.90</td>\n",
       "      <td>12.79</td>\n",
       "    </tr>\n",
       "  </tbody>\n",
       "</table>\n",
       "</div>"
      ],
      "text/plain": [
       "                               order_id  order_item_id  \\\n",
       "15598  23a2d8b0357730d4f9c50aa48773e9e9              1   \n",
       "\n",
       "                             product_id                         seller_id  \\\n",
       "15598  b43ceb87eafb3eb7ceab88d9dd8645af  83f2b4881141ce3fcd4e985125d3279e   \n",
       "\n",
       "       shipping_limit_date  price  freight_value  \n",
       "15598  2018-03-23 15:08:04  34.90          12.79  "
      ]
     },
     "execution_count": 51,
     "metadata": {},
     "output_type": "execute_result"
    }
   ],
   "source": [
    "# E mais outro 'order_id' com 2 reviews, obtido da tabela \"review_id_sem_repetir\".\n",
    "itens.loc[itens['order_id'] == '23a2d8b0357730d4f9c50aa48773e9e9']"
   ]
  },
  {
   "cell_type": "markdown",
   "metadata": {},
   "source": [
    "#### Terceira vez em que só há 1 item. Amostragem desagradável que sugere o seguinte:\n",
    "> Era infundada a hipótese de que os 02 (dois) 'review_id' para a mesma 'order_id' (na tabela \"review_id_sem_repetir\") deviam-se a vários itens na mesma 'order_id'.\n",
    "\n",
    "> O que fazer com esta informação?\n",
    ">> Resposta: deletar os 'order_id' duplicados na tabela \"review_id_sem_repetir\"."
   ]
  },
  {
   "cell_type": "code",
   "execution_count": 52,
   "metadata": {},
   "outputs": [
    {
     "data": {
      "text/html": [
       "<img src=\"review_id_sem_repetir e orders.bmp\"/>"
      ],
      "text/plain": [
       "<IPython.core.display.Image object>"
      ]
     },
     "execution_count": 52,
     "metadata": {},
     "output_type": "execute_result"
    }
   ],
   "source": [
    "Image(url= \"review_id_sem_repetir e orders.bmp\")"
   ]
  },
  {
   "cell_type": "code",
   "execution_count": 53,
   "metadata": {},
   "outputs": [],
   "source": [
    "reviews_normalizada = review_id_sem_repetir.drop_duplicates (subset=['order_id']) # Será mantida a 1ª ocorrência."
   ]
  },
  {
   "cell_type": "code",
   "execution_count": 54,
   "metadata": {},
   "outputs": [
    {
     "name": "stdout",
     "output_type": "stream",
     "text": [
      "<class 'pandas.core.frame.DataFrame'>\n",
      "Int64Index: 98926 entries, 0 to 99999\n",
      "Data columns (total 7 columns):\n",
      "review_id                  98926 non-null object\n",
      "order_id                   98926 non-null object\n",
      "review_score               98926 non-null int64\n",
      "review_comment_title       11659 non-null object\n",
      "review_comment_message     41343 non-null object\n",
      "review_creation_date       98926 non-null object\n",
      "review_answer_timestamp    98926 non-null object\n",
      "dtypes: int64(1), object(6)\n",
      "memory usage: 6.0+ MB\n"
     ]
    }
   ],
   "source": [
    "reviews_normalizada.info()"
   ]
  },
  {
   "cell_type": "code",
   "execution_count": 55,
   "metadata": {},
   "outputs": [
    {
     "data": {
      "text/plain": [
       "(98926, 7)"
      ]
     },
     "execution_count": 55,
     "metadata": {},
     "output_type": "execute_result"
    }
   ],
   "source": [
    "reviews_normalizada.shape"
   ]
  },
  {
   "cell_type": "code",
   "execution_count": 56,
   "metadata": {},
   "outputs": [
    {
     "data": {
      "text/plain": [
       "98926"
      ]
     },
     "execution_count": 56,
     "metadata": {},
     "output_type": "execute_result"
    }
   ],
   "source": [
    "# Qtde de valores únicos de 'review_id'\n",
    "len(reviews_normalizada['review_id'].unique())"
   ]
  },
  {
   "cell_type": "code",
   "execution_count": 57,
   "metadata": {},
   "outputs": [
    {
     "data": {
      "text/plain": [
       "98926"
      ]
     },
     "execution_count": 57,
     "metadata": {},
     "output_type": "execute_result"
    }
   ],
   "source": [
    "# Qtde de valores únicos de 'order_id'\n",
    "len(reviews_normalizada['order_id'].unique())"
   ]
  },
  {
   "cell_type": "code",
   "execution_count": 58,
   "metadata": {},
   "outputs": [
    {
     "data": {
      "text/html": [
       "<img src=\"reviews_normalizada e orders.bmp\"/>"
      ],
      "text/plain": [
       "<IPython.core.display.Image object>"
      ]
     },
     "execution_count": 58,
     "metadata": {},
     "output_type": "execute_result"
    }
   ],
   "source": [
    "# Agora, com a supressão de duplicatas, tanto de 'review_id', quanto de 'order_id', a tabela \"reviews\" ficou normalizada.\n",
    "Image(url= \"reviews_normalizada e orders.bmp\")"
   ]
  },
  {
   "cell_type": "markdown",
   "metadata": {},
   "source": [
    "#### Agora:\n",
    "> 'review_id' é a chave primária da tabela \"reviews_normalizada\" (tabela da esquerda); e\n",
    "\n",
    "> 'order_id' é a chave primária da tabela \"orders\" (da direita).\n",
    "\n",
    "> Nem todas os pedidos recebem reviews \n",
    ">> n° de 'review_id' (de <font color=red>\"reviews_normalizada\"</font>) é menor que o n° de 'order_id' (de <font color=red>\"orders\"</font>)"
   ]
  },
  {
   "cell_type": "code",
   "execution_count": 59,
   "metadata": {},
   "outputs": [
    {
     "name": "stdout",
     "output_type": "stream",
     "text": [
      "515\n"
     ]
    }
   ],
   "source": [
    "# Número de orders que não têm reviews\n",
    "print(99441-98926)"
   ]
  },
  {
   "cell_type": "markdown",
   "metadata": {},
   "source": [
    "### Análise das 03 (três) tabelas conjuntamente"
   ]
  },
  {
   "cell_type": "markdown",
   "metadata": {},
   "source": [
    "#### Antes, porém, vamos complementar algumas informações da tabela \"itens\""
   ]
  },
  {
   "cell_type": "code",
   "execution_count": 60,
   "metadata": {},
   "outputs": [
    {
     "data": {
      "text/plain": [
       "98666"
      ]
     },
     "execution_count": 60,
     "metadata": {},
     "output_type": "execute_result"
    }
   ],
   "source": [
    "# Qtde de valores únicos de 'order_id'\n",
    "len(itens['order_id'].unique())"
   ]
  },
  {
   "cell_type": "code",
   "execution_count": 61,
   "metadata": {},
   "outputs": [
    {
     "data": {
      "text/plain": [
       "21"
      ]
     },
     "execution_count": 61,
     "metadata": {},
     "output_type": "execute_result"
    }
   ],
   "source": [
    "# Qtde de valores únicos de 'order_item_id'\n",
    "len(itens['order_item_id'].unique())"
   ]
  },
  {
   "cell_type": "code",
   "execution_count": 62,
   "metadata": {},
   "outputs": [
    {
     "data": {
      "text/plain": [
       "pandas.core.series.Series"
      ]
     },
     "execution_count": 62,
     "metadata": {},
     "output_type": "execute_result"
    }
   ],
   "source": [
    "type(itens['order_item_id'])"
   ]
  },
  {
   "cell_type": "code",
   "execution_count": 63,
   "metadata": {},
   "outputs": [
    {
     "data": {
      "text/plain": [
       "32951"
      ]
     },
     "execution_count": 63,
     "metadata": {},
     "output_type": "execute_result"
    }
   ],
   "source": [
    "# Qtde de valores únicos de 'product_id'\n",
    "len(itens['product_id'].unique())"
   ]
  },
  {
   "cell_type": "code",
   "execution_count": 64,
   "metadata": {},
   "outputs": [
    {
     "data": {
      "text/plain": [
       "3095"
      ]
     },
     "execution_count": 64,
     "metadata": {},
     "output_type": "execute_result"
    }
   ],
   "source": [
    "# Qtde de valores únicos de 'seller_id'\n",
    "len(itens['seller_id'].unique())"
   ]
  },
  {
   "cell_type": "code",
   "execution_count": 65,
   "metadata": {},
   "outputs": [
    {
     "data": {
      "text/html": [
       "<img src=\"Orders e Itens.bmp\"/>"
      ],
      "text/plain": [
       "<IPython.core.display.Image object>"
      ]
     },
     "execution_count": 65,
     "metadata": {},
     "output_type": "execute_result"
    }
   ],
   "source": [
    "Image(url= \"Orders e Itens.bmp\")"
   ]
  },
  {
   "cell_type": "markdown",
   "metadata": {},
   "source": [
    "#### Até agora estamos trabalhamos com as três tabelas abaixo"
   ]
  },
  {
   "cell_type": "code",
   "execution_count": 66,
   "metadata": {},
   "outputs": [
    {
     "data": {
      "text/html": [
       "<img src=\"tres tabelas.bmp\"/>"
      ],
      "text/plain": [
       "<IPython.core.display.Image object>"
      ]
     },
     "execution_count": 66,
     "metadata": {},
     "output_type": "execute_result"
    }
   ],
   "source": [
    "Image (url = \"tres tabelas.bmp\")"
   ]
  },
  {
   "cell_type": "markdown",
   "metadata": {},
   "source": [
    "#### Exploremos mais um pouco essa tabela <font color=red>\"itens\"</font>..."
   ]
  },
  {
   "cell_type": "code",
   "execution_count": 67,
   "metadata": {},
   "outputs": [
    {
     "data": {
      "text/plain": [
       "(112650, 7)"
      ]
     },
     "execution_count": 67,
     "metadata": {},
     "output_type": "execute_result"
    }
   ],
   "source": [
    "# Formato\n",
    "itens.shape"
   ]
  },
  {
   "cell_type": "code",
   "execution_count": 68,
   "metadata": {},
   "outputs": [
    {
     "data": {
      "text/plain": [
       "112650"
      ]
     },
     "execution_count": 68,
     "metadata": {},
     "output_type": "execute_result"
    }
   ],
   "source": [
    "# Qual a chave primária dela?\n",
    "# Vamos deletar duplicados da concatenação de 'order_id' com 'order_item_id' (Se não houver deleção, eis a chave primária)\n",
    "len(itens.drop_duplicates (subset=['order_id', 'order_item_id']))"
   ]
  },
  {
   "cell_type": "markdown",
   "metadata": {},
   "source": [
    "##### Bingo: a chave primária de <font color=red>\"itens\"</font> é a concatenação dos campos 'order_id' e 'order_item_id'"
   ]
  },
  {
   "cell_type": "code",
   "execution_count": 69,
   "metadata": {},
   "outputs": [
    {
     "data": {
      "text/plain": [
       "98666"
      ]
     },
     "execution_count": 69,
     "metadata": {},
     "output_type": "execute_result"
    }
   ],
   "source": [
    "# valores únicos\n",
    "len(itens['order_id'].unique())"
   ]
  },
  {
   "cell_type": "code",
   "execution_count": 70,
   "metadata": {},
   "outputs": [
    {
     "data": {
      "text/plain": [
       "21"
      ]
     },
     "execution_count": 70,
     "metadata": {},
     "output_type": "execute_result"
    }
   ],
   "source": [
    "# valores únicos\n",
    "len(itens['order_item_id'].unique())"
   ]
  },
  {
   "cell_type": "code",
   "execution_count": 71,
   "metadata": {},
   "outputs": [
    {
     "data": {
      "text/plain": [
       "98666"
      ]
     },
     "execution_count": 71,
     "metadata": {},
     "output_type": "execute_result"
    }
   ],
   "source": [
    "# valores únicos de modo mais simples\n",
    "itens['order_id'].nunique()"
   ]
  },
  {
   "cell_type": "code",
   "execution_count": 72,
   "metadata": {},
   "outputs": [
    {
     "data": {
      "text/plain": [
       "21"
      ]
     },
     "execution_count": 72,
     "metadata": {},
     "output_type": "execute_result"
    }
   ],
   "source": [
    "# valores únicos de modo mais simples\n",
    "itens['order_item_id'].nunique()"
   ]
  },
  {
   "cell_type": "code",
   "execution_count": 73,
   "metadata": {},
   "outputs": [
    {
     "data": {
      "text/html": [
       "<div>\n",
       "<style scoped>\n",
       "    .dataframe tbody tr th:only-of-type {\n",
       "        vertical-align: middle;\n",
       "    }\n",
       "\n",
       "    .dataframe tbody tr th {\n",
       "        vertical-align: top;\n",
       "    }\n",
       "\n",
       "    .dataframe thead th {\n",
       "        text-align: right;\n",
       "    }\n",
       "</style>\n",
       "<table border=\"1\" class=\"dataframe\">\n",
       "  <thead>\n",
       "    <tr style=\"text-align: right;\">\n",
       "      <th></th>\n",
       "      <th>order_id</th>\n",
       "    </tr>\n",
       "    <tr>\n",
       "      <th>order_item_id</th>\n",
       "      <th></th>\n",
       "    </tr>\n",
       "  </thead>\n",
       "  <tbody>\n",
       "    <tr>\n",
       "      <th>1</th>\n",
       "      <td>98666</td>\n",
       "    </tr>\n",
       "    <tr>\n",
       "      <th>2</th>\n",
       "      <td>9803</td>\n",
       "    </tr>\n",
       "    <tr>\n",
       "      <th>3</th>\n",
       "      <td>2287</td>\n",
       "    </tr>\n",
       "    <tr>\n",
       "      <th>4</th>\n",
       "      <td>965</td>\n",
       "    </tr>\n",
       "    <tr>\n",
       "      <th>5</th>\n",
       "      <td>460</td>\n",
       "    </tr>\n",
       "    <tr>\n",
       "      <th>6</th>\n",
       "      <td>256</td>\n",
       "    </tr>\n",
       "    <tr>\n",
       "      <th>7</th>\n",
       "      <td>58</td>\n",
       "    </tr>\n",
       "    <tr>\n",
       "      <th>8</th>\n",
       "      <td>36</td>\n",
       "    </tr>\n",
       "    <tr>\n",
       "      <th>9</th>\n",
       "      <td>28</td>\n",
       "    </tr>\n",
       "    <tr>\n",
       "      <th>10</th>\n",
       "      <td>25</td>\n",
       "    </tr>\n",
       "    <tr>\n",
       "      <th>11</th>\n",
       "      <td>17</td>\n",
       "    </tr>\n",
       "    <tr>\n",
       "      <th>12</th>\n",
       "      <td>13</td>\n",
       "    </tr>\n",
       "    <tr>\n",
       "      <th>13</th>\n",
       "      <td>8</td>\n",
       "    </tr>\n",
       "    <tr>\n",
       "      <th>14</th>\n",
       "      <td>7</td>\n",
       "    </tr>\n",
       "    <tr>\n",
       "      <th>15</th>\n",
       "      <td>5</td>\n",
       "    </tr>\n",
       "    <tr>\n",
       "      <th>16</th>\n",
       "      <td>3</td>\n",
       "    </tr>\n",
       "    <tr>\n",
       "      <th>17</th>\n",
       "      <td>3</td>\n",
       "    </tr>\n",
       "    <tr>\n",
       "      <th>18</th>\n",
       "      <td>3</td>\n",
       "    </tr>\n",
       "    <tr>\n",
       "      <th>19</th>\n",
       "      <td>3</td>\n",
       "    </tr>\n",
       "    <tr>\n",
       "      <th>20</th>\n",
       "      <td>3</td>\n",
       "    </tr>\n",
       "    <tr>\n",
       "      <th>21</th>\n",
       "      <td>1</td>\n",
       "    </tr>\n",
       "  </tbody>\n",
       "</table>\n",
       "</div>"
      ],
      "text/plain": [
       "               order_id\n",
       "order_item_id          \n",
       "1                 98666\n",
       "2                  9803\n",
       "3                  2287\n",
       "4                   965\n",
       "5                   460\n",
       "6                   256\n",
       "7                    58\n",
       "8                    36\n",
       "9                    28\n",
       "10                   25\n",
       "11                   17\n",
       "12                   13\n",
       "13                    8\n",
       "14                    7\n",
       "15                    5\n",
       "16                    3\n",
       "17                    3\n",
       "18                    3\n",
       "19                    3\n",
       "20                    3\n",
       "21                    1"
      ]
     },
     "execution_count": 73,
     "metadata": {},
     "output_type": "execute_result"
    }
   ],
   "source": [
    "# Como só há 21 (vinte e um) valores  de 'order_item_id', vamos agrupá-lo e contar 'order_id'\n",
    "Order_item_id_agrupados = itens.groupby('order_item_id')['order_id'].count()\n",
    "\n",
    "# vamos transformar em um Dataframe o Series resultante desse GroupBy \n",
    "df_Order_item_id_agrupados = pd.DataFrame(Order_item_id_agrupados)\n",
    "\n",
    "# Visualizemos qtos 'order_id' há em cada 'ordem_item_id'\n",
    "df_Order_item_id_agrupados"
   ]
  },
  {
   "cell_type": "markdown",
   "metadata": {},
   "source": [
    "#### Uáu! \n",
    "> 98.666 pedidos têm 1 item.  \n",
    "> Nos restantes, os clientes pediram mais de um produto.\n",
    ">> Por exemplo:\n",
    ">>> 17 pedidos ('order_id') têm 11 itens ;  \n",
    ">>> 5 pedidos têm 15 itens; (subentende-de 1 produto em cada item)    \n",
    ">>> 3 pedidos têm 19 itens;  \n",
    ">>> <font color=green>e somente 1 pedido têm 21 itens</font>    \n",
    "(caramba, esse cliente pediu muita coisa, hein? Que tal olhar esse pedido?"
   ]
  },
  {
   "cell_type": "code",
   "execution_count": 74,
   "metadata": {},
   "outputs": [
    {
     "data": {
      "text/plain": [
       "4"
      ]
     },
     "execution_count": 74,
     "metadata": {},
     "output_type": "execute_result"
    }
   ],
   "source": [
    "# Qtde de 'order_id' com mais de 19 itens.\n",
    "len(itens.loc[itens['order_item_id'] > 19])"
   ]
  },
  {
   "cell_type": "code",
   "execution_count": 75,
   "metadata": {},
   "outputs": [
    {
     "data": {
      "text/html": [
       "<div>\n",
       "<style scoped>\n",
       "    .dataframe tbody tr th:only-of-type {\n",
       "        vertical-align: middle;\n",
       "    }\n",
       "\n",
       "    .dataframe tbody tr th {\n",
       "        vertical-align: top;\n",
       "    }\n",
       "\n",
       "    .dataframe thead th {\n",
       "        text-align: right;\n",
       "    }\n",
       "</style>\n",
       "<table border=\"1\" class=\"dataframe\">\n",
       "  <thead>\n",
       "    <tr style=\"text-align: right;\">\n",
       "      <th></th>\n",
       "      <th>order_id</th>\n",
       "      <th>order_item_id</th>\n",
       "      <th>product_id</th>\n",
       "      <th>seller_id</th>\n",
       "      <th>shipping_limit_date</th>\n",
       "      <th>price</th>\n",
       "      <th>freight_value</th>\n",
       "    </tr>\n",
       "  </thead>\n",
       "  <tbody>\n",
       "    <tr>\n",
       "      <th>11951</th>\n",
       "      <td>1b15974a0141d54e36626dca3fdc731a</td>\n",
       "      <td>20</td>\n",
       "      <td>ee3d532c8a438679776d222e997606b3</td>\n",
       "      <td>8e6d7754bc7e0f22c96d255ebda59eba</td>\n",
       "      <td>2018-03-01 02:50:48</td>\n",
       "      <td>100.00</td>\n",
       "      <td>10.12</td>\n",
       "    </tr>\n",
       "    <tr>\n",
       "      <th>57316</th>\n",
       "      <td>8272b63d03f5f79c56e9e4120aec44ef</td>\n",
       "      <td>20</td>\n",
       "      <td>270516a3f41dc035aa87d220228f844c</td>\n",
       "      <td>2709af9587499e95e803a6498a5a56e9</td>\n",
       "      <td>2017-07-21 18:25:23</td>\n",
       "      <td>1.20</td>\n",
       "      <td>7.89</td>\n",
       "    </tr>\n",
       "    <tr>\n",
       "      <th>57317</th>\n",
       "      <td>8272b63d03f5f79c56e9e4120aec44ef</td>\n",
       "      <td>21</td>\n",
       "      <td>79ce45dbc2ea29b22b5a261bbb7b7ee7</td>\n",
       "      <td>2709af9587499e95e803a6498a5a56e9</td>\n",
       "      <td>2017-07-21 18:25:23</td>\n",
       "      <td>7.80</td>\n",
       "      <td>6.57</td>\n",
       "    </tr>\n",
       "    <tr>\n",
       "      <th>75122</th>\n",
       "      <td>ab14fdcfbe524636d65ee38360e22ce8</td>\n",
       "      <td>20</td>\n",
       "      <td>9571759451b1d780ee7c15012ea109d4</td>\n",
       "      <td>ce27a3cc3c8cc1ea79d11e561e9bebb6</td>\n",
       "      <td>2017-08-30 14:30:23</td>\n",
       "      <td>98.70</td>\n",
       "      <td>14.44</td>\n",
       "    </tr>\n",
       "  </tbody>\n",
       "</table>\n",
       "</div>"
      ],
      "text/plain": [
       "                               order_id  order_item_id  \\\n",
       "11951  1b15974a0141d54e36626dca3fdc731a             20   \n",
       "57316  8272b63d03f5f79c56e9e4120aec44ef             20   \n",
       "57317  8272b63d03f5f79c56e9e4120aec44ef             21   \n",
       "75122  ab14fdcfbe524636d65ee38360e22ce8             20   \n",
       "\n",
       "                             product_id                         seller_id  \\\n",
       "11951  ee3d532c8a438679776d222e997606b3  8e6d7754bc7e0f22c96d255ebda59eba   \n",
       "57316  270516a3f41dc035aa87d220228f844c  2709af9587499e95e803a6498a5a56e9   \n",
       "57317  79ce45dbc2ea29b22b5a261bbb7b7ee7  2709af9587499e95e803a6498a5a56e9   \n",
       "75122  9571759451b1d780ee7c15012ea109d4  ce27a3cc3c8cc1ea79d11e561e9bebb6   \n",
       "\n",
       "       shipping_limit_date  price  freight_value  \n",
       "11951  2018-03-01 02:50:48 100.00          10.12  \n",
       "57316  2017-07-21 18:25:23   1.20           7.89  \n",
       "57317  2017-07-21 18:25:23   7.80           6.57  \n",
       "75122  2017-08-30 14:30:23  98.70          14.44  "
      ]
     },
     "execution_count": 75,
     "metadata": {},
     "output_type": "execute_result"
    }
   ],
   "source": [
    "# Listagem dos 'order_id' com mais de 19 itens.\n",
    "itens.loc[itens['order_item_id'] > 19]"
   ]
  },
  {
   "cell_type": "code",
   "execution_count": 76,
   "metadata": {},
   "outputs": [
    {
     "data": {
      "text/html": [
       "<div>\n",
       "<style scoped>\n",
       "    .dataframe tbody tr th:only-of-type {\n",
       "        vertical-align: middle;\n",
       "    }\n",
       "\n",
       "    .dataframe tbody tr th {\n",
       "        vertical-align: top;\n",
       "    }\n",
       "\n",
       "    .dataframe thead th {\n",
       "        text-align: right;\n",
       "    }\n",
       "</style>\n",
       "<table border=\"1\" class=\"dataframe\">\n",
       "  <thead>\n",
       "    <tr style=\"text-align: right;\">\n",
       "      <th></th>\n",
       "      <th>order_id</th>\n",
       "      <th>order_item_id</th>\n",
       "      <th>product_id</th>\n",
       "      <th>seller_id</th>\n",
       "      <th>shipping_limit_date</th>\n",
       "      <th>price</th>\n",
       "      <th>freight_value</th>\n",
       "    </tr>\n",
       "  </thead>\n",
       "  <tbody>\n",
       "    <tr>\n",
       "      <th>57297</th>\n",
       "      <td>8272b63d03f5f79c56e9e4120aec44ef</td>\n",
       "      <td>1</td>\n",
       "      <td>270516a3f41dc035aa87d220228f844c</td>\n",
       "      <td>2709af9587499e95e803a6498a5a56e9</td>\n",
       "      <td>2017-07-21 18:25:23</td>\n",
       "      <td>1.20</td>\n",
       "      <td>7.89</td>\n",
       "    </tr>\n",
       "    <tr>\n",
       "      <th>57298</th>\n",
       "      <td>8272b63d03f5f79c56e9e4120aec44ef</td>\n",
       "      <td>2</td>\n",
       "      <td>05b515fdc76e888aada3c6d66c201dff</td>\n",
       "      <td>2709af9587499e95e803a6498a5a56e9</td>\n",
       "      <td>2017-07-21 18:25:23</td>\n",
       "      <td>1.20</td>\n",
       "      <td>7.89</td>\n",
       "    </tr>\n",
       "    <tr>\n",
       "      <th>57299</th>\n",
       "      <td>8272b63d03f5f79c56e9e4120aec44ef</td>\n",
       "      <td>3</td>\n",
       "      <td>05b515fdc76e888aada3c6d66c201dff</td>\n",
       "      <td>2709af9587499e95e803a6498a5a56e9</td>\n",
       "      <td>2017-07-21 18:25:23</td>\n",
       "      <td>1.20</td>\n",
       "      <td>7.89</td>\n",
       "    </tr>\n",
       "    <tr>\n",
       "      <th>57300</th>\n",
       "      <td>8272b63d03f5f79c56e9e4120aec44ef</td>\n",
       "      <td>4</td>\n",
       "      <td>05b515fdc76e888aada3c6d66c201dff</td>\n",
       "      <td>2709af9587499e95e803a6498a5a56e9</td>\n",
       "      <td>2017-07-21 18:25:23</td>\n",
       "      <td>1.20</td>\n",
       "      <td>7.89</td>\n",
       "    </tr>\n",
       "    <tr>\n",
       "      <th>57301</th>\n",
       "      <td>8272b63d03f5f79c56e9e4120aec44ef</td>\n",
       "      <td>5</td>\n",
       "      <td>05b515fdc76e888aada3c6d66c201dff</td>\n",
       "      <td>2709af9587499e95e803a6498a5a56e9</td>\n",
       "      <td>2017-07-21 18:25:23</td>\n",
       "      <td>1.20</td>\n",
       "      <td>7.89</td>\n",
       "    </tr>\n",
       "    <tr>\n",
       "      <th>57302</th>\n",
       "      <td>8272b63d03f5f79c56e9e4120aec44ef</td>\n",
       "      <td>6</td>\n",
       "      <td>05b515fdc76e888aada3c6d66c201dff</td>\n",
       "      <td>2709af9587499e95e803a6498a5a56e9</td>\n",
       "      <td>2017-07-21 18:25:23</td>\n",
       "      <td>1.20</td>\n",
       "      <td>7.89</td>\n",
       "    </tr>\n",
       "    <tr>\n",
       "      <th>57303</th>\n",
       "      <td>8272b63d03f5f79c56e9e4120aec44ef</td>\n",
       "      <td>7</td>\n",
       "      <td>05b515fdc76e888aada3c6d66c201dff</td>\n",
       "      <td>2709af9587499e95e803a6498a5a56e9</td>\n",
       "      <td>2017-07-21 18:25:23</td>\n",
       "      <td>1.20</td>\n",
       "      <td>7.89</td>\n",
       "    </tr>\n",
       "    <tr>\n",
       "      <th>57304</th>\n",
       "      <td>8272b63d03f5f79c56e9e4120aec44ef</td>\n",
       "      <td>8</td>\n",
       "      <td>05b515fdc76e888aada3c6d66c201dff</td>\n",
       "      <td>2709af9587499e95e803a6498a5a56e9</td>\n",
       "      <td>2017-07-21 18:25:23</td>\n",
       "      <td>1.20</td>\n",
       "      <td>7.89</td>\n",
       "    </tr>\n",
       "    <tr>\n",
       "      <th>57305</th>\n",
       "      <td>8272b63d03f5f79c56e9e4120aec44ef</td>\n",
       "      <td>9</td>\n",
       "      <td>05b515fdc76e888aada3c6d66c201dff</td>\n",
       "      <td>2709af9587499e95e803a6498a5a56e9</td>\n",
       "      <td>2017-07-21 18:25:23</td>\n",
       "      <td>1.20</td>\n",
       "      <td>7.89</td>\n",
       "    </tr>\n",
       "    <tr>\n",
       "      <th>57306</th>\n",
       "      <td>8272b63d03f5f79c56e9e4120aec44ef</td>\n",
       "      <td>10</td>\n",
       "      <td>05b515fdc76e888aada3c6d66c201dff</td>\n",
       "      <td>2709af9587499e95e803a6498a5a56e9</td>\n",
       "      <td>2017-07-21 18:25:23</td>\n",
       "      <td>1.20</td>\n",
       "      <td>7.89</td>\n",
       "    </tr>\n",
       "    <tr>\n",
       "      <th>57307</th>\n",
       "      <td>8272b63d03f5f79c56e9e4120aec44ef</td>\n",
       "      <td>11</td>\n",
       "      <td>05b515fdc76e888aada3c6d66c201dff</td>\n",
       "      <td>2709af9587499e95e803a6498a5a56e9</td>\n",
       "      <td>2017-07-21 18:25:23</td>\n",
       "      <td>1.20</td>\n",
       "      <td>7.89</td>\n",
       "    </tr>\n",
       "    <tr>\n",
       "      <th>57308</th>\n",
       "      <td>8272b63d03f5f79c56e9e4120aec44ef</td>\n",
       "      <td>12</td>\n",
       "      <td>270516a3f41dc035aa87d220228f844c</td>\n",
       "      <td>2709af9587499e95e803a6498a5a56e9</td>\n",
       "      <td>2017-07-21 18:25:23</td>\n",
       "      <td>1.20</td>\n",
       "      <td>7.89</td>\n",
       "    </tr>\n",
       "    <tr>\n",
       "      <th>57309</th>\n",
       "      <td>8272b63d03f5f79c56e9e4120aec44ef</td>\n",
       "      <td>13</td>\n",
       "      <td>270516a3f41dc035aa87d220228f844c</td>\n",
       "      <td>2709af9587499e95e803a6498a5a56e9</td>\n",
       "      <td>2017-07-21 18:25:23</td>\n",
       "      <td>1.20</td>\n",
       "      <td>7.89</td>\n",
       "    </tr>\n",
       "    <tr>\n",
       "      <th>57310</th>\n",
       "      <td>8272b63d03f5f79c56e9e4120aec44ef</td>\n",
       "      <td>14</td>\n",
       "      <td>270516a3f41dc035aa87d220228f844c</td>\n",
       "      <td>2709af9587499e95e803a6498a5a56e9</td>\n",
       "      <td>2017-07-21 18:25:23</td>\n",
       "      <td>1.20</td>\n",
       "      <td>7.89</td>\n",
       "    </tr>\n",
       "    <tr>\n",
       "      <th>57311</th>\n",
       "      <td>8272b63d03f5f79c56e9e4120aec44ef</td>\n",
       "      <td>15</td>\n",
       "      <td>270516a3f41dc035aa87d220228f844c</td>\n",
       "      <td>2709af9587499e95e803a6498a5a56e9</td>\n",
       "      <td>2017-07-21 18:25:23</td>\n",
       "      <td>1.20</td>\n",
       "      <td>7.89</td>\n",
       "    </tr>\n",
       "    <tr>\n",
       "      <th>57312</th>\n",
       "      <td>8272b63d03f5f79c56e9e4120aec44ef</td>\n",
       "      <td>16</td>\n",
       "      <td>270516a3f41dc035aa87d220228f844c</td>\n",
       "      <td>2709af9587499e95e803a6498a5a56e9</td>\n",
       "      <td>2017-07-21 18:25:23</td>\n",
       "      <td>1.20</td>\n",
       "      <td>7.89</td>\n",
       "    </tr>\n",
       "    <tr>\n",
       "      <th>57313</th>\n",
       "      <td>8272b63d03f5f79c56e9e4120aec44ef</td>\n",
       "      <td>17</td>\n",
       "      <td>270516a3f41dc035aa87d220228f844c</td>\n",
       "      <td>2709af9587499e95e803a6498a5a56e9</td>\n",
       "      <td>2017-07-21 18:25:23</td>\n",
       "      <td>1.20</td>\n",
       "      <td>7.89</td>\n",
       "    </tr>\n",
       "    <tr>\n",
       "      <th>57314</th>\n",
       "      <td>8272b63d03f5f79c56e9e4120aec44ef</td>\n",
       "      <td>18</td>\n",
       "      <td>270516a3f41dc035aa87d220228f844c</td>\n",
       "      <td>2709af9587499e95e803a6498a5a56e9</td>\n",
       "      <td>2017-07-21 18:25:23</td>\n",
       "      <td>1.20</td>\n",
       "      <td>7.89</td>\n",
       "    </tr>\n",
       "    <tr>\n",
       "      <th>57315</th>\n",
       "      <td>8272b63d03f5f79c56e9e4120aec44ef</td>\n",
       "      <td>19</td>\n",
       "      <td>270516a3f41dc035aa87d220228f844c</td>\n",
       "      <td>2709af9587499e95e803a6498a5a56e9</td>\n",
       "      <td>2017-07-21 18:25:23</td>\n",
       "      <td>1.20</td>\n",
       "      <td>7.89</td>\n",
       "    </tr>\n",
       "    <tr>\n",
       "      <th>57316</th>\n",
       "      <td>8272b63d03f5f79c56e9e4120aec44ef</td>\n",
       "      <td>20</td>\n",
       "      <td>270516a3f41dc035aa87d220228f844c</td>\n",
       "      <td>2709af9587499e95e803a6498a5a56e9</td>\n",
       "      <td>2017-07-21 18:25:23</td>\n",
       "      <td>1.20</td>\n",
       "      <td>7.89</td>\n",
       "    </tr>\n",
       "    <tr>\n",
       "      <th>57317</th>\n",
       "      <td>8272b63d03f5f79c56e9e4120aec44ef</td>\n",
       "      <td>21</td>\n",
       "      <td>79ce45dbc2ea29b22b5a261bbb7b7ee7</td>\n",
       "      <td>2709af9587499e95e803a6498a5a56e9</td>\n",
       "      <td>2017-07-21 18:25:23</td>\n",
       "      <td>7.80</td>\n",
       "      <td>6.57</td>\n",
       "    </tr>\n",
       "  </tbody>\n",
       "</table>\n",
       "</div>"
      ],
      "text/plain": [
       "                               order_id  order_item_id  \\\n",
       "57297  8272b63d03f5f79c56e9e4120aec44ef              1   \n",
       "57298  8272b63d03f5f79c56e9e4120aec44ef              2   \n",
       "57299  8272b63d03f5f79c56e9e4120aec44ef              3   \n",
       "57300  8272b63d03f5f79c56e9e4120aec44ef              4   \n",
       "57301  8272b63d03f5f79c56e9e4120aec44ef              5   \n",
       "57302  8272b63d03f5f79c56e9e4120aec44ef              6   \n",
       "57303  8272b63d03f5f79c56e9e4120aec44ef              7   \n",
       "57304  8272b63d03f5f79c56e9e4120aec44ef              8   \n",
       "57305  8272b63d03f5f79c56e9e4120aec44ef              9   \n",
       "57306  8272b63d03f5f79c56e9e4120aec44ef             10   \n",
       "57307  8272b63d03f5f79c56e9e4120aec44ef             11   \n",
       "57308  8272b63d03f5f79c56e9e4120aec44ef             12   \n",
       "57309  8272b63d03f5f79c56e9e4120aec44ef             13   \n",
       "57310  8272b63d03f5f79c56e9e4120aec44ef             14   \n",
       "57311  8272b63d03f5f79c56e9e4120aec44ef             15   \n",
       "57312  8272b63d03f5f79c56e9e4120aec44ef             16   \n",
       "57313  8272b63d03f5f79c56e9e4120aec44ef             17   \n",
       "57314  8272b63d03f5f79c56e9e4120aec44ef             18   \n",
       "57315  8272b63d03f5f79c56e9e4120aec44ef             19   \n",
       "57316  8272b63d03f5f79c56e9e4120aec44ef             20   \n",
       "57317  8272b63d03f5f79c56e9e4120aec44ef             21   \n",
       "\n",
       "                             product_id                         seller_id  \\\n",
       "57297  270516a3f41dc035aa87d220228f844c  2709af9587499e95e803a6498a5a56e9   \n",
       "57298  05b515fdc76e888aada3c6d66c201dff  2709af9587499e95e803a6498a5a56e9   \n",
       "57299  05b515fdc76e888aada3c6d66c201dff  2709af9587499e95e803a6498a5a56e9   \n",
       "57300  05b515fdc76e888aada3c6d66c201dff  2709af9587499e95e803a6498a5a56e9   \n",
       "57301  05b515fdc76e888aada3c6d66c201dff  2709af9587499e95e803a6498a5a56e9   \n",
       "57302  05b515fdc76e888aada3c6d66c201dff  2709af9587499e95e803a6498a5a56e9   \n",
       "57303  05b515fdc76e888aada3c6d66c201dff  2709af9587499e95e803a6498a5a56e9   \n",
       "57304  05b515fdc76e888aada3c6d66c201dff  2709af9587499e95e803a6498a5a56e9   \n",
       "57305  05b515fdc76e888aada3c6d66c201dff  2709af9587499e95e803a6498a5a56e9   \n",
       "57306  05b515fdc76e888aada3c6d66c201dff  2709af9587499e95e803a6498a5a56e9   \n",
       "57307  05b515fdc76e888aada3c6d66c201dff  2709af9587499e95e803a6498a5a56e9   \n",
       "57308  270516a3f41dc035aa87d220228f844c  2709af9587499e95e803a6498a5a56e9   \n",
       "57309  270516a3f41dc035aa87d220228f844c  2709af9587499e95e803a6498a5a56e9   \n",
       "57310  270516a3f41dc035aa87d220228f844c  2709af9587499e95e803a6498a5a56e9   \n",
       "57311  270516a3f41dc035aa87d220228f844c  2709af9587499e95e803a6498a5a56e9   \n",
       "57312  270516a3f41dc035aa87d220228f844c  2709af9587499e95e803a6498a5a56e9   \n",
       "57313  270516a3f41dc035aa87d220228f844c  2709af9587499e95e803a6498a5a56e9   \n",
       "57314  270516a3f41dc035aa87d220228f844c  2709af9587499e95e803a6498a5a56e9   \n",
       "57315  270516a3f41dc035aa87d220228f844c  2709af9587499e95e803a6498a5a56e9   \n",
       "57316  270516a3f41dc035aa87d220228f844c  2709af9587499e95e803a6498a5a56e9   \n",
       "57317  79ce45dbc2ea29b22b5a261bbb7b7ee7  2709af9587499e95e803a6498a5a56e9   \n",
       "\n",
       "       shipping_limit_date  price  freight_value  \n",
       "57297  2017-07-21 18:25:23   1.20           7.89  \n",
       "57298  2017-07-21 18:25:23   1.20           7.89  \n",
       "57299  2017-07-21 18:25:23   1.20           7.89  \n",
       "57300  2017-07-21 18:25:23   1.20           7.89  \n",
       "57301  2017-07-21 18:25:23   1.20           7.89  \n",
       "57302  2017-07-21 18:25:23   1.20           7.89  \n",
       "57303  2017-07-21 18:25:23   1.20           7.89  \n",
       "57304  2017-07-21 18:25:23   1.20           7.89  \n",
       "57305  2017-07-21 18:25:23   1.20           7.89  \n",
       "57306  2017-07-21 18:25:23   1.20           7.89  \n",
       "57307  2017-07-21 18:25:23   1.20           7.89  \n",
       "57308  2017-07-21 18:25:23   1.20           7.89  \n",
       "57309  2017-07-21 18:25:23   1.20           7.89  \n",
       "57310  2017-07-21 18:25:23   1.20           7.89  \n",
       "57311  2017-07-21 18:25:23   1.20           7.89  \n",
       "57312  2017-07-21 18:25:23   1.20           7.89  \n",
       "57313  2017-07-21 18:25:23   1.20           7.89  \n",
       "57314  2017-07-21 18:25:23   1.20           7.89  \n",
       "57315  2017-07-21 18:25:23   1.20           7.89  \n",
       "57316  2017-07-21 18:25:23   1.20           7.89  \n",
       "57317  2017-07-21 18:25:23   7.80           6.57  "
      ]
     },
     "execution_count": 76,
     "metadata": {},
     "output_type": "execute_result"
    }
   ],
   "source": [
    "# Listagem do 'order_id' que tem 21 itens (obtido acima)\n",
    "itens.loc[itens['order_id'] == '8272b63d03f5f79c56e9e4120aec44ef']"
   ]
  },
  {
   "cell_type": "markdown",
   "metadata": {},
   "source": [
    "#### Análise das informações obtidas acima: \n",
    "> 1. Os registros estão em sequência (index 57297 a 57317);\n",
    "2. O campo 'order_id' tem sempre o mesmo valor;\n",
    "3. O campo 'order_item_id' vai de 1 a 21 (já que pedimos exatamento isso);\n",
    "4. O campo 'product_id' DEVERIA ter valores diferentes...\n",
    ">> Mas\n",
    ">>> Têm o mesmo valor os itens 1 e 12 a 20;   \n",
    "Têm o mesmo valor, e distinto do anterior, os itens 2 a 11.    \n",
    "O item 21 tem um 3° valor distinto.    \n",
    "\n",
    "\n",
    "> 5. O campo 'seller_id' tem o mesmo valor\n",
    ">> É normal.\n",
    "6. O campo 'shipping_limit_date' tem o mesmo valor\n",
    ">> É normal, já que o vendedor é o mesmo para os 21 itens do pedido.\n",
    "7. O campo 'price' tem o mesmo valor, exceto pelo item 21. \n",
    "8. O campo 'freight_value' tem o mesmo valor, exceto pelo item 21.\n",
    "\n",
    "#### Portanto: \n",
    "> 1. O item 4 acima <font color=red>NÃO</font> é normal!\n",
    ">> Onde já se viu o cliente pedir várias vezes o mesmo produto em um mesmo pedido?\n",
    "2. Essa é mais uma falha de carregamento do banco de dados.\n",
    "\n",
    "#### Decisão:\n",
    "> Vamos investigar mais um 'order_id' de múltiplos itens."
   ]
  },
  {
   "cell_type": "code",
   "execution_count": 77,
   "metadata": {},
   "outputs": [
    {
     "data": {
      "text/html": [
       "<div>\n",
       "<style scoped>\n",
       "    .dataframe tbody tr th:only-of-type {\n",
       "        vertical-align: middle;\n",
       "    }\n",
       "\n",
       "    .dataframe tbody tr th {\n",
       "        vertical-align: top;\n",
       "    }\n",
       "\n",
       "    .dataframe thead th {\n",
       "        text-align: right;\n",
       "    }\n",
       "</style>\n",
       "<table border=\"1\" class=\"dataframe\">\n",
       "  <thead>\n",
       "    <tr style=\"text-align: right;\">\n",
       "      <th></th>\n",
       "      <th>order_id</th>\n",
       "      <th>order_item_id</th>\n",
       "      <th>product_id</th>\n",
       "      <th>seller_id</th>\n",
       "      <th>shipping_limit_date</th>\n",
       "      <th>price</th>\n",
       "      <th>freight_value</th>\n",
       "    </tr>\n",
       "  </thead>\n",
       "  <tbody>\n",
       "    <tr>\n",
       "      <th>75103</th>\n",
       "      <td>ab14fdcfbe524636d65ee38360e22ce8</td>\n",
       "      <td>1</td>\n",
       "      <td>9571759451b1d780ee7c15012ea109d4</td>\n",
       "      <td>ce27a3cc3c8cc1ea79d11e561e9bebb6</td>\n",
       "      <td>2017-08-30 14:30:23</td>\n",
       "      <td>98.70</td>\n",
       "      <td>14.44</td>\n",
       "    </tr>\n",
       "    <tr>\n",
       "      <th>75104</th>\n",
       "      <td>ab14fdcfbe524636d65ee38360e22ce8</td>\n",
       "      <td>2</td>\n",
       "      <td>9571759451b1d780ee7c15012ea109d4</td>\n",
       "      <td>ce27a3cc3c8cc1ea79d11e561e9bebb6</td>\n",
       "      <td>2017-08-30 14:30:23</td>\n",
       "      <td>98.70</td>\n",
       "      <td>14.44</td>\n",
       "    </tr>\n",
       "    <tr>\n",
       "      <th>75105</th>\n",
       "      <td>ab14fdcfbe524636d65ee38360e22ce8</td>\n",
       "      <td>3</td>\n",
       "      <td>9571759451b1d780ee7c15012ea109d4</td>\n",
       "      <td>ce27a3cc3c8cc1ea79d11e561e9bebb6</td>\n",
       "      <td>2017-08-30 14:30:23</td>\n",
       "      <td>98.70</td>\n",
       "      <td>14.44</td>\n",
       "    </tr>\n",
       "    <tr>\n",
       "      <th>75106</th>\n",
       "      <td>ab14fdcfbe524636d65ee38360e22ce8</td>\n",
       "      <td>4</td>\n",
       "      <td>9571759451b1d780ee7c15012ea109d4</td>\n",
       "      <td>ce27a3cc3c8cc1ea79d11e561e9bebb6</td>\n",
       "      <td>2017-08-30 14:30:23</td>\n",
       "      <td>98.70</td>\n",
       "      <td>14.44</td>\n",
       "    </tr>\n",
       "    <tr>\n",
       "      <th>75107</th>\n",
       "      <td>ab14fdcfbe524636d65ee38360e22ce8</td>\n",
       "      <td>5</td>\n",
       "      <td>9571759451b1d780ee7c15012ea109d4</td>\n",
       "      <td>ce27a3cc3c8cc1ea79d11e561e9bebb6</td>\n",
       "      <td>2017-08-30 14:30:23</td>\n",
       "      <td>98.70</td>\n",
       "      <td>14.44</td>\n",
       "    </tr>\n",
       "    <tr>\n",
       "      <th>75108</th>\n",
       "      <td>ab14fdcfbe524636d65ee38360e22ce8</td>\n",
       "      <td>6</td>\n",
       "      <td>9571759451b1d780ee7c15012ea109d4</td>\n",
       "      <td>ce27a3cc3c8cc1ea79d11e561e9bebb6</td>\n",
       "      <td>2017-08-30 14:30:23</td>\n",
       "      <td>98.70</td>\n",
       "      <td>14.44</td>\n",
       "    </tr>\n",
       "    <tr>\n",
       "      <th>75109</th>\n",
       "      <td>ab14fdcfbe524636d65ee38360e22ce8</td>\n",
       "      <td>7</td>\n",
       "      <td>9571759451b1d780ee7c15012ea109d4</td>\n",
       "      <td>ce27a3cc3c8cc1ea79d11e561e9bebb6</td>\n",
       "      <td>2017-08-30 14:30:23</td>\n",
       "      <td>98.70</td>\n",
       "      <td>14.44</td>\n",
       "    </tr>\n",
       "    <tr>\n",
       "      <th>75110</th>\n",
       "      <td>ab14fdcfbe524636d65ee38360e22ce8</td>\n",
       "      <td>8</td>\n",
       "      <td>9571759451b1d780ee7c15012ea109d4</td>\n",
       "      <td>ce27a3cc3c8cc1ea79d11e561e9bebb6</td>\n",
       "      <td>2017-08-30 14:30:23</td>\n",
       "      <td>98.70</td>\n",
       "      <td>14.44</td>\n",
       "    </tr>\n",
       "    <tr>\n",
       "      <th>75111</th>\n",
       "      <td>ab14fdcfbe524636d65ee38360e22ce8</td>\n",
       "      <td>9</td>\n",
       "      <td>9571759451b1d780ee7c15012ea109d4</td>\n",
       "      <td>ce27a3cc3c8cc1ea79d11e561e9bebb6</td>\n",
       "      <td>2017-08-30 14:30:23</td>\n",
       "      <td>98.70</td>\n",
       "      <td>14.44</td>\n",
       "    </tr>\n",
       "    <tr>\n",
       "      <th>75112</th>\n",
       "      <td>ab14fdcfbe524636d65ee38360e22ce8</td>\n",
       "      <td>10</td>\n",
       "      <td>9571759451b1d780ee7c15012ea109d4</td>\n",
       "      <td>ce27a3cc3c8cc1ea79d11e561e9bebb6</td>\n",
       "      <td>2017-08-30 14:30:23</td>\n",
       "      <td>98.70</td>\n",
       "      <td>14.44</td>\n",
       "    </tr>\n",
       "    <tr>\n",
       "      <th>75113</th>\n",
       "      <td>ab14fdcfbe524636d65ee38360e22ce8</td>\n",
       "      <td>11</td>\n",
       "      <td>9571759451b1d780ee7c15012ea109d4</td>\n",
       "      <td>ce27a3cc3c8cc1ea79d11e561e9bebb6</td>\n",
       "      <td>2017-08-30 14:30:23</td>\n",
       "      <td>98.70</td>\n",
       "      <td>14.44</td>\n",
       "    </tr>\n",
       "    <tr>\n",
       "      <th>75114</th>\n",
       "      <td>ab14fdcfbe524636d65ee38360e22ce8</td>\n",
       "      <td>12</td>\n",
       "      <td>9571759451b1d780ee7c15012ea109d4</td>\n",
       "      <td>ce27a3cc3c8cc1ea79d11e561e9bebb6</td>\n",
       "      <td>2017-08-30 14:30:23</td>\n",
       "      <td>98.70</td>\n",
       "      <td>14.44</td>\n",
       "    </tr>\n",
       "    <tr>\n",
       "      <th>75115</th>\n",
       "      <td>ab14fdcfbe524636d65ee38360e22ce8</td>\n",
       "      <td>13</td>\n",
       "      <td>9571759451b1d780ee7c15012ea109d4</td>\n",
       "      <td>ce27a3cc3c8cc1ea79d11e561e9bebb6</td>\n",
       "      <td>2017-08-30 14:30:23</td>\n",
       "      <td>98.70</td>\n",
       "      <td>14.44</td>\n",
       "    </tr>\n",
       "    <tr>\n",
       "      <th>75116</th>\n",
       "      <td>ab14fdcfbe524636d65ee38360e22ce8</td>\n",
       "      <td>14</td>\n",
       "      <td>9571759451b1d780ee7c15012ea109d4</td>\n",
       "      <td>ce27a3cc3c8cc1ea79d11e561e9bebb6</td>\n",
       "      <td>2017-08-30 14:30:23</td>\n",
       "      <td>98.70</td>\n",
       "      <td>14.44</td>\n",
       "    </tr>\n",
       "    <tr>\n",
       "      <th>75117</th>\n",
       "      <td>ab14fdcfbe524636d65ee38360e22ce8</td>\n",
       "      <td>15</td>\n",
       "      <td>9571759451b1d780ee7c15012ea109d4</td>\n",
       "      <td>ce27a3cc3c8cc1ea79d11e561e9bebb6</td>\n",
       "      <td>2017-08-30 14:30:23</td>\n",
       "      <td>98.70</td>\n",
       "      <td>14.44</td>\n",
       "    </tr>\n",
       "    <tr>\n",
       "      <th>75118</th>\n",
       "      <td>ab14fdcfbe524636d65ee38360e22ce8</td>\n",
       "      <td>16</td>\n",
       "      <td>9571759451b1d780ee7c15012ea109d4</td>\n",
       "      <td>ce27a3cc3c8cc1ea79d11e561e9bebb6</td>\n",
       "      <td>2017-08-30 14:30:23</td>\n",
       "      <td>98.70</td>\n",
       "      <td>14.44</td>\n",
       "    </tr>\n",
       "    <tr>\n",
       "      <th>75119</th>\n",
       "      <td>ab14fdcfbe524636d65ee38360e22ce8</td>\n",
       "      <td>17</td>\n",
       "      <td>9571759451b1d780ee7c15012ea109d4</td>\n",
       "      <td>ce27a3cc3c8cc1ea79d11e561e9bebb6</td>\n",
       "      <td>2017-08-30 14:30:23</td>\n",
       "      <td>98.70</td>\n",
       "      <td>14.44</td>\n",
       "    </tr>\n",
       "    <tr>\n",
       "      <th>75120</th>\n",
       "      <td>ab14fdcfbe524636d65ee38360e22ce8</td>\n",
       "      <td>18</td>\n",
       "      <td>9571759451b1d780ee7c15012ea109d4</td>\n",
       "      <td>ce27a3cc3c8cc1ea79d11e561e9bebb6</td>\n",
       "      <td>2017-08-30 14:30:23</td>\n",
       "      <td>98.70</td>\n",
       "      <td>14.44</td>\n",
       "    </tr>\n",
       "    <tr>\n",
       "      <th>75121</th>\n",
       "      <td>ab14fdcfbe524636d65ee38360e22ce8</td>\n",
       "      <td>19</td>\n",
       "      <td>9571759451b1d780ee7c15012ea109d4</td>\n",
       "      <td>ce27a3cc3c8cc1ea79d11e561e9bebb6</td>\n",
       "      <td>2017-08-30 14:30:23</td>\n",
       "      <td>98.70</td>\n",
       "      <td>14.44</td>\n",
       "    </tr>\n",
       "    <tr>\n",
       "      <th>75122</th>\n",
       "      <td>ab14fdcfbe524636d65ee38360e22ce8</td>\n",
       "      <td>20</td>\n",
       "      <td>9571759451b1d780ee7c15012ea109d4</td>\n",
       "      <td>ce27a3cc3c8cc1ea79d11e561e9bebb6</td>\n",
       "      <td>2017-08-30 14:30:23</td>\n",
       "      <td>98.70</td>\n",
       "      <td>14.44</td>\n",
       "    </tr>\n",
       "  </tbody>\n",
       "</table>\n",
       "</div>"
      ],
      "text/plain": [
       "                               order_id  order_item_id  \\\n",
       "75103  ab14fdcfbe524636d65ee38360e22ce8              1   \n",
       "75104  ab14fdcfbe524636d65ee38360e22ce8              2   \n",
       "75105  ab14fdcfbe524636d65ee38360e22ce8              3   \n",
       "75106  ab14fdcfbe524636d65ee38360e22ce8              4   \n",
       "75107  ab14fdcfbe524636d65ee38360e22ce8              5   \n",
       "75108  ab14fdcfbe524636d65ee38360e22ce8              6   \n",
       "75109  ab14fdcfbe524636d65ee38360e22ce8              7   \n",
       "75110  ab14fdcfbe524636d65ee38360e22ce8              8   \n",
       "75111  ab14fdcfbe524636d65ee38360e22ce8              9   \n",
       "75112  ab14fdcfbe524636d65ee38360e22ce8             10   \n",
       "75113  ab14fdcfbe524636d65ee38360e22ce8             11   \n",
       "75114  ab14fdcfbe524636d65ee38360e22ce8             12   \n",
       "75115  ab14fdcfbe524636d65ee38360e22ce8             13   \n",
       "75116  ab14fdcfbe524636d65ee38360e22ce8             14   \n",
       "75117  ab14fdcfbe524636d65ee38360e22ce8             15   \n",
       "75118  ab14fdcfbe524636d65ee38360e22ce8             16   \n",
       "75119  ab14fdcfbe524636d65ee38360e22ce8             17   \n",
       "75120  ab14fdcfbe524636d65ee38360e22ce8             18   \n",
       "75121  ab14fdcfbe524636d65ee38360e22ce8             19   \n",
       "75122  ab14fdcfbe524636d65ee38360e22ce8             20   \n",
       "\n",
       "                             product_id                         seller_id  \\\n",
       "75103  9571759451b1d780ee7c15012ea109d4  ce27a3cc3c8cc1ea79d11e561e9bebb6   \n",
       "75104  9571759451b1d780ee7c15012ea109d4  ce27a3cc3c8cc1ea79d11e561e9bebb6   \n",
       "75105  9571759451b1d780ee7c15012ea109d4  ce27a3cc3c8cc1ea79d11e561e9bebb6   \n",
       "75106  9571759451b1d780ee7c15012ea109d4  ce27a3cc3c8cc1ea79d11e561e9bebb6   \n",
       "75107  9571759451b1d780ee7c15012ea109d4  ce27a3cc3c8cc1ea79d11e561e9bebb6   \n",
       "75108  9571759451b1d780ee7c15012ea109d4  ce27a3cc3c8cc1ea79d11e561e9bebb6   \n",
       "75109  9571759451b1d780ee7c15012ea109d4  ce27a3cc3c8cc1ea79d11e561e9bebb6   \n",
       "75110  9571759451b1d780ee7c15012ea109d4  ce27a3cc3c8cc1ea79d11e561e9bebb6   \n",
       "75111  9571759451b1d780ee7c15012ea109d4  ce27a3cc3c8cc1ea79d11e561e9bebb6   \n",
       "75112  9571759451b1d780ee7c15012ea109d4  ce27a3cc3c8cc1ea79d11e561e9bebb6   \n",
       "75113  9571759451b1d780ee7c15012ea109d4  ce27a3cc3c8cc1ea79d11e561e9bebb6   \n",
       "75114  9571759451b1d780ee7c15012ea109d4  ce27a3cc3c8cc1ea79d11e561e9bebb6   \n",
       "75115  9571759451b1d780ee7c15012ea109d4  ce27a3cc3c8cc1ea79d11e561e9bebb6   \n",
       "75116  9571759451b1d780ee7c15012ea109d4  ce27a3cc3c8cc1ea79d11e561e9bebb6   \n",
       "75117  9571759451b1d780ee7c15012ea109d4  ce27a3cc3c8cc1ea79d11e561e9bebb6   \n",
       "75118  9571759451b1d780ee7c15012ea109d4  ce27a3cc3c8cc1ea79d11e561e9bebb6   \n",
       "75119  9571759451b1d780ee7c15012ea109d4  ce27a3cc3c8cc1ea79d11e561e9bebb6   \n",
       "75120  9571759451b1d780ee7c15012ea109d4  ce27a3cc3c8cc1ea79d11e561e9bebb6   \n",
       "75121  9571759451b1d780ee7c15012ea109d4  ce27a3cc3c8cc1ea79d11e561e9bebb6   \n",
       "75122  9571759451b1d780ee7c15012ea109d4  ce27a3cc3c8cc1ea79d11e561e9bebb6   \n",
       "\n",
       "       shipping_limit_date  price  freight_value  \n",
       "75103  2017-08-30 14:30:23  98.70          14.44  \n",
       "75104  2017-08-30 14:30:23  98.70          14.44  \n",
       "75105  2017-08-30 14:30:23  98.70          14.44  \n",
       "75106  2017-08-30 14:30:23  98.70          14.44  \n",
       "75107  2017-08-30 14:30:23  98.70          14.44  \n",
       "75108  2017-08-30 14:30:23  98.70          14.44  \n",
       "75109  2017-08-30 14:30:23  98.70          14.44  \n",
       "75110  2017-08-30 14:30:23  98.70          14.44  \n",
       "75111  2017-08-30 14:30:23  98.70          14.44  \n",
       "75112  2017-08-30 14:30:23  98.70          14.44  \n",
       "75113  2017-08-30 14:30:23  98.70          14.44  \n",
       "75114  2017-08-30 14:30:23  98.70          14.44  \n",
       "75115  2017-08-30 14:30:23  98.70          14.44  \n",
       "75116  2017-08-30 14:30:23  98.70          14.44  \n",
       "75117  2017-08-30 14:30:23  98.70          14.44  \n",
       "75118  2017-08-30 14:30:23  98.70          14.44  \n",
       "75119  2017-08-30 14:30:23  98.70          14.44  \n",
       "75120  2017-08-30 14:30:23  98.70          14.44  \n",
       "75121  2017-08-30 14:30:23  98.70          14.44  \n",
       "75122  2017-08-30 14:30:23  98.70          14.44  "
      ]
     },
     "execution_count": 77,
     "metadata": {},
     "output_type": "execute_result"
    }
   ],
   "source": [
    "# Listagem do 'order_id' que tem 20 itens (obtido acima)\n",
    "itens.loc[itens['order_id'] == 'ab14fdcfbe524636d65ee38360e22ce8']"
   ]
  },
  {
   "cell_type": "markdown",
   "metadata": {},
   "source": [
    "#### 20 'product_id' iguais???? Come on, man, that's impossible in a real world...\n",
    "> Isso é falha de carregamento dos dados;  \n",
    "\n",
    "> Alguém aí tem alguma outra explicação??????\n"
   ]
  },
  {
   "cell_type": "code",
   "execution_count": 78,
   "metadata": {},
   "outputs": [
    {
     "data": {
      "text/html": [
       "<div>\n",
       "<style scoped>\n",
       "    .dataframe tbody tr th:only-of-type {\n",
       "        vertical-align: middle;\n",
       "    }\n",
       "\n",
       "    .dataframe tbody tr th {\n",
       "        vertical-align: top;\n",
       "    }\n",
       "\n",
       "    .dataframe thead th {\n",
       "        text-align: right;\n",
       "    }\n",
       "</style>\n",
       "<table border=\"1\" class=\"dataframe\">\n",
       "  <thead>\n",
       "    <tr style=\"text-align: right;\">\n",
       "      <th></th>\n",
       "      <th>order_id</th>\n",
       "      <th>order_item_id</th>\n",
       "      <th>product_id</th>\n",
       "      <th>seller_id</th>\n",
       "      <th>shipping_limit_date</th>\n",
       "      <th>price</th>\n",
       "      <th>freight_value</th>\n",
       "    </tr>\n",
       "  </thead>\n",
       "  <tbody>\n",
       "    <tr>\n",
       "      <th>11932</th>\n",
       "      <td>1b15974a0141d54e36626dca3fdc731a</td>\n",
       "      <td>1</td>\n",
       "      <td>ee3d532c8a438679776d222e997606b3</td>\n",
       "      <td>8e6d7754bc7e0f22c96d255ebda59eba</td>\n",
       "      <td>2018-03-01 02:50:48</td>\n",
       "      <td>100.00</td>\n",
       "      <td>10.12</td>\n",
       "    </tr>\n",
       "    <tr>\n",
       "      <th>11933</th>\n",
       "      <td>1b15974a0141d54e36626dca3fdc731a</td>\n",
       "      <td>2</td>\n",
       "      <td>ee3d532c8a438679776d222e997606b3</td>\n",
       "      <td>8e6d7754bc7e0f22c96d255ebda59eba</td>\n",
       "      <td>2018-03-01 02:50:48</td>\n",
       "      <td>100.00</td>\n",
       "      <td>10.12</td>\n",
       "    </tr>\n",
       "    <tr>\n",
       "      <th>11934</th>\n",
       "      <td>1b15974a0141d54e36626dca3fdc731a</td>\n",
       "      <td>3</td>\n",
       "      <td>ee3d532c8a438679776d222e997606b3</td>\n",
       "      <td>8e6d7754bc7e0f22c96d255ebda59eba</td>\n",
       "      <td>2018-03-01 02:50:48</td>\n",
       "      <td>100.00</td>\n",
       "      <td>10.12</td>\n",
       "    </tr>\n",
       "    <tr>\n",
       "      <th>11935</th>\n",
       "      <td>1b15974a0141d54e36626dca3fdc731a</td>\n",
       "      <td>4</td>\n",
       "      <td>ee3d532c8a438679776d222e997606b3</td>\n",
       "      <td>8e6d7754bc7e0f22c96d255ebda59eba</td>\n",
       "      <td>2018-03-01 02:50:48</td>\n",
       "      <td>100.00</td>\n",
       "      <td>10.12</td>\n",
       "    </tr>\n",
       "    <tr>\n",
       "      <th>11936</th>\n",
       "      <td>1b15974a0141d54e36626dca3fdc731a</td>\n",
       "      <td>5</td>\n",
       "      <td>ee3d532c8a438679776d222e997606b3</td>\n",
       "      <td>8e6d7754bc7e0f22c96d255ebda59eba</td>\n",
       "      <td>2018-03-01 02:50:48</td>\n",
       "      <td>100.00</td>\n",
       "      <td>10.12</td>\n",
       "    </tr>\n",
       "    <tr>\n",
       "      <th>11937</th>\n",
       "      <td>1b15974a0141d54e36626dca3fdc731a</td>\n",
       "      <td>6</td>\n",
       "      <td>ee3d532c8a438679776d222e997606b3</td>\n",
       "      <td>8e6d7754bc7e0f22c96d255ebda59eba</td>\n",
       "      <td>2018-03-01 02:50:48</td>\n",
       "      <td>100.00</td>\n",
       "      <td>10.12</td>\n",
       "    </tr>\n",
       "    <tr>\n",
       "      <th>11938</th>\n",
       "      <td>1b15974a0141d54e36626dca3fdc731a</td>\n",
       "      <td>7</td>\n",
       "      <td>ee3d532c8a438679776d222e997606b3</td>\n",
       "      <td>8e6d7754bc7e0f22c96d255ebda59eba</td>\n",
       "      <td>2018-03-01 02:50:48</td>\n",
       "      <td>100.00</td>\n",
       "      <td>10.12</td>\n",
       "    </tr>\n",
       "    <tr>\n",
       "      <th>11939</th>\n",
       "      <td>1b15974a0141d54e36626dca3fdc731a</td>\n",
       "      <td>8</td>\n",
       "      <td>ee3d532c8a438679776d222e997606b3</td>\n",
       "      <td>8e6d7754bc7e0f22c96d255ebda59eba</td>\n",
       "      <td>2018-03-01 02:50:48</td>\n",
       "      <td>100.00</td>\n",
       "      <td>10.12</td>\n",
       "    </tr>\n",
       "    <tr>\n",
       "      <th>11940</th>\n",
       "      <td>1b15974a0141d54e36626dca3fdc731a</td>\n",
       "      <td>9</td>\n",
       "      <td>ee3d532c8a438679776d222e997606b3</td>\n",
       "      <td>8e6d7754bc7e0f22c96d255ebda59eba</td>\n",
       "      <td>2018-03-01 02:50:48</td>\n",
       "      <td>100.00</td>\n",
       "      <td>10.12</td>\n",
       "    </tr>\n",
       "    <tr>\n",
       "      <th>11941</th>\n",
       "      <td>1b15974a0141d54e36626dca3fdc731a</td>\n",
       "      <td>10</td>\n",
       "      <td>ee3d532c8a438679776d222e997606b3</td>\n",
       "      <td>8e6d7754bc7e0f22c96d255ebda59eba</td>\n",
       "      <td>2018-03-01 02:50:48</td>\n",
       "      <td>100.00</td>\n",
       "      <td>10.12</td>\n",
       "    </tr>\n",
       "    <tr>\n",
       "      <th>11942</th>\n",
       "      <td>1b15974a0141d54e36626dca3fdc731a</td>\n",
       "      <td>11</td>\n",
       "      <td>ee3d532c8a438679776d222e997606b3</td>\n",
       "      <td>8e6d7754bc7e0f22c96d255ebda59eba</td>\n",
       "      <td>2018-03-01 02:50:48</td>\n",
       "      <td>100.00</td>\n",
       "      <td>10.12</td>\n",
       "    </tr>\n",
       "    <tr>\n",
       "      <th>11943</th>\n",
       "      <td>1b15974a0141d54e36626dca3fdc731a</td>\n",
       "      <td>12</td>\n",
       "      <td>ee3d532c8a438679776d222e997606b3</td>\n",
       "      <td>8e6d7754bc7e0f22c96d255ebda59eba</td>\n",
       "      <td>2018-03-01 02:50:48</td>\n",
       "      <td>100.00</td>\n",
       "      <td>10.12</td>\n",
       "    </tr>\n",
       "    <tr>\n",
       "      <th>11944</th>\n",
       "      <td>1b15974a0141d54e36626dca3fdc731a</td>\n",
       "      <td>13</td>\n",
       "      <td>ee3d532c8a438679776d222e997606b3</td>\n",
       "      <td>8e6d7754bc7e0f22c96d255ebda59eba</td>\n",
       "      <td>2018-03-01 02:50:48</td>\n",
       "      <td>100.00</td>\n",
       "      <td>10.12</td>\n",
       "    </tr>\n",
       "    <tr>\n",
       "      <th>11945</th>\n",
       "      <td>1b15974a0141d54e36626dca3fdc731a</td>\n",
       "      <td>14</td>\n",
       "      <td>ee3d532c8a438679776d222e997606b3</td>\n",
       "      <td>8e6d7754bc7e0f22c96d255ebda59eba</td>\n",
       "      <td>2018-03-01 02:50:48</td>\n",
       "      <td>100.00</td>\n",
       "      <td>10.12</td>\n",
       "    </tr>\n",
       "    <tr>\n",
       "      <th>11946</th>\n",
       "      <td>1b15974a0141d54e36626dca3fdc731a</td>\n",
       "      <td>15</td>\n",
       "      <td>ee3d532c8a438679776d222e997606b3</td>\n",
       "      <td>8e6d7754bc7e0f22c96d255ebda59eba</td>\n",
       "      <td>2018-03-01 02:50:48</td>\n",
       "      <td>100.00</td>\n",
       "      <td>10.12</td>\n",
       "    </tr>\n",
       "    <tr>\n",
       "      <th>11947</th>\n",
       "      <td>1b15974a0141d54e36626dca3fdc731a</td>\n",
       "      <td>16</td>\n",
       "      <td>ee3d532c8a438679776d222e997606b3</td>\n",
       "      <td>8e6d7754bc7e0f22c96d255ebda59eba</td>\n",
       "      <td>2018-03-01 02:50:48</td>\n",
       "      <td>100.00</td>\n",
       "      <td>10.12</td>\n",
       "    </tr>\n",
       "    <tr>\n",
       "      <th>11948</th>\n",
       "      <td>1b15974a0141d54e36626dca3fdc731a</td>\n",
       "      <td>17</td>\n",
       "      <td>ee3d532c8a438679776d222e997606b3</td>\n",
       "      <td>8e6d7754bc7e0f22c96d255ebda59eba</td>\n",
       "      <td>2018-03-01 02:50:48</td>\n",
       "      <td>100.00</td>\n",
       "      <td>10.12</td>\n",
       "    </tr>\n",
       "    <tr>\n",
       "      <th>11949</th>\n",
       "      <td>1b15974a0141d54e36626dca3fdc731a</td>\n",
       "      <td>18</td>\n",
       "      <td>ee3d532c8a438679776d222e997606b3</td>\n",
       "      <td>8e6d7754bc7e0f22c96d255ebda59eba</td>\n",
       "      <td>2018-03-01 02:50:48</td>\n",
       "      <td>100.00</td>\n",
       "      <td>10.12</td>\n",
       "    </tr>\n",
       "    <tr>\n",
       "      <th>11950</th>\n",
       "      <td>1b15974a0141d54e36626dca3fdc731a</td>\n",
       "      <td>19</td>\n",
       "      <td>ee3d532c8a438679776d222e997606b3</td>\n",
       "      <td>8e6d7754bc7e0f22c96d255ebda59eba</td>\n",
       "      <td>2018-03-01 02:50:48</td>\n",
       "      <td>100.00</td>\n",
       "      <td>10.12</td>\n",
       "    </tr>\n",
       "    <tr>\n",
       "      <th>11951</th>\n",
       "      <td>1b15974a0141d54e36626dca3fdc731a</td>\n",
       "      <td>20</td>\n",
       "      <td>ee3d532c8a438679776d222e997606b3</td>\n",
       "      <td>8e6d7754bc7e0f22c96d255ebda59eba</td>\n",
       "      <td>2018-03-01 02:50:48</td>\n",
       "      <td>100.00</td>\n",
       "      <td>10.12</td>\n",
       "    </tr>\n",
       "  </tbody>\n",
       "</table>\n",
       "</div>"
      ],
      "text/plain": [
       "                               order_id  order_item_id  \\\n",
       "11932  1b15974a0141d54e36626dca3fdc731a              1   \n",
       "11933  1b15974a0141d54e36626dca3fdc731a              2   \n",
       "11934  1b15974a0141d54e36626dca3fdc731a              3   \n",
       "11935  1b15974a0141d54e36626dca3fdc731a              4   \n",
       "11936  1b15974a0141d54e36626dca3fdc731a              5   \n",
       "11937  1b15974a0141d54e36626dca3fdc731a              6   \n",
       "11938  1b15974a0141d54e36626dca3fdc731a              7   \n",
       "11939  1b15974a0141d54e36626dca3fdc731a              8   \n",
       "11940  1b15974a0141d54e36626dca3fdc731a              9   \n",
       "11941  1b15974a0141d54e36626dca3fdc731a             10   \n",
       "11942  1b15974a0141d54e36626dca3fdc731a             11   \n",
       "11943  1b15974a0141d54e36626dca3fdc731a             12   \n",
       "11944  1b15974a0141d54e36626dca3fdc731a             13   \n",
       "11945  1b15974a0141d54e36626dca3fdc731a             14   \n",
       "11946  1b15974a0141d54e36626dca3fdc731a             15   \n",
       "11947  1b15974a0141d54e36626dca3fdc731a             16   \n",
       "11948  1b15974a0141d54e36626dca3fdc731a             17   \n",
       "11949  1b15974a0141d54e36626dca3fdc731a             18   \n",
       "11950  1b15974a0141d54e36626dca3fdc731a             19   \n",
       "11951  1b15974a0141d54e36626dca3fdc731a             20   \n",
       "\n",
       "                             product_id                         seller_id  \\\n",
       "11932  ee3d532c8a438679776d222e997606b3  8e6d7754bc7e0f22c96d255ebda59eba   \n",
       "11933  ee3d532c8a438679776d222e997606b3  8e6d7754bc7e0f22c96d255ebda59eba   \n",
       "11934  ee3d532c8a438679776d222e997606b3  8e6d7754bc7e0f22c96d255ebda59eba   \n",
       "11935  ee3d532c8a438679776d222e997606b3  8e6d7754bc7e0f22c96d255ebda59eba   \n",
       "11936  ee3d532c8a438679776d222e997606b3  8e6d7754bc7e0f22c96d255ebda59eba   \n",
       "11937  ee3d532c8a438679776d222e997606b3  8e6d7754bc7e0f22c96d255ebda59eba   \n",
       "11938  ee3d532c8a438679776d222e997606b3  8e6d7754bc7e0f22c96d255ebda59eba   \n",
       "11939  ee3d532c8a438679776d222e997606b3  8e6d7754bc7e0f22c96d255ebda59eba   \n",
       "11940  ee3d532c8a438679776d222e997606b3  8e6d7754bc7e0f22c96d255ebda59eba   \n",
       "11941  ee3d532c8a438679776d222e997606b3  8e6d7754bc7e0f22c96d255ebda59eba   \n",
       "11942  ee3d532c8a438679776d222e997606b3  8e6d7754bc7e0f22c96d255ebda59eba   \n",
       "11943  ee3d532c8a438679776d222e997606b3  8e6d7754bc7e0f22c96d255ebda59eba   \n",
       "11944  ee3d532c8a438679776d222e997606b3  8e6d7754bc7e0f22c96d255ebda59eba   \n",
       "11945  ee3d532c8a438679776d222e997606b3  8e6d7754bc7e0f22c96d255ebda59eba   \n",
       "11946  ee3d532c8a438679776d222e997606b3  8e6d7754bc7e0f22c96d255ebda59eba   \n",
       "11947  ee3d532c8a438679776d222e997606b3  8e6d7754bc7e0f22c96d255ebda59eba   \n",
       "11948  ee3d532c8a438679776d222e997606b3  8e6d7754bc7e0f22c96d255ebda59eba   \n",
       "11949  ee3d532c8a438679776d222e997606b3  8e6d7754bc7e0f22c96d255ebda59eba   \n",
       "11950  ee3d532c8a438679776d222e997606b3  8e6d7754bc7e0f22c96d255ebda59eba   \n",
       "11951  ee3d532c8a438679776d222e997606b3  8e6d7754bc7e0f22c96d255ebda59eba   \n",
       "\n",
       "       shipping_limit_date  price  freight_value  \n",
       "11932  2018-03-01 02:50:48 100.00          10.12  \n",
       "11933  2018-03-01 02:50:48 100.00          10.12  \n",
       "11934  2018-03-01 02:50:48 100.00          10.12  \n",
       "11935  2018-03-01 02:50:48 100.00          10.12  \n",
       "11936  2018-03-01 02:50:48 100.00          10.12  \n",
       "11937  2018-03-01 02:50:48 100.00          10.12  \n",
       "11938  2018-03-01 02:50:48 100.00          10.12  \n",
       "11939  2018-03-01 02:50:48 100.00          10.12  \n",
       "11940  2018-03-01 02:50:48 100.00          10.12  \n",
       "11941  2018-03-01 02:50:48 100.00          10.12  \n",
       "11942  2018-03-01 02:50:48 100.00          10.12  \n",
       "11943  2018-03-01 02:50:48 100.00          10.12  \n",
       "11944  2018-03-01 02:50:48 100.00          10.12  \n",
       "11945  2018-03-01 02:50:48 100.00          10.12  \n",
       "11946  2018-03-01 02:50:48 100.00          10.12  \n",
       "11947  2018-03-01 02:50:48 100.00          10.12  \n",
       "11948  2018-03-01 02:50:48 100.00          10.12  \n",
       "11949  2018-03-01 02:50:48 100.00          10.12  \n",
       "11950  2018-03-01 02:50:48 100.00          10.12  \n",
       "11951  2018-03-01 02:50:48 100.00          10.12  "
      ]
     },
     "execution_count": 78,
     "metadata": {},
     "output_type": "execute_result"
    }
   ],
   "source": [
    "# Só mais um:'order_id' que tem 20 itens\n",
    "itens.loc[itens['order_id'] == '1b15974a0141d54e36626dca3fdc731a']"
   ]
  },
  {
   "cell_type": "markdown",
   "metadata": {},
   "source": [
    "#### De novo, 20 'product_id' iguais.\n",
    "> tsc tsc tsc\n",
    "\n",
    "### Vamos deletar essas redundâncias: todos os 'order_id' ficarão com somente 1 'order_item_id'"
   ]
  },
  {
   "cell_type": "markdown",
   "metadata": {},
   "source": [
    "#### Mas, antes, por pura curiosidade, olhemos na tabela <font color=red>\"produtos\"</font>  quais são esses 'product_id' repetidos"
   ]
  },
  {
   "cell_type": "code",
   "execution_count": 79,
   "metadata": {},
   "outputs": [],
   "source": [
    "produtos = pd.read_csv(\"olist_products_dataset.csv\", sep = ',')"
   ]
  },
  {
   "cell_type": "code",
   "execution_count": 80,
   "metadata": {},
   "outputs": [
    {
     "data": {
      "text/html": [
       "<div>\n",
       "<style scoped>\n",
       "    .dataframe tbody tr th:only-of-type {\n",
       "        vertical-align: middle;\n",
       "    }\n",
       "\n",
       "    .dataframe tbody tr th {\n",
       "        vertical-align: top;\n",
       "    }\n",
       "\n",
       "    .dataframe thead th {\n",
       "        text-align: right;\n",
       "    }\n",
       "</style>\n",
       "<table border=\"1\" class=\"dataframe\">\n",
       "  <thead>\n",
       "    <tr style=\"text-align: right;\">\n",
       "      <th></th>\n",
       "      <th>product_id</th>\n",
       "      <th>product_category_name</th>\n",
       "      <th>product_name_lenght</th>\n",
       "      <th>product_description_lenght</th>\n",
       "      <th>product_photos_qty</th>\n",
       "      <th>product_weight_g</th>\n",
       "      <th>product_length_cm</th>\n",
       "      <th>product_height_cm</th>\n",
       "      <th>product_width_cm</th>\n",
       "    </tr>\n",
       "  </thead>\n",
       "  <tbody>\n",
       "    <tr>\n",
       "      <th>27921</th>\n",
       "      <td>ee3d532c8a438679776d222e997606b3</td>\n",
       "      <td>informatica_acessorios</td>\n",
       "      <td>43.00</td>\n",
       "      <td>452.00</td>\n",
       "      <td>1.00</td>\n",
       "      <td>360.00</td>\n",
       "      <td>19.00</td>\n",
       "      <td>18.00</td>\n",
       "      <td>15.00</td>\n",
       "    </tr>\n",
       "  </tbody>\n",
       "</table>\n",
       "</div>"
      ],
      "text/plain": [
       "                             product_id   product_category_name  \\\n",
       "27921  ee3d532c8a438679776d222e997606b3  informatica_acessorios   \n",
       "\n",
       "       product_name_lenght  product_description_lenght  product_photos_qty  \\\n",
       "27921                43.00                      452.00                1.00   \n",
       "\n",
       "       product_weight_g  product_length_cm  product_height_cm  \\\n",
       "27921            360.00              19.00              18.00   \n",
       "\n",
       "       product_width_cm  \n",
       "27921             15.00  "
      ]
     },
     "execution_count": 80,
     "metadata": {},
     "output_type": "execute_result"
    }
   ],
   "source": [
    "# Selecionando um 'product_id' na tabela \"produtos\"\n",
    "produtos.loc[produtos['product_id'] == 'ee3d532c8a438679776d222e997606b3']"
   ]
  },
  {
   "cell_type": "code",
   "execution_count": 81,
   "metadata": {},
   "outputs": [
    {
     "data": {
      "text/html": [
       "<div>\n",
       "<style scoped>\n",
       "    .dataframe tbody tr th:only-of-type {\n",
       "        vertical-align: middle;\n",
       "    }\n",
       "\n",
       "    .dataframe tbody tr th {\n",
       "        vertical-align: top;\n",
       "    }\n",
       "\n",
       "    .dataframe thead th {\n",
       "        text-align: right;\n",
       "    }\n",
       "</style>\n",
       "<table border=\"1\" class=\"dataframe\">\n",
       "  <thead>\n",
       "    <tr style=\"text-align: right;\">\n",
       "      <th></th>\n",
       "      <th>product_id</th>\n",
       "      <th>product_category_name</th>\n",
       "      <th>product_name_lenght</th>\n",
       "      <th>product_description_lenght</th>\n",
       "      <th>product_photos_qty</th>\n",
       "      <th>product_weight_g</th>\n",
       "      <th>product_length_cm</th>\n",
       "      <th>product_height_cm</th>\n",
       "      <th>product_width_cm</th>\n",
       "    </tr>\n",
       "  </thead>\n",
       "  <tbody>\n",
       "    <tr>\n",
       "      <th>25654</th>\n",
       "      <td>9571759451b1d780ee7c15012ea109d4</td>\n",
       "      <td>automotivo</td>\n",
       "      <td>39.00</td>\n",
       "      <td>1,042.00</td>\n",
       "      <td>1.00</td>\n",
       "      <td>1,400.00</td>\n",
       "      <td>20.00</td>\n",
       "      <td>31.00</td>\n",
       "      <td>30.00</td>\n",
       "    </tr>\n",
       "  </tbody>\n",
       "</table>\n",
       "</div>"
      ],
      "text/plain": [
       "                             product_id product_category_name  \\\n",
       "25654  9571759451b1d780ee7c15012ea109d4            automotivo   \n",
       "\n",
       "       product_name_lenght  product_description_lenght  product_photos_qty  \\\n",
       "25654                39.00                    1,042.00                1.00   \n",
       "\n",
       "       product_weight_g  product_length_cm  product_height_cm  \\\n",
       "25654          1,400.00              20.00              31.00   \n",
       "\n",
       "       product_width_cm  \n",
       "25654             30.00  "
      ]
     },
     "execution_count": 81,
     "metadata": {},
     "output_type": "execute_result"
    }
   ],
   "source": [
    "# Selecionando outro\n",
    "produtos.loc[produtos['product_id'] == '9571759451b1d780ee7c15012ea109d4']"
   ]
  },
  {
   "cell_type": "code",
   "execution_count": 82,
   "metadata": {},
   "outputs": [
    {
     "data": {
      "text/html": [
       "<div>\n",
       "<style scoped>\n",
       "    .dataframe tbody tr th:only-of-type {\n",
       "        vertical-align: middle;\n",
       "    }\n",
       "\n",
       "    .dataframe tbody tr th {\n",
       "        vertical-align: top;\n",
       "    }\n",
       "\n",
       "    .dataframe thead th {\n",
       "        text-align: right;\n",
       "    }\n",
       "</style>\n",
       "<table border=\"1\" class=\"dataframe\">\n",
       "  <thead>\n",
       "    <tr style=\"text-align: right;\">\n",
       "      <th></th>\n",
       "      <th>product_id</th>\n",
       "      <th>product_category_name</th>\n",
       "      <th>product_name_lenght</th>\n",
       "      <th>product_description_lenght</th>\n",
       "      <th>product_photos_qty</th>\n",
       "      <th>product_weight_g</th>\n",
       "      <th>product_length_cm</th>\n",
       "      <th>product_height_cm</th>\n",
       "      <th>product_width_cm</th>\n",
       "    </tr>\n",
       "  </thead>\n",
       "  <tbody>\n",
       "    <tr>\n",
       "      <th>2742</th>\n",
       "      <td>270516a3f41dc035aa87d220228f844c</td>\n",
       "      <td>beleza_saude</td>\n",
       "      <td>45.00</td>\n",
       "      <td>232.00</td>\n",
       "      <td>3.00</td>\n",
       "      <td>800.00</td>\n",
       "      <td>21.00</td>\n",
       "      <td>4.00</td>\n",
       "      <td>15.00</td>\n",
       "    </tr>\n",
       "  </tbody>\n",
       "</table>\n",
       "</div>"
      ],
      "text/plain": [
       "                            product_id product_category_name  \\\n",
       "2742  270516a3f41dc035aa87d220228f844c          beleza_saude   \n",
       "\n",
       "      product_name_lenght  product_description_lenght  product_photos_qty  \\\n",
       "2742                45.00                      232.00                3.00   \n",
       "\n",
       "      product_weight_g  product_length_cm  product_height_cm  product_width_cm  \n",
       "2742            800.00              21.00               4.00             15.00  "
      ]
     },
     "execution_count": 82,
     "metadata": {},
     "output_type": "execute_result"
    }
   ],
   "source": [
    "# E mais outro\n",
    "produtos.loc[produtos['product_id'] == '270516a3f41dc035aa87d220228f844c']"
   ]
  },
  {
   "cell_type": "code",
   "execution_count": 83,
   "metadata": {},
   "outputs": [
    {
     "data": {
      "text/html": [
       "<div>\n",
       "<style scoped>\n",
       "    .dataframe tbody tr th:only-of-type {\n",
       "        vertical-align: middle;\n",
       "    }\n",
       "\n",
       "    .dataframe tbody tr th {\n",
       "        vertical-align: top;\n",
       "    }\n",
       "\n",
       "    .dataframe thead th {\n",
       "        text-align: right;\n",
       "    }\n",
       "</style>\n",
       "<table border=\"1\" class=\"dataframe\">\n",
       "  <thead>\n",
       "    <tr style=\"text-align: right;\">\n",
       "      <th></th>\n",
       "      <th>product_id</th>\n",
       "      <th>product_category_name</th>\n",
       "      <th>product_name_lenght</th>\n",
       "      <th>product_description_lenght</th>\n",
       "      <th>product_photos_qty</th>\n",
       "      <th>product_weight_g</th>\n",
       "      <th>product_length_cm</th>\n",
       "      <th>product_height_cm</th>\n",
       "      <th>product_width_cm</th>\n",
       "    </tr>\n",
       "  </thead>\n",
       "  <tbody>\n",
       "    <tr>\n",
       "      <th>16218</th>\n",
       "      <td>05b515fdc76e888aada3c6d66c201dff</td>\n",
       "      <td>beleza_saude</td>\n",
       "      <td>45.00</td>\n",
       "      <td>231.00</td>\n",
       "      <td>3.00</td>\n",
       "      <td>800.00</td>\n",
       "      <td>21.00</td>\n",
       "      <td>4.00</td>\n",
       "      <td>15.00</td>\n",
       "    </tr>\n",
       "  </tbody>\n",
       "</table>\n",
       "</div>"
      ],
      "text/plain": [
       "                             product_id product_category_name  \\\n",
       "16218  05b515fdc76e888aada3c6d66c201dff          beleza_saude   \n",
       "\n",
       "       product_name_lenght  product_description_lenght  product_photos_qty  \\\n",
       "16218                45.00                      231.00                3.00   \n",
       "\n",
       "       product_weight_g  product_length_cm  product_height_cm  \\\n",
       "16218            800.00              21.00               4.00   \n",
       "\n",
       "       product_width_cm  \n",
       "16218             15.00  "
      ]
     },
     "execution_count": 83,
     "metadata": {},
     "output_type": "execute_result"
    }
   ],
   "source": [
    "# Um último...\n",
    "produtos.loc[produtos['product_id'] == '05b515fdc76e888aada3c6d66c201dff']"
   ]
  },
  {
   "cell_type": "code",
   "execution_count": 84,
   "metadata": {},
   "outputs": [
    {
     "name": "stdout",
     "output_type": "stream",
     "text": [
      "<class 'pandas.core.frame.DataFrame'>\n",
      "RangeIndex: 32951 entries, 0 to 32950\n",
      "Data columns (total 9 columns):\n",
      "product_id                    32951 non-null object\n",
      "product_category_name         32341 non-null object\n",
      "product_name_lenght           32341 non-null float64\n",
      "product_description_lenght    32341 non-null float64\n",
      "product_photos_qty            32341 non-null float64\n",
      "product_weight_g              32949 non-null float64\n",
      "product_length_cm             32949 non-null float64\n",
      "product_height_cm             32949 non-null float64\n",
      "product_width_cm              32949 non-null float64\n",
      "dtypes: float64(7), object(2)\n",
      "memory usage: 2.3+ MB\n"
     ]
    }
   ],
   "source": [
    "produtos.info()"
   ]
  },
  {
   "cell_type": "code",
   "execution_count": 85,
   "metadata": {},
   "outputs": [
    {
     "data": {
      "text/plain": [
       "32951"
      ]
     },
     "execution_count": 85,
     "metadata": {},
     "output_type": "execute_result"
    }
   ],
   "source": [
    "len(produtos['product_id'].unique())"
   ]
  },
  {
   "cell_type": "code",
   "execution_count": 86,
   "metadata": {},
   "outputs": [
    {
     "data": {
      "text/plain": [
       "32951"
      ]
     },
     "execution_count": 86,
     "metadata": {},
     "output_type": "execute_result"
    }
   ],
   "source": [
    "produtos['product_id'].nunique()"
   ]
  },
  {
   "cell_type": "code",
   "execution_count": 87,
   "metadata": {},
   "outputs": [
    {
     "data": {
      "text/plain": [
       "74"
      ]
     },
     "execution_count": 87,
     "metadata": {},
     "output_type": "execute_result"
    }
   ],
   "source": [
    "len(produtos['product_category_name'].unique())"
   ]
  },
  {
   "cell_type": "code",
   "execution_count": 88,
   "metadata": {},
   "outputs": [
    {
     "data": {
      "text/plain": [
       "73"
      ]
     },
     "execution_count": 88,
     "metadata": {},
     "output_type": "execute_result"
    }
   ],
   "source": [
    "produtos['product_category_name'].nunique()"
   ]
  },
  {
   "cell_type": "markdown",
   "metadata": {},
   "source": [
    "#### Não há a descrição do nome do produto, somente o seu código. Não podemos ver qual produto é, apenas a sua categoria. Há 74 categorias para os mais de 32 mil produtos.\n",
    "> 'product_id' é a chave primária da tabela <font color=red>\"produtos\"</font>"
   ]
  },
  {
   "cell_type": "markdown",
   "metadata": {},
   "source": [
    "#### Deleção das redundâncias da tabela <font color=red>\"itens\"</font> (tabela da direita)"
   ]
  },
  {
   "cell_type": "code",
   "execution_count": 89,
   "metadata": {},
   "outputs": [
    {
     "data": {
      "text/html": [
       "<img src=\"tres tabelas.bmp\"/>"
      ],
      "text/plain": [
       "<IPython.core.display.Image object>"
      ]
     },
     "execution_count": 89,
     "metadata": {},
     "output_type": "execute_result"
    }
   ],
   "source": [
    "# situação ANTES da deleção\n",
    "Image (url = \"tres tabelas.bmp\")"
   ]
  },
  {
   "cell_type": "code",
   "execution_count": 90,
   "metadata": {},
   "outputs": [],
   "source": [
    "itens_sem_repetir = itens.drop_duplicates (subset=['order_id']) # Será mantida a 1ª ocorrência."
   ]
  },
  {
   "cell_type": "code",
   "execution_count": 91,
   "metadata": {},
   "outputs": [
    {
     "data": {
      "text/plain": [
       "pandas.core.frame.DataFrame"
      ]
     },
     "execution_count": 91,
     "metadata": {},
     "output_type": "execute_result"
    }
   ],
   "source": [
    "type(itens_sem_repetir)"
   ]
  },
  {
   "cell_type": "code",
   "execution_count": 92,
   "metadata": {},
   "outputs": [
    {
     "data": {
      "text/plain": [
       "(98666, 7)"
      ]
     },
     "execution_count": 92,
     "metadata": {},
     "output_type": "execute_result"
    }
   ],
   "source": [
    "itens_sem_repetir.shape"
   ]
  },
  {
   "cell_type": "code",
   "execution_count": 93,
   "metadata": {},
   "outputs": [
    {
     "data": {
      "text/plain": [
       "98666"
      ]
     },
     "execution_count": 93,
     "metadata": {},
     "output_type": "execute_result"
    }
   ],
   "source": [
    "itens_sem_repetir['order_id'].nunique()"
   ]
  },
  {
   "cell_type": "code",
   "execution_count": 94,
   "metadata": {},
   "outputs": [
    {
     "data": {
      "text/plain": [
       "1"
      ]
     },
     "execution_count": 94,
     "metadata": {},
     "output_type": "execute_result"
    }
   ],
   "source": [
    "itens_sem_repetir['order_item_id'].nunique()"
   ]
  },
  {
   "cell_type": "code",
   "execution_count": 95,
   "metadata": {},
   "outputs": [
    {
     "data": {
      "text/plain": [
       "31881"
      ]
     },
     "execution_count": 95,
     "metadata": {},
     "output_type": "execute_result"
    }
   ],
   "source": [
    "itens_sem_repetir['product_id'].nunique()"
   ]
  },
  {
   "cell_type": "code",
   "execution_count": 96,
   "metadata": {},
   "outputs": [
    {
     "data": {
      "text/plain": [
       "3088"
      ]
     },
     "execution_count": 96,
     "metadata": {},
     "output_type": "execute_result"
    }
   ],
   "source": [
    "itens_sem_repetir['seller_id'].nunique()"
   ]
  },
  {
   "cell_type": "code",
   "execution_count": 97,
   "metadata": {},
   "outputs": [
    {
     "data": {
      "text/plain": [
       "32951"
      ]
     },
     "execution_count": 97,
     "metadata": {},
     "output_type": "execute_result"
    }
   ],
   "source": [
    "itens['product_id'].nunique()"
   ]
  },
  {
   "cell_type": "code",
   "execution_count": 98,
   "metadata": {},
   "outputs": [
    {
     "data": {
      "text/html": [
       "<img src=\"tres tabelas pos delecao.bmp\"/>"
      ],
      "text/plain": [
       "<IPython.core.display.Image object>"
      ]
     },
     "execution_count": 98,
     "metadata": {},
     "output_type": "execute_result"
    }
   ],
   "source": [
    "# situação APÓS da deleção\n",
    "Image (url = \"tres tabelas pos delecao.bmp\")"
   ]
  },
  {
   "cell_type": "markdown",
   "metadata": {},
   "source": [
    "#### Apesar de a nova tabela <font color=red>\"itens_sem_repetir\"</font> falhar em informar sobre itens, ainda é útil para informar qual o produto e qual o fornecedor estão atrelados a cada pedido.\n",
    "> No entanto, vamos desprezar em uma futura operação de 'Join' as colunas restantes, pois:  \n",
    ">> Os preços do produto e do frete influenciariam somente em uma análise de 'Churn' que não é o nosso caso.  \n",
    ">> A data de envio também é desnecessária, uma vez que temos datas diversas na tabela <font color=red>\"orders\"</font>."
   ]
  },
  {
   "cell_type": "code",
   "execution_count": null,
   "metadata": {},
   "outputs": [],
   "source": []
  }
 ],
 "metadata": {
  "kernelspec": {
   "display_name": "Python 3",
   "language": "python",
   "name": "python3"
  },
  "language_info": {
   "codemirror_mode": {
    "name": "ipython",
    "version": 3
   },
   "file_extension": ".py",
   "mimetype": "text/x-python",
   "name": "python",
   "nbconvert_exporter": "python",
   "pygments_lexer": "ipython3",
   "version": "3.7.3"
  }
 },
 "nbformat": 4,
 "nbformat_minor": 2
}
