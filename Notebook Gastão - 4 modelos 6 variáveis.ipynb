{
 "cells": [
  {
   "cell_type": "markdown",
   "metadata": {},
   "source": [
    "# TCC PUC-Minas Gastão Jucá Filho <br>\n",
    "Turma Puc-Minas Virtual - nov2019 <br>\n"
   ]
  },
  {
   "cell_type": "markdown",
   "metadata": {},
   "source": [
    "#  Atividades previstas para este Notebook:\n",
    "> 1. Carregar a tabela olist_ibge_v13  \n",
    "\n",
    "> 2. Ajustá-lo para ter modelos aplicados a si.  \n",
    ">> Criar variável target.  \n",
    ">> Aplicar Label Encoder nas variáveis categóricas.  \n",
    "\n",
    "> 3. Aplicar 04 (quatro) modelos:  \n",
    ">> Gradient Boosting simplificado;  \n",
    ">> Decision Tree;  \n",
    ">> Logistic regression; e  \n",
    ">> Random Forest."
   ]
  },
  {
   "cell_type": "markdown",
   "metadata": {},
   "source": [
    "##  1 - Importação de bibliotecas necessárias"
   ]
  },
  {
   "cell_type": "code",
   "execution_count": 2,
   "metadata": {},
   "outputs": [],
   "source": [
    "import pandas as pd\n",
    "import numpy as np\n",
    "pd.options.display.float_format = '{:,.2f}'.format\n",
    "pd.set_option('display.max_columns', None)\n",
    "pd.set_option('display.max_rows', None)\n",
    "# pd.options.display.max_columns = 100\n"
   ]
  },
  {
   "cell_type": "markdown",
   "metadata": {},
   "source": [
    "## 2 - Importação da tabela <font color=red>'olist_ibge_v13'</font> "
   ]
  },
  {
   "cell_type": "code",
   "execution_count": 3,
   "metadata": {},
   "outputs": [],
   "source": [
    "olist_ibge_v13 = pd.read_excel('olist_ibge_v13.xlsx', sheet_name = \"Sheet1\", header = 0, index_col=None) # sem dtype = 'object'"
   ]
  },
  {
   "cell_type": "code",
   "execution_count": 4,
   "metadata": {},
   "outputs": [
    {
     "name": "stdout",
     "output_type": "stream",
     "text": [
      "<class 'pandas.core.frame.DataFrame'>\n",
      "RangeIndex: 92935 entries, 0 to 92934\n",
      "Data columns (total 19 columns):\n",
      "Unnamed: 0               92935 non-null int64\n",
      "order_id                 92935 non-null object\n",
      "product_id               92935 non-null object\n",
      "seller_id                92935 non-null object\n",
      "product_category_name    92935 non-null object\n",
      "sigla_state              92935 non-null object\n",
      "seller_sigla_state       92935 non-null object\n",
      "review_score             92935 non-null int64\n",
      "qtde_boleto              92935 non-null int64\n",
      "qtde_credit_card         92935 non-null int64\n",
      "qtde_debit_card          92935 non-null int64\n",
      "qtde_voucher             92935 non-null int64\n",
      "soma_payment             92935 non-null float64\n",
      "qtde_installments        92935 non-null int64\n",
      "AR_MUN_2018              92935 non-null float64\n",
      "POPULAÇÃO ESTIMADA       92935 non-null int64\n",
      "PIB                      92935 non-null float64\n",
      "gini                     92935 non-null float64\n",
      "dias                     92935 non-null float64\n",
      "dtypes: float64(5), int64(8), object(6)\n",
      "memory usage: 13.5+ MB\n"
     ]
    }
   ],
   "source": [
    "olist_ibge_v13.info()"
   ]
  },
  {
   "cell_type": "markdown",
   "metadata": {},
   "source": [
    "### 2.1 - Deletar a coluna  <font color=red>'Unnamed: 0'</font>  \n",
    "> Ela é um ruído que sempre surge ao importarmos um arquivo para um DataFrame"
   ]
  },
  {
   "cell_type": "code",
   "execution_count": 5,
   "metadata": {},
   "outputs": [],
   "source": [
    "olist_ibge_v14 = olist_ibge_v13.drop(['Unnamed: 0'], axis=1)"
   ]
  },
  {
   "cell_type": "code",
   "execution_count": 6,
   "metadata": {},
   "outputs": [
    {
     "data": {
      "text/plain": [
       "((92935, 18), (92935, 19))"
      ]
     },
     "execution_count": 6,
     "metadata": {},
     "output_type": "execute_result"
    }
   ],
   "source": [
    "olist_ibge_v14.shape, olist_ibge_v13.shape"
   ]
  },
  {
   "cell_type": "code",
   "execution_count": 7,
   "metadata": {},
   "outputs": [
    {
     "data": {
      "text/html": [
       "<div>\n",
       "<style scoped>\n",
       "    .dataframe tbody tr th:only-of-type {\n",
       "        vertical-align: middle;\n",
       "    }\n",
       "\n",
       "    .dataframe tbody tr th {\n",
       "        vertical-align: top;\n",
       "    }\n",
       "\n",
       "    .dataframe thead th {\n",
       "        text-align: right;\n",
       "    }\n",
       "</style>\n",
       "<table border=\"1\" class=\"dataframe\">\n",
       "  <thead>\n",
       "    <tr style=\"text-align: right;\">\n",
       "      <th></th>\n",
       "      <th>order_id</th>\n",
       "      <th>product_id</th>\n",
       "      <th>seller_id</th>\n",
       "      <th>product_category_name</th>\n",
       "      <th>sigla_state</th>\n",
       "      <th>seller_sigla_state</th>\n",
       "      <th>review_score</th>\n",
       "      <th>qtde_boleto</th>\n",
       "      <th>qtde_credit_card</th>\n",
       "      <th>qtde_debit_card</th>\n",
       "      <th>qtde_voucher</th>\n",
       "      <th>soma_payment</th>\n",
       "      <th>qtde_installments</th>\n",
       "      <th>AR_MUN_2018</th>\n",
       "      <th>POPULAÇÃO ESTIMADA</th>\n",
       "      <th>PIB</th>\n",
       "      <th>gini</th>\n",
       "      <th>dias</th>\n",
       "    </tr>\n",
       "  </thead>\n",
       "  <tbody>\n",
       "    <tr>\n",
       "      <th>0</th>\n",
       "      <td>50ba38c4dc467baab1ea2c8c7747934d</td>\n",
       "      <td>418d480693f2f01e9cf4568db0346d28</td>\n",
       "      <td>12b9676b00f60f3b700e83af21824c0e</td>\n",
       "      <td>cool_stuff</td>\n",
       "      <td>mg</td>\n",
       "      <td>rs</td>\n",
       "      <td>5</td>\n",
       "      <td>0</td>\n",
       "      <td>1</td>\n",
       "      <td>0</td>\n",
       "      <td>0</td>\n",
       "      <td>219.63</td>\n",
       "      <td>10</td>\n",
       "      <td>881.06</td>\n",
       "      <td>7037</td>\n",
       "      <td>180,088.78</td>\n",
       "      <td>0.65</td>\n",
       "      <td>21.11</td>\n",
       "    </tr>\n",
       "    <tr>\n",
       "      <th>1</th>\n",
       "      <td>d99e6849f7676dade195f20c26f0eb4f</td>\n",
       "      <td>1081ae52311daac87fb54ba8ce4670ac</td>\n",
       "      <td>4371b634e0efc0e22b09b52907d9d469</td>\n",
       "      <td>esporte_lazer</td>\n",
       "      <td>mg</td>\n",
       "      <td>sp</td>\n",
       "      <td>5</td>\n",
       "      <td>0</td>\n",
       "      <td>1</td>\n",
       "      <td>0</td>\n",
       "      <td>0</td>\n",
       "      <td>135.59</td>\n",
       "      <td>1</td>\n",
       "      <td>881.06</td>\n",
       "      <td>7037</td>\n",
       "      <td>180,088.78</td>\n",
       "      <td>0.65</td>\n",
       "      <td>5.84</td>\n",
       "    </tr>\n",
       "    <tr>\n",
       "      <th>2</th>\n",
       "      <td>0a9a43ac5fe59c6c4bee2a8f9b9fcce8</td>\n",
       "      <td>c1aabbb6f4caec9f5bf7cd80519d6cc0</td>\n",
       "      <td>579891617139df7d8671d373f0669622</td>\n",
       "      <td>livros_interesse_geral</td>\n",
       "      <td>mg</td>\n",
       "      <td>rj</td>\n",
       "      <td>5</td>\n",
       "      <td>1</td>\n",
       "      <td>0</td>\n",
       "      <td>0</td>\n",
       "      <td>0</td>\n",
       "      <td>58.28</td>\n",
       "      <td>1</td>\n",
       "      <td>881.06</td>\n",
       "      <td>7037</td>\n",
       "      <td>180,088.78</td>\n",
       "      <td>0.65</td>\n",
       "      <td>8.63</td>\n",
       "    </tr>\n",
       "    <tr>\n",
       "      <th>3</th>\n",
       "      <td>3f1294f87d79b57f5d55ba7b80c3d94f</td>\n",
       "      <td>0a9b9a871ffaec6c0198334558a6c6a1</td>\n",
       "      <td>f9244d45189d3a3605499abddeade7d5</td>\n",
       "      <td>eletroportateis</td>\n",
       "      <td>go</td>\n",
       "      <td>sp</td>\n",
       "      <td>4</td>\n",
       "      <td>0</td>\n",
       "      <td>1</td>\n",
       "      <td>0</td>\n",
       "      <td>0</td>\n",
       "      <td>1,025.52</td>\n",
       "      <td>8</td>\n",
       "      <td>1,045.13</td>\n",
       "      <td>18427</td>\n",
       "      <td>287,984.49</td>\n",
       "      <td>0.73</td>\n",
       "      <td>29.10</td>\n",
       "    </tr>\n",
       "    <tr>\n",
       "      <th>4</th>\n",
       "      <td>6c12feac9a308e1382d9b19cca7f20b2</td>\n",
       "      <td>d47821b10559fffaefcf3e57d2b5ff76</td>\n",
       "      <td>0df3984f9dfb3d49ac6366acbd3bbb85</td>\n",
       "      <td>beleza_saude</td>\n",
       "      <td>mg</td>\n",
       "      <td>mg</td>\n",
       "      <td>4</td>\n",
       "      <td>0</td>\n",
       "      <td>1</td>\n",
       "      <td>0</td>\n",
       "      <td>0</td>\n",
       "      <td>220.97</td>\n",
       "      <td>4</td>\n",
       "      <td>1,817.07</td>\n",
       "      <td>23574</td>\n",
       "      <td>430,235.36</td>\n",
       "      <td>0.66</td>\n",
       "      <td>4.80</td>\n",
       "    </tr>\n",
       "  </tbody>\n",
       "</table>\n",
       "</div>"
      ],
      "text/plain": [
       "                           order_id                        product_id  \\\n",
       "0  50ba38c4dc467baab1ea2c8c7747934d  418d480693f2f01e9cf4568db0346d28   \n",
       "1  d99e6849f7676dade195f20c26f0eb4f  1081ae52311daac87fb54ba8ce4670ac   \n",
       "2  0a9a43ac5fe59c6c4bee2a8f9b9fcce8  c1aabbb6f4caec9f5bf7cd80519d6cc0   \n",
       "3  3f1294f87d79b57f5d55ba7b80c3d94f  0a9b9a871ffaec6c0198334558a6c6a1   \n",
       "4  6c12feac9a308e1382d9b19cca7f20b2  d47821b10559fffaefcf3e57d2b5ff76   \n",
       "\n",
       "                          seller_id   product_category_name sigla_state  \\\n",
       "0  12b9676b00f60f3b700e83af21824c0e              cool_stuff          mg   \n",
       "1  4371b634e0efc0e22b09b52907d9d469           esporte_lazer          mg   \n",
       "2  579891617139df7d8671d373f0669622  livros_interesse_geral          mg   \n",
       "3  f9244d45189d3a3605499abddeade7d5         eletroportateis          go   \n",
       "4  0df3984f9dfb3d49ac6366acbd3bbb85            beleza_saude          mg   \n",
       "\n",
       "  seller_sigla_state  review_score  qtde_boleto  qtde_credit_card  \\\n",
       "0                 rs             5            0                 1   \n",
       "1                 sp             5            0                 1   \n",
       "2                 rj             5            1                 0   \n",
       "3                 sp             4            0                 1   \n",
       "4                 mg             4            0                 1   \n",
       "\n",
       "   qtde_debit_card  qtde_voucher  soma_payment  qtde_installments  \\\n",
       "0                0             0        219.63                 10   \n",
       "1                0             0        135.59                  1   \n",
       "2                0             0         58.28                  1   \n",
       "3                0             0      1,025.52                  8   \n",
       "4                0             0        220.97                  4   \n",
       "\n",
       "   AR_MUN_2018  POPULAÇÃO ESTIMADA        PIB  gini  dias  \n",
       "0       881.06                7037 180,088.78  0.65 21.11  \n",
       "1       881.06                7037 180,088.78  0.65  5.84  \n",
       "2       881.06                7037 180,088.78  0.65  8.63  \n",
       "3     1,045.13               18427 287,984.49  0.73 29.10  \n",
       "4     1,817.07               23574 430,235.36  0.66  4.80  "
      ]
     },
     "execution_count": 7,
     "metadata": {},
     "output_type": "execute_result"
    }
   ],
   "source": [
    "olist_ibge_v14.head()"
   ]
  },
  {
   "cell_type": "markdown",
   "metadata": {},
   "source": [
    "### 2.2 - Criar coluna target para  <font color=red>'olist_ibge_v14'</font>  \n",
    "> A partir de 'review_score'.  \n",
    ">> Chamada 'humor'"
   ]
  },
  {
   "cell_type": "code",
   "execution_count": 8,
   "metadata": {},
   "outputs": [
    {
     "data": {
      "text/plain": [
       "Index(['order_id', 'product_id', 'seller_id', 'product_category_name',\n",
       "       'sigla_state', 'seller_sigla_state', 'review_score', 'qtde_boleto',\n",
       "       'qtde_credit_card', 'qtde_debit_card', 'qtde_voucher', 'soma_payment',\n",
       "       'qtde_installments', 'AR_MUN_2018', 'POPULAÇÃO ESTIMADA', 'PIB', 'gini',\n",
       "       'dias'],\n",
       "      dtype='object')"
      ]
     },
     "execution_count": 8,
     "metadata": {},
     "output_type": "execute_result"
    }
   ],
   "source": [
    "olist_ibge_v14.columns"
   ]
  },
  {
   "cell_type": "code",
   "execution_count": 9,
   "metadata": {},
   "outputs": [],
   "source": [
    "# Nova coluna chamada 'humor' será 0 (zero), quando review_score for de 1 a 3, ou 1 (um), quando review_score for 4 ou 5.\n",
    "a = {1:0, 2:0, 3:0 , 4:1, 5:1}\n",
    "olist_ibge_v14['humor'] = olist_ibge_v14['review_score'].map(a)"
   ]
  },
  {
   "cell_type": "code",
   "execution_count": 10,
   "metadata": {},
   "outputs": [
    {
     "name": "stdout",
     "output_type": "stream",
     "text": [
      "<class 'pandas.core.frame.DataFrame'>\n",
      "RangeIndex: 92935 entries, 0 to 92934\n",
      "Data columns (total 19 columns):\n",
      "order_id                 92935 non-null object\n",
      "product_id               92935 non-null object\n",
      "seller_id                92935 non-null object\n",
      "product_category_name    92935 non-null object\n",
      "sigla_state              92935 non-null object\n",
      "seller_sigla_state       92935 non-null object\n",
      "review_score             92935 non-null int64\n",
      "qtde_boleto              92935 non-null int64\n",
      "qtde_credit_card         92935 non-null int64\n",
      "qtde_debit_card          92935 non-null int64\n",
      "qtde_voucher             92935 non-null int64\n",
      "soma_payment             92935 non-null float64\n",
      "qtde_installments        92935 non-null int64\n",
      "AR_MUN_2018              92935 non-null float64\n",
      "POPULAÇÃO ESTIMADA       92935 non-null int64\n",
      "PIB                      92935 non-null float64\n",
      "gini                     92935 non-null float64\n",
      "dias                     92935 non-null float64\n",
      "humor                    92935 non-null int64\n",
      "dtypes: float64(5), int64(8), object(6)\n",
      "memory usage: 13.5+ MB\n"
     ]
    }
   ],
   "source": [
    "olist_ibge_v14.info()"
   ]
  },
  {
   "cell_type": "code",
   "execution_count": 11,
   "metadata": {},
   "outputs": [
    {
     "data": {
      "text/plain": [
       "array([1, 0], dtype=int64)"
      ]
     },
     "execution_count": 11,
     "metadata": {},
     "output_type": "execute_result"
    }
   ],
   "source": [
    "olist_ibge_v14['humor'].unique()"
   ]
  },
  {
   "cell_type": "code",
   "execution_count": 12,
   "metadata": {},
   "outputs": [],
   "source": [
    "qtde_humores = olist_ibge_v14.groupby('humor')['order_id'].count()"
   ]
  },
  {
   "cell_type": "code",
   "execution_count": 13,
   "metadata": {},
   "outputs": [],
   "source": [
    "df_qtde_humores = pd.DataFrame(qtde_humores)"
   ]
  },
  {
   "cell_type": "code",
   "execution_count": 14,
   "metadata": {},
   "outputs": [
    {
     "data": {
      "text/html": [
       "<div>\n",
       "<style scoped>\n",
       "    .dataframe tbody tr th:only-of-type {\n",
       "        vertical-align: middle;\n",
       "    }\n",
       "\n",
       "    .dataframe tbody tr th {\n",
       "        vertical-align: top;\n",
       "    }\n",
       "\n",
       "    .dataframe thead th {\n",
       "        text-align: right;\n",
       "    }\n",
       "</style>\n",
       "<table border=\"1\" class=\"dataframe\">\n",
       "  <thead>\n",
       "    <tr style=\"text-align: right;\">\n",
       "      <th></th>\n",
       "      <th>order_id</th>\n",
       "    </tr>\n",
       "    <tr>\n",
       "      <th>humor</th>\n",
       "      <th></th>\n",
       "    </tr>\n",
       "  </thead>\n",
       "  <tbody>\n",
       "    <tr>\n",
       "      <th>0</th>\n",
       "      <td>19868</td>\n",
       "    </tr>\n",
       "    <tr>\n",
       "      <th>1</th>\n",
       "      <td>73067</td>\n",
       "    </tr>\n",
       "  </tbody>\n",
       "</table>\n",
       "</div>"
      ],
      "text/plain": [
       "       order_id\n",
       "humor          \n",
       "0         19868\n",
       "1         73067"
      ]
     },
     "execution_count": 14,
     "metadata": {},
     "output_type": "execute_result"
    }
   ],
   "source": [
    "df_qtde_humores"
   ]
  },
  {
   "cell_type": "code",
   "execution_count": 15,
   "metadata": {},
   "outputs": [
    {
     "name": "stdout",
     "output_type": "stream",
     "text": [
      "21.378382740625167\n"
     ]
    }
   ],
   "source": [
    "print(19868*100/92935)"
   ]
  },
  {
   "cell_type": "code",
   "execution_count": 16,
   "metadata": {},
   "outputs": [
    {
     "name": "stdout",
     "output_type": "stream",
     "text": [
      "78.62161725937483\n"
     ]
    }
   ],
   "source": [
    "print(73067*100/92935)"
   ]
  },
  {
   "cell_type": "code",
   "execution_count": 18,
   "metadata": {},
   "outputs": [
    {
     "data": {
      "text/html": [
       "<div>\n",
       "<style scoped>\n",
       "    .dataframe tbody tr th:only-of-type {\n",
       "        vertical-align: middle;\n",
       "    }\n",
       "\n",
       "    .dataframe tbody tr th {\n",
       "        vertical-align: top;\n",
       "    }\n",
       "\n",
       "    .dataframe thead th {\n",
       "        text-align: right;\n",
       "    }\n",
       "</style>\n",
       "<table border=\"1\" class=\"dataframe\">\n",
       "  <thead>\n",
       "    <tr style=\"text-align: right;\">\n",
       "      <th></th>\n",
       "      <th>order_id</th>\n",
       "      <th>product_id</th>\n",
       "      <th>seller_id</th>\n",
       "      <th>product_category_name</th>\n",
       "      <th>sigla_state</th>\n",
       "      <th>seller_sigla_state</th>\n",
       "      <th>review_score</th>\n",
       "      <th>qtde_boleto</th>\n",
       "      <th>qtde_credit_card</th>\n",
       "      <th>qtde_debit_card</th>\n",
       "      <th>qtde_voucher</th>\n",
       "      <th>soma_payment</th>\n",
       "      <th>qtde_installments</th>\n",
       "      <th>AR_MUN_2018</th>\n",
       "      <th>POPULAÇÃO ESTIMADA</th>\n",
       "      <th>PIB</th>\n",
       "      <th>gini</th>\n",
       "      <th>dias</th>\n",
       "      <th>humor</th>\n",
       "    </tr>\n",
       "  </thead>\n",
       "  <tbody>\n",
       "    <tr>\n",
       "      <th>0</th>\n",
       "      <td>50ba38c4dc467baab1ea2c8c7747934d</td>\n",
       "      <td>418d480693f2f01e9cf4568db0346d28</td>\n",
       "      <td>12b9676b00f60f3b700e83af21824c0e</td>\n",
       "      <td>cool_stuff</td>\n",
       "      <td>mg</td>\n",
       "      <td>rs</td>\n",
       "      <td>5</td>\n",
       "      <td>0</td>\n",
       "      <td>1</td>\n",
       "      <td>0</td>\n",
       "      <td>0</td>\n",
       "      <td>219.63</td>\n",
       "      <td>10</td>\n",
       "      <td>881.06</td>\n",
       "      <td>7037</td>\n",
       "      <td>180,088.78</td>\n",
       "      <td>0.65</td>\n",
       "      <td>21.11</td>\n",
       "      <td>1</td>\n",
       "    </tr>\n",
       "    <tr>\n",
       "      <th>1</th>\n",
       "      <td>d99e6849f7676dade195f20c26f0eb4f</td>\n",
       "      <td>1081ae52311daac87fb54ba8ce4670ac</td>\n",
       "      <td>4371b634e0efc0e22b09b52907d9d469</td>\n",
       "      <td>esporte_lazer</td>\n",
       "      <td>mg</td>\n",
       "      <td>sp</td>\n",
       "      <td>5</td>\n",
       "      <td>0</td>\n",
       "      <td>1</td>\n",
       "      <td>0</td>\n",
       "      <td>0</td>\n",
       "      <td>135.59</td>\n",
       "      <td>1</td>\n",
       "      <td>881.06</td>\n",
       "      <td>7037</td>\n",
       "      <td>180,088.78</td>\n",
       "      <td>0.65</td>\n",
       "      <td>5.84</td>\n",
       "      <td>1</td>\n",
       "    </tr>\n",
       "    <tr>\n",
       "      <th>2</th>\n",
       "      <td>0a9a43ac5fe59c6c4bee2a8f9b9fcce8</td>\n",
       "      <td>c1aabbb6f4caec9f5bf7cd80519d6cc0</td>\n",
       "      <td>579891617139df7d8671d373f0669622</td>\n",
       "      <td>livros_interesse_geral</td>\n",
       "      <td>mg</td>\n",
       "      <td>rj</td>\n",
       "      <td>5</td>\n",
       "      <td>1</td>\n",
       "      <td>0</td>\n",
       "      <td>0</td>\n",
       "      <td>0</td>\n",
       "      <td>58.28</td>\n",
       "      <td>1</td>\n",
       "      <td>881.06</td>\n",
       "      <td>7037</td>\n",
       "      <td>180,088.78</td>\n",
       "      <td>0.65</td>\n",
       "      <td>8.63</td>\n",
       "      <td>1</td>\n",
       "    </tr>\n",
       "    <tr>\n",
       "      <th>3</th>\n",
       "      <td>3f1294f87d79b57f5d55ba7b80c3d94f</td>\n",
       "      <td>0a9b9a871ffaec6c0198334558a6c6a1</td>\n",
       "      <td>f9244d45189d3a3605499abddeade7d5</td>\n",
       "      <td>eletroportateis</td>\n",
       "      <td>go</td>\n",
       "      <td>sp</td>\n",
       "      <td>4</td>\n",
       "      <td>0</td>\n",
       "      <td>1</td>\n",
       "      <td>0</td>\n",
       "      <td>0</td>\n",
       "      <td>1,025.52</td>\n",
       "      <td>8</td>\n",
       "      <td>1,045.13</td>\n",
       "      <td>18427</td>\n",
       "      <td>287,984.49</td>\n",
       "      <td>0.73</td>\n",
       "      <td>29.10</td>\n",
       "      <td>1</td>\n",
       "    </tr>\n",
       "    <tr>\n",
       "      <th>4</th>\n",
       "      <td>6c12feac9a308e1382d9b19cca7f20b2</td>\n",
       "      <td>d47821b10559fffaefcf3e57d2b5ff76</td>\n",
       "      <td>0df3984f9dfb3d49ac6366acbd3bbb85</td>\n",
       "      <td>beleza_saude</td>\n",
       "      <td>mg</td>\n",
       "      <td>mg</td>\n",
       "      <td>4</td>\n",
       "      <td>0</td>\n",
       "      <td>1</td>\n",
       "      <td>0</td>\n",
       "      <td>0</td>\n",
       "      <td>220.97</td>\n",
       "      <td>4</td>\n",
       "      <td>1,817.07</td>\n",
       "      <td>23574</td>\n",
       "      <td>430,235.36</td>\n",
       "      <td>0.66</td>\n",
       "      <td>4.80</td>\n",
       "      <td>1</td>\n",
       "    </tr>\n",
       "  </tbody>\n",
       "</table>\n",
       "</div>"
      ],
      "text/plain": [
       "                           order_id                        product_id  \\\n",
       "0  50ba38c4dc467baab1ea2c8c7747934d  418d480693f2f01e9cf4568db0346d28   \n",
       "1  d99e6849f7676dade195f20c26f0eb4f  1081ae52311daac87fb54ba8ce4670ac   \n",
       "2  0a9a43ac5fe59c6c4bee2a8f9b9fcce8  c1aabbb6f4caec9f5bf7cd80519d6cc0   \n",
       "3  3f1294f87d79b57f5d55ba7b80c3d94f  0a9b9a871ffaec6c0198334558a6c6a1   \n",
       "4  6c12feac9a308e1382d9b19cca7f20b2  d47821b10559fffaefcf3e57d2b5ff76   \n",
       "\n",
       "                          seller_id   product_category_name sigla_state  \\\n",
       "0  12b9676b00f60f3b700e83af21824c0e              cool_stuff          mg   \n",
       "1  4371b634e0efc0e22b09b52907d9d469           esporte_lazer          mg   \n",
       "2  579891617139df7d8671d373f0669622  livros_interesse_geral          mg   \n",
       "3  f9244d45189d3a3605499abddeade7d5         eletroportateis          go   \n",
       "4  0df3984f9dfb3d49ac6366acbd3bbb85            beleza_saude          mg   \n",
       "\n",
       "  seller_sigla_state  review_score  qtde_boleto  qtde_credit_card  \\\n",
       "0                 rs             5            0                 1   \n",
       "1                 sp             5            0                 1   \n",
       "2                 rj             5            1                 0   \n",
       "3                 sp             4            0                 1   \n",
       "4                 mg             4            0                 1   \n",
       "\n",
       "   qtde_debit_card  qtde_voucher  soma_payment  qtde_installments  \\\n",
       "0                0             0        219.63                 10   \n",
       "1                0             0        135.59                  1   \n",
       "2                0             0         58.28                  1   \n",
       "3                0             0      1,025.52                  8   \n",
       "4                0             0        220.97                  4   \n",
       "\n",
       "   AR_MUN_2018  POPULAÇÃO ESTIMADA        PIB  gini  dias  humor  \n",
       "0       881.06                7037 180,088.78  0.65 21.11      1  \n",
       "1       881.06                7037 180,088.78  0.65  5.84      1  \n",
       "2       881.06                7037 180,088.78  0.65  8.63      1  \n",
       "3     1,045.13               18427 287,984.49  0.73 29.10      1  \n",
       "4     1,817.07               23574 430,235.36  0.66  4.80      1  "
      ]
     },
     "execution_count": 18,
     "metadata": {},
     "output_type": "execute_result"
    }
   ],
   "source": [
    "olist_ibge_v14.head()"
   ]
  },
  {
   "cell_type": "code",
   "execution_count": 17,
   "metadata": {},
   "outputs": [],
   "source": [
    "crosstab = pd.crosstab(olist_ibge_v14['product_category_name'], olist_ibge_v14['humor'], margins = True)"
   ]
  },
  {
   "cell_type": "code",
   "execution_count": 18,
   "metadata": {},
   "outputs": [
    {
     "data": {
      "text/html": [
       "<div>\n",
       "<style scoped>\n",
       "    .dataframe tbody tr th:only-of-type {\n",
       "        vertical-align: middle;\n",
       "    }\n",
       "\n",
       "    .dataframe tbody tr th {\n",
       "        vertical-align: top;\n",
       "    }\n",
       "\n",
       "    .dataframe thead th {\n",
       "        text-align: right;\n",
       "    }\n",
       "</style>\n",
       "<table border=\"1\" class=\"dataframe\">\n",
       "  <thead>\n",
       "    <tr style=\"text-align: right;\">\n",
       "      <th>humor</th>\n",
       "      <th>0</th>\n",
       "      <th>1</th>\n",
       "      <th>All</th>\n",
       "    </tr>\n",
       "    <tr>\n",
       "      <th>product_category_name</th>\n",
       "      <th></th>\n",
       "      <th></th>\n",
       "      <th></th>\n",
       "    </tr>\n",
       "  </thead>\n",
       "  <tbody>\n",
       "    <tr>\n",
       "      <th>agro_industria_e_comercio</th>\n",
       "      <td>33</td>\n",
       "      <td>138</td>\n",
       "      <td>171</td>\n",
       "    </tr>\n",
       "    <tr>\n",
       "      <th>alimentos</th>\n",
       "      <td>64</td>\n",
       "      <td>353</td>\n",
       "      <td>417</td>\n",
       "    </tr>\n",
       "    <tr>\n",
       "      <th>alimentos_bebidas</th>\n",
       "      <td>31</td>\n",
       "      <td>179</td>\n",
       "      <td>210</td>\n",
       "    </tr>\n",
       "    <tr>\n",
       "      <th>artes</th>\n",
       "      <td>41</td>\n",
       "      <td>143</td>\n",
       "      <td>184</td>\n",
       "    </tr>\n",
       "    <tr>\n",
       "      <th>artes_e_artesanato</th>\n",
       "      <td>5</td>\n",
       "      <td>17</td>\n",
       "      <td>22</td>\n",
       "    </tr>\n",
       "    <tr>\n",
       "      <th>artigos_de_festas</th>\n",
       "      <td>9</td>\n",
       "      <td>28</td>\n",
       "      <td>37</td>\n",
       "    </tr>\n",
       "    <tr>\n",
       "      <th>artigos_de_natal</th>\n",
       "      <td>26</td>\n",
       "      <td>97</td>\n",
       "      <td>123</td>\n",
       "    </tr>\n",
       "    <tr>\n",
       "      <th>audio</th>\n",
       "      <td>107</td>\n",
       "      <td>232</td>\n",
       "      <td>339</td>\n",
       "    </tr>\n",
       "    <tr>\n",
       "      <th>automotivo</th>\n",
       "      <td>775</td>\n",
       "      <td>2933</td>\n",
       "      <td>3708</td>\n",
       "    </tr>\n",
       "    <tr>\n",
       "      <th>bebes</th>\n",
       "      <td>623</td>\n",
       "      <td>2092</td>\n",
       "      <td>2715</td>\n",
       "    </tr>\n",
       "    <tr>\n",
       "      <th>bebidas</th>\n",
       "      <td>47</td>\n",
       "      <td>232</td>\n",
       "      <td>279</td>\n",
       "    </tr>\n",
       "    <tr>\n",
       "      <th>beleza_saude</th>\n",
       "      <td>1620</td>\n",
       "      <td>6801</td>\n",
       "      <td>8421</td>\n",
       "    </tr>\n",
       "    <tr>\n",
       "      <th>brinquedos</th>\n",
       "      <td>719</td>\n",
       "      <td>2984</td>\n",
       "      <td>3703</td>\n",
       "    </tr>\n",
       "    <tr>\n",
       "      <th>cama_mesa_banho</th>\n",
       "      <td>2312</td>\n",
       "      <td>6543</td>\n",
       "      <td>8855</td>\n",
       "    </tr>\n",
       "    <tr>\n",
       "      <th>casa_conforto</th>\n",
       "      <td>114</td>\n",
       "      <td>243</td>\n",
       "      <td>357</td>\n",
       "    </tr>\n",
       "    <tr>\n",
       "      <th>casa_conforto_2</th>\n",
       "      <td>7</td>\n",
       "      <td>15</td>\n",
       "      <td>22</td>\n",
       "    </tr>\n",
       "    <tr>\n",
       "      <th>casa_construcao</th>\n",
       "      <td>105</td>\n",
       "      <td>352</td>\n",
       "      <td>457</td>\n",
       "    </tr>\n",
       "    <tr>\n",
       "      <th>cds_dvds_musicais</th>\n",
       "      <td>1</td>\n",
       "      <td>11</td>\n",
       "      <td>12</td>\n",
       "    </tr>\n",
       "    <tr>\n",
       "      <th>cine_foto</th>\n",
       "      <td>12</td>\n",
       "      <td>51</td>\n",
       "      <td>63</td>\n",
       "    </tr>\n",
       "    <tr>\n",
       "      <th>climatizacao</th>\n",
       "      <td>56</td>\n",
       "      <td>183</td>\n",
       "      <td>239</td>\n",
       "    </tr>\n",
       "    <tr>\n",
       "      <th>consoles_games</th>\n",
       "      <td>220</td>\n",
       "      <td>782</td>\n",
       "      <td>1002</td>\n",
       "    </tr>\n",
       "    <tr>\n",
       "      <th>construcao_ferramentas_construcao</th>\n",
       "      <td>154</td>\n",
       "      <td>554</td>\n",
       "      <td>708</td>\n",
       "    </tr>\n",
       "    <tr>\n",
       "      <th>construcao_ferramentas_ferramentas</th>\n",
       "      <td>11</td>\n",
       "      <td>85</td>\n",
       "      <td>96</td>\n",
       "    </tr>\n",
       "    <tr>\n",
       "      <th>construcao_ferramentas_iluminacao</th>\n",
       "      <td>50</td>\n",
       "      <td>178</td>\n",
       "      <td>228</td>\n",
       "    </tr>\n",
       "    <tr>\n",
       "      <th>construcao_ferramentas_jardim</th>\n",
       "      <td>31</td>\n",
       "      <td>145</td>\n",
       "      <td>176</td>\n",
       "    </tr>\n",
       "    <tr>\n",
       "      <th>construcao_ferramentas_seguranca</th>\n",
       "      <td>36</td>\n",
       "      <td>116</td>\n",
       "      <td>152</td>\n",
       "    </tr>\n",
       "    <tr>\n",
       "      <th>cool_stuff</th>\n",
       "      <td>669</td>\n",
       "      <td>2780</td>\n",
       "      <td>3449</td>\n",
       "    </tr>\n",
       "    <tr>\n",
       "      <th>dvds_blu_ray</th>\n",
       "      <td>9</td>\n",
       "      <td>45</td>\n",
       "      <td>54</td>\n",
       "    </tr>\n",
       "    <tr>\n",
       "      <th>eletrodomesticos</th>\n",
       "      <td>138</td>\n",
       "      <td>567</td>\n",
       "      <td>705</td>\n",
       "    </tr>\n",
       "    <tr>\n",
       "      <th>eletrodomesticos_2</th>\n",
       "      <td>42</td>\n",
       "      <td>173</td>\n",
       "      <td>215</td>\n",
       "    </tr>\n",
       "    <tr>\n",
       "      <th>eletronicos</th>\n",
       "      <td>527</td>\n",
       "      <td>1929</td>\n",
       "      <td>2456</td>\n",
       "    </tr>\n",
       "    <tr>\n",
       "      <th>eletroportateis</th>\n",
       "      <td>103</td>\n",
       "      <td>494</td>\n",
       "      <td>597</td>\n",
       "    </tr>\n",
       "    <tr>\n",
       "      <th>esporte_lazer</th>\n",
       "      <td>1377</td>\n",
       "      <td>5939</td>\n",
       "      <td>7316</td>\n",
       "    </tr>\n",
       "    <tr>\n",
       "      <th>fashion_bolsas_e_acessorios</th>\n",
       "      <td>332</td>\n",
       "      <td>1430</td>\n",
       "      <td>1762</td>\n",
       "    </tr>\n",
       "    <tr>\n",
       "      <th>fashion_calcados</th>\n",
       "      <td>43</td>\n",
       "      <td>186</td>\n",
       "      <td>229</td>\n",
       "    </tr>\n",
       "    <tr>\n",
       "      <th>fashion_esporte</th>\n",
       "      <td>2</td>\n",
       "      <td>22</td>\n",
       "      <td>24</td>\n",
       "    </tr>\n",
       "    <tr>\n",
       "      <th>fashion_roupa_feminina</th>\n",
       "      <td>12</td>\n",
       "      <td>23</td>\n",
       "      <td>35</td>\n",
       "    </tr>\n",
       "    <tr>\n",
       "      <th>fashion_roupa_infanto_juvenil</th>\n",
       "      <td>0</td>\n",
       "      <td>7</td>\n",
       "      <td>7</td>\n",
       "    </tr>\n",
       "    <tr>\n",
       "      <th>fashion_roupa_masculina</th>\n",
       "      <td>30</td>\n",
       "      <td>72</td>\n",
       "      <td>102</td>\n",
       "    </tr>\n",
       "    <tr>\n",
       "      <th>fashion_underwear_e_moda_praia</th>\n",
       "      <td>28</td>\n",
       "      <td>84</td>\n",
       "      <td>112</td>\n",
       "    </tr>\n",
       "    <tr>\n",
       "      <th>ferramentas_jardim</th>\n",
       "      <td>678</td>\n",
       "      <td>2670</td>\n",
       "      <td>3348</td>\n",
       "    </tr>\n",
       "    <tr>\n",
       "      <th>flores</th>\n",
       "      <td>5</td>\n",
       "      <td>24</td>\n",
       "      <td>29</td>\n",
       "    </tr>\n",
       "    <tr>\n",
       "      <th>fraldas_higiene</th>\n",
       "      <td>6</td>\n",
       "      <td>18</td>\n",
       "      <td>24</td>\n",
       "    </tr>\n",
       "    <tr>\n",
       "      <th>industria_comercio_e_negocios</th>\n",
       "      <td>41</td>\n",
       "      <td>179</td>\n",
       "      <td>220</td>\n",
       "    </tr>\n",
       "    <tr>\n",
       "      <th>informatica_acessorios</th>\n",
       "      <td>1439</td>\n",
       "      <td>4918</td>\n",
       "      <td>6357</td>\n",
       "    </tr>\n",
       "    <tr>\n",
       "      <th>instrumentos_musicais</th>\n",
       "      <td>111</td>\n",
       "      <td>488</td>\n",
       "      <td>599</td>\n",
       "    </tr>\n",
       "    <tr>\n",
       "      <th>la_cuisine</th>\n",
       "      <td>2</td>\n",
       "      <td>10</td>\n",
       "      <td>12</td>\n",
       "    </tr>\n",
       "    <tr>\n",
       "      <th>livros_importados</th>\n",
       "      <td>6</td>\n",
       "      <td>43</td>\n",
       "      <td>49</td>\n",
       "    </tr>\n",
       "    <tr>\n",
       "      <th>livros_interesse_geral</th>\n",
       "      <td>47</td>\n",
       "      <td>442</td>\n",
       "      <td>489</td>\n",
       "    </tr>\n",
       "    <tr>\n",
       "      <th>livros_tecnicos</th>\n",
       "      <td>33</td>\n",
       "      <td>214</td>\n",
       "      <td>247</td>\n",
       "    </tr>\n",
       "    <tr>\n",
       "      <th>malas_acessorios</th>\n",
       "      <td>146</td>\n",
       "      <td>840</td>\n",
       "      <td>986</td>\n",
       "    </tr>\n",
       "    <tr>\n",
       "      <th>market_place</th>\n",
       "      <td>61</td>\n",
       "      <td>199</td>\n",
       "      <td>260</td>\n",
       "    </tr>\n",
       "    <tr>\n",
       "      <th>moveis_colchao_e_estofado</th>\n",
       "      <td>9</td>\n",
       "      <td>24</td>\n",
       "      <td>33</td>\n",
       "    </tr>\n",
       "    <tr>\n",
       "      <th>moveis_cozinha_area_de_servico_jantar_e_jardim</th>\n",
       "      <td>53</td>\n",
       "      <td>180</td>\n",
       "      <td>233</td>\n",
       "    </tr>\n",
       "    <tr>\n",
       "      <th>moveis_decoracao</th>\n",
       "      <td>1461</td>\n",
       "      <td>4609</td>\n",
       "      <td>6070</td>\n",
       "    </tr>\n",
       "    <tr>\n",
       "      <th>moveis_escritorio</th>\n",
       "      <td>442</td>\n",
       "      <td>773</td>\n",
       "      <td>1215</td>\n",
       "    </tr>\n",
       "    <tr>\n",
       "      <th>moveis_quarto</th>\n",
       "      <td>14</td>\n",
       "      <td>73</td>\n",
       "      <td>87</td>\n",
       "    </tr>\n",
       "    <tr>\n",
       "      <th>moveis_sala</th>\n",
       "      <td>97</td>\n",
       "      <td>302</td>\n",
       "      <td>399</td>\n",
       "    </tr>\n",
       "    <tr>\n",
       "      <th>musica</th>\n",
       "      <td>7</td>\n",
       "      <td>30</td>\n",
       "      <td>37</td>\n",
       "    </tr>\n",
       "    <tr>\n",
       "      <th>papelaria</th>\n",
       "      <td>364</td>\n",
       "      <td>1834</td>\n",
       "      <td>2198</td>\n",
       "    </tr>\n",
       "    <tr>\n",
       "      <th>pc_gamer</th>\n",
       "      <td>1</td>\n",
       "      <td>5</td>\n",
       "      <td>6</td>\n",
       "    </tr>\n",
       "    <tr>\n",
       "      <th>pcs</th>\n",
       "      <td>31</td>\n",
       "      <td>141</td>\n",
       "      <td>172</td>\n",
       "    </tr>\n",
       "    <tr>\n",
       "      <th>perfumaria</th>\n",
       "      <td>558</td>\n",
       "      <td>2458</td>\n",
       "      <td>3016</td>\n",
       "    </tr>\n",
       "    <tr>\n",
       "      <th>pet_shop</th>\n",
       "      <td>298</td>\n",
       "      <td>1357</td>\n",
       "      <td>1655</td>\n",
       "    </tr>\n",
       "    <tr>\n",
       "      <th>portateis_casa_forno_e_cafe</th>\n",
       "      <td>9</td>\n",
       "      <td>62</td>\n",
       "      <td>71</td>\n",
       "    </tr>\n",
       "    <tr>\n",
       "      <th>portateis_cozinha_e_preparadores_de_alimentos</th>\n",
       "      <td>5</td>\n",
       "      <td>7</td>\n",
       "      <td>12</td>\n",
       "    </tr>\n",
       "    <tr>\n",
       "      <th>relogios_presentes</th>\n",
       "      <td>1214</td>\n",
       "      <td>4148</td>\n",
       "      <td>5362</td>\n",
       "    </tr>\n",
       "    <tr>\n",
       "      <th>seguros_e_servicos</th>\n",
       "      <td>1</td>\n",
       "      <td>1</td>\n",
       "      <td>2</td>\n",
       "    </tr>\n",
       "    <tr>\n",
       "      <th>sinalizacao_e_seguranca</th>\n",
       "      <td>33</td>\n",
       "      <td>104</td>\n",
       "      <td>137</td>\n",
       "    </tr>\n",
       "    <tr>\n",
       "      <th>tablets_impressao_imagem</th>\n",
       "      <td>16</td>\n",
       "      <td>58</td>\n",
       "      <td>74</td>\n",
       "    </tr>\n",
       "    <tr>\n",
       "      <th>telefonia</th>\n",
       "      <td>972</td>\n",
       "      <td>3025</td>\n",
       "      <td>3997</td>\n",
       "    </tr>\n",
       "    <tr>\n",
       "      <th>telefonia_fixa</th>\n",
       "      <td>55</td>\n",
       "      <td>152</td>\n",
       "      <td>207</td>\n",
       "    </tr>\n",
       "    <tr>\n",
       "      <th>utilidades_domesticas</th>\n",
       "      <td>1132</td>\n",
       "      <td>4441</td>\n",
       "      <td>5573</td>\n",
       "    </tr>\n",
       "    <tr>\n",
       "      <th>All</th>\n",
       "      <td>19868</td>\n",
       "      <td>73067</td>\n",
       "      <td>92935</td>\n",
       "    </tr>\n",
       "  </tbody>\n",
       "</table>\n",
       "</div>"
      ],
      "text/plain": [
       "humor                                               0      1    All\n",
       "product_category_name                                              \n",
       "agro_industria_e_comercio                          33    138    171\n",
       "alimentos                                          64    353    417\n",
       "alimentos_bebidas                                  31    179    210\n",
       "artes                                              41    143    184\n",
       "artes_e_artesanato                                  5     17     22\n",
       "artigos_de_festas                                   9     28     37\n",
       "artigos_de_natal                                   26     97    123\n",
       "audio                                             107    232    339\n",
       "automotivo                                        775   2933   3708\n",
       "bebes                                             623   2092   2715\n",
       "bebidas                                            47    232    279\n",
       "beleza_saude                                     1620   6801   8421\n",
       "brinquedos                                        719   2984   3703\n",
       "cama_mesa_banho                                  2312   6543   8855\n",
       "casa_conforto                                     114    243    357\n",
       "casa_conforto_2                                     7     15     22\n",
       "casa_construcao                                   105    352    457\n",
       "cds_dvds_musicais                                   1     11     12\n",
       "cine_foto                                          12     51     63\n",
       "climatizacao                                       56    183    239\n",
       "consoles_games                                    220    782   1002\n",
       "construcao_ferramentas_construcao                 154    554    708\n",
       "construcao_ferramentas_ferramentas                 11     85     96\n",
       "construcao_ferramentas_iluminacao                  50    178    228\n",
       "construcao_ferramentas_jardim                      31    145    176\n",
       "construcao_ferramentas_seguranca                   36    116    152\n",
       "cool_stuff                                        669   2780   3449\n",
       "dvds_blu_ray                                        9     45     54\n",
       "eletrodomesticos                                  138    567    705\n",
       "eletrodomesticos_2                                 42    173    215\n",
       "eletronicos                                       527   1929   2456\n",
       "eletroportateis                                   103    494    597\n",
       "esporte_lazer                                    1377   5939   7316\n",
       "fashion_bolsas_e_acessorios                       332   1430   1762\n",
       "fashion_calcados                                   43    186    229\n",
       "fashion_esporte                                     2     22     24\n",
       "fashion_roupa_feminina                             12     23     35\n",
       "fashion_roupa_infanto_juvenil                       0      7      7\n",
       "fashion_roupa_masculina                            30     72    102\n",
       "fashion_underwear_e_moda_praia                     28     84    112\n",
       "ferramentas_jardim                                678   2670   3348\n",
       "flores                                              5     24     29\n",
       "fraldas_higiene                                     6     18     24\n",
       "industria_comercio_e_negocios                      41    179    220\n",
       "informatica_acessorios                           1439   4918   6357\n",
       "instrumentos_musicais                             111    488    599\n",
       "la_cuisine                                          2     10     12\n",
       "livros_importados                                   6     43     49\n",
       "livros_interesse_geral                             47    442    489\n",
       "livros_tecnicos                                    33    214    247\n",
       "malas_acessorios                                  146    840    986\n",
       "market_place                                       61    199    260\n",
       "moveis_colchao_e_estofado                           9     24     33\n",
       "moveis_cozinha_area_de_servico_jantar_e_jardim     53    180    233\n",
       "moveis_decoracao                                 1461   4609   6070\n",
       "moveis_escritorio                                 442    773   1215\n",
       "moveis_quarto                                      14     73     87\n",
       "moveis_sala                                        97    302    399\n",
       "musica                                              7     30     37\n",
       "papelaria                                         364   1834   2198\n",
       "pc_gamer                                            1      5      6\n",
       "pcs                                                31    141    172\n",
       "perfumaria                                        558   2458   3016\n",
       "pet_shop                                          298   1357   1655\n",
       "portateis_casa_forno_e_cafe                         9     62     71\n",
       "portateis_cozinha_e_preparadores_de_alimentos       5      7     12\n",
       "relogios_presentes                               1214   4148   5362\n",
       "seguros_e_servicos                                  1      1      2\n",
       "sinalizacao_e_seguranca                            33    104    137\n",
       "tablets_impressao_imagem                           16     58     74\n",
       "telefonia                                         972   3025   3997\n",
       "telefonia_fixa                                     55    152    207\n",
       "utilidades_domesticas                            1132   4441   5573\n",
       "All                                             19868  73067  92935"
      ]
     },
     "execution_count": 18,
     "metadata": {},
     "output_type": "execute_result"
    }
   ],
   "source": [
    "crosstab"
   ]
  },
  {
   "cell_type": "code",
   "execution_count": 19,
   "metadata": {},
   "outputs": [],
   "source": [
    "crosstab = pd.crosstab(olist_ibge_v14['sigla_state'], olist_ibge_v14['humor'], margins = True)"
   ]
  },
  {
   "cell_type": "code",
   "execution_count": 20,
   "metadata": {},
   "outputs": [
    {
     "data": {
      "text/html": [
       "<div>\n",
       "<style scoped>\n",
       "    .dataframe tbody tr th:only-of-type {\n",
       "        vertical-align: middle;\n",
       "    }\n",
       "\n",
       "    .dataframe tbody tr th {\n",
       "        vertical-align: top;\n",
       "    }\n",
       "\n",
       "    .dataframe thead th {\n",
       "        text-align: right;\n",
       "    }\n",
       "</style>\n",
       "<table border=\"1\" class=\"dataframe\">\n",
       "  <thead>\n",
       "    <tr style=\"text-align: right;\">\n",
       "      <th>humor</th>\n",
       "      <th>0</th>\n",
       "      <th>1</th>\n",
       "      <th>All</th>\n",
       "    </tr>\n",
       "    <tr>\n",
       "      <th>sigla_state</th>\n",
       "      <th></th>\n",
       "      <th></th>\n",
       "      <th></th>\n",
       "    </tr>\n",
       "  </thead>\n",
       "  <tbody>\n",
       "    <tr>\n",
       "      <th>ac</th>\n",
       "      <td>19</td>\n",
       "      <td>58</td>\n",
       "      <td>77</td>\n",
       "    </tr>\n",
       "    <tr>\n",
       "      <th>al</th>\n",
       "      <td>112</td>\n",
       "      <td>278</td>\n",
       "      <td>390</td>\n",
       "    </tr>\n",
       "    <tr>\n",
       "      <th>am</th>\n",
       "      <td>25</td>\n",
       "      <td>118</td>\n",
       "      <td>143</td>\n",
       "    </tr>\n",
       "    <tr>\n",
       "      <th>ap</th>\n",
       "      <td>13</td>\n",
       "      <td>54</td>\n",
       "      <td>67</td>\n",
       "    </tr>\n",
       "    <tr>\n",
       "      <th>ba</th>\n",
       "      <td>866</td>\n",
       "      <td>2276</td>\n",
       "      <td>3142</td>\n",
       "    </tr>\n",
       "    <tr>\n",
       "      <th>ce</th>\n",
       "      <td>339</td>\n",
       "      <td>911</td>\n",
       "      <td>1250</td>\n",
       "    </tr>\n",
       "    <tr>\n",
       "      <th>df</th>\n",
       "      <td>437</td>\n",
       "      <td>1598</td>\n",
       "      <td>2035</td>\n",
       "    </tr>\n",
       "    <tr>\n",
       "      <th>es</th>\n",
       "      <td>460</td>\n",
       "      <td>1482</td>\n",
       "      <td>1942</td>\n",
       "    </tr>\n",
       "    <tr>\n",
       "      <th>go</th>\n",
       "      <td>440</td>\n",
       "      <td>1448</td>\n",
       "      <td>1888</td>\n",
       "    </tr>\n",
       "    <tr>\n",
       "      <th>ma</th>\n",
       "      <td>213</td>\n",
       "      <td>487</td>\n",
       "      <td>700</td>\n",
       "    </tr>\n",
       "    <tr>\n",
       "      <th>mg</th>\n",
       "      <td>2263</td>\n",
       "      <td>8802</td>\n",
       "      <td>11065</td>\n",
       "    </tr>\n",
       "    <tr>\n",
       "      <th>ms</th>\n",
       "      <td>143</td>\n",
       "      <td>544</td>\n",
       "      <td>687</td>\n",
       "    </tr>\n",
       "    <tr>\n",
       "      <th>mt</th>\n",
       "      <td>187</td>\n",
       "      <td>682</td>\n",
       "      <td>869</td>\n",
       "    </tr>\n",
       "    <tr>\n",
       "      <th>pa</th>\n",
       "      <td>256</td>\n",
       "      <td>640</td>\n",
       "      <td>896</td>\n",
       "    </tr>\n",
       "    <tr>\n",
       "      <th>pb</th>\n",
       "      <td>126</td>\n",
       "      <td>380</td>\n",
       "      <td>506</td>\n",
       "    </tr>\n",
       "    <tr>\n",
       "      <th>pe</th>\n",
       "      <td>361</td>\n",
       "      <td>1203</td>\n",
       "      <td>1564</td>\n",
       "    </tr>\n",
       "    <tr>\n",
       "      <th>pi</th>\n",
       "      <td>119</td>\n",
       "      <td>348</td>\n",
       "      <td>467</td>\n",
       "    </tr>\n",
       "    <tr>\n",
       "      <th>pr</th>\n",
       "      <td>896</td>\n",
       "      <td>3899</td>\n",
       "      <td>4795</td>\n",
       "    </tr>\n",
       "    <tr>\n",
       "      <th>rj</th>\n",
       "      <td>3206</td>\n",
       "      <td>8658</td>\n",
       "      <td>11864</td>\n",
       "    </tr>\n",
       "    <tr>\n",
       "      <th>rn</th>\n",
       "      <td>101</td>\n",
       "      <td>364</td>\n",
       "      <td>465</td>\n",
       "    </tr>\n",
       "    <tr>\n",
       "      <th>ro</th>\n",
       "      <td>52</td>\n",
       "      <td>174</td>\n",
       "      <td>226</td>\n",
       "    </tr>\n",
       "    <tr>\n",
       "      <th>rr</th>\n",
       "      <td>12</td>\n",
       "      <td>27</td>\n",
       "      <td>39</td>\n",
       "    </tr>\n",
       "    <tr>\n",
       "      <th>rs</th>\n",
       "      <td>1061</td>\n",
       "      <td>4166</td>\n",
       "      <td>5227</td>\n",
       "    </tr>\n",
       "    <tr>\n",
       "      <th>sc</th>\n",
       "      <td>766</td>\n",
       "      <td>2703</td>\n",
       "      <td>3469</td>\n",
       "    </tr>\n",
       "    <tr>\n",
       "      <th>se</th>\n",
       "      <td>93</td>\n",
       "      <td>237</td>\n",
       "      <td>330</td>\n",
       "    </tr>\n",
       "    <tr>\n",
       "      <th>sp</th>\n",
       "      <td>7248</td>\n",
       "      <td>31317</td>\n",
       "      <td>38565</td>\n",
       "    </tr>\n",
       "    <tr>\n",
       "      <th>to</th>\n",
       "      <td>54</td>\n",
       "      <td>213</td>\n",
       "      <td>267</td>\n",
       "    </tr>\n",
       "    <tr>\n",
       "      <th>All</th>\n",
       "      <td>19868</td>\n",
       "      <td>73067</td>\n",
       "      <td>92935</td>\n",
       "    </tr>\n",
       "  </tbody>\n",
       "</table>\n",
       "</div>"
      ],
      "text/plain": [
       "humor            0      1    All\n",
       "sigla_state                     \n",
       "ac              19     58     77\n",
       "al             112    278    390\n",
       "am              25    118    143\n",
       "ap              13     54     67\n",
       "ba             866   2276   3142\n",
       "ce             339    911   1250\n",
       "df             437   1598   2035\n",
       "es             460   1482   1942\n",
       "go             440   1448   1888\n",
       "ma             213    487    700\n",
       "mg            2263   8802  11065\n",
       "ms             143    544    687\n",
       "mt             187    682    869\n",
       "pa             256    640    896\n",
       "pb             126    380    506\n",
       "pe             361   1203   1564\n",
       "pi             119    348    467\n",
       "pr             896   3899   4795\n",
       "rj            3206   8658  11864\n",
       "rn             101    364    465\n",
       "ro              52    174    226\n",
       "rr              12     27     39\n",
       "rs            1061   4166   5227\n",
       "sc             766   2703   3469\n",
       "se              93    237    330\n",
       "sp            7248  31317  38565\n",
       "to              54    213    267\n",
       "All          19868  73067  92935"
      ]
     },
     "execution_count": 20,
     "metadata": {},
     "output_type": "execute_result"
    }
   ],
   "source": [
    "crosstab"
   ]
  },
  {
   "cell_type": "code",
   "execution_count": 21,
   "metadata": {},
   "outputs": [],
   "source": [
    "crosstab = pd.crosstab(olist_ibge_v14['seller_sigla_state'], olist_ibge_v14['humor'], margins = True)"
   ]
  },
  {
   "cell_type": "code",
   "execution_count": 22,
   "metadata": {},
   "outputs": [
    {
     "data": {
      "text/html": [
       "<div>\n",
       "<style scoped>\n",
       "    .dataframe tbody tr th:only-of-type {\n",
       "        vertical-align: middle;\n",
       "    }\n",
       "\n",
       "    .dataframe tbody tr th {\n",
       "        vertical-align: top;\n",
       "    }\n",
       "\n",
       "    .dataframe thead th {\n",
       "        text-align: right;\n",
       "    }\n",
       "</style>\n",
       "<table border=\"1\" class=\"dataframe\">\n",
       "  <thead>\n",
       "    <tr style=\"text-align: right;\">\n",
       "      <th>humor</th>\n",
       "      <th>0</th>\n",
       "      <th>1</th>\n",
       "      <th>All</th>\n",
       "    </tr>\n",
       "    <tr>\n",
       "      <th>seller_sigla_state</th>\n",
       "      <th></th>\n",
       "      <th></th>\n",
       "      <th></th>\n",
       "    </tr>\n",
       "  </thead>\n",
       "  <tbody>\n",
       "    <tr>\n",
       "      <th>am</th>\n",
       "      <td>2</td>\n",
       "      <td>1</td>\n",
       "      <td>3</td>\n",
       "    </tr>\n",
       "    <tr>\n",
       "      <th>ba</th>\n",
       "      <td>104</td>\n",
       "      <td>435</td>\n",
       "      <td>539</td>\n",
       "    </tr>\n",
       "    <tr>\n",
       "      <th>ce</th>\n",
       "      <td>11</td>\n",
       "      <td>71</td>\n",
       "      <td>82</td>\n",
       "    </tr>\n",
       "    <tr>\n",
       "      <th>df</th>\n",
       "      <td>174</td>\n",
       "      <td>605</td>\n",
       "      <td>779</td>\n",
       "    </tr>\n",
       "    <tr>\n",
       "      <th>es</th>\n",
       "      <td>64</td>\n",
       "      <td>236</td>\n",
       "      <td>300</td>\n",
       "    </tr>\n",
       "    <tr>\n",
       "      <th>go</th>\n",
       "      <td>61</td>\n",
       "      <td>370</td>\n",
       "      <td>431</td>\n",
       "    </tr>\n",
       "    <tr>\n",
       "      <th>ma</th>\n",
       "      <td>90</td>\n",
       "      <td>290</td>\n",
       "      <td>380</td>\n",
       "    </tr>\n",
       "    <tr>\n",
       "      <th>mg</th>\n",
       "      <td>1380</td>\n",
       "      <td>5942</td>\n",
       "      <td>7322</td>\n",
       "    </tr>\n",
       "    <tr>\n",
       "      <th>ms</th>\n",
       "      <td>6</td>\n",
       "      <td>39</td>\n",
       "      <td>45</td>\n",
       "    </tr>\n",
       "    <tr>\n",
       "      <th>mt</th>\n",
       "      <td>30</td>\n",
       "      <td>100</td>\n",
       "      <td>130</td>\n",
       "    </tr>\n",
       "    <tr>\n",
       "      <th>pa</th>\n",
       "      <td>2</td>\n",
       "      <td>6</td>\n",
       "      <td>8</td>\n",
       "    </tr>\n",
       "    <tr>\n",
       "      <th>pb</th>\n",
       "      <td>6</td>\n",
       "      <td>24</td>\n",
       "      <td>30</td>\n",
       "    </tr>\n",
       "    <tr>\n",
       "      <th>pe</th>\n",
       "      <td>62</td>\n",
       "      <td>337</td>\n",
       "      <td>399</td>\n",
       "    </tr>\n",
       "    <tr>\n",
       "      <th>pi</th>\n",
       "      <td>1</td>\n",
       "      <td>9</td>\n",
       "      <td>10</td>\n",
       "    </tr>\n",
       "    <tr>\n",
       "      <th>pr</th>\n",
       "      <td>1431</td>\n",
       "      <td>5796</td>\n",
       "      <td>7227</td>\n",
       "    </tr>\n",
       "    <tr>\n",
       "      <th>rj</th>\n",
       "      <td>752</td>\n",
       "      <td>3278</td>\n",
       "      <td>4030</td>\n",
       "    </tr>\n",
       "    <tr>\n",
       "      <th>rn</th>\n",
       "      <td>9</td>\n",
       "      <td>42</td>\n",
       "      <td>51</td>\n",
       "    </tr>\n",
       "    <tr>\n",
       "      <th>ro</th>\n",
       "      <td>3</td>\n",
       "      <td>9</td>\n",
       "      <td>12</td>\n",
       "    </tr>\n",
       "    <tr>\n",
       "      <th>rs</th>\n",
       "      <td>308</td>\n",
       "      <td>1573</td>\n",
       "      <td>1881</td>\n",
       "    </tr>\n",
       "    <tr>\n",
       "      <th>sc</th>\n",
       "      <td>710</td>\n",
       "      <td>2765</td>\n",
       "      <td>3475</td>\n",
       "    </tr>\n",
       "    <tr>\n",
       "      <th>se</th>\n",
       "      <td>2</td>\n",
       "      <td>5</td>\n",
       "      <td>7</td>\n",
       "    </tr>\n",
       "    <tr>\n",
       "      <th>sp</th>\n",
       "      <td>14660</td>\n",
       "      <td>51134</td>\n",
       "      <td>65794</td>\n",
       "    </tr>\n",
       "    <tr>\n",
       "      <th>All</th>\n",
       "      <td>19868</td>\n",
       "      <td>73067</td>\n",
       "      <td>92935</td>\n",
       "    </tr>\n",
       "  </tbody>\n",
       "</table>\n",
       "</div>"
      ],
      "text/plain": [
       "humor                   0      1    All\n",
       "seller_sigla_state                     \n",
       "am                      2      1      3\n",
       "ba                    104    435    539\n",
       "ce                     11     71     82\n",
       "df                    174    605    779\n",
       "es                     64    236    300\n",
       "go                     61    370    431\n",
       "ma                     90    290    380\n",
       "mg                   1380   5942   7322\n",
       "ms                      6     39     45\n",
       "mt                     30    100    130\n",
       "pa                      2      6      8\n",
       "pb                      6     24     30\n",
       "pe                     62    337    399\n",
       "pi                      1      9     10\n",
       "pr                   1431   5796   7227\n",
       "rj                    752   3278   4030\n",
       "rn                      9     42     51\n",
       "ro                      3      9     12\n",
       "rs                    308   1573   1881\n",
       "sc                    710   2765   3475\n",
       "se                      2      5      7\n",
       "sp                  14660  51134  65794\n",
       "All                 19868  73067  92935"
      ]
     },
     "execution_count": 22,
     "metadata": {},
     "output_type": "execute_result"
    }
   ],
   "source": [
    "crosstab"
   ]
  },
  {
   "cell_type": "code",
   "execution_count": 23,
   "metadata": {},
   "outputs": [
    {
     "data": {
      "text/html": [
       "<div>\n",
       "<style scoped>\n",
       "    .dataframe tbody tr th:only-of-type {\n",
       "        vertical-align: middle;\n",
       "    }\n",
       "\n",
       "    .dataframe tbody tr th {\n",
       "        vertical-align: top;\n",
       "    }\n",
       "\n",
       "    .dataframe thead th {\n",
       "        text-align: right;\n",
       "    }\n",
       "</style>\n",
       "<table border=\"1\" class=\"dataframe\">\n",
       "  <thead>\n",
       "    <tr style=\"text-align: right;\">\n",
       "      <th></th>\n",
       "      <th>review_score</th>\n",
       "      <th>qtde_boleto</th>\n",
       "      <th>qtde_credit_card</th>\n",
       "      <th>qtde_debit_card</th>\n",
       "      <th>qtde_voucher</th>\n",
       "      <th>soma_payment</th>\n",
       "      <th>qtde_installments</th>\n",
       "      <th>AR_MUN_2018</th>\n",
       "      <th>POPULAÇÃO ESTIMADA</th>\n",
       "      <th>PIB</th>\n",
       "      <th>gini</th>\n",
       "      <th>dias</th>\n",
       "      <th>humor</th>\n",
       "    </tr>\n",
       "  </thead>\n",
       "  <tbody>\n",
       "    <tr>\n",
       "      <th>count</th>\n",
       "      <td>92,935.00</td>\n",
       "      <td>92,935.00</td>\n",
       "      <td>92,935.00</td>\n",
       "      <td>92,935.00</td>\n",
       "      <td>92,935.00</td>\n",
       "      <td>92,935.00</td>\n",
       "      <td>92,935.00</td>\n",
       "      <td>92,935.00</td>\n",
       "      <td>92,935.00</td>\n",
       "      <td>92,935.00</td>\n",
       "      <td>92,935.00</td>\n",
       "      <td>92,935.00</td>\n",
       "      <td>92,935.00</td>\n",
       "    </tr>\n",
       "    <tr>\n",
       "      <th>mean</th>\n",
       "      <td>4.15</td>\n",
       "      <td>0.20</td>\n",
       "      <td>0.77</td>\n",
       "      <td>0.02</td>\n",
       "      <td>0.06</td>\n",
       "      <td>160.50</td>\n",
       "      <td>2.93</td>\n",
       "      <td>1,279.54</td>\n",
       "      <td>2,826,551.15</td>\n",
       "      <td>151,772,033.94</td>\n",
       "      <td>0.79</td>\n",
       "      <td>12.56</td>\n",
       "      <td>0.79</td>\n",
       "    </tr>\n",
       "    <tr>\n",
       "      <th>std</th>\n",
       "      <td>1.29</td>\n",
       "      <td>0.40</td>\n",
       "      <td>0.43</td>\n",
       "      <td>0.12</td>\n",
       "      <td>0.41</td>\n",
       "      <td>219.69</td>\n",
       "      <td>2.72</td>\n",
       "      <td>3,553.72</td>\n",
       "      <td>4,325,960.32</td>\n",
       "      <td>247,687,238.20</td>\n",
       "      <td>0.11</td>\n",
       "      <td>9.51</td>\n",
       "      <td>0.41</td>\n",
       "    </tr>\n",
       "    <tr>\n",
       "      <th>min</th>\n",
       "      <td>1.00</td>\n",
       "      <td>0.00</td>\n",
       "      <td>0.00</td>\n",
       "      <td>0.00</td>\n",
       "      <td>0.00</td>\n",
       "      <td>0.00</td>\n",
       "      <td>0.00</td>\n",
       "      <td>3.56</td>\n",
       "      <td>838.00</td>\n",
       "      <td>14,959.96</td>\n",
       "      <td>0.35</td>\n",
       "      <td>0.53</td>\n",
       "      <td>0.00</td>\n",
       "    </tr>\n",
       "    <tr>\n",
       "      <th>25%</th>\n",
       "      <td>4.00</td>\n",
       "      <td>0.00</td>\n",
       "      <td>1.00</td>\n",
       "      <td>0.00</td>\n",
       "      <td>0.00</td>\n",
       "      <td>62.01</td>\n",
       "      <td>1.00</td>\n",
       "      <td>318.68</td>\n",
       "      <td>102,268.00</td>\n",
       "      <td>2,921,663.24</td>\n",
       "      <td>0.74</td>\n",
       "      <td>6.79</td>\n",
       "      <td>1.00</td>\n",
       "    </tr>\n",
       "    <tr>\n",
       "      <th>50%</th>\n",
       "      <td>5.00</td>\n",
       "      <td>0.00</td>\n",
       "      <td>1.00</td>\n",
       "      <td>0.00</td>\n",
       "      <td>0.00</td>\n",
       "      <td>105.28</td>\n",
       "      <td>2.00</td>\n",
       "      <td>693.83</td>\n",
       "      <td>477,798.00</td>\n",
       "      <td>18,469,475.89</td>\n",
       "      <td>0.80</td>\n",
       "      <td>10.22</td>\n",
       "      <td>1.00</td>\n",
       "    </tr>\n",
       "    <tr>\n",
       "      <th>75%</th>\n",
       "      <td>5.00</td>\n",
       "      <td>0.00</td>\n",
       "      <td>1.00</td>\n",
       "      <td>0.00</td>\n",
       "      <td>0.00</td>\n",
       "      <td>177.28</td>\n",
       "      <td>4.00</td>\n",
       "      <td>1,521.11</td>\n",
       "      <td>2,938,092.00</td>\n",
       "      <td>88,277,462.53</td>\n",
       "      <td>0.87</td>\n",
       "      <td>15.71</td>\n",
       "      <td>1.00</td>\n",
       "    </tr>\n",
       "    <tr>\n",
       "      <th>max</th>\n",
       "      <td>5.00</td>\n",
       "      <td>1.00</td>\n",
       "      <td>2.00</td>\n",
       "      <td>2.00</td>\n",
       "      <td>25.00</td>\n",
       "      <td>13,664.08</td>\n",
       "      <td>24.00</td>\n",
       "      <td>159,533.33</td>\n",
       "      <td>12,038,175.00</td>\n",
       "      <td>687,035,889.61</td>\n",
       "      <td>0.99</td>\n",
       "      <td>209.63</td>\n",
       "      <td>1.00</td>\n",
       "    </tr>\n",
       "  </tbody>\n",
       "</table>\n",
       "</div>"
      ],
      "text/plain": [
       "       review_score  qtde_boleto  qtde_credit_card  qtde_debit_card  \\\n",
       "count     92,935.00    92,935.00         92,935.00        92,935.00   \n",
       "mean           4.15         0.20              0.77             0.02   \n",
       "std            1.29         0.40              0.43             0.12   \n",
       "min            1.00         0.00              0.00             0.00   \n",
       "25%            4.00         0.00              1.00             0.00   \n",
       "50%            5.00         0.00              1.00             0.00   \n",
       "75%            5.00         0.00              1.00             0.00   \n",
       "max            5.00         1.00              2.00             2.00   \n",
       "\n",
       "       qtde_voucher  soma_payment  qtde_installments  AR_MUN_2018  \\\n",
       "count     92,935.00     92,935.00          92,935.00    92,935.00   \n",
       "mean           0.06        160.50               2.93     1,279.54   \n",
       "std            0.41        219.69               2.72     3,553.72   \n",
       "min            0.00          0.00               0.00         3.56   \n",
       "25%            0.00         62.01               1.00       318.68   \n",
       "50%            0.00        105.28               2.00       693.83   \n",
       "75%            0.00        177.28               4.00     1,521.11   \n",
       "max           25.00     13,664.08              24.00   159,533.33   \n",
       "\n",
       "       POPULAÇÃO ESTIMADA            PIB      gini      dias     humor  \n",
       "count           92,935.00      92,935.00 92,935.00 92,935.00 92,935.00  \n",
       "mean         2,826,551.15 151,772,033.94      0.79     12.56      0.79  \n",
       "std          4,325,960.32 247,687,238.20      0.11      9.51      0.41  \n",
       "min                838.00      14,959.96      0.35      0.53      0.00  \n",
       "25%            102,268.00   2,921,663.24      0.74      6.79      1.00  \n",
       "50%            477,798.00  18,469,475.89      0.80     10.22      1.00  \n",
       "75%          2,938,092.00  88,277,462.53      0.87     15.71      1.00  \n",
       "max         12,038,175.00 687,035,889.61      0.99    209.63      1.00  "
      ]
     },
     "execution_count": 23,
     "metadata": {},
     "output_type": "execute_result"
    }
   ],
   "source": [
    "olist_ibge_v14.describe()"
   ]
  },
  {
   "cell_type": "code",
   "execution_count": 24,
   "metadata": {},
   "outputs": [],
   "source": [
    "# Deletar 'qtde_boleto', por correlação de -0.9 com 'qtde_credit_card', e 'POPULAÇAO ESTIMADA', por ter correlação de 1 com 'PIB'\n",
    "# Deletar 'order_id' por ser somente chave primária e 'review_score', pois já temos oriunda dela a coluna 'humor', nosso alvo.\n",
    "olist_ibge_v15 = olist_ibge_v14.drop(['qtde_boleto', 'POPULAÇÃO ESTIMADA', 'order_id', 'review_score'], axis=1)"
   ]
  },
  {
   "cell_type": "code",
   "execution_count": 25,
   "metadata": {},
   "outputs": [
    {
     "data": {
      "text/plain": [
       "((92935, 15), (92935, 19))"
      ]
     },
     "execution_count": 25,
     "metadata": {},
     "output_type": "execute_result"
    }
   ],
   "source": [
    "olist_ibge_v15.shape, olist_ibge_v14.shape"
   ]
  },
  {
   "cell_type": "code",
   "execution_count": 26,
   "metadata": {},
   "outputs": [
    {
     "name": "stdout",
     "output_type": "stream",
     "text": [
      "<class 'pandas.core.frame.DataFrame'>\n",
      "RangeIndex: 92935 entries, 0 to 92934\n",
      "Data columns (total 15 columns):\n",
      "product_id               92935 non-null object\n",
      "seller_id                92935 non-null object\n",
      "product_category_name    92935 non-null object\n",
      "sigla_state              92935 non-null object\n",
      "seller_sigla_state       92935 non-null object\n",
      "qtde_credit_card         92935 non-null int64\n",
      "qtde_debit_card          92935 non-null int64\n",
      "qtde_voucher             92935 non-null int64\n",
      "soma_payment             92935 non-null float64\n",
      "qtde_installments        92935 non-null int64\n",
      "AR_MUN_2018              92935 non-null float64\n",
      "PIB                      92935 non-null float64\n",
      "gini                     92935 non-null float64\n",
      "dias                     92935 non-null float64\n",
      "humor                    92935 non-null int64\n",
      "dtypes: float64(5), int64(5), object(5)\n",
      "memory usage: 10.6+ MB\n"
     ]
    }
   ],
   "source": [
    "olist_ibge_v15.info()"
   ]
  },
  {
   "cell_type": "code",
   "execution_count": 27,
   "metadata": {},
   "outputs": [
    {
     "data": {
      "text/html": [
       "<div>\n",
       "<style scoped>\n",
       "    .dataframe tbody tr th:only-of-type {\n",
       "        vertical-align: middle;\n",
       "    }\n",
       "\n",
       "    .dataframe tbody tr th {\n",
       "        vertical-align: top;\n",
       "    }\n",
       "\n",
       "    .dataframe thead th {\n",
       "        text-align: right;\n",
       "    }\n",
       "</style>\n",
       "<table border=\"1\" class=\"dataframe\">\n",
       "  <thead>\n",
       "    <tr style=\"text-align: right;\">\n",
       "      <th></th>\n",
       "      <th>product_id</th>\n",
       "      <th>seller_id</th>\n",
       "      <th>product_category_name</th>\n",
       "      <th>sigla_state</th>\n",
       "      <th>seller_sigla_state</th>\n",
       "      <th>qtde_credit_card</th>\n",
       "      <th>qtde_debit_card</th>\n",
       "      <th>qtde_voucher</th>\n",
       "      <th>soma_payment</th>\n",
       "      <th>qtde_installments</th>\n",
       "      <th>AR_MUN_2018</th>\n",
       "      <th>PIB</th>\n",
       "      <th>gini</th>\n",
       "      <th>dias</th>\n",
       "      <th>humor</th>\n",
       "    </tr>\n",
       "  </thead>\n",
       "  <tbody>\n",
       "    <tr>\n",
       "      <th>0</th>\n",
       "      <td>418d480693f2f01e9cf4568db0346d28</td>\n",
       "      <td>12b9676b00f60f3b700e83af21824c0e</td>\n",
       "      <td>cool_stuff</td>\n",
       "      <td>mg</td>\n",
       "      <td>rs</td>\n",
       "      <td>1</td>\n",
       "      <td>0</td>\n",
       "      <td>0</td>\n",
       "      <td>219.63</td>\n",
       "      <td>10</td>\n",
       "      <td>881.06</td>\n",
       "      <td>180,088.78</td>\n",
       "      <td>0.65</td>\n",
       "      <td>21.11</td>\n",
       "      <td>1</td>\n",
       "    </tr>\n",
       "    <tr>\n",
       "      <th>1</th>\n",
       "      <td>1081ae52311daac87fb54ba8ce4670ac</td>\n",
       "      <td>4371b634e0efc0e22b09b52907d9d469</td>\n",
       "      <td>esporte_lazer</td>\n",
       "      <td>mg</td>\n",
       "      <td>sp</td>\n",
       "      <td>1</td>\n",
       "      <td>0</td>\n",
       "      <td>0</td>\n",
       "      <td>135.59</td>\n",
       "      <td>1</td>\n",
       "      <td>881.06</td>\n",
       "      <td>180,088.78</td>\n",
       "      <td>0.65</td>\n",
       "      <td>5.84</td>\n",
       "      <td>1</td>\n",
       "    </tr>\n",
       "    <tr>\n",
       "      <th>2</th>\n",
       "      <td>c1aabbb6f4caec9f5bf7cd80519d6cc0</td>\n",
       "      <td>579891617139df7d8671d373f0669622</td>\n",
       "      <td>livros_interesse_geral</td>\n",
       "      <td>mg</td>\n",
       "      <td>rj</td>\n",
       "      <td>0</td>\n",
       "      <td>0</td>\n",
       "      <td>0</td>\n",
       "      <td>58.28</td>\n",
       "      <td>1</td>\n",
       "      <td>881.06</td>\n",
       "      <td>180,088.78</td>\n",
       "      <td>0.65</td>\n",
       "      <td>8.63</td>\n",
       "      <td>1</td>\n",
       "    </tr>\n",
       "    <tr>\n",
       "      <th>3</th>\n",
       "      <td>0a9b9a871ffaec6c0198334558a6c6a1</td>\n",
       "      <td>f9244d45189d3a3605499abddeade7d5</td>\n",
       "      <td>eletroportateis</td>\n",
       "      <td>go</td>\n",
       "      <td>sp</td>\n",
       "      <td>1</td>\n",
       "      <td>0</td>\n",
       "      <td>0</td>\n",
       "      <td>1,025.52</td>\n",
       "      <td>8</td>\n",
       "      <td>1,045.13</td>\n",
       "      <td>287,984.49</td>\n",
       "      <td>0.73</td>\n",
       "      <td>29.10</td>\n",
       "      <td>1</td>\n",
       "    </tr>\n",
       "    <tr>\n",
       "      <th>4</th>\n",
       "      <td>d47821b10559fffaefcf3e57d2b5ff76</td>\n",
       "      <td>0df3984f9dfb3d49ac6366acbd3bbb85</td>\n",
       "      <td>beleza_saude</td>\n",
       "      <td>mg</td>\n",
       "      <td>mg</td>\n",
       "      <td>1</td>\n",
       "      <td>0</td>\n",
       "      <td>0</td>\n",
       "      <td>220.97</td>\n",
       "      <td>4</td>\n",
       "      <td>1,817.07</td>\n",
       "      <td>430,235.36</td>\n",
       "      <td>0.66</td>\n",
       "      <td>4.80</td>\n",
       "      <td>1</td>\n",
       "    </tr>\n",
       "  </tbody>\n",
       "</table>\n",
       "</div>"
      ],
      "text/plain": [
       "                         product_id                         seller_id  \\\n",
       "0  418d480693f2f01e9cf4568db0346d28  12b9676b00f60f3b700e83af21824c0e   \n",
       "1  1081ae52311daac87fb54ba8ce4670ac  4371b634e0efc0e22b09b52907d9d469   \n",
       "2  c1aabbb6f4caec9f5bf7cd80519d6cc0  579891617139df7d8671d373f0669622   \n",
       "3  0a9b9a871ffaec6c0198334558a6c6a1  f9244d45189d3a3605499abddeade7d5   \n",
       "4  d47821b10559fffaefcf3e57d2b5ff76  0df3984f9dfb3d49ac6366acbd3bbb85   \n",
       "\n",
       "    product_category_name sigla_state seller_sigla_state  qtde_credit_card  \\\n",
       "0              cool_stuff          mg                 rs                 1   \n",
       "1           esporte_lazer          mg                 sp                 1   \n",
       "2  livros_interesse_geral          mg                 rj                 0   \n",
       "3         eletroportateis          go                 sp                 1   \n",
       "4            beleza_saude          mg                 mg                 1   \n",
       "\n",
       "   qtde_debit_card  qtde_voucher  soma_payment  qtde_installments  \\\n",
       "0                0             0        219.63                 10   \n",
       "1                0             0        135.59                  1   \n",
       "2                0             0         58.28                  1   \n",
       "3                0             0      1,025.52                  8   \n",
       "4                0             0        220.97                  4   \n",
       "\n",
       "   AR_MUN_2018        PIB  gini  dias  humor  \n",
       "0       881.06 180,088.78  0.65 21.11      1  \n",
       "1       881.06 180,088.78  0.65  5.84      1  \n",
       "2       881.06 180,088.78  0.65  8.63      1  \n",
       "3     1,045.13 287,984.49  0.73 29.10      1  \n",
       "4     1,817.07 430,235.36  0.66  4.80      1  "
      ]
     },
     "execution_count": 27,
     "metadata": {},
     "output_type": "execute_result"
    }
   ],
   "source": [
    "olist_ibge_v15.head()"
   ]
  },
  {
   "cell_type": "markdown",
   "metadata": {},
   "source": [
    "### Importação da biblioteca LabelEncoder"
   ]
  },
  {
   "cell_type": "code",
   "execution_count": 28,
   "metadata": {},
   "outputs": [],
   "source": [
    "from sklearn.preprocessing import LabelEncoder"
   ]
  },
  {
   "cell_type": "markdown",
   "metadata": {},
   "source": [
    "### Chamando o objeto"
   ]
  },
  {
   "cell_type": "code",
   "execution_count": 29,
   "metadata": {},
   "outputs": [],
   "source": [
    "le = LabelEncoder()"
   ]
  },
  {
   "cell_type": "markdown",
   "metadata": {},
   "source": [
    "### Verificando o objeto le"
   ]
  },
  {
   "cell_type": "code",
   "execution_count": 30,
   "metadata": {
    "scrolled": true
   },
   "outputs": [
    {
     "data": {
      "text/plain": [
       "LabelEncoder()"
      ]
     },
     "execution_count": 30,
     "metadata": {},
     "output_type": "execute_result"
    }
   ],
   "source": [
    "le"
   ]
  },
  {
   "cell_type": "markdown",
   "metadata": {},
   "source": [
    "### Aplicação do objeto aos dados categóricos de '<font color=red>olist_ibge_v14</font>'"
   ]
  },
  {
   "cell_type": "code",
   "execution_count": 31,
   "metadata": {},
   "outputs": [],
   "source": [
    "le_product_id = le.fit_transform(olist_ibge_v14['product_id'])"
   ]
  },
  {
   "cell_type": "code",
   "execution_count": 32,
   "metadata": {},
   "outputs": [],
   "source": [
    "le_seller_id = le.fit_transform(olist_ibge_v14['seller_id'])"
   ]
  },
  {
   "cell_type": "code",
   "execution_count": 33,
   "metadata": {},
   "outputs": [],
   "source": [
    "le_product_category_name = le.fit_transform(olist_ibge_v14['product_category_name'])"
   ]
  },
  {
   "cell_type": "code",
   "execution_count": 34,
   "metadata": {},
   "outputs": [],
   "source": [
    "le_sigla_state = le.fit_transform(olist_ibge_v14['sigla_state'])"
   ]
  },
  {
   "cell_type": "code",
   "execution_count": 35,
   "metadata": {},
   "outputs": [],
   "source": [
    "le_seller_sigla_state = le.fit_transform(olist_ibge_v14['seller_sigla_state'])"
   ]
  },
  {
   "cell_type": "markdown",
   "metadata": {},
   "source": [
    "### Exibição do array le_sigla_state\n",
    "> le_sigla_state é um array.<br>\n",
    ">Portanto, será necessário transformá-lo em dataframe.  \n",
    ">> Aliás, vamos transformar em array os 05 (cinco) conjuntos gerados acima cujos nomes são 'le_qualquer_coisa'"
   ]
  },
  {
   "cell_type": "code",
   "execution_count": 36,
   "metadata": {},
   "outputs": [
    {
     "data": {
      "text/plain": [
       "array([10, 10, 10, ...,  9,  9, 23])"
      ]
     },
     "execution_count": 36,
     "metadata": {},
     "output_type": "execute_result"
    }
   ],
   "source": [
    "le_sigla_state"
   ]
  },
  {
   "cell_type": "code",
   "execution_count": 37,
   "metadata": {},
   "outputs": [],
   "source": [
    "df_le_product_id = pd.DataFrame(le_product_id,columns = ['le_product_id'])"
   ]
  },
  {
   "cell_type": "code",
   "execution_count": 38,
   "metadata": {},
   "outputs": [],
   "source": [
    "df_le_seller_id = pd.DataFrame(le_seller_id,columns = ['le_seller_id'])"
   ]
  },
  {
   "cell_type": "code",
   "execution_count": 39,
   "metadata": {},
   "outputs": [],
   "source": [
    "df_le_product_category_name = pd.DataFrame(le_product_category_name,columns = ['le_product_category_name'])"
   ]
  },
  {
   "cell_type": "code",
   "execution_count": 40,
   "metadata": {},
   "outputs": [],
   "source": [
    "df_le_sigla_state = pd.DataFrame(le_sigla_state,columns = ['le_sigla_state'])"
   ]
  },
  {
   "cell_type": "code",
   "execution_count": 41,
   "metadata": {},
   "outputs": [],
   "source": [
    "df_le_seller_sigla_state = pd.DataFrame(le_seller_sigla_state,columns = ['le_seller_sigla_state'])"
   ]
  },
  {
   "cell_type": "markdown",
   "metadata": {},
   "source": [
    "###  Exibição das linhas iniciais dos DataFrame do LabelEncoder."
   ]
  },
  {
   "cell_type": "code",
   "execution_count": 42,
   "metadata": {},
   "outputs": [
    {
     "data": {
      "text/html": [
       "<div>\n",
       "<style scoped>\n",
       "    .dataframe tbody tr th:only-of-type {\n",
       "        vertical-align: middle;\n",
       "    }\n",
       "\n",
       "    .dataframe tbody tr th {\n",
       "        vertical-align: top;\n",
       "    }\n",
       "\n",
       "    .dataframe thead th {\n",
       "        text-align: right;\n",
       "    }\n",
       "</style>\n",
       "<table border=\"1\" class=\"dataframe\">\n",
       "  <thead>\n",
       "    <tr style=\"text-align: right;\">\n",
       "      <th></th>\n",
       "      <th>le_product_id</th>\n",
       "    </tr>\n",
       "  </thead>\n",
       "  <tbody>\n",
       "    <tr>\n",
       "      <th>0</th>\n",
       "      <td>7841</td>\n",
       "    </tr>\n",
       "    <tr>\n",
       "      <th>1</th>\n",
       "      <td>1976</td>\n",
       "    </tr>\n",
       "    <tr>\n",
       "      <th>2</th>\n",
       "      <td>22780</td>\n",
       "    </tr>\n",
       "    <tr>\n",
       "      <th>3</th>\n",
       "      <td>1247</td>\n",
       "    </tr>\n",
       "    <tr>\n",
       "      <th>4</th>\n",
       "      <td>25080</td>\n",
       "    </tr>\n",
       "  </tbody>\n",
       "</table>\n",
       "</div>"
      ],
      "text/plain": [
       "   le_product_id\n",
       "0           7841\n",
       "1           1976\n",
       "2          22780\n",
       "3           1247\n",
       "4          25080"
      ]
     },
     "execution_count": 42,
     "metadata": {},
     "output_type": "execute_result"
    }
   ],
   "source": [
    "df_le_product_id.head()"
   ]
  },
  {
   "cell_type": "code",
   "execution_count": 43,
   "metadata": {},
   "outputs": [
    {
     "data": {
      "text/html": [
       "<div>\n",
       "<style scoped>\n",
       "    .dataframe tbody tr th:only-of-type {\n",
       "        vertical-align: middle;\n",
       "    }\n",
       "\n",
       "    .dataframe tbody tr th {\n",
       "        vertical-align: top;\n",
       "    }\n",
       "\n",
       "    .dataframe thead th {\n",
       "        text-align: right;\n",
       "    }\n",
       "</style>\n",
       "<table border=\"1\" class=\"dataframe\">\n",
       "  <thead>\n",
       "    <tr style=\"text-align: right;\">\n",
       "      <th></th>\n",
       "      <th>le_seller_id</th>\n",
       "    </tr>\n",
       "  </thead>\n",
       "  <tbody>\n",
       "    <tr>\n",
       "      <th>0</th>\n",
       "      <td>207</td>\n",
       "    </tr>\n",
       "    <tr>\n",
       "      <th>1</th>\n",
       "      <td>769</td>\n",
       "    </tr>\n",
       "    <tr>\n",
       "      <th>2</th>\n",
       "      <td>1011</td>\n",
       "    </tr>\n",
       "    <tr>\n",
       "      <th>3</th>\n",
       "      <td>2810</td>\n",
       "    </tr>\n",
       "    <tr>\n",
       "      <th>4</th>\n",
       "      <td>160</td>\n",
       "    </tr>\n",
       "  </tbody>\n",
       "</table>\n",
       "</div>"
      ],
      "text/plain": [
       "   le_seller_id\n",
       "0           207\n",
       "1           769\n",
       "2          1011\n",
       "3          2810\n",
       "4           160"
      ]
     },
     "execution_count": 43,
     "metadata": {},
     "output_type": "execute_result"
    }
   ],
   "source": [
    "df_le_seller_id.head()"
   ]
  },
  {
   "cell_type": "code",
   "execution_count": 44,
   "metadata": {},
   "outputs": [
    {
     "data": {
      "text/html": [
       "<div>\n",
       "<style scoped>\n",
       "    .dataframe tbody tr th:only-of-type {\n",
       "        vertical-align: middle;\n",
       "    }\n",
       "\n",
       "    .dataframe tbody tr th {\n",
       "        vertical-align: top;\n",
       "    }\n",
       "\n",
       "    .dataframe thead th {\n",
       "        text-align: right;\n",
       "    }\n",
       "</style>\n",
       "<table border=\"1\" class=\"dataframe\">\n",
       "  <thead>\n",
       "    <tr style=\"text-align: right;\">\n",
       "      <th></th>\n",
       "      <th>le_product_category_name</th>\n",
       "    </tr>\n",
       "  </thead>\n",
       "  <tbody>\n",
       "    <tr>\n",
       "      <th>0</th>\n",
       "      <td>26</td>\n",
       "    </tr>\n",
       "    <tr>\n",
       "      <th>1</th>\n",
       "      <td>32</td>\n",
       "    </tr>\n",
       "    <tr>\n",
       "      <th>2</th>\n",
       "      <td>48</td>\n",
       "    </tr>\n",
       "    <tr>\n",
       "      <th>3</th>\n",
       "      <td>31</td>\n",
       "    </tr>\n",
       "    <tr>\n",
       "      <th>4</th>\n",
       "      <td>11</td>\n",
       "    </tr>\n",
       "  </tbody>\n",
       "</table>\n",
       "</div>"
      ],
      "text/plain": [
       "   le_product_category_name\n",
       "0                        26\n",
       "1                        32\n",
       "2                        48\n",
       "3                        31\n",
       "4                        11"
      ]
     },
     "execution_count": 44,
     "metadata": {},
     "output_type": "execute_result"
    }
   ],
   "source": [
    "df_le_product_category_name.head()"
   ]
  },
  {
   "cell_type": "code",
   "execution_count": 45,
   "metadata": {},
   "outputs": [
    {
     "data": {
      "text/html": [
       "<div>\n",
       "<style scoped>\n",
       "    .dataframe tbody tr th:only-of-type {\n",
       "        vertical-align: middle;\n",
       "    }\n",
       "\n",
       "    .dataframe tbody tr th {\n",
       "        vertical-align: top;\n",
       "    }\n",
       "\n",
       "    .dataframe thead th {\n",
       "        text-align: right;\n",
       "    }\n",
       "</style>\n",
       "<table border=\"1\" class=\"dataframe\">\n",
       "  <thead>\n",
       "    <tr style=\"text-align: right;\">\n",
       "      <th></th>\n",
       "      <th>le_sigla_state</th>\n",
       "    </tr>\n",
       "  </thead>\n",
       "  <tbody>\n",
       "    <tr>\n",
       "      <th>0</th>\n",
       "      <td>10</td>\n",
       "    </tr>\n",
       "    <tr>\n",
       "      <th>1</th>\n",
       "      <td>10</td>\n",
       "    </tr>\n",
       "    <tr>\n",
       "      <th>2</th>\n",
       "      <td>10</td>\n",
       "    </tr>\n",
       "    <tr>\n",
       "      <th>3</th>\n",
       "      <td>8</td>\n",
       "    </tr>\n",
       "    <tr>\n",
       "      <th>4</th>\n",
       "      <td>10</td>\n",
       "    </tr>\n",
       "  </tbody>\n",
       "</table>\n",
       "</div>"
      ],
      "text/plain": [
       "   le_sigla_state\n",
       "0              10\n",
       "1              10\n",
       "2              10\n",
       "3               8\n",
       "4              10"
      ]
     },
     "execution_count": 45,
     "metadata": {},
     "output_type": "execute_result"
    }
   ],
   "source": [
    "df_le_sigla_state.head()"
   ]
  },
  {
   "cell_type": "code",
   "execution_count": 46,
   "metadata": {},
   "outputs": [
    {
     "data": {
      "text/html": [
       "<div>\n",
       "<style scoped>\n",
       "    .dataframe tbody tr th:only-of-type {\n",
       "        vertical-align: middle;\n",
       "    }\n",
       "\n",
       "    .dataframe tbody tr th {\n",
       "        vertical-align: top;\n",
       "    }\n",
       "\n",
       "    .dataframe thead th {\n",
       "        text-align: right;\n",
       "    }\n",
       "</style>\n",
       "<table border=\"1\" class=\"dataframe\">\n",
       "  <thead>\n",
       "    <tr style=\"text-align: right;\">\n",
       "      <th></th>\n",
       "      <th>le_seller_sigla_state</th>\n",
       "    </tr>\n",
       "  </thead>\n",
       "  <tbody>\n",
       "    <tr>\n",
       "      <th>0</th>\n",
       "      <td>18</td>\n",
       "    </tr>\n",
       "    <tr>\n",
       "      <th>1</th>\n",
       "      <td>21</td>\n",
       "    </tr>\n",
       "    <tr>\n",
       "      <th>2</th>\n",
       "      <td>15</td>\n",
       "    </tr>\n",
       "    <tr>\n",
       "      <th>3</th>\n",
       "      <td>21</td>\n",
       "    </tr>\n",
       "    <tr>\n",
       "      <th>4</th>\n",
       "      <td>7</td>\n",
       "    </tr>\n",
       "  </tbody>\n",
       "</table>\n",
       "</div>"
      ],
      "text/plain": [
       "   le_seller_sigla_state\n",
       "0                     18\n",
       "1                     21\n",
       "2                     15\n",
       "3                     21\n",
       "4                      7"
      ]
     },
     "execution_count": 46,
     "metadata": {},
     "output_type": "execute_result"
    }
   ],
   "source": [
    "df_le_seller_sigla_state.head()"
   ]
  },
  {
   "cell_type": "markdown",
   "metadata": {},
   "source": [
    "### Junção dos dataframes 'le_qualquer_coisa' com 'olist_ibge_vxx'"
   ]
  },
  {
   "cell_type": "code",
   "execution_count": 47,
   "metadata": {},
   "outputs": [],
   "source": [
    "olist_ibge_v16 = pd.merge(olist_ibge_v15, # tabela da esquerda a ser juntada\n",
    "                         df_le_product_id,  # tabela da direita a ser juntada\n",
    "                         left_index=True, #If True, use the index (row labels) from the left DataFrame or Series as its join key(s)\n",
    "                         right_index=True) #Same usage as left_index for the right DataFrame or Series"
   ]
  },
  {
   "cell_type": "code",
   "execution_count": 48,
   "metadata": {},
   "outputs": [],
   "source": [
    "olist_ibge_v17 = pd.merge(olist_ibge_v16, df_le_seller_id, left_index=True, right_index=True)"
   ]
  },
  {
   "cell_type": "code",
   "execution_count": 49,
   "metadata": {},
   "outputs": [],
   "source": [
    "olist_ibge_v18 = pd.merge(olist_ibge_v17, df_le_product_category_name, left_index=True, right_index=True)"
   ]
  },
  {
   "cell_type": "code",
   "execution_count": 50,
   "metadata": {},
   "outputs": [],
   "source": [
    "olist_ibge_v19 = pd.merge(olist_ibge_v18, df_le_sigla_state, left_index=True, right_index=True)"
   ]
  },
  {
   "cell_type": "code",
   "execution_count": 51,
   "metadata": {},
   "outputs": [],
   "source": [
    "olist_ibge_v20 = pd.merge(olist_ibge_v19, df_le_seller_sigla_state, left_index=True, right_index=True)"
   ]
  },
  {
   "cell_type": "markdown",
   "metadata": {},
   "source": [
    "### Deleção dos campos que foram codificados"
   ]
  },
  {
   "cell_type": "code",
   "execution_count": 52,
   "metadata": {},
   "outputs": [],
   "source": [
    "olist_ibge_v21 = olist_ibge_v20.drop(columns=['product_id', 'seller_id', 'product_category_name', 'sigla_state', 'seller_sigla_state'])"
   ]
  },
  {
   "cell_type": "code",
   "execution_count": 53,
   "metadata": {},
   "outputs": [
    {
     "data": {
      "text/plain": [
       "((92935, 15), (92935, 20), (92935, 15))"
      ]
     },
     "execution_count": 53,
     "metadata": {},
     "output_type": "execute_result"
    }
   ],
   "source": [
    "olist_ibge_v21.shape, olist_ibge_v20.shape, olist_ibge_v15.shape"
   ]
  },
  {
   "cell_type": "code",
   "execution_count": 54,
   "metadata": {},
   "outputs": [
    {
     "name": "stdout",
     "output_type": "stream",
     "text": [
      "<class 'pandas.core.frame.DataFrame'>\n",
      "RangeIndex: 92935 entries, 0 to 92934\n",
      "Data columns (total 15 columns):\n",
      "qtde_credit_card            92935 non-null int64\n",
      "qtde_debit_card             92935 non-null int64\n",
      "qtde_voucher                92935 non-null int64\n",
      "soma_payment                92935 non-null float64\n",
      "qtde_installments           92935 non-null int64\n",
      "AR_MUN_2018                 92935 non-null float64\n",
      "PIB                         92935 non-null float64\n",
      "gini                        92935 non-null float64\n",
      "dias                        92935 non-null float64\n",
      "humor                       92935 non-null int64\n",
      "le_product_id               92935 non-null int32\n",
      "le_seller_id                92935 non-null int32\n",
      "le_product_category_name    92935 non-null int32\n",
      "le_sigla_state              92935 non-null int32\n",
      "le_seller_sigla_state       92935 non-null int32\n",
      "dtypes: float64(5), int32(5), int64(5)\n",
      "memory usage: 8.9 MB\n"
     ]
    }
   ],
   "source": [
    "olist_ibge_v21.info()"
   ]
  },
  {
   "cell_type": "code",
   "execution_count": 55,
   "metadata": {},
   "outputs": [
    {
     "data": {
      "text/html": [
       "<div>\n",
       "<style scoped>\n",
       "    .dataframe tbody tr th:only-of-type {\n",
       "        vertical-align: middle;\n",
       "    }\n",
       "\n",
       "    .dataframe tbody tr th {\n",
       "        vertical-align: top;\n",
       "    }\n",
       "\n",
       "    .dataframe thead th {\n",
       "        text-align: right;\n",
       "    }\n",
       "</style>\n",
       "<table border=\"1\" class=\"dataframe\">\n",
       "  <thead>\n",
       "    <tr style=\"text-align: right;\">\n",
       "      <th></th>\n",
       "      <th>qtde_credit_card</th>\n",
       "      <th>qtde_debit_card</th>\n",
       "      <th>qtde_voucher</th>\n",
       "      <th>soma_payment</th>\n",
       "      <th>qtde_installments</th>\n",
       "      <th>AR_MUN_2018</th>\n",
       "      <th>PIB</th>\n",
       "      <th>gini</th>\n",
       "      <th>dias</th>\n",
       "      <th>humor</th>\n",
       "      <th>le_product_id</th>\n",
       "      <th>le_seller_id</th>\n",
       "      <th>le_product_category_name</th>\n",
       "      <th>le_sigla_state</th>\n",
       "      <th>le_seller_sigla_state</th>\n",
       "    </tr>\n",
       "  </thead>\n",
       "  <tbody>\n",
       "    <tr>\n",
       "      <th>0</th>\n",
       "      <td>1</td>\n",
       "      <td>0</td>\n",
       "      <td>0</td>\n",
       "      <td>219.63</td>\n",
       "      <td>10</td>\n",
       "      <td>881.06</td>\n",
       "      <td>180,088.78</td>\n",
       "      <td>0.65</td>\n",
       "      <td>21.11</td>\n",
       "      <td>1</td>\n",
       "      <td>7841</td>\n",
       "      <td>207</td>\n",
       "      <td>26</td>\n",
       "      <td>10</td>\n",
       "      <td>18</td>\n",
       "    </tr>\n",
       "    <tr>\n",
       "      <th>1</th>\n",
       "      <td>1</td>\n",
       "      <td>0</td>\n",
       "      <td>0</td>\n",
       "      <td>135.59</td>\n",
       "      <td>1</td>\n",
       "      <td>881.06</td>\n",
       "      <td>180,088.78</td>\n",
       "      <td>0.65</td>\n",
       "      <td>5.84</td>\n",
       "      <td>1</td>\n",
       "      <td>1976</td>\n",
       "      <td>769</td>\n",
       "      <td>32</td>\n",
       "      <td>10</td>\n",
       "      <td>21</td>\n",
       "    </tr>\n",
       "    <tr>\n",
       "      <th>2</th>\n",
       "      <td>0</td>\n",
       "      <td>0</td>\n",
       "      <td>0</td>\n",
       "      <td>58.28</td>\n",
       "      <td>1</td>\n",
       "      <td>881.06</td>\n",
       "      <td>180,088.78</td>\n",
       "      <td>0.65</td>\n",
       "      <td>8.63</td>\n",
       "      <td>1</td>\n",
       "      <td>22780</td>\n",
       "      <td>1011</td>\n",
       "      <td>48</td>\n",
       "      <td>10</td>\n",
       "      <td>15</td>\n",
       "    </tr>\n",
       "    <tr>\n",
       "      <th>3</th>\n",
       "      <td>1</td>\n",
       "      <td>0</td>\n",
       "      <td>0</td>\n",
       "      <td>1,025.52</td>\n",
       "      <td>8</td>\n",
       "      <td>1,045.13</td>\n",
       "      <td>287,984.49</td>\n",
       "      <td>0.73</td>\n",
       "      <td>29.10</td>\n",
       "      <td>1</td>\n",
       "      <td>1247</td>\n",
       "      <td>2810</td>\n",
       "      <td>31</td>\n",
       "      <td>8</td>\n",
       "      <td>21</td>\n",
       "    </tr>\n",
       "    <tr>\n",
       "      <th>4</th>\n",
       "      <td>1</td>\n",
       "      <td>0</td>\n",
       "      <td>0</td>\n",
       "      <td>220.97</td>\n",
       "      <td>4</td>\n",
       "      <td>1,817.07</td>\n",
       "      <td>430,235.36</td>\n",
       "      <td>0.66</td>\n",
       "      <td>4.80</td>\n",
       "      <td>1</td>\n",
       "      <td>25080</td>\n",
       "      <td>160</td>\n",
       "      <td>11</td>\n",
       "      <td>10</td>\n",
       "      <td>7</td>\n",
       "    </tr>\n",
       "  </tbody>\n",
       "</table>\n",
       "</div>"
      ],
      "text/plain": [
       "   qtde_credit_card  qtde_debit_card  qtde_voucher  soma_payment  \\\n",
       "0                 1                0             0        219.63   \n",
       "1                 1                0             0        135.59   \n",
       "2                 0                0             0         58.28   \n",
       "3                 1                0             0      1,025.52   \n",
       "4                 1                0             0        220.97   \n",
       "\n",
       "   qtde_installments  AR_MUN_2018        PIB  gini  dias  humor  \\\n",
       "0                 10       881.06 180,088.78  0.65 21.11      1   \n",
       "1                  1       881.06 180,088.78  0.65  5.84      1   \n",
       "2                  1       881.06 180,088.78  0.65  8.63      1   \n",
       "3                  8     1,045.13 287,984.49  0.73 29.10      1   \n",
       "4                  4     1,817.07 430,235.36  0.66  4.80      1   \n",
       "\n",
       "   le_product_id  le_seller_id  le_product_category_name  le_sigla_state  \\\n",
       "0           7841           207                        26              10   \n",
       "1           1976           769                        32              10   \n",
       "2          22780          1011                        48              10   \n",
       "3           1247          2810                        31               8   \n",
       "4          25080           160                        11              10   \n",
       "\n",
       "   le_seller_sigla_state  \n",
       "0                     18  \n",
       "1                     21  \n",
       "2                     15  \n",
       "3                     21  \n",
       "4                      7  "
      ]
     },
     "execution_count": 55,
     "metadata": {},
     "output_type": "execute_result"
    }
   ],
   "source": [
    "olist_ibge_v21.head()"
   ]
  },
  {
   "cell_type": "code",
   "execution_count": 56,
   "metadata": {},
   "outputs": [
    {
     "data": {
      "text/plain": [
       "qtde_credit_card            0\n",
       "qtde_debit_card             0\n",
       "qtde_voucher                0\n",
       "soma_payment                0\n",
       "qtde_installments           0\n",
       "AR_MUN_2018                 0\n",
       "PIB                         0\n",
       "gini                        0\n",
       "dias                        0\n",
       "humor                       0\n",
       "le_product_id               0\n",
       "le_seller_id                0\n",
       "le_product_category_name    0\n",
       "le_sigla_state              0\n",
       "le_seller_sigla_state       0\n",
       "dtype: int64"
      ]
     },
     "execution_count": 56,
     "metadata": {},
     "output_type": "execute_result"
    }
   ],
   "source": [
    "olist_ibge_v21.isna().sum()"
   ]
  },
  {
   "cell_type": "markdown",
   "metadata": {},
   "source": [
    "### Separar as explicativas da variável 'target' (variável alvo, a ser prevista)."
   ]
  },
  {
   "cell_type": "code",
   "execution_count": 57,
   "metadata": {},
   "outputs": [],
   "source": [
    "explicativas = olist_ibge_v21.drop(columns=['humor'])\n",
    "target = olist_ibge_v21['humor']"
   ]
  },
  {
   "cell_type": "code",
   "execution_count": 58,
   "metadata": {},
   "outputs": [
    {
     "data": {
      "text/html": [
       "<div>\n",
       "<style scoped>\n",
       "    .dataframe tbody tr th:only-of-type {\n",
       "        vertical-align: middle;\n",
       "    }\n",
       "\n",
       "    .dataframe tbody tr th {\n",
       "        vertical-align: top;\n",
       "    }\n",
       "\n",
       "    .dataframe thead th {\n",
       "        text-align: right;\n",
       "    }\n",
       "</style>\n",
       "<table border=\"1\" class=\"dataframe\">\n",
       "  <thead>\n",
       "    <tr style=\"text-align: right;\">\n",
       "      <th></th>\n",
       "      <th>qtde_credit_card</th>\n",
       "      <th>qtde_debit_card</th>\n",
       "      <th>qtde_voucher</th>\n",
       "      <th>soma_payment</th>\n",
       "      <th>qtde_installments</th>\n",
       "      <th>AR_MUN_2018</th>\n",
       "      <th>PIB</th>\n",
       "      <th>gini</th>\n",
       "      <th>dias</th>\n",
       "      <th>le_product_id</th>\n",
       "      <th>le_seller_id</th>\n",
       "      <th>le_product_category_name</th>\n",
       "      <th>le_sigla_state</th>\n",
       "      <th>le_seller_sigla_state</th>\n",
       "    </tr>\n",
       "  </thead>\n",
       "  <tbody>\n",
       "    <tr>\n",
       "      <th>0</th>\n",
       "      <td>1</td>\n",
       "      <td>0</td>\n",
       "      <td>0</td>\n",
       "      <td>219.63</td>\n",
       "      <td>10</td>\n",
       "      <td>881.06</td>\n",
       "      <td>180,088.78</td>\n",
       "      <td>0.65</td>\n",
       "      <td>21.11</td>\n",
       "      <td>7841</td>\n",
       "      <td>207</td>\n",
       "      <td>26</td>\n",
       "      <td>10</td>\n",
       "      <td>18</td>\n",
       "    </tr>\n",
       "    <tr>\n",
       "      <th>1</th>\n",
       "      <td>1</td>\n",
       "      <td>0</td>\n",
       "      <td>0</td>\n",
       "      <td>135.59</td>\n",
       "      <td>1</td>\n",
       "      <td>881.06</td>\n",
       "      <td>180,088.78</td>\n",
       "      <td>0.65</td>\n",
       "      <td>5.84</td>\n",
       "      <td>1976</td>\n",
       "      <td>769</td>\n",
       "      <td>32</td>\n",
       "      <td>10</td>\n",
       "      <td>21</td>\n",
       "    </tr>\n",
       "    <tr>\n",
       "      <th>2</th>\n",
       "      <td>0</td>\n",
       "      <td>0</td>\n",
       "      <td>0</td>\n",
       "      <td>58.28</td>\n",
       "      <td>1</td>\n",
       "      <td>881.06</td>\n",
       "      <td>180,088.78</td>\n",
       "      <td>0.65</td>\n",
       "      <td>8.63</td>\n",
       "      <td>22780</td>\n",
       "      <td>1011</td>\n",
       "      <td>48</td>\n",
       "      <td>10</td>\n",
       "      <td>15</td>\n",
       "    </tr>\n",
       "    <tr>\n",
       "      <th>3</th>\n",
       "      <td>1</td>\n",
       "      <td>0</td>\n",
       "      <td>0</td>\n",
       "      <td>1,025.52</td>\n",
       "      <td>8</td>\n",
       "      <td>1,045.13</td>\n",
       "      <td>287,984.49</td>\n",
       "      <td>0.73</td>\n",
       "      <td>29.10</td>\n",
       "      <td>1247</td>\n",
       "      <td>2810</td>\n",
       "      <td>31</td>\n",
       "      <td>8</td>\n",
       "      <td>21</td>\n",
       "    </tr>\n",
       "    <tr>\n",
       "      <th>4</th>\n",
       "      <td>1</td>\n",
       "      <td>0</td>\n",
       "      <td>0</td>\n",
       "      <td>220.97</td>\n",
       "      <td>4</td>\n",
       "      <td>1,817.07</td>\n",
       "      <td>430,235.36</td>\n",
       "      <td>0.66</td>\n",
       "      <td>4.80</td>\n",
       "      <td>25080</td>\n",
       "      <td>160</td>\n",
       "      <td>11</td>\n",
       "      <td>10</td>\n",
       "      <td>7</td>\n",
       "    </tr>\n",
       "  </tbody>\n",
       "</table>\n",
       "</div>"
      ],
      "text/plain": [
       "   qtde_credit_card  qtde_debit_card  qtde_voucher  soma_payment  \\\n",
       "0                 1                0             0        219.63   \n",
       "1                 1                0             0        135.59   \n",
       "2                 0                0             0         58.28   \n",
       "3                 1                0             0      1,025.52   \n",
       "4                 1                0             0        220.97   \n",
       "\n",
       "   qtde_installments  AR_MUN_2018        PIB  gini  dias  le_product_id  \\\n",
       "0                 10       881.06 180,088.78  0.65 21.11           7841   \n",
       "1                  1       881.06 180,088.78  0.65  5.84           1976   \n",
       "2                  1       881.06 180,088.78  0.65  8.63          22780   \n",
       "3                  8     1,045.13 287,984.49  0.73 29.10           1247   \n",
       "4                  4     1,817.07 430,235.36  0.66  4.80          25080   \n",
       "\n",
       "   le_seller_id  le_product_category_name  le_sigla_state  \\\n",
       "0           207                        26              10   \n",
       "1           769                        32              10   \n",
       "2          1011                        48              10   \n",
       "3          2810                        31               8   \n",
       "4           160                        11              10   \n",
       "\n",
       "   le_seller_sigla_state  \n",
       "0                     18  \n",
       "1                     21  \n",
       "2                     15  \n",
       "3                     21  \n",
       "4                      7  "
      ]
     },
     "execution_count": 58,
     "metadata": {},
     "output_type": "execute_result"
    }
   ],
   "source": [
    "explicativas.head()"
   ]
  },
  {
   "cell_type": "code",
   "execution_count": 59,
   "metadata": {},
   "outputs": [
    {
     "data": {
      "text/plain": [
       "qtde_credit_card              int64\n",
       "qtde_debit_card               int64\n",
       "qtde_voucher                  int64\n",
       "soma_payment                float64\n",
       "qtde_installments             int64\n",
       "AR_MUN_2018                 float64\n",
       "PIB                         float64\n",
       "gini                        float64\n",
       "dias                        float64\n",
       "le_product_id                 int32\n",
       "le_seller_id                  int32\n",
       "le_product_category_name      int32\n",
       "le_sigla_state                int32\n",
       "le_seller_sigla_state         int32\n",
       "dtype: object"
      ]
     },
     "execution_count": 59,
     "metadata": {},
     "output_type": "execute_result"
    }
   ],
   "source": [
    "explicativas.dtypes"
   ]
  },
  {
   "cell_type": "code",
   "execution_count": 60,
   "metadata": {},
   "outputs": [
    {
     "data": {
      "text/plain": [
       "0    1\n",
       "1    1\n",
       "2    1\n",
       "3    1\n",
       "4    1\n",
       "Name: humor, dtype: int64"
      ]
     },
     "execution_count": 60,
     "metadata": {},
     "output_type": "execute_result"
    }
   ],
   "source": [
    "target.head()"
   ]
  },
  {
   "cell_type": "markdown",
   "metadata": {},
   "source": [
    "###  Processo de seleção das variaveis"
   ]
  },
  {
   "cell_type": "markdown",
   "metadata": {},
   "source": [
    "### Filtro\n",
    "Utiliza o qui-qiadrado (chi2) para seleção de variáveis."
   ]
  },
  {
   "cell_type": "code",
   "execution_count": 61,
   "metadata": {},
   "outputs": [],
   "source": [
    "from sklearn.feature_selection import SelectKBest\n",
    "from sklearn.feature_selection import chi2"
   ]
  },
  {
   "cell_type": "code",
   "execution_count": 62,
   "metadata": {},
   "outputs": [
    {
     "data": {
      "text/plain": [
       "SelectKBest(k=5, score_func=<function chi2 at 0x000001DCA8EFA488>)"
      ]
     },
     "execution_count": 62,
     "metadata": {},
     "output_type": "execute_result"
    }
   ],
   "source": [
    "chi_selector = SelectKBest(chi2,\n",
    "                           k=5) # número de variáveis que quero que retorne\n",
    "chi_selector"
   ]
  },
  {
   "cell_type": "code",
   "execution_count": 63,
   "metadata": {},
   "outputs": [
    {
     "data": {
      "text/plain": [
       "0    1\n",
       "1    1\n",
       "2    1\n",
       "3    1\n",
       "4    1\n",
       "Name: humor, dtype: int64"
      ]
     },
     "execution_count": 63,
     "metadata": {},
     "output_type": "execute_result"
    }
   ],
   "source": [
    "target.head()"
   ]
  },
  {
   "cell_type": "code",
   "execution_count": 64,
   "metadata": {},
   "outputs": [
    {
     "data": {
      "text/plain": [
       "SelectKBest(k=5, score_func=<function chi2 at 0x000001DCA8EFA488>)"
      ]
     },
     "execution_count": 64,
     "metadata": {},
     "output_type": "execute_result"
    }
   ],
   "source": [
    "chi_selector.fit(explicativas, target)\n"
   ]
  },
  {
   "cell_type": "code",
   "execution_count": 65,
   "metadata": {},
   "outputs": [
    {
     "name": "stdout",
     "output_type": "stream",
     "text": [
      "5  foram as variaveis selecionadas:\n",
      "['soma_payment', 'AR_MUN_2018', 'PIB', 'dias', 'le_product_id']\n"
     ]
    }
   ],
   "source": [
    "chi_support  = chi_selector.get_support()\n",
    "chi_feature = explicativas.loc[:,chi_support].columns.tolist()\n",
    "print(str(len(chi_feature)), ' foram as variaveis selecionadas:')\n",
    "print(chi_feature)"
   ]
  },
  {
   "cell_type": "markdown",
   "metadata": {},
   "source": [
    "##  Wrapper (embrulho)\n",
    "Este método utiliza regressão logística para seleção de variáveis."
   ]
  },
  {
   "cell_type": "code",
   "execution_count": 66,
   "metadata": {},
   "outputs": [
    {
     "name": "stderr",
     "output_type": "stream",
     "text": [
      "D:\\anaconda\\ANACONDA\\lib\\site-packages\\sklearn\\linear_model\\logistic.py:433: FutureWarning: Default solver will be changed to 'lbfgs' in 0.22. Specify a solver to silence this warning.\n",
      "  FutureWarning)\n",
      "D:\\anaconda\\ANACONDA\\lib\\site-packages\\sklearn\\linear_model\\logistic.py:433: FutureWarning: Default solver will be changed to 'lbfgs' in 0.22. Specify a solver to silence this warning.\n",
      "  FutureWarning)\n"
     ]
    },
    {
     "name": "stdout",
     "output_type": "stream",
     "text": [
      "5  foram as variaveis selecionadas:\n",
      "['soma_payment', 'AR_MUN_2018', 'le_product_id', 'le_seller_id', 'le_product_category_name']\n"
     ]
    }
   ],
   "source": [
    "from sklearn.feature_selection import RFE   # RFE é Recursive Feature Elimination\n",
    "from sklearn.linear_model import LogisticRegression # linear_model tem regressao lasso, regressao logística etc. Estamos trazendo\n",
    "                                                    # a regressão logística\n",
    "rfe_selector = RFE(estimator=LogisticRegression(random_state=42),\n",
    "                  step=10,\n",
    "                  n_features_to_select=5)\n",
    "rfe_selector.fit(explicativas, target)\n",
    "rfe_support = rfe_selector.get_support()\n",
    "rfe_feature = explicativas.loc[:,rfe_support].columns.tolist()\n",
    "\n",
    "print(str(len(rfe_feature)), ' foram as variaveis selecionadas:')\n",
    "print(rfe_feature)"
   ]
  },
  {
   "cell_type": "markdown",
   "metadata": {},
   "source": [
    "## Embedded (embarcado)\n",
    "Este método usa random forest para seleção de variáveios"
   ]
  },
  {
   "cell_type": "code",
   "execution_count": 67,
   "metadata": {},
   "outputs": [
    {
     "name": "stderr",
     "output_type": "stream",
     "text": [
      "D:\\anaconda\\ANACONDA\\lib\\site-packages\\sklearn\\ensemble\\forest.py:246: FutureWarning: The default value of n_estimators will change from 10 in version 0.20 to 100 in 0.22.\n",
      "  \"10 in version 0.20 to 100 in 0.22.\", FutureWarning)\n"
     ]
    },
    {
     "name": "stdout",
     "output_type": "stream",
     "text": [
      "4  Foram as variaveis selecionadas:\n",
      "['soma_payment', 'dias', 'le_product_id', 'le_seller_id']\n"
     ]
    }
   ],
   "source": [
    "from sklearn.feature_selection import SelectFromModel\n",
    "from sklearn.ensemble import RandomForestClassifier\n",
    "emb_selector = SelectFromModel(RandomForestClassifier(random_state=42))\n",
    "emb_selector.fit(explicativas, target)\n",
    "emb_support = emb_selector.get_support()\n",
    "emb_feature = explicativas.loc[:,emb_support].columns.tolist()\n",
    "\n",
    "print(str(len(emb_feature)), ' Foram as variaveis selecionadas:')\n",
    "print(emb_feature)"
   ]
  },
  {
   "cell_type": "markdown",
   "metadata": {},
   "source": [
    "##  Voting das variáveis selecionadas"
   ]
  },
  {
   "cell_type": "code",
   "execution_count": 68,
   "metadata": {},
   "outputs": [
    {
     "data": {
      "text/html": [
       "<div>\n",
       "<style scoped>\n",
       "    .dataframe tbody tr th:only-of-type {\n",
       "        vertical-align: middle;\n",
       "    }\n",
       "\n",
       "    .dataframe tbody tr th {\n",
       "        vertical-align: top;\n",
       "    }\n",
       "\n",
       "    .dataframe thead th {\n",
       "        text-align: right;\n",
       "    }\n",
       "</style>\n",
       "<table border=\"1\" class=\"dataframe\">\n",
       "  <thead>\n",
       "    <tr style=\"text-align: right;\">\n",
       "      <th></th>\n",
       "      <th>Variáveis</th>\n",
       "      <th>Chi-2</th>\n",
       "      <th>RFE</th>\n",
       "      <th>RandomForest</th>\n",
       "      <th>Total</th>\n",
       "    </tr>\n",
       "  </thead>\n",
       "  <tbody>\n",
       "    <tr>\n",
       "      <th>3</th>\n",
       "      <td>soma_payment</td>\n",
       "      <td>True</td>\n",
       "      <td>True</td>\n",
       "      <td>True</td>\n",
       "      <td>3</td>\n",
       "    </tr>\n",
       "    <tr>\n",
       "      <th>9</th>\n",
       "      <td>le_product_id</td>\n",
       "      <td>True</td>\n",
       "      <td>True</td>\n",
       "      <td>True</td>\n",
       "      <td>3</td>\n",
       "    </tr>\n",
       "    <tr>\n",
       "      <th>10</th>\n",
       "      <td>le_seller_id</td>\n",
       "      <td>False</td>\n",
       "      <td>True</td>\n",
       "      <td>True</td>\n",
       "      <td>2</td>\n",
       "    </tr>\n",
       "    <tr>\n",
       "      <th>8</th>\n",
       "      <td>dias</td>\n",
       "      <td>True</td>\n",
       "      <td>False</td>\n",
       "      <td>True</td>\n",
       "      <td>2</td>\n",
       "    </tr>\n",
       "    <tr>\n",
       "      <th>5</th>\n",
       "      <td>AR_MUN_2018</td>\n",
       "      <td>True</td>\n",
       "      <td>True</td>\n",
       "      <td>False</td>\n",
       "      <td>2</td>\n",
       "    </tr>\n",
       "    <tr>\n",
       "      <th>11</th>\n",
       "      <td>le_product_category_name</td>\n",
       "      <td>False</td>\n",
       "      <td>True</td>\n",
       "      <td>False</td>\n",
       "      <td>1</td>\n",
       "    </tr>\n",
       "    <tr>\n",
       "      <th>6</th>\n",
       "      <td>PIB</td>\n",
       "      <td>True</td>\n",
       "      <td>False</td>\n",
       "      <td>False</td>\n",
       "      <td>1</td>\n",
       "    </tr>\n",
       "    <tr>\n",
       "      <th>2</th>\n",
       "      <td>qtde_voucher</td>\n",
       "      <td>False</td>\n",
       "      <td>False</td>\n",
       "      <td>False</td>\n",
       "      <td>0</td>\n",
       "    </tr>\n",
       "    <tr>\n",
       "      <th>4</th>\n",
       "      <td>qtde_installments</td>\n",
       "      <td>False</td>\n",
       "      <td>False</td>\n",
       "      <td>False</td>\n",
       "      <td>0</td>\n",
       "    </tr>\n",
       "    <tr>\n",
       "      <th>1</th>\n",
       "      <td>qtde_debit_card</td>\n",
       "      <td>False</td>\n",
       "      <td>False</td>\n",
       "      <td>False</td>\n",
       "      <td>0</td>\n",
       "    </tr>\n",
       "    <tr>\n",
       "      <th>0</th>\n",
       "      <td>qtde_credit_card</td>\n",
       "      <td>False</td>\n",
       "      <td>False</td>\n",
       "      <td>False</td>\n",
       "      <td>0</td>\n",
       "    </tr>\n",
       "    <tr>\n",
       "      <th>12</th>\n",
       "      <td>le_sigla_state</td>\n",
       "      <td>False</td>\n",
       "      <td>False</td>\n",
       "      <td>False</td>\n",
       "      <td>0</td>\n",
       "    </tr>\n",
       "    <tr>\n",
       "      <th>13</th>\n",
       "      <td>le_seller_sigla_state</td>\n",
       "      <td>False</td>\n",
       "      <td>False</td>\n",
       "      <td>False</td>\n",
       "      <td>0</td>\n",
       "    </tr>\n",
       "    <tr>\n",
       "      <th>7</th>\n",
       "      <td>gini</td>\n",
       "      <td>False</td>\n",
       "      <td>False</td>\n",
       "      <td>False</td>\n",
       "      <td>0</td>\n",
       "    </tr>\n",
       "  </tbody>\n",
       "</table>\n",
       "</div>"
      ],
      "text/plain": [
       "                   Variáveis  Chi-2    RFE  RandomForest  Total\n",
       "3               soma_payment   True   True          True      3\n",
       "9              le_product_id   True   True          True      3\n",
       "10              le_seller_id  False   True          True      2\n",
       "8                       dias   True  False          True      2\n",
       "5                AR_MUN_2018   True   True         False      2\n",
       "11  le_product_category_name  False   True         False      1\n",
       "6                        PIB   True  False         False      1\n",
       "2               qtde_voucher  False  False         False      0\n",
       "4          qtde_installments  False  False         False      0\n",
       "1            qtde_debit_card  False  False         False      0\n",
       "0           qtde_credit_card  False  False         False      0\n",
       "12            le_sigla_state  False  False         False      0\n",
       "13     le_seller_sigla_state  False  False         False      0\n",
       "7                       gini  False  False         False      0"
      ]
     },
     "execution_count": 68,
     "metadata": {},
     "output_type": "execute_result"
    }
   ],
   "source": [
    "feature_selection_df = pd.DataFrame({'Variáveis': explicativas.columns, #  cria coluna \"Variaveis' com conteúdo igual nome das colunas\n",
    "                                    'Chi-2':chi_support, #cria co(luna 'Chi-2' (qui-quadrado) com array (True significa variavel foi selecionada)\n",
    "                                    'RFE': rfe_support,\n",
    "                                    'RandomForest':emb_support})\n",
    "\n",
    "feature_selection_df['Total'] = np.sum(feature_selection_df, axis=1) # cria coluna 'Total' com somatório dos valores True.\n",
    "                                                            # axis = 1 significa que está somando valores das colunas.\n",
    "feature_selection_df = feature_selection_df.sort_values(['Total','Variáveis'],\n",
    "                                                       ascending=False)\n",
    "feature_selection_df"
   ]
  },
  {
   "cell_type": "markdown",
   "metadata": {},
   "source": [
    "## Criação de dataframe com variaveis selecionadas"
   ]
  },
  {
   "cell_type": "code",
   "execution_count": 69,
   "metadata": {},
   "outputs": [
    {
     "data": {
      "text/html": [
       "<div>\n",
       "<style scoped>\n",
       "    .dataframe tbody tr th:only-of-type {\n",
       "        vertical-align: middle;\n",
       "    }\n",
       "\n",
       "    .dataframe tbody tr th {\n",
       "        vertical-align: top;\n",
       "    }\n",
       "\n",
       "    .dataframe thead th {\n",
       "        text-align: right;\n",
       "    }\n",
       "</style>\n",
       "<table border=\"1\" class=\"dataframe\">\n",
       "  <thead>\n",
       "    <tr style=\"text-align: right;\">\n",
       "      <th></th>\n",
       "      <th>soma_payment</th>\n",
       "      <th>le_product_id</th>\n",
       "      <th>le_seller_id</th>\n",
       "      <th>le_product_category_name</th>\n",
       "      <th>dias</th>\n",
       "      <th>AR_MUN_2018</th>\n",
       "    </tr>\n",
       "  </thead>\n",
       "  <tbody>\n",
       "    <tr>\n",
       "      <th>0</th>\n",
       "      <td>219.63</td>\n",
       "      <td>7841</td>\n",
       "      <td>207</td>\n",
       "      <td>26</td>\n",
       "      <td>21.11</td>\n",
       "      <td>881.06</td>\n",
       "    </tr>\n",
       "    <tr>\n",
       "      <th>1</th>\n",
       "      <td>135.59</td>\n",
       "      <td>1976</td>\n",
       "      <td>769</td>\n",
       "      <td>32</td>\n",
       "      <td>5.84</td>\n",
       "      <td>881.06</td>\n",
       "    </tr>\n",
       "    <tr>\n",
       "      <th>2</th>\n",
       "      <td>58.28</td>\n",
       "      <td>22780</td>\n",
       "      <td>1011</td>\n",
       "      <td>48</td>\n",
       "      <td>8.63</td>\n",
       "      <td>881.06</td>\n",
       "    </tr>\n",
       "    <tr>\n",
       "      <th>3</th>\n",
       "      <td>1,025.52</td>\n",
       "      <td>1247</td>\n",
       "      <td>2810</td>\n",
       "      <td>31</td>\n",
       "      <td>29.10</td>\n",
       "      <td>1,045.13</td>\n",
       "    </tr>\n",
       "    <tr>\n",
       "      <th>4</th>\n",
       "      <td>220.97</td>\n",
       "      <td>25080</td>\n",
       "      <td>160</td>\n",
       "      <td>11</td>\n",
       "      <td>4.80</td>\n",
       "      <td>1,817.07</td>\n",
       "    </tr>\n",
       "  </tbody>\n",
       "</table>\n",
       "</div>"
      ],
      "text/plain": [
       "   soma_payment  le_product_id  le_seller_id  le_product_category_name  dias  \\\n",
       "0        219.63           7841           207                        26 21.11   \n",
       "1        135.59           1976           769                        32  5.84   \n",
       "2         58.28          22780          1011                        48  8.63   \n",
       "3      1,025.52           1247          2810                        31 29.10   \n",
       "4        220.97          25080           160                        11  4.80   \n",
       "\n",
       "   AR_MUN_2018  \n",
       "0       881.06  \n",
       "1       881.06  \n",
       "2       881.06  \n",
       "3     1,045.13  \n",
       "4     1,817.07  "
      ]
     },
     "execution_count": 69,
     "metadata": {},
     "output_type": "execute_result"
    }
   ],
   "source": [
    "expl = explicativas[['soma_payment','le_product_id','le_seller_id', 'le_product_category_name', 'dias', 'AR_MUN_2018']]\n",
    "expl.head()\n"
   ]
  },
  {
   "cell_type": "code",
   "execution_count": 70,
   "metadata": {},
   "outputs": [
    {
     "name": "stdout",
     "output_type": "stream",
     "text": [
      "<class 'pandas.core.frame.DataFrame'>\n",
      "RangeIndex: 92935 entries, 0 to 92934\n",
      "Data columns (total 6 columns):\n",
      "soma_payment                92935 non-null float64\n",
      "le_product_id               92935 non-null int32\n",
      "le_seller_id                92935 non-null int32\n",
      "le_product_category_name    92935 non-null int32\n",
      "dias                        92935 non-null float64\n",
      "AR_MUN_2018                 92935 non-null float64\n",
      "dtypes: float64(3), int32(3)\n",
      "memory usage: 3.2 MB\n"
     ]
    }
   ],
   "source": [
    "expl.info()"
   ]
  },
  {
   "cell_type": "markdown",
   "metadata": {},
   "source": [
    "# Separação em treino e teste"
   ]
  },
  {
   "cell_type": "code",
   "execution_count": 71,
   "metadata": {},
   "outputs": [],
   "source": [
    "from sklearn.model_selection import train_test_split \n",
    "x_treino, x_teste, y_treino, y_teste = train_test_split(expl,\n",
    "                                                       target,\n",
    "                                                       test_size=0.3,\n",
    "                                                       random_state=196)"
   ]
  },
  {
   "cell_type": "code",
   "execution_count": 72,
   "metadata": {},
   "outputs": [
    {
     "data": {
      "text/html": [
       "<div>\n",
       "<style scoped>\n",
       "    .dataframe tbody tr th:only-of-type {\n",
       "        vertical-align: middle;\n",
       "    }\n",
       "\n",
       "    .dataframe tbody tr th {\n",
       "        vertical-align: top;\n",
       "    }\n",
       "\n",
       "    .dataframe thead th {\n",
       "        text-align: right;\n",
       "    }\n",
       "</style>\n",
       "<table border=\"1\" class=\"dataframe\">\n",
       "  <thead>\n",
       "    <tr style=\"text-align: right;\">\n",
       "      <th></th>\n",
       "      <th>soma_payment</th>\n",
       "      <th>le_product_id</th>\n",
       "      <th>le_seller_id</th>\n",
       "      <th>le_product_category_name</th>\n",
       "      <th>dias</th>\n",
       "      <th>AR_MUN_2018</th>\n",
       "    </tr>\n",
       "  </thead>\n",
       "  <tbody>\n",
       "    <tr>\n",
       "      <th>50730</th>\n",
       "      <td>119.39</td>\n",
       "      <td>23396</td>\n",
       "      <td>1409</td>\n",
       "      <td>26</td>\n",
       "      <td>12.66</td>\n",
       "      <td>2,058.03</td>\n",
       "    </tr>\n",
       "    <tr>\n",
       "      <th>76194</th>\n",
       "      <td>78.69</td>\n",
       "      <td>1596</td>\n",
       "      <td>1561</td>\n",
       "      <td>44</td>\n",
       "      <td>10.81</td>\n",
       "      <td>1,521.11</td>\n",
       "    </tr>\n",
       "    <tr>\n",
       "      <th>72303</th>\n",
       "      <td>21.39</td>\n",
       "      <td>2287</td>\n",
       "      <td>192</td>\n",
       "      <td>8</td>\n",
       "      <td>2.10</td>\n",
       "      <td>1,521.11</td>\n",
       "    </tr>\n",
       "    <tr>\n",
       "      <th>79104</th>\n",
       "      <td>157.79</td>\n",
       "      <td>18793</td>\n",
       "      <td>1946</td>\n",
       "      <td>59</td>\n",
       "      <td>6.46</td>\n",
       "      <td>1,521.11</td>\n",
       "    </tr>\n",
       "    <tr>\n",
       "      <th>16</th>\n",
       "      <td>619.65</td>\n",
       "      <td>14310</td>\n",
       "      <td>597</td>\n",
       "      <td>44</td>\n",
       "      <td>34.55</td>\n",
       "      <td>1,610.65</td>\n",
       "    </tr>\n",
       "  </tbody>\n",
       "</table>\n",
       "</div>"
      ],
      "text/plain": [
       "       soma_payment  le_product_id  le_seller_id  le_product_category_name  \\\n",
       "50730        119.39          23396          1409                        26   \n",
       "76194         78.69           1596          1561                        44   \n",
       "72303         21.39           2287           192                         8   \n",
       "79104        157.79          18793          1946                        59   \n",
       "16           619.65          14310           597                        44   \n",
       "\n",
       "       dias  AR_MUN_2018  \n",
       "50730 12.66     2,058.03  \n",
       "76194 10.81     1,521.11  \n",
       "72303  2.10     1,521.11  \n",
       "79104  6.46     1,521.11  \n",
       "16    34.55     1,610.65  "
      ]
     },
     "execution_count": 72,
     "metadata": {},
     "output_type": "execute_result"
    }
   ],
   "source": [
    "x_treino.head()"
   ]
  },
  {
   "cell_type": "code",
   "execution_count": 73,
   "metadata": {},
   "outputs": [
    {
     "name": "stdout",
     "output_type": "stream",
     "text": [
      "<class 'pandas.core.frame.DataFrame'>\n",
      "Int64Index: 65054 entries, 50730 to 57672\n",
      "Data columns (total 6 columns):\n",
      "soma_payment                65054 non-null float64\n",
      "le_product_id               65054 non-null int32\n",
      "le_seller_id                65054 non-null int32\n",
      "le_product_category_name    65054 non-null int32\n",
      "dias                        65054 non-null float64\n",
      "AR_MUN_2018                 65054 non-null float64\n",
      "dtypes: float64(3), int32(3)\n",
      "memory usage: 2.7 MB\n"
     ]
    }
   ],
   "source": [
    "x_treino.info()"
   ]
  },
  {
   "cell_type": "markdown",
   "metadata": {},
   "source": [
    "# Tuninng de hiperparâmetros\n",
    "Inicialmente, chamar o módulo de tuning.<br>\n",
    "Passo a passo <br>\n",
    "1 - definir um dict(dicionario com os valores dos hiperparams)<br>\n",
    "2 - chamar o modulo de tunning<br>\n",
    "3 - chamar obj do tunning<br>\n",
    "4 - treinamento<br>\n",
    "5 - avaliar os resultados"
   ]
  },
  {
   "cell_type": "markdown",
   "metadata": {},
   "source": [
    "## Gradient Boosting - simplificado"
   ]
  },
  {
   "cell_type": "code",
   "execution_count": 74,
   "metadata": {},
   "outputs": [],
   "source": [
    "#1\n",
    "gb_dict = {\"criterion\": [\"friedman_mse\",  \"mae\"],\n",
    "    'random_state': [1967]\n",
    "}"
   ]
  },
  {
   "cell_type": "code",
   "execution_count": 75,
   "metadata": {},
   "outputs": [
    {
     "data": {
      "text/plain": [
       "{'criterion': ['friedman_mse', 'mae'], 'random_state': [1967]}"
      ]
     },
     "execution_count": 75,
     "metadata": {},
     "output_type": "execute_result"
    }
   ],
   "source": [
    "gb_dict"
   ]
  },
  {
   "cell_type": "code",
   "execution_count": 76,
   "metadata": {},
   "outputs": [],
   "source": [
    "#2\n",
    "from sklearn.model_selection import GridSearchCV"
   ]
  },
  {
   "cell_type": "code",
   "execution_count": 77,
   "metadata": {},
   "outputs": [],
   "source": [
    "#3\n",
    "from sklearn.ensemble import GradientBoostingClassifier\n",
    "gb = GradientBoostingClassifier(random_state=42)"
   ]
  },
  {
   "cell_type": "code",
   "execution_count": 78,
   "metadata": {},
   "outputs": [
    {
     "data": {
      "text/plain": [
       "GradientBoostingClassifier(criterion='friedman_mse', init=None,\n",
       "              learning_rate=0.1, loss='deviance', max_depth=3,\n",
       "              max_features=None, max_leaf_nodes=None,\n",
       "              min_impurity_decrease=0.0, min_impurity_split=None,\n",
       "              min_samples_leaf=1, min_samples_split=2,\n",
       "              min_weight_fraction_leaf=0.0, n_estimators=100,\n",
       "              n_iter_no_change=None, presort='auto', random_state=42,\n",
       "              subsample=1.0, tol=0.0001, validation_fraction=0.1,\n",
       "              verbose=0, warm_start=False)"
      ]
     },
     "execution_count": 78,
     "metadata": {},
     "output_type": "execute_result"
    }
   ],
   "source": [
    "gb"
   ]
  },
  {
   "cell_type": "code",
   "execution_count": 79,
   "metadata": {},
   "outputs": [],
   "source": [
    "gb_grid = GridSearchCV(estimator=gb,       # parametro a ser utilizado. No caso, Gradient Boosting\n",
    "                      param_grid=gb_dict,  # nome do dicionario com parametros\n",
    "                      scoring='accuracy',  # parametro de validação: acurácia\n",
    "                      cv=10)               # numero de partições do conjunto de treino a ser feita na validação cruzada (k-fold)"
   ]
  },
  {
   "cell_type": "code",
   "execution_count": 80,
   "metadata": {},
   "outputs": [
    {
     "data": {
      "text/plain": [
       "GridSearchCV(cv=10, error_score='raise-deprecating',\n",
       "       estimator=GradientBoostingClassifier(criterion='friedman_mse', init=None,\n",
       "              learning_rate=0.1, loss='deviance', max_depth=3,\n",
       "              max_features=None, max_leaf_nodes=None,\n",
       "              min_impurity_decrease=0.0, min_impurity_split=None,\n",
       "              min_samples_leaf=1, min_sampl...      subsample=1.0, tol=0.0001, validation_fraction=0.1,\n",
       "              verbose=0, warm_start=False),\n",
       "       fit_params=None, iid='warn', n_jobs=None,\n",
       "       param_grid={'criterion': ['friedman_mse', 'mae'], 'random_state': [1967]},\n",
       "       pre_dispatch='2*n_jobs', refit=True, return_train_score='warn',\n",
       "       scoring='accuracy', verbose=0)"
      ]
     },
     "execution_count": 80,
     "metadata": {},
     "output_type": "execute_result"
    }
   ],
   "source": [
    "gb_grid"
   ]
  },
  {
   "cell_type": "code",
   "execution_count": 81,
   "metadata": {},
   "outputs": [
    {
     "data": {
      "text/plain": [
       "GridSearchCV(cv=10, error_score='raise-deprecating',\n",
       "       estimator=GradientBoostingClassifier(criterion='friedman_mse', init=None,\n",
       "              learning_rate=0.1, loss='deviance', max_depth=3,\n",
       "              max_features=None, max_leaf_nodes=None,\n",
       "              min_impurity_decrease=0.0, min_impurity_split=None,\n",
       "              min_samples_leaf=1, min_sampl...      subsample=1.0, tol=0.0001, validation_fraction=0.1,\n",
       "              verbose=0, warm_start=False),\n",
       "       fit_params=None, iid='warn', n_jobs=None,\n",
       "       param_grid={'criterion': ['friedman_mse', 'mae'], 'random_state': [1967]},\n",
       "       pre_dispatch='2*n_jobs', refit=True, return_train_score='warn',\n",
       "       scoring='accuracy', verbose=0)"
      ]
     },
     "execution_count": 81,
     "metadata": {},
     "output_type": "execute_result"
    }
   ],
   "source": [
    "#4\n",
    "gb_grid.fit(x_treino, y_treino)"
   ]
  },
  {
   "cell_type": "code",
   "execution_count": 82,
   "metadata": {},
   "outputs": [
    {
     "data": {
      "text/plain": [
       "{'criterion': 'friedman_mse', 'random_state': 1967}"
      ]
     },
     "execution_count": 82,
     "metadata": {},
     "output_type": "execute_result"
    }
   ],
   "source": [
    "#5\n",
    "gb_grid.best_params_"
   ]
  },
  {
   "cell_type": "code",
   "execution_count": 83,
   "metadata": {},
   "outputs": [
    {
     "data": {
      "text/plain": [
       "0.8116487840870661"
      ]
     },
     "execution_count": 83,
     "metadata": {},
     "output_type": "execute_result"
    }
   ],
   "source": [
    "gb_grid.best_score_"
   ]
  },
  {
   "cell_type": "markdown",
   "metadata": {},
   "source": [
    "##  Importação da biblioteca - cálculo da acurácia"
   ]
  },
  {
   "cell_type": "code",
   "execution_count": 84,
   "metadata": {},
   "outputs": [],
   "source": [
    "from sklearn.metrics import accuracy_score"
   ]
  },
  {
   "cell_type": "markdown",
   "metadata": {},
   "source": [
    "## Acurácia de treino - Gradient Boosting"
   ]
  },
  {
   "cell_type": "code",
   "execution_count": 85,
   "metadata": {},
   "outputs": [
    {
     "data": {
      "text/plain": [
       "0.8116487840870661"
      ]
     },
     "execution_count": 85,
     "metadata": {},
     "output_type": "execute_result"
    }
   ],
   "source": [
    "gb_grid.best_score_"
   ]
  },
  {
   "cell_type": "code",
   "execution_count": 86,
   "metadata": {},
   "outputs": [
    {
     "data": {
      "text/plain": [
       "0.8131552248900913"
      ]
     },
     "execution_count": 86,
     "metadata": {},
     "output_type": "execute_result"
    }
   ],
   "source": [
    "acc_gb_treino = accuracy_score(y_treino, \n",
    "                              gb_grid.predict( # este é o objeto do grid, já com os melhores parametros\n",
    "                                  x_treino))\n",
    "acc_gb_treino"
   ]
  },
  {
   "cell_type": "markdown",
   "metadata": {},
   "source": [
    "##  Acurácia de teste - Gradient Boosting\n",
    "A acurácia de teste está muito próxima à acurácia de treino, o que mostra que o modelo está perfomando bem."
   ]
  },
  {
   "cell_type": "code",
   "execution_count": 87,
   "metadata": {},
   "outputs": [
    {
     "data": {
      "text/plain": [
       "0.809475987231448"
      ]
     },
     "execution_count": 87,
     "metadata": {},
     "output_type": "execute_result"
    }
   ],
   "source": [
    "acc_gb_teste = accuracy_score(y_teste, \n",
    "                              gb_grid.predict( # este é o objeto do grid, já com os melhores parametros\n",
    "                                  x_teste))\n",
    "acc_gb_teste"
   ]
  },
  {
   "cell_type": "code",
   "execution_count": 88,
   "metadata": {},
   "outputs": [],
   "source": [
    "from sklearn.metrics import classification_report"
   ]
  },
  {
   "cell_type": "code",
   "execution_count": 89,
   "metadata": {},
   "outputs": [
    {
     "name": "stdout",
     "output_type": "stream",
     "text": [
      "              precision    recall  f1-score   support\n",
      "\n",
      "           0       0.74      0.20      0.31     13907\n",
      "           1       0.82      0.98      0.89     51147\n",
      "\n",
      "   micro avg       0.81      0.81      0.81     65054\n",
      "   macro avg       0.78      0.59      0.60     65054\n",
      "weighted avg       0.80      0.81      0.77     65054\n",
      "\n"
     ]
    }
   ],
   "source": [
    "print(classification_report(y_treino,gb_grid.predict(x_treino)))"
   ]
  },
  {
   "cell_type": "code",
   "execution_count": 90,
   "metadata": {},
   "outputs": [
    {
     "name": "stdout",
     "output_type": "stream",
     "text": [
      "              precision    recall  f1-score   support\n",
      "\n",
      "           0       0.72      0.18      0.29      5961\n",
      "           1       0.81      0.98      0.89     21920\n",
      "\n",
      "   micro avg       0.81      0.81      0.81     27881\n",
      "   macro avg       0.77      0.58      0.59     27881\n",
      "weighted avg       0.79      0.81      0.76     27881\n",
      "\n"
     ]
    }
   ],
   "source": [
    "print(classification_report(y_teste,gb_grid.predict(x_teste)))"
   ]
  },
  {
   "cell_type": "code",
   "execution_count": 91,
   "metadata": {},
   "outputs": [
    {
     "name": "stdout",
     "output_type": "stream",
     "text": [
      "A acurácia da previsão é  0.809475987231448\n"
     ]
    }
   ],
   "source": [
    "print (\"A acurácia da previsão é \", accuracy_score(y_teste,gb_grid.predict(x_teste)))"
   ]
  },
  {
   "cell_type": "markdown",
   "metadata": {},
   "source": [
    "## Decision Tree"
   ]
  },
  {
   "cell_type": "code",
   "execution_count": 92,
   "metadata": {},
   "outputs": [],
   "source": [
    "dt_dict = {\n",
    "    'criterion' : ['gini','entropy'],\n",
    "    'min_samples_leaf': [1,2,3,4,5,10],\n",
    "    'random_state': [42]\n",
    "       }"
   ]
  },
  {
   "cell_type": "code",
   "execution_count": 93,
   "metadata": {},
   "outputs": [
    {
     "data": {
      "text/plain": [
       "{'criterion': ['gini', 'entropy'],\n",
       " 'min_samples_leaf': [1, 2, 3, 4, 5, 10],\n",
       " 'random_state': [42]}"
      ]
     },
     "execution_count": 93,
     "metadata": {},
     "output_type": "execute_result"
    }
   ],
   "source": [
    "dt_dict"
   ]
  },
  {
   "cell_type": "code",
   "execution_count": 94,
   "metadata": {},
   "outputs": [],
   "source": [
    "from sklearn.tree import DecisionTreeClassifier"
   ]
  },
  {
   "cell_type": "code",
   "execution_count": 95,
   "metadata": {},
   "outputs": [],
   "source": [
    "dt = DecisionTreeClassifier(random_state=42)"
   ]
  },
  {
   "cell_type": "code",
   "execution_count": 96,
   "metadata": {},
   "outputs": [],
   "source": [
    "dt_grid = GridSearchCV(estimator=dt,       # parametro a ser utilizado. No caso, decision tree\n",
    "                      param_grid=dt_dict,  # nome do dicionario com parametros\n",
    "                      scoring='accuracy',  # parametro de validação: acurácia\n",
    "                      cv=10)   "
   ]
  },
  {
   "cell_type": "code",
   "execution_count": 97,
   "metadata": {},
   "outputs": [
    {
     "data": {
      "text/plain": [
       "GridSearchCV(cv=10, error_score='raise-deprecating',\n",
       "       estimator=DecisionTreeClassifier(class_weight=None, criterion='gini', max_depth=None,\n",
       "            max_features=None, max_leaf_nodes=None,\n",
       "            min_impurity_decrease=0.0, min_impurity_split=None,\n",
       "            min_samples_leaf=1, min_samples_split=2,\n",
       "            min_weight_fraction_leaf=0.0, presort=False, random_state=42,\n",
       "            splitter='best'),\n",
       "       fit_params=None, iid='warn', n_jobs=None,\n",
       "       param_grid={'criterion': ['gini', 'entropy'], 'min_samples_leaf': [1, 2, 3, 4, 5, 10], 'random_state': [42]},\n",
       "       pre_dispatch='2*n_jobs', refit=True, return_train_score='warn',\n",
       "       scoring='accuracy', verbose=0)"
      ]
     },
     "execution_count": 97,
     "metadata": {},
     "output_type": "execute_result"
    }
   ],
   "source": [
    "dt_grid.fit(x_treino, y_treino)"
   ]
  },
  {
   "cell_type": "code",
   "execution_count": 98,
   "metadata": {},
   "outputs": [
    {
     "data": {
      "text/plain": [
       "{'criterion': 'gini', 'min_samples_leaf': 10, 'random_state': 42}"
      ]
     },
     "execution_count": 98,
     "metadata": {},
     "output_type": "execute_result"
    }
   ],
   "source": [
    "dt_grid.best_params_"
   ]
  },
  {
   "cell_type": "code",
   "execution_count": 99,
   "metadata": {},
   "outputs": [
    {
     "data": {
      "text/plain": [
       "0.7457958004119655"
      ]
     },
     "execution_count": 99,
     "metadata": {},
     "output_type": "execute_result"
    }
   ],
   "source": [
    "dt_grid.best_score_"
   ]
  },
  {
   "cell_type": "markdown",
   "metadata": {},
   "source": [
    "##  Importação da biblioteca - cálculo de acurácia"
   ]
  },
  {
   "cell_type": "code",
   "execution_count": 100,
   "metadata": {},
   "outputs": [],
   "source": [
    "from sklearn.metrics import accuracy_score"
   ]
  },
  {
   "cell_type": "markdown",
   "metadata": {},
   "source": [
    "## Acurácia de treino - Decision Tree"
   ]
  },
  {
   "cell_type": "code",
   "execution_count": 101,
   "metadata": {},
   "outputs": [
    {
     "data": {
      "text/plain": [
       "0.7457958004119655"
      ]
     },
     "execution_count": 101,
     "metadata": {},
     "output_type": "execute_result"
    }
   ],
   "source": [
    "dt_grid.best_score_"
   ]
  },
  {
   "cell_type": "code",
   "execution_count": 102,
   "metadata": {},
   "outputs": [
    {
     "data": {
      "text/plain": [
       "0.8439604021274634"
      ]
     },
     "execution_count": 102,
     "metadata": {},
     "output_type": "execute_result"
    }
   ],
   "source": [
    "acc_dt_treino = accuracy_score(y_treino, \n",
    "                              dt_grid.predict( # este é o objeto do grid, já com os melhores parametros\n",
    "                                  x_treino))\n",
    "acc_dt_treino"
   ]
  },
  {
   "cell_type": "markdown",
   "metadata": {},
   "source": [
    "##  Acurácia de teste - Decision Tree\n",
    "A acurácia de teste está muito próxima à acurácia de treino, o que mostra que o modelo está perfomando bem."
   ]
  },
  {
   "cell_type": "code",
   "execution_count": 103,
   "metadata": {},
   "outputs": [
    {
     "data": {
      "text/plain": [
       "0.7410422868620208"
      ]
     },
     "execution_count": 103,
     "metadata": {},
     "output_type": "execute_result"
    }
   ],
   "source": [
    "acc_dt_teste = accuracy_score(y_teste, \n",
    "                              dt_grid.predict( # este é o objeto do grid, já com os melhores parametros\n",
    "                                  x_teste))\n",
    "acc_dt_teste"
   ]
  },
  {
   "cell_type": "code",
   "execution_count": 104,
   "metadata": {},
   "outputs": [],
   "source": [
    "from sklearn.metrics import classification_report"
   ]
  },
  {
   "cell_type": "code",
   "execution_count": 105,
   "metadata": {},
   "outputs": [
    {
     "name": "stdout",
     "output_type": "stream",
     "text": [
      "              precision    recall  f1-score   support\n",
      "\n",
      "           0       0.68      0.51      0.59     13907\n",
      "           1       0.88      0.93      0.90     51147\n",
      "\n",
      "   micro avg       0.84      0.84      0.84     65054\n",
      "   macro avg       0.78      0.72      0.74     65054\n",
      "weighted avg       0.83      0.84      0.84     65054\n",
      "\n"
     ]
    }
   ],
   "source": [
    "print(classification_report(y_treino,dt_grid.predict(x_treino)))"
   ]
  },
  {
   "cell_type": "code",
   "execution_count": 106,
   "metadata": {},
   "outputs": [
    {
     "name": "stdout",
     "output_type": "stream",
     "text": [
      "              precision    recall  f1-score   support\n",
      "\n",
      "           0       0.36      0.27      0.31      5961\n",
      "           1       0.81      0.87      0.84     21920\n",
      "\n",
      "   micro avg       0.74      0.74      0.74     27881\n",
      "   macro avg       0.59      0.57      0.57     27881\n",
      "weighted avg       0.72      0.74      0.73     27881\n",
      "\n",
      "A acurácia da previsão é  0.7410422868620208\n"
     ]
    }
   ],
   "source": [
    "print(classification_report(y_teste,dt_grid.predict(x_teste)))\n",
    "print (\"A acurácia da previsão é \", accuracy_score(y_teste,dt_grid.predict(x_teste)))"
   ]
  },
  {
   "cell_type": "markdown",
   "metadata": {},
   "source": [
    "## Logistic Regression"
   ]
  },
  {
   "cell_type": "code",
   "execution_count": 107,
   "metadata": {},
   "outputs": [],
   "source": [
    "lr_dict= {\n",
    "    \"C\":np.logspace(-3,3,7),\n",
    "    \"penalty\":[\"l2\"],\n",
    "    'random_state': [1967]\n",
    "}"
   ]
  },
  {
   "cell_type": "code",
   "execution_count": 108,
   "metadata": {},
   "outputs": [],
   "source": [
    "from sklearn.linear_model import LogisticRegression"
   ]
  },
  {
   "cell_type": "code",
   "execution_count": 109,
   "metadata": {},
   "outputs": [],
   "source": [
    "lr = LogisticRegression(random_state=1967)"
   ]
  },
  {
   "cell_type": "code",
   "execution_count": 110,
   "metadata": {},
   "outputs": [
    {
     "data": {
      "text/plain": [
       "LogisticRegression(C=1.0, class_weight=None, dual=False, fit_intercept=True,\n",
       "          intercept_scaling=1, max_iter=100, multi_class='warn',\n",
       "          n_jobs=None, penalty='l2', random_state=1967, solver='warn',\n",
       "          tol=0.0001, verbose=0, warm_start=False)"
      ]
     },
     "execution_count": 110,
     "metadata": {},
     "output_type": "execute_result"
    }
   ],
   "source": [
    "lr"
   ]
  },
  {
   "cell_type": "code",
   "execution_count": 111,
   "metadata": {},
   "outputs": [],
   "source": [
    "lr_grid = GridSearchCV(estimator=lr,       # parametro a ser utilizado. No caso, logistic regression\n",
    "                      param_grid=lr_dict,  # nome do dicionario com parametros\n",
    "                      scoring='accuracy',  # parametro de validação: acurácia\n",
    "                      cv=10)     "
   ]
  },
  {
   "cell_type": "code",
   "execution_count": 112,
   "metadata": {},
   "outputs": [
    {
     "name": "stderr",
     "output_type": "stream",
     "text": [
      "D:\\anaconda\\ANACONDA\\lib\\site-packages\\sklearn\\linear_model\\logistic.py:433: FutureWarning: Default solver will be changed to 'lbfgs' in 0.22. Specify a solver to silence this warning.\n",
      "  FutureWarning)\n",
      "D:\\anaconda\\ANACONDA\\lib\\site-packages\\sklearn\\linear_model\\logistic.py:433: FutureWarning: Default solver will be changed to 'lbfgs' in 0.22. Specify a solver to silence this warning.\n",
      "  FutureWarning)\n",
      "D:\\anaconda\\ANACONDA\\lib\\site-packages\\sklearn\\linear_model\\logistic.py:433: FutureWarning: Default solver will be changed to 'lbfgs' in 0.22. Specify a solver to silence this warning.\n",
      "  FutureWarning)\n",
      "D:\\anaconda\\ANACONDA\\lib\\site-packages\\sklearn\\linear_model\\logistic.py:433: FutureWarning: Default solver will be changed to 'lbfgs' in 0.22. Specify a solver to silence this warning.\n",
      "  FutureWarning)\n",
      "D:\\anaconda\\ANACONDA\\lib\\site-packages\\sklearn\\linear_model\\logistic.py:433: FutureWarning: Default solver will be changed to 'lbfgs' in 0.22. Specify a solver to silence this warning.\n",
      "  FutureWarning)\n",
      "D:\\anaconda\\ANACONDA\\lib\\site-packages\\sklearn\\linear_model\\logistic.py:433: FutureWarning: Default solver will be changed to 'lbfgs' in 0.22. Specify a solver to silence this warning.\n",
      "  FutureWarning)\n",
      "D:\\anaconda\\ANACONDA\\lib\\site-packages\\sklearn\\linear_model\\logistic.py:433: FutureWarning: Default solver will be changed to 'lbfgs' in 0.22. Specify a solver to silence this warning.\n",
      "  FutureWarning)\n",
      "D:\\anaconda\\ANACONDA\\lib\\site-packages\\sklearn\\linear_model\\logistic.py:433: FutureWarning: Default solver will be changed to 'lbfgs' in 0.22. Specify a solver to silence this warning.\n",
      "  FutureWarning)\n",
      "D:\\anaconda\\ANACONDA\\lib\\site-packages\\sklearn\\linear_model\\logistic.py:433: FutureWarning: Default solver will be changed to 'lbfgs' in 0.22. Specify a solver to silence this warning.\n",
      "  FutureWarning)\n",
      "D:\\anaconda\\ANACONDA\\lib\\site-packages\\sklearn\\linear_model\\logistic.py:433: FutureWarning: Default solver will be changed to 'lbfgs' in 0.22. Specify a solver to silence this warning.\n",
      "  FutureWarning)\n",
      "D:\\anaconda\\ANACONDA\\lib\\site-packages\\sklearn\\linear_model\\logistic.py:433: FutureWarning: Default solver will be changed to 'lbfgs' in 0.22. Specify a solver to silence this warning.\n",
      "  FutureWarning)\n",
      "D:\\anaconda\\ANACONDA\\lib\\site-packages\\sklearn\\linear_model\\logistic.py:433: FutureWarning: Default solver will be changed to 'lbfgs' in 0.22. Specify a solver to silence this warning.\n",
      "  FutureWarning)\n",
      "D:\\anaconda\\ANACONDA\\lib\\site-packages\\sklearn\\linear_model\\logistic.py:433: FutureWarning: Default solver will be changed to 'lbfgs' in 0.22. Specify a solver to silence this warning.\n",
      "  FutureWarning)\n",
      "D:\\anaconda\\ANACONDA\\lib\\site-packages\\sklearn\\linear_model\\logistic.py:433: FutureWarning: Default solver will be changed to 'lbfgs' in 0.22. Specify a solver to silence this warning.\n",
      "  FutureWarning)\n",
      "D:\\anaconda\\ANACONDA\\lib\\site-packages\\sklearn\\linear_model\\logistic.py:433: FutureWarning: Default solver will be changed to 'lbfgs' in 0.22. Specify a solver to silence this warning.\n",
      "  FutureWarning)\n",
      "D:\\anaconda\\ANACONDA\\lib\\site-packages\\sklearn\\linear_model\\logistic.py:433: FutureWarning: Default solver will be changed to 'lbfgs' in 0.22. Specify a solver to silence this warning.\n",
      "  FutureWarning)\n",
      "D:\\anaconda\\ANACONDA\\lib\\site-packages\\sklearn\\linear_model\\logistic.py:433: FutureWarning: Default solver will be changed to 'lbfgs' in 0.22. Specify a solver to silence this warning.\n",
      "  FutureWarning)\n",
      "D:\\anaconda\\ANACONDA\\lib\\site-packages\\sklearn\\linear_model\\logistic.py:433: FutureWarning: Default solver will be changed to 'lbfgs' in 0.22. Specify a solver to silence this warning.\n",
      "  FutureWarning)\n",
      "D:\\anaconda\\ANACONDA\\lib\\site-packages\\sklearn\\linear_model\\logistic.py:433: FutureWarning: Default solver will be changed to 'lbfgs' in 0.22. Specify a solver to silence this warning.\n",
      "  FutureWarning)\n",
      "D:\\anaconda\\ANACONDA\\lib\\site-packages\\sklearn\\linear_model\\logistic.py:433: FutureWarning: Default solver will be changed to 'lbfgs' in 0.22. Specify a solver to silence this warning.\n",
      "  FutureWarning)\n",
      "D:\\anaconda\\ANACONDA\\lib\\site-packages\\sklearn\\linear_model\\logistic.py:433: FutureWarning: Default solver will be changed to 'lbfgs' in 0.22. Specify a solver to silence this warning.\n",
      "  FutureWarning)\n",
      "D:\\anaconda\\ANACONDA\\lib\\site-packages\\sklearn\\linear_model\\logistic.py:433: FutureWarning: Default solver will be changed to 'lbfgs' in 0.22. Specify a solver to silence this warning.\n",
      "  FutureWarning)\n",
      "D:\\anaconda\\ANACONDA\\lib\\site-packages\\sklearn\\linear_model\\logistic.py:433: FutureWarning: Default solver will be changed to 'lbfgs' in 0.22. Specify a solver to silence this warning.\n",
      "  FutureWarning)\n",
      "D:\\anaconda\\ANACONDA\\lib\\site-packages\\sklearn\\linear_model\\logistic.py:433: FutureWarning: Default solver will be changed to 'lbfgs' in 0.22. Specify a solver to silence this warning.\n",
      "  FutureWarning)\n",
      "D:\\anaconda\\ANACONDA\\lib\\site-packages\\sklearn\\linear_model\\logistic.py:433: FutureWarning: Default solver will be changed to 'lbfgs' in 0.22. Specify a solver to silence this warning.\n",
      "  FutureWarning)\n",
      "D:\\anaconda\\ANACONDA\\lib\\site-packages\\sklearn\\linear_model\\logistic.py:433: FutureWarning: Default solver will be changed to 'lbfgs' in 0.22. Specify a solver to silence this warning.\n",
      "  FutureWarning)\n",
      "D:\\anaconda\\ANACONDA\\lib\\site-packages\\sklearn\\linear_model\\logistic.py:433: FutureWarning: Default solver will be changed to 'lbfgs' in 0.22. Specify a solver to silence this warning.\n",
      "  FutureWarning)\n",
      "D:\\anaconda\\ANACONDA\\lib\\site-packages\\sklearn\\linear_model\\logistic.py:433: FutureWarning: Default solver will be changed to 'lbfgs' in 0.22. Specify a solver to silence this warning.\n",
      "  FutureWarning)\n",
      "D:\\anaconda\\ANACONDA\\lib\\site-packages\\sklearn\\linear_model\\logistic.py:433: FutureWarning: Default solver will be changed to 'lbfgs' in 0.22. Specify a solver to silence this warning.\n",
      "  FutureWarning)\n",
      "D:\\anaconda\\ANACONDA\\lib\\site-packages\\sklearn\\linear_model\\logistic.py:433: FutureWarning: Default solver will be changed to 'lbfgs' in 0.22. Specify a solver to silence this warning.\n",
      "  FutureWarning)\n",
      "D:\\anaconda\\ANACONDA\\lib\\site-packages\\sklearn\\linear_model\\logistic.py:433: FutureWarning: Default solver will be changed to 'lbfgs' in 0.22. Specify a solver to silence this warning.\n",
      "  FutureWarning)\n",
      "D:\\anaconda\\ANACONDA\\lib\\site-packages\\sklearn\\linear_model\\logistic.py:433: FutureWarning: Default solver will be changed to 'lbfgs' in 0.22. Specify a solver to silence this warning.\n",
      "  FutureWarning)\n",
      "D:\\anaconda\\ANACONDA\\lib\\site-packages\\sklearn\\linear_model\\logistic.py:433: FutureWarning: Default solver will be changed to 'lbfgs' in 0.22. Specify a solver to silence this warning.\n",
      "  FutureWarning)\n",
      "D:\\anaconda\\ANACONDA\\lib\\site-packages\\sklearn\\linear_model\\logistic.py:433: FutureWarning: Default solver will be changed to 'lbfgs' in 0.22. Specify a solver to silence this warning.\n",
      "  FutureWarning)\n",
      "D:\\anaconda\\ANACONDA\\lib\\site-packages\\sklearn\\linear_model\\logistic.py:433: FutureWarning: Default solver will be changed to 'lbfgs' in 0.22. Specify a solver to silence this warning.\n",
      "  FutureWarning)\n",
      "D:\\anaconda\\ANACONDA\\lib\\site-packages\\sklearn\\linear_model\\logistic.py:433: FutureWarning: Default solver will be changed to 'lbfgs' in 0.22. Specify a solver to silence this warning.\n",
      "  FutureWarning)\n",
      "D:\\anaconda\\ANACONDA\\lib\\site-packages\\sklearn\\linear_model\\logistic.py:433: FutureWarning: Default solver will be changed to 'lbfgs' in 0.22. Specify a solver to silence this warning.\n",
      "  FutureWarning)\n",
      "D:\\anaconda\\ANACONDA\\lib\\site-packages\\sklearn\\linear_model\\logistic.py:433: FutureWarning: Default solver will be changed to 'lbfgs' in 0.22. Specify a solver to silence this warning.\n",
      "  FutureWarning)\n",
      "D:\\anaconda\\ANACONDA\\lib\\site-packages\\sklearn\\linear_model\\logistic.py:433: FutureWarning: Default solver will be changed to 'lbfgs' in 0.22. Specify a solver to silence this warning.\n",
      "  FutureWarning)\n",
      "D:\\anaconda\\ANACONDA\\lib\\site-packages\\sklearn\\linear_model\\logistic.py:433: FutureWarning: Default solver will be changed to 'lbfgs' in 0.22. Specify a solver to silence this warning.\n",
      "  FutureWarning)\n",
      "D:\\anaconda\\ANACONDA\\lib\\site-packages\\sklearn\\linear_model\\logistic.py:433: FutureWarning: Default solver will be changed to 'lbfgs' in 0.22. Specify a solver to silence this warning.\n",
      "  FutureWarning)\n"
     ]
    },
    {
     "name": "stderr",
     "output_type": "stream",
     "text": [
      "D:\\anaconda\\ANACONDA\\lib\\site-packages\\sklearn\\linear_model\\logistic.py:433: FutureWarning: Default solver will be changed to 'lbfgs' in 0.22. Specify a solver to silence this warning.\n",
      "  FutureWarning)\n",
      "D:\\anaconda\\ANACONDA\\lib\\site-packages\\sklearn\\linear_model\\logistic.py:433: FutureWarning: Default solver will be changed to 'lbfgs' in 0.22. Specify a solver to silence this warning.\n",
      "  FutureWarning)\n",
      "D:\\anaconda\\ANACONDA\\lib\\site-packages\\sklearn\\linear_model\\logistic.py:433: FutureWarning: Default solver will be changed to 'lbfgs' in 0.22. Specify a solver to silence this warning.\n",
      "  FutureWarning)\n",
      "D:\\anaconda\\ANACONDA\\lib\\site-packages\\sklearn\\linear_model\\logistic.py:433: FutureWarning: Default solver will be changed to 'lbfgs' in 0.22. Specify a solver to silence this warning.\n",
      "  FutureWarning)\n",
      "D:\\anaconda\\ANACONDA\\lib\\site-packages\\sklearn\\linear_model\\logistic.py:433: FutureWarning: Default solver will be changed to 'lbfgs' in 0.22. Specify a solver to silence this warning.\n",
      "  FutureWarning)\n",
      "D:\\anaconda\\ANACONDA\\lib\\site-packages\\sklearn\\linear_model\\logistic.py:433: FutureWarning: Default solver will be changed to 'lbfgs' in 0.22. Specify a solver to silence this warning.\n",
      "  FutureWarning)\n",
      "D:\\anaconda\\ANACONDA\\lib\\site-packages\\sklearn\\linear_model\\logistic.py:433: FutureWarning: Default solver will be changed to 'lbfgs' in 0.22. Specify a solver to silence this warning.\n",
      "  FutureWarning)\n",
      "D:\\anaconda\\ANACONDA\\lib\\site-packages\\sklearn\\linear_model\\logistic.py:433: FutureWarning: Default solver will be changed to 'lbfgs' in 0.22. Specify a solver to silence this warning.\n",
      "  FutureWarning)\n",
      "D:\\anaconda\\ANACONDA\\lib\\site-packages\\sklearn\\linear_model\\logistic.py:433: FutureWarning: Default solver will be changed to 'lbfgs' in 0.22. Specify a solver to silence this warning.\n",
      "  FutureWarning)\n",
      "D:\\anaconda\\ANACONDA\\lib\\site-packages\\sklearn\\linear_model\\logistic.py:433: FutureWarning: Default solver will be changed to 'lbfgs' in 0.22. Specify a solver to silence this warning.\n",
      "  FutureWarning)\n",
      "D:\\anaconda\\ANACONDA\\lib\\site-packages\\sklearn\\linear_model\\logistic.py:433: FutureWarning: Default solver will be changed to 'lbfgs' in 0.22. Specify a solver to silence this warning.\n",
      "  FutureWarning)\n",
      "D:\\anaconda\\ANACONDA\\lib\\site-packages\\sklearn\\linear_model\\logistic.py:433: FutureWarning: Default solver will be changed to 'lbfgs' in 0.22. Specify a solver to silence this warning.\n",
      "  FutureWarning)\n",
      "D:\\anaconda\\ANACONDA\\lib\\site-packages\\sklearn\\linear_model\\logistic.py:433: FutureWarning: Default solver will be changed to 'lbfgs' in 0.22. Specify a solver to silence this warning.\n",
      "  FutureWarning)\n",
      "D:\\anaconda\\ANACONDA\\lib\\site-packages\\sklearn\\linear_model\\logistic.py:433: FutureWarning: Default solver will be changed to 'lbfgs' in 0.22. Specify a solver to silence this warning.\n",
      "  FutureWarning)\n",
      "D:\\anaconda\\ANACONDA\\lib\\site-packages\\sklearn\\linear_model\\logistic.py:433: FutureWarning: Default solver will be changed to 'lbfgs' in 0.22. Specify a solver to silence this warning.\n",
      "  FutureWarning)\n",
      "D:\\anaconda\\ANACONDA\\lib\\site-packages\\sklearn\\linear_model\\logistic.py:433: FutureWarning: Default solver will be changed to 'lbfgs' in 0.22. Specify a solver to silence this warning.\n",
      "  FutureWarning)\n",
      "D:\\anaconda\\ANACONDA\\lib\\site-packages\\sklearn\\linear_model\\logistic.py:433: FutureWarning: Default solver will be changed to 'lbfgs' in 0.22. Specify a solver to silence this warning.\n",
      "  FutureWarning)\n",
      "D:\\anaconda\\ANACONDA\\lib\\site-packages\\sklearn\\linear_model\\logistic.py:433: FutureWarning: Default solver will be changed to 'lbfgs' in 0.22. Specify a solver to silence this warning.\n",
      "  FutureWarning)\n",
      "D:\\anaconda\\ANACONDA\\lib\\site-packages\\sklearn\\linear_model\\logistic.py:433: FutureWarning: Default solver will be changed to 'lbfgs' in 0.22. Specify a solver to silence this warning.\n",
      "  FutureWarning)\n",
      "D:\\anaconda\\ANACONDA\\lib\\site-packages\\sklearn\\linear_model\\logistic.py:433: FutureWarning: Default solver will be changed to 'lbfgs' in 0.22. Specify a solver to silence this warning.\n",
      "  FutureWarning)\n",
      "D:\\anaconda\\ANACONDA\\lib\\site-packages\\sklearn\\linear_model\\logistic.py:433: FutureWarning: Default solver will be changed to 'lbfgs' in 0.22. Specify a solver to silence this warning.\n",
      "  FutureWarning)\n",
      "D:\\anaconda\\ANACONDA\\lib\\site-packages\\sklearn\\linear_model\\logistic.py:433: FutureWarning: Default solver will be changed to 'lbfgs' in 0.22. Specify a solver to silence this warning.\n",
      "  FutureWarning)\n",
      "D:\\anaconda\\ANACONDA\\lib\\site-packages\\sklearn\\linear_model\\logistic.py:433: FutureWarning: Default solver will be changed to 'lbfgs' in 0.22. Specify a solver to silence this warning.\n",
      "  FutureWarning)\n",
      "D:\\anaconda\\ANACONDA\\lib\\site-packages\\sklearn\\linear_model\\logistic.py:433: FutureWarning: Default solver will be changed to 'lbfgs' in 0.22. Specify a solver to silence this warning.\n",
      "  FutureWarning)\n",
      "D:\\anaconda\\ANACONDA\\lib\\site-packages\\sklearn\\linear_model\\logistic.py:433: FutureWarning: Default solver will be changed to 'lbfgs' in 0.22. Specify a solver to silence this warning.\n",
      "  FutureWarning)\n",
      "D:\\anaconda\\ANACONDA\\lib\\site-packages\\sklearn\\linear_model\\logistic.py:433: FutureWarning: Default solver will be changed to 'lbfgs' in 0.22. Specify a solver to silence this warning.\n",
      "  FutureWarning)\n",
      "D:\\anaconda\\ANACONDA\\lib\\site-packages\\sklearn\\linear_model\\logistic.py:433: FutureWarning: Default solver will be changed to 'lbfgs' in 0.22. Specify a solver to silence this warning.\n",
      "  FutureWarning)\n",
      "D:\\anaconda\\ANACONDA\\lib\\site-packages\\sklearn\\linear_model\\logistic.py:433: FutureWarning: Default solver will be changed to 'lbfgs' in 0.22. Specify a solver to silence this warning.\n",
      "  FutureWarning)\n",
      "D:\\anaconda\\ANACONDA\\lib\\site-packages\\sklearn\\linear_model\\logistic.py:433: FutureWarning: Default solver will be changed to 'lbfgs' in 0.22. Specify a solver to silence this warning.\n",
      "  FutureWarning)\n",
      "D:\\anaconda\\ANACONDA\\lib\\site-packages\\sklearn\\linear_model\\logistic.py:433: FutureWarning: Default solver will be changed to 'lbfgs' in 0.22. Specify a solver to silence this warning.\n",
      "  FutureWarning)\n"
     ]
    },
    {
     "data": {
      "text/plain": [
       "GridSearchCV(cv=10, error_score='raise-deprecating',\n",
       "       estimator=LogisticRegression(C=1.0, class_weight=None, dual=False, fit_intercept=True,\n",
       "          intercept_scaling=1, max_iter=100, multi_class='warn',\n",
       "          n_jobs=None, penalty='l2', random_state=1967, solver='warn',\n",
       "          tol=0.0001, verbose=0, warm_start=False),\n",
       "       fit_params=None, iid='warn', n_jobs=None,\n",
       "       param_grid={'C': array([1.e-03, 1.e-02, 1.e-01, 1.e+00, 1.e+01, 1.e+02, 1.e+03]), 'penalty': ['l2'], 'random_state': [1967]},\n",
       "       pre_dispatch='2*n_jobs', refit=True, return_train_score='warn',\n",
       "       scoring='accuracy', verbose=0)"
      ]
     },
     "execution_count": 112,
     "metadata": {},
     "output_type": "execute_result"
    }
   ],
   "source": [
    "lr_grid.fit(x_treino, y_treino)"
   ]
  },
  {
   "cell_type": "code",
   "execution_count": 113,
   "metadata": {},
   "outputs": [
    {
     "data": {
      "text/plain": [
       "{'C': 0.001, 'penalty': 'l2', 'random_state': 1967}"
      ]
     },
     "execution_count": 113,
     "metadata": {},
     "output_type": "execute_result"
    }
   ],
   "source": [
    "lr_grid.best_params_"
   ]
  },
  {
   "cell_type": "code",
   "execution_count": 114,
   "metadata": {},
   "outputs": [
    {
     "data": {
      "text/plain": [
       "0.7958926430350171"
      ]
     },
     "execution_count": 114,
     "metadata": {},
     "output_type": "execute_result"
    }
   ],
   "source": [
    "lr_grid.best_score_"
   ]
  },
  {
   "cell_type": "code",
   "execution_count": 115,
   "metadata": {},
   "outputs": [
    {
     "data": {
      "text/plain": [
       "LogisticRegression(C=1.0, class_weight=None, dual=False, fit_intercept=True,\n",
       "          intercept_scaling=1, max_iter=100, multi_class='warn',\n",
       "          n_jobs=None, penalty='l2', random_state=1967, solver='warn',\n",
       "          tol=0.0001, verbose=0, warm_start=False)"
      ]
     },
     "execution_count": 115,
     "metadata": {},
     "output_type": "execute_result"
    }
   ],
   "source": [
    "lr_grid.estimator"
   ]
  },
  {
   "cell_type": "markdown",
   "metadata": {},
   "source": [
    "##  Importação da biblioteca - cálculo de acurácia"
   ]
  },
  {
   "cell_type": "code",
   "execution_count": 116,
   "metadata": {},
   "outputs": [],
   "source": [
    "from sklearn.metrics import accuracy_score"
   ]
  },
  {
   "cell_type": "markdown",
   "metadata": {},
   "source": [
    "## Acurácia de treino - Logistic Regression"
   ]
  },
  {
   "cell_type": "code",
   "execution_count": 117,
   "metadata": {},
   "outputs": [
    {
     "data": {
      "text/plain": [
       "0.7958926430350171"
      ]
     },
     "execution_count": 117,
     "metadata": {},
     "output_type": "execute_result"
    }
   ],
   "source": [
    "lr_grid.best_score_"
   ]
  },
  {
   "cell_type": "code",
   "execution_count": 118,
   "metadata": {},
   "outputs": [
    {
     "data": {
      "text/plain": [
       "0.795093307098718"
      ]
     },
     "execution_count": 118,
     "metadata": {},
     "output_type": "execute_result"
    }
   ],
   "source": [
    "acc_lr_treino = accuracy_score(y_treino, \n",
    "                              lr_grid.predict( # este é o objeto do grid, já com os melhores parametros\n",
    "                                  x_treino))\n",
    "acc_lr_treino"
   ]
  },
  {
   "cell_type": "markdown",
   "metadata": {},
   "source": [
    "##  Acurácia de teste - Logistic Regression\n",
    "A acurácia de teste está muito próxima à acurácia de treino, o que mostra que o modelo está perfomando bem."
   ]
  },
  {
   "cell_type": "code",
   "execution_count": 119,
   "metadata": {},
   "outputs": [
    {
     "data": {
      "text/plain": [
       "0.7935511638750403"
      ]
     },
     "execution_count": 119,
     "metadata": {},
     "output_type": "execute_result"
    }
   ],
   "source": [
    "acc_lr_teste = accuracy_score(y_teste, \n",
    "                              lr_grid.predict( # este é o objeto do grid, já com os melhores parametros\n",
    "                                  x_teste))\n",
    "acc_lr_teste"
   ]
  },
  {
   "cell_type": "code",
   "execution_count": 120,
   "metadata": {},
   "outputs": [],
   "source": [
    "from sklearn.metrics import classification_report"
   ]
  },
  {
   "cell_type": "code",
   "execution_count": 121,
   "metadata": {},
   "outputs": [
    {
     "name": "stdout",
     "output_type": "stream",
     "text": [
      "              precision    recall  f1-score   support\n",
      "\n",
      "           0       0.60      0.13      0.21     13907\n",
      "           1       0.80      0.98      0.88     51147\n",
      "\n",
      "   micro avg       0.80      0.80      0.80     65054\n",
      "   macro avg       0.70      0.55      0.55     65054\n",
      "weighted avg       0.76      0.80      0.74     65054\n",
      "\n"
     ]
    }
   ],
   "source": [
    "print(classification_report(y_treino,lr_grid.predict(x_treino)))"
   ]
  },
  {
   "cell_type": "code",
   "execution_count": 122,
   "metadata": {},
   "outputs": [
    {
     "name": "stdout",
     "output_type": "stream",
     "text": [
      "              precision    recall  f1-score   support\n",
      "\n",
      "           0       0.58      0.12      0.20      5961\n",
      "           1       0.80      0.98      0.88     21920\n",
      "\n",
      "   micro avg       0.79      0.79      0.79     27881\n",
      "   macro avg       0.69      0.55      0.54     27881\n",
      "weighted avg       0.76      0.79      0.74     27881\n",
      "\n",
      "A acurácia da previsão é  0.7935511638750403\n"
     ]
    }
   ],
   "source": [
    "print(classification_report(y_teste,lr_grid.predict(x_teste)))\n",
    "print (\"A acurácia da previsão é \", accuracy_score(y_teste,lr_grid.predict(x_teste)))"
   ]
  },
  {
   "cell_type": "markdown",
   "metadata": {},
   "source": [
    "## Random Forest"
   ]
  },
  {
   "cell_type": "code",
   "execution_count": 123,
   "metadata": {},
   "outputs": [],
   "source": [
    "#1 - definir um dict(dicionario com os valores dos hiperparams)\n",
    "\n",
    "rf_dict = {                            # nome do dicionário que está sendo criado.\n",
    "    'n_estimators':[50,100,200,300,800,1000],   # numero de estimadores que será testado. Quanto maior, mais exige poder computacional.\n",
    "    'criterion':['gini', 'entropy'],   #  critérios\n",
    "    'bootstrap':[False, True],  # Faz amostragem com e sem reposição.\n",
    "    'random_state': [196]\n",
    "}"
   ]
  },
  {
   "cell_type": "code",
   "execution_count": 124,
   "metadata": {},
   "outputs": [
    {
     "data": {
      "text/plain": [
       "{'n_estimators': [50, 100, 200, 300, 800, 1000],\n",
       " 'criterion': ['gini', 'entropy'],\n",
       " 'bootstrap': [False, True],\n",
       " 'random_state': [196]}"
      ]
     },
     "execution_count": 124,
     "metadata": {},
     "output_type": "execute_result"
    }
   ],
   "source": [
    "rf_dict"
   ]
  },
  {
   "cell_type": "code",
   "execution_count": 125,
   "metadata": {},
   "outputs": [],
   "source": [
    "#2 - chamar o modulo de tunning\n",
    "from sklearn.ensemble import RandomForestClassifier\n",
    "rf = RandomForestClassifier(random_state=42)"
   ]
  },
  {
   "cell_type": "code",
   "execution_count": 126,
   "metadata": {},
   "outputs": [],
   "source": [
    "#3 - chamar obj do tunning\n",
    "rf_grid = GridSearchCV(estimator=rf,       # parametro a ser utilizado. No caso, random forest\n",
    "                      param_grid=rf_dict,  # nome do dicionario com parametros\n",
    "                      scoring='accuracy',  # parametro de validação: acurácia\n",
    "                      cv=10)               # numero de partições do conjunto de treino a ser feita na validação cruzada (k-fold)"
   ]
  },
  {
   "cell_type": "code",
   "execution_count": 127,
   "metadata": {},
   "outputs": [
    {
     "data": {
      "text/plain": [
       "GridSearchCV(cv=10, error_score='raise-deprecating',\n",
       "       estimator=RandomForestClassifier(bootstrap=True, class_weight=None, criterion='gini',\n",
       "            max_depth=None, max_features='auto', max_leaf_nodes=None,\n",
       "            min_impurity_decrease=0.0, min_impurity_split=None,\n",
       "            min_samples_leaf=1, min_samples_split=2,\n",
       "            min_weight_fraction_leaf=0.0, n_estimators='warn', n_jobs=None,\n",
       "            oob_score=False, random_state=42, verbose=0, warm_start=False),\n",
       "       fit_params=None, iid='warn', n_jobs=None,\n",
       "       param_grid={'n_estimators': [50, 100, 200, 300, 800, 1000], 'criterion': ['gini', 'entropy'], 'bootstrap': [False, True], 'random_state': [196]},\n",
       "       pre_dispatch='2*n_jobs', refit=True, return_train_score='warn',\n",
       "       scoring='accuracy', verbose=0)"
      ]
     },
     "execution_count": 127,
     "metadata": {},
     "output_type": "execute_result"
    }
   ],
   "source": [
    "rf_grid"
   ]
  },
  {
   "cell_type": "code",
   "execution_count": 128,
   "metadata": {},
   "outputs": [
    {
     "data": {
      "text/plain": [
       "GridSearchCV(cv=10, error_score='raise-deprecating',\n",
       "       estimator=RandomForestClassifier(bootstrap=True, class_weight=None, criterion='gini',\n",
       "            max_depth=None, max_features='auto', max_leaf_nodes=None,\n",
       "            min_impurity_decrease=0.0, min_impurity_split=None,\n",
       "            min_samples_leaf=1, min_samples_split=2,\n",
       "            min_weight_fraction_leaf=0.0, n_estimators='warn', n_jobs=None,\n",
       "            oob_score=False, random_state=42, verbose=0, warm_start=False),\n",
       "       fit_params=None, iid='warn', n_jobs=None,\n",
       "       param_grid={'n_estimators': [50, 100, 200, 300, 800, 1000], 'criterion': ['gini', 'entropy'], 'bootstrap': [False, True], 'random_state': [196]},\n",
       "       pre_dispatch='2*n_jobs', refit=True, return_train_score='warn',\n",
       "       scoring='accuracy', verbose=0)"
      ]
     },
     "execution_count": 128,
     "metadata": {},
     "output_type": "execute_result"
    }
   ],
   "source": [
    "#4  - treinamento\n",
    "rf_grid.fit(x_treino, y_treino)"
   ]
  },
  {
   "cell_type": "code",
   "execution_count": 129,
   "metadata": {},
   "outputs": [
    {
     "data": {
      "text/plain": [
       "{'bootstrap': True,\n",
       " 'criterion': 'entropy',\n",
       " 'n_estimators': 300,\n",
       " 'random_state': 196}"
      ]
     },
     "execution_count": 129,
     "metadata": {},
     "output_type": "execute_result"
    }
   ],
   "source": [
    "#5  - avaliar os resultados\n",
    "rf_grid.best_params_"
   ]
  },
  {
   "cell_type": "code",
   "execution_count": 130,
   "metadata": {},
   "outputs": [
    {
     "data": {
      "text/plain": [
       "0.8084821840317274"
      ]
     },
     "execution_count": 130,
     "metadata": {},
     "output_type": "execute_result"
    }
   ],
   "source": [
    "rf_grid.best_score_"
   ]
  },
  {
   "cell_type": "markdown",
   "metadata": {},
   "source": [
    "##  Importação da biblioteca - cálculo da acurácia"
   ]
  },
  {
   "cell_type": "code",
   "execution_count": 131,
   "metadata": {},
   "outputs": [],
   "source": [
    "from sklearn.metrics import accuracy_score"
   ]
  },
  {
   "cell_type": "markdown",
   "metadata": {},
   "source": [
    "## Acurácia de treino - para modelo Random Forest"
   ]
  },
  {
   "cell_type": "code",
   "execution_count": 132,
   "metadata": {},
   "outputs": [
    {
     "data": {
      "text/plain": [
       "0.8084821840317274"
      ]
     },
     "execution_count": 132,
     "metadata": {},
     "output_type": "execute_result"
    }
   ],
   "source": [
    "rf_grid.best_score_"
   ]
  },
  {
   "cell_type": "code",
   "execution_count": 133,
   "metadata": {},
   "outputs": [
    {
     "data": {
      "text/plain": [
       "1.0"
      ]
     },
     "execution_count": 133,
     "metadata": {},
     "output_type": "execute_result"
    }
   ],
   "source": [
    "acc_rf_treino = accuracy_score(y_treino, \n",
    "                              rf_grid.predict( # este é o objeto do grid, já com os melhores parametros\n",
    "                                  x_treino))\n",
    "acc_rf_treino"
   ]
  },
  {
   "cell_type": "markdown",
   "metadata": {},
   "source": [
    "##  Acurácia de teste - para modelo Random Forest"
   ]
  },
  {
   "cell_type": "code",
   "execution_count": 134,
   "metadata": {},
   "outputs": [
    {
     "data": {
      "text/plain": [
       "0.8057099817079731"
      ]
     },
     "execution_count": 134,
     "metadata": {},
     "output_type": "execute_result"
    }
   ],
   "source": [
    "acc_rf_teste = accuracy_score(y_teste, \n",
    "                              rf_grid.predict( # este é o objeto do grid, já com os melhores parametros\n",
    "                                  x_teste))\n",
    "acc_rf_teste"
   ]
  },
  {
   "cell_type": "markdown",
   "metadata": {},
   "source": [
    "##  Classification report - para modelo Random Forest"
   ]
  },
  {
   "cell_type": "code",
   "execution_count": 135,
   "metadata": {},
   "outputs": [],
   "source": [
    "from sklearn.metrics import classification_report"
   ]
  },
  {
   "cell_type": "code",
   "execution_count": 136,
   "metadata": {},
   "outputs": [
    {
     "name": "stdout",
     "output_type": "stream",
     "text": [
      "              precision    recall  f1-score   support\n",
      "\n",
      "           0       1.00      1.00      1.00     13907\n",
      "           1       1.00      1.00      1.00     51147\n",
      "\n",
      "   micro avg       1.00      1.00      1.00     65054\n",
      "   macro avg       1.00      1.00      1.00     65054\n",
      "weighted avg       1.00      1.00      1.00     65054\n",
      "\n"
     ]
    }
   ],
   "source": [
    "print(classification_report(y_treino,rf_grid.predict(x_treino)))"
   ]
  },
  {
   "cell_type": "code",
   "execution_count": 137,
   "metadata": {},
   "outputs": [
    {
     "name": "stdout",
     "output_type": "stream",
     "text": [
      "              precision    recall  f1-score   support\n",
      "\n",
      "           0       0.65      0.19      0.30      5961\n",
      "           1       0.82      0.97      0.89     21920\n",
      "\n",
      "   micro avg       0.81      0.81      0.81     27881\n",
      "   macro avg       0.73      0.58      0.59     27881\n",
      "weighted avg       0.78      0.81      0.76     27881\n",
      "\n",
      "A acurácia da previsão é  0.7935511638750403\n"
     ]
    }
   ],
   "source": [
    "print(classification_report(y_teste,rf_grid.predict(x_teste)))\n",
    "print (\"A acurácia da previsão é \", accuracy_score(y_teste,lr_grid.predict(x_teste)))"
   ]
  }
 ],
 "metadata": {
  "kernelspec": {
   "display_name": "Python 3",
   "language": "python",
   "name": "python3"
  },
  "language_info": {
   "codemirror_mode": {
    "name": "ipython",
    "version": 3
   },
   "file_extension": ".py",
   "mimetype": "text/x-python",
   "name": "python",
   "nbconvert_exporter": "python",
   "pygments_lexer": "ipython3",
   "version": "3.7.3"
  }
 },
 "nbformat": 4,
 "nbformat_minor": 2
}
