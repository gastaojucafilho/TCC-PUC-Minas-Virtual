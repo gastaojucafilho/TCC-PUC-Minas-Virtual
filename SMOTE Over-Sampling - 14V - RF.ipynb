{
 "cells": [
  {
   "cell_type": "markdown",
   "metadata": {},
   "source": [
    "#  Atividades previstas para este Notebook:\n",
    "> 1. Carregar a tabela olist_ibge_v13  \n",
    "\n",
    "> 2. Ajustá-lo para ter um modelo aplicado a si.  \n",
    ">> Criar variável target.  \n",
    ">> Aplicar Label Encoder nas variáveis categóricas.  \n",
    "\n",
    "> 3. Aplicar <font color=red>Scaling</font> nas variáveis com valores maiores do que 1.\n",
    "\n",
    "> 4. Balancear a base utilizando-se do <font color=red>SMOTE over-Sampling</font>   "
   ]
  },
  {
   "cell_type": "markdown",
   "metadata": {},
   "source": [
    "##  1 - Importação de bibliotecas necessárias"
   ]
  },
  {
   "cell_type": "code",
   "execution_count": 1,
   "metadata": {},
   "outputs": [],
   "source": [
    "import pandas as pd\n",
    "import numpy as np\n",
    "pd.options.display.float_format = '{:,.2f}'.format\n",
    "pd.set_option('display.max_columns', None)\n",
    "pd.set_option('display.max_rows', None)\n",
    "# pd.options.display.max_columns = 100\n"
   ]
  },
  {
   "cell_type": "markdown",
   "metadata": {},
   "source": [
    "## 2 - Importação da tabela <font color=red>'olist_ibge_v13'</font> "
   ]
  },
  {
   "cell_type": "code",
   "execution_count": 2,
   "metadata": {},
   "outputs": [],
   "source": [
    "olist_ibge_v13 = pd.read_excel('olist_ibge_v13.xlsx', sheet_name = \"Sheet1\", header = 0, index_col=None) # sem dtype = 'object'"
   ]
  },
  {
   "cell_type": "code",
   "execution_count": 3,
   "metadata": {},
   "outputs": [
    {
     "name": "stdout",
     "output_type": "stream",
     "text": [
      "<class 'pandas.core.frame.DataFrame'>\n",
      "RangeIndex: 92935 entries, 0 to 92934\n",
      "Data columns (total 19 columns):\n",
      " #   Column                 Non-Null Count  Dtype  \n",
      "---  ------                 --------------  -----  \n",
      " 0   Unnamed: 0             92935 non-null  int64  \n",
      " 1   order_id               92935 non-null  object \n",
      " 2   product_id             92935 non-null  object \n",
      " 3   seller_id              92935 non-null  object \n",
      " 4   product_category_name  92935 non-null  object \n",
      " 5   sigla_state            92935 non-null  object \n",
      " 6   seller_sigla_state     92935 non-null  object \n",
      " 7   review_score           92935 non-null  int64  \n",
      " 8   qtde_boleto            92935 non-null  int64  \n",
      " 9   qtde_credit_card       92935 non-null  int64  \n",
      " 10  qtde_debit_card        92935 non-null  int64  \n",
      " 11  qtde_voucher           92935 non-null  int64  \n",
      " 12  soma_payment           92935 non-null  float64\n",
      " 13  qtde_installments      92935 non-null  int64  \n",
      " 14  AR_MUN_2018            92935 non-null  float64\n",
      " 15  POPULAÇÃO ESTIMADA     92935 non-null  int64  \n",
      " 16  PIB                    92935 non-null  float64\n",
      " 17  gini                   92935 non-null  float64\n",
      " 18  dias                   92935 non-null  float64\n",
      "dtypes: float64(5), int64(8), object(6)\n",
      "memory usage: 13.5+ MB\n"
     ]
    }
   ],
   "source": [
    "olist_ibge_v13.info()"
   ]
  },
  {
   "cell_type": "markdown",
   "metadata": {},
   "source": [
    "### 2.1 - Deletar a coluna  <font color=red>'Unnamed: 0'</font>  \n",
    "> Ela é um ruído que sempre surge ao importarmos um arquivo para um DataFrame"
   ]
  },
  {
   "cell_type": "code",
   "execution_count": 4,
   "metadata": {},
   "outputs": [],
   "source": [
    "olist_ibge_v14 = olist_ibge_v13.drop(['Unnamed: 0'], axis=1)"
   ]
  },
  {
   "cell_type": "code",
   "execution_count": 5,
   "metadata": {},
   "outputs": [
    {
     "data": {
      "text/plain": [
       "((92935, 18), (92935, 19))"
      ]
     },
     "execution_count": 5,
     "metadata": {},
     "output_type": "execute_result"
    }
   ],
   "source": [
    "olist_ibge_v14.shape, olist_ibge_v13.shape"
   ]
  },
  {
   "cell_type": "code",
   "execution_count": 6,
   "metadata": {},
   "outputs": [
    {
     "data": {
      "text/html": [
       "<div>\n",
       "<style scoped>\n",
       "    .dataframe tbody tr th:only-of-type {\n",
       "        vertical-align: middle;\n",
       "    }\n",
       "\n",
       "    .dataframe tbody tr th {\n",
       "        vertical-align: top;\n",
       "    }\n",
       "\n",
       "    .dataframe thead th {\n",
       "        text-align: right;\n",
       "    }\n",
       "</style>\n",
       "<table border=\"1\" class=\"dataframe\">\n",
       "  <thead>\n",
       "    <tr style=\"text-align: right;\">\n",
       "      <th></th>\n",
       "      <th>order_id</th>\n",
       "      <th>product_id</th>\n",
       "      <th>seller_id</th>\n",
       "      <th>product_category_name</th>\n",
       "      <th>sigla_state</th>\n",
       "      <th>seller_sigla_state</th>\n",
       "      <th>review_score</th>\n",
       "      <th>qtde_boleto</th>\n",
       "      <th>qtde_credit_card</th>\n",
       "      <th>qtde_debit_card</th>\n",
       "      <th>qtde_voucher</th>\n",
       "      <th>soma_payment</th>\n",
       "      <th>qtde_installments</th>\n",
       "      <th>AR_MUN_2018</th>\n",
       "      <th>POPULAÇÃO ESTIMADA</th>\n",
       "      <th>PIB</th>\n",
       "      <th>gini</th>\n",
       "      <th>dias</th>\n",
       "    </tr>\n",
       "  </thead>\n",
       "  <tbody>\n",
       "    <tr>\n",
       "      <th>0</th>\n",
       "      <td>50ba38c4dc467baab1ea2c8c7747934d</td>\n",
       "      <td>418d480693f2f01e9cf4568db0346d28</td>\n",
       "      <td>12b9676b00f60f3b700e83af21824c0e</td>\n",
       "      <td>cool_stuff</td>\n",
       "      <td>mg</td>\n",
       "      <td>rs</td>\n",
       "      <td>5</td>\n",
       "      <td>0</td>\n",
       "      <td>1</td>\n",
       "      <td>0</td>\n",
       "      <td>0</td>\n",
       "      <td>219.63</td>\n",
       "      <td>10</td>\n",
       "      <td>881.06</td>\n",
       "      <td>7037</td>\n",
       "      <td>180,088.78</td>\n",
       "      <td>0.65</td>\n",
       "      <td>21.11</td>\n",
       "    </tr>\n",
       "    <tr>\n",
       "      <th>1</th>\n",
       "      <td>d99e6849f7676dade195f20c26f0eb4f</td>\n",
       "      <td>1081ae52311daac87fb54ba8ce4670ac</td>\n",
       "      <td>4371b634e0efc0e22b09b52907d9d469</td>\n",
       "      <td>esporte_lazer</td>\n",
       "      <td>mg</td>\n",
       "      <td>sp</td>\n",
       "      <td>5</td>\n",
       "      <td>0</td>\n",
       "      <td>1</td>\n",
       "      <td>0</td>\n",
       "      <td>0</td>\n",
       "      <td>135.59</td>\n",
       "      <td>1</td>\n",
       "      <td>881.06</td>\n",
       "      <td>7037</td>\n",
       "      <td>180,088.78</td>\n",
       "      <td>0.65</td>\n",
       "      <td>5.84</td>\n",
       "    </tr>\n",
       "    <tr>\n",
       "      <th>2</th>\n",
       "      <td>0a9a43ac5fe59c6c4bee2a8f9b9fcce8</td>\n",
       "      <td>c1aabbb6f4caec9f5bf7cd80519d6cc0</td>\n",
       "      <td>579891617139df7d8671d373f0669622</td>\n",
       "      <td>livros_interesse_geral</td>\n",
       "      <td>mg</td>\n",
       "      <td>rj</td>\n",
       "      <td>5</td>\n",
       "      <td>1</td>\n",
       "      <td>0</td>\n",
       "      <td>0</td>\n",
       "      <td>0</td>\n",
       "      <td>58.28</td>\n",
       "      <td>1</td>\n",
       "      <td>881.06</td>\n",
       "      <td>7037</td>\n",
       "      <td>180,088.78</td>\n",
       "      <td>0.65</td>\n",
       "      <td>8.63</td>\n",
       "    </tr>\n",
       "    <tr>\n",
       "      <th>3</th>\n",
       "      <td>3f1294f87d79b57f5d55ba7b80c3d94f</td>\n",
       "      <td>0a9b9a871ffaec6c0198334558a6c6a1</td>\n",
       "      <td>f9244d45189d3a3605499abddeade7d5</td>\n",
       "      <td>eletroportateis</td>\n",
       "      <td>go</td>\n",
       "      <td>sp</td>\n",
       "      <td>4</td>\n",
       "      <td>0</td>\n",
       "      <td>1</td>\n",
       "      <td>0</td>\n",
       "      <td>0</td>\n",
       "      <td>1,025.52</td>\n",
       "      <td>8</td>\n",
       "      <td>1,045.13</td>\n",
       "      <td>18427</td>\n",
       "      <td>287,984.49</td>\n",
       "      <td>0.73</td>\n",
       "      <td>29.10</td>\n",
       "    </tr>\n",
       "    <tr>\n",
       "      <th>4</th>\n",
       "      <td>6c12feac9a308e1382d9b19cca7f20b2</td>\n",
       "      <td>d47821b10559fffaefcf3e57d2b5ff76</td>\n",
       "      <td>0df3984f9dfb3d49ac6366acbd3bbb85</td>\n",
       "      <td>beleza_saude</td>\n",
       "      <td>mg</td>\n",
       "      <td>mg</td>\n",
       "      <td>4</td>\n",
       "      <td>0</td>\n",
       "      <td>1</td>\n",
       "      <td>0</td>\n",
       "      <td>0</td>\n",
       "      <td>220.97</td>\n",
       "      <td>4</td>\n",
       "      <td>1,817.07</td>\n",
       "      <td>23574</td>\n",
       "      <td>430,235.36</td>\n",
       "      <td>0.66</td>\n",
       "      <td>4.80</td>\n",
       "    </tr>\n",
       "  </tbody>\n",
       "</table>\n",
       "</div>"
      ],
      "text/plain": [
       "                           order_id                        product_id  \\\n",
       "0  50ba38c4dc467baab1ea2c8c7747934d  418d480693f2f01e9cf4568db0346d28   \n",
       "1  d99e6849f7676dade195f20c26f0eb4f  1081ae52311daac87fb54ba8ce4670ac   \n",
       "2  0a9a43ac5fe59c6c4bee2a8f9b9fcce8  c1aabbb6f4caec9f5bf7cd80519d6cc0   \n",
       "3  3f1294f87d79b57f5d55ba7b80c3d94f  0a9b9a871ffaec6c0198334558a6c6a1   \n",
       "4  6c12feac9a308e1382d9b19cca7f20b2  d47821b10559fffaefcf3e57d2b5ff76   \n",
       "\n",
       "                          seller_id   product_category_name sigla_state  \\\n",
       "0  12b9676b00f60f3b700e83af21824c0e              cool_stuff          mg   \n",
       "1  4371b634e0efc0e22b09b52907d9d469           esporte_lazer          mg   \n",
       "2  579891617139df7d8671d373f0669622  livros_interesse_geral          mg   \n",
       "3  f9244d45189d3a3605499abddeade7d5         eletroportateis          go   \n",
       "4  0df3984f9dfb3d49ac6366acbd3bbb85            beleza_saude          mg   \n",
       "\n",
       "  seller_sigla_state  review_score  qtde_boleto  qtde_credit_card  \\\n",
       "0                 rs             5            0                 1   \n",
       "1                 sp             5            0                 1   \n",
       "2                 rj             5            1                 0   \n",
       "3                 sp             4            0                 1   \n",
       "4                 mg             4            0                 1   \n",
       "\n",
       "   qtde_debit_card  qtde_voucher  soma_payment  qtde_installments  \\\n",
       "0                0             0        219.63                 10   \n",
       "1                0             0        135.59                  1   \n",
       "2                0             0         58.28                  1   \n",
       "3                0             0      1,025.52                  8   \n",
       "4                0             0        220.97                  4   \n",
       "\n",
       "   AR_MUN_2018  POPULAÇÃO ESTIMADA        PIB  gini  dias  \n",
       "0       881.06                7037 180,088.78  0.65 21.11  \n",
       "1       881.06                7037 180,088.78  0.65  5.84  \n",
       "2       881.06                7037 180,088.78  0.65  8.63  \n",
       "3     1,045.13               18427 287,984.49  0.73 29.10  \n",
       "4     1,817.07               23574 430,235.36  0.66  4.80  "
      ]
     },
     "execution_count": 6,
     "metadata": {},
     "output_type": "execute_result"
    }
   ],
   "source": [
    "olist_ibge_v14.head()"
   ]
  },
  {
   "cell_type": "markdown",
   "metadata": {},
   "source": [
    "### 2.2 - Criar coluna target para  <font color=red>'olist_ibge_v14'</font>  \n",
    "> A partir de 'review_score'.  \n",
    ">> Chamada 'humor'"
   ]
  },
  {
   "cell_type": "code",
   "execution_count": 7,
   "metadata": {},
   "outputs": [
    {
     "data": {
      "text/plain": [
       "Index(['order_id', 'product_id', 'seller_id', 'product_category_name',\n",
       "       'sigla_state', 'seller_sigla_state', 'review_score', 'qtde_boleto',\n",
       "       'qtde_credit_card', 'qtde_debit_card', 'qtde_voucher', 'soma_payment',\n",
       "       'qtde_installments', 'AR_MUN_2018', 'POPULAÇÃO ESTIMADA', 'PIB', 'gini',\n",
       "       'dias'],\n",
       "      dtype='object')"
      ]
     },
     "execution_count": 7,
     "metadata": {},
     "output_type": "execute_result"
    }
   ],
   "source": [
    "olist_ibge_v14.columns"
   ]
  },
  {
   "cell_type": "code",
   "execution_count": 8,
   "metadata": {},
   "outputs": [],
   "source": [
    "# Nova coluna chamada 'humor' será 0 (zero), quando review_score for de 1 a 3, ou 1 (um), quando review_score for 4 ou 5.\n",
    "a = {1:0, 2:0, 3:0 , 4:1, 5:1}\n",
    "olist_ibge_v14['humor'] = olist_ibge_v14['review_score'].map(a)"
   ]
  },
  {
   "cell_type": "code",
   "execution_count": 9,
   "metadata": {},
   "outputs": [
    {
     "name": "stdout",
     "output_type": "stream",
     "text": [
      "<class 'pandas.core.frame.DataFrame'>\n",
      "RangeIndex: 92935 entries, 0 to 92934\n",
      "Data columns (total 19 columns):\n",
      " #   Column                 Non-Null Count  Dtype  \n",
      "---  ------                 --------------  -----  \n",
      " 0   order_id               92935 non-null  object \n",
      " 1   product_id             92935 non-null  object \n",
      " 2   seller_id              92935 non-null  object \n",
      " 3   product_category_name  92935 non-null  object \n",
      " 4   sigla_state            92935 non-null  object \n",
      " 5   seller_sigla_state     92935 non-null  object \n",
      " 6   review_score           92935 non-null  int64  \n",
      " 7   qtde_boleto            92935 non-null  int64  \n",
      " 8   qtde_credit_card       92935 non-null  int64  \n",
      " 9   qtde_debit_card        92935 non-null  int64  \n",
      " 10  qtde_voucher           92935 non-null  int64  \n",
      " 11  soma_payment           92935 non-null  float64\n",
      " 12  qtde_installments      92935 non-null  int64  \n",
      " 13  AR_MUN_2018            92935 non-null  float64\n",
      " 14  POPULAÇÃO ESTIMADA     92935 non-null  int64  \n",
      " 15  PIB                    92935 non-null  float64\n",
      " 16  gini                   92935 non-null  float64\n",
      " 17  dias                   92935 non-null  float64\n",
      " 18  humor                  92935 non-null  int64  \n",
      "dtypes: float64(5), int64(8), object(6)\n",
      "memory usage: 13.5+ MB\n"
     ]
    }
   ],
   "source": [
    "olist_ibge_v14.info()"
   ]
  },
  {
   "cell_type": "code",
   "execution_count": 10,
   "metadata": {},
   "outputs": [
    {
     "data": {
      "text/plain": [
       "array([1, 0], dtype=int64)"
      ]
     },
     "execution_count": 10,
     "metadata": {},
     "output_type": "execute_result"
    }
   ],
   "source": [
    "olist_ibge_v14['humor'].unique()"
   ]
  },
  {
   "cell_type": "code",
   "execution_count": 11,
   "metadata": {},
   "outputs": [],
   "source": [
    "qtde_humores = olist_ibge_v14.groupby('humor')['order_id'].count()"
   ]
  },
  {
   "cell_type": "code",
   "execution_count": 12,
   "metadata": {},
   "outputs": [],
   "source": [
    "df_qtde_humores = pd.DataFrame(qtde_humores)"
   ]
  },
  {
   "cell_type": "code",
   "execution_count": 13,
   "metadata": {},
   "outputs": [
    {
     "data": {
      "text/html": [
       "<div>\n",
       "<style scoped>\n",
       "    .dataframe tbody tr th:only-of-type {\n",
       "        vertical-align: middle;\n",
       "    }\n",
       "\n",
       "    .dataframe tbody tr th {\n",
       "        vertical-align: top;\n",
       "    }\n",
       "\n",
       "    .dataframe thead th {\n",
       "        text-align: right;\n",
       "    }\n",
       "</style>\n",
       "<table border=\"1\" class=\"dataframe\">\n",
       "  <thead>\n",
       "    <tr style=\"text-align: right;\">\n",
       "      <th></th>\n",
       "      <th>order_id</th>\n",
       "    </tr>\n",
       "    <tr>\n",
       "      <th>humor</th>\n",
       "      <th></th>\n",
       "    </tr>\n",
       "  </thead>\n",
       "  <tbody>\n",
       "    <tr>\n",
       "      <th>0</th>\n",
       "      <td>19868</td>\n",
       "    </tr>\n",
       "    <tr>\n",
       "      <th>1</th>\n",
       "      <td>73067</td>\n",
       "    </tr>\n",
       "  </tbody>\n",
       "</table>\n",
       "</div>"
      ],
      "text/plain": [
       "       order_id\n",
       "humor          \n",
       "0         19868\n",
       "1         73067"
      ]
     },
     "execution_count": 13,
     "metadata": {},
     "output_type": "execute_result"
    }
   ],
   "source": [
    "df_qtde_humores"
   ]
  },
  {
   "cell_type": "code",
   "execution_count": 14,
   "metadata": {},
   "outputs": [
    {
     "name": "stdout",
     "output_type": "stream",
     "text": [
      "92935\n"
     ]
    }
   ],
   "source": [
    "print(73067+19868)"
   ]
  },
  {
   "cell_type": "code",
   "execution_count": 15,
   "metadata": {},
   "outputs": [
    {
     "name": "stdout",
     "output_type": "stream",
     "text": [
      "21.378382740625167\n"
     ]
    }
   ],
   "source": [
    "print(19868*100/92935)"
   ]
  },
  {
   "cell_type": "code",
   "execution_count": 16,
   "metadata": {},
   "outputs": [
    {
     "name": "stdout",
     "output_type": "stream",
     "text": [
      "78.62161725937483\n"
     ]
    }
   ],
   "source": [
    "print(73067*100/92935)"
   ]
  },
  {
   "cell_type": "code",
   "execution_count": 17,
   "metadata": {},
   "outputs": [
    {
     "data": {
      "text/html": [
       "<div>\n",
       "<style scoped>\n",
       "    .dataframe tbody tr th:only-of-type {\n",
       "        vertical-align: middle;\n",
       "    }\n",
       "\n",
       "    .dataframe tbody tr th {\n",
       "        vertical-align: top;\n",
       "    }\n",
       "\n",
       "    .dataframe thead th {\n",
       "        text-align: right;\n",
       "    }\n",
       "</style>\n",
       "<table border=\"1\" class=\"dataframe\">\n",
       "  <thead>\n",
       "    <tr style=\"text-align: right;\">\n",
       "      <th></th>\n",
       "      <th>order_id</th>\n",
       "      <th>product_id</th>\n",
       "      <th>seller_id</th>\n",
       "      <th>product_category_name</th>\n",
       "      <th>sigla_state</th>\n",
       "      <th>seller_sigla_state</th>\n",
       "      <th>review_score</th>\n",
       "      <th>qtde_boleto</th>\n",
       "      <th>qtde_credit_card</th>\n",
       "      <th>qtde_debit_card</th>\n",
       "      <th>qtde_voucher</th>\n",
       "      <th>soma_payment</th>\n",
       "      <th>qtde_installments</th>\n",
       "      <th>AR_MUN_2018</th>\n",
       "      <th>POPULAÇÃO ESTIMADA</th>\n",
       "      <th>PIB</th>\n",
       "      <th>gini</th>\n",
       "      <th>dias</th>\n",
       "      <th>humor</th>\n",
       "    </tr>\n",
       "  </thead>\n",
       "  <tbody>\n",
       "    <tr>\n",
       "      <th>0</th>\n",
       "      <td>50ba38c4dc467baab1ea2c8c7747934d</td>\n",
       "      <td>418d480693f2f01e9cf4568db0346d28</td>\n",
       "      <td>12b9676b00f60f3b700e83af21824c0e</td>\n",
       "      <td>cool_stuff</td>\n",
       "      <td>mg</td>\n",
       "      <td>rs</td>\n",
       "      <td>5</td>\n",
       "      <td>0</td>\n",
       "      <td>1</td>\n",
       "      <td>0</td>\n",
       "      <td>0</td>\n",
       "      <td>219.63</td>\n",
       "      <td>10</td>\n",
       "      <td>881.06</td>\n",
       "      <td>7037</td>\n",
       "      <td>180,088.78</td>\n",
       "      <td>0.65</td>\n",
       "      <td>21.11</td>\n",
       "      <td>1</td>\n",
       "    </tr>\n",
       "    <tr>\n",
       "      <th>1</th>\n",
       "      <td>d99e6849f7676dade195f20c26f0eb4f</td>\n",
       "      <td>1081ae52311daac87fb54ba8ce4670ac</td>\n",
       "      <td>4371b634e0efc0e22b09b52907d9d469</td>\n",
       "      <td>esporte_lazer</td>\n",
       "      <td>mg</td>\n",
       "      <td>sp</td>\n",
       "      <td>5</td>\n",
       "      <td>0</td>\n",
       "      <td>1</td>\n",
       "      <td>0</td>\n",
       "      <td>0</td>\n",
       "      <td>135.59</td>\n",
       "      <td>1</td>\n",
       "      <td>881.06</td>\n",
       "      <td>7037</td>\n",
       "      <td>180,088.78</td>\n",
       "      <td>0.65</td>\n",
       "      <td>5.84</td>\n",
       "      <td>1</td>\n",
       "    </tr>\n",
       "    <tr>\n",
       "      <th>2</th>\n",
       "      <td>0a9a43ac5fe59c6c4bee2a8f9b9fcce8</td>\n",
       "      <td>c1aabbb6f4caec9f5bf7cd80519d6cc0</td>\n",
       "      <td>579891617139df7d8671d373f0669622</td>\n",
       "      <td>livros_interesse_geral</td>\n",
       "      <td>mg</td>\n",
       "      <td>rj</td>\n",
       "      <td>5</td>\n",
       "      <td>1</td>\n",
       "      <td>0</td>\n",
       "      <td>0</td>\n",
       "      <td>0</td>\n",
       "      <td>58.28</td>\n",
       "      <td>1</td>\n",
       "      <td>881.06</td>\n",
       "      <td>7037</td>\n",
       "      <td>180,088.78</td>\n",
       "      <td>0.65</td>\n",
       "      <td>8.63</td>\n",
       "      <td>1</td>\n",
       "    </tr>\n",
       "    <tr>\n",
       "      <th>3</th>\n",
       "      <td>3f1294f87d79b57f5d55ba7b80c3d94f</td>\n",
       "      <td>0a9b9a871ffaec6c0198334558a6c6a1</td>\n",
       "      <td>f9244d45189d3a3605499abddeade7d5</td>\n",
       "      <td>eletroportateis</td>\n",
       "      <td>go</td>\n",
       "      <td>sp</td>\n",
       "      <td>4</td>\n",
       "      <td>0</td>\n",
       "      <td>1</td>\n",
       "      <td>0</td>\n",
       "      <td>0</td>\n",
       "      <td>1,025.52</td>\n",
       "      <td>8</td>\n",
       "      <td>1,045.13</td>\n",
       "      <td>18427</td>\n",
       "      <td>287,984.49</td>\n",
       "      <td>0.73</td>\n",
       "      <td>29.10</td>\n",
       "      <td>1</td>\n",
       "    </tr>\n",
       "    <tr>\n",
       "      <th>4</th>\n",
       "      <td>6c12feac9a308e1382d9b19cca7f20b2</td>\n",
       "      <td>d47821b10559fffaefcf3e57d2b5ff76</td>\n",
       "      <td>0df3984f9dfb3d49ac6366acbd3bbb85</td>\n",
       "      <td>beleza_saude</td>\n",
       "      <td>mg</td>\n",
       "      <td>mg</td>\n",
       "      <td>4</td>\n",
       "      <td>0</td>\n",
       "      <td>1</td>\n",
       "      <td>0</td>\n",
       "      <td>0</td>\n",
       "      <td>220.97</td>\n",
       "      <td>4</td>\n",
       "      <td>1,817.07</td>\n",
       "      <td>23574</td>\n",
       "      <td>430,235.36</td>\n",
       "      <td>0.66</td>\n",
       "      <td>4.80</td>\n",
       "      <td>1</td>\n",
       "    </tr>\n",
       "  </tbody>\n",
       "</table>\n",
       "</div>"
      ],
      "text/plain": [
       "                           order_id                        product_id  \\\n",
       "0  50ba38c4dc467baab1ea2c8c7747934d  418d480693f2f01e9cf4568db0346d28   \n",
       "1  d99e6849f7676dade195f20c26f0eb4f  1081ae52311daac87fb54ba8ce4670ac   \n",
       "2  0a9a43ac5fe59c6c4bee2a8f9b9fcce8  c1aabbb6f4caec9f5bf7cd80519d6cc0   \n",
       "3  3f1294f87d79b57f5d55ba7b80c3d94f  0a9b9a871ffaec6c0198334558a6c6a1   \n",
       "4  6c12feac9a308e1382d9b19cca7f20b2  d47821b10559fffaefcf3e57d2b5ff76   \n",
       "\n",
       "                          seller_id   product_category_name sigla_state  \\\n",
       "0  12b9676b00f60f3b700e83af21824c0e              cool_stuff          mg   \n",
       "1  4371b634e0efc0e22b09b52907d9d469           esporte_lazer          mg   \n",
       "2  579891617139df7d8671d373f0669622  livros_interesse_geral          mg   \n",
       "3  f9244d45189d3a3605499abddeade7d5         eletroportateis          go   \n",
       "4  0df3984f9dfb3d49ac6366acbd3bbb85            beleza_saude          mg   \n",
       "\n",
       "  seller_sigla_state  review_score  qtde_boleto  qtde_credit_card  \\\n",
       "0                 rs             5            0                 1   \n",
       "1                 sp             5            0                 1   \n",
       "2                 rj             5            1                 0   \n",
       "3                 sp             4            0                 1   \n",
       "4                 mg             4            0                 1   \n",
       "\n",
       "   qtde_debit_card  qtde_voucher  soma_payment  qtde_installments  \\\n",
       "0                0             0        219.63                 10   \n",
       "1                0             0        135.59                  1   \n",
       "2                0             0         58.28                  1   \n",
       "3                0             0      1,025.52                  8   \n",
       "4                0             0        220.97                  4   \n",
       "\n",
       "   AR_MUN_2018  POPULAÇÃO ESTIMADA        PIB  gini  dias  humor  \n",
       "0       881.06                7037 180,088.78  0.65 21.11      1  \n",
       "1       881.06                7037 180,088.78  0.65  5.84      1  \n",
       "2       881.06                7037 180,088.78  0.65  8.63      1  \n",
       "3     1,045.13               18427 287,984.49  0.73 29.10      1  \n",
       "4     1,817.07               23574 430,235.36  0.66  4.80      1  "
      ]
     },
     "execution_count": 17,
     "metadata": {},
     "output_type": "execute_result"
    }
   ],
   "source": [
    "olist_ibge_v14.head()"
   ]
  },
  {
   "cell_type": "code",
   "execution_count": 18,
   "metadata": {},
   "outputs": [],
   "source": [
    "crosstab = pd.crosstab(olist_ibge_v14['dias'], olist_ibge_v14['humor'], margins = True)"
   ]
  },
  {
   "cell_type": "code",
   "execution_count": 19,
   "metadata": {},
   "outputs": [
    {
     "data": {
      "text/html": [
       "<div>\n",
       "<style scoped>\n",
       "    .dataframe tbody tr th:only-of-type {\n",
       "        vertical-align: middle;\n",
       "    }\n",
       "\n",
       "    .dataframe tbody tr th {\n",
       "        vertical-align: top;\n",
       "    }\n",
       "\n",
       "    .dataframe thead th {\n",
       "        text-align: right;\n",
       "    }\n",
       "</style>\n",
       "<table border=\"1\" class=\"dataframe\">\n",
       "  <thead>\n",
       "    <tr style=\"text-align: right;\">\n",
       "      <th>humor</th>\n",
       "      <th>0</th>\n",
       "      <th>1</th>\n",
       "      <th>All</th>\n",
       "    </tr>\n",
       "    <tr>\n",
       "      <th>dias</th>\n",
       "      <th></th>\n",
       "      <th></th>\n",
       "      <th></th>\n",
       "    </tr>\n",
       "  </thead>\n",
       "  <tbody>\n",
       "    <tr>\n",
       "      <th>0.53</th>\n",
       "      <td>0</td>\n",
       "      <td>1</td>\n",
       "      <td>1</td>\n",
       "    </tr>\n",
       "    <tr>\n",
       "      <th>0.78</th>\n",
       "      <td>1</td>\n",
       "      <td>0</td>\n",
       "      <td>1</td>\n",
       "    </tr>\n",
       "    <tr>\n",
       "      <th>0.86</th>\n",
       "      <td>1</td>\n",
       "      <td>0</td>\n",
       "      <td>1</td>\n",
       "    </tr>\n",
       "    <tr>\n",
       "      <th>0.86</th>\n",
       "      <td>1</td>\n",
       "      <td>0</td>\n",
       "      <td>1</td>\n",
       "    </tr>\n",
       "    <tr>\n",
       "      <th>0.89</th>\n",
       "      <td>0</td>\n",
       "      <td>1</td>\n",
       "      <td>1</td>\n",
       "    </tr>\n",
       "  </tbody>\n",
       "</table>\n",
       "</div>"
      ],
      "text/plain": [
       "humor  0  1  All\n",
       "dias            \n",
       "0.53   0  1    1\n",
       "0.78   1  0    1\n",
       "0.86   1  0    1\n",
       "0.86   1  0    1\n",
       "0.89   0  1    1"
      ]
     },
     "execution_count": 19,
     "metadata": {},
     "output_type": "execute_result"
    }
   ],
   "source": [
    "crosstab.head()"
   ]
  },
  {
   "cell_type": "code",
   "execution_count": 20,
   "metadata": {},
   "outputs": [
    {
     "data": {
      "text/html": [
       "<div>\n",
       "<style scoped>\n",
       "    .dataframe tbody tr th:only-of-type {\n",
       "        vertical-align: middle;\n",
       "    }\n",
       "\n",
       "    .dataframe tbody tr th {\n",
       "        vertical-align: top;\n",
       "    }\n",
       "\n",
       "    .dataframe thead th {\n",
       "        text-align: right;\n",
       "    }\n",
       "</style>\n",
       "<table border=\"1\" class=\"dataframe\">\n",
       "  <thead>\n",
       "    <tr style=\"text-align: right;\">\n",
       "      <th></th>\n",
       "      <th>review_score</th>\n",
       "      <th>qtde_boleto</th>\n",
       "      <th>qtde_credit_card</th>\n",
       "      <th>qtde_debit_card</th>\n",
       "      <th>qtde_voucher</th>\n",
       "      <th>soma_payment</th>\n",
       "      <th>qtde_installments</th>\n",
       "      <th>AR_MUN_2018</th>\n",
       "      <th>POPULAÇÃO ESTIMADA</th>\n",
       "      <th>PIB</th>\n",
       "      <th>gini</th>\n",
       "      <th>dias</th>\n",
       "      <th>humor</th>\n",
       "    </tr>\n",
       "  </thead>\n",
       "  <tbody>\n",
       "    <tr>\n",
       "      <th>count</th>\n",
       "      <td>92,935.00</td>\n",
       "      <td>92,935.00</td>\n",
       "      <td>92,935.00</td>\n",
       "      <td>92,935.00</td>\n",
       "      <td>92,935.00</td>\n",
       "      <td>92,935.00</td>\n",
       "      <td>92,935.00</td>\n",
       "      <td>92,935.00</td>\n",
       "      <td>92,935.00</td>\n",
       "      <td>92,935.00</td>\n",
       "      <td>92,935.00</td>\n",
       "      <td>92,935.00</td>\n",
       "      <td>92,935.00</td>\n",
       "    </tr>\n",
       "    <tr>\n",
       "      <th>mean</th>\n",
       "      <td>4.15</td>\n",
       "      <td>0.20</td>\n",
       "      <td>0.77</td>\n",
       "      <td>0.02</td>\n",
       "      <td>0.06</td>\n",
       "      <td>160.50</td>\n",
       "      <td>2.93</td>\n",
       "      <td>1,279.54</td>\n",
       "      <td>2,826,551.15</td>\n",
       "      <td>151,772,033.94</td>\n",
       "      <td>0.79</td>\n",
       "      <td>12.56</td>\n",
       "      <td>0.79</td>\n",
       "    </tr>\n",
       "    <tr>\n",
       "      <th>std</th>\n",
       "      <td>1.29</td>\n",
       "      <td>0.40</td>\n",
       "      <td>0.43</td>\n",
       "      <td>0.12</td>\n",
       "      <td>0.41</td>\n",
       "      <td>219.69</td>\n",
       "      <td>2.72</td>\n",
       "      <td>3,553.72</td>\n",
       "      <td>4,325,960.32</td>\n",
       "      <td>247,687,238.20</td>\n",
       "      <td>0.11</td>\n",
       "      <td>9.51</td>\n",
       "      <td>0.41</td>\n",
       "    </tr>\n",
       "    <tr>\n",
       "      <th>min</th>\n",
       "      <td>1.00</td>\n",
       "      <td>0.00</td>\n",
       "      <td>0.00</td>\n",
       "      <td>0.00</td>\n",
       "      <td>0.00</td>\n",
       "      <td>0.00</td>\n",
       "      <td>0.00</td>\n",
       "      <td>3.56</td>\n",
       "      <td>838.00</td>\n",
       "      <td>14,959.96</td>\n",
       "      <td>0.35</td>\n",
       "      <td>0.53</td>\n",
       "      <td>0.00</td>\n",
       "    </tr>\n",
       "    <tr>\n",
       "      <th>25%</th>\n",
       "      <td>4.00</td>\n",
       "      <td>0.00</td>\n",
       "      <td>1.00</td>\n",
       "      <td>0.00</td>\n",
       "      <td>0.00</td>\n",
       "      <td>62.01</td>\n",
       "      <td>1.00</td>\n",
       "      <td>318.68</td>\n",
       "      <td>102,268.00</td>\n",
       "      <td>2,921,663.24</td>\n",
       "      <td>0.74</td>\n",
       "      <td>6.79</td>\n",
       "      <td>1.00</td>\n",
       "    </tr>\n",
       "    <tr>\n",
       "      <th>50%</th>\n",
       "      <td>5.00</td>\n",
       "      <td>0.00</td>\n",
       "      <td>1.00</td>\n",
       "      <td>0.00</td>\n",
       "      <td>0.00</td>\n",
       "      <td>105.28</td>\n",
       "      <td>2.00</td>\n",
       "      <td>693.83</td>\n",
       "      <td>477,798.00</td>\n",
       "      <td>18,469,475.89</td>\n",
       "      <td>0.80</td>\n",
       "      <td>10.22</td>\n",
       "      <td>1.00</td>\n",
       "    </tr>\n",
       "    <tr>\n",
       "      <th>75%</th>\n",
       "      <td>5.00</td>\n",
       "      <td>0.00</td>\n",
       "      <td>1.00</td>\n",
       "      <td>0.00</td>\n",
       "      <td>0.00</td>\n",
       "      <td>177.28</td>\n",
       "      <td>4.00</td>\n",
       "      <td>1,521.11</td>\n",
       "      <td>2,938,092.00</td>\n",
       "      <td>88,277,462.53</td>\n",
       "      <td>0.87</td>\n",
       "      <td>15.71</td>\n",
       "      <td>1.00</td>\n",
       "    </tr>\n",
       "    <tr>\n",
       "      <th>max</th>\n",
       "      <td>5.00</td>\n",
       "      <td>1.00</td>\n",
       "      <td>2.00</td>\n",
       "      <td>2.00</td>\n",
       "      <td>25.00</td>\n",
       "      <td>13,664.08</td>\n",
       "      <td>24.00</td>\n",
       "      <td>159,533.33</td>\n",
       "      <td>12,038,175.00</td>\n",
       "      <td>687,035,889.61</td>\n",
       "      <td>0.99</td>\n",
       "      <td>209.63</td>\n",
       "      <td>1.00</td>\n",
       "    </tr>\n",
       "  </tbody>\n",
       "</table>\n",
       "</div>"
      ],
      "text/plain": [
       "       review_score  qtde_boleto  qtde_credit_card  qtde_debit_card  \\\n",
       "count     92,935.00    92,935.00         92,935.00        92,935.00   \n",
       "mean           4.15         0.20              0.77             0.02   \n",
       "std            1.29         0.40              0.43             0.12   \n",
       "min            1.00         0.00              0.00             0.00   \n",
       "25%            4.00         0.00              1.00             0.00   \n",
       "50%            5.00         0.00              1.00             0.00   \n",
       "75%            5.00         0.00              1.00             0.00   \n",
       "max            5.00         1.00              2.00             2.00   \n",
       "\n",
       "       qtde_voucher  soma_payment  qtde_installments  AR_MUN_2018  \\\n",
       "count     92,935.00     92,935.00          92,935.00    92,935.00   \n",
       "mean           0.06        160.50               2.93     1,279.54   \n",
       "std            0.41        219.69               2.72     3,553.72   \n",
       "min            0.00          0.00               0.00         3.56   \n",
       "25%            0.00         62.01               1.00       318.68   \n",
       "50%            0.00        105.28               2.00       693.83   \n",
       "75%            0.00        177.28               4.00     1,521.11   \n",
       "max           25.00     13,664.08              24.00   159,533.33   \n",
       "\n",
       "       POPULAÇÃO ESTIMADA            PIB      gini      dias     humor  \n",
       "count           92,935.00      92,935.00 92,935.00 92,935.00 92,935.00  \n",
       "mean         2,826,551.15 151,772,033.94      0.79     12.56      0.79  \n",
       "std          4,325,960.32 247,687,238.20      0.11      9.51      0.41  \n",
       "min                838.00      14,959.96      0.35      0.53      0.00  \n",
       "25%            102,268.00   2,921,663.24      0.74      6.79      1.00  \n",
       "50%            477,798.00  18,469,475.89      0.80     10.22      1.00  \n",
       "75%          2,938,092.00  88,277,462.53      0.87     15.71      1.00  \n",
       "max         12,038,175.00 687,035,889.61      0.99    209.63      1.00  "
      ]
     },
     "execution_count": 20,
     "metadata": {},
     "output_type": "execute_result"
    }
   ],
   "source": [
    "olist_ibge_v14.describe()"
   ]
  },
  {
   "cell_type": "code",
   "execution_count": 21,
   "metadata": {},
   "outputs": [],
   "source": [
    "# Deletar 'qtde_boleto', por correlação de -0.9 com 'qtde_credit_card', e 'POPULAÇAO ESTIMADA', por ter correlação de 1 com 'PIB'\n",
    "# Deletar 'order_id' por ser somente chave primária e 'review_score', pois já temos oriunda dela a coluna 'humor', nosso alvo.\n",
    "olist_ibge_v15 = olist_ibge_v14.drop(['qtde_boleto', 'POPULAÇÃO ESTIMADA', 'order_id', 'review_score'], axis=1)"
   ]
  },
  {
   "cell_type": "code",
   "execution_count": 22,
   "metadata": {},
   "outputs": [
    {
     "data": {
      "text/plain": [
       "((92935, 15), (92935, 19))"
      ]
     },
     "execution_count": 22,
     "metadata": {},
     "output_type": "execute_result"
    }
   ],
   "source": [
    "olist_ibge_v15.shape, olist_ibge_v14.shape"
   ]
  },
  {
   "cell_type": "code",
   "execution_count": 23,
   "metadata": {},
   "outputs": [
    {
     "name": "stdout",
     "output_type": "stream",
     "text": [
      "<class 'pandas.core.frame.DataFrame'>\n",
      "RangeIndex: 92935 entries, 0 to 92934\n",
      "Data columns (total 15 columns):\n",
      " #   Column                 Non-Null Count  Dtype  \n",
      "---  ------                 --------------  -----  \n",
      " 0   product_id             92935 non-null  object \n",
      " 1   seller_id              92935 non-null  object \n",
      " 2   product_category_name  92935 non-null  object \n",
      " 3   sigla_state            92935 non-null  object \n",
      " 4   seller_sigla_state     92935 non-null  object \n",
      " 5   qtde_credit_card       92935 non-null  int64  \n",
      " 6   qtde_debit_card        92935 non-null  int64  \n",
      " 7   qtde_voucher           92935 non-null  int64  \n",
      " 8   soma_payment           92935 non-null  float64\n",
      " 9   qtde_installments      92935 non-null  int64  \n",
      " 10  AR_MUN_2018            92935 non-null  float64\n",
      " 11  PIB                    92935 non-null  float64\n",
      " 12  gini                   92935 non-null  float64\n",
      " 13  dias                   92935 non-null  float64\n",
      " 14  humor                  92935 non-null  int64  \n",
      "dtypes: float64(5), int64(5), object(5)\n",
      "memory usage: 10.6+ MB\n"
     ]
    }
   ],
   "source": [
    "olist_ibge_v15.info()"
   ]
  },
  {
   "cell_type": "code",
   "execution_count": 24,
   "metadata": {},
   "outputs": [
    {
     "data": {
      "text/html": [
       "<div>\n",
       "<style scoped>\n",
       "    .dataframe tbody tr th:only-of-type {\n",
       "        vertical-align: middle;\n",
       "    }\n",
       "\n",
       "    .dataframe tbody tr th {\n",
       "        vertical-align: top;\n",
       "    }\n",
       "\n",
       "    .dataframe thead th {\n",
       "        text-align: right;\n",
       "    }\n",
       "</style>\n",
       "<table border=\"1\" class=\"dataframe\">\n",
       "  <thead>\n",
       "    <tr style=\"text-align: right;\">\n",
       "      <th></th>\n",
       "      <th>product_id</th>\n",
       "      <th>seller_id</th>\n",
       "      <th>product_category_name</th>\n",
       "      <th>sigla_state</th>\n",
       "      <th>seller_sigla_state</th>\n",
       "      <th>qtde_credit_card</th>\n",
       "      <th>qtde_debit_card</th>\n",
       "      <th>qtde_voucher</th>\n",
       "      <th>soma_payment</th>\n",
       "      <th>qtde_installments</th>\n",
       "      <th>AR_MUN_2018</th>\n",
       "      <th>PIB</th>\n",
       "      <th>gini</th>\n",
       "      <th>dias</th>\n",
       "      <th>humor</th>\n",
       "    </tr>\n",
       "  </thead>\n",
       "  <tbody>\n",
       "    <tr>\n",
       "      <th>0</th>\n",
       "      <td>418d480693f2f01e9cf4568db0346d28</td>\n",
       "      <td>12b9676b00f60f3b700e83af21824c0e</td>\n",
       "      <td>cool_stuff</td>\n",
       "      <td>mg</td>\n",
       "      <td>rs</td>\n",
       "      <td>1</td>\n",
       "      <td>0</td>\n",
       "      <td>0</td>\n",
       "      <td>219.63</td>\n",
       "      <td>10</td>\n",
       "      <td>881.06</td>\n",
       "      <td>180,088.78</td>\n",
       "      <td>0.65</td>\n",
       "      <td>21.11</td>\n",
       "      <td>1</td>\n",
       "    </tr>\n",
       "    <tr>\n",
       "      <th>1</th>\n",
       "      <td>1081ae52311daac87fb54ba8ce4670ac</td>\n",
       "      <td>4371b634e0efc0e22b09b52907d9d469</td>\n",
       "      <td>esporte_lazer</td>\n",
       "      <td>mg</td>\n",
       "      <td>sp</td>\n",
       "      <td>1</td>\n",
       "      <td>0</td>\n",
       "      <td>0</td>\n",
       "      <td>135.59</td>\n",
       "      <td>1</td>\n",
       "      <td>881.06</td>\n",
       "      <td>180,088.78</td>\n",
       "      <td>0.65</td>\n",
       "      <td>5.84</td>\n",
       "      <td>1</td>\n",
       "    </tr>\n",
       "    <tr>\n",
       "      <th>2</th>\n",
       "      <td>c1aabbb6f4caec9f5bf7cd80519d6cc0</td>\n",
       "      <td>579891617139df7d8671d373f0669622</td>\n",
       "      <td>livros_interesse_geral</td>\n",
       "      <td>mg</td>\n",
       "      <td>rj</td>\n",
       "      <td>0</td>\n",
       "      <td>0</td>\n",
       "      <td>0</td>\n",
       "      <td>58.28</td>\n",
       "      <td>1</td>\n",
       "      <td>881.06</td>\n",
       "      <td>180,088.78</td>\n",
       "      <td>0.65</td>\n",
       "      <td>8.63</td>\n",
       "      <td>1</td>\n",
       "    </tr>\n",
       "    <tr>\n",
       "      <th>3</th>\n",
       "      <td>0a9b9a871ffaec6c0198334558a6c6a1</td>\n",
       "      <td>f9244d45189d3a3605499abddeade7d5</td>\n",
       "      <td>eletroportateis</td>\n",
       "      <td>go</td>\n",
       "      <td>sp</td>\n",
       "      <td>1</td>\n",
       "      <td>0</td>\n",
       "      <td>0</td>\n",
       "      <td>1,025.52</td>\n",
       "      <td>8</td>\n",
       "      <td>1,045.13</td>\n",
       "      <td>287,984.49</td>\n",
       "      <td>0.73</td>\n",
       "      <td>29.10</td>\n",
       "      <td>1</td>\n",
       "    </tr>\n",
       "    <tr>\n",
       "      <th>4</th>\n",
       "      <td>d47821b10559fffaefcf3e57d2b5ff76</td>\n",
       "      <td>0df3984f9dfb3d49ac6366acbd3bbb85</td>\n",
       "      <td>beleza_saude</td>\n",
       "      <td>mg</td>\n",
       "      <td>mg</td>\n",
       "      <td>1</td>\n",
       "      <td>0</td>\n",
       "      <td>0</td>\n",
       "      <td>220.97</td>\n",
       "      <td>4</td>\n",
       "      <td>1,817.07</td>\n",
       "      <td>430,235.36</td>\n",
       "      <td>0.66</td>\n",
       "      <td>4.80</td>\n",
       "      <td>1</td>\n",
       "    </tr>\n",
       "  </tbody>\n",
       "</table>\n",
       "</div>"
      ],
      "text/plain": [
       "                         product_id                         seller_id  \\\n",
       "0  418d480693f2f01e9cf4568db0346d28  12b9676b00f60f3b700e83af21824c0e   \n",
       "1  1081ae52311daac87fb54ba8ce4670ac  4371b634e0efc0e22b09b52907d9d469   \n",
       "2  c1aabbb6f4caec9f5bf7cd80519d6cc0  579891617139df7d8671d373f0669622   \n",
       "3  0a9b9a871ffaec6c0198334558a6c6a1  f9244d45189d3a3605499abddeade7d5   \n",
       "4  d47821b10559fffaefcf3e57d2b5ff76  0df3984f9dfb3d49ac6366acbd3bbb85   \n",
       "\n",
       "    product_category_name sigla_state seller_sigla_state  qtde_credit_card  \\\n",
       "0              cool_stuff          mg                 rs                 1   \n",
       "1           esporte_lazer          mg                 sp                 1   \n",
       "2  livros_interesse_geral          mg                 rj                 0   \n",
       "3         eletroportateis          go                 sp                 1   \n",
       "4            beleza_saude          mg                 mg                 1   \n",
       "\n",
       "   qtde_debit_card  qtde_voucher  soma_payment  qtde_installments  \\\n",
       "0                0             0        219.63                 10   \n",
       "1                0             0        135.59                  1   \n",
       "2                0             0         58.28                  1   \n",
       "3                0             0      1,025.52                  8   \n",
       "4                0             0        220.97                  4   \n",
       "\n",
       "   AR_MUN_2018        PIB  gini  dias  humor  \n",
       "0       881.06 180,088.78  0.65 21.11      1  \n",
       "1       881.06 180,088.78  0.65  5.84      1  \n",
       "2       881.06 180,088.78  0.65  8.63      1  \n",
       "3     1,045.13 287,984.49  0.73 29.10      1  \n",
       "4     1,817.07 430,235.36  0.66  4.80      1  "
      ]
     },
     "execution_count": 24,
     "metadata": {},
     "output_type": "execute_result"
    }
   ],
   "source": [
    "olist_ibge_v15.head()"
   ]
  },
  {
   "cell_type": "markdown",
   "metadata": {},
   "source": [
    "### Importação da biblioteca LabelEncoder"
   ]
  },
  {
   "cell_type": "code",
   "execution_count": 25,
   "metadata": {},
   "outputs": [],
   "source": [
    "from sklearn.preprocessing import LabelEncoder"
   ]
  },
  {
   "cell_type": "markdown",
   "metadata": {},
   "source": [
    "### Chamando o objeto"
   ]
  },
  {
   "cell_type": "code",
   "execution_count": 26,
   "metadata": {},
   "outputs": [],
   "source": [
    "le = LabelEncoder()"
   ]
  },
  {
   "cell_type": "markdown",
   "metadata": {},
   "source": [
    "### Verificando o objeto le"
   ]
  },
  {
   "cell_type": "code",
   "execution_count": 27,
   "metadata": {
    "scrolled": true
   },
   "outputs": [
    {
     "data": {
      "text/plain": [
       "LabelEncoder()"
      ]
     },
     "execution_count": 27,
     "metadata": {},
     "output_type": "execute_result"
    }
   ],
   "source": [
    "le"
   ]
  },
  {
   "cell_type": "markdown",
   "metadata": {},
   "source": [
    "### Aplicação do objeto aos dados categóricos de '<font color=red>olist_ibge_v14</font>'"
   ]
  },
  {
   "cell_type": "code",
   "execution_count": 28,
   "metadata": {},
   "outputs": [],
   "source": [
    "le_product_id = le.fit_transform(olist_ibge_v14['product_id'])"
   ]
  },
  {
   "cell_type": "code",
   "execution_count": 29,
   "metadata": {},
   "outputs": [],
   "source": [
    "le_seller_id = le.fit_transform(olist_ibge_v14['seller_id'])"
   ]
  },
  {
   "cell_type": "code",
   "execution_count": 30,
   "metadata": {},
   "outputs": [],
   "source": [
    "le_product_category_name = le.fit_transform(olist_ibge_v14['product_category_name'])"
   ]
  },
  {
   "cell_type": "code",
   "execution_count": 31,
   "metadata": {},
   "outputs": [],
   "source": [
    "le_sigla_state = le.fit_transform(olist_ibge_v14['sigla_state'])"
   ]
  },
  {
   "cell_type": "code",
   "execution_count": 32,
   "metadata": {},
   "outputs": [],
   "source": [
    "le_seller_sigla_state = le.fit_transform(olist_ibge_v14['seller_sigla_state'])"
   ]
  },
  {
   "cell_type": "markdown",
   "metadata": {},
   "source": [
    "### Exibição do array le_sigla_state\n",
    "> le_sigla_state é um array.<br>\n",
    ">Portanto, será necessário transformá-lo em dataframe.  \n",
    ">> Aliás, vamos transformar em array os 05 (cinco) conjuntos gerados acima cujos nomes são 'le_qualquer_coisa'"
   ]
  },
  {
   "cell_type": "code",
   "execution_count": 33,
   "metadata": {},
   "outputs": [
    {
     "data": {
      "text/plain": [
       "array([10, 10, 10, ...,  9,  9, 23])"
      ]
     },
     "execution_count": 33,
     "metadata": {},
     "output_type": "execute_result"
    }
   ],
   "source": [
    "le_sigla_state"
   ]
  },
  {
   "cell_type": "code",
   "execution_count": 34,
   "metadata": {},
   "outputs": [],
   "source": [
    "df_le_product_id = pd.DataFrame(le_product_id,columns = ['le_product_id'])"
   ]
  },
  {
   "cell_type": "code",
   "execution_count": 35,
   "metadata": {},
   "outputs": [],
   "source": [
    "df_le_seller_id = pd.DataFrame(le_seller_id,columns = ['le_seller_id'])"
   ]
  },
  {
   "cell_type": "code",
   "execution_count": 36,
   "metadata": {},
   "outputs": [],
   "source": [
    "df_le_product_category_name = pd.DataFrame(le_product_category_name,columns = ['le_product_category_name'])"
   ]
  },
  {
   "cell_type": "code",
   "execution_count": 37,
   "metadata": {},
   "outputs": [],
   "source": [
    "df_le_sigla_state = pd.DataFrame(le_sigla_state,columns = ['le_sigla_state'])"
   ]
  },
  {
   "cell_type": "code",
   "execution_count": 38,
   "metadata": {},
   "outputs": [],
   "source": [
    "df_le_seller_sigla_state = pd.DataFrame(le_seller_sigla_state,columns = ['le_seller_sigla_state'])"
   ]
  },
  {
   "cell_type": "markdown",
   "metadata": {},
   "source": [
    "###  Exibição das linhas iniciais dos DataFrame do LabelEncoder."
   ]
  },
  {
   "cell_type": "code",
   "execution_count": 39,
   "metadata": {},
   "outputs": [
    {
     "data": {
      "text/html": [
       "<div>\n",
       "<style scoped>\n",
       "    .dataframe tbody tr th:only-of-type {\n",
       "        vertical-align: middle;\n",
       "    }\n",
       "\n",
       "    .dataframe tbody tr th {\n",
       "        vertical-align: top;\n",
       "    }\n",
       "\n",
       "    .dataframe thead th {\n",
       "        text-align: right;\n",
       "    }\n",
       "</style>\n",
       "<table border=\"1\" class=\"dataframe\">\n",
       "  <thead>\n",
       "    <tr style=\"text-align: right;\">\n",
       "      <th></th>\n",
       "      <th>le_product_id</th>\n",
       "    </tr>\n",
       "  </thead>\n",
       "  <tbody>\n",
       "    <tr>\n",
       "      <th>0</th>\n",
       "      <td>7841</td>\n",
       "    </tr>\n",
       "    <tr>\n",
       "      <th>1</th>\n",
       "      <td>1976</td>\n",
       "    </tr>\n",
       "    <tr>\n",
       "      <th>2</th>\n",
       "      <td>22780</td>\n",
       "    </tr>\n",
       "    <tr>\n",
       "      <th>3</th>\n",
       "      <td>1247</td>\n",
       "    </tr>\n",
       "    <tr>\n",
       "      <th>4</th>\n",
       "      <td>25080</td>\n",
       "    </tr>\n",
       "  </tbody>\n",
       "</table>\n",
       "</div>"
      ],
      "text/plain": [
       "   le_product_id\n",
       "0           7841\n",
       "1           1976\n",
       "2          22780\n",
       "3           1247\n",
       "4          25080"
      ]
     },
     "execution_count": 39,
     "metadata": {},
     "output_type": "execute_result"
    }
   ],
   "source": [
    "df_le_product_id.head()"
   ]
  },
  {
   "cell_type": "code",
   "execution_count": 40,
   "metadata": {},
   "outputs": [
    {
     "data": {
      "text/html": [
       "<div>\n",
       "<style scoped>\n",
       "    .dataframe tbody tr th:only-of-type {\n",
       "        vertical-align: middle;\n",
       "    }\n",
       "\n",
       "    .dataframe tbody tr th {\n",
       "        vertical-align: top;\n",
       "    }\n",
       "\n",
       "    .dataframe thead th {\n",
       "        text-align: right;\n",
       "    }\n",
       "</style>\n",
       "<table border=\"1\" class=\"dataframe\">\n",
       "  <thead>\n",
       "    <tr style=\"text-align: right;\">\n",
       "      <th></th>\n",
       "      <th>le_seller_id</th>\n",
       "    </tr>\n",
       "  </thead>\n",
       "  <tbody>\n",
       "    <tr>\n",
       "      <th>0</th>\n",
       "      <td>207</td>\n",
       "    </tr>\n",
       "    <tr>\n",
       "      <th>1</th>\n",
       "      <td>769</td>\n",
       "    </tr>\n",
       "    <tr>\n",
       "      <th>2</th>\n",
       "      <td>1011</td>\n",
       "    </tr>\n",
       "    <tr>\n",
       "      <th>3</th>\n",
       "      <td>2810</td>\n",
       "    </tr>\n",
       "    <tr>\n",
       "      <th>4</th>\n",
       "      <td>160</td>\n",
       "    </tr>\n",
       "  </tbody>\n",
       "</table>\n",
       "</div>"
      ],
      "text/plain": [
       "   le_seller_id\n",
       "0           207\n",
       "1           769\n",
       "2          1011\n",
       "3          2810\n",
       "4           160"
      ]
     },
     "execution_count": 40,
     "metadata": {},
     "output_type": "execute_result"
    }
   ],
   "source": [
    "df_le_seller_id.head()"
   ]
  },
  {
   "cell_type": "code",
   "execution_count": 41,
   "metadata": {},
   "outputs": [
    {
     "data": {
      "text/html": [
       "<div>\n",
       "<style scoped>\n",
       "    .dataframe tbody tr th:only-of-type {\n",
       "        vertical-align: middle;\n",
       "    }\n",
       "\n",
       "    .dataframe tbody tr th {\n",
       "        vertical-align: top;\n",
       "    }\n",
       "\n",
       "    .dataframe thead th {\n",
       "        text-align: right;\n",
       "    }\n",
       "</style>\n",
       "<table border=\"1\" class=\"dataframe\">\n",
       "  <thead>\n",
       "    <tr style=\"text-align: right;\">\n",
       "      <th></th>\n",
       "      <th>le_product_category_name</th>\n",
       "    </tr>\n",
       "  </thead>\n",
       "  <tbody>\n",
       "    <tr>\n",
       "      <th>0</th>\n",
       "      <td>26</td>\n",
       "    </tr>\n",
       "    <tr>\n",
       "      <th>1</th>\n",
       "      <td>32</td>\n",
       "    </tr>\n",
       "    <tr>\n",
       "      <th>2</th>\n",
       "      <td>48</td>\n",
       "    </tr>\n",
       "    <tr>\n",
       "      <th>3</th>\n",
       "      <td>31</td>\n",
       "    </tr>\n",
       "    <tr>\n",
       "      <th>4</th>\n",
       "      <td>11</td>\n",
       "    </tr>\n",
       "  </tbody>\n",
       "</table>\n",
       "</div>"
      ],
      "text/plain": [
       "   le_product_category_name\n",
       "0                        26\n",
       "1                        32\n",
       "2                        48\n",
       "3                        31\n",
       "4                        11"
      ]
     },
     "execution_count": 41,
     "metadata": {},
     "output_type": "execute_result"
    }
   ],
   "source": [
    "df_le_product_category_name.head()"
   ]
  },
  {
   "cell_type": "code",
   "execution_count": 42,
   "metadata": {},
   "outputs": [
    {
     "data": {
      "text/html": [
       "<div>\n",
       "<style scoped>\n",
       "    .dataframe tbody tr th:only-of-type {\n",
       "        vertical-align: middle;\n",
       "    }\n",
       "\n",
       "    .dataframe tbody tr th {\n",
       "        vertical-align: top;\n",
       "    }\n",
       "\n",
       "    .dataframe thead th {\n",
       "        text-align: right;\n",
       "    }\n",
       "</style>\n",
       "<table border=\"1\" class=\"dataframe\">\n",
       "  <thead>\n",
       "    <tr style=\"text-align: right;\">\n",
       "      <th></th>\n",
       "      <th>le_sigla_state</th>\n",
       "    </tr>\n",
       "  </thead>\n",
       "  <tbody>\n",
       "    <tr>\n",
       "      <th>0</th>\n",
       "      <td>10</td>\n",
       "    </tr>\n",
       "    <tr>\n",
       "      <th>1</th>\n",
       "      <td>10</td>\n",
       "    </tr>\n",
       "    <tr>\n",
       "      <th>2</th>\n",
       "      <td>10</td>\n",
       "    </tr>\n",
       "    <tr>\n",
       "      <th>3</th>\n",
       "      <td>8</td>\n",
       "    </tr>\n",
       "    <tr>\n",
       "      <th>4</th>\n",
       "      <td>10</td>\n",
       "    </tr>\n",
       "  </tbody>\n",
       "</table>\n",
       "</div>"
      ],
      "text/plain": [
       "   le_sigla_state\n",
       "0              10\n",
       "1              10\n",
       "2              10\n",
       "3               8\n",
       "4              10"
      ]
     },
     "execution_count": 42,
     "metadata": {},
     "output_type": "execute_result"
    }
   ],
   "source": [
    "df_le_sigla_state.head()"
   ]
  },
  {
   "cell_type": "code",
   "execution_count": 43,
   "metadata": {},
   "outputs": [
    {
     "data": {
      "text/html": [
       "<div>\n",
       "<style scoped>\n",
       "    .dataframe tbody tr th:only-of-type {\n",
       "        vertical-align: middle;\n",
       "    }\n",
       "\n",
       "    .dataframe tbody tr th {\n",
       "        vertical-align: top;\n",
       "    }\n",
       "\n",
       "    .dataframe thead th {\n",
       "        text-align: right;\n",
       "    }\n",
       "</style>\n",
       "<table border=\"1\" class=\"dataframe\">\n",
       "  <thead>\n",
       "    <tr style=\"text-align: right;\">\n",
       "      <th></th>\n",
       "      <th>le_seller_sigla_state</th>\n",
       "    </tr>\n",
       "  </thead>\n",
       "  <tbody>\n",
       "    <tr>\n",
       "      <th>0</th>\n",
       "      <td>18</td>\n",
       "    </tr>\n",
       "    <tr>\n",
       "      <th>1</th>\n",
       "      <td>21</td>\n",
       "    </tr>\n",
       "    <tr>\n",
       "      <th>2</th>\n",
       "      <td>15</td>\n",
       "    </tr>\n",
       "    <tr>\n",
       "      <th>3</th>\n",
       "      <td>21</td>\n",
       "    </tr>\n",
       "    <tr>\n",
       "      <th>4</th>\n",
       "      <td>7</td>\n",
       "    </tr>\n",
       "  </tbody>\n",
       "</table>\n",
       "</div>"
      ],
      "text/plain": [
       "   le_seller_sigla_state\n",
       "0                     18\n",
       "1                     21\n",
       "2                     15\n",
       "3                     21\n",
       "4                      7"
      ]
     },
     "execution_count": 43,
     "metadata": {},
     "output_type": "execute_result"
    }
   ],
   "source": [
    "df_le_seller_sigla_state.head()"
   ]
  },
  {
   "cell_type": "markdown",
   "metadata": {},
   "source": [
    "### Junção dos dataframes 'le_qualquer_coisa' com 'olist_ibge_vxx'"
   ]
  },
  {
   "cell_type": "code",
   "execution_count": 44,
   "metadata": {},
   "outputs": [],
   "source": [
    "olist_ibge_v16 = pd.merge(olist_ibge_v15, # tabela da esquerda a ser juntada\n",
    "                         df_le_product_id,  # tabela da direita a ser juntada\n",
    "                         left_index=True, #If True, use the index (row labels) from the left DataFrame or Series as its join key(s)\n",
    "                         right_index=True) #Same usage as left_index for the right DataFrame or Series"
   ]
  },
  {
   "cell_type": "code",
   "execution_count": 45,
   "metadata": {},
   "outputs": [],
   "source": [
    "olist_ibge_v17 = pd.merge(olist_ibge_v16, df_le_seller_id, left_index=True, right_index=True)"
   ]
  },
  {
   "cell_type": "code",
   "execution_count": 46,
   "metadata": {},
   "outputs": [],
   "source": [
    "olist_ibge_v18 = pd.merge(olist_ibge_v17, df_le_product_category_name, left_index=True, right_index=True)"
   ]
  },
  {
   "cell_type": "code",
   "execution_count": 47,
   "metadata": {},
   "outputs": [],
   "source": [
    "olist_ibge_v19 = pd.merge(olist_ibge_v18, df_le_sigla_state, left_index=True, right_index=True)"
   ]
  },
  {
   "cell_type": "code",
   "execution_count": 48,
   "metadata": {},
   "outputs": [],
   "source": [
    "olist_ibge_v20 = pd.merge(olist_ibge_v19, df_le_seller_sigla_state, left_index=True, right_index=True)"
   ]
  },
  {
   "cell_type": "markdown",
   "metadata": {},
   "source": [
    "### Deleção dos campos que foram codificados"
   ]
  },
  {
   "cell_type": "code",
   "execution_count": 49,
   "metadata": {},
   "outputs": [],
   "source": [
    "olist_ibge_v21 = olist_ibge_v20.drop(columns=['product_id', 'seller_id', 'product_category_name', 'sigla_state', 'seller_sigla_state'])"
   ]
  },
  {
   "cell_type": "code",
   "execution_count": 50,
   "metadata": {},
   "outputs": [
    {
     "data": {
      "text/plain": [
       "((92935, 15), (92935, 20), (92935, 15))"
      ]
     },
     "execution_count": 50,
     "metadata": {},
     "output_type": "execute_result"
    }
   ],
   "source": [
    "olist_ibge_v21.shape, olist_ibge_v20.shape, olist_ibge_v15.shape"
   ]
  },
  {
   "cell_type": "code",
   "execution_count": 51,
   "metadata": {},
   "outputs": [
    {
     "name": "stdout",
     "output_type": "stream",
     "text": [
      "<class 'pandas.core.frame.DataFrame'>\n",
      "RangeIndex: 92935 entries, 0 to 92934\n",
      "Data columns (total 15 columns):\n",
      " #   Column                    Non-Null Count  Dtype  \n",
      "---  ------                    --------------  -----  \n",
      " 0   qtde_credit_card          92935 non-null  int64  \n",
      " 1   qtde_debit_card           92935 non-null  int64  \n",
      " 2   qtde_voucher              92935 non-null  int64  \n",
      " 3   soma_payment              92935 non-null  float64\n",
      " 4   qtde_installments         92935 non-null  int64  \n",
      " 5   AR_MUN_2018               92935 non-null  float64\n",
      " 6   PIB                       92935 non-null  float64\n",
      " 7   gini                      92935 non-null  float64\n",
      " 8   dias                      92935 non-null  float64\n",
      " 9   humor                     92935 non-null  int64  \n",
      " 10  le_product_id             92935 non-null  int32  \n",
      " 11  le_seller_id              92935 non-null  int32  \n",
      " 12  le_product_category_name  92935 non-null  int32  \n",
      " 13  le_sigla_state            92935 non-null  int32  \n",
      " 14  le_seller_sigla_state     92935 non-null  int32  \n",
      "dtypes: float64(5), int32(5), int64(5)\n",
      "memory usage: 8.9 MB\n"
     ]
    }
   ],
   "source": [
    "olist_ibge_v21.info()"
   ]
  },
  {
   "cell_type": "code",
   "execution_count": 52,
   "metadata": {},
   "outputs": [
    {
     "data": {
      "text/html": [
       "<div>\n",
       "<style scoped>\n",
       "    .dataframe tbody tr th:only-of-type {\n",
       "        vertical-align: middle;\n",
       "    }\n",
       "\n",
       "    .dataframe tbody tr th {\n",
       "        vertical-align: top;\n",
       "    }\n",
       "\n",
       "    .dataframe thead th {\n",
       "        text-align: right;\n",
       "    }\n",
       "</style>\n",
       "<table border=\"1\" class=\"dataframe\">\n",
       "  <thead>\n",
       "    <tr style=\"text-align: right;\">\n",
       "      <th></th>\n",
       "      <th>qtde_credit_card</th>\n",
       "      <th>qtde_debit_card</th>\n",
       "      <th>qtde_voucher</th>\n",
       "      <th>soma_payment</th>\n",
       "      <th>qtde_installments</th>\n",
       "      <th>AR_MUN_2018</th>\n",
       "      <th>PIB</th>\n",
       "      <th>gini</th>\n",
       "      <th>dias</th>\n",
       "      <th>humor</th>\n",
       "      <th>le_product_id</th>\n",
       "      <th>le_seller_id</th>\n",
       "      <th>le_product_category_name</th>\n",
       "      <th>le_sigla_state</th>\n",
       "      <th>le_seller_sigla_state</th>\n",
       "    </tr>\n",
       "  </thead>\n",
       "  <tbody>\n",
       "    <tr>\n",
       "      <th>0</th>\n",
       "      <td>1</td>\n",
       "      <td>0</td>\n",
       "      <td>0</td>\n",
       "      <td>219.63</td>\n",
       "      <td>10</td>\n",
       "      <td>881.06</td>\n",
       "      <td>180,088.78</td>\n",
       "      <td>0.65</td>\n",
       "      <td>21.11</td>\n",
       "      <td>1</td>\n",
       "      <td>7841</td>\n",
       "      <td>207</td>\n",
       "      <td>26</td>\n",
       "      <td>10</td>\n",
       "      <td>18</td>\n",
       "    </tr>\n",
       "    <tr>\n",
       "      <th>1</th>\n",
       "      <td>1</td>\n",
       "      <td>0</td>\n",
       "      <td>0</td>\n",
       "      <td>135.59</td>\n",
       "      <td>1</td>\n",
       "      <td>881.06</td>\n",
       "      <td>180,088.78</td>\n",
       "      <td>0.65</td>\n",
       "      <td>5.84</td>\n",
       "      <td>1</td>\n",
       "      <td>1976</td>\n",
       "      <td>769</td>\n",
       "      <td>32</td>\n",
       "      <td>10</td>\n",
       "      <td>21</td>\n",
       "    </tr>\n",
       "    <tr>\n",
       "      <th>2</th>\n",
       "      <td>0</td>\n",
       "      <td>0</td>\n",
       "      <td>0</td>\n",
       "      <td>58.28</td>\n",
       "      <td>1</td>\n",
       "      <td>881.06</td>\n",
       "      <td>180,088.78</td>\n",
       "      <td>0.65</td>\n",
       "      <td>8.63</td>\n",
       "      <td>1</td>\n",
       "      <td>22780</td>\n",
       "      <td>1011</td>\n",
       "      <td>48</td>\n",
       "      <td>10</td>\n",
       "      <td>15</td>\n",
       "    </tr>\n",
       "    <tr>\n",
       "      <th>3</th>\n",
       "      <td>1</td>\n",
       "      <td>0</td>\n",
       "      <td>0</td>\n",
       "      <td>1,025.52</td>\n",
       "      <td>8</td>\n",
       "      <td>1,045.13</td>\n",
       "      <td>287,984.49</td>\n",
       "      <td>0.73</td>\n",
       "      <td>29.10</td>\n",
       "      <td>1</td>\n",
       "      <td>1247</td>\n",
       "      <td>2810</td>\n",
       "      <td>31</td>\n",
       "      <td>8</td>\n",
       "      <td>21</td>\n",
       "    </tr>\n",
       "    <tr>\n",
       "      <th>4</th>\n",
       "      <td>1</td>\n",
       "      <td>0</td>\n",
       "      <td>0</td>\n",
       "      <td>220.97</td>\n",
       "      <td>4</td>\n",
       "      <td>1,817.07</td>\n",
       "      <td>430,235.36</td>\n",
       "      <td>0.66</td>\n",
       "      <td>4.80</td>\n",
       "      <td>1</td>\n",
       "      <td>25080</td>\n",
       "      <td>160</td>\n",
       "      <td>11</td>\n",
       "      <td>10</td>\n",
       "      <td>7</td>\n",
       "    </tr>\n",
       "  </tbody>\n",
       "</table>\n",
       "</div>"
      ],
      "text/plain": [
       "   qtde_credit_card  qtde_debit_card  qtde_voucher  soma_payment  \\\n",
       "0                 1                0             0        219.63   \n",
       "1                 1                0             0        135.59   \n",
       "2                 0                0             0         58.28   \n",
       "3                 1                0             0      1,025.52   \n",
       "4                 1                0             0        220.97   \n",
       "\n",
       "   qtde_installments  AR_MUN_2018        PIB  gini  dias  humor  \\\n",
       "0                 10       881.06 180,088.78  0.65 21.11      1   \n",
       "1                  1       881.06 180,088.78  0.65  5.84      1   \n",
       "2                  1       881.06 180,088.78  0.65  8.63      1   \n",
       "3                  8     1,045.13 287,984.49  0.73 29.10      1   \n",
       "4                  4     1,817.07 430,235.36  0.66  4.80      1   \n",
       "\n",
       "   le_product_id  le_seller_id  le_product_category_name  le_sigla_state  \\\n",
       "0           7841           207                        26              10   \n",
       "1           1976           769                        32              10   \n",
       "2          22780          1011                        48              10   \n",
       "3           1247          2810                        31               8   \n",
       "4          25080           160                        11              10   \n",
       "\n",
       "   le_seller_sigla_state  \n",
       "0                     18  \n",
       "1                     21  \n",
       "2                     15  \n",
       "3                     21  \n",
       "4                      7  "
      ]
     },
     "execution_count": 52,
     "metadata": {},
     "output_type": "execute_result"
    }
   ],
   "source": [
    "olist_ibge_v21.head()"
   ]
  },
  {
   "cell_type": "code",
   "execution_count": 53,
   "metadata": {},
   "outputs": [
    {
     "data": {
      "text/plain": [
       "qtde_credit_card            0\n",
       "qtde_debit_card             0\n",
       "qtde_voucher                0\n",
       "soma_payment                0\n",
       "qtde_installments           0\n",
       "AR_MUN_2018                 0\n",
       "PIB                         0\n",
       "gini                        0\n",
       "dias                        0\n",
       "humor                       0\n",
       "le_product_id               0\n",
       "le_seller_id                0\n",
       "le_product_category_name    0\n",
       "le_sigla_state              0\n",
       "le_seller_sigla_state       0\n",
       "dtype: int64"
      ]
     },
     "execution_count": 53,
     "metadata": {},
     "output_type": "execute_result"
    }
   ],
   "source": [
    "olist_ibge_v21.isna().sum()"
   ]
  },
  {
   "cell_type": "code",
   "execution_count": 54,
   "metadata": {},
   "outputs": [
    {
     "name": "stdout",
     "output_type": "stream",
     "text": [
      "92935\n"
     ]
    }
   ],
   "source": [
    "print(73067+19868)"
   ]
  },
  {
   "cell_type": "code",
   "execution_count": 55,
   "metadata": {},
   "outputs": [
    {
     "name": "stdout",
     "output_type": "stream",
     "text": [
      "21.378382740625167\n"
     ]
    }
   ],
   "source": [
    "print(19868*100/92935)"
   ]
  },
  {
   "cell_type": "code",
   "execution_count": 56,
   "metadata": {},
   "outputs": [
    {
     "name": "stdout",
     "output_type": "stream",
     "text": [
      "78.62161725937483\n"
     ]
    }
   ],
   "source": [
    "print(73067*100/92935)"
   ]
  },
  {
   "cell_type": "markdown",
   "metadata": {},
   "source": [
    "## SCALING"
   ]
  },
  {
   "cell_type": "code",
   "execution_count": 57,
   "metadata": {},
   "outputs": [],
   "source": [
    "merged = olist_ibge_v21.copy()"
   ]
  },
  {
   "cell_type": "code",
   "execution_count": 58,
   "metadata": {},
   "outputs": [
    {
     "data": {
      "text/html": [
       "<div>\n",
       "<style scoped>\n",
       "    .dataframe tbody tr th:only-of-type {\n",
       "        vertical-align: middle;\n",
       "    }\n",
       "\n",
       "    .dataframe tbody tr th {\n",
       "        vertical-align: top;\n",
       "    }\n",
       "\n",
       "    .dataframe thead th {\n",
       "        text-align: right;\n",
       "    }\n",
       "</style>\n",
       "<table border=\"1\" class=\"dataframe\">\n",
       "  <thead>\n",
       "    <tr style=\"text-align: right;\">\n",
       "      <th></th>\n",
       "      <th>qtde_credit_card</th>\n",
       "      <th>qtde_debit_card</th>\n",
       "      <th>qtde_voucher</th>\n",
       "      <th>soma_payment</th>\n",
       "      <th>qtde_installments</th>\n",
       "      <th>AR_MUN_2018</th>\n",
       "      <th>PIB</th>\n",
       "      <th>gini</th>\n",
       "      <th>dias</th>\n",
       "      <th>humor</th>\n",
       "      <th>le_product_id</th>\n",
       "      <th>le_seller_id</th>\n",
       "      <th>le_product_category_name</th>\n",
       "      <th>le_sigla_state</th>\n",
       "      <th>le_seller_sigla_state</th>\n",
       "    </tr>\n",
       "  </thead>\n",
       "  <tbody>\n",
       "    <tr>\n",
       "      <th>0</th>\n",
       "      <td>0.50</td>\n",
       "      <td>0.00</td>\n",
       "      <td>0.00</td>\n",
       "      <td>0.02</td>\n",
       "      <td>0.42</td>\n",
       "      <td>0.01</td>\n",
       "      <td>0.00</td>\n",
       "      <td>0.65</td>\n",
       "      <td>0.10</td>\n",
       "      <td>1</td>\n",
       "      <td>0.26</td>\n",
       "      <td>0.07</td>\n",
       "      <td>0.36</td>\n",
       "      <td>0.38</td>\n",
       "      <td>0.86</td>\n",
       "    </tr>\n",
       "    <tr>\n",
       "      <th>1</th>\n",
       "      <td>0.50</td>\n",
       "      <td>0.00</td>\n",
       "      <td>0.00</td>\n",
       "      <td>0.01</td>\n",
       "      <td>0.04</td>\n",
       "      <td>0.01</td>\n",
       "      <td>0.00</td>\n",
       "      <td>0.65</td>\n",
       "      <td>0.03</td>\n",
       "      <td>1</td>\n",
       "      <td>0.07</td>\n",
       "      <td>0.27</td>\n",
       "      <td>0.44</td>\n",
       "      <td>0.38</td>\n",
       "      <td>1.00</td>\n",
       "    </tr>\n",
       "    <tr>\n",
       "      <th>2</th>\n",
       "      <td>0.00</td>\n",
       "      <td>0.00</td>\n",
       "      <td>0.00</td>\n",
       "      <td>0.00</td>\n",
       "      <td>0.04</td>\n",
       "      <td>0.01</td>\n",
       "      <td>0.00</td>\n",
       "      <td>0.65</td>\n",
       "      <td>0.04</td>\n",
       "      <td>1</td>\n",
       "      <td>0.76</td>\n",
       "      <td>0.35</td>\n",
       "      <td>0.67</td>\n",
       "      <td>0.38</td>\n",
       "      <td>0.71</td>\n",
       "    </tr>\n",
       "    <tr>\n",
       "      <th>3</th>\n",
       "      <td>0.50</td>\n",
       "      <td>0.00</td>\n",
       "      <td>0.00</td>\n",
       "      <td>0.08</td>\n",
       "      <td>0.33</td>\n",
       "      <td>0.01</td>\n",
       "      <td>0.00</td>\n",
       "      <td>0.73</td>\n",
       "      <td>0.14</td>\n",
       "      <td>1</td>\n",
       "      <td>0.04</td>\n",
       "      <td>0.97</td>\n",
       "      <td>0.43</td>\n",
       "      <td>0.31</td>\n",
       "      <td>1.00</td>\n",
       "    </tr>\n",
       "    <tr>\n",
       "      <th>4</th>\n",
       "      <td>0.50</td>\n",
       "      <td>0.00</td>\n",
       "      <td>0.00</td>\n",
       "      <td>0.02</td>\n",
       "      <td>0.17</td>\n",
       "      <td>0.01</td>\n",
       "      <td>0.00</td>\n",
       "      <td>0.66</td>\n",
       "      <td>0.02</td>\n",
       "      <td>1</td>\n",
       "      <td>0.83</td>\n",
       "      <td>0.06</td>\n",
       "      <td>0.15</td>\n",
       "      <td>0.38</td>\n",
       "      <td>0.33</td>\n",
       "    </tr>\n",
       "  </tbody>\n",
       "</table>\n",
       "</div>"
      ],
      "text/plain": [
       "   qtde_credit_card  qtde_debit_card  qtde_voucher  soma_payment  \\\n",
       "0              0.50             0.00          0.00          0.02   \n",
       "1              0.50             0.00          0.00          0.01   \n",
       "2              0.00             0.00          0.00          0.00   \n",
       "3              0.50             0.00          0.00          0.08   \n",
       "4              0.50             0.00          0.00          0.02   \n",
       "\n",
       "   qtde_installments  AR_MUN_2018  PIB  gini  dias  humor  le_product_id  \\\n",
       "0               0.42         0.01 0.00  0.65  0.10      1           0.26   \n",
       "1               0.04         0.01 0.00  0.65  0.03      1           0.07   \n",
       "2               0.04         0.01 0.00  0.65  0.04      1           0.76   \n",
       "3               0.33         0.01 0.00  0.73  0.14      1           0.04   \n",
       "4               0.17         0.01 0.00  0.66  0.02      1           0.83   \n",
       "\n",
       "   le_seller_id  le_product_category_name  le_sigla_state  \\\n",
       "0          0.07                      0.36            0.38   \n",
       "1          0.27                      0.44            0.38   \n",
       "2          0.35                      0.67            0.38   \n",
       "3          0.97                      0.43            0.31   \n",
       "4          0.06                      0.15            0.38   \n",
       "\n",
       "   le_seller_sigla_state  \n",
       "0                   0.86  \n",
       "1                   1.00  \n",
       "2                   0.71  \n",
       "3                   1.00  \n",
       "4                   0.33  "
      ]
     },
     "execution_count": 58,
     "metadata": {},
     "output_type": "execute_result"
    }
   ],
   "source": [
    "from sklearn.preprocessing import MinMaxScaler\n",
    "\n",
    "# Scale only columns that have values greater than 1\n",
    "to_scale = [col for col in olist_ibge_v21.columns if olist_ibge_v21[col].max() > 1]\n",
    "mms = MinMaxScaler()\n",
    "scaled = mms.fit_transform(merged[to_scale])\n",
    "scaled = pd.DataFrame(scaled, columns=to_scale)\n",
    "\n",
    "# Replace original columns with scaled ones\n",
    "for col in scaled:\n",
    "    merged[col] = scaled[col]\n",
    "    \n",
    "merged.head()"
   ]
  },
  {
   "cell_type": "code",
   "execution_count": 59,
   "metadata": {},
   "outputs": [
    {
     "name": "stdout",
     "output_type": "stream",
     "text": [
      "<class 'pandas.core.frame.DataFrame'>\n",
      "RangeIndex: 92935 entries, 0 to 92934\n",
      "Data columns (total 15 columns):\n",
      " #   Column                    Non-Null Count  Dtype  \n",
      "---  ------                    --------------  -----  \n",
      " 0   qtde_credit_card          92935 non-null  float64\n",
      " 1   qtde_debit_card           92935 non-null  float64\n",
      " 2   qtde_voucher              92935 non-null  float64\n",
      " 3   soma_payment              92935 non-null  float64\n",
      " 4   qtde_installments         92935 non-null  float64\n",
      " 5   AR_MUN_2018               92935 non-null  float64\n",
      " 6   PIB                       92935 non-null  float64\n",
      " 7   gini                      92935 non-null  float64\n",
      " 8   dias                      92935 non-null  float64\n",
      " 9   humor                     92935 non-null  int64  \n",
      " 10  le_product_id             92935 non-null  float64\n",
      " 11  le_seller_id              92935 non-null  float64\n",
      " 12  le_product_category_name  92935 non-null  float64\n",
      " 13  le_sigla_state            92935 non-null  float64\n",
      " 14  le_seller_sigla_state     92935 non-null  float64\n",
      "dtypes: float64(14), int64(1)\n",
      "memory usage: 10.6 MB\n"
     ]
    }
   ],
   "source": [
    "merged.info()"
   ]
  },
  {
   "cell_type": "code",
   "execution_count": 60,
   "metadata": {},
   "outputs": [
    {
     "data": {
      "text/html": [
       "<div>\n",
       "<style scoped>\n",
       "    .dataframe tbody tr th:only-of-type {\n",
       "        vertical-align: middle;\n",
       "    }\n",
       "\n",
       "    .dataframe tbody tr th {\n",
       "        vertical-align: top;\n",
       "    }\n",
       "\n",
       "    .dataframe thead th {\n",
       "        text-align: right;\n",
       "    }\n",
       "</style>\n",
       "<table border=\"1\" class=\"dataframe\">\n",
       "  <thead>\n",
       "    <tr style=\"text-align: right;\">\n",
       "      <th></th>\n",
       "      <th>qtde_credit_card</th>\n",
       "      <th>qtde_debit_card</th>\n",
       "      <th>qtde_voucher</th>\n",
       "      <th>soma_payment</th>\n",
       "      <th>qtde_installments</th>\n",
       "      <th>AR_MUN_2018</th>\n",
       "      <th>PIB</th>\n",
       "      <th>gini</th>\n",
       "      <th>dias</th>\n",
       "      <th>humor</th>\n",
       "      <th>le_product_id</th>\n",
       "      <th>le_seller_id</th>\n",
       "      <th>le_product_category_name</th>\n",
       "      <th>le_sigla_state</th>\n",
       "      <th>le_seller_sigla_state</th>\n",
       "    </tr>\n",
       "  </thead>\n",
       "  <tbody>\n",
       "    <tr>\n",
       "      <th>0</th>\n",
       "      <td>0.50</td>\n",
       "      <td>0.00</td>\n",
       "      <td>0.00</td>\n",
       "      <td>0.02</td>\n",
       "      <td>0.42</td>\n",
       "      <td>0.01</td>\n",
       "      <td>0.00</td>\n",
       "      <td>0.65</td>\n",
       "      <td>0.10</td>\n",
       "      <td>1</td>\n",
       "      <td>0.26</td>\n",
       "      <td>0.07</td>\n",
       "      <td>0.36</td>\n",
       "      <td>0.38</td>\n",
       "      <td>0.86</td>\n",
       "    </tr>\n",
       "    <tr>\n",
       "      <th>1</th>\n",
       "      <td>0.50</td>\n",
       "      <td>0.00</td>\n",
       "      <td>0.00</td>\n",
       "      <td>0.01</td>\n",
       "      <td>0.04</td>\n",
       "      <td>0.01</td>\n",
       "      <td>0.00</td>\n",
       "      <td>0.65</td>\n",
       "      <td>0.03</td>\n",
       "      <td>1</td>\n",
       "      <td>0.07</td>\n",
       "      <td>0.27</td>\n",
       "      <td>0.44</td>\n",
       "      <td>0.38</td>\n",
       "      <td>1.00</td>\n",
       "    </tr>\n",
       "    <tr>\n",
       "      <th>2</th>\n",
       "      <td>0.00</td>\n",
       "      <td>0.00</td>\n",
       "      <td>0.00</td>\n",
       "      <td>0.00</td>\n",
       "      <td>0.04</td>\n",
       "      <td>0.01</td>\n",
       "      <td>0.00</td>\n",
       "      <td>0.65</td>\n",
       "      <td>0.04</td>\n",
       "      <td>1</td>\n",
       "      <td>0.76</td>\n",
       "      <td>0.35</td>\n",
       "      <td>0.67</td>\n",
       "      <td>0.38</td>\n",
       "      <td>0.71</td>\n",
       "    </tr>\n",
       "    <tr>\n",
       "      <th>3</th>\n",
       "      <td>0.50</td>\n",
       "      <td>0.00</td>\n",
       "      <td>0.00</td>\n",
       "      <td>0.08</td>\n",
       "      <td>0.33</td>\n",
       "      <td>0.01</td>\n",
       "      <td>0.00</td>\n",
       "      <td>0.73</td>\n",
       "      <td>0.14</td>\n",
       "      <td>1</td>\n",
       "      <td>0.04</td>\n",
       "      <td>0.97</td>\n",
       "      <td>0.43</td>\n",
       "      <td>0.31</td>\n",
       "      <td>1.00</td>\n",
       "    </tr>\n",
       "    <tr>\n",
       "      <th>4</th>\n",
       "      <td>0.50</td>\n",
       "      <td>0.00</td>\n",
       "      <td>0.00</td>\n",
       "      <td>0.02</td>\n",
       "      <td>0.17</td>\n",
       "      <td>0.01</td>\n",
       "      <td>0.00</td>\n",
       "      <td>0.66</td>\n",
       "      <td>0.02</td>\n",
       "      <td>1</td>\n",
       "      <td>0.83</td>\n",
       "      <td>0.06</td>\n",
       "      <td>0.15</td>\n",
       "      <td>0.38</td>\n",
       "      <td>0.33</td>\n",
       "    </tr>\n",
       "  </tbody>\n",
       "</table>\n",
       "</div>"
      ],
      "text/plain": [
       "   qtde_credit_card  qtde_debit_card  qtde_voucher  soma_payment  \\\n",
       "0              0.50             0.00          0.00          0.02   \n",
       "1              0.50             0.00          0.00          0.01   \n",
       "2              0.00             0.00          0.00          0.00   \n",
       "3              0.50             0.00          0.00          0.08   \n",
       "4              0.50             0.00          0.00          0.02   \n",
       "\n",
       "   qtde_installments  AR_MUN_2018  PIB  gini  dias  humor  le_product_id  \\\n",
       "0               0.42         0.01 0.00  0.65  0.10      1           0.26   \n",
       "1               0.04         0.01 0.00  0.65  0.03      1           0.07   \n",
       "2               0.04         0.01 0.00  0.65  0.04      1           0.76   \n",
       "3               0.33         0.01 0.00  0.73  0.14      1           0.04   \n",
       "4               0.17         0.01 0.00  0.66  0.02      1           0.83   \n",
       "\n",
       "   le_seller_id  le_product_category_name  le_sigla_state  \\\n",
       "0          0.07                      0.36            0.38   \n",
       "1          0.27                      0.44            0.38   \n",
       "2          0.35                      0.67            0.38   \n",
       "3          0.97                      0.43            0.31   \n",
       "4          0.06                      0.15            0.38   \n",
       "\n",
       "   le_seller_sigla_state  \n",
       "0                   0.86  \n",
       "1                   1.00  \n",
       "2                   0.71  \n",
       "3                   1.00  \n",
       "4                   0.33  "
      ]
     },
     "execution_count": 60,
     "metadata": {},
     "output_type": "execute_result"
    }
   ],
   "source": [
    "merged.head()"
   ]
  },
  {
   "cell_type": "code",
   "execution_count": 61,
   "metadata": {},
   "outputs": [],
   "source": [
    "# Parada para avaliação\n",
    "# O dataframe normalizado é o 'merged', que tem os campos que já tinha valores entre 0 e 1. \n",
    "# O dataframe 'scaled' tem somente as colunas que foram normalizados e, portanto, tem um número de colunas menor."
   ]
  },
  {
   "cell_type": "markdown",
   "metadata": {},
   "source": [
    "### Separar as explicativas da variável 'target' (variável alvo, a ser prevista)."
   ]
  },
  {
   "cell_type": "code",
   "execution_count": 62,
   "metadata": {},
   "outputs": [],
   "source": [
    "explicativas = merged.drop(columns=['humor'])\n",
    "target = merged['humor']"
   ]
  },
  {
   "cell_type": "code",
   "execution_count": 63,
   "metadata": {},
   "outputs": [
    {
     "data": {
      "text/html": [
       "<div>\n",
       "<style scoped>\n",
       "    .dataframe tbody tr th:only-of-type {\n",
       "        vertical-align: middle;\n",
       "    }\n",
       "\n",
       "    .dataframe tbody tr th {\n",
       "        vertical-align: top;\n",
       "    }\n",
       "\n",
       "    .dataframe thead th {\n",
       "        text-align: right;\n",
       "    }\n",
       "</style>\n",
       "<table border=\"1\" class=\"dataframe\">\n",
       "  <thead>\n",
       "    <tr style=\"text-align: right;\">\n",
       "      <th></th>\n",
       "      <th>qtde_credit_card</th>\n",
       "      <th>qtde_debit_card</th>\n",
       "      <th>qtde_voucher</th>\n",
       "      <th>soma_payment</th>\n",
       "      <th>qtde_installments</th>\n",
       "      <th>AR_MUN_2018</th>\n",
       "      <th>PIB</th>\n",
       "      <th>gini</th>\n",
       "      <th>dias</th>\n",
       "      <th>le_product_id</th>\n",
       "      <th>le_seller_id</th>\n",
       "      <th>le_product_category_name</th>\n",
       "      <th>le_sigla_state</th>\n",
       "      <th>le_seller_sigla_state</th>\n",
       "    </tr>\n",
       "  </thead>\n",
       "  <tbody>\n",
       "    <tr>\n",
       "      <th>0</th>\n",
       "      <td>0.50</td>\n",
       "      <td>0.00</td>\n",
       "      <td>0.00</td>\n",
       "      <td>0.02</td>\n",
       "      <td>0.42</td>\n",
       "      <td>0.01</td>\n",
       "      <td>0.00</td>\n",
       "      <td>0.65</td>\n",
       "      <td>0.10</td>\n",
       "      <td>0.26</td>\n",
       "      <td>0.07</td>\n",
       "      <td>0.36</td>\n",
       "      <td>0.38</td>\n",
       "      <td>0.86</td>\n",
       "    </tr>\n",
       "    <tr>\n",
       "      <th>1</th>\n",
       "      <td>0.50</td>\n",
       "      <td>0.00</td>\n",
       "      <td>0.00</td>\n",
       "      <td>0.01</td>\n",
       "      <td>0.04</td>\n",
       "      <td>0.01</td>\n",
       "      <td>0.00</td>\n",
       "      <td>0.65</td>\n",
       "      <td>0.03</td>\n",
       "      <td>0.07</td>\n",
       "      <td>0.27</td>\n",
       "      <td>0.44</td>\n",
       "      <td>0.38</td>\n",
       "      <td>1.00</td>\n",
       "    </tr>\n",
       "    <tr>\n",
       "      <th>2</th>\n",
       "      <td>0.00</td>\n",
       "      <td>0.00</td>\n",
       "      <td>0.00</td>\n",
       "      <td>0.00</td>\n",
       "      <td>0.04</td>\n",
       "      <td>0.01</td>\n",
       "      <td>0.00</td>\n",
       "      <td>0.65</td>\n",
       "      <td>0.04</td>\n",
       "      <td>0.76</td>\n",
       "      <td>0.35</td>\n",
       "      <td>0.67</td>\n",
       "      <td>0.38</td>\n",
       "      <td>0.71</td>\n",
       "    </tr>\n",
       "    <tr>\n",
       "      <th>3</th>\n",
       "      <td>0.50</td>\n",
       "      <td>0.00</td>\n",
       "      <td>0.00</td>\n",
       "      <td>0.08</td>\n",
       "      <td>0.33</td>\n",
       "      <td>0.01</td>\n",
       "      <td>0.00</td>\n",
       "      <td>0.73</td>\n",
       "      <td>0.14</td>\n",
       "      <td>0.04</td>\n",
       "      <td>0.97</td>\n",
       "      <td>0.43</td>\n",
       "      <td>0.31</td>\n",
       "      <td>1.00</td>\n",
       "    </tr>\n",
       "    <tr>\n",
       "      <th>4</th>\n",
       "      <td>0.50</td>\n",
       "      <td>0.00</td>\n",
       "      <td>0.00</td>\n",
       "      <td>0.02</td>\n",
       "      <td>0.17</td>\n",
       "      <td>0.01</td>\n",
       "      <td>0.00</td>\n",
       "      <td>0.66</td>\n",
       "      <td>0.02</td>\n",
       "      <td>0.83</td>\n",
       "      <td>0.06</td>\n",
       "      <td>0.15</td>\n",
       "      <td>0.38</td>\n",
       "      <td>0.33</td>\n",
       "    </tr>\n",
       "  </tbody>\n",
       "</table>\n",
       "</div>"
      ],
      "text/plain": [
       "   qtde_credit_card  qtde_debit_card  qtde_voucher  soma_payment  \\\n",
       "0              0.50             0.00          0.00          0.02   \n",
       "1              0.50             0.00          0.00          0.01   \n",
       "2              0.00             0.00          0.00          0.00   \n",
       "3              0.50             0.00          0.00          0.08   \n",
       "4              0.50             0.00          0.00          0.02   \n",
       "\n",
       "   qtde_installments  AR_MUN_2018  PIB  gini  dias  le_product_id  \\\n",
       "0               0.42         0.01 0.00  0.65  0.10           0.26   \n",
       "1               0.04         0.01 0.00  0.65  0.03           0.07   \n",
       "2               0.04         0.01 0.00  0.65  0.04           0.76   \n",
       "3               0.33         0.01 0.00  0.73  0.14           0.04   \n",
       "4               0.17         0.01 0.00  0.66  0.02           0.83   \n",
       "\n",
       "   le_seller_id  le_product_category_name  le_sigla_state  \\\n",
       "0          0.07                      0.36            0.38   \n",
       "1          0.27                      0.44            0.38   \n",
       "2          0.35                      0.67            0.38   \n",
       "3          0.97                      0.43            0.31   \n",
       "4          0.06                      0.15            0.38   \n",
       "\n",
       "   le_seller_sigla_state  \n",
       "0                   0.86  \n",
       "1                   1.00  \n",
       "2                   0.71  \n",
       "3                   1.00  \n",
       "4                   0.33  "
      ]
     },
     "execution_count": 63,
     "metadata": {},
     "output_type": "execute_result"
    }
   ],
   "source": [
    "explicativas.head()"
   ]
  },
  {
   "cell_type": "code",
   "execution_count": 64,
   "metadata": {},
   "outputs": [
    {
     "data": {
      "text/plain": [
       "qtde_credit_card            float64\n",
       "qtde_debit_card             float64\n",
       "qtde_voucher                float64\n",
       "soma_payment                float64\n",
       "qtde_installments           float64\n",
       "AR_MUN_2018                 float64\n",
       "PIB                         float64\n",
       "gini                        float64\n",
       "dias                        float64\n",
       "le_product_id               float64\n",
       "le_seller_id                float64\n",
       "le_product_category_name    float64\n",
       "le_sigla_state              float64\n",
       "le_seller_sigla_state       float64\n",
       "dtype: object"
      ]
     },
     "execution_count": 64,
     "metadata": {},
     "output_type": "execute_result"
    }
   ],
   "source": [
    "explicativas.dtypes"
   ]
  },
  {
   "cell_type": "code",
   "execution_count": 65,
   "metadata": {},
   "outputs": [
    {
     "data": {
      "text/plain": [
       "0    1\n",
       "1    1\n",
       "2    1\n",
       "3    1\n",
       "4    1\n",
       "Name: humor, dtype: int64"
      ]
     },
     "execution_count": 65,
     "metadata": {},
     "output_type": "execute_result"
    }
   ],
   "source": [
    "target.head()"
   ]
  },
  {
   "cell_type": "markdown",
   "metadata": {},
   "source": [
    "## Criação de dataframe com variaveis selecionadas  \n",
    "> Todas as variáveis selecionadas, exceto as de alta cardinalidade."
   ]
  },
  {
   "cell_type": "code",
   "execution_count": 66,
   "metadata": {},
   "outputs": [
    {
     "data": {
      "text/html": [
       "<div>\n",
       "<style scoped>\n",
       "    .dataframe tbody tr th:only-of-type {\n",
       "        vertical-align: middle;\n",
       "    }\n",
       "\n",
       "    .dataframe tbody tr th {\n",
       "        vertical-align: top;\n",
       "    }\n",
       "\n",
       "    .dataframe thead th {\n",
       "        text-align: right;\n",
       "    }\n",
       "</style>\n",
       "<table border=\"1\" class=\"dataframe\">\n",
       "  <thead>\n",
       "    <tr style=\"text-align: right;\">\n",
       "      <th></th>\n",
       "      <th>dias</th>\n",
       "      <th>soma_payment</th>\n",
       "      <th>le_product_id</th>\n",
       "      <th>le_seller_id</th>\n",
       "      <th>le_product_category_name</th>\n",
       "      <th>PIB</th>\n",
       "      <th>AR_MUN_2018</th>\n",
       "      <th>gini</th>\n",
       "      <th>qtde_credit_card</th>\n",
       "      <th>qtde_debit_card</th>\n",
       "      <th>qtde_voucher</th>\n",
       "      <th>qtde_installments</th>\n",
       "      <th>le_sigla_state</th>\n",
       "      <th>le_seller_sigla_state</th>\n",
       "    </tr>\n",
       "  </thead>\n",
       "  <tbody>\n",
       "    <tr>\n",
       "      <th>0</th>\n",
       "      <td>0.10</td>\n",
       "      <td>0.02</td>\n",
       "      <td>0.26</td>\n",
       "      <td>0.07</td>\n",
       "      <td>0.36</td>\n",
       "      <td>0.00</td>\n",
       "      <td>0.01</td>\n",
       "      <td>0.65</td>\n",
       "      <td>0.50</td>\n",
       "      <td>0.00</td>\n",
       "      <td>0.00</td>\n",
       "      <td>0.42</td>\n",
       "      <td>0.38</td>\n",
       "      <td>0.86</td>\n",
       "    </tr>\n",
       "    <tr>\n",
       "      <th>1</th>\n",
       "      <td>0.03</td>\n",
       "      <td>0.01</td>\n",
       "      <td>0.07</td>\n",
       "      <td>0.27</td>\n",
       "      <td>0.44</td>\n",
       "      <td>0.00</td>\n",
       "      <td>0.01</td>\n",
       "      <td>0.65</td>\n",
       "      <td>0.50</td>\n",
       "      <td>0.00</td>\n",
       "      <td>0.00</td>\n",
       "      <td>0.04</td>\n",
       "      <td>0.38</td>\n",
       "      <td>1.00</td>\n",
       "    </tr>\n",
       "    <tr>\n",
       "      <th>2</th>\n",
       "      <td>0.04</td>\n",
       "      <td>0.00</td>\n",
       "      <td>0.76</td>\n",
       "      <td>0.35</td>\n",
       "      <td>0.67</td>\n",
       "      <td>0.00</td>\n",
       "      <td>0.01</td>\n",
       "      <td>0.65</td>\n",
       "      <td>0.00</td>\n",
       "      <td>0.00</td>\n",
       "      <td>0.00</td>\n",
       "      <td>0.04</td>\n",
       "      <td>0.38</td>\n",
       "      <td>0.71</td>\n",
       "    </tr>\n",
       "    <tr>\n",
       "      <th>3</th>\n",
       "      <td>0.14</td>\n",
       "      <td>0.08</td>\n",
       "      <td>0.04</td>\n",
       "      <td>0.97</td>\n",
       "      <td>0.43</td>\n",
       "      <td>0.00</td>\n",
       "      <td>0.01</td>\n",
       "      <td>0.73</td>\n",
       "      <td>0.50</td>\n",
       "      <td>0.00</td>\n",
       "      <td>0.00</td>\n",
       "      <td>0.33</td>\n",
       "      <td>0.31</td>\n",
       "      <td>1.00</td>\n",
       "    </tr>\n",
       "    <tr>\n",
       "      <th>4</th>\n",
       "      <td>0.02</td>\n",
       "      <td>0.02</td>\n",
       "      <td>0.83</td>\n",
       "      <td>0.06</td>\n",
       "      <td>0.15</td>\n",
       "      <td>0.00</td>\n",
       "      <td>0.01</td>\n",
       "      <td>0.66</td>\n",
       "      <td>0.50</td>\n",
       "      <td>0.00</td>\n",
       "      <td>0.00</td>\n",
       "      <td>0.17</td>\n",
       "      <td>0.38</td>\n",
       "      <td>0.33</td>\n",
       "    </tr>\n",
       "  </tbody>\n",
       "</table>\n",
       "</div>"
      ],
      "text/plain": [
       "   dias  soma_payment  le_product_id  le_seller_id  le_product_category_name  \\\n",
       "0  0.10          0.02           0.26          0.07                      0.36   \n",
       "1  0.03          0.01           0.07          0.27                      0.44   \n",
       "2  0.04          0.00           0.76          0.35                      0.67   \n",
       "3  0.14          0.08           0.04          0.97                      0.43   \n",
       "4  0.02          0.02           0.83          0.06                      0.15   \n",
       "\n",
       "   PIB  AR_MUN_2018  gini  qtde_credit_card  qtde_debit_card  qtde_voucher  \\\n",
       "0 0.00         0.01  0.65              0.50             0.00          0.00   \n",
       "1 0.00         0.01  0.65              0.50             0.00          0.00   \n",
       "2 0.00         0.01  0.65              0.00             0.00          0.00   \n",
       "3 0.00         0.01  0.73              0.50             0.00          0.00   \n",
       "4 0.00         0.01  0.66              0.50             0.00          0.00   \n",
       "\n",
       "   qtde_installments  le_sigla_state  le_seller_sigla_state  \n",
       "0               0.42            0.38                   0.86  \n",
       "1               0.04            0.38                   1.00  \n",
       "2               0.04            0.38                   0.71  \n",
       "3               0.33            0.31                   1.00  \n",
       "4               0.17            0.38                   0.33  "
      ]
     },
     "execution_count": 66,
     "metadata": {},
     "output_type": "execute_result"
    }
   ],
   "source": [
    "# Rodaremos os modelos com variáveis explicativas definidas no título do notebook.\n",
    "\n",
    "expl = explicativas[[ 'dias',  'soma_payment',  'le_product_id', 'le_seller_id', 'le_product_category_name',  'PIB', 'AR_MUN_2018', 'gini', 'qtde_credit_card', 'qtde_debit_card', 'qtde_voucher', 'qtde_installments', 'le_sigla_state', 'le_seller_sigla_state']]\n",
    "\n",
    "expl.head()\n"
   ]
  },
  {
   "cell_type": "code",
   "execution_count": 67,
   "metadata": {},
   "outputs": [
    {
     "name": "stdout",
     "output_type": "stream",
     "text": [
      "<class 'pandas.core.frame.DataFrame'>\n",
      "RangeIndex: 92935 entries, 0 to 92934\n",
      "Data columns (total 14 columns):\n",
      " #   Column                    Non-Null Count  Dtype  \n",
      "---  ------                    --------------  -----  \n",
      " 0   dias                      92935 non-null  float64\n",
      " 1   soma_payment              92935 non-null  float64\n",
      " 2   le_product_id             92935 non-null  float64\n",
      " 3   le_seller_id              92935 non-null  float64\n",
      " 4   le_product_category_name  92935 non-null  float64\n",
      " 5   PIB                       92935 non-null  float64\n",
      " 6   AR_MUN_2018               92935 non-null  float64\n",
      " 7   gini                      92935 non-null  float64\n",
      " 8   qtde_credit_card          92935 non-null  float64\n",
      " 9   qtde_debit_card           92935 non-null  float64\n",
      " 10  qtde_voucher              92935 non-null  float64\n",
      " 11  qtde_installments         92935 non-null  float64\n",
      " 12  le_sigla_state            92935 non-null  float64\n",
      " 13  le_seller_sigla_state     92935 non-null  float64\n",
      "dtypes: float64(14)\n",
      "memory usage: 9.9 MB\n"
     ]
    }
   ],
   "source": [
    "expl.info()"
   ]
  },
  {
   "cell_type": "markdown",
   "metadata": {},
   "source": [
    "# Separação em treino e teste"
   ]
  },
  {
   "cell_type": "code",
   "execution_count": 68,
   "metadata": {},
   "outputs": [],
   "source": [
    "from sklearn.model_selection import train_test_split \n",
    "x_treino, x_teste, y_treino, y_teste = train_test_split(expl,\n",
    "                                                       target,\n",
    "                                                       test_size=0.3,\n",
    "                                                       random_state=196)"
   ]
  },
  {
   "cell_type": "markdown",
   "metadata": {},
   "source": [
    "## Random Forest"
   ]
  },
  {
   "cell_type": "code",
   "execution_count": 69,
   "metadata": {},
   "outputs": [],
   "source": [
    "#1 - definir um dict(dicionario com os valores dos hiperparams)\n",
    "\n",
    "rf_dict = {                            # nome do dicionário que está sendo criado.\n",
    "    'n_estimators':[50,100,200,300,800,1000],   # numero de estimadores que será testado. Quanto maior, mais exige poder computacional.\n",
    "    'criterion':['gini', 'entropy'],   #  critérios\n",
    "    'bootstrap':[False, True],  # Faz amostragem com e sem reposição.\n",
    "    'random_state': [196]\n",
    "}"
   ]
  },
  {
   "cell_type": "code",
   "execution_count": 70,
   "metadata": {},
   "outputs": [
    {
     "data": {
      "text/plain": [
       "{'n_estimators': [50, 100, 200, 300, 800, 1000],\n",
       " 'criterion': ['gini', 'entropy'],\n",
       " 'bootstrap': [False, True],\n",
       " 'random_state': [196]}"
      ]
     },
     "execution_count": 70,
     "metadata": {},
     "output_type": "execute_result"
    }
   ],
   "source": [
    "rf_dict"
   ]
  },
  {
   "cell_type": "code",
   "execution_count": 71,
   "metadata": {},
   "outputs": [],
   "source": [
    "#2 - chamar o modulo de tunning\n",
    "from sklearn.ensemble import RandomForestClassifier\n",
    "rf = RandomForestClassifier(random_state=42)"
   ]
  },
  {
   "cell_type": "code",
   "execution_count": 72,
   "metadata": {},
   "outputs": [],
   "source": [
    "#3 - chamar obj do tunning\n",
    "from sklearn.model_selection import GridSearchCV\n",
    "rf_grid = GridSearchCV(estimator=rf,       # parametro a ser utilizado. No caso, random forest\n",
    "                      param_grid=rf_dict,  # nome do dicionario com parametros\n",
    "                      scoring='accuracy',  # parametro de validação: acurácia\n",
    "                      cv=10)               # numero de partições do conjunto de treino a ser feita na validação cruzada (k-fold)"
   ]
  },
  {
   "cell_type": "code",
   "execution_count": 73,
   "metadata": {},
   "outputs": [
    {
     "data": {
      "text/plain": [
       "GridSearchCV(cv=10, estimator=RandomForestClassifier(random_state=42),\n",
       "             param_grid={'bootstrap': [False, True],\n",
       "                         'criterion': ['gini', 'entropy'],\n",
       "                         'n_estimators': [50, 100, 200, 300, 800, 1000],\n",
       "                         'random_state': [196]},\n",
       "             scoring='accuracy')"
      ]
     },
     "execution_count": 73,
     "metadata": {},
     "output_type": "execute_result"
    }
   ],
   "source": [
    "rf_grid"
   ]
  },
  {
   "cell_type": "code",
   "execution_count": 74,
   "metadata": {},
   "outputs": [
    {
     "data": {
      "text/plain": [
       "GridSearchCV(cv=10, estimator=RandomForestClassifier(random_state=42),\n",
       "             param_grid={'bootstrap': [False, True],\n",
       "                         'criterion': ['gini', 'entropy'],\n",
       "                         'n_estimators': [50, 100, 200, 300, 800, 1000],\n",
       "                         'random_state': [196]},\n",
       "             scoring='accuracy')"
      ]
     },
     "execution_count": 74,
     "metadata": {},
     "output_type": "execute_result"
    }
   ],
   "source": [
    "#4  - treinamento\n",
    "rf_grid.fit(x_treino, y_treino)"
   ]
  },
  {
   "cell_type": "code",
   "execution_count": 75,
   "metadata": {},
   "outputs": [
    {
     "data": {
      "text/plain": [
       "{'bootstrap': True,\n",
       " 'criterion': 'entropy',\n",
       " 'n_estimators': 1000,\n",
       " 'random_state': 196}"
      ]
     },
     "execution_count": 75,
     "metadata": {},
     "output_type": "execute_result"
    }
   ],
   "source": [
    "#5  - avaliar os resultados\n",
    "rf_grid.best_params_"
   ]
  },
  {
   "cell_type": "code",
   "execution_count": 76,
   "metadata": {},
   "outputs": [
    {
     "data": {
      "text/plain": [
       "0.813032302943679"
      ]
     },
     "execution_count": 76,
     "metadata": {},
     "output_type": "execute_result"
    }
   ],
   "source": [
    "rf_grid.best_score_"
   ]
  },
  {
   "cell_type": "markdown",
   "metadata": {},
   "source": [
    "##  Importação da biblioteca - cálculo da acurácia"
   ]
  },
  {
   "cell_type": "code",
   "execution_count": 77,
   "metadata": {},
   "outputs": [],
   "source": [
    "from sklearn.metrics import accuracy_score"
   ]
  },
  {
   "cell_type": "markdown",
   "metadata": {},
   "source": [
    "## Acurácia de treino - para modelo Random Forest"
   ]
  },
  {
   "cell_type": "code",
   "execution_count": 78,
   "metadata": {},
   "outputs": [
    {
     "data": {
      "text/plain": [
       "0.813032302943679"
      ]
     },
     "execution_count": 78,
     "metadata": {},
     "output_type": "execute_result"
    }
   ],
   "source": [
    "rf_grid.best_score_"
   ]
  },
  {
   "cell_type": "code",
   "execution_count": 79,
   "metadata": {},
   "outputs": [
    {
     "data": {
      "text/plain": [
       "1.0"
      ]
     },
     "execution_count": 79,
     "metadata": {},
     "output_type": "execute_result"
    }
   ],
   "source": [
    "acc_rf_treino = accuracy_score(y_treino, \n",
    "                              rf_grid.predict( # este é o objeto do grid, já com os melhores parametros\n",
    "                                  x_treino))\n",
    "acc_rf_treino"
   ]
  },
  {
   "cell_type": "markdown",
   "metadata": {},
   "source": [
    "##  Acurácia de teste - para modelo Random Forest"
   ]
  },
  {
   "cell_type": "code",
   "execution_count": 80,
   "metadata": {},
   "outputs": [
    {
     "data": {
      "text/plain": [
       "0.8105161220903124"
      ]
     },
     "execution_count": 80,
     "metadata": {},
     "output_type": "execute_result"
    }
   ],
   "source": [
    "acc_rf_teste = accuracy_score(y_teste, \n",
    "                              rf_grid.predict( # este é o objeto do grid, já com os melhores parametros\n",
    "                                  x_teste))\n",
    "acc_rf_teste"
   ]
  },
  {
   "cell_type": "markdown",
   "metadata": {},
   "source": [
    "##  Classification report - para modelo Random Forest"
   ]
  },
  {
   "cell_type": "code",
   "execution_count": 81,
   "metadata": {},
   "outputs": [],
   "source": [
    "from sklearn.metrics import classification_report"
   ]
  },
  {
   "cell_type": "code",
   "execution_count": 82,
   "metadata": {},
   "outputs": [
    {
     "name": "stdout",
     "output_type": "stream",
     "text": [
      "              precision    recall  f1-score   support\n",
      "\n",
      "           0       1.00      1.00      1.00     13907\n",
      "           1       1.00      1.00      1.00     51147\n",
      "\n",
      "    accuracy                           1.00     65054\n",
      "   macro avg       1.00      1.00      1.00     65054\n",
      "weighted avg       1.00      1.00      1.00     65054\n",
      "\n"
     ]
    }
   ],
   "source": [
    "print(classification_report(y_treino,rf_grid.predict(x_treino)))"
   ]
  },
  {
   "cell_type": "code",
   "execution_count": 83,
   "metadata": {},
   "outputs": [
    {
     "name": "stdout",
     "output_type": "stream",
     "text": [
      "              precision    recall  f1-score   support\n",
      "\n",
      "           0       0.70      0.20      0.31      5961\n",
      "           1       0.82      0.98      0.89     21920\n",
      "\n",
      "    accuracy                           0.81     27881\n",
      "   macro avg       0.76      0.59      0.60     27881\n",
      "weighted avg       0.79      0.81      0.77     27881\n",
      "\n",
      "A acurácia da previsão é  0.8105161220903124\n"
     ]
    }
   ],
   "source": [
    "print(classification_report(y_teste,rf_grid.predict(x_teste)))\n",
    "print (\"A acurácia da previsão é \", accuracy_score(y_teste,rf_grid.predict(x_teste)))"
   ]
  },
  {
   "cell_type": "code",
   "execution_count": 84,
   "metadata": {},
   "outputs": [],
   "source": [
    "#matriz de confusão\n",
    "from sklearn import metrics\n",
    "cnf_matrix =  metrics.confusion_matrix(y_teste, rf_grid.predict(x_teste))"
   ]
  },
  {
   "cell_type": "code",
   "execution_count": 85,
   "metadata": {},
   "outputs": [],
   "source": [
    "#matriz de confusão\n",
    "import itertools\n",
    "from matplotlib import pyplot as plt\n",
    "def plot_confusion_matrix(cm, classes,\n",
    "                          normalize=False,\n",
    "                          title='Confusion matrix',\n",
    "                          cmap=plt.cm.Blues):\n",
    "    \"\"\"\n",
    "    This function prints and plots the confusion matrix.\n",
    "    Normalization can be applied by setting `normalize=True`.\n",
    "    \"\"\"\n",
    "    if normalize:\n",
    "        cm = cm.astype('float') / cm.sum(axis=1)[:, np.newaxis]\n",
    "\n",
    "    plt.imshow(cm, interpolation='nearest', cmap=cmap)\n",
    "    plt.title(title)\n",
    "    plt.colorbar()\n",
    "    tick_marks = np.arange(len(classes))\n",
    "    plt.xticks(tick_marks, classes, rotation=45)\n",
    "    plt.yticks(tick_marks, classes)\n",
    "\n",
    "    fmt = '.2f' if normalize else 'd'\n",
    "    thresh = cm.max() / 2.\n",
    "    for i, j in itertools.product(range(cm.shape[0]), range(cm.shape[1])):\n",
    "        plt.text(j, i, format(cm[i, j], fmt),\n",
    "                 horizontalalignment=\"center\",\n",
    "                 color=\"red\" if cm[i, j] > thresh else \"black\")\n",
    "\n",
    "    plt.ylabel('True label')\n",
    "    plt.xlabel('Predicted label')\n",
    "    plt.tight_layout()\n"
   ]
  },
  {
   "cell_type": "code",
   "execution_count": 86,
   "metadata": {},
   "outputs": [
    {
     "data": {
      "image/png": "[encoded data removed]",
      "text/plain": [
       "<Figure size 432x288 with 2 Axes>"
      ]
     },
     "metadata": {
      "needs_background": "light"
     },
     "output_type": "display_data"
    }
   ],
   "source": [
    "#visualizando a matriz de confusão\n",
    "plot_confusion_matrix(cnf_matrix,classes =['0', '1'],\n",
    "                      title='Matriz de confusão não normalizada classe 1', normalize=False)"
   ]
  },
  {
   "cell_type": "code",
   "execution_count": 87,
   "metadata": {},
   "outputs": [],
   "source": [
    "tn = cnf_matrix[0,0]\n",
    "tp = cnf_matrix[1,1]\n",
    "fn = cnf_matrix[1,0] \n",
    "fp = cnf_matrix[0,1]\n",
    "recall = tp/(tp+fn)\n",
    "precisão = tp/(tp+fp)\n",
    "accuracy = (tp+tn)/(tp+tn+fp+fn)"
   ]
  },
  {
   "cell_type": "code",
   "execution_count": 88,
   "metadata": {},
   "outputs": [
    {
     "name": "stdout",
     "output_type": "stream",
     "text": [
      "0.9773722627737226\n",
      "0.8173667544160849\n",
      "0.8105161220903124\n"
     ]
    }
   ],
   "source": [
    "print (recall)\n",
    "print (precisão)\n",
    "print (accuracy)"
   ]
  },
  {
   "cell_type": "code",
   "execution_count": 89,
   "metadata": {},
   "outputs": [
    {
     "data": {
      "image/png": "[encoded data removed]",
      "text/plain": [
       "<Figure size 432x288 with 2 Axes>"
      ]
     },
     "metadata": {
      "needs_background": "light"
     },
     "output_type": "display_data"
    }
   ],
   "source": [
    "#visualizando a matriz de confusão\n",
    "plot_confusion_matrix(cnf_matrix,classes =['1', '0'],\n",
    "                      title='Matriz confusão ñ normalizada classe 0', normalize=False)"
   ]
  },
  {
   "cell_type": "code",
   "execution_count": 90,
   "metadata": {},
   "outputs": [],
   "source": [
    "tn = cnf_matrix[1,1]\n",
    "tp = cnf_matrix[0,0]\n",
    "fn = cnf_matrix[0,1] \n",
    "fp = cnf_matrix[1,0]\n",
    "recall = tp/(tp+fn)\n",
    "precisão = tp/(tp+fp)\n",
    "accuracy = (tp+tn)/(tp+tn+fp+fn)"
   ]
  },
  {
   "cell_type": "markdown",
   "metadata": {},
   "source": [
    "### Complementação Mário - Matriz de Confusão, Sensibilidade, Especificidade e Feature_importances"
   ]
  },
  {
   "cell_type": "code",
   "execution_count": 91,
   "metadata": {},
   "outputs": [],
   "source": [
    "from sklearn.metrics import accuracy_score\n",
    "from sklearn.metrics import confusion_matrix"
   ]
  },
  {
   "cell_type": "code",
   "execution_count": 92,
   "metadata": {},
   "outputs": [
    {
     "data": {
      "text/plain": [
       "array([[ 1174,  4787],\n",
       "       [  496, 21424]], dtype=int64)"
      ]
     },
     "execution_count": 92,
     "metadata": {},
     "output_type": "execute_result"
    }
   ],
   "source": [
    "cm1 = confusion_matrix(y_true= y_teste,\n",
    "                       y_pred= rf_grid.predict(x_teste))\n",
    "cm1"
   ]
  },
  {
   "cell_type": "code",
   "execution_count": 93,
   "metadata": {},
   "outputs": [],
   "source": [
    "sensitivity1 = cm1[0,0]/(cm1[0,0]+cm1[0,1])\n",
    "\n",
    "specificity1 = cm1[1,1]/(cm1[1,0]+cm1[1,1])"
   ]
  },
  {
   "cell_type": "code",
   "execution_count": 94,
   "metadata": {},
   "outputs": [
    {
     "name": "stdout",
     "output_type": "stream",
     "text": [
      "Random Forest\n",
      "===================================================\n",
      "O  recall  da  classe  0  é   : 0.20 \n",
      "A  precisão  da classe 0  é   : 0.70 \n",
      "A  ACURÁCIA DA  PREVISÃO   é  : 0.81 \n",
      "A sensitibilidade da classe 0 : 0.20\n",
      "A especificidade da classe 0  : 0.98\n"
     ]
    }
   ],
   "source": [
    "print('Random Forest')\n",
    "print('===================================================')\n",
    "print('O  recall  da  classe  0  é   : %.2f ' % recall)\n",
    "print ('A  precisão  da classe 0  é   : %.2f '% precisão)\n",
    "print ('A  ACURÁCIA DA  PREVISÃO   é  : %.2f '% accuracy)\n",
    "print('A sensitibilidade da classe 0 : %.2f'% sensitivity1 )\n",
    "print('A especificidade da classe 0  : %.2f'% specificity1)"
   ]
  },
  {
   "cell_type": "code",
   "execution_count": 95,
   "metadata": {},
   "outputs": [
    {
     "data": {
      "text/plain": [
       "array([0.22685885, 0.13017056, 0.12398463, 0.10852616, 0.07508467,\n",
       "       0.07160865, 0.06965341, 0.06906847, 0.0137849 , 0.00264288,\n",
       "       0.00748829, 0.04429665, 0.03537709, 0.02145478])"
      ]
     },
     "execution_count": 95,
     "metadata": {},
     "output_type": "execute_result"
    }
   ],
   "source": [
    "rf_grid.best_estimator_.feature_importances_"
   ]
  },
  {
   "cell_type": "code",
   "execution_count": 96,
   "metadata": {},
   "outputs": [],
   "source": [
    "a=pd.concat([pd.Series(x_teste.columns), pd.Series(rf_grid.best_estimator_.feature_importances_)], axis=1)"
   ]
  },
  {
   "cell_type": "code",
   "execution_count": 97,
   "metadata": {},
   "outputs": [
    {
     "name": "stdout",
     "output_type": "stream",
     "text": [
      "Random Forest Feature Importance\n"
     ]
    },
    {
     "data": {
      "text/html": [
       "<div>\n",
       "<style scoped>\n",
       "    .dataframe tbody tr th:only-of-type {\n",
       "        vertical-align: middle;\n",
       "    }\n",
       "\n",
       "    .dataframe tbody tr th {\n",
       "        vertical-align: top;\n",
       "    }\n",
       "\n",
       "    .dataframe thead th {\n",
       "        text-align: right;\n",
       "    }\n",
       "</style>\n",
       "<table border=\"1\" class=\"dataframe\">\n",
       "  <thead>\n",
       "    <tr style=\"text-align: right;\">\n",
       "      <th></th>\n",
       "      <th>0</th>\n",
       "      <th>1</th>\n",
       "    </tr>\n",
       "  </thead>\n",
       "  <tbody>\n",
       "    <tr>\n",
       "      <th>0</th>\n",
       "      <td>dias</td>\n",
       "      <td>0.23</td>\n",
       "    </tr>\n",
       "    <tr>\n",
       "      <th>1</th>\n",
       "      <td>soma_payment</td>\n",
       "      <td>0.13</td>\n",
       "    </tr>\n",
       "    <tr>\n",
       "      <th>2</th>\n",
       "      <td>le_product_id</td>\n",
       "      <td>0.12</td>\n",
       "    </tr>\n",
       "    <tr>\n",
       "      <th>3</th>\n",
       "      <td>le_seller_id</td>\n",
       "      <td>0.11</td>\n",
       "    </tr>\n",
       "    <tr>\n",
       "      <th>4</th>\n",
       "      <td>le_product_category_name</td>\n",
       "      <td>0.08</td>\n",
       "    </tr>\n",
       "    <tr>\n",
       "      <th>5</th>\n",
       "      <td>PIB</td>\n",
       "      <td>0.07</td>\n",
       "    </tr>\n",
       "    <tr>\n",
       "      <th>6</th>\n",
       "      <td>AR_MUN_2018</td>\n",
       "      <td>0.07</td>\n",
       "    </tr>\n",
       "    <tr>\n",
       "      <th>7</th>\n",
       "      <td>gini</td>\n",
       "      <td>0.07</td>\n",
       "    </tr>\n",
       "    <tr>\n",
       "      <th>11</th>\n",
       "      <td>qtde_installments</td>\n",
       "      <td>0.04</td>\n",
       "    </tr>\n",
       "    <tr>\n",
       "      <th>12</th>\n",
       "      <td>le_sigla_state</td>\n",
       "      <td>0.04</td>\n",
       "    </tr>\n",
       "    <tr>\n",
       "      <th>13</th>\n",
       "      <td>le_seller_sigla_state</td>\n",
       "      <td>0.02</td>\n",
       "    </tr>\n",
       "    <tr>\n",
       "      <th>8</th>\n",
       "      <td>qtde_credit_card</td>\n",
       "      <td>0.01</td>\n",
       "    </tr>\n",
       "    <tr>\n",
       "      <th>10</th>\n",
       "      <td>qtde_voucher</td>\n",
       "      <td>0.01</td>\n",
       "    </tr>\n",
       "    <tr>\n",
       "      <th>9</th>\n",
       "      <td>qtde_debit_card</td>\n",
       "      <td>0.00</td>\n",
       "    </tr>\n",
       "  </tbody>\n",
       "</table>\n",
       "</div>"
      ],
      "text/plain": [
       "                           0    1\n",
       "0                       dias 0.23\n",
       "1               soma_payment 0.13\n",
       "2              le_product_id 0.12\n",
       "3               le_seller_id 0.11\n",
       "4   le_product_category_name 0.08\n",
       "5                        PIB 0.07\n",
       "6                AR_MUN_2018 0.07\n",
       "7                       gini 0.07\n",
       "11         qtde_installments 0.04\n",
       "12            le_sigla_state 0.04\n",
       "13     le_seller_sigla_state 0.02\n",
       "8           qtde_credit_card 0.01\n",
       "10              qtde_voucher 0.01\n",
       "9            qtde_debit_card 0.00"
      ]
     },
     "execution_count": 97,
     "metadata": {},
     "output_type": "execute_result"
    }
   ],
   "source": [
    "print('Random Forest Feature Importance')\n",
    "a.sort_values(by=1, ascending=False)"
   ]
  },
  {
   "cell_type": "markdown",
   "metadata": {},
   "source": [
    "## USO DO SMOTE"
   ]
  },
  {
   "cell_type": "markdown",
   "metadata": {},
   "source": [
    "### SMOTE"
   ]
  },
  {
   "cell_type": "code",
   "execution_count": 98,
   "metadata": {},
   "outputs": [
    {
     "name": "stdout",
     "output_type": "stream",
     "text": [
      "Collecting imbalanced-learnNote: you may need to restart the kernel to use updated packages.\n",
      "\n",
      "  Using cached imbalanced_learn-0.8.0-py3-none-any.whl (206 kB)\n",
      "Requirement already satisfied: joblib>=0.11 in c:\\users\\gastao\\anaconda3\\lib\\site-packages (from imbalanced-learn) (0.17.0)\n",
      "Requirement already satisfied: scipy>=0.19.1 in c:\\users\\gastao\\anaconda3\\lib\\site-packages (from imbalanced-learn) (1.5.2)\n",
      "Requirement already satisfied: numpy>=1.13.3 in c:\\users\\gastao\\anaconda3\\lib\\site-packages (from imbalanced-learn) (1.19.2)\n",
      "Requirement already satisfied: scikit-learn>=0.24 in c:\\users\\gastao\\anaconda3\\lib\\site-packages (from imbalanced-learn) (0.24.2)\n",
      "Requirement already satisfied: threadpoolctl>=2.0.0 in c:\\users\\gastao\\anaconda3\\lib\\site-packages (from scikit-learn>=0.24->imbalanced-learn) (2.1.0)\n",
      "Installing collected packages: imbalanced-learn\n",
      "Successfully installed imbalanced-learn-0.8.0\n"
     ]
    }
   ],
   "source": [
    "pip install imbalanced-learn"
   ]
  },
  {
   "cell_type": "code",
   "execution_count": 99,
   "metadata": {},
   "outputs": [
    {
     "name": "stdout",
     "output_type": "stream",
     "text": [
      "Shape de expl antes do SMOTE: (92935, 14)\n",
      "Shape de expl após SMOTE: (146134, 14)\n",
      "\n",
      "Balance of positive and negative classes (%):\n"
     ]
    },
    {
     "data": {
      "text/plain": [
       "1   50.00\n",
       "0   50.00\n",
       "Name: humor, dtype: float64"
      ]
     },
     "execution_count": 99,
     "metadata": {},
     "output_type": "execute_result"
    }
   ],
   "source": [
    "from imblearn.over_sampling import SMOTE \n",
    "\n",
    "sm = SMOTE(random_state=42)\n",
    "\n",
    "expl_sm, target_sm = sm.fit_resample(expl, target)\n",
    "\n",
    "print(f'''Shape de expl antes do SMOTE: {expl.shape}\n",
    "Shape de expl após SMOTE: {expl_sm.shape}''')\n",
    "\n",
    "print('\\nBalance of positive and negative classes (%):')\n",
    "target_sm.value_counts(normalize=True) * 100"
   ]
  },
  {
   "cell_type": "markdown",
   "metadata": {},
   "source": [
    "## Treinamento e Teste da Base com Smote"
   ]
  },
  {
   "cell_type": "markdown",
   "metadata": {},
   "source": [
    "# Separação em treino e teste"
   ]
  },
  {
   "cell_type": "code",
   "execution_count": 100,
   "metadata": {},
   "outputs": [],
   "source": [
    "from sklearn.model_selection import train_test_split \n",
    "x_treino, x_teste, y_treino, y_teste = train_test_split(expl_sm,\n",
    "                                                       target_sm,\n",
    "                                                       test_size=0.3,\n",
    "                                                       random_state=196)"
   ]
  },
  {
   "cell_type": "markdown",
   "metadata": {},
   "source": [
    "## Random Forest"
   ]
  },
  {
   "cell_type": "code",
   "execution_count": 101,
   "metadata": {},
   "outputs": [],
   "source": [
    "#1 - definir um dict(dicionario com os valores dos hiperparams)\n",
    "\n",
    "rf_dict = {                            # nome do dicionário que está sendo criado.\n",
    "    'n_estimators':[50,100,200,300,800,1000],   # numero de estimadores que será testado. Quanto maior, mais exige poder computacional.\n",
    "    'criterion':['gini', 'entropy'],   #  critérios\n",
    "    'bootstrap':[False, True],  # Faz amostragem com e sem reposição.\n",
    "    'random_state': [196]\n",
    "}"
   ]
  },
  {
   "cell_type": "code",
   "execution_count": 102,
   "metadata": {},
   "outputs": [
    {
     "data": {
      "text/plain": [
       "{'n_estimators': [50, 100, 200, 300, 800, 1000],\n",
       " 'criterion': ['gini', 'entropy'],\n",
       " 'bootstrap': [False, True],\n",
       " 'random_state': [196]}"
      ]
     },
     "execution_count": 102,
     "metadata": {},
     "output_type": "execute_result"
    }
   ],
   "source": [
    "rf_dict"
   ]
  },
  {
   "cell_type": "code",
   "execution_count": 103,
   "metadata": {},
   "outputs": [],
   "source": [
    "#2 - chamar o modulo de tunning\n",
    "from sklearn.ensemble import RandomForestClassifier\n",
    "rf = RandomForestClassifier(random_state=42)"
   ]
  },
  {
   "cell_type": "code",
   "execution_count": 104,
   "metadata": {},
   "outputs": [],
   "source": [
    "#3 - chamar obj do tunning\n",
    "from sklearn.model_selection import GridSearchCV\n",
    "rf_grid = GridSearchCV(estimator=rf,       # parametro a ser utilizado. No caso, random forest\n",
    "                      param_grid=rf_dict,  # nome do dicionario com parametros\n",
    "                      scoring='accuracy',  # parametro de validação: acurácia\n",
    "                      cv=10)               # numero de partições do conjunto de treino a ser feita na validação cruzada (k-fold)"
   ]
  },
  {
   "cell_type": "code",
   "execution_count": 105,
   "metadata": {},
   "outputs": [
    {
     "data": {
      "text/plain": [
       "GridSearchCV(cv=10, estimator=RandomForestClassifier(random_state=42),\n",
       "             param_grid={'bootstrap': [False, True],\n",
       "                         'criterion': ['gini', 'entropy'],\n",
       "                         'n_estimators': [50, 100, 200, 300, 800, 1000],\n",
       "                         'random_state': [196]},\n",
       "             scoring='accuracy')"
      ]
     },
     "execution_count": 105,
     "metadata": {},
     "output_type": "execute_result"
    }
   ],
   "source": [
    "rf_grid"
   ]
  },
  {
   "cell_type": "code",
   "execution_count": 106,
   "metadata": {},
   "outputs": [
    {
     "data": {
      "text/plain": [
       "GridSearchCV(cv=10, estimator=RandomForestClassifier(random_state=42),\n",
       "             param_grid={'bootstrap': [False, True],\n",
       "                         'criterion': ['gini', 'entropy'],\n",
       "                         'n_estimators': [50, 100, 200, 300, 800, 1000],\n",
       "                         'random_state': [196]},\n",
       "             scoring='accuracy')"
      ]
     },
     "execution_count": 106,
     "metadata": {},
     "output_type": "execute_result"
    }
   ],
   "source": [
    "#4  - treinamento\n",
    "rf_grid.fit(x_treino, y_treino)"
   ]
  },
  {
   "cell_type": "code",
   "execution_count": 107,
   "metadata": {},
   "outputs": [
    {
     "data": {
      "text/plain": [
       "{'bootstrap': False,\n",
       " 'criterion': 'entropy',\n",
       " 'n_estimators': 1000,\n",
       " 'random_state': 196}"
      ]
     },
     "execution_count": 107,
     "metadata": {},
     "output_type": "execute_result"
    }
   ],
   "source": [
    "#5  - avaliar os resultados\n",
    "rf_grid.best_params_"
   ]
  },
  {
   "cell_type": "code",
   "execution_count": 108,
   "metadata": {},
   "outputs": [
    {
     "data": {
      "text/plain": [
       "0.8540565478690482"
      ]
     },
     "execution_count": 108,
     "metadata": {},
     "output_type": "execute_result"
    }
   ],
   "source": [
    "rf_grid.best_score_"
   ]
  },
  {
   "cell_type": "markdown",
   "metadata": {},
   "source": [
    "##  Importação da biblioteca - cálculo da acurácia"
   ]
  },
  {
   "cell_type": "code",
   "execution_count": 109,
   "metadata": {},
   "outputs": [],
   "source": [
    "from sklearn.metrics import accuracy_score"
   ]
  },
  {
   "cell_type": "markdown",
   "metadata": {},
   "source": [
    "## Acurácia de treino - para modelo Random Forest"
   ]
  },
  {
   "cell_type": "code",
   "execution_count": 110,
   "metadata": {},
   "outputs": [
    {
     "data": {
      "text/plain": [
       "0.8540565478690482"
      ]
     },
     "execution_count": 110,
     "metadata": {},
     "output_type": "execute_result"
    }
   ],
   "source": [
    "rf_grid.best_score_"
   ]
  },
  {
   "cell_type": "code",
   "execution_count": 111,
   "metadata": {},
   "outputs": [
    {
     "data": {
      "text/plain": [
       "1.0"
      ]
     },
     "execution_count": 111,
     "metadata": {},
     "output_type": "execute_result"
    }
   ],
   "source": [
    "acc_rf_treino = accuracy_score(y_treino, \n",
    "                              rf_grid.predict( # este é o objeto do grid, já com os melhores parametros\n",
    "                                  x_treino))\n",
    "acc_rf_treino"
   ]
  },
  {
   "cell_type": "markdown",
   "metadata": {},
   "source": [
    "##  Acurácia de teste - para modelo Random Forest"
   ]
  },
  {
   "cell_type": "code",
   "execution_count": 112,
   "metadata": {},
   "outputs": [
    {
     "data": {
      "text/plain": [
       "0.8524668689126617"
      ]
     },
     "execution_count": 112,
     "metadata": {},
     "output_type": "execute_result"
    }
   ],
   "source": [
    "acc_rf_teste = accuracy_score(y_teste, \n",
    "                              rf_grid.predict( # este é o objeto do grid, já com os melhores parametros\n",
    "                                  x_teste))\n",
    "acc_rf_teste"
   ]
  },
  {
   "cell_type": "markdown",
   "metadata": {},
   "source": [
    "##  Classification report - para modelo Random Forest"
   ]
  },
  {
   "cell_type": "code",
   "execution_count": 113,
   "metadata": {},
   "outputs": [],
   "source": [
    "from sklearn.metrics import classification_report"
   ]
  },
  {
   "cell_type": "code",
   "execution_count": 114,
   "metadata": {},
   "outputs": [
    {
     "name": "stdout",
     "output_type": "stream",
     "text": [
      "              precision    recall  f1-score   support\n",
      "\n",
      "           0       1.00      1.00      1.00     51018\n",
      "           1       1.00      1.00      1.00     51275\n",
      "\n",
      "    accuracy                           1.00    102293\n",
      "   macro avg       1.00      1.00      1.00    102293\n",
      "weighted avg       1.00      1.00      1.00    102293\n",
      "\n"
     ]
    }
   ],
   "source": [
    "print(classification_report(y_treino,rf_grid.predict(x_treino)))"
   ]
  },
  {
   "cell_type": "code",
   "execution_count": 115,
   "metadata": {},
   "outputs": [
    {
     "name": "stdout",
     "output_type": "stream",
     "text": [
      "              precision    recall  f1-score   support\n",
      "\n",
      "           0       0.90      0.80      0.84     22049\n",
      "           1       0.82      0.91      0.86     21792\n",
      "\n",
      "    accuracy                           0.85     43841\n",
      "   macro avg       0.86      0.85      0.85     43841\n",
      "weighted avg       0.86      0.85      0.85     43841\n",
      "\n",
      "A acurácia da previsão é  0.8524668689126617\n"
     ]
    }
   ],
   "source": [
    "print(classification_report(y_teste,rf_grid.predict(x_teste)))\n",
    "print (\"A acurácia da previsão é \", accuracy_score(y_teste,rf_grid.predict(x_teste)))"
   ]
  },
  {
   "cell_type": "code",
   "execution_count": 130,
   "metadata": {},
   "outputs": [
    {
     "data": {
      "text/plain": [
       "{'bootstrap': True,\n",
       " 'ccp_alpha': 0.0,\n",
       " 'class_weight': None,\n",
       " 'criterion': 'gini',\n",
       " 'max_depth': None,\n",
       " 'max_features': 'auto',\n",
       " 'max_leaf_nodes': None,\n",
       " 'max_samples': None,\n",
       " 'min_impurity_decrease': 0.0,\n",
       " 'min_impurity_split': None,\n",
       " 'min_samples_leaf': 1,\n",
       " 'min_samples_split': 2,\n",
       " 'min_weight_fraction_leaf': 0.0,\n",
       " 'n_estimators': 100,\n",
       " 'n_jobs': None,\n",
       " 'oob_score': False,\n",
       " 'random_state': 42,\n",
       " 'verbose': 0,\n",
       " 'warm_start': False}"
      ]
     },
     "execution_count": 130,
     "metadata": {},
     "output_type": "execute_result"
    }
   ],
   "source": [
    "rf.get_params()"
   ]
  },
  {
   "cell_type": "code",
   "execution_count": 116,
   "metadata": {},
   "outputs": [],
   "source": [
    "#matriz de confusão\n",
    "from sklearn import metrics\n",
    "cnf_matrix =  metrics.confusion_matrix(y_teste, rf_grid.predict(x_teste))"
   ]
  },
  {
   "cell_type": "code",
   "execution_count": 117,
   "metadata": {},
   "outputs": [],
   "source": [
    "#matriz de confusão\n",
    "import itertools\n",
    "from matplotlib import pyplot as plt\n",
    "def plot_confusion_matrix(cm, classes,\n",
    "                          normalize=False,\n",
    "                          title='Confusion matrix',\n",
    "                          cmap=plt.cm.Blues):\n",
    "    \"\"\"\n",
    "    This function prints and plots the confusion matrix.\n",
    "    Normalization can be applied by setting `normalize=True`.\n",
    "    \"\"\"\n",
    "    if normalize:\n",
    "        cm = cm.astype('float') / cm.sum(axis=1)[:, np.newaxis]\n",
    "\n",
    "    plt.imshow(cm, interpolation='nearest', cmap=cmap)\n",
    "    plt.title(title)\n",
    "    plt.colorbar()\n",
    "    tick_marks = np.arange(len(classes))\n",
    "    plt.xticks(tick_marks, classes, rotation=45)\n",
    "    plt.yticks(tick_marks, classes)\n",
    "\n",
    "    fmt = '.2f' if normalize else 'd'\n",
    "    thresh = cm.max() / 2.\n",
    "    for i, j in itertools.product(range(cm.shape[0]), range(cm.shape[1])):\n",
    "        plt.text(j, i, format(cm[i, j], fmt),\n",
    "                 horizontalalignment=\"center\",\n",
    "                 color=\"red\" if cm[i, j] > thresh else \"black\")\n",
    "\n",
    "    plt.ylabel('True label')\n",
    "    plt.xlabel('Predicted label')\n",
    "    plt.tight_layout()\n"
   ]
  },
  {
   "cell_type": "code",
   "execution_count": 118,
   "metadata": {},
   "outputs": [
    {
     "data": {
      "image/png": "[encoded data removed]",
      "text/plain": [
       "<Figure size 432x288 with 2 Axes>"
      ]
     },
     "metadata": {
      "needs_background": "light"
     },
     "output_type": "display_data"
    }
   ],
   "source": [
    "#visualizando a matriz de confusão\n",
    "plot_confusion_matrix(cnf_matrix,classes =['0', '1'],\n",
    "                      title='Matriz de confusão não normalizada classe 1', normalize=False)"
   ]
  },
  {
   "cell_type": "code",
   "execution_count": 119,
   "metadata": {},
   "outputs": [],
   "source": [
    "tn = cnf_matrix[0,0]\n",
    "tp = cnf_matrix[1,1]\n",
    "fn = cnf_matrix[1,0] \n",
    "fp = cnf_matrix[0,1]\n",
    "recall = tp/(tp+fn)\n",
    "precisão = tp/(tp+fp)\n",
    "accuracy = (tp+tn)/(tp+tn+fp+fn)"
   ]
  },
  {
   "cell_type": "code",
   "execution_count": 120,
   "metadata": {},
   "outputs": [
    {
     "name": "stdout",
     "output_type": "stream",
     "text": [
      "0.9064794419970631\n",
      "0.8168210387032749\n",
      "0.8524668689126617\n"
     ]
    }
   ],
   "source": [
    "print (recall)\n",
    "print (precisão)\n",
    "print (accuracy)"
   ]
  },
  {
   "cell_type": "code",
   "execution_count": 121,
   "metadata": {},
   "outputs": [
    {
     "data": {
      "image/png": "[encoded data removed]",
      "text/plain": [
       "<Figure size 432x288 with 2 Axes>"
      ]
     },
     "metadata": {
      "needs_background": "light"
     },
     "output_type": "display_data"
    }
   ],
   "source": [
    "#visualizando a matriz de confusão\n",
    "plot_confusion_matrix(cnf_matrix,classes =['1', '0'],\n",
    "                      title='Matriz confusão ñ normalizada classe 0', normalize=False)"
   ]
  },
  {
   "cell_type": "code",
   "execution_count": 122,
   "metadata": {},
   "outputs": [],
   "source": [
    "tn = cnf_matrix[1,1]\n",
    "tp = cnf_matrix[0,0]\n",
    "fn = cnf_matrix[0,1] \n",
    "fp = cnf_matrix[1,0]\n",
    "recall = tp/(tp+fn)\n",
    "precisão = tp/(tp+fp)\n",
    "accuracy = (tp+tn)/(tp+tn+fp+fn)"
   ]
  },
  {
   "cell_type": "markdown",
   "metadata": {},
   "source": [
    "### Complementação Mário - Matriz de Confusão, Sensibilidade, Especificidade e Feature_importances"
   ]
  },
  {
   "cell_type": "code",
   "execution_count": 123,
   "metadata": {},
   "outputs": [],
   "source": [
    "from sklearn.metrics import accuracy_score\n",
    "from sklearn.metrics import confusion_matrix"
   ]
  },
  {
   "cell_type": "code",
   "execution_count": 124,
   "metadata": {},
   "outputs": [
    {
     "data": {
      "text/plain": [
       "array([[17619,  4430],\n",
       "       [ 2038, 19754]], dtype=int64)"
      ]
     },
     "execution_count": 124,
     "metadata": {},
     "output_type": "execute_result"
    }
   ],
   "source": [
    "cm1 = confusion_matrix(y_true= y_teste,\n",
    "                       y_pred= rf_grid.predict(x_teste))\n",
    "cm1"
   ]
  },
  {
   "cell_type": "code",
   "execution_count": 125,
   "metadata": {},
   "outputs": [],
   "source": [
    "sensitivity1 = cm1[0,0]/(cm1[0,0]+cm1[0,1])\n",
    "\n",
    "specificity1 = cm1[1,1]/(cm1[1,0]+cm1[1,1])"
   ]
  },
  {
   "cell_type": "code",
   "execution_count": 126,
   "metadata": {},
   "outputs": [
    {
     "name": "stdout",
     "output_type": "stream",
     "text": [
      "Random Forest com SMOTE\n",
      "===================================================\n",
      "O  recall  da  classe  0  é   : 0.80 \n",
      "A  precisão  da classe 0  é   : 0.90 \n",
      "A  ACURÁCIA DA  PREVISÃO   é  : 0.85 \n",
      "A sensitibilidade da classe 0 : 0.80\n",
      "A especificidade da classe 0  : 0.91\n"
     ]
    }
   ],
   "source": [
    "print('Random Forest com SMOTE')\n",
    "print('===================================================')\n",
    "print('O  recall  da  classe  0  é   : %.2f ' % recall)\n",
    "print ('A  precisão  da classe 0  é   : %.2f '% precisão)\n",
    "print ('A  ACURÁCIA DA  PREVISÃO   é  : %.2f '% accuracy)\n",
    "print('A sensitibilidade da classe 0 : %.2f'% sensitivity1 )\n",
    "print('A especificidade da classe 0  : %.2f'% specificity1)"
   ]
  },
  {
   "cell_type": "code",
   "execution_count": 127,
   "metadata": {},
   "outputs": [
    {
     "data": {
      "text/plain": [
       "array([0.17706392, 0.10228219, 0.10312248, 0.09854949, 0.09249433,\n",
       "       0.07489174, 0.06616864, 0.06466677, 0.00796016, 0.00197934,\n",
       "       0.01646512, 0.104295  , 0.05224466, 0.03781616])"
      ]
     },
     "execution_count": 127,
     "metadata": {},
     "output_type": "execute_result"
    }
   ],
   "source": [
    "rf_grid.best_estimator_.feature_importances_"
   ]
  },
  {
   "cell_type": "code",
   "execution_count": 128,
   "metadata": {},
   "outputs": [],
   "source": [
    "a=pd.concat([pd.Series(x_teste.columns), pd.Series(rf_grid.best_estimator_.feature_importances_)], axis=1)"
   ]
  },
  {
   "cell_type": "code",
   "execution_count": 129,
   "metadata": {},
   "outputs": [
    {
     "name": "stdout",
     "output_type": "stream",
     "text": [
      "Random Forest Feature Importance com SMOTE\n"
     ]
    },
    {
     "data": {
      "text/html": [
       "<div>\n",
       "<style scoped>\n",
       "    .dataframe tbody tr th:only-of-type {\n",
       "        vertical-align: middle;\n",
       "    }\n",
       "\n",
       "    .dataframe tbody tr th {\n",
       "        vertical-align: top;\n",
       "    }\n",
       "\n",
       "    .dataframe thead th {\n",
       "        text-align: right;\n",
       "    }\n",
       "</style>\n",
       "<table border=\"1\" class=\"dataframe\">\n",
       "  <thead>\n",
       "    <tr style=\"text-align: right;\">\n",
       "      <th></th>\n",
       "      <th>0</th>\n",
       "      <th>1</th>\n",
       "    </tr>\n",
       "  </thead>\n",
       "  <tbody>\n",
       "    <tr>\n",
       "      <th>0</th>\n",
       "      <td>dias</td>\n",
       "      <td>0.18</td>\n",
       "    </tr>\n",
       "    <tr>\n",
       "      <th>11</th>\n",
       "      <td>qtde_installments</td>\n",
       "      <td>0.10</td>\n",
       "    </tr>\n",
       "    <tr>\n",
       "      <th>2</th>\n",
       "      <td>le_product_id</td>\n",
       "      <td>0.10</td>\n",
       "    </tr>\n",
       "    <tr>\n",
       "      <th>1</th>\n",
       "      <td>soma_payment</td>\n",
       "      <td>0.10</td>\n",
       "    </tr>\n",
       "    <tr>\n",
       "      <th>3</th>\n",
       "      <td>le_seller_id</td>\n",
       "      <td>0.10</td>\n",
       "    </tr>\n",
       "    <tr>\n",
       "      <th>4</th>\n",
       "      <td>le_product_category_name</td>\n",
       "      <td>0.09</td>\n",
       "    </tr>\n",
       "    <tr>\n",
       "      <th>5</th>\n",
       "      <td>PIB</td>\n",
       "      <td>0.07</td>\n",
       "    </tr>\n",
       "    <tr>\n",
       "      <th>6</th>\n",
       "      <td>AR_MUN_2018</td>\n",
       "      <td>0.07</td>\n",
       "    </tr>\n",
       "    <tr>\n",
       "      <th>7</th>\n",
       "      <td>gini</td>\n",
       "      <td>0.06</td>\n",
       "    </tr>\n",
       "    <tr>\n",
       "      <th>12</th>\n",
       "      <td>le_sigla_state</td>\n",
       "      <td>0.05</td>\n",
       "    </tr>\n",
       "    <tr>\n",
       "      <th>13</th>\n",
       "      <td>le_seller_sigla_state</td>\n",
       "      <td>0.04</td>\n",
       "    </tr>\n",
       "    <tr>\n",
       "      <th>10</th>\n",
       "      <td>qtde_voucher</td>\n",
       "      <td>0.02</td>\n",
       "    </tr>\n",
       "    <tr>\n",
       "      <th>8</th>\n",
       "      <td>qtde_credit_card</td>\n",
       "      <td>0.01</td>\n",
       "    </tr>\n",
       "    <tr>\n",
       "      <th>9</th>\n",
       "      <td>qtde_debit_card</td>\n",
       "      <td>0.00</td>\n",
       "    </tr>\n",
       "  </tbody>\n",
       "</table>\n",
       "</div>"
      ],
      "text/plain": [
       "                           0    1\n",
       "0                       dias 0.18\n",
       "11         qtde_installments 0.10\n",
       "2              le_product_id 0.10\n",
       "1               soma_payment 0.10\n",
       "3               le_seller_id 0.10\n",
       "4   le_product_category_name 0.09\n",
       "5                        PIB 0.07\n",
       "6                AR_MUN_2018 0.07\n",
       "7                       gini 0.06\n",
       "12            le_sigla_state 0.05\n",
       "13     le_seller_sigla_state 0.04\n",
       "10              qtde_voucher 0.02\n",
       "8           qtde_credit_card 0.01\n",
       "9            qtde_debit_card 0.00"
      ]
     },
     "execution_count": 129,
     "metadata": {},
     "output_type": "execute_result"
    }
   ],
   "source": [
    "print('Random Forest Feature Importance com SMOTE')\n",
    "a.sort_values(by=1, ascending=False)"
   ]
  }
 ],
 "metadata": {
  "kernelspec": {
   "display_name": "Python 3",
   "language": "python",
   "name": "python3"
  },
  "language_info": {
   "codemirror_mode": {
    "name": "ipython",
    "version": 3
   },
   "file_extension": ".py",
   "mimetype": "text/x-python",
   "name": "python",
   "nbconvert_exporter": "python",
   "pygments_lexer": "ipython3",
   "version": "3.7.3"
  }
 },
 "nbformat": 4,
 "nbformat_minor": 2
}
